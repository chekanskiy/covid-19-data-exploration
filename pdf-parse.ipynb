{
 "cells": [
  {
   "cell_type": "code",
   "execution_count": 186,
   "metadata": {},
   "outputs": [],
   "source": [
    "import pdfquery\n",
    "import datetime\n",
    "import pandas as pd"
   ]
  },
  {
   "cell_type": "code",
   "execution_count": 514,
   "metadata": {},
   "outputs": [],
   "source": [
    "def extract_text(l):\n",
    "    return \"\".join([k for k in l if not k.isdigit() and not k in [\".\", \",\", \"+\"]]).rstrip()\n",
    "def extract_numbers(l, el=None):\n",
    "#     lis = \"\".join([k for k in l if k.isdigit() or k in [\" \"]]).lstrip().rstrip().split(\" \")\n",
    "#     print(lis)\n",
    "#     print([m for m in lis if len(m) > 0])\n",
    "    result = [int(m) for m in \"\".join([k for k in l if k.isdigit() or k in [\" \"]]).lstrip().rstrip().split(\" \") if len(m) > 0]\n",
    "    if len(result) < 4:\n",
    "        result += [0]*(4-len(result))\n",
    "    if el is None:\n",
    "        return result\n",
    "    else:\n",
    "        return result[el]\n",
    "def count_numbers(l):\n",
    "    c = 0\n",
    "    try:\n",
    "        c += sum([1 for k in l if k.isdigit()])\n",
    "        return c\n",
    "    except:\n",
    "        return c\n",
    "def extract_number(l):\n",
    "    result = \"\".join([k for k in l.values[0] if k.isdigit()]).lstrip().rstrip()\n",
    "    if len(result) > 0:\n",
    "        return int(result)\n",
    "    else:\n",
    "        return 0\n",
    "# df.loc[:, ['confirmed']].apply(extract_number, axis=1)"
   ]
  },
  {
   "cell_type": "code",
   "execution_count": 515,
   "metadata": {},
   "outputs": [],
   "source": [
    "def load_pdf(date, path=\"data/RKI-reports/{0}-{1}.pdf\", lang=\"en\"):\n",
    "    from tabula import read_pdf\n",
    "    path = path.format(date, lang)\n",
    "    print(path)\n",
    "    df = read_pdf(path, pages=[2])\n",
    "    df = df[0].iloc[4:]\n",
    "    try:\n",
    "        df.columns = ['data']\n",
    "        df['c'] = df.loc[:, 'data'].apply(count_numbers)\n",
    "        df = df[df.c != 0]\n",
    "    \n",
    "        df['land'] = df.loc[:, 'data'].apply(extract_text)\n",
    "        df['confirmed'] = df.loc[:, 'data'].apply(extract_numbers, args=[0])\n",
    "        df['daily'] = df.loc[:, 'data'].apply(extract_numbers, args=[1])\n",
    "        df['per_mil'] = df.loc[:, 'data'].apply(extract_numbers, args=[2])\n",
    "        df['dead'] = df.loc[:, 'data'].apply(extract_numbers, args=[3])\n",
    "    except:\n",
    "        if len(df.columns) == 4:\n",
    "            df.columns = ['land', 'confirmed', 'daily', 'dead']\n",
    "            df['per_mil'] = 0\n",
    "            df = df.loc[:, ['land', 'confirmed', 'daily', 'per_mil', 'dead']]\n",
    "        elif len(df.columns) == 5:\n",
    "            df.columns = ['land', 'confirmed', 'daily', 'per_mil', 'dead']\n",
    "        else:\n",
    "            print(df)\n",
    "            raise Exception\n",
    "        df['c'] = df.loc[:, 'confirmed'].apply(count_numbers)\n",
    "        df = df[df.c != 0]\n",
    "        df.loc[:,['confirmed']] = df.loc[:,['confirmed']].apply(extract_number, axis=1)\n",
    "        df.loc[:,['daily']] = df.loc[:,['daily']].apply(extract_number, axis=1)\n",
    "        df.loc[:,['dead']] = df.loc[:,['dead']].apply(extract_number, axis=1)\n",
    "    df = df[~df.land.str.contains('cases')]\n",
    "    df = df[df.land != 'Total']\n",
    "    try:\n",
    "        df['date'] = datetime.datetime.strptime(date, \"%Y-%m-%d\")\n",
    "    except:\n",
    "        df['date'] = date\n",
    "    return df"
   ]
  },
  {
   "cell_type": "markdown",
   "metadata": {},
   "source": [
    "# Test Load"
   ]
  },
  {
   "cell_type": "code",
   "execution_count": 551,
   "metadata": {},
   "outputs": [
    {
     "name": "stdout",
     "output_type": "stream",
     "text": [
      "data/RKI-reports/2020-04-18-en.pdf\n"
     ]
    },
    {
     "data": {
      "text/html": [
       "<div>\n",
       "<style scoped>\n",
       "    .dataframe tbody tr th:only-of-type {\n",
       "        vertical-align: middle;\n",
       "    }\n",
       "\n",
       "    .dataframe tbody tr th {\n",
       "        vertical-align: top;\n",
       "    }\n",
       "\n",
       "    .dataframe thead th {\n",
       "        text-align: right;\n",
       "    }\n",
       "</style>\n",
       "<table border=\"1\" class=\"dataframe\">\n",
       "  <thead>\n",
       "    <tr style=\"text-align: right;\">\n",
       "      <th></th>\n",
       "      <th>data</th>\n",
       "      <th>c</th>\n",
       "      <th>land</th>\n",
       "      <th>confirmed</th>\n",
       "      <th>daily</th>\n",
       "      <th>per_mil</th>\n",
       "      <th>dead</th>\n",
       "      <th>date</th>\n",
       "    </tr>\n",
       "  </thead>\n",
       "  <tbody>\n",
       "    <tr>\n",
       "      <th>4</th>\n",
       "      <td>Baden-Wuerttemberg 27,258 715 246 919</td>\n",
       "      <td>14</td>\n",
       "      <td>Baden-Wuerttemberg</td>\n",
       "      <td>27258</td>\n",
       "      <td>715</td>\n",
       "      <td>246</td>\n",
       "      <td>919</td>\n",
       "      <td>2020-04-18</td>\n",
       "    </tr>\n",
       "    <tr>\n",
       "      <th>5</th>\n",
       "      <td>Bavaria 36,881 854 282 1,198</td>\n",
       "      <td>15</td>\n",
       "      <td>Bavaria</td>\n",
       "      <td>36881</td>\n",
       "      <td>854</td>\n",
       "      <td>282</td>\n",
       "      <td>1198</td>\n",
       "      <td>2020-04-18</td>\n",
       "    </tr>\n",
       "    <tr>\n",
       "      <th>6</th>\n",
       "      <td>Berlin 5,066 121 135 91</td>\n",
       "      <td>12</td>\n",
       "      <td>Berlin</td>\n",
       "      <td>5066</td>\n",
       "      <td>121</td>\n",
       "      <td>135</td>\n",
       "      <td>91</td>\n",
       "      <td>2020-04-18</td>\n",
       "    </tr>\n",
       "    <tr>\n",
       "      <th>7</th>\n",
       "      <td>Brandenburg 2,161 41 86 62</td>\n",
       "      <td>10</td>\n",
       "      <td>Brandenburg</td>\n",
       "      <td>2161</td>\n",
       "      <td>41</td>\n",
       "      <td>86</td>\n",
       "      <td>62</td>\n",
       "      <td>2020-04-18</td>\n",
       "    </tr>\n",
       "    <tr>\n",
       "      <th>8</th>\n",
       "      <td>Bremen 567 11 83 24</td>\n",
       "      <td>9</td>\n",
       "      <td>Bremen</td>\n",
       "      <td>567</td>\n",
       "      <td>11</td>\n",
       "      <td>83</td>\n",
       "      <td>24</td>\n",
       "      <td>2020-04-18</td>\n",
       "    </tr>\n",
       "  </tbody>\n",
       "</table>\n",
       "</div>"
      ],
      "text/plain": [
       "                                    data   c                land  confirmed  \\\n",
       "4  Baden-Wuerttemberg 27,258 715 246 919  14  Baden-Wuerttemberg      27258   \n",
       "5           Bavaria 36,881 854 282 1,198  15             Bavaria      36881   \n",
       "6                Berlin 5,066 121 135 91  12              Berlin       5066   \n",
       "7             Brandenburg 2,161 41 86 62  10         Brandenburg       2161   \n",
       "8                    Bremen 567 11 83 24   9              Bremen        567   \n",
       "\n",
       "   daily  per_mil  dead       date  \n",
       "4    715      246   919 2020-04-18  \n",
       "5    854      282  1198 2020-04-18  \n",
       "6    121      135    91 2020-04-18  \n",
       "7     41       86    62 2020-04-18  \n",
       "8     11       83    24 2020-04-18  "
      ]
     },
     "execution_count": 551,
     "metadata": {},
     "output_type": "execute_result"
    }
   ],
   "source": [
    "load_pdf('2020-04-18', lang=\"en\").head()\n",
    "# df = load_pdf('2020-03-18', lang=\"en\")"
   ]
  },
  {
   "cell_type": "markdown",
   "metadata": {},
   "source": [
    "# Batch Load"
   ]
  },
  {
   "cell_type": "code",
   "execution_count": 519,
   "metadata": {},
   "outputs": [
    {
     "name": "stdout",
     "output_type": "stream",
     "text": [
      "data/RKI-reports/2020-03-18-en.pdf\n",
      "data/RKI-reports/2020-03-19-en.pdf\n",
      "data/RKI-reports/2020-03-20-en.pdf\n",
      "data/RKI-reports/2020-03-21-en.pdf\n",
      "data/RKI-reports/2020-03-22-en.pdf\n",
      "data/RKI-reports/2020-03-23-en.pdf\n",
      "data/RKI-reports/2020-03-24-en.pdf\n",
      "data/RKI-reports/2020-03-25-en.pdf\n",
      "data/RKI-reports/2020-03-26-en.pdf\n",
      "data/RKI-reports/2020-03-27-en.pdf\n",
      "data/RKI-reports/2020-03-28-en.pdf\n",
      "data/RKI-reports/2020-03-29-en.pdf\n",
      "data/RKI-reports/2020-03-30-en.pdf\n",
      "data/RKI-reports/2020-03-31-en.pdf\n",
      "data/RKI-reports/2020-04-01-en.pdf\n",
      "data/RKI-reports/2020-04-02-en.pdf\n",
      "data/RKI-reports/2020-04-03-en.pdf\n",
      "data/RKI-reports/2020-04-04-en.pdf\n",
      "data/RKI-reports/2020-04-05-en.pdf\n",
      "data/RKI-reports/2020-04-06-en.pdf\n",
      "data/RKI-reports/2020-04-07-en.pdf\n",
      "data/RKI-reports/2020-04-08-en.pdf\n",
      "data/RKI-reports/2020-04-09-en.pdf\n",
      "data/RKI-reports/2020-04-10-en.pdf\n",
      "data/RKI-reports/2020-04-11-en.pdf\n",
      "data/RKI-reports/2020-04-12-en.pdf\n",
      "data/RKI-reports/2020-04-13-en.pdf\n",
      "data/RKI-reports/2020-04-14-en.pdf\n",
      "data/RKI-reports/2020-04-15-en.pdf\n",
      "data/RKI-reports/2020-04-16-en.pdf\n",
      "data/RKI-reports/2020-04-17-en.pdf\n"
     ]
    }
   ],
   "source": [
    "df = pd.DataFrame(columns=['data', 'land', 'confirmed', 'daily', 'per_mil', 'dead'])\n",
    "list_df = []\n",
    "start='2020-03-18'\n",
    "end='2020-04-17'\n",
    "for d in pd.date_range(start, end).date:\n",
    "    list_df.append(load_pdf(d, path=\"data/RKI-reports/{0}-{1}.pdf\", lang=\"en\"))"
   ]
  },
  {
   "cell_type": "markdown",
   "metadata": {},
   "source": [
    "## Batch Save"
   ]
  },
  {
   "cell_type": "code",
   "execution_count": 544,
   "metadata": {},
   "outputs": [],
   "source": [
    "result_df = pd.concat(list_df).drop(['daily', 'c', 'per_mil'], axis=1)"
   ]
  },
  {
   "cell_type": "code",
   "execution_count": 545,
   "metadata": {},
   "outputs": [],
   "source": [
    "result_df.to_csv('data/RKI-reports.csv', index=False)"
   ]
  },
  {
   "cell_type": "markdown",
   "metadata": {},
   "source": [
    "-----"
   ]
  },
  {
   "cell_type": "markdown",
   "metadata": {},
   "source": [
    "-----"
   ]
  },
  {
   "cell_type": "markdown",
   "metadata": {},
   "source": [
    "# Updating Reports"
   ]
  },
  {
   "cell_type": "code",
   "execution_count": 651,
   "metadata": {},
   "outputs": [
    {
     "name": "stdout",
     "output_type": "stream",
     "text": [
      "data/RKI-reports/2020-04-25-en.pdf\n"
     ]
    }
   ],
   "source": [
    "df_new = load_pdf('2020-04-25', lang=\"en\")\n",
    "df_new.drop(['c', 'daily', 'per_mil'], axis=1, inplace=True)"
   ]
  },
  {
   "cell_type": "code",
   "execution_count": 652,
   "metadata": {},
   "outputs": [],
   "source": [
    "result_all = pd.read_csv('data/RKI-reports.csv')\n",
    "result_all['date'] = result_all['date'].astype('datetime64[ns]')"
   ]
  },
  {
   "cell_type": "code",
   "execution_count": 653,
   "metadata": {},
   "outputs": [
    {
     "data": {
      "text/html": [
       "<div>\n",
       "<style scoped>\n",
       "    .dataframe tbody tr th:only-of-type {\n",
       "        vertical-align: middle;\n",
       "    }\n",
       "\n",
       "    .dataframe tbody tr th {\n",
       "        vertical-align: top;\n",
       "    }\n",
       "\n",
       "    .dataframe thead th {\n",
       "        text-align: right;\n",
       "    }\n",
       "</style>\n",
       "<table border=\"1\" class=\"dataframe\">\n",
       "  <thead>\n",
       "    <tr style=\"text-align: right;\">\n",
       "      <th></th>\n",
       "      <th>land</th>\n",
       "      <th>confirmed</th>\n",
       "      <th>dead</th>\n",
       "      <th>date</th>\n",
       "      <th>data</th>\n",
       "    </tr>\n",
       "  </thead>\n",
       "  <tbody>\n",
       "    <tr>\n",
       "      <th>19</th>\n",
       "      <td>Thuringia</td>\n",
       "      <td>2058</td>\n",
       "      <td>71</td>\n",
       "      <td>2020-04-25</td>\n",
       "      <td>Thuringia 2.058 35 96 71</td>\n",
       "    </tr>\n",
       "    <tr>\n",
       "      <th>11</th>\n",
       "      <td>Mecklenburg-Western Pomerania</td>\n",
       "      <td>667</td>\n",
       "      <td>16</td>\n",
       "      <td>2020-04-25</td>\n",
       "      <td>Mecklenburg-Western Pomerania  667 6 41 16</td>\n",
       "    </tr>\n",
       "    <tr>\n",
       "      <th>5</th>\n",
       "      <td>Bavaria</td>\n",
       "      <td>40547</td>\n",
       "      <td>1566</td>\n",
       "      <td>2020-04-25</td>\n",
       "      <td>Bavaria 40.547 608 310 1.566</td>\n",
       "    </tr>\n",
       "    <tr>\n",
       "      <th>6</th>\n",
       "      <td>Berlin</td>\n",
       "      <td>5525</td>\n",
       "      <td>113</td>\n",
       "      <td>2020-04-25</td>\n",
       "      <td>Berlin 5.525 66 147 113</td>\n",
       "    </tr>\n",
       "    <tr>\n",
       "      <th>7</th>\n",
       "      <td>Brandenburg</td>\n",
       "      <td>2627</td>\n",
       "      <td>97</td>\n",
       "      <td>2020-04-25</td>\n",
       "      <td>Brandenburg 2.627 91 105 97</td>\n",
       "    </tr>\n",
       "  </tbody>\n",
       "</table>\n",
       "</div>"
      ],
      "text/plain": [
       "                             land  confirmed  dead       date  \\\n",
       "19                      Thuringia       2058    71 2020-04-25   \n",
       "11  Mecklenburg-Western Pomerania        667    16 2020-04-25   \n",
       "5                         Bavaria      40547  1566 2020-04-25   \n",
       "6                          Berlin       5525   113 2020-04-25   \n",
       "7                     Brandenburg       2627    97 2020-04-25   \n",
       "\n",
       "                                          data  \n",
       "19                    Thuringia 2.058 35 96 71  \n",
       "11  Mecklenburg-Western Pomerania  667 6 41 16  \n",
       "5                 Bavaria 40.547 608 310 1.566  \n",
       "6                      Berlin 5.525 66 147 113  \n",
       "7                  Brandenburg 2.627 91 105 97  "
      ]
     },
     "execution_count": 653,
     "metadata": {},
     "output_type": "execute_result"
    }
   ],
   "source": [
    "result_concat = pd.concat([result_all, df_new]).sort_values('date', ascending=False)\n",
    "result_concat.head()"
   ]
  },
  {
   "cell_type": "code",
   "execution_count": 654,
   "metadata": {},
   "outputs": [],
   "source": [
    "result_concat = result_concat[result_concat.land != 'Federal State Total Number Number of Cases/ Number of']"
   ]
  },
  {
   "cell_type": "code",
   "execution_count": 655,
   "metadata": {},
   "outputs": [],
   "source": [
    "result_concat.to_csv('data/RKI-reports.csv', index=False)"
   ]
  },
  {
   "cell_type": "markdown",
   "metadata": {},
   "source": [
    "---"
   ]
  },
  {
   "cell_type": "code",
   "execution_count": 558,
   "metadata": {},
   "outputs": [
    {
     "data": {
      "text/html": [
       "<div>\n",
       "<style scoped>\n",
       "    .dataframe tbody tr th:only-of-type {\n",
       "        vertical-align: middle;\n",
       "    }\n",
       "\n",
       "    .dataframe tbody tr th {\n",
       "        vertical-align: top;\n",
       "    }\n",
       "\n",
       "    .dataframe thead th {\n",
       "        text-align: right;\n",
       "    }\n",
       "</style>\n",
       "<table border=\"1\" class=\"dataframe\">\n",
       "  <thead>\n",
       "    <tr style=\"text-align: right;\">\n",
       "      <th></th>\n",
       "      <th></th>\n",
       "      <th>confirmed</th>\n",
       "    </tr>\n",
       "    <tr>\n",
       "      <th>land</th>\n",
       "      <th>date</th>\n",
       "      <th></th>\n",
       "    </tr>\n",
       "  </thead>\n",
       "  <tbody>\n",
       "    <tr>\n",
       "      <th>Baden-Wuerttemberg</th>\n",
       "      <th>2020-03-26</th>\n",
       "      <td>1</td>\n",
       "    </tr>\n",
       "    <tr>\n",
       "      <th rowspan=\"4\" valign=\"top\">Rhineland-Palatinate</th>\n",
       "      <th>2020-04-04</th>\n",
       "      <td>1</td>\n",
       "    </tr>\n",
       "    <tr>\n",
       "      <th>2020-04-17</th>\n",
       "      <td>1</td>\n",
       "    </tr>\n",
       "    <tr>\n",
       "      <th>2020-04-16</th>\n",
       "      <td>1</td>\n",
       "    </tr>\n",
       "    <tr>\n",
       "      <th>2020-04-15</th>\n",
       "      <td>1</td>\n",
       "    </tr>\n",
       "  </tbody>\n",
       "</table>\n",
       "</div>"
      ],
      "text/plain": [
       "                                 confirmed\n",
       "land                 date                 \n",
       "Baden-Wuerttemberg   2020-03-26          1\n",
       "Rhineland-Palatinate 2020-04-04          1\n",
       "                     2020-04-17          1\n",
       "                     2020-04-16          1\n",
       "                     2020-04-15          1"
      ]
     },
     "execution_count": 558,
     "metadata": {},
     "output_type": "execute_result"
    }
   ],
   "source": [
    "result_concat.loc[:, ['land', 'date', 'confirmed']].groupby(['land', 'date']).count().sort_values(['confirmed'], ascending=False).head()"
   ]
  },
  {
   "cell_type": "code",
   "execution_count": 625,
   "metadata": {},
   "outputs": [
    {
     "data": {
      "text/html": [
       "<div>\n",
       "<style scoped>\n",
       "    .dataframe tbody tr th:only-of-type {\n",
       "        vertical-align: middle;\n",
       "    }\n",
       "\n",
       "    .dataframe tbody tr th {\n",
       "        vertical-align: top;\n",
       "    }\n",
       "\n",
       "    .dataframe thead th {\n",
       "        text-align: right;\n",
       "    }\n",
       "</style>\n",
       "<table border=\"1\" class=\"dataframe\">\n",
       "  <thead>\n",
       "    <tr style=\"text-align: right;\">\n",
       "      <th></th>\n",
       "      <th>confirmed</th>\n",
       "    </tr>\n",
       "    <tr>\n",
       "      <th>land</th>\n",
       "      <th></th>\n",
       "    </tr>\n",
       "  </thead>\n",
       "  <tbody>\n",
       "    <tr>\n",
       "      <th>Saxony</th>\n",
       "      <td>34</td>\n",
       "    </tr>\n",
       "    <tr>\n",
       "      <th>Bavaria</th>\n",
       "      <td>33</td>\n",
       "    </tr>\n",
       "    <tr>\n",
       "      <th>Berlin</th>\n",
       "      <td>33</td>\n",
       "    </tr>\n",
       "    <tr>\n",
       "      <th>Brandenburg</th>\n",
       "      <td>33</td>\n",
       "    </tr>\n",
       "    <tr>\n",
       "      <th>Bremen</th>\n",
       "      <td>33</td>\n",
       "    </tr>\n",
       "    <tr>\n",
       "      <th>Hamburg</th>\n",
       "      <td>33</td>\n",
       "    </tr>\n",
       "    <tr>\n",
       "      <th>Hesse</th>\n",
       "      <td>33</td>\n",
       "    </tr>\n",
       "    <tr>\n",
       "      <th>Lower Saxony</th>\n",
       "      <td>33</td>\n",
       "    </tr>\n",
       "    <tr>\n",
       "      <th>North Rhine-Westphalia</th>\n",
       "      <td>33</td>\n",
       "    </tr>\n",
       "    <tr>\n",
       "      <th>Rhineland-Palatinate</th>\n",
       "      <td>33</td>\n",
       "    </tr>\n",
       "    <tr>\n",
       "      <th>Saarland</th>\n",
       "      <td>33</td>\n",
       "    </tr>\n",
       "    <tr>\n",
       "      <th>Schleswig-Holstein</th>\n",
       "      <td>33</td>\n",
       "    </tr>\n",
       "    <tr>\n",
       "      <th>Thuringia</th>\n",
       "      <td>33</td>\n",
       "    </tr>\n",
       "    <tr>\n",
       "      <th>Baden-Wuerttemberg</th>\n",
       "      <td>32</td>\n",
       "    </tr>\n",
       "    <tr>\n",
       "      <th>Saxony-Anhalt</th>\n",
       "      <td>32</td>\n",
       "    </tr>\n",
       "    <tr>\n",
       "      <th>Mecklenburg-Western Pomerania</th>\n",
       "      <td>28</td>\n",
       "    </tr>\n",
       "  </tbody>\n",
       "</table>\n",
       "</div>"
      ],
      "text/plain": [
       "                               confirmed\n",
       "land                                    \n",
       "Saxony                                34\n",
       "Bavaria                               33\n",
       "Berlin                                33\n",
       "Brandenburg                           33\n",
       "Bremen                                33\n",
       "Hamburg                               33\n",
       "Hesse                                 33\n",
       "Lower Saxony                          33\n",
       "North Rhine-Westphalia                33\n",
       "Rhineland-Palatinate                  33\n",
       "Saarland                              33\n",
       "Schleswig-Holstein                    33\n",
       "Thuringia                             33\n",
       "Baden-Wuerttemberg                    32\n",
       "Saxony-Anhalt                         32\n",
       "Mecklenburg-Western Pomerania         28"
      ]
     },
     "execution_count": 625,
     "metadata": {},
     "output_type": "execute_result"
    }
   ],
   "source": [
    "result_concat.loc[:, ['land', 'confirmed']].groupby(['land']).count().sort_values(['confirmed'], ascending=False).head(50)"
   ]
  },
  {
   "cell_type": "code",
   "execution_count": 614,
   "metadata": {},
   "outputs": [],
   "source": [
    "fixed_cresult = result_concat.copy(deep=True)\n",
    "fixed_cresult.loc[fixed_cresult['land'] == 'Mecklenburg-Western', 'land'] = 'Mecklenburg-Western Pomerania'\n",
    "fixed_cresult = fixed_cresult[fixed_cresult['land'] != 'Mecklenburg-Western']"
   ]
  },
  {
   "cell_type": "code",
   "execution_count": 615,
   "metadata": {},
   "outputs": [],
   "source": [
    "fixed_cresult.loc[fixed_cresult['land'] == 'Saxony-Anhalt*', 'land'] = 'Saxony'\n",
    "fixed_cresult = fixed_cresult[fixed_cresult['land'] != 'Saxony-Anhalt*']"
   ]
  },
  {
   "cell_type": "code",
   "execution_count": 616,
   "metadata": {},
   "outputs": [],
   "source": [
    "fixed_cresult.loc[fixed_cresult['land'] == 'Baden-Württemberg', 'land'] = 'Baden-Wuerttemberg'\n",
    "fixed_cresult = fixed_cresult[fixed_cresult['land'] != 'Baden-Württemberg']"
   ]
  },
  {
   "cell_type": "code",
   "execution_count": 617,
   "metadata": {},
   "outputs": [
    {
     "data": {
      "text/html": [
       "<div>\n",
       "<style scoped>\n",
       "    .dataframe tbody tr th:only-of-type {\n",
       "        vertical-align: middle;\n",
       "    }\n",
       "\n",
       "    .dataframe tbody tr th {\n",
       "        vertical-align: top;\n",
       "    }\n",
       "\n",
       "    .dataframe thead th {\n",
       "        text-align: right;\n",
       "    }\n",
       "</style>\n",
       "<table border=\"1\" class=\"dataframe\">\n",
       "  <thead>\n",
       "    <tr style=\"text-align: right;\">\n",
       "      <th></th>\n",
       "      <th>confirmed</th>\n",
       "    </tr>\n",
       "    <tr>\n",
       "      <th>land</th>\n",
       "      <th></th>\n",
       "    </tr>\n",
       "  </thead>\n",
       "  <tbody>\n",
       "    <tr>\n",
       "      <th>Saxony</th>\n",
       "      <td>33</td>\n",
       "    </tr>\n",
       "    <tr>\n",
       "      <th>Bavaria</th>\n",
       "      <td>32</td>\n",
       "    </tr>\n",
       "    <tr>\n",
       "      <th>Berlin</th>\n",
       "      <td>32</td>\n",
       "    </tr>\n",
       "    <tr>\n",
       "      <th>Brandenburg</th>\n",
       "      <td>32</td>\n",
       "    </tr>\n",
       "    <tr>\n",
       "      <th>Bremen</th>\n",
       "      <td>32</td>\n",
       "    </tr>\n",
       "    <tr>\n",
       "      <th>Hamburg</th>\n",
       "      <td>32</td>\n",
       "    </tr>\n",
       "    <tr>\n",
       "      <th>Hesse</th>\n",
       "      <td>32</td>\n",
       "    </tr>\n",
       "    <tr>\n",
       "      <th>Lower Saxony</th>\n",
       "      <td>32</td>\n",
       "    </tr>\n",
       "    <tr>\n",
       "      <th>North Rhine-Westphalia</th>\n",
       "      <td>32</td>\n",
       "    </tr>\n",
       "    <tr>\n",
       "      <th>Rhineland-Palatinate</th>\n",
       "      <td>32</td>\n",
       "    </tr>\n",
       "    <tr>\n",
       "      <th>Saarland</th>\n",
       "      <td>32</td>\n",
       "    </tr>\n",
       "    <tr>\n",
       "      <th>Schleswig-Holstein</th>\n",
       "      <td>32</td>\n",
       "    </tr>\n",
       "    <tr>\n",
       "      <th>Thuringia</th>\n",
       "      <td>32</td>\n",
       "    </tr>\n",
       "    <tr>\n",
       "      <th>Baden-Wuerttemberg</th>\n",
       "      <td>31</td>\n",
       "    </tr>\n",
       "    <tr>\n",
       "      <th>Saxony-Anhalt</th>\n",
       "      <td>31</td>\n",
       "    </tr>\n",
       "    <tr>\n",
       "      <th>Mecklenburg-Western Pomerania</th>\n",
       "      <td>27</td>\n",
       "    </tr>\n",
       "  </tbody>\n",
       "</table>\n",
       "</div>"
      ],
      "text/plain": [
       "                               confirmed\n",
       "land                                    \n",
       "Saxony                                33\n",
       "Bavaria                               32\n",
       "Berlin                                32\n",
       "Brandenburg                           32\n",
       "Bremen                                32\n",
       "Hamburg                               32\n",
       "Hesse                                 32\n",
       "Lower Saxony                          32\n",
       "North Rhine-Westphalia                32\n",
       "Rhineland-Palatinate                  32\n",
       "Saarland                              32\n",
       "Schleswig-Holstein                    32\n",
       "Thuringia                             32\n",
       "Baden-Wuerttemberg                    31\n",
       "Saxony-Anhalt                         31\n",
       "Mecklenburg-Western Pomerania         27"
      ]
     },
     "execution_count": 617,
     "metadata": {},
     "output_type": "execute_result"
    }
   ],
   "source": [
    "fixed_cresult.loc[:, ['land', 'confirmed']].groupby(['land']).count().sort_values(['confirmed'], ascending=False).head(50)\n"
   ]
  },
  {
   "cell_type": "markdown",
   "metadata": {},
   "source": [
    "---"
   ]
  },
  {
   "cell_type": "code",
   "execution_count": 619,
   "metadata": {},
   "outputs": [],
   "source": [
    "fixed_cresult.to_csv('data/RKI-reports.csv', index=False)"
   ]
  },
  {
   "cell_type": "markdown",
   "metadata": {},
   "source": [
    "----"
   ]
  }
 ],
 "metadata": {
  "kernelspec": {
   "display_name": "Python 3",
   "language": "python",
   "name": "python3"
  },
  "language_info": {
   "codemirror_mode": {
    "name": "ipython",
    "version": 3
   },
   "file_extension": ".py",
   "mimetype": "text/x-python",
   "name": "python",
   "nbconvert_exporter": "python",
   "pygments_lexer": "ipython3",
   "version": "3.7.3"
  }
 },
 "nbformat": 4,
 "nbformat_minor": 4
}
