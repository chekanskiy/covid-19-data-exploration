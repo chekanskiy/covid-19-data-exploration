{
 "cells": [
  {
   "cell_type": "code",
   "execution_count": 1,
   "metadata": {},
   "outputs": [],
   "source": [
    "import pdfquery\n",
    "import datetime\n",
    "import pandas as pd"
   ]
  },
  {
   "cell_type": "code",
   "execution_count": 2,
   "metadata": {},
   "outputs": [],
   "source": [
    "def extract_text(l):\n",
    "    return \"\".join([k for k in l if not k.isdigit() and not k in [\".\", \",\", \"+\"]]).rstrip()\n",
    "def extract_numbers(l, el=None):\n",
    "#     lis = \"\".join([k for k in l if k.isdigit() or k in [\" \"]]).lstrip().rstrip().split(\" \")\n",
    "#     print(lis)\n",
    "#     print([m for m in lis if len(m) > 0])\n",
    "    result = [int(m) for m in \"\".join([k for k in l if k.isdigit() or k in [\" \"]]).lstrip().rstrip().split(\" \") if len(m) > 0]\n",
    "    if len(result) < 4:\n",
    "        result += [0]*(4-len(result))\n",
    "    if el is None:\n",
    "        return result\n",
    "    else:\n",
    "        return result[el]\n",
    "def count_numbers(l):\n",
    "    c = 0\n",
    "    try:\n",
    "        c += sum([1 for k in l if k.isdigit()])\n",
    "        return c\n",
    "    except:\n",
    "        return c\n",
    "def extract_number(l):\n",
    "    result = \"\".join([k for k in l.values[0] if k.isdigit()]).lstrip().rstrip()\n",
    "    if len(result) > 0:\n",
    "        return int(result)\n",
    "    else:\n",
    "        return 0\n",
    "# df.loc[:, ['confirmed']].apply(extract_number, axis=1)"
   ]
  },
  {
   "cell_type": "code",
   "execution_count": 3,
   "metadata": {},
   "outputs": [],
   "source": [
    "def load_pdf(date, path=\"data/RKI-reports/{0}-{1}.pdf\", lang=\"en\"):\n",
    "    from tabula import read_pdf\n",
    "    path = path.format(date, lang)\n",
    "    print(path)\n",
    "    df = read_pdf(path, pages=[2])\n",
    "    df = df[0].iloc[4:]\n",
    "    try:\n",
    "        print(\"Extracting single data column\")\n",
    "        df.columns = ['data']\n",
    "        df['c'] = df.loc[:, 'data'].apply(count_numbers)\n",
    "        df = df[df.c != 0]\n",
    "    \n",
    "        df['land'] = df.loc[:, 'data'].apply(extract_text)\n",
    "        df['confirmed'] = df.loc[:, 'data'].apply(extract_numbers, args=[0])\n",
    "        df['daily'] = df.loc[:, 'data'].apply(extract_numbers, args=[1])\n",
    "        df['per_mil'] = df.loc[:, 'data'].apply(extract_numbers, args=[2])\n",
    "        df['dead'] = df.loc[:, 'data'].apply(extract_numbers, args=[3])\n",
    "    except:\n",
    "        if len(df.columns) == 4:\n",
    "            print(\"Extracting 4 data columns\")\n",
    "            df.columns = ['land', 'confirmed', 'daily', 'dead']\n",
    "            df['per_mil'] = 0\n",
    "            df = df.loc[:, ['land', 'confirmed', 'daily', 'per_mil', 'dead']]\n",
    "        elif len(df.columns) == 5:\n",
    "            print(\"Extracting 5 data columns\")\n",
    "            df.columns = ['land', 'confirmed', 'daily', 'per_mil', 'dead']\n",
    "        elif len(df.columns) == 6:\n",
    "            print(\"Extracting 6 data columns\")\n",
    "            df.columns = ['land', 'confirmed', 'daily', 'per_mil', 'dead', 'dead_per_100k']\n",
    "        else:\n",
    "            print(f\"Falied to exctract {len(df.columns)} data columns\")\n",
    "            print(df)\n",
    "            raise Exception\n",
    "        df.drop(['dead_per_100k'], axis=1, inplace=True)\n",
    "        df['c'] = df.loc[:, 'confirmed'].apply(count_numbers)\n",
    "        df = df.loc[df.c != 0, :]\n",
    "        df.loc[:,['confirmed']] = df.loc[:,['confirmed']].apply(extract_number, axis=1)\n",
    "        df.loc[:,['daily']] = df.loc[:,['daily']].apply(extract_number, axis=1)\n",
    "        df.loc[:,['dead']] = df.loc[:,['dead']].apply(extract_number, axis=1)\n",
    "    df.loc[df.land.isnull() == True, 'land'] = 'Mecklenburg-Western Pomerania'\n",
    "    df = df.loc[(df.land.str.contains('cases') == False) & (df.land != 'Total') \n",
    "                & (df.land.str.contains('Gesamt') == False), :]\n",
    "    try:\n",
    "        df['date'] = datetime.datetime.strptime(date, \"%Y-%m-%d\")\n",
    "    except:\n",
    "        df['date'] = date\n",
    "    return df"
   ]
  },
  {
   "cell_type": "markdown",
   "metadata": {},
   "source": [
    "# Test Load"
   ]
  },
  {
   "cell_type": "code",
   "execution_count": 768,
   "metadata": {},
   "outputs": [
    {
     "name": "stdout",
     "output_type": "stream",
     "text": [
      "data/RKI-reports/2020-04-28-de.pdf\n"
     ]
    },
    {
     "name": "stderr",
     "output_type": "stream",
     "text": [
      "Got stderr: Apr 28, 2020 1:44:28 PM org.apache.pdfbox.pdmodel.font.PDCIDFontType2 <init>\n",
      "INFO: OpenType Layout tables used in font ABCDEE+Calibri are not implemented in PDFBox and will be ignored\n",
      "Apr 28, 2020 1:44:28 PM org.apache.pdfbox.pdmodel.font.PDCIDFontType2 <init>\n",
      "INFO: OpenType Layout tables used in font ABCDEE+Calibri are not implemented in PDFBox and will be ignored\n",
      "Apr 28, 2020 1:44:29 PM org.apache.pdfbox.pdmodel.font.PDCIDFontType2 <init>\n",
      "INFO: OpenType Layout tables used in font ABCDEE+Calibri are not implemented in PDFBox and will be ignored\n",
      "\n"
     ]
    },
    {
     "name": "stdout",
     "output_type": "stream",
     "text": [
      "Extracting single data column\n",
      "Extracting 6 data columns\n"
     ]
    },
    {
     "name": "stderr",
     "output_type": "stream",
     "text": [
      "/Users/chekanskiy/Documents/projects/covid-19/venv/lib/python3.7/site-packages/pandas/core/indexing.py:966: SettingWithCopyWarning: \n",
      "A value is trying to be set on a copy of a slice from a DataFrame.\n",
      "Try using .loc[row_indexer,col_indexer] = value instead\n",
      "\n",
      "See the caveats in the documentation: https://pandas.pydata.org/pandas-docs/stable/user_guide/indexing.html#returning-a-view-versus-a-copy\n",
      "  self.obj[item] = s\n"
     ]
    },
    {
     "data": {
      "text/plain": [
       "pandas.core.frame.DataFrame"
      ]
     },
     "execution_count": 768,
     "metadata": {},
     "output_type": "execute_result"
    }
   ],
   "source": [
    "df = load_pdf('2020-04-28', lang=\"de\").head()\n",
    "type(df)"
   ]
  },
  {
   "cell_type": "markdown",
   "metadata": {},
   "source": [
    "# Batch Load"
   ]
  },
  {
   "cell_type": "code",
   "execution_count": 519,
   "metadata": {},
   "outputs": [
    {
     "name": "stdout",
     "output_type": "stream",
     "text": [
      "data/RKI-reports/2020-03-18-en.pdf\n",
      "data/RKI-reports/2020-03-19-en.pdf\n",
      "data/RKI-reports/2020-03-20-en.pdf\n",
      "data/RKI-reports/2020-03-21-en.pdf\n",
      "data/RKI-reports/2020-03-22-en.pdf\n",
      "data/RKI-reports/2020-03-23-en.pdf\n",
      "data/RKI-reports/2020-03-24-en.pdf\n",
      "data/RKI-reports/2020-03-25-en.pdf\n",
      "data/RKI-reports/2020-03-26-en.pdf\n",
      "data/RKI-reports/2020-03-27-en.pdf\n",
      "data/RKI-reports/2020-03-28-en.pdf\n",
      "data/RKI-reports/2020-03-29-en.pdf\n",
      "data/RKI-reports/2020-03-30-en.pdf\n",
      "data/RKI-reports/2020-03-31-en.pdf\n",
      "data/RKI-reports/2020-04-01-en.pdf\n",
      "data/RKI-reports/2020-04-02-en.pdf\n",
      "data/RKI-reports/2020-04-03-en.pdf\n",
      "data/RKI-reports/2020-04-04-en.pdf\n",
      "data/RKI-reports/2020-04-05-en.pdf\n",
      "data/RKI-reports/2020-04-06-en.pdf\n",
      "data/RKI-reports/2020-04-07-en.pdf\n",
      "data/RKI-reports/2020-04-08-en.pdf\n",
      "data/RKI-reports/2020-04-09-en.pdf\n",
      "data/RKI-reports/2020-04-10-en.pdf\n",
      "data/RKI-reports/2020-04-11-en.pdf\n",
      "data/RKI-reports/2020-04-12-en.pdf\n",
      "data/RKI-reports/2020-04-13-en.pdf\n",
      "data/RKI-reports/2020-04-14-en.pdf\n",
      "data/RKI-reports/2020-04-15-en.pdf\n",
      "data/RKI-reports/2020-04-16-en.pdf\n",
      "data/RKI-reports/2020-04-17-en.pdf\n"
     ]
    }
   ],
   "source": [
    "df = pd.DataFrame(columns=['data', 'land', 'confirmed', 'daily', 'per_mil', 'dead'])\n",
    "list_df = []\n",
    "start='2020-03-18'\n",
    "end='2020-04-17'\n",
    "for d in pd.date_range(start, end).date:\n",
    "    list_df.append(load_pdf(d, path=\"data/RKI-reports/{0}-{1}.pdf\", lang=\"en\"))"
   ]
  },
  {
   "cell_type": "markdown",
   "metadata": {},
   "source": [
    "## Batch Save"
   ]
  },
  {
   "cell_type": "code",
   "execution_count": 544,
   "metadata": {},
   "outputs": [],
   "source": [
    "result_df = pd.concat(list_df).drop(['daily', 'c', 'per_mil'], axis=1)"
   ]
  },
  {
   "cell_type": "code",
   "execution_count": 545,
   "metadata": {},
   "outputs": [],
   "source": [
    "result_df.to_csv('data/RKI-reports.csv', index=False)"
   ]
  },
  {
   "cell_type": "markdown",
   "metadata": {},
   "source": [
    "-----"
   ]
  },
  {
   "cell_type": "markdown",
   "metadata": {},
   "source": [
    "-----"
   ]
  },
  {
   "cell_type": "markdown",
   "metadata": {},
   "source": [
    "# Updating Reports"
   ]
  },
  {
   "cell_type": "code",
   "execution_count": 39,
   "metadata": {},
   "outputs": [
    {
     "name": "stdout",
     "output_type": "stream",
     "text": [
      "data/RKI-reports/2020-05-02-en.pdf\n",
      "Extracting single data column\n",
      "Extracting 6 data columns\n"
     ]
    },
    {
     "name": "stderr",
     "output_type": "stream",
     "text": [
      "/Users/chekanskiy/Documents/projects/covid-19/venv/lib/python3.7/site-packages/pandas/core/indexing.py:966: SettingWithCopyWarning: \n",
      "A value is trying to be set on a copy of a slice from a DataFrame.\n",
      "Try using .loc[row_indexer,col_indexer] = value instead\n",
      "\n",
      "See the caveats in the documentation: https://pandas.pydata.org/pandas-docs/stable/user_guide/indexing.html#returning-a-view-versus-a-copy\n",
      "  self.obj[item] = s\n"
     ]
    }
   ],
   "source": [
    "df_new = load_pdf('2020-05-02', lang=\"en\")\n",
    "df_new.drop(['c', 'daily', 'per_mil'], axis=1, inplace=True)"
   ]
  },
  {
   "cell_type": "code",
   "execution_count": 40,
   "metadata": {},
   "outputs": [],
   "source": [
    "result_all = pd.read_csv('data/RKI-reports.csv')\n",
    "result_all['date'] = result_all['date'].astype('datetime64[ns]')"
   ]
  },
  {
   "cell_type": "code",
   "execution_count": 41,
   "metadata": {},
   "outputs": [
    {
     "data": {
      "text/html": [
       "<div>\n",
       "<style scoped>\n",
       "    .dataframe tbody tr th:only-of-type {\n",
       "        vertical-align: middle;\n",
       "    }\n",
       "\n",
       "    .dataframe tbody tr th {\n",
       "        vertical-align: top;\n",
       "    }\n",
       "\n",
       "    .dataframe thead th {\n",
       "        text-align: right;\n",
       "    }\n",
       "</style>\n",
       "<table border=\"1\" class=\"dataframe\">\n",
       "  <thead>\n",
       "    <tr style=\"text-align: right;\">\n",
       "      <th></th>\n",
       "      <th>land</th>\n",
       "      <th>confirmed</th>\n",
       "      <th>dead</th>\n",
       "      <th>date</th>\n",
       "      <th>data</th>\n",
       "    </tr>\n",
       "  </thead>\n",
       "  <tbody>\n",
       "    <tr>\n",
       "      <th>21</th>\n",
       "      <td>Thuringia</td>\n",
       "      <td>2335</td>\n",
       "      <td>93</td>\n",
       "      <td>2020-05-02</td>\n",
       "      <td>NaN</td>\n",
       "    </tr>\n",
       "    <tr>\n",
       "      <th>12</th>\n",
       "      <td>Mecklenburg-Western Pomerania</td>\n",
       "      <td>695</td>\n",
       "      <td>18</td>\n",
       "      <td>2020-05-02</td>\n",
       "      <td>NaN</td>\n",
       "    </tr>\n",
       "    <tr>\n",
       "      <th>5</th>\n",
       "      <td>Bavaria</td>\n",
       "      <td>42658</td>\n",
       "      <td>1885</td>\n",
       "      <td>2020-05-02</td>\n",
       "      <td>NaN</td>\n",
       "    </tr>\n",
       "    <tr>\n",
       "      <th>6</th>\n",
       "      <td>Berlin</td>\n",
       "      <td>5943</td>\n",
       "      <td>152</td>\n",
       "      <td>2020-05-02</td>\n",
       "      <td>NaN</td>\n",
       "    </tr>\n",
       "    <tr>\n",
       "      <th>7</th>\n",
       "      <td>Brandenburg</td>\n",
       "      <td>2886</td>\n",
       "      <td>122</td>\n",
       "      <td>2020-05-02</td>\n",
       "      <td>NaN</td>\n",
       "    </tr>\n",
       "  </tbody>\n",
       "</table>\n",
       "</div>"
      ],
      "text/plain": [
       "                             land  confirmed  dead       date data\n",
       "21                      Thuringia       2335    93 2020-05-02  NaN\n",
       "12  Mecklenburg-Western Pomerania        695    18 2020-05-02  NaN\n",
       "5                         Bavaria      42658  1885 2020-05-02  NaN\n",
       "6                          Berlin       5943   152 2020-05-02  NaN\n",
       "7                     Brandenburg       2886   122 2020-05-02  NaN"
      ]
     },
     "execution_count": 41,
     "metadata": {},
     "output_type": "execute_result"
    }
   ],
   "source": [
    "result_concat = pd.concat([result_all, df_new]).sort_values('date', ascending=False)\n",
    "result_concat.head()"
   ]
  },
  {
   "cell_type": "code",
   "execution_count": 42,
   "metadata": {},
   "outputs": [],
   "source": [
    "result_concat = result_concat[result_concat.land != 'Federal State Total Number Number of Cases/ Number of'].drop_duplicates()"
   ]
  },
  {
   "cell_type": "code",
   "execution_count": 43,
   "metadata": {},
   "outputs": [],
   "source": [
    "result_concat.loc[result_concat['land'].str.contains('Schleswig-Holstein') == True, 'land'] = 'Schleswig-Holstein'\n",
    "result_concat.loc[result_concat['land'].str.contains('Baden-W') == True, 'land'] = 'Baden-Wuerttemberg'\n",
    "result_concat.loc[result_concat['land'].str.contains('Saxony-A') == True, 'land'] = 'Saxony-Anhalt'\n",
    "result_concat.loc[result_concat['land'].str.contains('Sachsen-Anhalt') == True, 'land'] = 'Saxony-Anhalt'\n",
    "result_concat.loc[result_concat['land'].str.contains('Mecklenburg-W') == True, 'land'] = 'Mecklenburg-Western Pomerania'\n",
    "\n",
    "result_concat.loc[result_concat['land'].str.contains('Nordrhein-Westfalen') == True, 'land'] = 'North Rhine-Westphalia'\n",
    "result_concat.loc[result_concat['land'].str.contains('Sachsen') == True, 'land'] = 'Saxony'\n",
    "result_concat.loc[result_concat['land'].str.contains('Rheinland-Pfalz') == True, 'land'] = 'Rhineland-Palatinate'\n",
    "result_concat.loc[result_concat['land'].str.contains('Niedersachsen') == True, 'land'] = 'Lower Saxony'\n",
    "result_concat.loc[result_concat['land'].str.contains('Hessen') == True, 'land'] = 'Hesse'\n",
    "result_concat.loc[result_concat['land'].str.contains('Thüringen') == True, 'land'] = 'Thuringia'"
   ]
  },
  {
   "cell_type": "code",
   "execution_count": 44,
   "metadata": {},
   "outputs": [
    {
     "data": {
      "text/html": [
       "<div>\n",
       "<style scoped>\n",
       "    .dataframe tbody tr th:only-of-type {\n",
       "        vertical-align: middle;\n",
       "    }\n",
       "\n",
       "    .dataframe tbody tr th {\n",
       "        vertical-align: top;\n",
       "    }\n",
       "\n",
       "    .dataframe thead th {\n",
       "        text-align: right;\n",
       "    }\n",
       "</style>\n",
       "<table border=\"1\" class=\"dataframe\">\n",
       "  <thead>\n",
       "    <tr style=\"text-align: right;\">\n",
       "      <th></th>\n",
       "      <th>confirmed</th>\n",
       "    </tr>\n",
       "    <tr>\n",
       "      <th>land</th>\n",
       "      <th></th>\n",
       "    </tr>\n",
       "  </thead>\n",
       "  <tbody>\n",
       "    <tr>\n",
       "      <th>Brandenburg</th>\n",
       "      <td>46</td>\n",
       "    </tr>\n",
       "    <tr>\n",
       "      <th>Bremen</th>\n",
       "      <td>46</td>\n",
       "    </tr>\n",
       "    <tr>\n",
       "      <th>Hamburg</th>\n",
       "      <td>46</td>\n",
       "    </tr>\n",
       "    <tr>\n",
       "      <th>Hesse</th>\n",
       "      <td>46</td>\n",
       "    </tr>\n",
       "    <tr>\n",
       "      <th>Lower Saxony</th>\n",
       "      <td>46</td>\n",
       "    </tr>\n",
       "    <tr>\n",
       "      <th>North Rhine-Westphalia</th>\n",
       "      <td>46</td>\n",
       "    </tr>\n",
       "    <tr>\n",
       "      <th>Rhineland-Palatinate</th>\n",
       "      <td>46</td>\n",
       "    </tr>\n",
       "    <tr>\n",
       "      <th>Saarland</th>\n",
       "      <td>46</td>\n",
       "    </tr>\n",
       "    <tr>\n",
       "      <th>Saxony</th>\n",
       "      <td>46</td>\n",
       "    </tr>\n",
       "    <tr>\n",
       "      <th>Schleswig-Holstein</th>\n",
       "      <td>46</td>\n",
       "    </tr>\n",
       "    <tr>\n",
       "      <th>Thuringia</th>\n",
       "      <td>46</td>\n",
       "    </tr>\n",
       "    <tr>\n",
       "      <th>Berlin</th>\n",
       "      <td>45</td>\n",
       "    </tr>\n",
       "    <tr>\n",
       "      <th>Saxony-Anhalt</th>\n",
       "      <td>45</td>\n",
       "    </tr>\n",
       "    <tr>\n",
       "      <th>Bavaria</th>\n",
       "      <td>43</td>\n",
       "    </tr>\n",
       "    <tr>\n",
       "      <th>Baden-Wuerttemberg</th>\n",
       "      <td>42</td>\n",
       "    </tr>\n",
       "    <tr>\n",
       "      <th>Mecklenburg-Western Pomerania</th>\n",
       "      <td>41</td>\n",
       "    </tr>\n",
       "  </tbody>\n",
       "</table>\n",
       "</div>"
      ],
      "text/plain": [
       "                               confirmed\n",
       "land                                    \n",
       "Brandenburg                           46\n",
       "Bremen                                46\n",
       "Hamburg                               46\n",
       "Hesse                                 46\n",
       "Lower Saxony                          46\n",
       "North Rhine-Westphalia                46\n",
       "Rhineland-Palatinate                  46\n",
       "Saarland                              46\n",
       "Saxony                                46\n",
       "Schleswig-Holstein                    46\n",
       "Thuringia                             46\n",
       "Berlin                                45\n",
       "Saxony-Anhalt                         45\n",
       "Bavaria                               43\n",
       "Baden-Wuerttemberg                    42\n",
       "Mecklenburg-Western Pomerania         41"
      ]
     },
     "execution_count": 44,
     "metadata": {},
     "output_type": "execute_result"
    }
   ],
   "source": [
    "result_concat.loc[:, ['land', 'confirmed']].groupby(['land']).count().sort_values(['confirmed'], ascending=False).head(50)"
   ]
  },
  {
   "cell_type": "code",
   "execution_count": 45,
   "metadata": {},
   "outputs": [
    {
     "data": {
      "text/plain": [
       "727"
      ]
     },
     "execution_count": 45,
     "metadata": {},
     "output_type": "execute_result"
    }
   ],
   "source": [
    "len(result_concat)"
   ]
  },
  {
   "cell_type": "code",
   "execution_count": 46,
   "metadata": {},
   "outputs": [],
   "source": [
    "result_concat = result_concat.loc[~((result_concat.land == 'Saxony') & (result_concat.date=='2020-03-30') & (result_concat.data.str.contains('Anhalt') == True)), :]"
   ]
  },
  {
   "cell_type": "code",
   "execution_count": 47,
   "metadata": {},
   "outputs": [],
   "source": [
    "result_concat = result_concat.drop_duplicates()"
   ]
  },
  {
   "cell_type": "code",
   "execution_count": 48,
   "metadata": {},
   "outputs": [
    {
     "data": {
      "text/plain": [
       "727"
      ]
     },
     "execution_count": 48,
     "metadata": {},
     "output_type": "execute_result"
    }
   ],
   "source": [
    "len(result_concat)"
   ]
  },
  {
   "cell_type": "code",
   "execution_count": 49,
   "metadata": {},
   "outputs": [],
   "source": [
    "result_concat.to_csv('data/RKI-reports.csv', index=False)"
   ]
  },
  {
   "cell_type": "markdown",
   "metadata": {},
   "source": [
    "---"
   ]
  },
  {
   "cell_type": "code",
   "execution_count": 50,
   "metadata": {},
   "outputs": [
    {
     "data": {
      "text/html": [
       "<div>\n",
       "<style scoped>\n",
       "    .dataframe tbody tr th:only-of-type {\n",
       "        vertical-align: middle;\n",
       "    }\n",
       "\n",
       "    .dataframe tbody tr th {\n",
       "        vertical-align: top;\n",
       "    }\n",
       "\n",
       "    .dataframe thead th {\n",
       "        text-align: right;\n",
       "    }\n",
       "</style>\n",
       "<table border=\"1\" class=\"dataframe\">\n",
       "  <thead>\n",
       "    <tr style=\"text-align: right;\">\n",
       "      <th></th>\n",
       "      <th></th>\n",
       "      <th>confirmed</th>\n",
       "    </tr>\n",
       "    <tr>\n",
       "      <th>land</th>\n",
       "      <th>date</th>\n",
       "      <th></th>\n",
       "    </tr>\n",
       "  </thead>\n",
       "  <tbody>\n",
       "    <tr>\n",
       "      <th>Baden-Wuerttemberg</th>\n",
       "      <th>2020-03-19</th>\n",
       "      <td>1</td>\n",
       "    </tr>\n",
       "    <tr>\n",
       "      <th rowspan=\"4\" valign=\"top\">Rhineland-Palatinate</th>\n",
       "      <th>2020-04-14</th>\n",
       "      <td>1</td>\n",
       "    </tr>\n",
       "    <tr>\n",
       "      <th>2020-04-16</th>\n",
       "      <td>1</td>\n",
       "    </tr>\n",
       "    <tr>\n",
       "      <th>2020-04-17</th>\n",
       "      <td>1</td>\n",
       "    </tr>\n",
       "    <tr>\n",
       "      <th>2020-04-18</th>\n",
       "      <td>1</td>\n",
       "    </tr>\n",
       "  </tbody>\n",
       "</table>\n",
       "</div>"
      ],
      "text/plain": [
       "                                 confirmed\n",
       "land                 date                 \n",
       "Baden-Wuerttemberg   2020-03-19          1\n",
       "Rhineland-Palatinate 2020-04-14          1\n",
       "                     2020-04-16          1\n",
       "                     2020-04-17          1\n",
       "                     2020-04-18          1"
      ]
     },
     "execution_count": 50,
     "metadata": {},
     "output_type": "execute_result"
    }
   ],
   "source": [
    "result_concat.loc[:, ['land', 'date', 'confirmed']].groupby(['land', 'date']).count().sort_values(['confirmed'], ascending=False).head()"
   ]
  },
  {
   "cell_type": "code",
   "execution_count": 51,
   "metadata": {},
   "outputs": [],
   "source": [
    "# result_concat.loc[(result_concat.land == 'Mecklenburg-Western Pomerania') & (result_concat.date=='2020-04-27')\n",
    "# #                   & (result_concat.data.str.contains('Anhalt') == True)\n",
    "#                   , :]"
   ]
  },
  {
   "cell_type": "code",
   "execution_count": 52,
   "metadata": {},
   "outputs": [],
   "source": [
    "# fixed_cresult.loc[fixed_cresult['land'].str.contains('Schleswig-Holstein') == True, 'land'] = 'Schleswig-Holstein'\n",
    "# fixed_cresult.loc[fixed_cresult['land'].str.contains('Baden-W') == True, 'land'] = 'Baden-Wuerttemberg'\n",
    "# fixed_cresult.loc[fixed_cresult['land'].str.contains('Saxony-A') == True, 'land'] = 'Saxony-Anhalt'\n",
    "# fixed_cresult.loc[fixed_cresult['land'].str.contains('Mecklenburg-W') == True, 'land'] = 'Mecklenburg-Western Pomerania'"
   ]
  },
  {
   "cell_type": "code",
   "execution_count": 53,
   "metadata": {},
   "outputs": [],
   "source": [
    "# fixed_cresult.loc[:, ['land', 'confirmed']].groupby(['land']).count().sort_values(['confirmed'], ascending=False).head(50)\n"
   ]
  },
  {
   "cell_type": "markdown",
   "metadata": {},
   "source": [
    "---"
   ]
  },
  {
   "cell_type": "code",
   "execution_count": 732,
   "metadata": {},
   "outputs": [],
   "source": [
    "# fixed_cresult.to_csv('data/RKI-reports.csv', index=False)"
   ]
  },
  {
   "cell_type": "markdown",
   "metadata": {},
   "source": [
    "----"
   ]
  }
 ],
 "metadata": {
  "kernelspec": {
   "display_name": "Python 3",
   "language": "python",
   "name": "python3"
  },
  "language_info": {
   "codemirror_mode": {
    "name": "ipython",
    "version": 3
   },
   "file_extension": ".py",
   "mimetype": "text/x-python",
   "name": "python",
   "nbconvert_exporter": "python",
   "pygments_lexer": "ipython3",
   "version": "3.7.3"
  }
 },
 "nbformat": 4,
 "nbformat_minor": 4
}
