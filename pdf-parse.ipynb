{
 "cells": [
  {
   "cell_type": "code",
   "execution_count": 1,
   "metadata": {},
   "outputs": [],
   "source": [
    "import pdfquery\n",
    "import datetime\n",
    "import pandas as pd"
   ]
  },
  {
   "cell_type": "code",
   "execution_count": 2,
   "metadata": {},
   "outputs": [],
   "source": [
    "def extract_text(l):\n",
    "    return \"\".join([k for k in l if not k.isdigit() and not k in [\".\", \",\", \"+\"]]).rstrip()\n",
    "def extract_numbers(l, el=None):\n",
    "#     lis = \"\".join([k for k in l if k.isdigit() or k in [\" \"]]).lstrip().rstrip().split(\" \")\n",
    "#     print(lis)\n",
    "#     print([m for m in lis if len(m) > 0])\n",
    "    result = [int(m) for m in \"\".join([k for k in l if k.isdigit() or k in [\" \"]]).lstrip().rstrip().split(\" \") if len(m) > 0]\n",
    "    if len(result) < 4:\n",
    "        result += [0]*(4-len(result))\n",
    "    if el is None:\n",
    "        return result\n",
    "    else:\n",
    "        return result[el]\n",
    "def count_numbers(l):\n",
    "    c = 0\n",
    "    try:\n",
    "        c += sum([1 for k in l if k.isdigit()])\n",
    "        return c\n",
    "    except:\n",
    "        return c\n",
    "def extract_number(l):\n",
    "    result = \"\".join([k for k in l.values[0] if k.isdigit()]).lstrip().rstrip()\n",
    "    if len(result) > 0:\n",
    "        return int(result)\n",
    "    else:\n",
    "        return 0\n",
    "# df.loc[:, ['confirmed']].apply(extract_number, axis=1)"
   ]
  },
  {
   "cell_type": "code",
   "execution_count": 3,
   "metadata": {},
   "outputs": [],
   "source": [
    "def load_pdf(date, path=\"data/RKI-reports/{0}-{1}.pdf\", lang=\"en\"):\n",
    "    from tabula import read_pdf\n",
    "    path = path.format(date, lang)\n",
    "    print(path)\n",
    "    df = read_pdf(path, pages=[2])\n",
    "    df = df[0].iloc[4:]\n",
    "    try:\n",
    "        print(\"Extracting single data column\")\n",
    "        df.columns = ['data']\n",
    "        df['c'] = df.loc[:, 'data'].apply(count_numbers)\n",
    "        df = df[df.c != 0]\n",
    "    \n",
    "        df['land'] = df.loc[:, 'data'].apply(extract_text)\n",
    "        df['confirmed'] = df.loc[:, 'data'].apply(extract_numbers, args=[0])\n",
    "        df['daily'] = df.loc[:, 'data'].apply(extract_numbers, args=[1])\n",
    "        df['per_mil'] = df.loc[:, 'data'].apply(extract_numbers, args=[2])\n",
    "        df['dead'] = df.loc[:, 'data'].apply(extract_numbers, args=[3])\n",
    "    except:\n",
    "        if len(df.columns) == 4:\n",
    "            print(\"Extracting 4 data columns\")\n",
    "            df.columns = ['land', 'confirmed', 'daily', 'dead']\n",
    "            df['per_mil'] = 0\n",
    "            df = df.loc[:, ['land', 'confirmed', 'daily', 'per_mil', 'dead']]\n",
    "        elif len(df.columns) == 5:\n",
    "            print(\"Extracting 5 data columns\")\n",
    "            df.columns = ['land', 'confirmed', 'daily', 'per_mil', 'dead']\n",
    "        elif len(df.columns) == 6:\n",
    "            print(\"Extracting 6 data columns\")\n",
    "            df.columns = ['land', 'confirmed', 'daily', 'per_mil', 'dead', 'dead_per_100k']\n",
    "        else:\n",
    "            print(f\"Falied to exctract {len(df.columns)} data columns\")\n",
    "            print(df)\n",
    "            raise Exception\n",
    "        df.drop(['dead_per_100k'], axis=1, inplace=True)\n",
    "        df['c'] = df.loc[:, 'confirmed'].apply(count_numbers)\n",
    "        df = df.loc[df.c != 0, :]\n",
    "        df.loc[:,['confirmed']] = df.loc[:,['confirmed']].apply(extract_number, axis=1)\n",
    "        df.loc[:,['daily']] = df.loc[:,['daily']].apply(extract_number, axis=1)\n",
    "        df.loc[:,['dead']] = df.loc[:,['dead']].apply(extract_number, axis=1)\n",
    "    df.loc[df.land.isnull() == True, 'land'] = 'Mecklenburg-Western Pomerania'\n",
    "    df = df.loc[(df.land.str.contains('cases') == False) & (df.land != 'Total') \n",
    "                & (df.land.str.contains('Gesamt') == False), :]\n",
    "    try:\n",
    "        df['date'] = datetime.datetime.strptime(date, \"%Y-%m-%d\")\n",
    "    except:\n",
    "        df['date'] = date\n",
    "    return df"
   ]
  },
  {
   "cell_type": "markdown",
   "metadata": {},
   "source": [
    "# Test Load"
   ]
  },
  {
   "cell_type": "code",
   "execution_count": 768,
   "metadata": {},
   "outputs": [
    {
     "name": "stdout",
     "output_type": "stream",
     "text": [
      "data/RKI-reports/2020-04-28-de.pdf\n"
     ]
    },
    {
     "name": "stderr",
     "output_type": "stream",
     "text": [
      "Got stderr: Apr 28, 2020 1:44:28 PM org.apache.pdfbox.pdmodel.font.PDCIDFontType2 <init>\n",
      "INFO: OpenType Layout tables used in font ABCDEE+Calibri are not implemented in PDFBox and will be ignored\n",
      "Apr 28, 2020 1:44:28 PM org.apache.pdfbox.pdmodel.font.PDCIDFontType2 <init>\n",
      "INFO: OpenType Layout tables used in font ABCDEE+Calibri are not implemented in PDFBox and will be ignored\n",
      "Apr 28, 2020 1:44:29 PM org.apache.pdfbox.pdmodel.font.PDCIDFontType2 <init>\n",
      "INFO: OpenType Layout tables used in font ABCDEE+Calibri are not implemented in PDFBox and will be ignored\n",
      "\n"
     ]
    },
    {
     "name": "stdout",
     "output_type": "stream",
     "text": [
      "Extracting single data column\n",
      "Extracting 6 data columns\n"
     ]
    },
    {
     "name": "stderr",
     "output_type": "stream",
     "text": [
      "/Users/chekanskiy/Documents/projects/covid-19/venv/lib/python3.7/site-packages/pandas/core/indexing.py:966: SettingWithCopyWarning: \n",
      "A value is trying to be set on a copy of a slice from a DataFrame.\n",
      "Try using .loc[row_indexer,col_indexer] = value instead\n",
      "\n",
      "See the caveats in the documentation: https://pandas.pydata.org/pandas-docs/stable/user_guide/indexing.html#returning-a-view-versus-a-copy\n",
      "  self.obj[item] = s\n"
     ]
    },
    {
     "data": {
      "text/plain": [
       "pandas.core.frame.DataFrame"
      ]
     },
     "execution_count": 768,
     "metadata": {},
     "output_type": "execute_result"
    }
   ],
   "source": [
    "df = load_pdf('2020-04-28', lang=\"de\").head()\n",
    "type(df)"
   ]
  },
  {
   "cell_type": "markdown",
   "metadata": {},
   "source": [
    "# Batch Load"
   ]
  },
  {
   "cell_type": "code",
   "execution_count": 519,
   "metadata": {},
   "outputs": [
    {
     "name": "stdout",
     "output_type": "stream",
     "text": [
      "data/RKI-reports/2020-03-18-en.pdf\n",
      "data/RKI-reports/2020-03-19-en.pdf\n",
      "data/RKI-reports/2020-03-20-en.pdf\n",
      "data/RKI-reports/2020-03-21-en.pdf\n",
      "data/RKI-reports/2020-03-22-en.pdf\n",
      "data/RKI-reports/2020-03-23-en.pdf\n",
      "data/RKI-reports/2020-03-24-en.pdf\n",
      "data/RKI-reports/2020-03-25-en.pdf\n",
      "data/RKI-reports/2020-03-26-en.pdf\n",
      "data/RKI-reports/2020-03-27-en.pdf\n",
      "data/RKI-reports/2020-03-28-en.pdf\n",
      "data/RKI-reports/2020-03-29-en.pdf\n",
      "data/RKI-reports/2020-03-30-en.pdf\n",
      "data/RKI-reports/2020-03-31-en.pdf\n",
      "data/RKI-reports/2020-04-01-en.pdf\n",
      "data/RKI-reports/2020-04-02-en.pdf\n",
      "data/RKI-reports/2020-04-03-en.pdf\n",
      "data/RKI-reports/2020-04-04-en.pdf\n",
      "data/RKI-reports/2020-04-05-en.pdf\n",
      "data/RKI-reports/2020-04-06-en.pdf\n",
      "data/RKI-reports/2020-04-07-en.pdf\n",
      "data/RKI-reports/2020-04-08-en.pdf\n",
      "data/RKI-reports/2020-04-09-en.pdf\n",
      "data/RKI-reports/2020-04-10-en.pdf\n",
      "data/RKI-reports/2020-04-11-en.pdf\n",
      "data/RKI-reports/2020-04-12-en.pdf\n",
      "data/RKI-reports/2020-04-13-en.pdf\n",
      "data/RKI-reports/2020-04-14-en.pdf\n",
      "data/RKI-reports/2020-04-15-en.pdf\n",
      "data/RKI-reports/2020-04-16-en.pdf\n",
      "data/RKI-reports/2020-04-17-en.pdf\n"
     ]
    }
   ],
   "source": [
    "df = pd.DataFrame(columns=['data', 'land', 'confirmed', 'daily', 'per_mil', 'dead'])\n",
    "list_df = []\n",
    "start='2020-03-18'\n",
    "end='2020-04-17'\n",
    "for d in pd.date_range(start, end).date:\n",
    "    list_df.append(load_pdf(d, path=\"data/RKI-reports/{0}-{1}.pdf\", lang=\"en\"))"
   ]
  },
  {
   "cell_type": "markdown",
   "metadata": {},
   "source": [
    "## Batch Save"
   ]
  },
  {
   "cell_type": "code",
   "execution_count": 544,
   "metadata": {},
   "outputs": [],
   "source": [
    "result_df = pd.concat(list_df).drop(['daily', 'c', 'per_mil'], axis=1)"
   ]
  },
  {
   "cell_type": "code",
   "execution_count": 545,
   "metadata": {},
   "outputs": [],
   "source": [
    "result_df.to_csv('data/RKI-reports.csv', index=False)"
   ]
  },
  {
   "cell_type": "markdown",
   "metadata": {},
   "source": [
    "-----"
   ]
  },
  {
   "cell_type": "markdown",
   "metadata": {},
   "source": [
    "-----"
   ]
  },
  {
   "cell_type": "markdown",
   "metadata": {},
   "source": [
    "# Updating Reports"
   ]
  },
  {
   "cell_type": "code",
   "execution_count": 65,
   "metadata": {},
   "outputs": [
    {
     "name": "stdout",
     "output_type": "stream",
     "text": [
      "data/RKI-reports/2020-05-03-de.pdf\n"
     ]
    },
    {
     "name": "stderr",
     "output_type": "stream",
     "text": [
      "Got stderr: May 03, 2020 4:18:38 PM org.apache.pdfbox.pdmodel.font.PDCIDFontType2 <init>\n",
      "INFO: OpenType Layout tables used in font ABCDEE+Calibri are not implemented in PDFBox and will be ignored\n",
      "May 03, 2020 4:18:39 PM org.apache.pdfbox.pdmodel.font.PDCIDFontType2 <init>\n",
      "INFO: OpenType Layout tables used in font ABCDEE+Calibri are not implemented in PDFBox and will be ignored\n",
      "May 03, 2020 4:18:40 PM org.apache.pdfbox.pdmodel.font.PDCIDFontType2 <init>\n",
      "INFO: OpenType Layout tables used in font ABCDEE+Calibri are not implemented in PDFBox and will be ignored\n",
      "\n"
     ]
    },
    {
     "name": "stdout",
     "output_type": "stream",
     "text": [
      "Extracting single data column\n",
      "Extracting 6 data columns\n"
     ]
    }
   ],
   "source": [
    "df_new = load_pdf('2020-05-03', lang=\"de\")\n",
    "df_new.drop(['c', 'daily', 'per_mil'], axis=1, inplace=True)"
   ]
  },
  {
   "cell_type": "code",
   "execution_count": 66,
   "metadata": {},
   "outputs": [],
   "source": [
    "df_new = df_new[df_new.land != 'Federal State Total Number Number of Cases/ Number of'].drop_duplicates()\n",
    "\n",
    "df_new.loc[df_new['land'].str.contains('Schleswig-Holstein') == True, 'land'] = 'Schleswig-Holstein'\n",
    "df_new.loc[df_new['land'].str.contains('Baden-W') == True, 'land'] = 'Baden-Wuerttemberg'\n",
    "df_new.loc[df_new['land'].str.contains('Saxony-A') == True, 'land'] = 'Saxony-Anhalt'\n",
    "df_new.loc[df_new['land'].str.contains('Sachsen-Anhalt') == True, 'land'] = 'Saxony-Anhalt'\n",
    "df_new.loc[df_new['land'].str.contains('Mecklenburg-W') == True, 'land'] = 'Mecklenburg-Western Pomerania'\n",
    "df_new.loc[df_new['land'].str.contains('Mecklenburg-V') == True, 'land'] = 'Mecklenburg-Western Pomerania'\n",
    "\n",
    "\n",
    "df_new.loc[df_new['land'].str.contains('Nordrhein-Westfalen') == True, 'land'] = 'North Rhine-Westphalia'\n",
    "df_new.loc[df_new['land'].str.contains('Sachsen') == True, 'land'] = 'Saxony'\n",
    "df_new.loc[df_new['land'].str.contains('Rheinland-Pfalz') == True, 'land'] = 'Rhineland-Palatinate'\n",
    "df_new.loc[df_new['land'].str.contains('Niedersachsen') == True, 'land'] = 'Lower Saxony'\n",
    "df_new.loc[df_new['land'].str.contains('Hessen') == True, 'land'] = 'Hesse'\n",
    "df_new.loc[df_new['land'].str.contains('Thüringen') == True, 'land'] = 'Thuringia'"
   ]
  },
  {
   "cell_type": "code",
   "execution_count": 67,
   "metadata": {},
   "outputs": [
    {
     "data": {
      "text/html": [
       "<div>\n",
       "<style scoped>\n",
       "    .dataframe tbody tr th:only-of-type {\n",
       "        vertical-align: middle;\n",
       "    }\n",
       "\n",
       "    .dataframe tbody tr th {\n",
       "        vertical-align: top;\n",
       "    }\n",
       "\n",
       "    .dataframe thead th {\n",
       "        text-align: right;\n",
       "    }\n",
       "</style>\n",
       "<table border=\"1\" class=\"dataframe\">\n",
       "  <thead>\n",
       "    <tr style=\"text-align: right;\">\n",
       "      <th></th>\n",
       "      <th>confirmed</th>\n",
       "    </tr>\n",
       "    <tr>\n",
       "      <th>land</th>\n",
       "      <th></th>\n",
       "    </tr>\n",
       "  </thead>\n",
       "  <tbody>\n",
       "    <tr>\n",
       "      <th>Berlin</th>\n",
       "      <td>1</td>\n",
       "    </tr>\n",
       "    <tr>\n",
       "      <th>Brandenburg</th>\n",
       "      <td>1</td>\n",
       "    </tr>\n",
       "    <tr>\n",
       "      <th>Bremen</th>\n",
       "      <td>1</td>\n",
       "    </tr>\n",
       "    <tr>\n",
       "      <th>Hamburg</th>\n",
       "      <td>1</td>\n",
       "    </tr>\n",
       "    <tr>\n",
       "      <th>Hesse</th>\n",
       "      <td>1</td>\n",
       "    </tr>\n",
       "    <tr>\n",
       "      <th>Lower Saxony</th>\n",
       "      <td>1</td>\n",
       "    </tr>\n",
       "    <tr>\n",
       "      <th>Mecklenburg-Western Pomerania</th>\n",
       "      <td>1</td>\n",
       "    </tr>\n",
       "    <tr>\n",
       "      <th>North Rhine-Westphalia</th>\n",
       "      <td>1</td>\n",
       "    </tr>\n",
       "    <tr>\n",
       "      <th>Rhineland-Palatinate</th>\n",
       "      <td>1</td>\n",
       "    </tr>\n",
       "    <tr>\n",
       "      <th>Saarland</th>\n",
       "      <td>1</td>\n",
       "    </tr>\n",
       "    <tr>\n",
       "      <th>Saxony</th>\n",
       "      <td>1</td>\n",
       "    </tr>\n",
       "    <tr>\n",
       "      <th>Saxony-Anhalt</th>\n",
       "      <td>1</td>\n",
       "    </tr>\n",
       "    <tr>\n",
       "      <th>Schleswig-Holstein</th>\n",
       "      <td>1</td>\n",
       "    </tr>\n",
       "    <tr>\n",
       "      <th>Thuringia</th>\n",
       "      <td>1</td>\n",
       "    </tr>\n",
       "  </tbody>\n",
       "</table>\n",
       "</div>"
      ],
      "text/plain": [
       "                               confirmed\n",
       "land                                    \n",
       "Berlin                                 1\n",
       "Brandenburg                            1\n",
       "Bremen                                 1\n",
       "Hamburg                                1\n",
       "Hesse                                  1\n",
       "Lower Saxony                           1\n",
       "Mecklenburg-Western Pomerania          1\n",
       "North Rhine-Westphalia                 1\n",
       "Rhineland-Palatinate                   1\n",
       "Saarland                               1\n",
       "Saxony                                 1\n",
       "Saxony-Anhalt                          1\n",
       "Schleswig-Holstein                     1\n",
       "Thuringia                              1"
      ]
     },
     "execution_count": 67,
     "metadata": {},
     "output_type": "execute_result"
    }
   ],
   "source": [
    "df_new.loc[:, ['land', 'confirmed']].groupby(['land']).count().sort_values(['confirmed'], ascending=False).head(50)"
   ]
  },
  {
   "cell_type": "code",
   "execution_count": 68,
   "metadata": {},
   "outputs": [],
   "source": [
    "result_all = pd.read_csv('data/RKI-reports.csv')\n",
    "result_all['date'] = result_all['date'].astype('datetime64[ns]')"
   ]
  },
  {
   "cell_type": "code",
   "execution_count": 69,
   "metadata": {},
   "outputs": [
    {
     "data": {
      "text/html": [
       "<div>\n",
       "<style scoped>\n",
       "    .dataframe tbody tr th:only-of-type {\n",
       "        vertical-align: middle;\n",
       "    }\n",
       "\n",
       "    .dataframe tbody tr th {\n",
       "        vertical-align: top;\n",
       "    }\n",
       "\n",
       "    .dataframe thead th {\n",
       "        text-align: right;\n",
       "    }\n",
       "</style>\n",
       "<table border=\"1\" class=\"dataframe\">\n",
       "  <thead>\n",
       "    <tr style=\"text-align: right;\">\n",
       "      <th></th>\n",
       "      <th>confirmed</th>\n",
       "    </tr>\n",
       "    <tr>\n",
       "      <th>land</th>\n",
       "      <th></th>\n",
       "    </tr>\n",
       "  </thead>\n",
       "  <tbody>\n",
       "    <tr>\n",
       "      <th>Brandenburg</th>\n",
       "      <td>46</td>\n",
       "    </tr>\n",
       "    <tr>\n",
       "      <th>Bremen</th>\n",
       "      <td>46</td>\n",
       "    </tr>\n",
       "    <tr>\n",
       "      <th>Hamburg</th>\n",
       "      <td>46</td>\n",
       "    </tr>\n",
       "    <tr>\n",
       "      <th>Hesse</th>\n",
       "      <td>46</td>\n",
       "    </tr>\n",
       "    <tr>\n",
       "      <th>Lower Saxony</th>\n",
       "      <td>46</td>\n",
       "    </tr>\n",
       "    <tr>\n",
       "      <th>North Rhine-Westphalia</th>\n",
       "      <td>46</td>\n",
       "    </tr>\n",
       "    <tr>\n",
       "      <th>Rhineland-Palatinate</th>\n",
       "      <td>46</td>\n",
       "    </tr>\n",
       "    <tr>\n",
       "      <th>Saarland</th>\n",
       "      <td>46</td>\n",
       "    </tr>\n",
       "    <tr>\n",
       "      <th>Saxony</th>\n",
       "      <td>46</td>\n",
       "    </tr>\n",
       "    <tr>\n",
       "      <th>Schleswig-Holstein</th>\n",
       "      <td>46</td>\n",
       "    </tr>\n",
       "    <tr>\n",
       "      <th>Thuringia</th>\n",
       "      <td>46</td>\n",
       "    </tr>\n",
       "    <tr>\n",
       "      <th>Berlin</th>\n",
       "      <td>45</td>\n",
       "    </tr>\n",
       "    <tr>\n",
       "      <th>Saxony-Anhalt</th>\n",
       "      <td>45</td>\n",
       "    </tr>\n",
       "    <tr>\n",
       "      <th>Bavaria</th>\n",
       "      <td>43</td>\n",
       "    </tr>\n",
       "    <tr>\n",
       "      <th>Baden-Wuerttemberg</th>\n",
       "      <td>42</td>\n",
       "    </tr>\n",
       "    <tr>\n",
       "      <th>Mecklenburg-Western Pomerania</th>\n",
       "      <td>41</td>\n",
       "    </tr>\n",
       "  </tbody>\n",
       "</table>\n",
       "</div>"
      ],
      "text/plain": [
       "                               confirmed\n",
       "land                                    \n",
       "Brandenburg                           46\n",
       "Bremen                                46\n",
       "Hamburg                               46\n",
       "Hesse                                 46\n",
       "Lower Saxony                          46\n",
       "North Rhine-Westphalia                46\n",
       "Rhineland-Palatinate                  46\n",
       "Saarland                              46\n",
       "Saxony                                46\n",
       "Schleswig-Holstein                    46\n",
       "Thuringia                             46\n",
       "Berlin                                45\n",
       "Saxony-Anhalt                         45\n",
       "Bavaria                               43\n",
       "Baden-Wuerttemberg                    42\n",
       "Mecklenburg-Western Pomerania         41"
      ]
     },
     "execution_count": 69,
     "metadata": {},
     "output_type": "execute_result"
    }
   ],
   "source": [
    "result_all.loc[:, ['land', 'confirmed']].groupby(['land']).count().sort_values(['confirmed'], ascending=False).head(50)"
   ]
  },
  {
   "cell_type": "code",
   "execution_count": 70,
   "metadata": {},
   "outputs": [
    {
     "data": {
      "text/html": [
       "<div>\n",
       "<style scoped>\n",
       "    .dataframe tbody tr th:only-of-type {\n",
       "        vertical-align: middle;\n",
       "    }\n",
       "\n",
       "    .dataframe tbody tr th {\n",
       "        vertical-align: top;\n",
       "    }\n",
       "\n",
       "    .dataframe thead th {\n",
       "        text-align: right;\n",
       "    }\n",
       "</style>\n",
       "<table border=\"1\" class=\"dataframe\">\n",
       "  <thead>\n",
       "    <tr style=\"text-align: right;\">\n",
       "      <th></th>\n",
       "      <th>land</th>\n",
       "      <th>confirmed</th>\n",
       "      <th>dead</th>\n",
       "      <th>date</th>\n",
       "      <th>data</th>\n",
       "    </tr>\n",
       "  </thead>\n",
       "  <tbody>\n",
       "    <tr>\n",
       "      <th>17</th>\n",
       "      <td>Thuringia</td>\n",
       "      <td>2345</td>\n",
       "      <td>93</td>\n",
       "      <td>2020-05-03</td>\n",
       "      <td>NaN</td>\n",
       "    </tr>\n",
       "    <tr>\n",
       "      <th>16</th>\n",
       "      <td>Schleswig-Holstein</td>\n",
       "      <td>2738</td>\n",
       "      <td>113</td>\n",
       "      <td>2020-05-03</td>\n",
       "      <td>NaN</td>\n",
       "    </tr>\n",
       "    <tr>\n",
       "      <th>15</th>\n",
       "      <td>Saxony-Anhalt</td>\n",
       "      <td>1576</td>\n",
       "      <td>44</td>\n",
       "      <td>2020-05-03</td>\n",
       "      <td>NaN</td>\n",
       "    </tr>\n",
       "    <tr>\n",
       "      <th>14</th>\n",
       "      <td>Saxony</td>\n",
       "      <td>4696</td>\n",
       "      <td>165</td>\n",
       "      <td>2020-05-03</td>\n",
       "      <td>NaN</td>\n",
       "    </tr>\n",
       "    <tr>\n",
       "      <th>13</th>\n",
       "      <td>Saarland</td>\n",
       "      <td>2605</td>\n",
       "      <td>138</td>\n",
       "      <td>2020-05-03</td>\n",
       "      <td>NaN</td>\n",
       "    </tr>\n",
       "  </tbody>\n",
       "</table>\n",
       "</div>"
      ],
      "text/plain": [
       "                  land  confirmed  dead       date data\n",
       "17           Thuringia       2345    93 2020-05-03  NaN\n",
       "16  Schleswig-Holstein       2738   113 2020-05-03  NaN\n",
       "15       Saxony-Anhalt       1576    44 2020-05-03  NaN\n",
       "14              Saxony       4696   165 2020-05-03  NaN\n",
       "13            Saarland       2605   138 2020-05-03  NaN"
      ]
     },
     "execution_count": 70,
     "metadata": {},
     "output_type": "execute_result"
    }
   ],
   "source": [
    "result_concat = pd.concat([result_all, df_new]).sort_values('date', ascending=False)\n",
    "result_concat.head()"
   ]
  },
  {
   "cell_type": "code",
   "execution_count": 71,
   "metadata": {},
   "outputs": [
    {
     "data": {
      "text/html": [
       "<div>\n",
       "<style scoped>\n",
       "    .dataframe tbody tr th:only-of-type {\n",
       "        vertical-align: middle;\n",
       "    }\n",
       "\n",
       "    .dataframe tbody tr th {\n",
       "        vertical-align: top;\n",
       "    }\n",
       "\n",
       "    .dataframe thead th {\n",
       "        text-align: right;\n",
       "    }\n",
       "</style>\n",
       "<table border=\"1\" class=\"dataframe\">\n",
       "  <thead>\n",
       "    <tr style=\"text-align: right;\">\n",
       "      <th></th>\n",
       "      <th>confirmed</th>\n",
       "    </tr>\n",
       "    <tr>\n",
       "      <th>land</th>\n",
       "      <th></th>\n",
       "    </tr>\n",
       "  </thead>\n",
       "  <tbody>\n",
       "    <tr>\n",
       "      <th>Brandenburg</th>\n",
       "      <td>47</td>\n",
       "    </tr>\n",
       "    <tr>\n",
       "      <th>Bremen</th>\n",
       "      <td>47</td>\n",
       "    </tr>\n",
       "    <tr>\n",
       "      <th>Hamburg</th>\n",
       "      <td>47</td>\n",
       "    </tr>\n",
       "    <tr>\n",
       "      <th>Hesse</th>\n",
       "      <td>47</td>\n",
       "    </tr>\n",
       "    <tr>\n",
       "      <th>Lower Saxony</th>\n",
       "      <td>47</td>\n",
       "    </tr>\n",
       "    <tr>\n",
       "      <th>North Rhine-Westphalia</th>\n",
       "      <td>47</td>\n",
       "    </tr>\n",
       "    <tr>\n",
       "      <th>Rhineland-Palatinate</th>\n",
       "      <td>47</td>\n",
       "    </tr>\n",
       "    <tr>\n",
       "      <th>Saarland</th>\n",
       "      <td>47</td>\n",
       "    </tr>\n",
       "    <tr>\n",
       "      <th>Saxony</th>\n",
       "      <td>47</td>\n",
       "    </tr>\n",
       "    <tr>\n",
       "      <th>Schleswig-Holstein</th>\n",
       "      <td>47</td>\n",
       "    </tr>\n",
       "    <tr>\n",
       "      <th>Thuringia</th>\n",
       "      <td>47</td>\n",
       "    </tr>\n",
       "    <tr>\n",
       "      <th>Berlin</th>\n",
       "      <td>46</td>\n",
       "    </tr>\n",
       "    <tr>\n",
       "      <th>Saxony-Anhalt</th>\n",
       "      <td>46</td>\n",
       "    </tr>\n",
       "    <tr>\n",
       "      <th>Bavaria</th>\n",
       "      <td>43</td>\n",
       "    </tr>\n",
       "    <tr>\n",
       "      <th>Baden-Wuerttemberg</th>\n",
       "      <td>42</td>\n",
       "    </tr>\n",
       "    <tr>\n",
       "      <th>Mecklenburg-Western Pomerania</th>\n",
       "      <td>42</td>\n",
       "    </tr>\n",
       "  </tbody>\n",
       "</table>\n",
       "</div>"
      ],
      "text/plain": [
       "                               confirmed\n",
       "land                                    \n",
       "Brandenburg                           47\n",
       "Bremen                                47\n",
       "Hamburg                               47\n",
       "Hesse                                 47\n",
       "Lower Saxony                          47\n",
       "North Rhine-Westphalia                47\n",
       "Rhineland-Palatinate                  47\n",
       "Saarland                              47\n",
       "Saxony                                47\n",
       "Schleswig-Holstein                    47\n",
       "Thuringia                             47\n",
       "Berlin                                46\n",
       "Saxony-Anhalt                         46\n",
       "Bavaria                               43\n",
       "Baden-Wuerttemberg                    42\n",
       "Mecklenburg-Western Pomerania         42"
      ]
     },
     "execution_count": 71,
     "metadata": {},
     "output_type": "execute_result"
    }
   ],
   "source": [
    "result_concat.loc[:, ['land', 'confirmed']].groupby(['land']).count().sort_values(['confirmed'], ascending=False).head(50)"
   ]
  },
  {
   "cell_type": "code",
   "execution_count": 72,
   "metadata": {},
   "outputs": [
    {
     "data": {
      "text/plain": [
       "741"
      ]
     },
     "execution_count": 72,
     "metadata": {},
     "output_type": "execute_result"
    }
   ],
   "source": [
    "len(result_concat)"
   ]
  },
  {
   "cell_type": "code",
   "execution_count": 73,
   "metadata": {},
   "outputs": [],
   "source": [
    "result_concat = result_concat.loc[~((result_concat.land == 'Saxony') & (result_concat.date=='2020-03-30') & (result_concat.data.str.contains('Anhalt') == True)), :]"
   ]
  },
  {
   "cell_type": "code",
   "execution_count": 74,
   "metadata": {},
   "outputs": [],
   "source": [
    "result_concat = result_concat.drop_duplicates()"
   ]
  },
  {
   "cell_type": "code",
   "execution_count": 75,
   "metadata": {},
   "outputs": [
    {
     "data": {
      "text/plain": [
       "741"
      ]
     },
     "execution_count": 75,
     "metadata": {},
     "output_type": "execute_result"
    }
   ],
   "source": [
    "len(result_concat)"
   ]
  },
  {
   "cell_type": "code",
   "execution_count": 76,
   "metadata": {},
   "outputs": [],
   "source": [
    "result_concat.to_csv('data/RKI-reports.csv', index=False)"
   ]
  },
  {
   "cell_type": "markdown",
   "metadata": {},
   "source": [
    "---"
   ]
  },
  {
   "cell_type": "code",
   "execution_count": 77,
   "metadata": {},
   "outputs": [
    {
     "data": {
      "text/html": [
       "<div>\n",
       "<style scoped>\n",
       "    .dataframe tbody tr th:only-of-type {\n",
       "        vertical-align: middle;\n",
       "    }\n",
       "\n",
       "    .dataframe tbody tr th {\n",
       "        vertical-align: top;\n",
       "    }\n",
       "\n",
       "    .dataframe thead th {\n",
       "        text-align: right;\n",
       "    }\n",
       "</style>\n",
       "<table border=\"1\" class=\"dataframe\">\n",
       "  <thead>\n",
       "    <tr style=\"text-align: right;\">\n",
       "      <th></th>\n",
       "      <th></th>\n",
       "      <th>confirmed</th>\n",
       "    </tr>\n",
       "    <tr>\n",
       "      <th>land</th>\n",
       "      <th>date</th>\n",
       "      <th></th>\n",
       "    </tr>\n",
       "  </thead>\n",
       "  <tbody>\n",
       "    <tr>\n",
       "      <th>Baden-Wuerttemberg</th>\n",
       "      <th>2020-03-19</th>\n",
       "      <td>1</td>\n",
       "    </tr>\n",
       "    <tr>\n",
       "      <th rowspan=\"4\" valign=\"top\">Rhineland-Palatinate</th>\n",
       "      <th>2020-04-26</th>\n",
       "      <td>1</td>\n",
       "    </tr>\n",
       "    <tr>\n",
       "      <th>2020-04-17</th>\n",
       "      <td>1</td>\n",
       "    </tr>\n",
       "    <tr>\n",
       "      <th>2020-04-18</th>\n",
       "      <td>1</td>\n",
       "    </tr>\n",
       "    <tr>\n",
       "      <th>2020-04-19</th>\n",
       "      <td>1</td>\n",
       "    </tr>\n",
       "  </tbody>\n",
       "</table>\n",
       "</div>"
      ],
      "text/plain": [
       "                                 confirmed\n",
       "land                 date                 \n",
       "Baden-Wuerttemberg   2020-03-19          1\n",
       "Rhineland-Palatinate 2020-04-26          1\n",
       "                     2020-04-17          1\n",
       "                     2020-04-18          1\n",
       "                     2020-04-19          1"
      ]
     },
     "execution_count": 77,
     "metadata": {},
     "output_type": "execute_result"
    }
   ],
   "source": [
    "result_concat.loc[:, ['land', 'date', 'confirmed']].groupby(['land', 'date']).count().sort_values(['confirmed'], ascending=False).head()"
   ]
  },
  {
   "cell_type": "code",
   "execution_count": 51,
   "metadata": {},
   "outputs": [],
   "source": [
    "# result_concat.loc[(result_concat.land == 'Mecklenburg-Western Pomerania') & (result_concat.date=='2020-04-27')\n",
    "# #                   & (result_concat.data.str.contains('Anhalt') == True)\n",
    "#                   , :]"
   ]
  },
  {
   "cell_type": "code",
   "execution_count": 52,
   "metadata": {},
   "outputs": [],
   "source": [
    "# fixed_cresult.loc[fixed_cresult['land'].str.contains('Schleswig-Holstein') == True, 'land'] = 'Schleswig-Holstein'\n",
    "# fixed_cresult.loc[fixed_cresult['land'].str.contains('Baden-W') == True, 'land'] = 'Baden-Wuerttemberg'\n",
    "# fixed_cresult.loc[fixed_cresult['land'].str.contains('Saxony-A') == True, 'land'] = 'Saxony-Anhalt'\n",
    "# fixed_cresult.loc[fixed_cresult['land'].str.contains('Mecklenburg-W') == True, 'land'] = 'Mecklenburg-Western Pomerania'"
   ]
  },
  {
   "cell_type": "code",
   "execution_count": 53,
   "metadata": {},
   "outputs": [],
   "source": [
    "# fixed_cresult.loc[:, ['land', 'confirmed']].groupby(['land']).count().sort_values(['confirmed'], ascending=False).head(50)\n"
   ]
  },
  {
   "cell_type": "markdown",
   "metadata": {},
   "source": [
    "---"
   ]
  },
  {
   "cell_type": "code",
   "execution_count": 732,
   "metadata": {},
   "outputs": [],
   "source": [
    "# fixed_cresult.to_csv('data/RKI-reports.csv', index=False)"
   ]
  },
  {
   "cell_type": "markdown",
   "metadata": {},
   "source": [
    "# Add Data Manually"
   ]
  },
  {
   "cell_type": "code",
   "execution_count": 115,
   "metadata": {},
   "outputs": [
    {
     "data": {
      "text/html": [
       "<div>\n",
       "<style scoped>\n",
       "    .dataframe tbody tr th:only-of-type {\n",
       "        vertical-align: middle;\n",
       "    }\n",
       "\n",
       "    .dataframe tbody tr th {\n",
       "        vertical-align: top;\n",
       "    }\n",
       "\n",
       "    .dataframe thead th {\n",
       "        text-align: right;\n",
       "    }\n",
       "</style>\n",
       "<table border=\"1\" class=\"dataframe\">\n",
       "  <thead>\n",
       "    <tr style=\"text-align: right;\">\n",
       "      <th></th>\n",
       "      <th>confirmed</th>\n",
       "    </tr>\n",
       "    <tr>\n",
       "      <th>land</th>\n",
       "      <th></th>\n",
       "    </tr>\n",
       "  </thead>\n",
       "  <tbody>\n",
       "    <tr>\n",
       "      <th>Brandenburg</th>\n",
       "      <td>47</td>\n",
       "    </tr>\n",
       "    <tr>\n",
       "      <th>Bremen</th>\n",
       "      <td>47</td>\n",
       "    </tr>\n",
       "    <tr>\n",
       "      <th>Hamburg</th>\n",
       "      <td>47</td>\n",
       "    </tr>\n",
       "    <tr>\n",
       "      <th>Hesse</th>\n",
       "      <td>47</td>\n",
       "    </tr>\n",
       "    <tr>\n",
       "      <th>Lower Saxony</th>\n",
       "      <td>47</td>\n",
       "    </tr>\n",
       "    <tr>\n",
       "      <th>North Rhine-Westphalia</th>\n",
       "      <td>47</td>\n",
       "    </tr>\n",
       "    <tr>\n",
       "      <th>Rhineland-Palatinate</th>\n",
       "      <td>47</td>\n",
       "    </tr>\n",
       "    <tr>\n",
       "      <th>Saarland</th>\n",
       "      <td>47</td>\n",
       "    </tr>\n",
       "    <tr>\n",
       "      <th>Saxony</th>\n",
       "      <td>47</td>\n",
       "    </tr>\n",
       "    <tr>\n",
       "      <th>Schleswig-Holstein</th>\n",
       "      <td>47</td>\n",
       "    </tr>\n",
       "    <tr>\n",
       "      <th>Thuringia</th>\n",
       "      <td>47</td>\n",
       "    </tr>\n",
       "    <tr>\n",
       "      <th>Berlin</th>\n",
       "      <td>46</td>\n",
       "    </tr>\n",
       "    <tr>\n",
       "      <th>Saxony-Anhalt</th>\n",
       "      <td>46</td>\n",
       "    </tr>\n",
       "    <tr>\n",
       "      <th>Bavaria</th>\n",
       "      <td>43</td>\n",
       "    </tr>\n",
       "    <tr>\n",
       "      <th>Baden-Wuerttemberg</th>\n",
       "      <td>42</td>\n",
       "    </tr>\n",
       "    <tr>\n",
       "      <th>Mecklenburg-Western Pomerania</th>\n",
       "      <td>42</td>\n",
       "    </tr>\n",
       "  </tbody>\n",
       "</table>\n",
       "</div>"
      ],
      "text/plain": [
       "                               confirmed\n",
       "land                                    \n",
       "Brandenburg                           47\n",
       "Bremen                                47\n",
       "Hamburg                               47\n",
       "Hesse                                 47\n",
       "Lower Saxony                          47\n",
       "North Rhine-Westphalia                47\n",
       "Rhineland-Palatinate                  47\n",
       "Saarland                              47\n",
       "Saxony                                47\n",
       "Schleswig-Holstein                    47\n",
       "Thuringia                             47\n",
       "Berlin                                46\n",
       "Saxony-Anhalt                         46\n",
       "Bavaria                               43\n",
       "Baden-Wuerttemberg                    42\n",
       "Mecklenburg-Western Pomerania         42"
      ]
     },
     "execution_count": 115,
     "metadata": {},
     "output_type": "execute_result"
    }
   ],
   "source": [
    "result_concat.loc[:, ['land', 'confirmed']].groupby(['land']).count().sort_values(['confirmed'], ascending=False).head(50)"
   ]
  },
  {
   "cell_type": "code",
   "execution_count": 193,
   "metadata": {},
   "outputs": [
    {
     "name": "stdout",
     "output_type": "stream",
     "text": [
      "Baden-Wuerttemberg 2020-03-18 00:00:00\n",
      "Mecklenburg-Western Pomerania 2020-03-23 00:00:00\n",
      "Mecklenburg-Western Pomerania 2020-03-25 00:00:00\n",
      "Mecklenburg-Western Pomerania 2020-03-27 00:00:00\n",
      "Mecklenburg-Western Pomerania 2020-03-28 00:00:00\n",
      "Mecklenburg-Western Pomerania 2020-03-29 00:00:00\n",
      "Saxony-Anhalt 2020-03-30 00:00:00\n",
      "Berlin 2020-04-27 00:00:00\n",
      "Bavaria 2020-04-27 00:00:00\n",
      "Baden-Wuerttemberg 2020-04-27 00:00:00\n",
      "Bavaria 2020-04-28 00:00:00\n",
      "Baden-Wuerttemberg 2020-04-28 00:00:00\n",
      "Bavaria 2020-04-29 00:00:00\n",
      "Baden-Wuerttemberg 2020-04-29 00:00:00\n",
      "Bavaria 2020-05-03 00:00:00\n",
      "Baden-Wuerttemberg 2020-05-03 00:00:00\n"
     ]
    }
   ],
   "source": [
    "df_in = result_concat.copy()\n",
    "df_in.set_index('date', inplace=True)\n",
    "\n",
    "df_extra_dates = pd.DataFrame(\n",
    "    {'day': pd.Series([min(df_in.index) , max(df_in.index)])})\n",
    "df_extra_dates.set_index('day', inplace=True)\n",
    "df_extra_dates = df_extra_dates.asfreq('D')\n",
    "\n",
    "for d in df_extra_dates.index:\n",
    "    for l in df_in.land.unique():\n",
    "        if len(str(l)) > 3:\n",
    "            try: \n",
    "                df_in.loc[(df_in.index == d) & (df_in.land==l), 'confirmed'].values[0]\n",
    "            except:\n",
    "                print(l, d)"
   ]
  },
  {
   "cell_type": "markdown",
   "metadata": {},
   "source": [
    "----"
   ]
  },
  {
   "cell_type": "code",
   "execution_count": 175,
   "metadata": {},
   "outputs": [],
   "source": [
    "columns = ['land','confirmed','dead','date','data']\n",
    "new_data = {\"Berlin\": [\n",
    "    [5638, 125, datetime.datetime(2020, 4, 27), ''],\n",
    "],\n",
    "\"Saxony-Anhalt\": [\n",
    "    [592, 2, datetime.datetime(2020, 3, 30), ''],\n",
    "],\n",
    "\"Bavaria\": [\n",
    "    [41070, 1621, datetime.datetime(2020, 4, 27), ''],\n",
    "    [41406, 1681, datetime.datetime(2020, 4, 28), ''],\n",
    "    [41830, 1754, datetime.datetime(2020, 4, 29), ''],\n",
    "    [42792, 1910, datetime.datetime(2020, 5, 3), ''],\n",
    "],\n",
    "\"Baden-Wuerttemberg\": [\n",
    "    [1609, 2, datetime.datetime(2020, 3, 18), ''],\n",
    "    [31043, 1249, datetime.datetime(2020, 4, 27), ''],\n",
    "    [31196, 1269, datetime.datetime(2020, 4, 28), ''],\n",
    "    [31336, 1299, datetime.datetime(2020, 4, 29), ''],\n",
    "    [32291, 1412, datetime.datetime(2020, 5, 3), ''],\n",
    "    \n",
    "],\n",
    "\"Mecklenburg-Western Pomerania\": [\n",
    "    [172, 0, datetime.datetime(2020, 3, 23), ''],\n",
    "    [218, 0, datetime.datetime(2020, 3, 25), ''],\n",
    "    [259, 0, datetime.datetime(2020, 3, 27), ''],\n",
    "    [308, 0, datetime.datetime(2020, 3, 28), ''],\n",
    "    [348, 1, datetime.datetime(2020, 3, 29), ''],\n",
    "],}"
   ]
  },
  {
   "cell_type": "code",
   "execution_count": 196,
   "metadata": {},
   "outputs": [],
   "source": [
    "df_l = []\n",
    "for k in new_data:\n",
    "    for d in new_data[k]:\n",
    "        dic = {'land': k, 'confirmed':d[0],'dead':d[1],'date':d[2],'data':''}\n",
    "        df_l.append(dic)\n",
    "\n",
    "df_new_data = pd.DataFrame(df_l)\n"
   ]
  },
  {
   "cell_type": "code",
   "execution_count": 197,
   "metadata": {},
   "outputs": [],
   "source": [
    "result_concat2 = pd.concat([result_concat, df_new_data]).sort_values('date', ascending=False)"
   ]
  },
  {
   "cell_type": "code",
   "execution_count": 198,
   "metadata": {},
   "outputs": [
    {
     "data": {
      "text/html": [
       "<div>\n",
       "<style scoped>\n",
       "    .dataframe tbody tr th:only-of-type {\n",
       "        vertical-align: middle;\n",
       "    }\n",
       "\n",
       "    .dataframe tbody tr th {\n",
       "        vertical-align: top;\n",
       "    }\n",
       "\n",
       "    .dataframe thead th {\n",
       "        text-align: right;\n",
       "    }\n",
       "</style>\n",
       "<table border=\"1\" class=\"dataframe\">\n",
       "  <thead>\n",
       "    <tr style=\"text-align: right;\">\n",
       "      <th></th>\n",
       "      <th>confirmed</th>\n",
       "    </tr>\n",
       "    <tr>\n",
       "      <th>land</th>\n",
       "      <th></th>\n",
       "    </tr>\n",
       "  </thead>\n",
       "  <tbody>\n",
       "    <tr>\n",
       "      <th>Baden-Wuerttemberg</th>\n",
       "      <td>47</td>\n",
       "    </tr>\n",
       "    <tr>\n",
       "      <th>Bavaria</th>\n",
       "      <td>47</td>\n",
       "    </tr>\n",
       "    <tr>\n",
       "      <th>Berlin</th>\n",
       "      <td>47</td>\n",
       "    </tr>\n",
       "    <tr>\n",
       "      <th>Brandenburg</th>\n",
       "      <td>47</td>\n",
       "    </tr>\n",
       "    <tr>\n",
       "      <th>Bremen</th>\n",
       "      <td>47</td>\n",
       "    </tr>\n",
       "    <tr>\n",
       "      <th>Hamburg</th>\n",
       "      <td>47</td>\n",
       "    </tr>\n",
       "    <tr>\n",
       "      <th>Hesse</th>\n",
       "      <td>47</td>\n",
       "    </tr>\n",
       "    <tr>\n",
       "      <th>Lower Saxony</th>\n",
       "      <td>47</td>\n",
       "    </tr>\n",
       "    <tr>\n",
       "      <th>Mecklenburg-Western Pomerania</th>\n",
       "      <td>47</td>\n",
       "    </tr>\n",
       "    <tr>\n",
       "      <th>North Rhine-Westphalia</th>\n",
       "      <td>47</td>\n",
       "    </tr>\n",
       "    <tr>\n",
       "      <th>Rhineland-Palatinate</th>\n",
       "      <td>47</td>\n",
       "    </tr>\n",
       "    <tr>\n",
       "      <th>Saarland</th>\n",
       "      <td>47</td>\n",
       "    </tr>\n",
       "    <tr>\n",
       "      <th>Saxony</th>\n",
       "      <td>47</td>\n",
       "    </tr>\n",
       "    <tr>\n",
       "      <th>Saxony-Anhalt</th>\n",
       "      <td>47</td>\n",
       "    </tr>\n",
       "    <tr>\n",
       "      <th>Schleswig-Holstein</th>\n",
       "      <td>47</td>\n",
       "    </tr>\n",
       "    <tr>\n",
       "      <th>Thuringia</th>\n",
       "      <td>47</td>\n",
       "    </tr>\n",
       "  </tbody>\n",
       "</table>\n",
       "</div>"
      ],
      "text/plain": [
       "                               confirmed\n",
       "land                                    \n",
       "Baden-Wuerttemberg                    47\n",
       "Bavaria                               47\n",
       "Berlin                                47\n",
       "Brandenburg                           47\n",
       "Bremen                                47\n",
       "Hamburg                               47\n",
       "Hesse                                 47\n",
       "Lower Saxony                          47\n",
       "Mecklenburg-Western Pomerania         47\n",
       "North Rhine-Westphalia                47\n",
       "Rhineland-Palatinate                  47\n",
       "Saarland                              47\n",
       "Saxony                                47\n",
       "Saxony-Anhalt                         47\n",
       "Schleswig-Holstein                    47\n",
       "Thuringia                             47"
      ]
     },
     "execution_count": 198,
     "metadata": {},
     "output_type": "execute_result"
    }
   ],
   "source": [
    "result_concat2.loc[:, ['land', 'confirmed']].groupby(['land']).count().sort_values(['confirmed'], ascending=False).head(50)"
   ]
  },
  {
   "cell_type": "code",
   "execution_count": 200,
   "metadata": {},
   "outputs": [],
   "source": [
    "# result_concat2.to_csv('data/RKI-reports.csv', index=False)"
   ]
  },
  {
   "cell_type": "markdown",
   "metadata": {},
   "source": [
    "---"
   ]
  }
 ],
 "metadata": {
  "kernelspec": {
   "display_name": "Python 3",
   "language": "python",
   "name": "python3"
  },
  "language_info": {
   "codemirror_mode": {
    "name": "ipython",
    "version": 3
   },
   "file_extension": ".py",
   "mimetype": "text/x-python",
   "name": "python",
   "nbconvert_exporter": "python",
   "pygments_lexer": "ipython3",
   "version": "3.7.3"
  }
 },
 "nbformat": 4,
 "nbformat_minor": 4
}
