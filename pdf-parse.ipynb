{
 "cells": [
  {
   "cell_type": "code",
   "execution_count": 1,
   "metadata": {},
   "outputs": [],
   "source": [
    "from tabula import read_pdf\n",
    "import datetime\n",
    "import pandas as pd\n",
    "\n",
    "import warnings\n",
    "warnings.simplefilter(\"ignore\")"
   ]
  },
  {
   "cell_type": "code",
   "execution_count": 2,
   "metadata": {},
   "outputs": [],
   "source": [
    "def extract_text(l):\n",
    "    return \"\".join([k for k in l if not k.isdigit() and not k in [\".\", \",\", \"+\"]]).rstrip()\n",
    "\n",
    "\n",
    "def extract_numbers(l, el=None):\n",
    "#     lis = \"\".join([k for k in l if k.isdigit() or k in [\" \"]]).lstrip().rstrip().split(\" \")\n",
    "#     print(lis)\n",
    "#     print([m for m in lis if len(m) > 0])\n",
    "    result = [int(m) for m in \"\".join([k for k in l if k.isdigit() or k in [\" \"]]).lstrip().rstrip().split(\" \") if len(m) > 0]\n",
    "    if len(result) < 4:\n",
    "        result += [0]*(4-len(result))\n",
    "    if el is None:\n",
    "        return result\n",
    "    else:\n",
    "        return result[el]\n",
    "\n",
    "\n",
    "def count_numbers(l):\n",
    "    c = 0\n",
    "    try:\n",
    "        c += sum([1 for k in l if k.isdigit()])\n",
    "        return c\n",
    "    except:\n",
    "        return c\n",
    "\n",
    "\n",
    "def extract_number(l):\n",
    "    result = \"\".join([k for k in l.values[0] if k.isdigit()]).lstrip().rstrip()\n",
    "    if len(result) > 0:\n",
    "        return int(result)\n",
    "    else:\n",
    "        return 0\n",
    "# df.loc[:, ['confirmed']].apply(extract_number, axis=1)"
   ]
  },
  {
   "cell_type": "code",
   "execution_count": 220,
   "metadata": {},
   "outputs": [],
   "source": [
    "def fix_misaligned_row(df):\n",
    "    df = df.reset_index(drop=True)\n",
    "    for row in df.itertuples():\n",
    "        try:\n",
    "            if row.land != 'nan' and \"Mecklenburg\" not in row.land and pd.isnull(sum(row[2:])) == True:\n",
    "                prev_index = row[0]-1\n",
    "                df.loc[prev_index, 'land'] = (str(df.loc[prev_index, 'land']).replace('nan', '') + ' ' + str(row.land).replace('nan', '')).strip()\n",
    "            if \"Mecklenburg\" in row.land or \"Pomerania\" in row.land:\n",
    "                df.loc[df.land == row.land, 'land'] = 'Mecklenburg-Western Pomerania'\n",
    "        except:\n",
    "            pass\n",
    "    return df\n",
    "\n",
    "\n",
    "def load_pdf(date, path=\"RKI-reports/{0}-{1}.pdf\", lang=\"en\"):\n",
    "    from tabula import read_pdf\n",
    "    path = path.format(date, lang)\n",
    "    print(path)\n",
    "    df = read_pdf(path, pages=[2])\n",
    "    df = df[0].iloc[4:]\n",
    "    try:\n",
    "        print(\"Extracting single data column\")\n",
    "        df.columns = ['data']\n",
    "        df['c'] = df.loc[:, 'data'].apply(count_numbers)\n",
    "        df = fix_misaligned_row(df)\n",
    "        df = df[df.c != 0]\n",
    "        df['land'] = df.loc[:, 'data'].apply(extract_text)\n",
    "        df['confirmed'] = df.loc[:, 'data'].apply(extract_numbers, args=[0])\n",
    "        df['daily'] = df.loc[:, 'data'].apply(extract_numbers, args=[1])\n",
    "        df['per_mil'] = df.loc[:, 'data'].apply(extract_numbers, args=[2])\n",
    "        df['dead'] = df.loc[:, 'data'].apply(extract_numbers, args=[3])\n",
    "    except:\n",
    "        if len(df.columns) == 4:\n",
    "            print(\"Extracting 4 data columns\")\n",
    "            df.columns = ['land', 'confirmed', 'daily', 'dead']\n",
    "            df['per_mil'] = 0\n",
    "            df = df.loc[:, ['land', 'confirmed', 'daily', 'per_mil', 'dead']]\n",
    "        elif len(df.columns) == 5:\n",
    "            print(\"Extracting 5 data columns\")\n",
    "            df.columns = ['land', 'confirmed', 'daily', 'per_mil', 'dead']\n",
    "        elif len(df.columns) == 6:\n",
    "            print(\"Extracting 6 data columns\")\n",
    "            df.columns = ['land', 'confirmed', 'daily', 'per_mil', 'dead', 'dead_per_100k']\n",
    "            print(df.head(20))\n",
    "        else:\n",
    "            print(f\"Falied to exctract {len(df.columns)} data columns\")\n",
    "            print(df)\n",
    "            raise Exception\n",
    "        df = fix_misaligned_row(df)\n",
    "        df.drop(['dead_per_100k'], axis=1, inplace=True)\n",
    "        df['c'] = df.loc[:, 'confirmed'].apply(count_numbers)\n",
    "        df = df.loc[df.c != 0, :]\n",
    "        df.loc[:,['confirmed']] = df.loc[:,['confirmed']].apply(extract_number, axis=1)\n",
    "        df.loc[:,['daily']] = df.loc[:,['daily']].apply(extract_number, axis=1)\n",
    "        df.loc[:,['dead']] = df.loc[:,['dead']].apply(extract_number, axis=1)\n",
    "    df.loc[df.land.isnull() == True, 'land'] = 'Mecklenburg-Western Pomerania'\n",
    "    df = df.loc[(df.land.str.contains('cases') == False) & (df.land != 'Total') \n",
    "                & (df.land.str.contains('Gesamt') == False), :]\n",
    "    try:\n",
    "        df['date'] = datetime.datetime.strptime(date, \"%Y-%m-%d\")\n",
    "    except:\n",
    "        df['date'] = date\n",
    "    df.drop('c', axis=1, inplace=True)\n",
    "    return df.reset_index(drop=True)"
   ]
  },
  {
   "cell_type": "markdown",
   "metadata": {},
   "source": [
    "# Test Load"
   ]
  },
  {
   "cell_type": "code",
   "execution_count": 221,
   "metadata": {},
   "outputs": [
    {
     "name": "stdout",
     "output_type": "stream",
     "text": [
      "RKI-reports/2020-05-11-en.pdf\n",
      "Extracting single data column\n",
      "Extracting 6 data columns\n",
      "                      land confirmed daily per_mil   dead dead_per_100k\n",
      "4      Baden-Wuerttemberg*    33,190   -97     300  1,545          14.0\n",
      "5                  Bavaria    44,368   103     339  2,155          16.5\n",
      "6                   Berlin     6,272    11     167    165           4.4\n",
      "7              Brandenburg     3,106     5     124    134           5.3\n",
      "8                   Bremen     1,055    12     154     34           5.0\n",
      "9                  Hamburg     4,780     8     260    204          11.1\n",
      "10                   Hesse     9,012    14     144    412           6.6\n",
      "11     Mecklenburg-Western       NaN   NaN     NaN    NaN           NaN\n",
      "12                     NaN       728     2      45     19           1.2\n",
      "13               Pomerania       NaN   NaN     NaN    NaN           NaN\n",
      "14            Lower Saxony    10,854    27     136    498           6.2\n",
      "15  North Rhine-Westphalia    35,132   168     196  1,437           8.0\n",
      "16    Rhineland-Palatinate     6,313    22     155    195           4.8\n",
      "17                Saarland     2,665     2     269    142          14.3\n",
      "18                  Saxony     4,915    29     121    187           4.6\n",
      "19           Saxony-Anhalt     1,643     3      74     48           2.2\n",
      "20      Schleswig-Holstein     2,957    19     102    124           4.3\n",
      "21               Thuringia     2,585    29     121    118           5.5\n",
      "22                   Total   169,575   357     204  7,417           8.9\n"
     ]
    },
    {
     "data": {
      "text/html": [
       "<div>\n",
       "<style scoped>\n",
       "    .dataframe tbody tr th:only-of-type {\n",
       "        vertical-align: middle;\n",
       "    }\n",
       "\n",
       "    .dataframe tbody tr th {\n",
       "        vertical-align: top;\n",
       "    }\n",
       "\n",
       "    .dataframe thead th {\n",
       "        text-align: right;\n",
       "    }\n",
       "</style>\n",
       "<table border=\"1\" class=\"dataframe\">\n",
       "  <thead>\n",
       "    <tr style=\"text-align: right;\">\n",
       "      <th></th>\n",
       "      <th>land</th>\n",
       "      <th>confirmed</th>\n",
       "      <th>daily</th>\n",
       "      <th>per_mil</th>\n",
       "      <th>dead</th>\n",
       "      <th>date</th>\n",
       "    </tr>\n",
       "  </thead>\n",
       "  <tbody>\n",
       "    <tr>\n",
       "      <th>0</th>\n",
       "      <td>Baden-Wuerttemberg*</td>\n",
       "      <td>33190</td>\n",
       "      <td>97</td>\n",
       "      <td>300</td>\n",
       "      <td>1545</td>\n",
       "      <td>2020-05-11</td>\n",
       "    </tr>\n",
       "    <tr>\n",
       "      <th>1</th>\n",
       "      <td>Bavaria</td>\n",
       "      <td>44368</td>\n",
       "      <td>103</td>\n",
       "      <td>339</td>\n",
       "      <td>2155</td>\n",
       "      <td>2020-05-11</td>\n",
       "    </tr>\n",
       "    <tr>\n",
       "      <th>2</th>\n",
       "      <td>Berlin</td>\n",
       "      <td>6272</td>\n",
       "      <td>11</td>\n",
       "      <td>167</td>\n",
       "      <td>165</td>\n",
       "      <td>2020-05-11</td>\n",
       "    </tr>\n",
       "    <tr>\n",
       "      <th>3</th>\n",
       "      <td>Brandenburg</td>\n",
       "      <td>3106</td>\n",
       "      <td>5</td>\n",
       "      <td>124</td>\n",
       "      <td>134</td>\n",
       "      <td>2020-05-11</td>\n",
       "    </tr>\n",
       "    <tr>\n",
       "      <th>4</th>\n",
       "      <td>Bremen</td>\n",
       "      <td>1055</td>\n",
       "      <td>12</td>\n",
       "      <td>154</td>\n",
       "      <td>34</td>\n",
       "      <td>2020-05-11</td>\n",
       "    </tr>\n",
       "    <tr>\n",
       "      <th>5</th>\n",
       "      <td>Hamburg</td>\n",
       "      <td>4780</td>\n",
       "      <td>8</td>\n",
       "      <td>260</td>\n",
       "      <td>204</td>\n",
       "      <td>2020-05-11</td>\n",
       "    </tr>\n",
       "    <tr>\n",
       "      <th>6</th>\n",
       "      <td>Hesse</td>\n",
       "      <td>9012</td>\n",
       "      <td>14</td>\n",
       "      <td>144</td>\n",
       "      <td>412</td>\n",
       "      <td>2020-05-11</td>\n",
       "    </tr>\n",
       "    <tr>\n",
       "      <th>7</th>\n",
       "      <td>Mecklenburg-Western Pomerania</td>\n",
       "      <td>728</td>\n",
       "      <td>2</td>\n",
       "      <td>45</td>\n",
       "      <td>19</td>\n",
       "      <td>2020-05-11</td>\n",
       "    </tr>\n",
       "    <tr>\n",
       "      <th>8</th>\n",
       "      <td>Lower Saxony</td>\n",
       "      <td>10854</td>\n",
       "      <td>27</td>\n",
       "      <td>136</td>\n",
       "      <td>498</td>\n",
       "      <td>2020-05-11</td>\n",
       "    </tr>\n",
       "    <tr>\n",
       "      <th>9</th>\n",
       "      <td>North Rhine-Westphalia</td>\n",
       "      <td>35132</td>\n",
       "      <td>168</td>\n",
       "      <td>196</td>\n",
       "      <td>1437</td>\n",
       "      <td>2020-05-11</td>\n",
       "    </tr>\n",
       "    <tr>\n",
       "      <th>10</th>\n",
       "      <td>Rhineland-Palatinate</td>\n",
       "      <td>6313</td>\n",
       "      <td>22</td>\n",
       "      <td>155</td>\n",
       "      <td>195</td>\n",
       "      <td>2020-05-11</td>\n",
       "    </tr>\n",
       "    <tr>\n",
       "      <th>11</th>\n",
       "      <td>Saarland</td>\n",
       "      <td>2665</td>\n",
       "      <td>2</td>\n",
       "      <td>269</td>\n",
       "      <td>142</td>\n",
       "      <td>2020-05-11</td>\n",
       "    </tr>\n",
       "    <tr>\n",
       "      <th>12</th>\n",
       "      <td>Saxony</td>\n",
       "      <td>4915</td>\n",
       "      <td>29</td>\n",
       "      <td>121</td>\n",
       "      <td>187</td>\n",
       "      <td>2020-05-11</td>\n",
       "    </tr>\n",
       "    <tr>\n",
       "      <th>13</th>\n",
       "      <td>Saxony-Anhalt</td>\n",
       "      <td>1643</td>\n",
       "      <td>3</td>\n",
       "      <td>74</td>\n",
       "      <td>48</td>\n",
       "      <td>2020-05-11</td>\n",
       "    </tr>\n",
       "    <tr>\n",
       "      <th>14</th>\n",
       "      <td>Schleswig-Holstein</td>\n",
       "      <td>2957</td>\n",
       "      <td>19</td>\n",
       "      <td>102</td>\n",
       "      <td>124</td>\n",
       "      <td>2020-05-11</td>\n",
       "    </tr>\n",
       "    <tr>\n",
       "      <th>15</th>\n",
       "      <td>Thuringia</td>\n",
       "      <td>2585</td>\n",
       "      <td>29</td>\n",
       "      <td>121</td>\n",
       "      <td>118</td>\n",
       "      <td>2020-05-11</td>\n",
       "    </tr>\n",
       "  </tbody>\n",
       "</table>\n",
       "</div>"
      ],
      "text/plain": [
       "                             land  confirmed  daily per_mil  dead       date\n",
       "0             Baden-Wuerttemberg*      33190     97     300  1545 2020-05-11\n",
       "1                         Bavaria      44368    103     339  2155 2020-05-11\n",
       "2                          Berlin       6272     11     167   165 2020-05-11\n",
       "3                     Brandenburg       3106      5     124   134 2020-05-11\n",
       "4                          Bremen       1055     12     154    34 2020-05-11\n",
       "5                         Hamburg       4780      8     260   204 2020-05-11\n",
       "6                           Hesse       9012     14     144   412 2020-05-11\n",
       "7   Mecklenburg-Western Pomerania        728      2      45    19 2020-05-11\n",
       "8                    Lower Saxony      10854     27     136   498 2020-05-11\n",
       "9          North Rhine-Westphalia      35132    168     196  1437 2020-05-11\n",
       "10           Rhineland-Palatinate       6313     22     155   195 2020-05-11\n",
       "11                       Saarland       2665      2     269   142 2020-05-11\n",
       "12                         Saxony       4915     29     121   187 2020-05-11\n",
       "13                  Saxony-Anhalt       1643      3      74    48 2020-05-11\n",
       "14             Schleswig-Holstein       2957     19     102   124 2020-05-11\n",
       "15                      Thuringia       2585     29     121   118 2020-05-11"
      ]
     },
     "execution_count": 221,
     "metadata": {},
     "output_type": "execute_result"
    }
   ],
   "source": [
    "df = load_pdf('2020-05-11', lang=\"en\")\n",
    "df"
   ]
  },
  {
   "cell_type": "markdown",
   "metadata": {},
   "source": [
    "# Batch Load"
   ]
  },
  {
   "cell_type": "code",
   "execution_count": 187,
   "metadata": {},
   "outputs": [],
   "source": [
    "# df = pd.DataFrame(columns=['data', 'land', 'confirmed', 'daily', 'per_mil', 'dead'])\n",
    "# list_df = []\n",
    "# start='2020-03-18'\n",
    "# end='2020-04-17'\n",
    "# for d in pd.date_range(start, end).date:\n",
    "#     list_df.append(load_pdf(d, path=\"data/RKI-reports/{0}-{1}.pdf\", lang=\"en\"))"
   ]
  },
  {
   "cell_type": "markdown",
   "metadata": {},
   "source": [
    "## Batch Save"
   ]
  },
  {
   "cell_type": "code",
   "execution_count": 188,
   "metadata": {},
   "outputs": [],
   "source": [
    "# result_df = pd.concat(list_df).drop(['daily', 'c', 'per_mil'], axis=1)\n",
    "# result_df.to_csv('data/RKI-reports.csv', index=False)"
   ]
  },
  {
   "cell_type": "markdown",
   "metadata": {},
   "source": [
    "-----"
   ]
  },
  {
   "cell_type": "markdown",
   "metadata": {},
   "source": [
    "-----"
   ]
  },
  {
   "cell_type": "markdown",
   "metadata": {},
   "source": [
    "# Updating Reports"
   ]
  },
  {
   "cell_type": "code",
   "execution_count": 274,
   "metadata": {},
   "outputs": [
    {
     "name": "stdout",
     "output_type": "stream",
     "text": [
      "RKI-reports/2020-05-15-en.pdf\n",
      "Extracting single data column\n",
      "Extracting 6 data columns\n",
      "                      land confirmed daily per_mil   dead dead_per_100k\n",
      "4       Baden-Wuerttemberg    33,851   181     306  1,628          14.7\n",
      "5                  Bavaria    45,143   163     345  2,260          17.3\n",
      "6                   Berlin     6,397    55     171    177           4.7\n",
      "7              Brandenburg     3,158    23     126    148           5.9\n",
      "8                   Bremen     1,129    25     165     37           5.4\n",
      "9                  Hamburg     4,981     5     271    228          12.4\n",
      "10                   Hesse     9,204    35     147    429           6.8\n",
      "11     Mecklenburg-Western       NaN   NaN     NaN    NaN           NaN\n",
      "12                     NaN       740     1      46     20           1.2\n",
      "13               Pomerania       NaN   NaN     NaN    NaN           NaN\n",
      "14            Lower Saxony    11,087    84     139    534           6.7\n",
      "15  North Rhine-Westphalia    35,967   226     201  1,493           8.3\n",
      "16    Rhineland-Palatinate     6,413    31     157    213           5.2\n",
      "17                Saarland     2,684     7     271    147          14.8\n",
      "18                  Saxony     5,061    30     124    195           4.8\n",
      "19           Saxony-Anhalt     1,668    12      76     54           2.4\n",
      "20      Schleswig-Holstein     2,988     6     103    126           4.3\n",
      "21               Thuringia     2,681    29     125    135           6.3\n",
      "22                   Total   173,152   913     208  7,824           9.4\n"
     ]
    }
   ],
   "source": [
    "df_new = load_pdf('2020-05-15', lang=\"en\")\n",
    "df_new.drop(['daily', 'per_mil'], axis=1, inplace=True)"
   ]
  },
  {
   "cell_type": "code",
   "execution_count": 275,
   "metadata": {},
   "outputs": [],
   "source": [
    "df_new = df_new[df_new.land != 'Federal State Total Number Number of Cases/ Number of'].drop_duplicates()\n",
    "\n",
    "df_new.loc[df_new['land'].str.contains('Schleswig-Holstein') == True, 'land'] = 'Schleswig-Holstein'\n",
    "df_new.loc[df_new['land'].str.contains('Baden-W') == True, 'land'] = 'Baden-Wuerttemberg'\n",
    "df_new.loc[df_new['land'].str.contains('Saxony-A') == True, 'land'] = 'Saxony-Anhalt'\n",
    "df_new.loc[df_new['land'].str.contains('Sachsen-Anhalt') == True, 'land'] = 'Saxony-Anhalt'\n",
    "df_new.loc[df_new['land'].str.contains('Mecklenburg-W') == True, 'land'] = 'Mecklenburg-Western Pomerania'\n",
    "df_new.loc[df_new['land'].str.contains('Mecklenburg-V') == True, 'land'] = 'Mecklenburg-Western Pomerania'\n",
    "\n",
    "\n",
    "df_new.loc[df_new['land'].str.contains('Nordrhein-Westfalen') == True, 'land'] = 'North Rhine-Westphalia'\n",
    "df_new.loc[df_new['land'].str.contains('Sachsen') == True, 'land'] = 'Saxony'\n",
    "df_new.loc[df_new['land'].str.contains('Rheinland-Pfalz') == True, 'land'] = 'Rhineland-Palatinate'\n",
    "df_new.loc[df_new['land'].str.contains('Niedersachsen') == True, 'land'] = 'Lower Saxony'\n",
    "df_new.loc[df_new['land'].str.contains('Hessen') == True, 'land'] = 'Hesse'\n",
    "df_new.loc[df_new['land'].str.contains('Thüringen') == True, 'land'] = 'Thuringia'"
   ]
  },
  {
   "cell_type": "code",
   "execution_count": 276,
   "metadata": {},
   "outputs": [
    {
     "data": {
      "text/html": [
       "<div>\n",
       "<style scoped>\n",
       "    .dataframe tbody tr th:only-of-type {\n",
       "        vertical-align: middle;\n",
       "    }\n",
       "\n",
       "    .dataframe tbody tr th {\n",
       "        vertical-align: top;\n",
       "    }\n",
       "\n",
       "    .dataframe thead th {\n",
       "        text-align: right;\n",
       "    }\n",
       "</style>\n",
       "<table border=\"1\" class=\"dataframe\">\n",
       "  <thead>\n",
       "    <tr style=\"text-align: right;\">\n",
       "      <th></th>\n",
       "      <th>land</th>\n",
       "      <th>confirmed</th>\n",
       "      <th>dead</th>\n",
       "      <th>date</th>\n",
       "    </tr>\n",
       "  </thead>\n",
       "  <tbody>\n",
       "    <tr>\n",
       "      <th>0</th>\n",
       "      <td>Baden-Wuerttemberg</td>\n",
       "      <td>33851</td>\n",
       "      <td>1628</td>\n",
       "      <td>2020-05-15</td>\n",
       "    </tr>\n",
       "    <tr>\n",
       "      <th>1</th>\n",
       "      <td>Bavaria</td>\n",
       "      <td>45143</td>\n",
       "      <td>2260</td>\n",
       "      <td>2020-05-15</td>\n",
       "    </tr>\n",
       "    <tr>\n",
       "      <th>2</th>\n",
       "      <td>Berlin</td>\n",
       "      <td>6397</td>\n",
       "      <td>177</td>\n",
       "      <td>2020-05-15</td>\n",
       "    </tr>\n",
       "    <tr>\n",
       "      <th>3</th>\n",
       "      <td>Brandenburg</td>\n",
       "      <td>3158</td>\n",
       "      <td>148</td>\n",
       "      <td>2020-05-15</td>\n",
       "    </tr>\n",
       "    <tr>\n",
       "      <th>4</th>\n",
       "      <td>Bremen</td>\n",
       "      <td>1129</td>\n",
       "      <td>37</td>\n",
       "      <td>2020-05-15</td>\n",
       "    </tr>\n",
       "    <tr>\n",
       "      <th>5</th>\n",
       "      <td>Hamburg</td>\n",
       "      <td>4981</td>\n",
       "      <td>228</td>\n",
       "      <td>2020-05-15</td>\n",
       "    </tr>\n",
       "    <tr>\n",
       "      <th>6</th>\n",
       "      <td>Hesse</td>\n",
       "      <td>9204</td>\n",
       "      <td>429</td>\n",
       "      <td>2020-05-15</td>\n",
       "    </tr>\n",
       "    <tr>\n",
       "      <th>7</th>\n",
       "      <td>Mecklenburg-Western Pomerania</td>\n",
       "      <td>740</td>\n",
       "      <td>20</td>\n",
       "      <td>2020-05-15</td>\n",
       "    </tr>\n",
       "    <tr>\n",
       "      <th>8</th>\n",
       "      <td>Lower Saxony</td>\n",
       "      <td>11087</td>\n",
       "      <td>534</td>\n",
       "      <td>2020-05-15</td>\n",
       "    </tr>\n",
       "    <tr>\n",
       "      <th>9</th>\n",
       "      <td>North Rhine-Westphalia</td>\n",
       "      <td>35967</td>\n",
       "      <td>1493</td>\n",
       "      <td>2020-05-15</td>\n",
       "    </tr>\n",
       "    <tr>\n",
       "      <th>10</th>\n",
       "      <td>Rhineland-Palatinate</td>\n",
       "      <td>6413</td>\n",
       "      <td>213</td>\n",
       "      <td>2020-05-15</td>\n",
       "    </tr>\n",
       "    <tr>\n",
       "      <th>11</th>\n",
       "      <td>Saarland</td>\n",
       "      <td>2684</td>\n",
       "      <td>147</td>\n",
       "      <td>2020-05-15</td>\n",
       "    </tr>\n",
       "    <tr>\n",
       "      <th>12</th>\n",
       "      <td>Saxony</td>\n",
       "      <td>5061</td>\n",
       "      <td>195</td>\n",
       "      <td>2020-05-15</td>\n",
       "    </tr>\n",
       "    <tr>\n",
       "      <th>13</th>\n",
       "      <td>Saxony-Anhalt</td>\n",
       "      <td>1668</td>\n",
       "      <td>54</td>\n",
       "      <td>2020-05-15</td>\n",
       "    </tr>\n",
       "    <tr>\n",
       "      <th>14</th>\n",
       "      <td>Schleswig-Holstein</td>\n",
       "      <td>2988</td>\n",
       "      <td>126</td>\n",
       "      <td>2020-05-15</td>\n",
       "    </tr>\n",
       "    <tr>\n",
       "      <th>15</th>\n",
       "      <td>Thuringia</td>\n",
       "      <td>2681</td>\n",
       "      <td>135</td>\n",
       "      <td>2020-05-15</td>\n",
       "    </tr>\n",
       "  </tbody>\n",
       "</table>\n",
       "</div>"
      ],
      "text/plain": [
       "                             land  confirmed  dead       date\n",
       "0              Baden-Wuerttemberg      33851  1628 2020-05-15\n",
       "1                         Bavaria      45143  2260 2020-05-15\n",
       "2                          Berlin       6397   177 2020-05-15\n",
       "3                     Brandenburg       3158   148 2020-05-15\n",
       "4                          Bremen       1129    37 2020-05-15\n",
       "5                         Hamburg       4981   228 2020-05-15\n",
       "6                           Hesse       9204   429 2020-05-15\n",
       "7   Mecklenburg-Western Pomerania        740    20 2020-05-15\n",
       "8                    Lower Saxony      11087   534 2020-05-15\n",
       "9          North Rhine-Westphalia      35967  1493 2020-05-15\n",
       "10           Rhineland-Palatinate       6413   213 2020-05-15\n",
       "11                       Saarland       2684   147 2020-05-15\n",
       "12                         Saxony       5061   195 2020-05-15\n",
       "13                  Saxony-Anhalt       1668    54 2020-05-15\n",
       "14             Schleswig-Holstein       2988   126 2020-05-15\n",
       "15                      Thuringia       2681   135 2020-05-15"
      ]
     },
     "execution_count": 276,
     "metadata": {},
     "output_type": "execute_result"
    }
   ],
   "source": [
    "df_new"
   ]
  },
  {
   "cell_type": "code",
   "execution_count": 277,
   "metadata": {},
   "outputs": [
    {
     "data": {
      "text/html": [
       "<div>\n",
       "<style scoped>\n",
       "    .dataframe tbody tr th:only-of-type {\n",
       "        vertical-align: middle;\n",
       "    }\n",
       "\n",
       "    .dataframe tbody tr th {\n",
       "        vertical-align: top;\n",
       "    }\n",
       "\n",
       "    .dataframe thead th {\n",
       "        text-align: right;\n",
       "    }\n",
       "</style>\n",
       "<table border=\"1\" class=\"dataframe\">\n",
       "  <thead>\n",
       "    <tr style=\"text-align: right;\">\n",
       "      <th></th>\n",
       "      <th>confirmed</th>\n",
       "    </tr>\n",
       "    <tr>\n",
       "      <th>land</th>\n",
       "      <th></th>\n",
       "    </tr>\n",
       "  </thead>\n",
       "  <tbody>\n",
       "    <tr>\n",
       "      <th>Baden-Wuerttemberg</th>\n",
       "      <td>1</td>\n",
       "    </tr>\n",
       "    <tr>\n",
       "      <th>Bavaria</th>\n",
       "      <td>1</td>\n",
       "    </tr>\n",
       "    <tr>\n",
       "      <th>Berlin</th>\n",
       "      <td>1</td>\n",
       "    </tr>\n",
       "    <tr>\n",
       "      <th>Brandenburg</th>\n",
       "      <td>1</td>\n",
       "    </tr>\n",
       "    <tr>\n",
       "      <th>Bremen</th>\n",
       "      <td>1</td>\n",
       "    </tr>\n",
       "    <tr>\n",
       "      <th>Hamburg</th>\n",
       "      <td>1</td>\n",
       "    </tr>\n",
       "    <tr>\n",
       "      <th>Hesse</th>\n",
       "      <td>1</td>\n",
       "    </tr>\n",
       "    <tr>\n",
       "      <th>Lower Saxony</th>\n",
       "      <td>1</td>\n",
       "    </tr>\n",
       "    <tr>\n",
       "      <th>Mecklenburg-Western Pomerania</th>\n",
       "      <td>1</td>\n",
       "    </tr>\n",
       "    <tr>\n",
       "      <th>North Rhine-Westphalia</th>\n",
       "      <td>1</td>\n",
       "    </tr>\n",
       "    <tr>\n",
       "      <th>Rhineland-Palatinate</th>\n",
       "      <td>1</td>\n",
       "    </tr>\n",
       "    <tr>\n",
       "      <th>Saarland</th>\n",
       "      <td>1</td>\n",
       "    </tr>\n",
       "    <tr>\n",
       "      <th>Saxony</th>\n",
       "      <td>1</td>\n",
       "    </tr>\n",
       "    <tr>\n",
       "      <th>Saxony-Anhalt</th>\n",
       "      <td>1</td>\n",
       "    </tr>\n",
       "    <tr>\n",
       "      <th>Schleswig-Holstein</th>\n",
       "      <td>1</td>\n",
       "    </tr>\n",
       "    <tr>\n",
       "      <th>Thuringia</th>\n",
       "      <td>1</td>\n",
       "    </tr>\n",
       "  </tbody>\n",
       "</table>\n",
       "</div>"
      ],
      "text/plain": [
       "                               confirmed\n",
       "land                                    \n",
       "Baden-Wuerttemberg                     1\n",
       "Bavaria                                1\n",
       "Berlin                                 1\n",
       "Brandenburg                            1\n",
       "Bremen                                 1\n",
       "Hamburg                                1\n",
       "Hesse                                  1\n",
       "Lower Saxony                           1\n",
       "Mecklenburg-Western Pomerania          1\n",
       "North Rhine-Westphalia                 1\n",
       "Rhineland-Palatinate                   1\n",
       "Saarland                               1\n",
       "Saxony                                 1\n",
       "Saxony-Anhalt                          1\n",
       "Schleswig-Holstein                     1\n",
       "Thuringia                              1"
      ]
     },
     "execution_count": 277,
     "metadata": {},
     "output_type": "execute_result"
    }
   ],
   "source": [
    "df_new.loc[:, ['land', 'confirmed']].groupby(['land']).count().sort_values(['confirmed'], ascending=False)"
   ]
  },
  {
   "cell_type": "code",
   "execution_count": 288,
   "metadata": {},
   "outputs": [],
   "source": [
    "result_all = pd.read_csv('RKI-reports.csv')\n",
    "result_all['date'] = result_all['date'].astype('datetime64[ns]')"
   ]
  },
  {
   "cell_type": "code",
   "execution_count": 289,
   "metadata": {},
   "outputs": [],
   "source": [
    "# result_all.loc[~((result_all.land == 'Mecklenburg-Western Pomerania') & (result_all.confirmed > 43000)), :]"
   ]
  },
  {
   "cell_type": "code",
   "execution_count": 290,
   "metadata": {},
   "outputs": [
    {
     "name": "stdout",
     "output_type": "stream",
     "text": [
      "                               confirmed\n",
      "land                                    \n",
      "Baden-Wuerttemberg                    58\n",
      "Bavaria                               58\n",
      "Berlin                                58\n",
      "Brandenburg                           58\n",
      "Bremen                                58\n",
      "Hamburg                               58\n",
      "Hesse                                 58\n",
      "Lower Saxony                          58\n",
      "Mecklenburg-Western Pomerania         58\n",
      "North Rhine-Westphalia                58\n",
      "Rhineland-Palatinate                  58\n",
      "Saarland                              58\n",
      "Saxony                                58\n",
      "Saxony-Anhalt                         58\n",
      "Schleswig-Holstein                    58\n",
      "Thuringia                             58\n"
     ]
    }
   ],
   "source": [
    "print(result_all.loc[:, ['land', 'confirmed']].groupby(['land']).count().sort_values(['confirmed'], ascending=False).head(50))"
   ]
  },
  {
   "cell_type": "code",
   "execution_count": 291,
   "metadata": {},
   "outputs": [
    {
     "name": "stdout",
     "output_type": "stream",
     "text": [
      "                             land  confirmed  dead       date data\n",
      "15                      Thuringia       2681   135 2020-05-15  NaN\n",
      "7   Mecklenburg-Western Pomerania        740    20 2020-05-15  NaN\n"
     ]
    }
   ],
   "source": [
    "result_concat = pd.concat([result_all, df_new]).sort_values('date', ascending=False)\n",
    "print(result_concat.head(2))"
   ]
  },
  {
   "cell_type": "code",
   "execution_count": 292,
   "metadata": {},
   "outputs": [
    {
     "data": {
      "text/plain": [
       "Timestamp('2020-05-14 00:00:00')"
      ]
     },
     "execution_count": 292,
     "metadata": {},
     "output_type": "execute_result"
    }
   ],
   "source": [
    "result_all.date.max()"
   ]
  },
  {
   "cell_type": "code",
   "execution_count": 293,
   "metadata": {},
   "outputs": [
    {
     "data": {
      "text/plain": [
       "Timestamp('2020-05-15 00:00:00')"
      ]
     },
     "execution_count": 293,
     "metadata": {},
     "output_type": "execute_result"
    }
   ],
   "source": [
    "result_concat.date.max()"
   ]
  },
  {
   "cell_type": "code",
   "execution_count": 282,
   "metadata": {},
   "outputs": [
    {
     "name": "stdout",
     "output_type": "stream",
     "text": [
      "949\n",
      "                               confirmed\n",
      "land                                    \n",
      "Baden-Wuerttemberg                    59\n",
      "Bavaria                               59\n",
      "Berlin                                59\n",
      "Brandenburg                           59\n",
      "Bremen                                59\n",
      "Hamburg                               59\n",
      "Hesse                                 59\n",
      "Lower Saxony                          59\n",
      "Mecklenburg-Western Pomerania         59\n",
      "North Rhine-Westphalia                59\n",
      "Rhineland-Palatinate                  59\n",
      "Saarland                              59\n",
      "Saxony                                59\n",
      "Saxony-Anhalt                         59\n",
      "Schleswig-Holstein                    59\n",
      "Thuringia                             59\n"
     ]
    }
   ],
   "source": [
    "print(len(result_concat))\n",
    "print(result_concat.loc[:, ['land', 'confirmed']].groupby(['land']).count().sort_values(['confirmed'], ascending=False).head(50))"
   ]
  },
  {
   "cell_type": "code",
   "execution_count": 283,
   "metadata": {},
   "outputs": [],
   "source": [
    "# result_concat = result_concat.loc[~((result_concat.land == 'Saxony') & (result_concat.date=='2020-03-30') & (result_concat.data.str.contains('Anhalt') == True)), :]"
   ]
  },
  {
   "cell_type": "code",
   "execution_count": 284,
   "metadata": {},
   "outputs": [],
   "source": [
    "# Drop Duplicates\n",
    "result_concat = result_concat.drop_duplicates()"
   ]
  },
  {
   "cell_type": "code",
   "execution_count": 285,
   "metadata": {},
   "outputs": [
    {
     "name": "stdout",
     "output_type": "stream",
     "text": [
      "949\n",
      "                               confirmed\n",
      "land                                    \n",
      "Baden-Wuerttemberg                    59\n",
      "Bavaria                               59\n",
      "Berlin                                59\n",
      "Brandenburg                           59\n",
      "Bremen                                59\n",
      "Hamburg                               59\n",
      "Hesse                                 59\n",
      "Lower Saxony                          59\n",
      "Mecklenburg-Western Pomerania         59\n",
      "North Rhine-Westphalia                59\n",
      "Rhineland-Palatinate                  59\n",
      "Saarland                              59\n",
      "Saxony                                59\n",
      "Saxony-Anhalt                         59\n",
      "Schleswig-Holstein                    59\n",
      "Thuringia                             59\n"
     ]
    }
   ],
   "source": [
    "print(len(result_concat))\n",
    "print(result_concat.loc[:, ['land', 'confirmed']].groupby(['land']).count().sort_values(['confirmed'], ascending=False).head(50))"
   ]
  },
  {
   "cell_type": "markdown",
   "metadata": {},
   "source": [
    "### Save Concantinated Result"
   ]
  },
  {
   "cell_type": "code",
   "execution_count": 273,
   "metadata": {},
   "outputs": [],
   "source": [
    "result_concat.to_csv('RKI-reports.csv', index=False)"
   ]
  },
  {
   "cell_type": "markdown",
   "metadata": {},
   "source": [
    "---"
   ]
  },
  {
   "cell_type": "code",
   "execution_count": 185,
   "metadata": {},
   "outputs": [
    {
     "name": "stdout",
     "output_type": "stream",
     "text": [
      "                                 confirmed\n",
      "land                 date                 \n",
      "Baden-Wuerttemberg   2020-03-18          1\n",
      "Rhineland-Palatinate 2020-04-27          1\n",
      "                     2020-04-16          1\n",
      "                     2020-04-17          1\n",
      "                     2020-04-18          1\n"
     ]
    }
   ],
   "source": [
    "# Testing for Duplicates\n",
    "print(result_concat.loc[:, ['land', 'date', 'confirmed']].groupby(['land', 'date']).count().sort_values(['confirmed'], ascending=False).head())"
   ]
  },
  {
   "cell_type": "markdown",
   "metadata": {},
   "source": [
    "---"
   ]
  },
  {
   "cell_type": "markdown",
   "metadata": {},
   "source": [
    "# Add Data Manually"
   ]
  },
  {
   "cell_type": "code",
   "execution_count": 193,
   "metadata": {},
   "outputs": [
    {
     "name": "stdout",
     "output_type": "stream",
     "text": [
      "Baden-Wuerttemberg 2020-03-18 00:00:00\n",
      "Mecklenburg-Western Pomerania 2020-03-23 00:00:00\n",
      "Mecklenburg-Western Pomerania 2020-03-25 00:00:00\n",
      "Mecklenburg-Western Pomerania 2020-03-27 00:00:00\n",
      "Mecklenburg-Western Pomerania 2020-03-28 00:00:00\n",
      "Mecklenburg-Western Pomerania 2020-03-29 00:00:00\n",
      "Saxony-Anhalt 2020-03-30 00:00:00\n",
      "Berlin 2020-04-27 00:00:00\n",
      "Bavaria 2020-04-27 00:00:00\n",
      "Baden-Wuerttemberg 2020-04-27 00:00:00\n",
      "Bavaria 2020-04-28 00:00:00\n",
      "Baden-Wuerttemberg 2020-04-28 00:00:00\n",
      "Bavaria 2020-04-29 00:00:00\n",
      "Baden-Wuerttemberg 2020-04-29 00:00:00\n",
      "Bavaria 2020-05-03 00:00:00\n",
      "Baden-Wuerttemberg 2020-05-03 00:00:00\n"
     ]
    }
   ],
   "source": [
    "df_in = result_concat.copy()\n",
    "df_in.set_index('date', inplace=True)\n",
    "\n",
    "df_extra_dates = pd.DataFrame(\n",
    "    {'day': pd.Series([min(df_in.index) , max(df_in.index)])})\n",
    "df_extra_dates.set_index('day', inplace=True)\n",
    "df_extra_dates = df_extra_dates.asfreq('D')\n",
    "\n",
    "for d in df_extra_dates.index:\n",
    "    for l in df_in.land.unique():\n",
    "        if len(str(l)) > 3:\n",
    "            try: \n",
    "                df_in.loc[(df_in.index == d) & (df_in.land==l), 'confirmed'].values[0]\n",
    "            except:\n",
    "                print(l, d)"
   ]
  },
  {
   "cell_type": "markdown",
   "metadata": {},
   "source": [
    "----"
   ]
  },
  {
   "cell_type": "code",
   "execution_count": 175,
   "metadata": {},
   "outputs": [],
   "source": [
    "columns = ['land','confirmed','dead','date','data']\n",
    "new_data = {\"Berlin\": [\n",
    "    [5638, 125, datetime.datetime(2020, 4, 27), ''],\n",
    "],\n",
    "\"Saxony-Anhalt\": [\n",
    "    [592, 2, datetime.datetime(2020, 3, 30), ''],\n",
    "],\n",
    "\"Bavaria\": [\n",
    "    [41070, 1621, datetime.datetime(2020, 4, 27), ''],\n",
    "    [41406, 1681, datetime.datetime(2020, 4, 28), ''],\n",
    "    [41830, 1754, datetime.datetime(2020, 4, 29), ''],\n",
    "    [42792, 1910, datetime.datetime(2020, 5, 3), ''],\n",
    "],\n",
    "\"Baden-Wuerttemberg\": [\n",
    "    [1609, 2, datetime.datetime(2020, 3, 18), ''],\n",
    "    [31043, 1249, datetime.datetime(2020, 4, 27), ''],\n",
    "    [31196, 1269, datetime.datetime(2020, 4, 28), ''],\n",
    "    [31336, 1299, datetime.datetime(2020, 4, 29), ''],\n",
    "    [32291, 1412, datetime.datetime(2020, 5, 3), ''],\n",
    "    \n",
    "],\n",
    "\"Mecklenburg-Western Pomerania\": [\n",
    "    [172, 0, datetime.datetime(2020, 3, 23), ''],\n",
    "    [218, 0, datetime.datetime(2020, 3, 25), ''],\n",
    "    [259, 0, datetime.datetime(2020, 3, 27), ''],\n",
    "    [308, 0, datetime.datetime(2020, 3, 28), ''],\n",
    "    [348, 1, datetime.datetime(2020, 3, 29), ''],\n",
    "],}"
   ]
  },
  {
   "cell_type": "code",
   "execution_count": 196,
   "metadata": {},
   "outputs": [],
   "source": [
    "df_l = []\n",
    "for k in new_data:\n",
    "    for d in new_data[k]:\n",
    "        dic = {'land': k, 'confirmed':d[0],'dead':d[1],'date':d[2],'data':''}\n",
    "        df_l.append(dic)\n",
    "\n",
    "df_new_data = pd.DataFrame(df_l)\n"
   ]
  },
  {
   "cell_type": "code",
   "execution_count": 197,
   "metadata": {},
   "outputs": [],
   "source": [
    "result_concat2 = pd.concat([result_concat, df_new_data]).sort_values('date', ascending=False)"
   ]
  },
  {
   "cell_type": "code",
   "execution_count": 31,
   "metadata": {},
   "outputs": [
    {
     "name": "stdout",
     "output_type": "stream",
     "text": [
      "                               confirmed\n",
      "land                                    \n",
      "Baden-Wuerttemberg                    47\n",
      "Bavaria                               47\n",
      "Berlin                                47\n",
      "Brandenburg                           47\n",
      "Bremen                                47\n",
      "Hamburg                               47\n",
      "Hesse                                 47\n",
      "Lower Saxony                          47\n",
      "Mecklenburg-Western Pomerania         47\n",
      "North Rhine-Westphalia                47\n",
      "Rhineland-Palatinate                  47\n",
      "Saarland                              47\n",
      "Saxony                                47\n",
      "Saxony-Anhalt                         47\n",
      "Schleswig-Holstein                    47\n",
      "Thuringia                             47\n"
     ]
    }
   ],
   "source": [
    "print(result_concat2.loc[:, ['land', 'confirmed']].groupby(['land']).count().sort_values(['confirmed'], ascending=False).head(50))"
   ]
  },
  {
   "cell_type": "code",
   "execution_count": 200,
   "metadata": {},
   "outputs": [],
   "source": [
    "# result_concat2.to_csv('data/RKI-reports.csv', index=False)"
   ]
  },
  {
   "cell_type": "markdown",
   "metadata": {},
   "source": [
    "---"
   ]
  }
 ],
 "metadata": {
  "kernelspec": {
   "display_name": "Python 3",
   "language": "python",
   "name": "python3"
  },
  "language_info": {
   "codemirror_mode": {
    "name": "ipython",
    "version": 3
   },
   "file_extension": ".py",
   "mimetype": "text/x-python",
   "name": "python",
   "nbconvert_exporter": "python",
   "pygments_lexer": "ipython3",
   "version": "3.7.3"
  }
 },
 "nbformat": 4,
 "nbformat_minor": 4
}
