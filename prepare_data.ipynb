{
 "cells": [
  {
   "cell_type": "code",
   "execution_count": 22,
   "metadata": {},
   "outputs": [
    {
     "name": "stdout",
     "output_type": "stream",
     "text": [
      "The autoreload extension is already loaded. To reload it, use:\n",
      "  %reload_ext autoreload\n"
     ]
    }
   ],
   "source": [
    "import pandas as pd\n",
    "import numpy as np\n",
    "import datetime\n",
    "import plotly\n",
    "from plotly import graph_objects as go\n",
    "pd.set_option('display.max_rows', 100)\n",
    "\n",
    "%load_ext autoreload\n",
    "\n",
    "from charts import plot_line, plot_bar, plot_peak, print_charts_country\n",
    "from features import add_variables_covid, add_variables_apple, join_series_day_since, join_series_date\n",
    "\n",
    "%matplotlib inline"
   ]
  },
  {
   "cell_type": "code",
   "execution_count": 24,
   "metadata": {},
   "outputs": [],
   "source": [
    "date_apple = '2020-05-10'"
   ]
  },
  {
   "cell_type": "code",
   "execution_count": 38,
   "metadata": {},
   "outputs": [],
   "source": [
    "def apple_filter_region(df, region):\n",
    "    df_region = df[df.region == region].T\n",
    "    df_region.columns = df_region.loc['transportation_type', :]\n",
    "    df_region = df_region[~df_region.index.isin(['geo_type', 'region', 'transportation_type', 'alternative_name'])]\n",
    "    \n",
    "    df_region['dates'] = pd.to_datetime(df_region.index)\n",
    "    df_region.set_index('dates', inplace=True)\n",
    "    df_region = df_region.astype('float')\n",
    "    df_region['region'] = region\n",
    "    \n",
    "    return df_region"
   ]
  },
  {
   "cell_type": "code",
   "execution_count": 26,
   "metadata": {},
   "outputs": [],
   "source": [
    "def add_forecast_prophet(df_in, column, window=60, ):\n",
    "    from fbprophet import Prophet\n",
    "    df = df_in.loc[:, [column]].dropna()\n",
    "    df['ds'] = df.index\n",
    "    df.columns = ['y', 'ds']\n",
    "    m = Prophet()\n",
    "    m.fit(df)\n",
    "    future = m.make_future_dataframe(periods=window)\n",
    "    forecast = m.predict(future)\n",
    "    forecast.set_index(forecast.ds, inplace=True)\n",
    "    forecast = forecast.loc[:, ['yhat', 'yhat_lower', 'yhat_upper']]\n",
    "    df_extra_dates = pd.DataFrame({ 'day': pd.Series([max(df_in.index) + datetime.timedelta(1), max(df_in.index) + datetime.timedelta(window)])})\n",
    "    df_extra_dates.set_index('day',inplace=True)\n",
    "    df_extra_dates = df_extra_dates.asfreq('D')\n",
    "    df_in = df_in.append(df_extra_dates)\n",
    "    df_result = pd.concat([df_in, forecast ], axis=1)\n",
    "    df_result[f'{column}_pred'] = df_result.loc[df_result[column].isnull() == True, ['yhat']]\n",
    "    \n",
    "    return df_result\n"
   ]
  },
  {
   "cell_type": "code",
   "execution_count": 97,
   "metadata": {},
   "outputs": [],
   "source": [
    "def prepare_df_country(df_confirmed, df_dead, country, date_cutoff='2020-03-15'):\n",
    "    try:\n",
    "        pop = df_population.loc[df_population.country == country, 'population'].values[0]\n",
    "    except:\n",
    "        print('No population data for :', country)\n",
    "        return False\n",
    "    \n",
    "    df = df_confirmed.loc[df_confirmed.index >= date_cutoff, [country]]\n",
    "    df.columns = ['confirmed']\n",
    "    df = add_variables_covid(df, population=pop)\n",
    "\n",
    "    df_d = df_dead.loc[df_dead.index >= date_cutoff, [country]]\n",
    "    df_d.columns = ['dead']\n",
    "    df = df.merge(df_d, left_index=True, right_index=True)\n",
    "    df = add_variables_covid(df, column='dead', population=pop)\n",
    "    \n",
    "    return df"
   ]
  },
  {
   "cell_type": "code",
   "execution_count": 52,
   "metadata": {},
   "outputs": [],
   "source": [
    "def melt_apple_df(df_apple):\n",
    "    _list = list()\n",
    "    for region in df_apple.region.unique():\n",
    "        df = apple_filter_region(df_apple, region)\n",
    "        df = add_variables_apple(dfapple_region)\n",
    "        _list.append(df)\n",
    "    return pd.concat([df for df in _list])"
   ]
  },
  {
   "cell_type": "code",
   "execution_count": null,
   "metadata": {},
   "outputs": [],
   "source": [
    "def melt_rki_df(df_rki_germany):\n",
    "    _list = list()\n",
    "    for land in df_rki_germany.land.unique():\n",
    "        df = df_rki_germany.loc[df_rki_germany.land == land, :].copy()\n",
    "        pop = int(df.loc[df.land==land, 'population'][0])\n",
    "        df = add_variables_covid(df, 'confirmed', population=pop)\n",
    "        df = add_variables_covid(df, 'dead', population=pop)\n",
    "        _list.append(df)\n",
    "    return pd.concat([df for df in _list])"
   ]
  },
  {
   "cell_type": "code",
   "execution_count": 107,
   "metadata": {},
   "outputs": [
    {
     "data": {
      "text/plain": [
       "True"
      ]
     },
     "execution_count": 107,
     "metadata": {},
     "output_type": "execute_result"
    }
   ],
   "source": [
    "type(df_apple_processed) == pd.core.frame.DataFrame"
   ]
  },
  {
   "cell_type": "code",
   "execution_count": 109,
   "metadata": {},
   "outputs": [],
   "source": [
    "def melt_jhu_df(df_confirmed, df_dead):\n",
    "    _list = list()\n",
    "    for country in df_confirmed.columns:\n",
    "        df = prepare_df_country(df_confirmed, df_dead, country, date_cutoff='2020-03-15')\n",
    "        if type(df) == pd.core.frame.DataFrame:\n",
    "            _list.append(df)\n",
    "    pd.concat([df for df in _list])"
   ]
  },
  {
   "cell_type": "markdown",
   "metadata": {},
   "source": [
    "# World Bank Data"
   ]
  },
  {
   "cell_type": "code",
   "execution_count": 28,
   "metadata": {
    "scrolled": true
   },
   "outputs": [
    {
     "data": {
      "text/html": [
       "<div>\n",
       "<style scoped>\n",
       "    .dataframe tbody tr th:only-of-type {\n",
       "        vertical-align: middle;\n",
       "    }\n",
       "\n",
       "    .dataframe tbody tr th {\n",
       "        vertical-align: top;\n",
       "    }\n",
       "\n",
       "    .dataframe thead th {\n",
       "        text-align: right;\n",
       "    }\n",
       "</style>\n",
       "<table border=\"1\" class=\"dataframe\">\n",
       "  <thead>\n",
       "    <tr style=\"text-align: right;\">\n",
       "      <th></th>\n",
       "      <th>region</th>\n",
       "      <th>country_wb</th>\n",
       "      <th>population</th>\n",
       "      <th>iso_code</th>\n",
       "    </tr>\n",
       "    <tr>\n",
       "      <th>id</th>\n",
       "      <th></th>\n",
       "      <th></th>\n",
       "      <th></th>\n",
       "      <th></th>\n",
       "    </tr>\n",
       "  </thead>\n",
       "  <tbody>\n",
       "    <tr>\n",
       "      <th>ABW</th>\n",
       "      <td>Latin America &amp; Caribbean</td>\n",
       "      <td>Aruba</td>\n",
       "      <td>105845.0</td>\n",
       "      <td>ABW</td>\n",
       "    </tr>\n",
       "  </tbody>\n",
       "</table>\n",
       "</div>"
      ],
      "text/plain": [
       "                         region country_wb  population iso_code\n",
       "id                                                             \n",
       "ABW  Latin America & Caribbean       Aruba    105845.0      ABW"
      ]
     },
     "execution_count": 28,
     "metadata": {},
     "output_type": "execute_result"
    }
   ],
   "source": [
    "import world_bank_data as wb\n",
    "\n",
    "countries = wb.get_countries()\n",
    "\n",
    "# population = wb.get_series('SP.POP.TOTL', mrv=1)  # Most recent value\n",
    "population = wb.get_series('SP.POP.TOTL', id_or_value='id', simplify_index=True, mrv=1)\n",
    "\n",
    "# Aggregate region, country and population\n",
    "df_population = countries[['region', 'name']].rename(columns={'name': 'country_wb'}).loc[countries.region != 'Aggregates']\n",
    "df_population['population'] = population\n",
    "df_population['country_wb'] = df_population['country_wb'].astype('string')\n",
    "df_population['iso_code'] = df_population.index\n",
    "df_population.head(1)"
   ]
  },
  {
   "cell_type": "code",
   "execution_count": 410,
   "metadata": {},
   "outputs": [],
   "source": [
    "date_now = datetime.datetime.strftime(datetime.datetime.utcnow(), \"%Y-%m-%d\")\n",
    "\n",
    "dfapple = pd.read_csv(f\"../AppleMobilty/applemobilitytrends-{date_apple}.csv\")\n",
    "\n",
    "dfcovid_conf = pd.read_csv(\"../covid-19-JHU CSSE/csse_covid_19_data/csse_covid_19_time_series/time_series_covid19_confirmed_global.csv\")\n",
    "dfcovid_dead = pd.read_csv(\"../covid-19-JHU CSSE/csse_covid_19_data/csse_covid_19_time_series/time_series_covid19_deaths_global.csv\")\n",
    "df_uid = pd.read_csv(\"../covid-19-JHU CSSE/csse_covid_19_data/UID_ISO_FIPS_LookUp_Table.csv\")\n",
    "\n",
    "df_uid = df_uid.loc[df_uid['Province_State'].isnull() == True, ['iso3', 'Country_Region']]\n",
    "df_uid.columns = ['iso_code', 'country']\n",
    "\n",
    "dfcovid_conf.columns = ['state', 'country', 'lat', 'lng'] + list(dfcovid_conf.columns[4:])\n",
    "dfcovid_dead.columns = ['state', 'country', 'lat', 'lng'] + list(dfcovid_dead.columns[4:])\n",
    "dfcovid_conf = dfcovid_conf.merge(df_uid, how='outer', on='country', suffixes=('_x', '_y'))\n",
    "dfcovid_dead = dfcovid_dead.merge(df_uid, how='outer', on='country', suffixes=('_x', '_y'))\n",
    "\n",
    "df_rki_germany = pd.read_csv(\"data-RKI-parse/RKI-reports.csv\")\n",
    "df_rki_germany.drop('data', axis=1, inplace=True)\n",
    "\n",
    "df_population_de = pd.read_csv('german_lander_population.csv')"
   ]
  },
  {
   "cell_type": "code",
   "execution_count": 411,
   "metadata": {},
   "outputs": [],
   "source": [
    "# dfcovid_conf.loc[dfcovid_conf['country'] == 'China',:].reset_index()"
   ]
  },
  {
   "cell_type": "code",
   "execution_count": 412,
   "metadata": {},
   "outputs": [],
   "source": [
    "dfcovid_conf = dfcovid_conf.loc[dfcovid_conf['state'].isnull() == True, :]\n",
    "dfcovid_dead = dfcovid_dead.loc[dfcovid_dead['state'].isnull() == True, :]"
   ]
  },
  {
   "cell_type": "code",
   "execution_count": 413,
   "metadata": {},
   "outputs": [],
   "source": [
    "df_population = df_population.merge(dfcovid_conf.loc[:, ['iso_code', 'country']].drop_duplicates(), how='inner',  on='iso_code',  suffixes=('_x', '_y'), left_index=False, right_index=False,)"
   ]
  },
  {
   "cell_type": "code",
   "execution_count": 414,
   "metadata": {},
   "outputs": [
    {
     "data": {
      "text/html": [
       "<div>\n",
       "<style scoped>\n",
       "    .dataframe tbody tr th:only-of-type {\n",
       "        vertical-align: middle;\n",
       "    }\n",
       "\n",
       "    .dataframe tbody tr th {\n",
       "        vertical-align: top;\n",
       "    }\n",
       "\n",
       "    .dataframe thead th {\n",
       "        text-align: right;\n",
       "    }\n",
       "</style>\n",
       "<table border=\"1\" class=\"dataframe\">\n",
       "  <thead>\n",
       "    <tr style=\"text-align: right;\">\n",
       "      <th></th>\n",
       "      <th>region</th>\n",
       "      <th>country_wb</th>\n",
       "      <th>population</th>\n",
       "      <th>iso_code</th>\n",
       "      <th>country_x</th>\n",
       "      <th>country_y</th>\n",
       "    </tr>\n",
       "  </thead>\n",
       "  <tbody>\n",
       "    <tr>\n",
       "      <th>0</th>\n",
       "      <td>South Asia</td>\n",
       "      <td>Afghanistan</td>\n",
       "      <td>37172386.0</td>\n",
       "      <td>AFG</td>\n",
       "      <td>Afghanistan</td>\n",
       "      <td>Afghanistan</td>\n",
       "    </tr>\n",
       "    <tr>\n",
       "      <th>1</th>\n",
       "      <td>Sub-Saharan Africa</td>\n",
       "      <td>Angola</td>\n",
       "      <td>30809762.0</td>\n",
       "      <td>AGO</td>\n",
       "      <td>Angola</td>\n",
       "      <td>Angola</td>\n",
       "    </tr>\n",
       "    <tr>\n",
       "      <th>2</th>\n",
       "      <td>Europe &amp; Central Asia</td>\n",
       "      <td>Albania</td>\n",
       "      <td>2866376.0</td>\n",
       "      <td>ALB</td>\n",
       "      <td>Albania</td>\n",
       "      <td>Albania</td>\n",
       "    </tr>\n",
       "    <tr>\n",
       "      <th>3</th>\n",
       "      <td>Europe &amp; Central Asia</td>\n",
       "      <td>Andorra</td>\n",
       "      <td>77006.0</td>\n",
       "      <td>AND</td>\n",
       "      <td>Andorra</td>\n",
       "      <td>Andorra</td>\n",
       "    </tr>\n",
       "    <tr>\n",
       "      <th>4</th>\n",
       "      <td>Middle East &amp; North Africa</td>\n",
       "      <td>United Arab Emirates</td>\n",
       "      <td>9630959.0</td>\n",
       "      <td>ARE</td>\n",
       "      <td>United Arab Emirates</td>\n",
       "      <td>United Arab Emirates</td>\n",
       "    </tr>\n",
       "  </tbody>\n",
       "</table>\n",
       "</div>"
      ],
      "text/plain": [
       "                       region            country_wb  population iso_code  \\\n",
       "0                  South Asia           Afghanistan  37172386.0      AFG   \n",
       "1         Sub-Saharan Africa                 Angola  30809762.0      AGO   \n",
       "2       Europe & Central Asia               Albania   2866376.0      ALB   \n",
       "3       Europe & Central Asia               Andorra     77006.0      AND   \n",
       "4  Middle East & North Africa  United Arab Emirates   9630959.0      ARE   \n",
       "\n",
       "              country_x             country_y  \n",
       "0           Afghanistan           Afghanistan  \n",
       "1                Angola                Angola  \n",
       "2               Albania               Albania  \n",
       "3               Andorra               Andorra  \n",
       "4  United Arab Emirates  United Arab Emirates  "
      ]
     },
     "execution_count": 414,
     "metadata": {},
     "output_type": "execute_result"
    }
   ],
   "source": [
    "df_population.head()"
   ]
  },
  {
   "cell_type": "markdown",
   "metadata": {},
   "source": [
    "## Join Population data"
   ]
  },
  {
   "cell_type": "code",
   "execution_count": 415,
   "metadata": {},
   "outputs": [],
   "source": [
    "df_rki_germany = df_rki_germany.merge(df_population_de, \n",
    "                                            how='inner',\n",
    "                                            left_on='land',\n",
    "                                            right_on='name',\n",
    "                                            left_index=False,\n",
    "                                            right_index=False,\n",
    "                                            suffixes=('_x', '_y'),)"
   ]
  },
  {
   "cell_type": "markdown",
   "metadata": {},
   "source": [
    "### Add index to RKI data"
   ]
  },
  {
   "cell_type": "code",
   "execution_count": 416,
   "metadata": {},
   "outputs": [],
   "source": [
    "df_rki_germany['date'] = df_rki_germany['date'].astype('datetime64[ns]')\n",
    "df_rki_germany = df_rki_germany.sort_values('date', ascending=True)\n",
    "df_rki_germany.set_index('date', inplace=True)"
   ]
  },
  {
   "cell_type": "markdown",
   "metadata": {},
   "source": [
    "## Calculate all German States"
   ]
  },
  {
   "cell_type": "markdown",
   "metadata": {},
   "source": [
    "### Transpose Confirmed Cases"
   ]
  },
  {
   "cell_type": "code",
   "execution_count": 417,
   "metadata": {},
   "outputs": [],
   "source": [
    "dfcovid_conf_t = dfcovid_conf.loc[dfcovid_conf['state'].isnull() == True, :].T\n",
    "dfcovid_conf_t.columns = dfcovid_conf_t.loc['country', :].astype(str)\n",
    "dfcovid_conf_t.drop(['country'], axis=0, inplace=True)\n",
    "df_country_coords = dfcovid_conf_t.loc[['lat', 'lng'], :]\n",
    "dfcovid_conf_t.drop(['lat', 'lng', 'state', 'iso_code'], axis=0, inplace=True)\n",
    "dfcovid_conf_t['dates'] = dfcovid_conf_t.index\n",
    "dfcovid_conf_t['dates'] = dfcovid_conf_t['dates'].astype('datetime64[ns]')\n",
    "dfcovid_conf_t = dfcovid_conf_t.sort_values('dates', ascending=True)\n",
    "dfcovid_conf_t.set_index('dates', inplace=True)\n",
    "dfcovid_conf_t = dfcovid_conf_t.astype(float)"
   ]
  },
  {
   "cell_type": "markdown",
   "metadata": {},
   "source": [
    "### Transpose Dead Cases"
   ]
  },
  {
   "cell_type": "code",
   "execution_count": 418,
   "metadata": {},
   "outputs": [],
   "source": [
    "dfcovid_dead_t = dfcovid_dead.loc[dfcovid_dead['state'].isnull() == True, :].T\n",
    "dfcovid_dead_t.columns = dfcovid_dead_t.loc['country', :].astype(str)\n",
    "dfcovid_dead_t.drop(['country'], axis=0, inplace=True)\n",
    "\n",
    "\n",
    "dfcovid_dead_t.drop(['lat', 'lng', 'state', 'iso_code'], axis=0, inplace=True)\n",
    "dfcovid_dead_t['dates'] = dfcovid_dead_t.index\n",
    "dfcovid_dead_t['dates'] = dfcovid_dead_t['dates'].astype('datetime64[ns]')\n",
    "dfcovid_dead_t = dfcovid_dead_t.sort_values('dates', ascending=True)\n",
    "dfcovid_dead_t.set_index('dates', inplace=True)\n",
    "dfcovid_dead_t = dfcovid_dead_t.astype(float)\n"
   ]
  },
  {
   "cell_type": "markdown",
   "metadata": {},
   "source": [
    "# Prepare Datasets"
   ]
  },
  {
   "cell_type": "markdown",
   "metadata": {},
   "source": [
    "### RKI"
   ]
  },
  {
   "cell_type": "code",
   "execution_count": 419,
   "metadata": {},
   "outputs": [],
   "source": [
    "df_rki_germany_processed = melt_rki_df(df_rki_germany)"
   ]
  },
  {
   "cell_type": "code",
   "execution_count": 420,
   "metadata": {},
   "outputs": [
    {
     "data": {
      "text/html": [
       "<div>\n",
       "<style scoped>\n",
       "    .dataframe tbody tr th:only-of-type {\n",
       "        vertical-align: middle;\n",
       "    }\n",
       "\n",
       "    .dataframe tbody tr th {\n",
       "        vertical-align: top;\n",
       "    }\n",
       "\n",
       "    .dataframe thead th {\n",
       "        text-align: right;\n",
       "    }\n",
       "</style>\n",
       "<table border=\"1\" class=\"dataframe\">\n",
       "  <thead>\n",
       "    <tr style=\"text-align: right;\">\n",
       "      <th></th>\n",
       "      <th>land</th>\n",
       "      <th>confirmed</th>\n",
       "      <th>dead</th>\n",
       "      <th>name</th>\n",
       "      <th>iso_code</th>\n",
       "      <th>capital</th>\n",
       "      <th>area</th>\n",
       "      <th>population</th>\n",
       "      <th>dow</th>\n",
       "      <th>weekend</th>\n",
       "      <th>...</th>\n",
       "      <th>dead_change_pct_3w</th>\n",
       "      <th>dead_change_acceleration</th>\n",
       "      <th>dead_change_acceleration_avg3</th>\n",
       "      <th>dead_doubling_days</th>\n",
       "      <th>dead_doubling_days_3w</th>\n",
       "      <th>dead_doubling_days_avg3</th>\n",
       "      <th>dead_doubling_days_3w_avg3</th>\n",
       "      <th>dead_day_since_10</th>\n",
       "      <th>dead_per_100k</th>\n",
       "      <th>dead_change_per_100k</th>\n",
       "    </tr>\n",
       "    <tr>\n",
       "      <th>date</th>\n",
       "      <th></th>\n",
       "      <th></th>\n",
       "      <th></th>\n",
       "      <th></th>\n",
       "      <th></th>\n",
       "      <th></th>\n",
       "      <th></th>\n",
       "      <th></th>\n",
       "      <th></th>\n",
       "      <th></th>\n",
       "      <th></th>\n",
       "      <th></th>\n",
       "      <th></th>\n",
       "      <th></th>\n",
       "      <th></th>\n",
       "      <th></th>\n",
       "      <th></th>\n",
       "      <th></th>\n",
       "      <th></th>\n",
       "      <th></th>\n",
       "      <th></th>\n",
       "    </tr>\n",
       "  </thead>\n",
       "  <tbody>\n",
       "    <tr>\n",
       "      <th>2020-03-18</th>\n",
       "      <td>Hesse</td>\n",
       "      <td>432</td>\n",
       "      <td>0</td>\n",
       "      <td>Hesse</td>\n",
       "      <td>HE</td>\n",
       "      <td>Wiesbaden</td>\n",
       "      <td>21115</td>\n",
       "      <td>6265809</td>\n",
       "      <td>2</td>\n",
       "      <td>False</td>\n",
       "      <td>...</td>\n",
       "      <td>NaN</td>\n",
       "      <td>NaN</td>\n",
       "      <td>NaN</td>\n",
       "      <td>0.0</td>\n",
       "      <td>0.0</td>\n",
       "      <td>NaN</td>\n",
       "      <td>NaN</td>\n",
       "      <td>0</td>\n",
       "      <td>0.0</td>\n",
       "      <td>NaN</td>\n",
       "    </tr>\n",
       "  </tbody>\n",
       "</table>\n",
       "<p>1 rows × 44 columns</p>\n",
       "</div>"
      ],
      "text/plain": [
       "             land  confirmed  dead   name iso_code    capital   area  \\\n",
       "date                                                                   \n",
       "2020-03-18  Hesse        432     0  Hesse       HE  Wiesbaden  21115   \n",
       "\n",
       "            population  dow  weekend  ...  dead_change_pct_3w  \\\n",
       "date                                  ...                       \n",
       "2020-03-18     6265809    2    False  ...                 NaN   \n",
       "\n",
       "            dead_change_acceleration  dead_change_acceleration_avg3  \\\n",
       "date                                                                  \n",
       "2020-03-18                       NaN                            NaN   \n",
       "\n",
       "            dead_doubling_days  dead_doubling_days_3w  \\\n",
       "date                                                    \n",
       "2020-03-18                 0.0                    0.0   \n",
       "\n",
       "            dead_doubling_days_avg3  dead_doubling_days_3w_avg3  \\\n",
       "date                                                              \n",
       "2020-03-18                      NaN                         NaN   \n",
       "\n",
       "            dead_day_since_10  dead_per_100k  dead_change_per_100k  \n",
       "date                                                                \n",
       "2020-03-18                  0            0.0                   NaN  \n",
       "\n",
       "[1 rows x 44 columns]"
      ]
     },
     "execution_count": 420,
     "metadata": {},
     "output_type": "execute_result"
    }
   ],
   "source": [
    "df_rki_germany_processed.head(1)"
   ]
  },
  {
   "cell_type": "markdown",
   "metadata": {},
   "source": [
    "### Apple"
   ]
  },
  {
   "cell_type": "code",
   "execution_count": 421,
   "metadata": {},
   "outputs": [],
   "source": [
    "df_apple_processed = melt_apple_df(dfapple)"
   ]
  },
  {
   "cell_type": "code",
   "execution_count": 422,
   "metadata": {},
   "outputs": [
    {
     "data": {
      "text/html": [
       "<div>\n",
       "<style scoped>\n",
       "    .dataframe tbody tr th:only-of-type {\n",
       "        vertical-align: middle;\n",
       "    }\n",
       "\n",
       "    .dataframe tbody tr th {\n",
       "        vertical-align: top;\n",
       "    }\n",
       "\n",
       "    .dataframe thead th {\n",
       "        text-align: right;\n",
       "    }\n",
       "</style>\n",
       "<table border=\"1\" class=\"dataframe\">\n",
       "  <thead>\n",
       "    <tr style=\"text-align: right;\">\n",
       "      <th>transportation_type</th>\n",
       "      <th>driving</th>\n",
       "      <th>transit</th>\n",
       "      <th>walking</th>\n",
       "      <th>region</th>\n",
       "      <th>transit_avg3</th>\n",
       "      <th>transit_l1</th>\n",
       "      <th>transit_l6</th>\n",
       "      <th>change_transit_l6</th>\n",
       "      <th>change_transit</th>\n",
       "      <th>walking_avg3</th>\n",
       "      <th>walking_l1</th>\n",
       "      <th>walking_l6</th>\n",
       "      <th>change_walking_l6</th>\n",
       "      <th>change_walking</th>\n",
       "      <th>driving_avg3</th>\n",
       "      <th>driving_l1</th>\n",
       "      <th>driving_l6</th>\n",
       "      <th>change_pct_driving_l6</th>\n",
       "      <th>change_driving</th>\n",
       "    </tr>\n",
       "    <tr>\n",
       "      <th>dates</th>\n",
       "      <th></th>\n",
       "      <th></th>\n",
       "      <th></th>\n",
       "      <th></th>\n",
       "      <th></th>\n",
       "      <th></th>\n",
       "      <th></th>\n",
       "      <th></th>\n",
       "      <th></th>\n",
       "      <th></th>\n",
       "      <th></th>\n",
       "      <th></th>\n",
       "      <th></th>\n",
       "      <th></th>\n",
       "      <th></th>\n",
       "      <th></th>\n",
       "      <th></th>\n",
       "      <th></th>\n",
       "      <th></th>\n",
       "    </tr>\n",
       "  </thead>\n",
       "  <tbody>\n",
       "    <tr>\n",
       "      <th>2020-01-13</th>\n",
       "      <td>100.0</td>\n",
       "      <td>100.0</td>\n",
       "      <td>100.0</td>\n",
       "      <td>Hamburg</td>\n",
       "      <td>NaN</td>\n",
       "      <td>NaN</td>\n",
       "      <td>NaN</td>\n",
       "      <td>NaN</td>\n",
       "      <td>NaN</td>\n",
       "      <td>NaN</td>\n",
       "      <td>NaN</td>\n",
       "      <td>NaN</td>\n",
       "      <td>NaN</td>\n",
       "      <td>NaN</td>\n",
       "      <td>NaN</td>\n",
       "      <td>NaN</td>\n",
       "      <td>NaN</td>\n",
       "      <td>NaN</td>\n",
       "      <td>NaN</td>\n",
       "    </tr>\n",
       "  </tbody>\n",
       "</table>\n",
       "</div>"
      ],
      "text/plain": [
       "transportation_type  driving  transit  walking   region  transit_avg3  \\\n",
       "dates                                                                   \n",
       "2020-01-13             100.0    100.0    100.0  Hamburg           NaN   \n",
       "\n",
       "transportation_type  transit_l1  transit_l6  change_transit_l6  \\\n",
       "dates                                                            \n",
       "2020-01-13                  NaN         NaN                NaN   \n",
       "\n",
       "transportation_type  change_transit  walking_avg3  walking_l1  walking_l6  \\\n",
       "dates                                                                       \n",
       "2020-01-13                      NaN           NaN         NaN         NaN   \n",
       "\n",
       "transportation_type  change_walking_l6  change_walking  driving_avg3  \\\n",
       "dates                                                                  \n",
       "2020-01-13                         NaN             NaN           NaN   \n",
       "\n",
       "transportation_type  driving_l1  driving_l6  change_pct_driving_l6  \\\n",
       "dates                                                                \n",
       "2020-01-13                  NaN         NaN                    NaN   \n",
       "\n",
       "transportation_type  change_driving  \n",
       "dates                                \n",
       "2020-01-13                      NaN  "
      ]
     },
     "execution_count": 422,
     "metadata": {},
     "output_type": "execute_result"
    }
   ],
   "source": [
    "df_apple_processed.head(1)"
   ]
  },
  {
   "cell_type": "markdown",
   "metadata": {},
   "source": [
    "### JHU"
   ]
  },
  {
   "cell_type": "code",
   "execution_count": 423,
   "metadata": {},
   "outputs": [
    {
     "name": "stdout",
     "output_type": "stream",
     "text": [
      "No population data for : Afghanistan\n",
      "No population data for : Albania\n",
      "No population data for : Algeria\n",
      "No population data for : Andorra\n",
      "No population data for : Angola\n",
      "No population data for : Antigua and Barbuda\n",
      "No population data for : Argentina\n",
      "No population data for : Armenia\n",
      "No population data for : Austria\n",
      "No population data for : Azerbaijan\n",
      "No population data for : Bahamas\n",
      "No population data for : Bahrain\n",
      "No population data for : Bangladesh\n",
      "No population data for : Barbados\n",
      "No population data for : Belarus\n",
      "No population data for : Belgium\n",
      "No population data for : Benin\n",
      "No population data for : Bhutan\n",
      "No population data for : Bolivia\n",
      "No population data for : Bosnia and Herzegovina\n",
      "No population data for : Brazil\n",
      "No population data for : Brunei\n",
      "No population data for : Bulgaria\n",
      "No population data for : Burkina Faso\n",
      "No population data for : Cabo Verde\n",
      "No population data for : Cambodia\n",
      "No population data for : Cameroon\n",
      "No population data for : Central African Republic\n",
      "No population data for : Chad\n",
      "No population data for : Chile\n",
      "No population data for : Colombia\n",
      "No population data for : Congo (Brazzaville)\n",
      "No population data for : Congo (Kinshasa)\n",
      "No population data for : Costa Rica\n",
      "No population data for : Cote d'Ivoire\n",
      "No population data for : Croatia\n",
      "No population data for : Diamond Princess\n",
      "No population data for : Cuba\n",
      "No population data for : Cyprus\n",
      "No population data for : Czechia\n",
      "No population data for : Denmark\n",
      "No population data for : Djibouti\n",
      "No population data for : Dominican Republic\n",
      "No population data for : Ecuador\n",
      "No population data for : Egypt\n",
      "No population data for : El Salvador\n",
      "No population data for : Equatorial Guinea\n",
      "No population data for : Eritrea\n",
      "No population data for : Estonia\n",
      "No population data for : Eswatini\n",
      "No population data for : Ethiopia\n",
      "No population data for : Fiji\n",
      "No population data for : Finland\n",
      "No population data for : France\n",
      "No population data for : Gabon\n",
      "No population data for : Gambia\n",
      "No population data for : Georgia\n",
      "No population data for : Germany\n",
      "No population data for : Ghana\n",
      "No population data for : Greece\n",
      "No population data for : Guatemala\n",
      "No population data for : Guinea\n",
      "No population data for : Guyana\n",
      "No population data for : Haiti\n",
      "No population data for : Holy See\n",
      "No population data for : Honduras\n",
      "No population data for : Hungary\n",
      "No population data for : Iceland\n",
      "No population data for : India\n",
      "No population data for : Indonesia\n",
      "No population data for : Iran\n",
      "No population data for : Iraq\n",
      "No population data for : Ireland\n",
      "No population data for : Israel\n",
      "No population data for : Italy\n",
      "No population data for : Jamaica\n",
      "No population data for : Japan\n",
      "No population data for : Jordan\n",
      "No population data for : Kazakhstan\n",
      "No population data for : Kenya\n",
      "No population data for : Korea, South\n",
      "No population data for : Kuwait\n",
      "No population data for : Kyrgyzstan\n",
      "No population data for : Latvia\n",
      "No population data for : Lebanon\n",
      "No population data for : Liberia\n",
      "No population data for : Liechtenstein\n",
      "No population data for : Lithuania\n",
      "No population data for : Luxembourg\n",
      "No population data for : Madagascar\n",
      "No population data for : Malaysia\n",
      "No population data for : Maldives\n",
      "No population data for : Malta\n",
      "No population data for : Mauritania\n",
      "No population data for : Mauritius\n",
      "No population data for : Mexico\n",
      "No population data for : Moldova\n",
      "No population data for : Monaco\n",
      "No population data for : Mongolia\n",
      "No population data for : Montenegro\n",
      "No population data for : Morocco\n",
      "No population data for : Namibia\n",
      "No population data for : Nepal\n",
      "No population data for : Netherlands\n",
      "No population data for : New Zealand\n",
      "No population data for : Nicaragua\n",
      "No population data for : Niger\n",
      "No population data for : Nigeria\n",
      "No population data for : North Macedonia\n",
      "No population data for : Norway\n",
      "No population data for : Oman\n",
      "No population data for : Pakistan\n",
      "No population data for : Panama\n",
      "No population data for : Papua New Guinea\n",
      "No population data for : Paraguay\n",
      "No population data for : Peru\n",
      "No population data for : Philippines\n",
      "No population data for : Poland\n",
      "No population data for : Portugal\n",
      "No population data for : Qatar\n",
      "No population data for : Romania\n",
      "No population data for : Russia\n",
      "No population data for : Rwanda\n",
      "No population data for : Saint Lucia\n",
      "No population data for : Saint Vincent and the Grenadines\n",
      "No population data for : San Marino\n",
      "No population data for : Saudi Arabia\n",
      "No population data for : Senegal\n",
      "No population data for : Serbia\n",
      "No population data for : Seychelles\n",
      "No population data for : Singapore\n",
      "No population data for : Slovakia\n",
      "No population data for : Slovenia\n",
      "No population data for : Somalia\n",
      "No population data for : South Africa\n",
      "No population data for : Spain\n",
      "No population data for : Sri Lanka\n",
      "No population data for : Sudan\n",
      "No population data for : Suriname\n",
      "No population data for : Sweden\n",
      "No population data for : Switzerland\n",
      "No population data for : Taiwan*\n",
      "No population data for : Tanzania\n",
      "No population data for : Thailand\n",
      "No population data for : Togo\n",
      "No population data for : Trinidad and Tobago\n",
      "No population data for : Tunisia\n",
      "No population data for : Turkey\n",
      "No population data for : Uganda\n",
      "No population data for : Ukraine\n",
      "No population data for : United Arab Emirates\n",
      "No population data for : United Kingdom\n",
      "No population data for : Uruguay\n",
      "No population data for : US\n",
      "No population data for : Uzbekistan\n",
      "No population data for : Venezuela\n",
      "No population data for : Vietnam\n",
      "No population data for : Zambia\n",
      "No population data for : Zimbabwe\n",
      "No population data for : Dominica\n",
      "No population data for : Grenada\n",
      "No population data for : Mozambique\n",
      "No population data for : Syria\n",
      "No population data for : Timor-Leste\n",
      "No population data for : Belize\n",
      "No population data for : Laos\n",
      "No population data for : Libya\n",
      "No population data for : West Bank and Gaza\n",
      "No population data for : Guinea-Bissau\n",
      "No population data for : Mali\n",
      "No population data for : Saint Kitts and Nevis\n",
      "No population data for : Kosovo\n",
      "No population data for : Burma\n",
      "No population data for : MS Zaandam\n",
      "No population data for : Botswana\n",
      "No population data for : Burundi\n",
      "No population data for : Sierra Leone\n",
      "No population data for : Malawi\n",
      "No population data for : South Sudan\n",
      "No population data for : Western Sahara\n",
      "No population data for : Sao Tome and Principe\n",
      "No population data for : Yemen\n",
      "No population data for : Comoros\n",
      "No population data for : Tajikistan\n"
     ]
    },
    {
     "ename": "ValueError",
     "evalue": "No objects to concatenate",
     "output_type": "error",
     "traceback": [
      "\u001b[0;31m---------------------------------------------------------------------------\u001b[0m",
      "\u001b[0;31mValueError\u001b[0m                                Traceback (most recent call last)",
      "\u001b[0;32m<ipython-input-423-a85802594c24>\u001b[0m in \u001b[0;36m<module>\u001b[0;34m\u001b[0m\n\u001b[0;32m----> 1\u001b[0;31m \u001b[0mdf_jhu_processed\u001b[0m \u001b[0;34m=\u001b[0m \u001b[0mmelt_jhu_df\u001b[0m\u001b[0;34m(\u001b[0m\u001b[0mdfcovid_conf_t\u001b[0m\u001b[0;34m,\u001b[0m \u001b[0mdfcovid_dead_t\u001b[0m\u001b[0;34m)\u001b[0m\u001b[0;34m\u001b[0m\u001b[0;34m\u001b[0m\u001b[0m\n\u001b[0m",
      "\u001b[0;32m<ipython-input-109-cdb0d4a3a87d>\u001b[0m in \u001b[0;36mmelt_jhu_df\u001b[0;34m(df_confirmed, df_dead)\u001b[0m\n\u001b[1;32m      5\u001b[0m         \u001b[0;32mif\u001b[0m \u001b[0mtype\u001b[0m\u001b[0;34m(\u001b[0m\u001b[0mdf\u001b[0m\u001b[0;34m)\u001b[0m \u001b[0;34m==\u001b[0m \u001b[0mpd\u001b[0m\u001b[0;34m.\u001b[0m\u001b[0mcore\u001b[0m\u001b[0;34m.\u001b[0m\u001b[0mframe\u001b[0m\u001b[0;34m.\u001b[0m\u001b[0mDataFrame\u001b[0m\u001b[0;34m:\u001b[0m\u001b[0;34m\u001b[0m\u001b[0;34m\u001b[0m\u001b[0m\n\u001b[1;32m      6\u001b[0m             \u001b[0m_list\u001b[0m\u001b[0;34m.\u001b[0m\u001b[0mappend\u001b[0m\u001b[0;34m(\u001b[0m\u001b[0mdf\u001b[0m\u001b[0;34m)\u001b[0m\u001b[0;34m\u001b[0m\u001b[0;34m\u001b[0m\u001b[0m\n\u001b[0;32m----> 7\u001b[0;31m     \u001b[0mpd\u001b[0m\u001b[0;34m.\u001b[0m\u001b[0mconcat\u001b[0m\u001b[0;34m(\u001b[0m\u001b[0;34m[\u001b[0m\u001b[0mdf\u001b[0m \u001b[0;32mfor\u001b[0m \u001b[0mdf\u001b[0m \u001b[0;32min\u001b[0m \u001b[0m_list\u001b[0m\u001b[0;34m]\u001b[0m\u001b[0;34m)\u001b[0m\u001b[0;34m\u001b[0m\u001b[0;34m\u001b[0m\u001b[0m\n\u001b[0m",
      "\u001b[0;32m~/Documents/projects/covid-19-exploration/venv/lib/python3.7/site-packages/pandas/core/reshape/concat.py\u001b[0m in \u001b[0;36mconcat\u001b[0;34m(objs, axis, join, ignore_index, keys, levels, names, verify_integrity, sort, copy)\u001b[0m\n\u001b[1;32m    279\u001b[0m         \u001b[0mverify_integrity\u001b[0m\u001b[0;34m=\u001b[0m\u001b[0mverify_integrity\u001b[0m\u001b[0;34m,\u001b[0m\u001b[0;34m\u001b[0m\u001b[0;34m\u001b[0m\u001b[0m\n\u001b[1;32m    280\u001b[0m         \u001b[0mcopy\u001b[0m\u001b[0;34m=\u001b[0m\u001b[0mcopy\u001b[0m\u001b[0;34m,\u001b[0m\u001b[0;34m\u001b[0m\u001b[0;34m\u001b[0m\u001b[0m\n\u001b[0;32m--> 281\u001b[0;31m         \u001b[0msort\u001b[0m\u001b[0;34m=\u001b[0m\u001b[0msort\u001b[0m\u001b[0;34m,\u001b[0m\u001b[0;34m\u001b[0m\u001b[0;34m\u001b[0m\u001b[0m\n\u001b[0m\u001b[1;32m    282\u001b[0m     )\n\u001b[1;32m    283\u001b[0m \u001b[0;34m\u001b[0m\u001b[0m\n",
      "\u001b[0;32m~/Documents/projects/covid-19-exploration/venv/lib/python3.7/site-packages/pandas/core/reshape/concat.py\u001b[0m in \u001b[0;36m__init__\u001b[0;34m(self, objs, axis, join, keys, levels, names, ignore_index, verify_integrity, copy, sort)\u001b[0m\n\u001b[1;32m    327\u001b[0m \u001b[0;34m\u001b[0m\u001b[0m\n\u001b[1;32m    328\u001b[0m         \u001b[0;32mif\u001b[0m \u001b[0mlen\u001b[0m\u001b[0;34m(\u001b[0m\u001b[0mobjs\u001b[0m\u001b[0;34m)\u001b[0m \u001b[0;34m==\u001b[0m \u001b[0;36m0\u001b[0m\u001b[0;34m:\u001b[0m\u001b[0;34m\u001b[0m\u001b[0;34m\u001b[0m\u001b[0m\n\u001b[0;32m--> 329\u001b[0;31m             \u001b[0;32mraise\u001b[0m \u001b[0mValueError\u001b[0m\u001b[0;34m(\u001b[0m\u001b[0;34m\"No objects to concatenate\"\u001b[0m\u001b[0;34m)\u001b[0m\u001b[0;34m\u001b[0m\u001b[0;34m\u001b[0m\u001b[0m\n\u001b[0m\u001b[1;32m    330\u001b[0m \u001b[0;34m\u001b[0m\u001b[0m\n\u001b[1;32m    331\u001b[0m         \u001b[0;32mif\u001b[0m \u001b[0mkeys\u001b[0m \u001b[0;32mis\u001b[0m \u001b[0;32mNone\u001b[0m\u001b[0;34m:\u001b[0m\u001b[0;34m\u001b[0m\u001b[0;34m\u001b[0m\u001b[0m\n",
      "\u001b[0;31mValueError\u001b[0m: No objects to concatenate"
     ]
    }
   ],
   "source": [
    "df_jhu_processed = melt_jhu_df(dfcovid_conf_t, dfcovid_dead_t)"
   ]
  },
  {
   "cell_type": "code",
   "execution_count": null,
   "metadata": {},
   "outputs": [],
   "source": [
    "df_jhu_processed.head(1)"
   ]
  },
  {
   "cell_type": "code",
   "execution_count": 424,
   "metadata": {},
   "outputs": [
    {
     "name": "stdout",
     "output_type": "stream",
     "text": [
      "Mobility max date: 2020-05-10 00:00:00\n",
      "RKI max date 2020-05-13 00:00:00\n",
      "Covi world max date 2020-05-12 00:00:00\n",
      "Covi world max date 2020-05-12 00:00:00\n"
     ]
    }
   ],
   "source": [
    "print(\"Mobility max date:\", max(df_apple_processed.index))\n",
    "print(\"RKI max date\", max(df_rki_germany_processed.index))\n",
    "print(\"Covi world max date\", max(dfcovid_conf_t.index))\n",
    "print(\"Covi world max date\", max(dfcovid_dead_t.index))"
   ]
  },
  {
   "cell_type": "markdown",
   "metadata": {},
   "source": [
    "# Save processed data"
   ]
  },
  {
   "cell_type": "code",
   "execution_count": 425,
   "metadata": {},
   "outputs": [],
   "source": [
    "df_rki_germany_processed.to_csv('data_rki_prepared.csv')\n",
    "df_apple_processed.to_csv('data_apple_prepared.csv')"
   ]
  },
  {
   "cell_type": "markdown",
   "metadata": {},
   "source": [
    "----"
   ]
  },
  {
   "cell_type": "markdown",
   "metadata": {},
   "source": [
    "----"
   ]
  },
  {
   "cell_type": "markdown",
   "metadata": {},
   "source": [
    "----"
   ]
  },
  {
   "cell_type": "code",
   "execution_count": 426,
   "metadata": {},
   "outputs": [
    {
     "data": {
      "text/plain": [
       "Index(['land', 'confirmed', 'dead', 'name', 'iso_code', 'capital', 'area',\n",
       "       'population', 'dow', 'weekend', 'confirmed_avg3', 'confirmed_change',\n",
       "       'confirmed_change_avg3', 'confirmed_change_3w', 'confirmed_change_pct',\n",
       "       'confirmed_change_pct_avg3', 'confirmed_change_pct_3w',\n",
       "       'confirmed_change_acceleration', 'confirmed_change_acceleration_avg3',\n",
       "       'confirmed_doubling_days', 'confirmed_doubling_days_3w',\n",
       "       'confirmed_doubling_days_avg3', 'confirmed_doubling_days_3w_avg3',\n",
       "       'confirmed_active_cases', 'confirmed_peak', 'confirmed_day_since_10',\n",
       "       'confirmed_per_100k', 'confirmed_change_per_100k', 'dead_avg3',\n",
       "       'dead_change', 'dead_change_avg3', 'dead_change_3w', 'dead_change_pct',\n",
       "       'dead_change_pct_avg3', 'dead_change_pct_3w',\n",
       "       'dead_change_acceleration', 'dead_change_acceleration_avg3',\n",
       "       'dead_doubling_days', 'dead_doubling_days_3w',\n",
       "       'dead_doubling_days_avg3', 'dead_doubling_days_3w_avg3',\n",
       "       'dead_day_since_10', 'dead_per_100k', 'dead_change_per_100k'],\n",
       "      dtype='object')"
      ]
     },
     "execution_count": 426,
     "metadata": {},
     "output_type": "execute_result"
    }
   ],
   "source": [
    "df_rki_germany_processed.columns"
   ]
  },
  {
   "cell_type": "code",
   "execution_count": 129,
   "metadata": {},
   "outputs": [],
   "source": [
    "df_rki_germany_processed['dates'] = df_rki_germany_processed.index\n",
    "df_rki_germany_processed['rn'] = df_rki_germany_processed.groupby('land')['dates'].rank(method='first', ascending=True)"
   ]
  },
  {
   "cell_type": "code",
   "execution_count": 130,
   "metadata": {},
   "outputs": [
    {
     "data": {
      "text/plain": [
       "array(['Hesse', 'Schleswig-Holstein', 'Saxony-Anhalt', 'Saxony',\n",
       "       'Saarland', 'Rhineland-Palatinate', 'North Rhine-Westphalia',\n",
       "       'Lower Saxony', 'Hamburg', 'Bremen', 'Brandenburg', 'Berlin',\n",
       "       'Bavaria', 'Mecklenburg-Western Pomerania', 'Thuringia',\n",
       "       'Baden-Wuerttemberg'], dtype=object)"
      ]
     },
     "execution_count": 130,
     "metadata": {},
     "output_type": "execute_result"
    }
   ],
   "source": [
    "df_rki_germany_processed['land'].unique()"
   ]
  },
  {
   "cell_type": "code",
   "execution_count": 290,
   "metadata": {},
   "outputs": [
    {
     "data": {
      "text/plain": [
       "2070.0"
      ]
     },
     "execution_count": 290,
     "metadata": {},
     "output_type": "execute_result"
    }
   ],
   "source": [
    "df_rki_germany_processed['confirmed_change'].max()"
   ]
  },
  {
   "cell_type": "code",
   "execution_count": 432,
   "metadata": {},
   "outputs": [
    {
     "data": {
      "text/plain": [
       "True"
      ]
     },
     "execution_count": 432,
     "metadata": {},
     "output_type": "execute_result"
    }
   ],
   "source": [
    "type(df.index[0]) == pd._libs.tslibs.timestamps.Timestamp"
   ]
  },
  {
   "cell_type": "code",
   "execution_count": 434,
   "metadata": {},
   "outputs": [
    {
     "data": {
      "text/plain": [
       "DatetimeIndex(['2020-05-12'], dtype='datetime64[ns]', name='dates_index', freq=None)"
      ]
     },
     "execution_count": 434,
     "metadata": {},
     "output_type": "execute_result"
    }
   ],
   "source": [
    "df.loc[(df.date == '2020-05-12') & (df.land == l)].index"
   ]
  },
  {
   "cell_type": "code",
   "execution_count": 444,
   "metadata": {},
   "outputs": [
    {
     "ename": "SyntaxError",
     "evalue": "unexpected EOF while parsing (<ipython-input-444-856878ebb447>, line 2)",
     "output_type": "error",
     "traceback": [
      "\u001b[0;36m  File \u001b[0;32m\"<ipython-input-444-856878ebb447>\"\u001b[0;36m, line \u001b[0;32m2\u001b[0m\n\u001b[0;31m    y = df.loc[(df.index == x) & (df.land == l), column].values[0\u001b[0m\n\u001b[0m                                                                 ^\u001b[0m\n\u001b[0;31mSyntaxError\u001b[0m\u001b[0;31m:\u001b[0m unexpected EOF while parsing\n"
     ]
    }
   ],
   "source": [
    "x = df.loc[(df.date == '2020-05-12') & (df.land == l), [column]].index[0]\n",
    "y = df.loc[(df.index == x) & (df.land == l), column].values[0[]"
   ]
  },
  {
   "cell_type": "code",
   "execution_count": 445,
   "metadata": {},
   "outputs": [
    {
     "data": {
      "text/plain": [
       "(Timestamp('2020-05-12 00:00:00'), array([256.]))"
      ]
     },
     "execution_count": 445,
     "metadata": {},
     "output_type": "execute_result"
    }
   ],
   "source": [
    "x, y"
   ]
  },
  {
   "cell_type": "code",
   "execution_count": null,
   "metadata": {},
   "outputs": [],
   "source": [
    "{\n",
    "    \"label\": \"New Cases: Daily\",\n",
    "    \"value\": \"confirmed_change\",\n",
    "},\n",
    "{\n",
    "    \"label\": \"New Cases: Daily per 100k of Population\",\n",
    "    \"value\": \"confirmed_change_per_100k\",\n",
    "},\n",
    "{\n",
    "    \"label\": \"New Cases: Daily as % of Rolling 3 Week Sum\",\n",
    "    \"value\": \"confirmed_change_pct_3w\",\n",
    "},\n",
    "{\n",
    "    \"label\": \"New Cases: Days to Double Rolling 3 Week Sum\",\n",
    "    \"value\": \"confirmed_doubling_days_3w_avg3\",\n",
    "},\n",
    "{\n",
    "    \"label\": \"Deaths: Daily\",\n",
    "    \"value\": \"dead_change\",\n",
    "},\n",
    "{\n",
    "    \"label\": \"Deaths: Daily per 100k of Population\",\n",
    "    \"value\": \"dead_change_per_100k\",\n",
    "},\n",
    "{\n",
    "    \"label\": \"Deaths: Days to Double Total Number\",\n",
    "    \"value\": \"dead_doubling_days\",\n",
    "},"
   ]
  },
  {
   "cell_type": "code",
   "execution_count": 446,
   "metadata": {},
   "outputs": [],
   "source": [
    "FEATURE_DROPDOWN = {\n",
    "    \"confirmed_change\": \"New Cases: Daily\",\n",
    "    \"confirmed_change_per_100k\": \"New Cases: Daily per 100k of Population\",\n",
    "    \"confirmed_change_pct_3w\": \"New Cases: Daily as % of Rolling 3 Week Sum\",\n",
    "    \"confirmed_doubling_days_3w_avg3\": \"New Cases: Days to Double Rolling 3 Week Sum\",\n",
    "    \"dead_change\": \"Deaths: Daily\",\n",
    "    \"dead_change_per_100k\": \"Deaths: Daily per 100k of Population\",\n",
    "    \"dead_doubling_days\": \"Deaths: Days to Double Total Number\",\n",
    "}"
   ]
  },
  {
   "cell_type": "code",
   "execution_count": 447,
   "metadata": {},
   "outputs": [
    {
     "data": {
      "text/plain": [
       "[{'label': 'New Cases: Daily', 'value': 'confirmed_change'},\n",
       " {'label': 'New Cases: Daily per 100k of Population',\n",
       "  'value': 'confirmed_change_per_100k'},\n",
       " {'label': 'New Cases: Daily as % of Rolling 3 Week Sum',\n",
       "  'value': 'confirmed_change_pct_3w'},\n",
       " {'label': 'New Cases: Days to Double Rolling 3 Week Sum',\n",
       "  'value': 'confirmed_doubling_days_3w_avg3'},\n",
       " {'label': 'Deaths: Daily', 'value': 'dead_change'},\n",
       " {'label': 'Deaths: Daily per 100k of Population',\n",
       "  'value': 'dead_change_per_100k'},\n",
       " {'label': 'Deaths: Days to Double Total Number',\n",
       "  'value': 'dead_doubling_days'}]"
      ]
     },
     "execution_count": 447,
     "metadata": {},
     "output_type": "execute_result"
    }
   ],
   "source": [
    "[{'label': l, 'value': v} for l,v in zip(FEATURE_DROPDOWN.values(), FEATURE_DROPDOWN.keys())]"
   ]
  },
  {
   "cell_type": "code",
   "execution_count": null,
   "metadata": {},
   "outputs": [],
   "source": []
  }
 ],
 "metadata": {
  "kernelspec": {
   "display_name": "Python 3",
   "language": "python",
   "name": "python3"
  },
  "language_info": {
   "codemirror_mode": {
    "name": "ipython",
    "version": 3
   },
   "file_extension": ".py",
   "mimetype": "text/x-python",
   "name": "python",
   "nbconvert_exporter": "python",
   "pygments_lexer": "ipython3",
   "version": "3.7.3"
  }
 },
 "nbformat": 4,
 "nbformat_minor": 4
}
