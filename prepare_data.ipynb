{
 "cells": [
  {
   "cell_type": "code",
   "execution_count": 456,
   "metadata": {},
   "outputs": [
    {
     "name": "stdout",
     "output_type": "stream",
     "text": [
      "The autoreload extension is already loaded. To reload it, use:\n",
      "  %reload_ext autoreload\n"
     ]
    }
   ],
   "source": [
    "import pandas as pd\n",
    "import geopandas as gpd\n",
    "import json\n",
    "import numpy as np\n",
    "import datetime\n",
    "import plotly\n",
    "from plotly import graph_objects as go\n",
    "pd.set_option('display.max_rows', 300)\n",
    "\n",
    "%load_ext autoreload\n",
    "\n",
    "from charts import plot_line, plot_bar, plot_peak, print_charts_country\n",
    "from features import add_variables_covid, add_variables_apple, join_series_day_since, join_series_date\n",
    "\n",
    "%matplotlib inline"
   ]
  },
  {
   "cell_type": "code",
   "execution_count": 2,
   "metadata": {},
   "outputs": [],
   "source": [
    "date_apple = '2020-05-15'"
   ]
  },
  {
   "cell_type": "code",
   "execution_count": 3,
   "metadata": {},
   "outputs": [],
   "source": [
    "def apple_filter_region(df, region):\n",
    "    df_region = df[df.region == region].T\n",
    "    df_region.columns = df_region.loc['transportation_type', :]\n",
    "    df_region = df_region[~df_region.index.isin(['geo_type', 'region', 'transportation_type', 'alternative_name'])]\n",
    "    \n",
    "    df_region['dates'] = pd.to_datetime(df_region.index)\n",
    "    df_region.set_index('dates', inplace=True)\n",
    "    df_region = df_region.astype('float')\n",
    "    df_region['region'] = region\n",
    "    \n",
    "    return df_region"
   ]
  },
  {
   "cell_type": "code",
   "execution_count": 4,
   "metadata": {},
   "outputs": [],
   "source": [
    "def add_forecast_prophet(df_in, column, window=60, ):\n",
    "    from fbprophet import Prophet\n",
    "    df = df_in.loc[:, [column]].dropna()\n",
    "    df['ds'] = df.index\n",
    "    df.columns = ['y', 'ds']\n",
    "    m = Prophet()\n",
    "    m.fit(df)\n",
    "    future = m.make_future_dataframe(periods=window)\n",
    "    forecast = m.predict(future)\n",
    "    forecast.set_index(forecast.ds, inplace=True)\n",
    "    forecast = forecast.loc[:, ['yhat', 'yhat_lower', 'yhat_upper']]\n",
    "    df_extra_dates = pd.DataFrame({ 'day': pd.Series([max(df_in.index) + datetime.timedelta(1), max(df_in.index) + datetime.timedelta(window)])})\n",
    "    df_extra_dates.set_index('day',inplace=True)\n",
    "    df_extra_dates = df_extra_dates.asfreq('D')\n",
    "    df_in = df_in.append(df_extra_dates)\n",
    "    df_result = pd.concat([df_in, forecast ], axis=1)\n",
    "    df_result[f'{column}_pred'] = df_result.loc[df_result[column].isnull() == True, ['yhat']]\n",
    "    \n",
    "    return df_result\n"
   ]
  },
  {
   "cell_type": "code",
   "execution_count": 124,
   "metadata": {},
   "outputs": [],
   "source": []
  },
  {
   "cell_type": "code",
   "execution_count": 6,
   "metadata": {},
   "outputs": [],
   "source": [
    "def melt_apple_df(dfapple):\n",
    "    _list = list()\n",
    "    for region in dfapple.region.unique():\n",
    "        dfapple_region = apple_filter_region(dfapple, region)\n",
    "        df = add_variables_apple(dfapple_region)\n",
    "        _list.append(df)\n",
    "    ret = pd.concat([df for df in _list])\n",
    "    return ret"
   ]
  },
  {
   "cell_type": "code",
   "execution_count": 7,
   "metadata": {},
   "outputs": [],
   "source": [
    "def melt_rki_df(df_rki_germany):\n",
    "    _list = list()\n",
    "    for land in df_rki_germany.land.unique():\n",
    "        df = df_rki_germany.loc[df_rki_germany.land == land, :].copy()\n",
    "        pop = int(df.loc[df.land==land, 'population'][0])\n",
    "        df = add_variables_covid(df, 'confirmed', population=pop)\n",
    "        df = add_variables_covid(df, 'dead', population=pop)\n",
    "        _list.append(df)\n",
    "    return pd.concat([df for df in _list])"
   ]
  },
  {
   "cell_type": "code",
   "execution_count": 125,
   "metadata": {},
   "outputs": [],
   "source": []
  },
  {
   "cell_type": "markdown",
   "metadata": {},
   "source": [
    "# World Bank Data"
   ]
  },
  {
   "cell_type": "code",
   "execution_count": 165,
   "metadata": {
    "scrolled": true
   },
   "outputs": [
    {
     "data": {
      "text/html": [
       "<div>\n",
       "<style scoped>\n",
       "    .dataframe tbody tr th:only-of-type {\n",
       "        vertical-align: middle;\n",
       "    }\n",
       "\n",
       "    .dataframe tbody tr th {\n",
       "        vertical-align: top;\n",
       "    }\n",
       "\n",
       "    .dataframe thead th {\n",
       "        text-align: right;\n",
       "    }\n",
       "</style>\n",
       "<table border=\"1\" class=\"dataframe\">\n",
       "  <thead>\n",
       "    <tr style=\"text-align: right;\">\n",
       "      <th></th>\n",
       "      <th>region</th>\n",
       "      <th>country_wb</th>\n",
       "      <th>population</th>\n",
       "      <th>iso_code</th>\n",
       "    </tr>\n",
       "    <tr>\n",
       "      <th>id</th>\n",
       "      <th></th>\n",
       "      <th></th>\n",
       "      <th></th>\n",
       "      <th></th>\n",
       "    </tr>\n",
       "  </thead>\n",
       "  <tbody>\n",
       "    <tr>\n",
       "      <th>ABW</th>\n",
       "      <td>Latin America &amp; Caribbean</td>\n",
       "      <td>Aruba</td>\n",
       "      <td>105845.0</td>\n",
       "      <td>ABW</td>\n",
       "    </tr>\n",
       "  </tbody>\n",
       "</table>\n",
       "</div>"
      ],
      "text/plain": [
       "                         region country_wb  population iso_code\n",
       "id                                                             \n",
       "ABW  Latin America & Caribbean       Aruba    105845.0      ABW"
      ]
     },
     "execution_count": 165,
     "metadata": {},
     "output_type": "execute_result"
    }
   ],
   "source": [
    "import world_bank_data as wb\n",
    "\n",
    "countries = wb.get_countries()\n",
    "\n",
    "# population = wb.get_series('SP.POP.TOTL', mrv=1)  # Most recent value\n",
    "population = wb.get_series('SP.POP.TOTL', id_or_value='id', simplify_index=True, mrv=1)\n",
    "\n",
    "# Aggregate region, country and population\n",
    "df_population = countries[['region', 'name']].rename(columns={'name': 'country_wb'}).loc[countries.region != 'Aggregates']\n",
    "df_population['population'] = population\n",
    "df_population['country_wb'] = df_population['country_wb'].astype('string')\n",
    "df_population['iso_code'] = df_population.index\n",
    "df_population.head(1)"
   ]
  },
  {
   "cell_type": "code",
   "execution_count": 166,
   "metadata": {},
   "outputs": [],
   "source": [
    "df_population.loc[df_population.iso_code == 'XKX', 'iso_code'] = 'XKS'"
   ]
  },
  {
   "cell_type": "markdown",
   "metadata": {},
   "source": [
    "# RKI and Apple Data"
   ]
  },
  {
   "cell_type": "code",
   "execution_count": 167,
   "metadata": {},
   "outputs": [],
   "source": [
    "date_now = datetime.datetime.strftime(datetime.datetime.utcnow(), \"%Y-%m-%d\")\n",
    "dfapple = pd.read_csv(f\"../AppleMobilty/applemobilitytrends-{date_apple}.csv\")\n",
    "\n",
    "df_rki_germany = pd.read_csv(\"data-RKI-parse/RKI-reports.csv\")\n",
    "df_rki_germany.drop('data', axis=1, inplace=True)\n",
    "\n",
    "df_population_de = pd.read_csv('german_lander_population.csv')"
   ]
  },
  {
   "cell_type": "markdown",
   "metadata": {},
   "source": [
    "# JHU Data"
   ]
  },
  {
   "cell_type": "code",
   "execution_count": 216,
   "metadata": {},
   "outputs": [],
   "source": [
    "dfcovid_conf = pd.read_csv(\"../covid-19-JHU CSSE/csse_covid_19_data/csse_covid_19_time_series/time_series_covid19_confirmed_global.csv\")\n",
    "dfcovid_dead = pd.read_csv(\"../covid-19-JHU CSSE/csse_covid_19_data/csse_covid_19_time_series/time_series_covid19_deaths_global.csv\")\n",
    "df_uid = pd.read_csv(\"../covid-19-JHU CSSE/csse_covid_19_data/UID_ISO_FIPS_LookUp_Table.csv\")\n",
    "\n",
    "df_uid = df_uid.loc[df_uid['Province_State'].isnull() == True, ['iso3', 'Country_Region']]\n",
    "df_uid.columns = ['iso_code', 'country']\n",
    "\n",
    "dfcovid_conf.columns = ['state', 'country', 'lat', 'lng'] + list(dfcovid_conf.columns[4:])\n",
    "dfcovid_dead.columns = ['state', 'country', 'lat', 'lng'] + list(dfcovid_dead.columns[4:])\n",
    "dfcovid_conf = dfcovid_conf.merge(df_uid, how='outer', on='country', suffixes=('_x', '_y'))\n",
    "dfcovid_dead = dfcovid_dead.merge(df_uid, how='outer', on='country', suffixes=('_x', '_y'))"
   ]
  },
  {
   "cell_type": "code",
   "execution_count": 217,
   "metadata": {},
   "outputs": [
    {
     "data": {
      "text/html": [
       "<div>\n",
       "<style scoped>\n",
       "    .dataframe tbody tr th:only-of-type {\n",
       "        vertical-align: middle;\n",
       "    }\n",
       "\n",
       "    .dataframe tbody tr th {\n",
       "        vertical-align: top;\n",
       "    }\n",
       "\n",
       "    .dataframe thead th {\n",
       "        text-align: right;\n",
       "    }\n",
       "</style>\n",
       "<table border=\"1\" class=\"dataframe\">\n",
       "  <thead>\n",
       "    <tr style=\"text-align: right;\">\n",
       "      <th></th>\n",
       "      <th>state</th>\n",
       "      <th>country</th>\n",
       "      <th>lat</th>\n",
       "      <th>lng</th>\n",
       "      <th>1/22/20</th>\n",
       "      <th>1/23/20</th>\n",
       "      <th>1/24/20</th>\n",
       "      <th>1/25/20</th>\n",
       "      <th>1/26/20</th>\n",
       "      <th>1/27/20</th>\n",
       "      <th>...</th>\n",
       "      <th>5/8/20</th>\n",
       "      <th>5/9/20</th>\n",
       "      <th>5/10/20</th>\n",
       "      <th>5/11/20</th>\n",
       "      <th>5/12/20</th>\n",
       "      <th>5/13/20</th>\n",
       "      <th>5/14/20</th>\n",
       "      <th>5/15/20</th>\n",
       "      <th>5/16/20</th>\n",
       "      <th>iso_code</th>\n",
       "    </tr>\n",
       "  </thead>\n",
       "  <tbody>\n",
       "    <tr>\n",
       "      <th>0</th>\n",
       "      <td>NaN</td>\n",
       "      <td>Afghanistan</td>\n",
       "      <td>33.0</td>\n",
       "      <td>65.0</td>\n",
       "      <td>0</td>\n",
       "      <td>0</td>\n",
       "      <td>0</td>\n",
       "      <td>0</td>\n",
       "      <td>0</td>\n",
       "      <td>0</td>\n",
       "      <td>...</td>\n",
       "      <td>3778</td>\n",
       "      <td>4033</td>\n",
       "      <td>4402</td>\n",
       "      <td>4687</td>\n",
       "      <td>4963</td>\n",
       "      <td>5226</td>\n",
       "      <td>5639</td>\n",
       "      <td>6053</td>\n",
       "      <td>6402</td>\n",
       "      <td>AFG</td>\n",
       "    </tr>\n",
       "  </tbody>\n",
       "</table>\n",
       "<p>1 rows × 121 columns</p>\n",
       "</div>"
      ],
      "text/plain": [
       "  state      country   lat   lng  1/22/20  1/23/20  1/24/20  1/25/20  1/26/20  \\\n",
       "0   NaN  Afghanistan  33.0  65.0        0        0        0        0        0   \n",
       "\n",
       "   1/27/20  ...  5/8/20  5/9/20  5/10/20  5/11/20  5/12/20  5/13/20  5/14/20  \\\n",
       "0        0  ...    3778    4033     4402     4687     4963     5226     5639   \n",
       "\n",
       "   5/15/20  5/16/20  iso_code  \n",
       "0     6053     6402       AFG  \n",
       "\n",
       "[1 rows x 121 columns]"
      ]
     },
     "execution_count": 217,
     "metadata": {},
     "output_type": "execute_result"
    }
   ],
   "source": [
    "dfcovid_conf.head(1)"
   ]
  },
  {
   "cell_type": "code",
   "execution_count": 218,
   "metadata": {},
   "outputs": [],
   "source": [
    "# dfcovid_conf.loc[dfcovid_conf.country.str.contains('China') == True]#.head(1) ##.sort_values(by='region')"
   ]
  },
  {
   "cell_type": "code",
   "execution_count": 219,
   "metadata": {},
   "outputs": [],
   "source": [
    "# dfcovid_conf.loc[dfcovid_conf.country.str.contains('Australia') == True, [c for c in dfcovid_conf.columns if '/20' in c]].sum()"
   ]
  },
  {
   "cell_type": "code",
   "execution_count": 220,
   "metadata": {},
   "outputs": [],
   "source": [
    "def fix_countries(df):\n",
    "    df.loc[df.state.str.contains('Hong Kong') == True, 'iso_code'] = 'HKG'\n",
    "    df.loc[df.state.str.contains('Macau') == True, 'iso_code'] = 'MAC'\n",
    "    df.loc[df.state.str.contains('Hong Kong') == True, 'state'] = np.NaN\n",
    "    df.loc[df.state.str.contains('Macau') == True, 'state'] = np.NaN\n",
    "    df.loc[df.iso_code.str.contains('HKG') == True, 'country'] = 'Hong Kong'\n",
    "    df.loc[df.iso_code.str.contains('MAC') == True, 'country'] = 'Macau'\n",
    "\n",
    "    s = df.loc[df.iso_code == 'CHN', [c for c in df.columns if '/20' in c]].sum()\n",
    "    s['country'] = 'China'\n",
    "    s['iso_code'] = 'CHN'\n",
    "    df = pd.concat([df, s.to_frame().T,] ,axis=0)\n",
    "    \n",
    "    s = df.loc[df.country.str.contains('Canada') == True, [c for c in df.columns if '/20' in c]].sum()\n",
    "    s['country'] = 'Canada'\n",
    "    s['iso_code'] = 'CAN'\n",
    "    df = pd.concat([df, s.to_frame().T,] ,axis=0)\n",
    "\n",
    "    s = df.loc[df.country.str.contains('Australia') == True, [c for c in df.columns if '/20' in c]].sum()\n",
    "    s['country'] = 'Australia'\n",
    "    s['iso_code'] = 'AUS'\n",
    "    df = pd.concat([df, s.to_frame().T,] ,axis=0)\n",
    "    \n",
    "    return df\n",
    "dfcovid_conf = fix_countries(dfcovid_conf)\n",
    "dfcovid_dead = fix_countries(dfcovid_dead)"
   ]
  },
  {
   "cell_type": "code",
   "execution_count": 221,
   "metadata": {},
   "outputs": [],
   "source": [
    "dfcovid_conf = dfcovid_conf.loc[dfcovid_conf['state'].isnull() == True, :]\n",
    "dfcovid_dead = dfcovid_dead.loc[dfcovid_dead['state'].isnull() == True, :]"
   ]
  },
  {
   "cell_type": "code",
   "execution_count": 222,
   "metadata": {},
   "outputs": [
    {
     "data": {
      "text/html": [
       "<div>\n",
       "<style scoped>\n",
       "    .dataframe tbody tr th:only-of-type {\n",
       "        vertical-align: middle;\n",
       "    }\n",
       "\n",
       "    .dataframe tbody tr th {\n",
       "        vertical-align: top;\n",
       "    }\n",
       "\n",
       "    .dataframe thead th {\n",
       "        text-align: right;\n",
       "    }\n",
       "</style>\n",
       "<table border=\"1\" class=\"dataframe\">\n",
       "  <thead>\n",
       "    <tr style=\"text-align: right;\">\n",
       "      <th></th>\n",
       "      <th>region</th>\n",
       "      <th>country_wb</th>\n",
       "      <th>population</th>\n",
       "      <th>iso_code</th>\n",
       "      <th>country</th>\n",
       "    </tr>\n",
       "  </thead>\n",
       "  <tbody>\n",
       "    <tr>\n",
       "      <th>221</th>\n",
       "      <td>NaN</td>\n",
       "      <td>&lt;NA&gt;</td>\n",
       "      <td>NaN</td>\n",
       "      <td>ESH</td>\n",
       "      <td>Western Sahara</td>\n",
       "    </tr>\n",
       "  </tbody>\n",
       "</table>\n",
       "</div>"
      ],
      "text/plain": [
       "    region country_wb  population iso_code         country\n",
       "221    NaN       <NA>         NaN      ESH  Western Sahara"
      ]
     },
     "execution_count": 222,
     "metadata": {},
     "output_type": "execute_result"
    }
   ],
   "source": [
    "df_population_joined = df_population.merge(dfcovid_conf.loc[:, ['iso_code', 'country']].drop_duplicates(), how='outer',  on='iso_code',  suffixes=('_x', '_y'), left_index=False, right_index=False,)\n",
    "df_population_joined.tail(1)"
   ]
  },
  {
   "cell_type": "code",
   "execution_count": 223,
   "metadata": {},
   "outputs": [],
   "source": [
    "# df_population_joined.loc[df_population_joined.country.isnull() == True].sort_values(by='region')"
   ]
  },
  {
   "cell_type": "code",
   "execution_count": 224,
   "metadata": {},
   "outputs": [],
   "source": [
    "# df_population_joined.loc[df_population_joined.country_wb.isnull() == True].head(10)"
   ]
  },
  {
   "cell_type": "code",
   "execution_count": 225,
   "metadata": {},
   "outputs": [],
   "source": [
    "# dfcovid_conf.loc[dfcovid_conf.country == 'China'].head(10)"
   ]
  },
  {
   "cell_type": "markdown",
   "metadata": {},
   "source": [
    "## load and write Germany GeoJSON"
   ]
  },
  {
   "cell_type": "code",
   "execution_count": 206,
   "metadata": {},
   "outputs": [],
   "source": [
    "geojson_path =  \"../deutschlandGeoJSON/2_bundeslaender/3_mittel.geo.json\"\n",
    "df_geojson = gpd.read_file(geojson_path)\n",
    "df_geojson.columns = [\"iso_code\", 'name', 'type','geometry']\n",
    "df_geojson = df_geojson.loc[:, [\"iso_code\", 'geometry']]\n",
    "df_geojson['iso_code'] = df_geojson.iso_code.str.replace('DE-', '')\n",
    "geojson = json.loads(df_geojson.set_index('iso_code').to_json())\n",
    "json.dump(geojson, open('data_geo_de.json', 'w'))"
   ]
  },
  {
   "cell_type": "markdown",
   "metadata": {},
   "source": [
    "### Transpose Confirmed Cases"
   ]
  },
  {
   "cell_type": "code",
   "execution_count": 226,
   "metadata": {},
   "outputs": [],
   "source": [
    "dfcovid_conf_t = dfcovid_conf.loc[dfcovid_conf['state'].isnull() == True, :].T\n",
    "dfcovid_conf_t.columns = dfcovid_conf_t.loc['country', :].astype(str)\n",
    "dfcovid_conf_t.drop(['country'], axis=0, inplace=True)\n",
    "df_country_coords = dfcovid_conf_t.loc[['lat', 'lng'], :]\n",
    "dfcovid_conf_t.drop(['lat', 'lng', 'state', 'iso_code'], axis=0, inplace=True)\n",
    "dfcovid_conf_t['dates'] = dfcovid_conf_t.index\n",
    "dfcovid_conf_t['dates'] = dfcovid_conf_t['dates'].astype('datetime64[ns]')\n",
    "dfcovid_conf_t = dfcovid_conf_t.sort_values('dates', ascending=True)\n",
    "dfcovid_conf_t.set_index('dates', inplace=True)\n",
    "dfcovid_conf_t = dfcovid_conf_t.astype(float)"
   ]
  },
  {
   "cell_type": "markdown",
   "metadata": {},
   "source": [
    "### Transpose Dead Cases"
   ]
  },
  {
   "cell_type": "code",
   "execution_count": 227,
   "metadata": {},
   "outputs": [],
   "source": [
    "dfcovid_dead_t = dfcovid_dead.loc[dfcovid_dead['state'].isnull() == True, :].T\n",
    "dfcovid_dead_t.columns = dfcovid_dead_t.loc['country', :].astype(str)\n",
    "dfcovid_dead_t.drop(['country'], axis=0, inplace=True)\n",
    "\n",
    "\n",
    "dfcovid_dead_t.drop(['lat', 'lng', 'state', 'iso_code'], axis=0, inplace=True)\n",
    "dfcovid_dead_t['dates'] = dfcovid_dead_t.index\n",
    "dfcovid_dead_t['dates'] = dfcovid_dead_t['dates'].astype('datetime64[ns]')\n",
    "dfcovid_dead_t = dfcovid_dead_t.sort_values('dates', ascending=True)\n",
    "dfcovid_dead_t.set_index('dates', inplace=True)\n",
    "dfcovid_dead_t = dfcovid_dead_t.astype(float)\n"
   ]
  },
  {
   "cell_type": "markdown",
   "metadata": {},
   "source": [
    "# Prepare Datasets"
   ]
  },
  {
   "cell_type": "markdown",
   "metadata": {},
   "source": [
    "### RKI"
   ]
  },
  {
   "cell_type": "code",
   "execution_count": 727,
   "metadata": {},
   "outputs": [],
   "source": [
    "# df_rki_germany = df_rki_germany.merge(df_population_de, \n",
    "#                                             how='inner',\n",
    "#                                             left_on='land',\n",
    "#                                             right_on='name',\n",
    "#                                             left_index=False,\n",
    "#                                             right_index=False,\n",
    "#                                             suffixes=('_x', '_y'),)\n",
    "\n",
    "# df_rki_germany['date'] = df_rki_germany['date'].astype('datetime64[ns]')\n",
    "# df_rki_germany = df_rki_germany.sort_values('date', ascending=True)\n",
    "# df_rki_germany.set_index('date', inplace=True, drop=False)\n",
    "\n",
    "# df_rki_germany_processed = melt_rki_df(df_rki_germany)"
   ]
  },
  {
   "cell_type": "markdown",
   "metadata": {},
   "source": [
    "### Apple"
   ]
  },
  {
   "cell_type": "code",
   "execution_count": 292,
   "metadata": {},
   "outputs": [],
   "source": [
    "# df_apple_processed = melt_apple_df(dfapple)\n",
    "# apple_lands = {'Baden-Württemberg': 'Baden-Wuerttemberg',\n",
    "#                'The Free Hanseatic City of Bremen':'Bremen',\n",
    "#                'Mecklenburg-Vorpommern': 'Mecklenburg-Western Pomerania'\n",
    "#               }\n",
    "# df_apple_processed['region'] = df_apple_processed['region'].apply(lambda x: apple_lands.get(x) if apple_lands.get(x) is not None else x)"
   ]
  },
  {
   "cell_type": "code",
   "execution_count": 293,
   "metadata": {},
   "outputs": [],
   "source": [
    "# df_apple_processed_de = df_apple_processed.loc[df_apple_processed.region.isin(df_rki_germany_processed.land.unique()), ['region', 'driving', 'walking', 'transit']]\n",
    "# df_apple_processed_de['date'] = df_apple_processed_de.index\n",
    "# df_apple_processed_de = df_apple_processed_de.rename(columns={'region': 'land'})"
   ]
  },
  {
   "cell_type": "code",
   "execution_count": 415,
   "metadata": {},
   "outputs": [
    {
     "data": {
      "text/html": [
       "<div>\n",
       "<style scoped>\n",
       "    .dataframe tbody tr th:only-of-type {\n",
       "        vertical-align: middle;\n",
       "    }\n",
       "\n",
       "    .dataframe tbody tr th {\n",
       "        vertical-align: top;\n",
       "    }\n",
       "\n",
       "    .dataframe thead th {\n",
       "        text-align: right;\n",
       "    }\n",
       "</style>\n",
       "<table border=\"1\" class=\"dataframe\">\n",
       "  <thead>\n",
       "    <tr style=\"text-align: right;\">\n",
       "      <th>country</th>\n",
       "      <th>Afghanistan</th>\n",
       "      <th>Albania</th>\n",
       "      <th>Algeria</th>\n",
       "      <th>Andorra</th>\n",
       "      <th>Angola</th>\n",
       "      <th>Antigua and Barbuda</th>\n",
       "      <th>Argentina</th>\n",
       "      <th>Armenia</th>\n",
       "      <th>Austria</th>\n",
       "      <th>Azerbaijan</th>\n",
       "      <th>...</th>\n",
       "      <th>South Sudan</th>\n",
       "      <th>Western Sahara</th>\n",
       "      <th>Sao Tome and Principe</th>\n",
       "      <th>Yemen</th>\n",
       "      <th>Comoros</th>\n",
       "      <th>Tajikistan</th>\n",
       "      <th>Lesotho</th>\n",
       "      <th>China</th>\n",
       "      <th>Canada</th>\n",
       "      <th>Australia</th>\n",
       "    </tr>\n",
       "    <tr>\n",
       "      <th>dates</th>\n",
       "      <th></th>\n",
       "      <th></th>\n",
       "      <th></th>\n",
       "      <th></th>\n",
       "      <th></th>\n",
       "      <th></th>\n",
       "      <th></th>\n",
       "      <th></th>\n",
       "      <th></th>\n",
       "      <th></th>\n",
       "      <th></th>\n",
       "      <th></th>\n",
       "      <th></th>\n",
       "      <th></th>\n",
       "      <th></th>\n",
       "      <th></th>\n",
       "      <th></th>\n",
       "      <th></th>\n",
       "      <th></th>\n",
       "      <th></th>\n",
       "      <th></th>\n",
       "    </tr>\n",
       "  </thead>\n",
       "  <tbody>\n",
       "    <tr>\n",
       "      <th>2020-01-22</th>\n",
       "      <td>0.0</td>\n",
       "      <td>0.0</td>\n",
       "      <td>0.0</td>\n",
       "      <td>0.0</td>\n",
       "      <td>0.0</td>\n",
       "      <td>0.0</td>\n",
       "      <td>0.0</td>\n",
       "      <td>0.0</td>\n",
       "      <td>0.0</td>\n",
       "      <td>0.0</td>\n",
       "      <td>...</td>\n",
       "      <td>0.0</td>\n",
       "      <td>0.0</td>\n",
       "      <td>0.0</td>\n",
       "      <td>0.0</td>\n",
       "      <td>0.0</td>\n",
       "      <td>0.0</td>\n",
       "      <td>0.0</td>\n",
       "      <td>547.0</td>\n",
       "      <td>0.0</td>\n",
       "      <td>0.0</td>\n",
       "    </tr>\n",
       "    <tr>\n",
       "      <th>2020-01-23</th>\n",
       "      <td>0.0</td>\n",
       "      <td>0.0</td>\n",
       "      <td>0.0</td>\n",
       "      <td>0.0</td>\n",
       "      <td>0.0</td>\n",
       "      <td>0.0</td>\n",
       "      <td>0.0</td>\n",
       "      <td>0.0</td>\n",
       "      <td>0.0</td>\n",
       "      <td>0.0</td>\n",
       "      <td>...</td>\n",
       "      <td>0.0</td>\n",
       "      <td>0.0</td>\n",
       "      <td>0.0</td>\n",
       "      <td>0.0</td>\n",
       "      <td>0.0</td>\n",
       "      <td>0.0</td>\n",
       "      <td>0.0</td>\n",
       "      <td>639.0</td>\n",
       "      <td>0.0</td>\n",
       "      <td>0.0</td>\n",
       "    </tr>\n",
       "    <tr>\n",
       "      <th>2020-01-24</th>\n",
       "      <td>0.0</td>\n",
       "      <td>0.0</td>\n",
       "      <td>0.0</td>\n",
       "      <td>0.0</td>\n",
       "      <td>0.0</td>\n",
       "      <td>0.0</td>\n",
       "      <td>0.0</td>\n",
       "      <td>0.0</td>\n",
       "      <td>0.0</td>\n",
       "      <td>0.0</td>\n",
       "      <td>...</td>\n",
       "      <td>0.0</td>\n",
       "      <td>0.0</td>\n",
       "      <td>0.0</td>\n",
       "      <td>0.0</td>\n",
       "      <td>0.0</td>\n",
       "      <td>0.0</td>\n",
       "      <td>0.0</td>\n",
       "      <td>916.0</td>\n",
       "      <td>0.0</td>\n",
       "      <td>0.0</td>\n",
       "    </tr>\n",
       "    <tr>\n",
       "      <th>2020-01-25</th>\n",
       "      <td>0.0</td>\n",
       "      <td>0.0</td>\n",
       "      <td>0.0</td>\n",
       "      <td>0.0</td>\n",
       "      <td>0.0</td>\n",
       "      <td>0.0</td>\n",
       "      <td>0.0</td>\n",
       "      <td>0.0</td>\n",
       "      <td>0.0</td>\n",
       "      <td>0.0</td>\n",
       "      <td>...</td>\n",
       "      <td>0.0</td>\n",
       "      <td>0.0</td>\n",
       "      <td>0.0</td>\n",
       "      <td>0.0</td>\n",
       "      <td>0.0</td>\n",
       "      <td>0.0</td>\n",
       "      <td>0.0</td>\n",
       "      <td>1399.0</td>\n",
       "      <td>0.0</td>\n",
       "      <td>0.0</td>\n",
       "    </tr>\n",
       "    <tr>\n",
       "      <th>2020-01-26</th>\n",
       "      <td>0.0</td>\n",
       "      <td>0.0</td>\n",
       "      <td>0.0</td>\n",
       "      <td>0.0</td>\n",
       "      <td>0.0</td>\n",
       "      <td>0.0</td>\n",
       "      <td>0.0</td>\n",
       "      <td>0.0</td>\n",
       "      <td>0.0</td>\n",
       "      <td>0.0</td>\n",
       "      <td>...</td>\n",
       "      <td>0.0</td>\n",
       "      <td>0.0</td>\n",
       "      <td>0.0</td>\n",
       "      <td>0.0</td>\n",
       "      <td>0.0</td>\n",
       "      <td>0.0</td>\n",
       "      <td>0.0</td>\n",
       "      <td>2062.0</td>\n",
       "      <td>1.0</td>\n",
       "      <td>4.0</td>\n",
       "    </tr>\n",
       "    <tr>\n",
       "      <th>...</th>\n",
       "      <td>...</td>\n",
       "      <td>...</td>\n",
       "      <td>...</td>\n",
       "      <td>...</td>\n",
       "      <td>...</td>\n",
       "      <td>...</td>\n",
       "      <td>...</td>\n",
       "      <td>...</td>\n",
       "      <td>...</td>\n",
       "      <td>...</td>\n",
       "      <td>...</td>\n",
       "      <td>...</td>\n",
       "      <td>...</td>\n",
       "      <td>...</td>\n",
       "      <td>...</td>\n",
       "      <td>...</td>\n",
       "      <td>...</td>\n",
       "      <td>...</td>\n",
       "      <td>...</td>\n",
       "      <td>...</td>\n",
       "      <td>...</td>\n",
       "    </tr>\n",
       "    <tr>\n",
       "      <th>2020-05-12</th>\n",
       "      <td>4963.0</td>\n",
       "      <td>876.0</td>\n",
       "      <td>6067.0</td>\n",
       "      <td>758.0</td>\n",
       "      <td>45.0</td>\n",
       "      <td>25.0</td>\n",
       "      <td>6563.0</td>\n",
       "      <td>3538.0</td>\n",
       "      <td>15961.0</td>\n",
       "      <td>2693.0</td>\n",
       "      <td>...</td>\n",
       "      <td>194.0</td>\n",
       "      <td>6.0</td>\n",
       "      <td>208.0</td>\n",
       "      <td>65.0</td>\n",
       "      <td>11.0</td>\n",
       "      <td>729.0</td>\n",
       "      <td>0.0</td>\n",
       "      <td>82926.0</td>\n",
       "      <td>72419.0</td>\n",
       "      <td>6980.0</td>\n",
       "    </tr>\n",
       "    <tr>\n",
       "      <th>2020-05-13</th>\n",
       "      <td>5226.0</td>\n",
       "      <td>880.0</td>\n",
       "      <td>6253.0</td>\n",
       "      <td>760.0</td>\n",
       "      <td>45.0</td>\n",
       "      <td>25.0</td>\n",
       "      <td>6879.0</td>\n",
       "      <td>3718.0</td>\n",
       "      <td>15997.0</td>\n",
       "      <td>2758.0</td>\n",
       "      <td>...</td>\n",
       "      <td>203.0</td>\n",
       "      <td>6.0</td>\n",
       "      <td>220.0</td>\n",
       "      <td>70.0</td>\n",
       "      <td>11.0</td>\n",
       "      <td>801.0</td>\n",
       "      <td>1.0</td>\n",
       "      <td>82929.0</td>\n",
       "      <td>73568.0</td>\n",
       "      <td>6989.0</td>\n",
       "    </tr>\n",
       "    <tr>\n",
       "      <th>2020-05-14</th>\n",
       "      <td>5639.0</td>\n",
       "      <td>898.0</td>\n",
       "      <td>6442.0</td>\n",
       "      <td>761.0</td>\n",
       "      <td>48.0</td>\n",
       "      <td>25.0</td>\n",
       "      <td>7134.0</td>\n",
       "      <td>3860.0</td>\n",
       "      <td>16058.0</td>\n",
       "      <td>2879.0</td>\n",
       "      <td>...</td>\n",
       "      <td>203.0</td>\n",
       "      <td>6.0</td>\n",
       "      <td>235.0</td>\n",
       "      <td>85.0</td>\n",
       "      <td>11.0</td>\n",
       "      <td>907.0</td>\n",
       "      <td>1.0</td>\n",
       "      <td>82933.0</td>\n",
       "      <td>74781.0</td>\n",
       "      <td>7019.0</td>\n",
       "    </tr>\n",
       "    <tr>\n",
       "      <th>2020-05-15</th>\n",
       "      <td>6053.0</td>\n",
       "      <td>916.0</td>\n",
       "      <td>6629.0</td>\n",
       "      <td>761.0</td>\n",
       "      <td>48.0</td>\n",
       "      <td>25.0</td>\n",
       "      <td>7479.0</td>\n",
       "      <td>4044.0</td>\n",
       "      <td>16109.0</td>\n",
       "      <td>2980.0</td>\n",
       "      <td>...</td>\n",
       "      <td>236.0</td>\n",
       "      <td>6.0</td>\n",
       "      <td>235.0</td>\n",
       "      <td>106.0</td>\n",
       "      <td>11.0</td>\n",
       "      <td>1118.0</td>\n",
       "      <td>1.0</td>\n",
       "      <td>82941.0</td>\n",
       "      <td>75959.0</td>\n",
       "      <td>7035.0</td>\n",
       "    </tr>\n",
       "    <tr>\n",
       "      <th>2020-05-16</th>\n",
       "      <td>6402.0</td>\n",
       "      <td>933.0</td>\n",
       "      <td>6821.0</td>\n",
       "      <td>761.0</td>\n",
       "      <td>48.0</td>\n",
       "      <td>25.0</td>\n",
       "      <td>7805.0</td>\n",
       "      <td>4283.0</td>\n",
       "      <td>16201.0</td>\n",
       "      <td>3138.0</td>\n",
       "      <td>...</td>\n",
       "      <td>236.0</td>\n",
       "      <td>6.0</td>\n",
       "      <td>235.0</td>\n",
       "      <td>122.0</td>\n",
       "      <td>11.0</td>\n",
       "      <td>1322.0</td>\n",
       "      <td>1.0</td>\n",
       "      <td>82947.0</td>\n",
       "      <td>77206.0</td>\n",
       "      <td>7044.0</td>\n",
       "    </tr>\n",
       "  </tbody>\n",
       "</table>\n",
       "<p>116 rows × 190 columns</p>\n",
       "</div>"
      ],
      "text/plain": [
       "country     Afghanistan  Albania  Algeria  Andorra  Angola  \\\n",
       "dates                                                        \n",
       "2020-01-22          0.0      0.0      0.0      0.0     0.0   \n",
       "2020-01-23          0.0      0.0      0.0      0.0     0.0   \n",
       "2020-01-24          0.0      0.0      0.0      0.0     0.0   \n",
       "2020-01-25          0.0      0.0      0.0      0.0     0.0   \n",
       "2020-01-26          0.0      0.0      0.0      0.0     0.0   \n",
       "...                 ...      ...      ...      ...     ...   \n",
       "2020-05-12       4963.0    876.0   6067.0    758.0    45.0   \n",
       "2020-05-13       5226.0    880.0   6253.0    760.0    45.0   \n",
       "2020-05-14       5639.0    898.0   6442.0    761.0    48.0   \n",
       "2020-05-15       6053.0    916.0   6629.0    761.0    48.0   \n",
       "2020-05-16       6402.0    933.0   6821.0    761.0    48.0   \n",
       "\n",
       "country     Antigua and Barbuda  Argentina  Armenia  Austria  Azerbaijan  ...  \\\n",
       "dates                                                                     ...   \n",
       "2020-01-22                  0.0        0.0      0.0      0.0         0.0  ...   \n",
       "2020-01-23                  0.0        0.0      0.0      0.0         0.0  ...   \n",
       "2020-01-24                  0.0        0.0      0.0      0.0         0.0  ...   \n",
       "2020-01-25                  0.0        0.0      0.0      0.0         0.0  ...   \n",
       "2020-01-26                  0.0        0.0      0.0      0.0         0.0  ...   \n",
       "...                         ...        ...      ...      ...         ...  ...   \n",
       "2020-05-12                 25.0     6563.0   3538.0  15961.0      2693.0  ...   \n",
       "2020-05-13                 25.0     6879.0   3718.0  15997.0      2758.0  ...   \n",
       "2020-05-14                 25.0     7134.0   3860.0  16058.0      2879.0  ...   \n",
       "2020-05-15                 25.0     7479.0   4044.0  16109.0      2980.0  ...   \n",
       "2020-05-16                 25.0     7805.0   4283.0  16201.0      3138.0  ...   \n",
       "\n",
       "country     South Sudan  Western Sahara  Sao Tome and Principe  Yemen  \\\n",
       "dates                                                                   \n",
       "2020-01-22          0.0             0.0                    0.0    0.0   \n",
       "2020-01-23          0.0             0.0                    0.0    0.0   \n",
       "2020-01-24          0.0             0.0                    0.0    0.0   \n",
       "2020-01-25          0.0             0.0                    0.0    0.0   \n",
       "2020-01-26          0.0             0.0                    0.0    0.0   \n",
       "...                 ...             ...                    ...    ...   \n",
       "2020-05-12        194.0             6.0                  208.0   65.0   \n",
       "2020-05-13        203.0             6.0                  220.0   70.0   \n",
       "2020-05-14        203.0             6.0                  235.0   85.0   \n",
       "2020-05-15        236.0             6.0                  235.0  106.0   \n",
       "2020-05-16        236.0             6.0                  235.0  122.0   \n",
       "\n",
       "country     Comoros  Tajikistan  Lesotho    China   Canada  Australia  \n",
       "dates                                                                  \n",
       "2020-01-22      0.0         0.0      0.0    547.0      0.0        0.0  \n",
       "2020-01-23      0.0         0.0      0.0    639.0      0.0        0.0  \n",
       "2020-01-24      0.0         0.0      0.0    916.0      0.0        0.0  \n",
       "2020-01-25      0.0         0.0      0.0   1399.0      0.0        0.0  \n",
       "2020-01-26      0.0         0.0      0.0   2062.0      1.0        4.0  \n",
       "...             ...         ...      ...      ...      ...        ...  \n",
       "2020-05-12     11.0       729.0      0.0  82926.0  72419.0     6980.0  \n",
       "2020-05-13     11.0       801.0      1.0  82929.0  73568.0     6989.0  \n",
       "2020-05-14     11.0       907.0      1.0  82933.0  74781.0     7019.0  \n",
       "2020-05-15     11.0      1118.0      1.0  82941.0  75959.0     7035.0  \n",
       "2020-05-16     11.0      1322.0      1.0  82947.0  77206.0     7044.0  \n",
       "\n",
       "[116 rows x 190 columns]"
      ]
     },
     "execution_count": 415,
     "metadata": {},
     "output_type": "execute_result"
    }
   ],
   "source": [
    "dfcovid_conf_t"
   ]
  },
  {
   "cell_type": "markdown",
   "metadata": {},
   "source": [
    "### JHU"
   ]
  },
  {
   "cell_type": "code",
   "execution_count": 348,
   "metadata": {},
   "outputs": [],
   "source": [
    "def prepare_df_country(df_confirmed, df_dead, country, date_cutoff='2020-03-15'):\n",
    "    try:\n",
    "        pop = df_population_joined.loc[df_population_joined.country == country, 'population'].values[0]\n",
    "        iso_code = df_population_joined.loc[df_population_joined.country == country, 'iso_code'].values[0]\n",
    "        region = df_population_joined.loc[df_population_joined.country == country, 'region'].values[0]\n",
    "    except:\n",
    "        print('No population data for :', iso_code)\n",
    "        return False\n",
    "    \n",
    "    df = df_confirmed.loc[df_confirmed.index >= date_cutoff, [country]]\n",
    "    df.columns = ['confirmed']\n",
    "    df = add_variables_covid(df, population=pop)\n",
    "\n",
    "    df_d = df_dead.loc[df_dead.index >= date_cutoff, [country]]\n",
    "    df_d.columns = ['dead']\n",
    "    df = df.merge(df_d, left_index=True, right_index=True)\n",
    "    df = add_variables_covid(df, column='dead', population=pop)\n",
    "    \n",
    "    df['land'] = country\n",
    "    df['iso_code'] = iso_code\n",
    "    df['region_wb'] = region\n",
    "    df['population_wb'] = pop\n",
    "    \n",
    "    return df\n",
    "\n",
    "def melt_jhu_df(df_confirmed, df_dead):\n",
    "    _list = list()\n",
    "    for country in df_confirmed.columns:\n",
    "        df = prepare_df_country(df_confirmed, df_dead, country, date_cutoff='2020-03-15')\n",
    "        if type(df) == pd.core.frame.DataFrame:\n",
    "            _list.append(df)\n",
    "    return pd.concat([df for df in _list])"
   ]
  },
  {
   "cell_type": "code",
   "execution_count": 349,
   "metadata": {},
   "outputs": [],
   "source": [
    "df_jhu_processed = melt_jhu_df(dfcovid_conf_t, dfcovid_dead_t)\n",
    "df_jhu_processed = df_jhu_processed.loc[df_jhu_processed.region_wb.isnull()==False]"
   ]
  },
  {
   "cell_type": "code",
   "execution_count": 350,
   "metadata": {},
   "outputs": [],
   "source": [
    "df_eu_countries = pd.read_csv('eu_countries.csv')\n",
    "df_jhu_processed.loc[df_jhu_processed.land.isin(df_eu_countries.Country) == True, 'region_wb'] = 'European Union'"
   ]
  },
  {
   "cell_type": "code",
   "execution_count": 417,
   "metadata": {},
   "outputs": [],
   "source": [
    "df_jhu_processed['date'] = df_jhu_processed.index"
   ]
  },
  {
   "cell_type": "code",
   "execution_count": 351,
   "metadata": {},
   "outputs": [
    {
     "name": "stdout",
     "output_type": "stream",
     "text": [
      "Covi world max date 2020-05-16 00:00:00\n",
      "Covi world max date 2020-05-16 00:00:00\n"
     ]
    }
   ],
   "source": [
    "# print(\"Mobility max date:\", max(df_apple_processed.index))\n",
    "# print(\"RKI max date\", max(df_rki_germany_processed.index))\n",
    "print(\"Covi world max date\", max(dfcovid_conf_t.index))\n",
    "print(\"Covi world max date\", max(dfcovid_dead_t.index))"
   ]
  },
  {
   "cell_type": "markdown",
   "metadata": {},
   "source": [
    "# Save processed data"
   ]
  },
  {
   "cell_type": "code",
   "execution_count": 418,
   "metadata": {},
   "outputs": [],
   "source": [
    "df_jhu_processed.to_csv('data_jhu_world.csv', index=False)\n",
    "df_jhu_processed.to_csv('dash/data/data_jhu_world.csv', index=False)"
   ]
  },
  {
   "cell_type": "code",
   "execution_count": 419,
   "metadata": {},
   "outputs": [
    {
     "data": {
      "text/html": [
       "<div>\n",
       "<style scoped>\n",
       "    .dataframe tbody tr th:only-of-type {\n",
       "        vertical-align: middle;\n",
       "    }\n",
       "\n",
       "    .dataframe tbody tr th {\n",
       "        vertical-align: top;\n",
       "    }\n",
       "\n",
       "    .dataframe thead th {\n",
       "        text-align: right;\n",
       "    }\n",
       "</style>\n",
       "<table border=\"1\" class=\"dataframe\">\n",
       "  <thead>\n",
       "    <tr style=\"text-align: right;\">\n",
       "      <th></th>\n",
       "      <th>confirmed</th>\n",
       "      <th>dow</th>\n",
       "      <th>weekend</th>\n",
       "      <th>confirmed_avg3</th>\n",
       "      <th>confirmed_change</th>\n",
       "      <th>confirmed_change_avg3</th>\n",
       "      <th>confirmed_change_3w</th>\n",
       "      <th>confirmed_change_pct</th>\n",
       "      <th>confirmed_change_pct_avg3</th>\n",
       "      <th>confirmed_change_pct_3w</th>\n",
       "      <th>...</th>\n",
       "      <th>dead_doubling_days_avg3</th>\n",
       "      <th>dead_doubling_days_3w_avg3</th>\n",
       "      <th>dead_day_since_10</th>\n",
       "      <th>dead_per_100k</th>\n",
       "      <th>dead_change_per_100k</th>\n",
       "      <th>land</th>\n",
       "      <th>iso_code</th>\n",
       "      <th>region_wb</th>\n",
       "      <th>population_wb</th>\n",
       "      <th>date</th>\n",
       "    </tr>\n",
       "    <tr>\n",
       "      <th>dates</th>\n",
       "      <th></th>\n",
       "      <th></th>\n",
       "      <th></th>\n",
       "      <th></th>\n",
       "      <th></th>\n",
       "      <th></th>\n",
       "      <th></th>\n",
       "      <th></th>\n",
       "      <th></th>\n",
       "      <th></th>\n",
       "      <th></th>\n",
       "      <th></th>\n",
       "      <th></th>\n",
       "      <th></th>\n",
       "      <th></th>\n",
       "      <th></th>\n",
       "      <th></th>\n",
       "      <th></th>\n",
       "      <th></th>\n",
       "      <th></th>\n",
       "      <th></th>\n",
       "    </tr>\n",
       "  </thead>\n",
       "  <tbody>\n",
       "    <tr>\n",
       "      <th>2020-05-16</th>\n",
       "      <td>6402.0</td>\n",
       "      <td>5</td>\n",
       "      <td>True</td>\n",
       "      <td>6037.0</td>\n",
       "      <td>349.0</td>\n",
       "      <td>398.0</td>\n",
       "      <td>4939.0</td>\n",
       "      <td>0.058</td>\n",
       "      <td>0.071</td>\n",
       "      <td>0.074</td>\n",
       "      <td>...</td>\n",
       "      <td>11.0</td>\n",
       "      <td>8.0</td>\n",
       "      <td>41</td>\n",
       "      <td>0.452</td>\n",
       "      <td>0.040</td>\n",
       "      <td>Afghanistan</td>\n",
       "      <td>AFG</td>\n",
       "      <td>South Asia</td>\n",
       "      <td>3.717239e+07</td>\n",
       "      <td>2020-05-16</td>\n",
       "    </tr>\n",
       "    <tr>\n",
       "      <th>2020-05-16</th>\n",
       "      <td>933.0</td>\n",
       "      <td>5</td>\n",
       "      <td>True</td>\n",
       "      <td>916.0</td>\n",
       "      <td>17.0</td>\n",
       "      <td>18.0</td>\n",
       "      <td>221.0</td>\n",
       "      <td>0.019</td>\n",
       "      <td>0.020</td>\n",
       "      <td>0.071</td>\n",
       "      <td>...</td>\n",
       "      <td>100.0</td>\n",
       "      <td>100.0</td>\n",
       "      <td>48</td>\n",
       "      <td>1.081</td>\n",
       "      <td>0.000</td>\n",
       "      <td>Albania</td>\n",
       "      <td>ALB</td>\n",
       "      <td>Europe &amp; Central Asia</td>\n",
       "      <td>2.866376e+06</td>\n",
       "      <td>2020-05-16</td>\n",
       "    </tr>\n",
       "    <tr>\n",
       "      <th>2020-05-16</th>\n",
       "      <td>6821.0</td>\n",
       "      <td>5</td>\n",
       "      <td>True</td>\n",
       "      <td>6630.0</td>\n",
       "      <td>192.0</td>\n",
       "      <td>189.0</td>\n",
       "      <td>3565.0</td>\n",
       "      <td>0.029</td>\n",
       "      <td>0.029</td>\n",
       "      <td>0.055</td>\n",
       "      <td>...</td>\n",
       "      <td>55.0</td>\n",
       "      <td>13.0</td>\n",
       "      <td>58</td>\n",
       "      <td>1.283</td>\n",
       "      <td>0.014</td>\n",
       "      <td>Algeria</td>\n",
       "      <td>DZA</td>\n",
       "      <td>Middle East &amp; North Africa</td>\n",
       "      <td>4.222843e+07</td>\n",
       "      <td>2020-05-16</td>\n",
       "    </tr>\n",
       "    <tr>\n",
       "      <th>2020-05-16</th>\n",
       "      <td>761.0</td>\n",
       "      <td>5</td>\n",
       "      <td>True</td>\n",
       "      <td>761.0</td>\n",
       "      <td>0.0</td>\n",
       "      <td>0.0</td>\n",
       "      <td>23.0</td>\n",
       "      <td>0.000</td>\n",
       "      <td>0.000</td>\n",
       "      <td>0.000</td>\n",
       "      <td>...</td>\n",
       "      <td>79.0</td>\n",
       "      <td>76.0</td>\n",
       "      <td>47</td>\n",
       "      <td>66.234</td>\n",
       "      <td>2.597</td>\n",
       "      <td>Andorra</td>\n",
       "      <td>AND</td>\n",
       "      <td>Europe &amp; Central Asia</td>\n",
       "      <td>7.700600e+04</td>\n",
       "      <td>2020-05-16</td>\n",
       "    </tr>\n",
       "    <tr>\n",
       "      <th>2020-05-16</th>\n",
       "      <td>48.0</td>\n",
       "      <td>5</td>\n",
       "      <td>True</td>\n",
       "      <td>48.0</td>\n",
       "      <td>0.0</td>\n",
       "      <td>1.0</td>\n",
       "      <td>23.0</td>\n",
       "      <td>0.000</td>\n",
       "      <td>0.021</td>\n",
       "      <td>0.000</td>\n",
       "      <td>...</td>\n",
       "      <td>100.0</td>\n",
       "      <td>0.0</td>\n",
       "      <td>0</td>\n",
       "      <td>0.006</td>\n",
       "      <td>0.000</td>\n",
       "      <td>Angola</td>\n",
       "      <td>AGO</td>\n",
       "      <td>Sub-Saharan Africa</td>\n",
       "      <td>3.080976e+07</td>\n",
       "      <td>2020-05-16</td>\n",
       "    </tr>\n",
       "    <tr>\n",
       "      <th>...</th>\n",
       "      <td>...</td>\n",
       "      <td>...</td>\n",
       "      <td>...</td>\n",
       "      <td>...</td>\n",
       "      <td>...</td>\n",
       "      <td>...</td>\n",
       "      <td>...</td>\n",
       "      <td>...</td>\n",
       "      <td>...</td>\n",
       "      <td>...</td>\n",
       "      <td>...</td>\n",
       "      <td>...</td>\n",
       "      <td>...</td>\n",
       "      <td>...</td>\n",
       "      <td>...</td>\n",
       "      <td>...</td>\n",
       "      <td>...</td>\n",
       "      <td>...</td>\n",
       "      <td>...</td>\n",
       "      <td>...</td>\n",
       "      <td>...</td>\n",
       "    </tr>\n",
       "    <tr>\n",
       "      <th>2020-05-16</th>\n",
       "      <td>1322.0</td>\n",
       "      <td>5</td>\n",
       "      <td>True</td>\n",
       "      <td>1116.0</td>\n",
       "      <td>204.0</td>\n",
       "      <td>183.0</td>\n",
       "      <td>1322.0</td>\n",
       "      <td>0.182</td>\n",
       "      <td>0.196</td>\n",
       "      <td>0.182</td>\n",
       "      <td>...</td>\n",
       "      <td>5.0</td>\n",
       "      <td>5.0</td>\n",
       "      <td>10</td>\n",
       "      <td>0.396</td>\n",
       "      <td>0.033</td>\n",
       "      <td>Tajikistan</td>\n",
       "      <td>TJK</td>\n",
       "      <td>Europe &amp; Central Asia</td>\n",
       "      <td>9.100837e+06</td>\n",
       "      <td>2020-05-16</td>\n",
       "    </tr>\n",
       "    <tr>\n",
       "      <th>2020-05-16</th>\n",
       "      <td>1.0</td>\n",
       "      <td>5</td>\n",
       "      <td>True</td>\n",
       "      <td>1.0</td>\n",
       "      <td>0.0</td>\n",
       "      <td>0.0</td>\n",
       "      <td>1.0</td>\n",
       "      <td>0.000</td>\n",
       "      <td>0.000</td>\n",
       "      <td>0.000</td>\n",
       "      <td>...</td>\n",
       "      <td>0.0</td>\n",
       "      <td>0.0</td>\n",
       "      <td>0</td>\n",
       "      <td>0.000</td>\n",
       "      <td>0.000</td>\n",
       "      <td>Lesotho</td>\n",
       "      <td>LSO</td>\n",
       "      <td>Sub-Saharan Africa</td>\n",
       "      <td>2.108132e+06</td>\n",
       "      <td>2020-05-16</td>\n",
       "    </tr>\n",
       "    <tr>\n",
       "      <th>2020-05-16</th>\n",
       "      <td>82947.0</td>\n",
       "      <td>5</td>\n",
       "      <td>True</td>\n",
       "      <td>82940.0</td>\n",
       "      <td>6.0</td>\n",
       "      <td>6.0</td>\n",
       "      <td>120.0</td>\n",
       "      <td>0.000</td>\n",
       "      <td>0.000</td>\n",
       "      <td>0.049</td>\n",
       "      <td>...</td>\n",
       "      <td>100.0</td>\n",
       "      <td>75.0</td>\n",
       "      <td>63</td>\n",
       "      <td>0.333</td>\n",
       "      <td>0.000</td>\n",
       "      <td>China</td>\n",
       "      <td>CHN</td>\n",
       "      <td>East Asia &amp; Pacific</td>\n",
       "      <td>1.392730e+09</td>\n",
       "      <td>2020-05-16</td>\n",
       "    </tr>\n",
       "    <tr>\n",
       "      <th>2020-05-16</th>\n",
       "      <td>77206.0</td>\n",
       "      <td>5</td>\n",
       "      <td>True</td>\n",
       "      <td>75976.0</td>\n",
       "      <td>1247.0</td>\n",
       "      <td>1204.0</td>\n",
       "      <td>30835.0</td>\n",
       "      <td>0.016</td>\n",
       "      <td>0.016</td>\n",
       "      <td>0.040</td>\n",
       "      <td>...</td>\n",
       "      <td>36.0</td>\n",
       "      <td>22.0</td>\n",
       "      <td>58</td>\n",
       "      <td>15.651</td>\n",
       "      <td>0.327</td>\n",
       "      <td>Canada</td>\n",
       "      <td>CAN</td>\n",
       "      <td>North America</td>\n",
       "      <td>3.705776e+07</td>\n",
       "      <td>2020-05-16</td>\n",
       "    </tr>\n",
       "    <tr>\n",
       "      <th>2020-05-16</th>\n",
       "      <td>7044.0</td>\n",
       "      <td>5</td>\n",
       "      <td>True</td>\n",
       "      <td>7033.0</td>\n",
       "      <td>9.0</td>\n",
       "      <td>18.0</td>\n",
       "      <td>350.0</td>\n",
       "      <td>0.001</td>\n",
       "      <td>0.003</td>\n",
       "      <td>0.025</td>\n",
       "      <td>...</td>\n",
       "      <td>100.0</td>\n",
       "      <td>100.0</td>\n",
       "      <td>52</td>\n",
       "      <td>0.392</td>\n",
       "      <td>0.000</td>\n",
       "      <td>Australia</td>\n",
       "      <td>AUS</td>\n",
       "      <td>East Asia &amp; Pacific</td>\n",
       "      <td>2.498269e+07</td>\n",
       "      <td>2020-05-16</td>\n",
       "    </tr>\n",
       "  </tbody>\n",
       "</table>\n",
       "<p>186 rows × 43 columns</p>\n",
       "</div>"
      ],
      "text/plain": [
       "            confirmed  dow  weekend  confirmed_avg3  confirmed_change  \\\n",
       "dates                                                                   \n",
       "2020-05-16     6402.0    5     True          6037.0             349.0   \n",
       "2020-05-16      933.0    5     True           916.0              17.0   \n",
       "2020-05-16     6821.0    5     True          6630.0             192.0   \n",
       "2020-05-16      761.0    5     True           761.0               0.0   \n",
       "2020-05-16       48.0    5     True            48.0               0.0   \n",
       "...               ...  ...      ...             ...               ...   \n",
       "2020-05-16     1322.0    5     True          1116.0             204.0   \n",
       "2020-05-16        1.0    5     True             1.0               0.0   \n",
       "2020-05-16    82947.0    5     True         82940.0               6.0   \n",
       "2020-05-16    77206.0    5     True         75976.0            1247.0   \n",
       "2020-05-16     7044.0    5     True          7033.0               9.0   \n",
       "\n",
       "            confirmed_change_avg3  confirmed_change_3w  confirmed_change_pct  \\\n",
       "dates                                                                          \n",
       "2020-05-16                  398.0               4939.0                 0.058   \n",
       "2020-05-16                   18.0                221.0                 0.019   \n",
       "2020-05-16                  189.0               3565.0                 0.029   \n",
       "2020-05-16                    0.0                 23.0                 0.000   \n",
       "2020-05-16                    1.0                 23.0                 0.000   \n",
       "...                           ...                  ...                   ...   \n",
       "2020-05-16                  183.0               1322.0                 0.182   \n",
       "2020-05-16                    0.0                  1.0                 0.000   \n",
       "2020-05-16                    6.0                120.0                 0.000   \n",
       "2020-05-16                 1204.0              30835.0                 0.016   \n",
       "2020-05-16                   18.0                350.0                 0.001   \n",
       "\n",
       "            confirmed_change_pct_avg3  confirmed_change_pct_3w  ...  \\\n",
       "dates                                                           ...   \n",
       "2020-05-16                      0.071                    0.074  ...   \n",
       "2020-05-16                      0.020                    0.071  ...   \n",
       "2020-05-16                      0.029                    0.055  ...   \n",
       "2020-05-16                      0.000                    0.000  ...   \n",
       "2020-05-16                      0.021                    0.000  ...   \n",
       "...                               ...                      ...  ...   \n",
       "2020-05-16                      0.196                    0.182  ...   \n",
       "2020-05-16                      0.000                    0.000  ...   \n",
       "2020-05-16                      0.000                    0.049  ...   \n",
       "2020-05-16                      0.016                    0.040  ...   \n",
       "2020-05-16                      0.003                    0.025  ...   \n",
       "\n",
       "            dead_doubling_days_avg3  dead_doubling_days_3w_avg3  \\\n",
       "dates                                                             \n",
       "2020-05-16                     11.0                         8.0   \n",
       "2020-05-16                    100.0                       100.0   \n",
       "2020-05-16                     55.0                        13.0   \n",
       "2020-05-16                     79.0                        76.0   \n",
       "2020-05-16                    100.0                         0.0   \n",
       "...                             ...                         ...   \n",
       "2020-05-16                      5.0                         5.0   \n",
       "2020-05-16                      0.0                         0.0   \n",
       "2020-05-16                    100.0                        75.0   \n",
       "2020-05-16                     36.0                        22.0   \n",
       "2020-05-16                    100.0                       100.0   \n",
       "\n",
       "            dead_day_since_10  dead_per_100k  dead_change_per_100k  \\\n",
       "dates                                                                \n",
       "2020-05-16                 41          0.452                 0.040   \n",
       "2020-05-16                 48          1.081                 0.000   \n",
       "2020-05-16                 58          1.283                 0.014   \n",
       "2020-05-16                 47         66.234                 2.597   \n",
       "2020-05-16                  0          0.006                 0.000   \n",
       "...                       ...            ...                   ...   \n",
       "2020-05-16                 10          0.396                 0.033   \n",
       "2020-05-16                  0          0.000                 0.000   \n",
       "2020-05-16                 63          0.333                 0.000   \n",
       "2020-05-16                 58         15.651                 0.327   \n",
       "2020-05-16                 52          0.392                 0.000   \n",
       "\n",
       "                   land  iso_code                   region_wb  population_wb  \\\n",
       "dates                                                                          \n",
       "2020-05-16  Afghanistan       AFG                  South Asia   3.717239e+07   \n",
       "2020-05-16      Albania       ALB       Europe & Central Asia   2.866376e+06   \n",
       "2020-05-16      Algeria       DZA  Middle East & North Africa   4.222843e+07   \n",
       "2020-05-16      Andorra       AND       Europe & Central Asia   7.700600e+04   \n",
       "2020-05-16       Angola       AGO         Sub-Saharan Africa    3.080976e+07   \n",
       "...                 ...       ...                         ...            ...   \n",
       "2020-05-16   Tajikistan       TJK       Europe & Central Asia   9.100837e+06   \n",
       "2020-05-16      Lesotho       LSO         Sub-Saharan Africa    2.108132e+06   \n",
       "2020-05-16        China       CHN         East Asia & Pacific   1.392730e+09   \n",
       "2020-05-16       Canada       CAN               North America   3.705776e+07   \n",
       "2020-05-16    Australia       AUS         East Asia & Pacific   2.498269e+07   \n",
       "\n",
       "                 date  \n",
       "dates                  \n",
       "2020-05-16 2020-05-16  \n",
       "2020-05-16 2020-05-16  \n",
       "2020-05-16 2020-05-16  \n",
       "2020-05-16 2020-05-16  \n",
       "2020-05-16 2020-05-16  \n",
       "...               ...  \n",
       "2020-05-16 2020-05-16  \n",
       "2020-05-16 2020-05-16  \n",
       "2020-05-16 2020-05-16  \n",
       "2020-05-16 2020-05-16  \n",
       "2020-05-16 2020-05-16  \n",
       "\n",
       "[186 rows x 43 columns]"
      ]
     },
     "execution_count": 419,
     "metadata": {},
     "output_type": "execute_result"
    }
   ],
   "source": [
    "df_jhu_processed.loc[df_jhu_processed.date == df_jhu_processed.date.max()]"
   ]
  },
  {
   "cell_type": "code",
   "execution_count": null,
   "metadata": {},
   "outputs": [],
   "source": []
  },
  {
   "cell_type": "code",
   "execution_count": 731,
   "metadata": {},
   "outputs": [],
   "source": [
    "# df_rki_germany_processed.to_csv('data_rki_prepared.csv')\n",
    "# df_apple_processed.to_csv('data_apple_prepared.csv')\n",
    "\n",
    "# DASH_COLUMNS = ['land', 'date','iso_code', 'confirmed_change', 'confirmed', 'confirmed_active_cases', 'confirmed_change_per_100k', \n",
    "#                 'confirmed_change_pct_3w', 'confirmed_doubling_days_3w_avg3', 'dead_change', 'dead', 'dead_change_per_100k', 'dead_doubling_days']\n",
    "# df_rki_germany_processed.loc[:, DASH_COLUMNS].to_csv('data_rki_prepared_dash.csv')\n",
    "# df_apple_processed_de.to_csv('data_apple_prepared_de.csv')"
   ]
  },
  {
   "cell_type": "markdown",
   "metadata": {},
   "source": [
    "----"
   ]
  },
  {
   "cell_type": "markdown",
   "metadata": {},
   "source": [
    "----"
   ]
  },
  {
   "cell_type": "markdown",
   "metadata": {},
   "source": [
    "----"
   ]
  },
  {
   "cell_type": "code",
   "execution_count": 304,
   "metadata": {},
   "outputs": [
    {
     "data": {
      "text/plain": [
       "Index(['confirmed', 'dow', 'weekend', 'confirmed_avg3', 'confirmed_change',\n",
       "       'confirmed_change_avg3', 'confirmed_change_3w', 'confirmed_change_pct',\n",
       "       'confirmed_change_pct_avg3', 'confirmed_change_pct_3w',\n",
       "       'confirmed_change_acceleration', 'confirmed_change_acceleration_avg3',\n",
       "       'confirmed_doubling_days', 'confirmed_doubling_days_3w',\n",
       "       'confirmed_doubling_days_avg3', 'confirmed_doubling_days_3w_avg3',\n",
       "       'confirmed_active_cases', 'confirmed_peak', 'confirmed_day_since_10',\n",
       "       'confirmed_per_100k', 'confirmed_change_per_100k', 'dead', 'dead_avg3',\n",
       "       'dead_change', 'dead_change_avg3', 'dead_change_3w', 'dead_change_pct',\n",
       "       'dead_change_pct_avg3', 'dead_change_pct_3w',\n",
       "       'dead_change_acceleration', 'dead_change_acceleration_avg3',\n",
       "       'dead_doubling_days', 'dead_doubling_days_3w',\n",
       "       'dead_doubling_days_avg3', 'dead_doubling_days_3w_avg3',\n",
       "       'dead_day_since_10', 'dead_per_100k', 'dead_change_per_100k', 'land',\n",
       "       'iso_code', 'region_wb'],\n",
       "      dtype='object')"
      ]
     },
     "execution_count": 304,
     "metadata": {},
     "output_type": "execute_result"
    }
   ],
   "source": [
    "df_jhu_processed.columns"
   ]
  },
  {
   "cell_type": "code",
   "execution_count": 492,
   "metadata": {},
   "outputs": [],
   "source": [
    "import plotly.graph_objects as go\n",
    "from plotly import colors\n",
    "column = 'confirmed_change'\n",
    "df = df_jhu_processed.loc[df_jhu_processed.index == df_jhu_processed.index.max()]\n",
    "_colors=colors.diverging.Temps * 3"
   ]
  },
  {
   "cell_type": "code",
   "execution_count": 493,
   "metadata": {},
   "outputs": [
    {
     "name": "stderr",
     "output_type": "stream",
     "text": [
      "/Users/chekanskiy/Documents/projects/covid-19-exploration/venv/lib/python3.7/site-packages/pandas/core/indexing.py:845: SettingWithCopyWarning:\n",
      "\n",
      "\n",
      "A value is trying to be set on a copy of a slice from a DataFrame.\n",
      "Try using .loc[row_indexer,col_indexer] = value instead\n",
      "\n",
      "See the caveats in the documentation: https://pandas.pydata.org/pandas-docs/stable/user_guide/indexing.html#returning-a-view-versus-a-copy\n",
      "\n",
      "/Users/chekanskiy/Documents/projects/covid-19-exploration/venv/lib/python3.7/site-packages/pandas/core/indexing.py:966: SettingWithCopyWarning:\n",
      "\n",
      "\n",
      "A value is trying to be set on a copy of a slice from a DataFrame.\n",
      "Try using .loc[row_indexer,col_indexer] = value instead\n",
      "\n",
      "See the caveats in the documentation: https://pandas.pydata.org/pandas-docs/stable/user_guide/indexing.html#returning-a-view-versus-a-copy\n",
      "\n"
     ]
    }
   ],
   "source": [
    "df.loc[:, 'population_100k'] = df.loc[:, 'population_wb'] / 100000\n"
   ]
  },
  {
   "cell_type": "code",
   "execution_count": 494,
   "metadata": {},
   "outputs": [],
   "source": [
    "# import plotly.express as px\n",
    "# import numpy as np\n",
    "# fig = px.sunburst(df, path=['region_wb', 'land'], values=column,\n",
    "#                   color=column, hover_data=['iso_code'],\n",
    "#                   color_continuous_scale='RdBu',\n",
    "#                   color_continuous_midpoint=np.average(df[column], weights=df[column]))\n",
    "# fig.show()"
   ]
  },
  {
   "cell_type": "code",
   "execution_count": 495,
   "metadata": {},
   "outputs": [
    {
     "data": {
      "application/vnd.plotly.v1+json": {
       "config": {
        "plotlyServerURL": "https://plot.ly"
       },
       "data": [
        {
         "branchvalues": "total",
         "hovertemplate": "<b>%{label} </b> <br> Confirmed: %{value}<br>per 100k: %{color:.2f}",
         "labels": [
          "Afghanistan",
          "Albania",
          "Algeria",
          "Andorra",
          "Angola",
          "Antigua and Barbuda",
          "Argentina",
          "Armenia",
          "Australia",
          "Austria",
          "Azerbaijan",
          "Bahamas",
          "Bahrain",
          "Bangladesh",
          "Barbados",
          "Belarus",
          "Belgium",
          "Belize",
          "Benin",
          "Bhutan",
          "Bolivia",
          "Bosnia and Herzegovina",
          "Botswana",
          "Brazil",
          "Brunei",
          "Bulgaria",
          "Burkina Faso",
          "Burma",
          "Burundi",
          "Cabo Verde",
          "Cambodia",
          "Cameroon",
          "Canada",
          "Central African Republic",
          "Chad",
          "Chile",
          "China",
          "Colombia",
          "Comoros",
          "Congo (Brazzaville)",
          "Congo (Kinshasa)",
          "Costa Rica",
          "Cote d'Ivoire",
          "Croatia",
          "Cuba",
          "Cyprus",
          "Czechia",
          "Denmark",
          "Djibouti",
          "Dominica",
          "Dominican Republic",
          "Ecuador",
          "Egypt",
          "El Salvador",
          "Equatorial Guinea",
          "Eritrea",
          "Estonia",
          "Eswatini",
          "Ethiopia",
          "Fiji",
          "Finland",
          "France",
          "Gabon",
          "Gambia",
          "Georgia",
          "Germany",
          "Ghana",
          "Greece",
          "Grenada",
          "Guatemala",
          "Guinea",
          "Guinea-Bissau",
          "Guyana",
          "Haiti",
          "Honduras",
          "Hong Kong",
          "Hungary",
          "Iceland",
          "India",
          "Indonesia",
          "Iran",
          "Iraq",
          "Ireland",
          "Israel",
          "Italy",
          "Jamaica",
          "Japan",
          "Jordan",
          "Kazakhstan",
          "Kenya",
          "Korea, South",
          "Kosovo",
          "Kuwait",
          "Kyrgyzstan",
          "Laos",
          "Latvia",
          "Lebanon",
          "Lesotho",
          "Liberia",
          "Libya",
          "Liechtenstein",
          "Lithuania",
          "Luxembourg",
          "Macau",
          "Madagascar",
          "Malawi",
          "Malaysia",
          "Maldives",
          "Mali",
          "Malta",
          "Mauritania",
          "Mauritius",
          "Mexico",
          "Moldova",
          "Monaco",
          "Mongolia",
          "Montenegro",
          "Morocco",
          "Mozambique",
          "Namibia",
          "Nepal",
          "Netherlands",
          "New Zealand",
          "Nicaragua",
          "Niger",
          "Nigeria",
          "North Macedonia",
          "Norway",
          "Oman",
          "Pakistan",
          "Panama",
          "Papua New Guinea",
          "Paraguay",
          "Peru",
          "Philippines",
          "Poland",
          "Portugal",
          "Qatar",
          "Romania",
          "Russia",
          "Rwanda",
          "Saint Kitts and Nevis",
          "Saint Lucia",
          "Saint Vincent and the Grenadines",
          "San Marino",
          "Sao Tome and Principe",
          "Saudi Arabia",
          "Senegal",
          "Serbia",
          "Seychelles",
          "Sierra Leone",
          "Singapore",
          "Slovakia",
          "Slovenia",
          "Somalia",
          "South Africa",
          "South Sudan",
          "Spain",
          "Sri Lanka",
          "Sudan",
          "Suriname",
          "Sweden",
          "Switzerland",
          "Syria",
          "Taiwan*",
          "Tajikistan",
          "Tanzania",
          "Thailand",
          "Timor-Leste",
          "Togo",
          "Trinidad and Tobago",
          "Tunisia",
          "Turkey",
          "US",
          "Uganda",
          "Ukraine",
          "United Arab Emirates",
          "United Kingdom",
          "Uruguay",
          "Uzbekistan",
          "Venezuela",
          "Vietnam",
          "West Bank and Gaza",
          "Yemen",
          "Zambia",
          "Zimbabwe",
          "East Asia & Pacific",
          "Europe & Central Asia",
          "European Union",
          "Latin America & Caribbean ",
          "Middle East & North Africa",
          "North America",
          "South Asia",
          "Sub-Saharan Africa ",
          "total"
         ],
         "marker": {
          "colorscale": [
           [
            0,
            "rgb(255,247,251)"
           ],
           [
            0.125,
            "rgb(236,231,242)"
           ],
           [
            0.25,
            "rgb(208,209,230)"
           ],
           [
            0.375,
            "rgb(166,189,219)"
           ],
           [
            0.5,
            "rgb(116,169,207)"
           ],
           [
            0.625,
            "rgb(54,144,192)"
           ],
           [
            0.75,
            "rgb(5,112,176)"
           ],
           [
            0.875,
            "rgb(4,90,141)"
           ],
           [
            1,
            "rgb(2,56,88)"
           ]
          ]
         },
         "name": "",
         "parents": [
          "South Asia",
          "Europe & Central Asia",
          "Middle East & North Africa",
          "Europe & Central Asia",
          "Sub-Saharan Africa ",
          "Latin America & Caribbean ",
          "Latin America & Caribbean ",
          "Europe & Central Asia",
          "East Asia & Pacific",
          "European Union",
          "Europe & Central Asia",
          "Latin America & Caribbean ",
          "Middle East & North Africa",
          "South Asia",
          "Latin America & Caribbean ",
          "Europe & Central Asia",
          "European Union",
          "Latin America & Caribbean ",
          "Sub-Saharan Africa ",
          "South Asia",
          "Latin America & Caribbean ",
          "Europe & Central Asia",
          "Sub-Saharan Africa ",
          "Latin America & Caribbean ",
          "East Asia & Pacific",
          "European Union",
          "Sub-Saharan Africa ",
          "East Asia & Pacific",
          "Sub-Saharan Africa ",
          "Sub-Saharan Africa ",
          "East Asia & Pacific",
          "Sub-Saharan Africa ",
          "North America",
          "Sub-Saharan Africa ",
          "Sub-Saharan Africa ",
          "Latin America & Caribbean ",
          "East Asia & Pacific",
          "Latin America & Caribbean ",
          "Sub-Saharan Africa ",
          "Sub-Saharan Africa ",
          "Sub-Saharan Africa ",
          "Latin America & Caribbean ",
          "Sub-Saharan Africa ",
          "European Union",
          "Latin America & Caribbean ",
          "European Union",
          "Europe & Central Asia",
          "European Union",
          "Middle East & North Africa",
          "Latin America & Caribbean ",
          "Latin America & Caribbean ",
          "Latin America & Caribbean ",
          "Middle East & North Africa",
          "Latin America & Caribbean ",
          "Sub-Saharan Africa ",
          "Sub-Saharan Africa ",
          "European Union",
          "Sub-Saharan Africa ",
          "Sub-Saharan Africa ",
          "East Asia & Pacific",
          "European Union",
          "European Union",
          "Sub-Saharan Africa ",
          "Sub-Saharan Africa ",
          "Europe & Central Asia",
          "European Union",
          "Sub-Saharan Africa ",
          "European Union",
          "Latin America & Caribbean ",
          "Latin America & Caribbean ",
          "Sub-Saharan Africa ",
          "Sub-Saharan Africa ",
          "Latin America & Caribbean ",
          "Latin America & Caribbean ",
          "Latin America & Caribbean ",
          "East Asia & Pacific",
          "European Union",
          "Europe & Central Asia",
          "South Asia",
          "East Asia & Pacific",
          "Middle East & North Africa",
          "Middle East & North Africa",
          "European Union",
          "Middle East & North Africa",
          "European Union",
          "Latin America & Caribbean ",
          "East Asia & Pacific",
          "Middle East & North Africa",
          "Europe & Central Asia",
          "Sub-Saharan Africa ",
          "East Asia & Pacific",
          "Europe & Central Asia",
          "Middle East & North Africa",
          "Europe & Central Asia",
          "East Asia & Pacific",
          "European Union",
          "Middle East & North Africa",
          "Sub-Saharan Africa ",
          "Sub-Saharan Africa ",
          "Middle East & North Africa",
          "Europe & Central Asia",
          "European Union",
          "European Union",
          "East Asia & Pacific",
          "Sub-Saharan Africa ",
          "Sub-Saharan Africa ",
          "East Asia & Pacific",
          "South Asia",
          "Sub-Saharan Africa ",
          "European Union",
          "Sub-Saharan Africa ",
          "Sub-Saharan Africa ",
          "Latin America & Caribbean ",
          "Europe & Central Asia",
          "Europe & Central Asia",
          "East Asia & Pacific",
          "Europe & Central Asia",
          "Middle East & North Africa",
          "Sub-Saharan Africa ",
          "Sub-Saharan Africa ",
          "South Asia",
          "European Union",
          "East Asia & Pacific",
          "Latin America & Caribbean ",
          "Sub-Saharan Africa ",
          "Sub-Saharan Africa ",
          "Europe & Central Asia",
          "Europe & Central Asia",
          "Middle East & North Africa",
          "South Asia",
          "Latin America & Caribbean ",
          "East Asia & Pacific",
          "Latin America & Caribbean ",
          "Latin America & Caribbean ",
          "East Asia & Pacific",
          "European Union",
          "European Union",
          "Middle East & North Africa",
          "European Union",
          "Europe & Central Asia",
          "Sub-Saharan Africa ",
          "Latin America & Caribbean ",
          "Latin America & Caribbean ",
          "Latin America & Caribbean ",
          "Europe & Central Asia",
          "Sub-Saharan Africa ",
          "Middle East & North Africa",
          "Sub-Saharan Africa ",
          "Europe & Central Asia",
          "Sub-Saharan Africa ",
          "Sub-Saharan Africa ",
          "East Asia & Pacific",
          "European Union",
          "European Union",
          "Sub-Saharan Africa ",
          "Sub-Saharan Africa ",
          "Sub-Saharan Africa ",
          "European Union",
          "South Asia",
          "Sub-Saharan Africa ",
          "Latin America & Caribbean ",
          "European Union",
          "Europe & Central Asia",
          "Middle East & North Africa",
          "East Asia & Pacific",
          "Europe & Central Asia",
          "Sub-Saharan Africa ",
          "East Asia & Pacific",
          "East Asia & Pacific",
          "Sub-Saharan Africa ",
          "Latin America & Caribbean ",
          "Middle East & North Africa",
          "Europe & Central Asia",
          "North America",
          "Sub-Saharan Africa ",
          "Europe & Central Asia",
          "Middle East & North Africa",
          "European Union",
          "Latin America & Caribbean ",
          "Europe & Central Asia",
          "Latin America & Caribbean ",
          "East Asia & Pacific",
          "Middle East & North Africa",
          "Middle East & North Africa",
          "Sub-Saharan Africa ",
          "Sub-Saharan Africa ",
          "total",
          "total",
          "total",
          "total",
          "total",
          "total",
          "total",
          "total",
          ""
         ],
         "type": "sunburst",
         "values": [
          15,
          0,
          6,
          2,
          0,
          0,
          7,
          3,
          0,
          1,
          0,
          0,
          0,
          16,
          0,
          4,
          46,
          0,
          0,
          0,
          1,
          1,
          0,
          700,
          0,
          3,
          0,
          0,
          0,
          1,
          0,
          0,
          121,
          0,
          2,
          27,
          1,
          16,
          0,
          0,
          11,
          1,
          1,
          0,
          0,
          0,
          1,
          6,
          0,
          0,
          4,
          94,
          20,
          1,
          0,
          0,
          0,
          0,
          0,
          0,
          4,
          -2,
          1,
          0,
          0,
          41,
          1,
          2,
          0,
          3,
          1,
          1,
          0,
          0,
          4,
          0,
          6,
          0,
          118,
          13,
          35,
          4,
          15,
          2,
          153,
          0,
          12,
          0,
          0,
          5,
          0,
          0,
          11,
          0,
          0,
          0,
          0,
          0,
          0,
          0,
          0,
          1,
          0,
          0,
          0,
          0,
          1,
          0,
          2,
          0,
          1,
          0,
          278,
          5,
          0,
          0,
          0,
          2,
          0,
          0,
          1,
          27,
          0,
          0,
          0,
          5,
          1,
          0,
          1,
          0,
          3,
          0,
          0,
          131,
          11,
          8,
          13,
          1,
          24,
          119,
          0,
          0,
          0,
          0,
          0,
          0,
          10,
          0,
          3,
          0,
          2,
          1,
          1,
          0,
          2,
          14,
          0,
          104,
          0,
          6,
          0,
          28,
          1,
          0,
          0,
          3,
          0,
          0,
          0,
          0,
          0,
          0,
          41,
          1224,
          0,
          21,
          4,
          468,
          0,
          0,
          0,
          0,
          0,
          3,
          0,
          0,
          39,
          205,
          949,
          1270,
          99,
          1345,
          150,
          56,
          4113
         ]
        }
       ],
       "layout": {
        "autosize": true,
        "margin": {
         "b": 10,
         "l": 10,
         "r": 10,
         "t": 10
        },
        "template": {
         "data": {
          "bar": [
           {
            "error_x": {
             "color": "#2a3f5f"
            },
            "error_y": {
             "color": "#2a3f5f"
            },
            "marker": {
             "line": {
              "color": "#E5ECF6",
              "width": 0.5
             }
            },
            "type": "bar"
           }
          ],
          "barpolar": [
           {
            "marker": {
             "line": {
              "color": "#E5ECF6",
              "width": 0.5
             }
            },
            "type": "barpolar"
           }
          ],
          "carpet": [
           {
            "aaxis": {
             "endlinecolor": "#2a3f5f",
             "gridcolor": "white",
             "linecolor": "white",
             "minorgridcolor": "white",
             "startlinecolor": "#2a3f5f"
            },
            "baxis": {
             "endlinecolor": "#2a3f5f",
             "gridcolor": "white",
             "linecolor": "white",
             "minorgridcolor": "white",
             "startlinecolor": "#2a3f5f"
            },
            "type": "carpet"
           }
          ],
          "choropleth": [
           {
            "colorbar": {
             "outlinewidth": 0,
             "ticks": ""
            },
            "type": "choropleth"
           }
          ],
          "contour": [
           {
            "colorbar": {
             "outlinewidth": 0,
             "ticks": ""
            },
            "colorscale": [
             [
              0,
              "#0d0887"
             ],
             [
              0.1111111111111111,
              "#46039f"
             ],
             [
              0.2222222222222222,
              "#7201a8"
             ],
             [
              0.3333333333333333,
              "#9c179e"
             ],
             [
              0.4444444444444444,
              "#bd3786"
             ],
             [
              0.5555555555555556,
              "#d8576b"
             ],
             [
              0.6666666666666666,
              "#ed7953"
             ],
             [
              0.7777777777777778,
              "#fb9f3a"
             ],
             [
              0.8888888888888888,
              "#fdca26"
             ],
             [
              1,
              "#f0f921"
             ]
            ],
            "type": "contour"
           }
          ],
          "contourcarpet": [
           {
            "colorbar": {
             "outlinewidth": 0,
             "ticks": ""
            },
            "type": "contourcarpet"
           }
          ],
          "heatmap": [
           {
            "colorbar": {
             "outlinewidth": 0,
             "ticks": ""
            },
            "colorscale": [
             [
              0,
              "#0d0887"
             ],
             [
              0.1111111111111111,
              "#46039f"
             ],
             [
              0.2222222222222222,
              "#7201a8"
             ],
             [
              0.3333333333333333,
              "#9c179e"
             ],
             [
              0.4444444444444444,
              "#bd3786"
             ],
             [
              0.5555555555555556,
              "#d8576b"
             ],
             [
              0.6666666666666666,
              "#ed7953"
             ],
             [
              0.7777777777777778,
              "#fb9f3a"
             ],
             [
              0.8888888888888888,
              "#fdca26"
             ],
             [
              1,
              "#f0f921"
             ]
            ],
            "type": "heatmap"
           }
          ],
          "heatmapgl": [
           {
            "colorbar": {
             "outlinewidth": 0,
             "ticks": ""
            },
            "colorscale": [
             [
              0,
              "#0d0887"
             ],
             [
              0.1111111111111111,
              "#46039f"
             ],
             [
              0.2222222222222222,
              "#7201a8"
             ],
             [
              0.3333333333333333,
              "#9c179e"
             ],
             [
              0.4444444444444444,
              "#bd3786"
             ],
             [
              0.5555555555555556,
              "#d8576b"
             ],
             [
              0.6666666666666666,
              "#ed7953"
             ],
             [
              0.7777777777777778,
              "#fb9f3a"
             ],
             [
              0.8888888888888888,
              "#fdca26"
             ],
             [
              1,
              "#f0f921"
             ]
            ],
            "type": "heatmapgl"
           }
          ],
          "histogram": [
           {
            "marker": {
             "colorbar": {
              "outlinewidth": 0,
              "ticks": ""
             }
            },
            "type": "histogram"
           }
          ],
          "histogram2d": [
           {
            "colorbar": {
             "outlinewidth": 0,
             "ticks": ""
            },
            "colorscale": [
             [
              0,
              "#0d0887"
             ],
             [
              0.1111111111111111,
              "#46039f"
             ],
             [
              0.2222222222222222,
              "#7201a8"
             ],
             [
              0.3333333333333333,
              "#9c179e"
             ],
             [
              0.4444444444444444,
              "#bd3786"
             ],
             [
              0.5555555555555556,
              "#d8576b"
             ],
             [
              0.6666666666666666,
              "#ed7953"
             ],
             [
              0.7777777777777778,
              "#fb9f3a"
             ],
             [
              0.8888888888888888,
              "#fdca26"
             ],
             [
              1,
              "#f0f921"
             ]
            ],
            "type": "histogram2d"
           }
          ],
          "histogram2dcontour": [
           {
            "colorbar": {
             "outlinewidth": 0,
             "ticks": ""
            },
            "colorscale": [
             [
              0,
              "#0d0887"
             ],
             [
              0.1111111111111111,
              "#46039f"
             ],
             [
              0.2222222222222222,
              "#7201a8"
             ],
             [
              0.3333333333333333,
              "#9c179e"
             ],
             [
              0.4444444444444444,
              "#bd3786"
             ],
             [
              0.5555555555555556,
              "#d8576b"
             ],
             [
              0.6666666666666666,
              "#ed7953"
             ],
             [
              0.7777777777777778,
              "#fb9f3a"
             ],
             [
              0.8888888888888888,
              "#fdca26"
             ],
             [
              1,
              "#f0f921"
             ]
            ],
            "type": "histogram2dcontour"
           }
          ],
          "mesh3d": [
           {
            "colorbar": {
             "outlinewidth": 0,
             "ticks": ""
            },
            "type": "mesh3d"
           }
          ],
          "parcoords": [
           {
            "line": {
             "colorbar": {
              "outlinewidth": 0,
              "ticks": ""
             }
            },
            "type": "parcoords"
           }
          ],
          "pie": [
           {
            "automargin": true,
            "type": "pie"
           }
          ],
          "scatter": [
           {
            "marker": {
             "colorbar": {
              "outlinewidth": 0,
              "ticks": ""
             }
            },
            "type": "scatter"
           }
          ],
          "scatter3d": [
           {
            "line": {
             "colorbar": {
              "outlinewidth": 0,
              "ticks": ""
             }
            },
            "marker": {
             "colorbar": {
              "outlinewidth": 0,
              "ticks": ""
             }
            },
            "type": "scatter3d"
           }
          ],
          "scattercarpet": [
           {
            "marker": {
             "colorbar": {
              "outlinewidth": 0,
              "ticks": ""
             }
            },
            "type": "scattercarpet"
           }
          ],
          "scattergeo": [
           {
            "marker": {
             "colorbar": {
              "outlinewidth": 0,
              "ticks": ""
             }
            },
            "type": "scattergeo"
           }
          ],
          "scattergl": [
           {
            "marker": {
             "colorbar": {
              "outlinewidth": 0,
              "ticks": ""
             }
            },
            "type": "scattergl"
           }
          ],
          "scattermapbox": [
           {
            "marker": {
             "colorbar": {
              "outlinewidth": 0,
              "ticks": ""
             }
            },
            "type": "scattermapbox"
           }
          ],
          "scatterpolar": [
           {
            "marker": {
             "colorbar": {
              "outlinewidth": 0,
              "ticks": ""
             }
            },
            "type": "scatterpolar"
           }
          ],
          "scatterpolargl": [
           {
            "marker": {
             "colorbar": {
              "outlinewidth": 0,
              "ticks": ""
             }
            },
            "type": "scatterpolargl"
           }
          ],
          "scatterternary": [
           {
            "marker": {
             "colorbar": {
              "outlinewidth": 0,
              "ticks": ""
             }
            },
            "type": "scatterternary"
           }
          ],
          "surface": [
           {
            "colorbar": {
             "outlinewidth": 0,
             "ticks": ""
            },
            "colorscale": [
             [
              0,
              "#0d0887"
             ],
             [
              0.1111111111111111,
              "#46039f"
             ],
             [
              0.2222222222222222,
              "#7201a8"
             ],
             [
              0.3333333333333333,
              "#9c179e"
             ],
             [
              0.4444444444444444,
              "#bd3786"
             ],
             [
              0.5555555555555556,
              "#d8576b"
             ],
             [
              0.6666666666666666,
              "#ed7953"
             ],
             [
              0.7777777777777778,
              "#fb9f3a"
             ],
             [
              0.8888888888888888,
              "#fdca26"
             ],
             [
              1,
              "#f0f921"
             ]
            ],
            "type": "surface"
           }
          ],
          "table": [
           {
            "cells": {
             "fill": {
              "color": "#EBF0F8"
             },
             "line": {
              "color": "white"
             }
            },
            "header": {
             "fill": {
              "color": "#C8D4E3"
             },
             "line": {
              "color": "white"
             }
            },
            "type": "table"
           }
          ]
         },
         "layout": {
          "annotationdefaults": {
           "arrowcolor": "#2a3f5f",
           "arrowhead": 0,
           "arrowwidth": 1
          },
          "coloraxis": {
           "colorbar": {
            "outlinewidth": 0,
            "ticks": ""
           }
          },
          "colorscale": {
           "diverging": [
            [
             0,
             "#8e0152"
            ],
            [
             0.1,
             "#c51b7d"
            ],
            [
             0.2,
             "#de77ae"
            ],
            [
             0.3,
             "#f1b6da"
            ],
            [
             0.4,
             "#fde0ef"
            ],
            [
             0.5,
             "#f7f7f7"
            ],
            [
             0.6,
             "#e6f5d0"
            ],
            [
             0.7,
             "#b8e186"
            ],
            [
             0.8,
             "#7fbc41"
            ],
            [
             0.9,
             "#4d9221"
            ],
            [
             1,
             "#276419"
            ]
           ],
           "sequential": [
            [
             0,
             "#0d0887"
            ],
            [
             0.1111111111111111,
             "#46039f"
            ],
            [
             0.2222222222222222,
             "#7201a8"
            ],
            [
             0.3333333333333333,
             "#9c179e"
            ],
            [
             0.4444444444444444,
             "#bd3786"
            ],
            [
             0.5555555555555556,
             "#d8576b"
            ],
            [
             0.6666666666666666,
             "#ed7953"
            ],
            [
             0.7777777777777778,
             "#fb9f3a"
            ],
            [
             0.8888888888888888,
             "#fdca26"
            ],
            [
             1,
             "#f0f921"
            ]
           ],
           "sequentialminus": [
            [
             0,
             "#0d0887"
            ],
            [
             0.1111111111111111,
             "#46039f"
            ],
            [
             0.2222222222222222,
             "#7201a8"
            ],
            [
             0.3333333333333333,
             "#9c179e"
            ],
            [
             0.4444444444444444,
             "#bd3786"
            ],
            [
             0.5555555555555556,
             "#d8576b"
            ],
            [
             0.6666666666666666,
             "#ed7953"
            ],
            [
             0.7777777777777778,
             "#fb9f3a"
            ],
            [
             0.8888888888888888,
             "#fdca26"
            ],
            [
             1,
             "#f0f921"
            ]
           ]
          },
          "colorway": [
           "#636efa",
           "#EF553B",
           "#00cc96",
           "#ab63fa",
           "#FFA15A",
           "#19d3f3",
           "#FF6692",
           "#B6E880",
           "#FF97FF",
           "#FECB52"
          ],
          "font": {
           "color": "#2a3f5f"
          },
          "geo": {
           "bgcolor": "white",
           "lakecolor": "white",
           "landcolor": "#E5ECF6",
           "showlakes": true,
           "showland": true,
           "subunitcolor": "white"
          },
          "hoverlabel": {
           "align": "left"
          },
          "hovermode": "closest",
          "mapbox": {
           "style": "light"
          },
          "paper_bgcolor": "white",
          "plot_bgcolor": "#E5ECF6",
          "polar": {
           "angularaxis": {
            "gridcolor": "white",
            "linecolor": "white",
            "ticks": ""
           },
           "bgcolor": "#E5ECF6",
           "radialaxis": {
            "gridcolor": "white",
            "linecolor": "white",
            "ticks": ""
           }
          },
          "scene": {
           "xaxis": {
            "backgroundcolor": "#E5ECF6",
            "gridcolor": "white",
            "gridwidth": 2,
            "linecolor": "white",
            "showbackground": true,
            "ticks": "",
            "zerolinecolor": "white"
           },
           "yaxis": {
            "backgroundcolor": "#E5ECF6",
            "gridcolor": "white",
            "gridwidth": 2,
            "linecolor": "white",
            "showbackground": true,
            "ticks": "",
            "zerolinecolor": "white"
           },
           "zaxis": {
            "backgroundcolor": "#E5ECF6",
            "gridcolor": "white",
            "gridwidth": 2,
            "linecolor": "white",
            "showbackground": true,
            "ticks": "",
            "zerolinecolor": "white"
           }
          },
          "shapedefaults": {
           "line": {
            "color": "#2a3f5f"
           }
          },
          "ternary": {
           "aaxis": {
            "gridcolor": "white",
            "linecolor": "white",
            "ticks": ""
           },
           "baxis": {
            "gridcolor": "white",
            "linecolor": "white",
            "ticks": ""
           },
           "bgcolor": "#E5ECF6",
           "caxis": {
            "gridcolor": "white",
            "linecolor": "white",
            "ticks": ""
           }
          },
          "title": {
           "x": 0.05
          },
          "xaxis": {
           "automargin": true,
           "gridcolor": "white",
           "linecolor": "white",
           "ticks": "",
           "title": {
            "standoff": 15
           },
           "zerolinecolor": "white",
           "zerolinewidth": 2
          },
          "yaxis": {
           "automargin": true,
           "gridcolor": "white",
           "linecolor": "white",
           "ticks": "",
           "title": {
            "standoff": 15
           },
           "zerolinecolor": "white",
           "zerolinewidth": 2
          }
         }
        }
       }
      },
      "image/png": "[encoded data removed]",
      "text/html": [
       "<div>\n",
       "        \n",
       "        \n",
       "            <div id=\"9d2c850a-ed3c-48ef-8581-33117c4b2f5a\" class=\"plotly-graph-div\" style=\"height:525px; width:100%;\"></div>\n",
       "            <script type=\"text/javascript\">\n",
       "                require([\"plotly\"], function(Plotly) {\n",
       "                    window.PLOTLYENV=window.PLOTLYENV || {};\n",
       "                    \n",
       "                if (document.getElementById(\"9d2c850a-ed3c-48ef-8581-33117c4b2f5a\")) {\n",
       "                    Plotly.newPlot(\n",
       "                        '9d2c850a-ed3c-48ef-8581-33117c4b2f5a',\n",
       "                        [{\"branchvalues\": \"total\", \"hovertemplate\": \"<b>%{label} </b> <br> Confirmed: %{value}<br>per 100k: %{color:.2f}\", \"labels\": [\"Afghanistan\", \"Albania\", \"Algeria\", \"Andorra\", \"Angola\", \"Antigua and Barbuda\", \"Argentina\", \"Armenia\", \"Australia\", \"Austria\", \"Azerbaijan\", \"Bahamas\", \"Bahrain\", \"Bangladesh\", \"Barbados\", \"Belarus\", \"Belgium\", \"Belize\", \"Benin\", \"Bhutan\", \"Bolivia\", \"Bosnia and Herzegovina\", \"Botswana\", \"Brazil\", \"Brunei\", \"Bulgaria\", \"Burkina Faso\", \"Burma\", \"Burundi\", \"Cabo Verde\", \"Cambodia\", \"Cameroon\", \"Canada\", \"Central African Republic\", \"Chad\", \"Chile\", \"China\", \"Colombia\", \"Comoros\", \"Congo (Brazzaville)\", \"Congo (Kinshasa)\", \"Costa Rica\", \"Cote d'Ivoire\", \"Croatia\", \"Cuba\", \"Cyprus\", \"Czechia\", \"Denmark\", \"Djibouti\", \"Dominica\", \"Dominican Republic\", \"Ecuador\", \"Egypt\", \"El Salvador\", \"Equatorial Guinea\", \"Eritrea\", \"Estonia\", \"Eswatini\", \"Ethiopia\", \"Fiji\", \"Finland\", \"France\", \"Gabon\", \"Gambia\", \"Georgia\", \"Germany\", \"Ghana\", \"Greece\", \"Grenada\", \"Guatemala\", \"Guinea\", \"Guinea-Bissau\", \"Guyana\", \"Haiti\", \"Honduras\", \"Hong Kong\", \"Hungary\", \"Iceland\", \"India\", \"Indonesia\", \"Iran\", \"Iraq\", \"Ireland\", \"Israel\", \"Italy\", \"Jamaica\", \"Japan\", \"Jordan\", \"Kazakhstan\", \"Kenya\", \"Korea, South\", \"Kosovo\", \"Kuwait\", \"Kyrgyzstan\", \"Laos\", \"Latvia\", \"Lebanon\", \"Lesotho\", \"Liberia\", \"Libya\", \"Liechtenstein\", \"Lithuania\", \"Luxembourg\", \"Macau\", \"Madagascar\", \"Malawi\", \"Malaysia\", \"Maldives\", \"Mali\", \"Malta\", \"Mauritania\", \"Mauritius\", \"Mexico\", \"Moldova\", \"Monaco\", \"Mongolia\", \"Montenegro\", \"Morocco\", \"Mozambique\", \"Namibia\", \"Nepal\", \"Netherlands\", \"New Zealand\", \"Nicaragua\", \"Niger\", \"Nigeria\", \"North Macedonia\", \"Norway\", \"Oman\", \"Pakistan\", \"Panama\", \"Papua New Guinea\", \"Paraguay\", \"Peru\", \"Philippines\", \"Poland\", \"Portugal\", \"Qatar\", \"Romania\", \"Russia\", \"Rwanda\", \"Saint Kitts and Nevis\", \"Saint Lucia\", \"Saint Vincent and the Grenadines\", \"San Marino\", \"Sao Tome and Principe\", \"Saudi Arabia\", \"Senegal\", \"Serbia\", \"Seychelles\", \"Sierra Leone\", \"Singapore\", \"Slovakia\", \"Slovenia\", \"Somalia\", \"South Africa\", \"South Sudan\", \"Spain\", \"Sri Lanka\", \"Sudan\", \"Suriname\", \"Sweden\", \"Switzerland\", \"Syria\", \"Taiwan*\", \"Tajikistan\", \"Tanzania\", \"Thailand\", \"Timor-Leste\", \"Togo\", \"Trinidad and Tobago\", \"Tunisia\", \"Turkey\", \"US\", \"Uganda\", \"Ukraine\", \"United Arab Emirates\", \"United Kingdom\", \"Uruguay\", \"Uzbekistan\", \"Venezuela\", \"Vietnam\", \"West Bank and Gaza\", \"Yemen\", \"Zambia\", \"Zimbabwe\", \"East Asia & Pacific\", \"Europe & Central Asia\", \"European Union\", \"Latin America & Caribbean \", \"Middle East & North Africa\", \"North America\", \"South Asia\", \"Sub-Saharan Africa \", \"total\"], \"marker\": {\"colorscale\": [[0.0, \"rgb(255,247,251)\"], [0.125, \"rgb(236,231,242)\"], [0.25, \"rgb(208,209,230)\"], [0.375, \"rgb(166,189,219)\"], [0.5, \"rgb(116,169,207)\"], [0.625, \"rgb(54,144,192)\"], [0.75, \"rgb(5,112,176)\"], [0.875, \"rgb(4,90,141)\"], [1.0, \"rgb(2,56,88)\"]]}, \"name\": \"\", \"parents\": [\"South Asia\", \"Europe & Central Asia\", \"Middle East & North Africa\", \"Europe & Central Asia\", \"Sub-Saharan Africa \", \"Latin America & Caribbean \", \"Latin America & Caribbean \", \"Europe & Central Asia\", \"East Asia & Pacific\", \"European Union\", \"Europe & Central Asia\", \"Latin America & Caribbean \", \"Middle East & North Africa\", \"South Asia\", \"Latin America & Caribbean \", \"Europe & Central Asia\", \"European Union\", \"Latin America & Caribbean \", \"Sub-Saharan Africa \", \"South Asia\", \"Latin America & Caribbean \", \"Europe & Central Asia\", \"Sub-Saharan Africa \", \"Latin America & Caribbean \", \"East Asia & Pacific\", \"European Union\", \"Sub-Saharan Africa \", \"East Asia & Pacific\", \"Sub-Saharan Africa \", \"Sub-Saharan Africa \", \"East Asia & Pacific\", \"Sub-Saharan Africa \", \"North America\", \"Sub-Saharan Africa \", \"Sub-Saharan Africa \", \"Latin America & Caribbean \", \"East Asia & Pacific\", \"Latin America & Caribbean \", \"Sub-Saharan Africa \", \"Sub-Saharan Africa \", \"Sub-Saharan Africa \", \"Latin America & Caribbean \", \"Sub-Saharan Africa \", \"European Union\", \"Latin America & Caribbean \", \"European Union\", \"Europe & Central Asia\", \"European Union\", \"Middle East & North Africa\", \"Latin America & Caribbean \", \"Latin America & Caribbean \", \"Latin America & Caribbean \", \"Middle East & North Africa\", \"Latin America & Caribbean \", \"Sub-Saharan Africa \", \"Sub-Saharan Africa \", \"European Union\", \"Sub-Saharan Africa \", \"Sub-Saharan Africa \", \"East Asia & Pacific\", \"European Union\", \"European Union\", \"Sub-Saharan Africa \", \"Sub-Saharan Africa \", \"Europe & Central Asia\", \"European Union\", \"Sub-Saharan Africa \", \"European Union\", \"Latin America & Caribbean \", \"Latin America & Caribbean \", \"Sub-Saharan Africa \", \"Sub-Saharan Africa \", \"Latin America & Caribbean \", \"Latin America & Caribbean \", \"Latin America & Caribbean \", \"East Asia & Pacific\", \"European Union\", \"Europe & Central Asia\", \"South Asia\", \"East Asia & Pacific\", \"Middle East & North Africa\", \"Middle East & North Africa\", \"European Union\", \"Middle East & North Africa\", \"European Union\", \"Latin America & Caribbean \", \"East Asia & Pacific\", \"Middle East & North Africa\", \"Europe & Central Asia\", \"Sub-Saharan Africa \", \"East Asia & Pacific\", \"Europe & Central Asia\", \"Middle East & North Africa\", \"Europe & Central Asia\", \"East Asia & Pacific\", \"European Union\", \"Middle East & North Africa\", \"Sub-Saharan Africa \", \"Sub-Saharan Africa \", \"Middle East & North Africa\", \"Europe & Central Asia\", \"European Union\", \"European Union\", \"East Asia & Pacific\", \"Sub-Saharan Africa \", \"Sub-Saharan Africa \", \"East Asia & Pacific\", \"South Asia\", \"Sub-Saharan Africa \", \"European Union\", \"Sub-Saharan Africa \", \"Sub-Saharan Africa \", \"Latin America & Caribbean \", \"Europe & Central Asia\", \"Europe & Central Asia\", \"East Asia & Pacific\", \"Europe & Central Asia\", \"Middle East & North Africa\", \"Sub-Saharan Africa \", \"Sub-Saharan Africa \", \"South Asia\", \"European Union\", \"East Asia & Pacific\", \"Latin America & Caribbean \", \"Sub-Saharan Africa \", \"Sub-Saharan Africa \", \"Europe & Central Asia\", \"Europe & Central Asia\", \"Middle East & North Africa\", \"South Asia\", \"Latin America & Caribbean \", \"East Asia & Pacific\", \"Latin America & Caribbean \", \"Latin America & Caribbean \", \"East Asia & Pacific\", \"European Union\", \"European Union\", \"Middle East & North Africa\", \"European Union\", \"Europe & Central Asia\", \"Sub-Saharan Africa \", \"Latin America & Caribbean \", \"Latin America & Caribbean \", \"Latin America & Caribbean \", \"Europe & Central Asia\", \"Sub-Saharan Africa \", \"Middle East & North Africa\", \"Sub-Saharan Africa \", \"Europe & Central Asia\", \"Sub-Saharan Africa \", \"Sub-Saharan Africa \", \"East Asia & Pacific\", \"European Union\", \"European Union\", \"Sub-Saharan Africa \", \"Sub-Saharan Africa \", \"Sub-Saharan Africa \", \"European Union\", \"South Asia\", \"Sub-Saharan Africa \", \"Latin America & Caribbean \", \"European Union\", \"Europe & Central Asia\", \"Middle East & North Africa\", \"East Asia & Pacific\", \"Europe & Central Asia\", \"Sub-Saharan Africa \", \"East Asia & Pacific\", \"East Asia & Pacific\", \"Sub-Saharan Africa \", \"Latin America & Caribbean \", \"Middle East & North Africa\", \"Europe & Central Asia\", \"North America\", \"Sub-Saharan Africa \", \"Europe & Central Asia\", \"Middle East & North Africa\", \"European Union\", \"Latin America & Caribbean \", \"Europe & Central Asia\", \"Latin America & Caribbean \", \"East Asia & Pacific\", \"Middle East & North Africa\", \"Middle East & North Africa\", \"Sub-Saharan Africa \", \"Sub-Saharan Africa \", \"total\", \"total\", \"total\", \"total\", \"total\", \"total\", \"total\", \"total\", \"\"], \"type\": \"sunburst\", \"values\": [15.0, 0.0, 6.0, 2.0, 0.0, 0.0, 7.0, 3.0, 0.0, 1.0, 0.0, 0.0, 0.0, 16.0, 0.0, 4.0, 46.0, 0.0, 0.0, 0.0, 1.0, 1.0, 0.0, 700.0, 0.0, 3.0, 0.0, 0.0, 0.0, 1.0, 0.0, 0.0, 121.0, 0.0, 2.0, 27.0, 1.0, 16.0, 0.0, 0.0, 11.0, 1.0, 1.0, 0.0, 0.0, 0.0, 1.0, 6.0, 0.0, 0.0, 4.0, 94.0, 20.0, 1.0, 0.0, 0.0, 0.0, 0.0, 0.0, 0.0, 4.0, -2.0, 1.0, 0.0, 0.0, 41.0, 1.0, 2.0, 0.0, 3.0, 1.0, 1.0, 0.0, 0.0, 4.0, 0.0, 6.0, 0.0, 118.0, 13.0, 35.0, 4.0, 15.0, 2.0, 153.0, 0.0, 12.0, 0.0, 0.0, 5.0, 0.0, 0.0, 11.0, 0.0, 0.0, 0.0, 0.0, 0.0, 0.0, 0.0, 0.0, 1.0, 0.0, 0.0, 0.0, 0.0, 1.0, 0.0, 2.0, 0.0, 1.0, 0.0, 278.0, 5.0, 0.0, 0.0, 0.0, 2.0, 0.0, 0.0, 1.0, 27.0, 0.0, 0.0, 0.0, 5.0, 1.0, 0.0, 1.0, 0.0, 3.0, 0.0, 0.0, 131.0, 11.0, 8.0, 13.0, 1.0, 24.0, 119.0, 0.0, 0.0, 0.0, 0.0, 0.0, 0.0, 10.0, 0.0, 3.0, 0.0, 2.0, 1.0, 1.0, 0.0, 2.0, 14.0, 0.0, 104.0, 0.0, 6.0, 0.0, 28.0, 1.0, 0.0, 0.0, 3.0, 0.0, 0.0, 0.0, 0.0, 0.0, 0.0, 41.0, 1224.0, 0.0, 21.0, 4.0, 468.0, 0.0, 0.0, 0.0, 0.0, 0.0, 3.0, 0.0, 0.0, 39.0, 205.0, 949.0, 1270.0, 99.0, 1345.0, 150.0, 56.0, 4113.0]}],\n",
       "                        {\"margin\": {\"b\": 10, \"l\": 10, \"r\": 10, \"t\": 10}, \"template\": {\"data\": {\"bar\": [{\"error_x\": {\"color\": \"#2a3f5f\"}, \"error_y\": {\"color\": \"#2a3f5f\"}, \"marker\": {\"line\": {\"color\": \"#E5ECF6\", \"width\": 0.5}}, \"type\": \"bar\"}], \"barpolar\": [{\"marker\": {\"line\": {\"color\": \"#E5ECF6\", \"width\": 0.5}}, \"type\": \"barpolar\"}], \"carpet\": [{\"aaxis\": {\"endlinecolor\": \"#2a3f5f\", \"gridcolor\": \"white\", \"linecolor\": \"white\", \"minorgridcolor\": \"white\", \"startlinecolor\": \"#2a3f5f\"}, \"baxis\": {\"endlinecolor\": \"#2a3f5f\", \"gridcolor\": \"white\", \"linecolor\": \"white\", \"minorgridcolor\": \"white\", \"startlinecolor\": \"#2a3f5f\"}, \"type\": \"carpet\"}], \"choropleth\": [{\"colorbar\": {\"outlinewidth\": 0, \"ticks\": \"\"}, \"type\": \"choropleth\"}], \"contour\": [{\"colorbar\": {\"outlinewidth\": 0, \"ticks\": \"\"}, \"colorscale\": [[0.0, \"#0d0887\"], [0.1111111111111111, \"#46039f\"], [0.2222222222222222, \"#7201a8\"], [0.3333333333333333, \"#9c179e\"], [0.4444444444444444, \"#bd3786\"], [0.5555555555555556, \"#d8576b\"], [0.6666666666666666, \"#ed7953\"], [0.7777777777777778, \"#fb9f3a\"], [0.8888888888888888, \"#fdca26\"], [1.0, \"#f0f921\"]], \"type\": \"contour\"}], \"contourcarpet\": [{\"colorbar\": {\"outlinewidth\": 0, \"ticks\": \"\"}, \"type\": \"contourcarpet\"}], \"heatmap\": [{\"colorbar\": {\"outlinewidth\": 0, \"ticks\": \"\"}, \"colorscale\": [[0.0, \"#0d0887\"], [0.1111111111111111, \"#46039f\"], [0.2222222222222222, \"#7201a8\"], [0.3333333333333333, \"#9c179e\"], [0.4444444444444444, \"#bd3786\"], [0.5555555555555556, \"#d8576b\"], [0.6666666666666666, \"#ed7953\"], [0.7777777777777778, \"#fb9f3a\"], [0.8888888888888888, \"#fdca26\"], [1.0, \"#f0f921\"]], \"type\": \"heatmap\"}], \"heatmapgl\": [{\"colorbar\": {\"outlinewidth\": 0, \"ticks\": \"\"}, \"colorscale\": [[0.0, \"#0d0887\"], [0.1111111111111111, \"#46039f\"], [0.2222222222222222, \"#7201a8\"], [0.3333333333333333, \"#9c179e\"], [0.4444444444444444, \"#bd3786\"], [0.5555555555555556, \"#d8576b\"], [0.6666666666666666, \"#ed7953\"], [0.7777777777777778, \"#fb9f3a\"], [0.8888888888888888, \"#fdca26\"], [1.0, \"#f0f921\"]], \"type\": \"heatmapgl\"}], \"histogram\": [{\"marker\": {\"colorbar\": {\"outlinewidth\": 0, \"ticks\": \"\"}}, \"type\": \"histogram\"}], \"histogram2d\": [{\"colorbar\": {\"outlinewidth\": 0, \"ticks\": \"\"}, \"colorscale\": [[0.0, \"#0d0887\"], [0.1111111111111111, \"#46039f\"], [0.2222222222222222, \"#7201a8\"], [0.3333333333333333, \"#9c179e\"], [0.4444444444444444, \"#bd3786\"], [0.5555555555555556, \"#d8576b\"], [0.6666666666666666, \"#ed7953\"], [0.7777777777777778, \"#fb9f3a\"], [0.8888888888888888, \"#fdca26\"], [1.0, \"#f0f921\"]], \"type\": \"histogram2d\"}], \"histogram2dcontour\": [{\"colorbar\": {\"outlinewidth\": 0, \"ticks\": \"\"}, \"colorscale\": [[0.0, \"#0d0887\"], [0.1111111111111111, \"#46039f\"], [0.2222222222222222, \"#7201a8\"], [0.3333333333333333, \"#9c179e\"], [0.4444444444444444, \"#bd3786\"], [0.5555555555555556, \"#d8576b\"], [0.6666666666666666, \"#ed7953\"], [0.7777777777777778, \"#fb9f3a\"], [0.8888888888888888, \"#fdca26\"], [1.0, \"#f0f921\"]], \"type\": \"histogram2dcontour\"}], \"mesh3d\": [{\"colorbar\": {\"outlinewidth\": 0, \"ticks\": \"\"}, \"type\": \"mesh3d\"}], \"parcoords\": [{\"line\": {\"colorbar\": {\"outlinewidth\": 0, \"ticks\": \"\"}}, \"type\": \"parcoords\"}], \"pie\": [{\"automargin\": true, \"type\": \"pie\"}], \"scatter\": [{\"marker\": {\"colorbar\": {\"outlinewidth\": 0, \"ticks\": \"\"}}, \"type\": \"scatter\"}], \"scatter3d\": [{\"line\": {\"colorbar\": {\"outlinewidth\": 0, \"ticks\": \"\"}}, \"marker\": {\"colorbar\": {\"outlinewidth\": 0, \"ticks\": \"\"}}, \"type\": \"scatter3d\"}], \"scattercarpet\": [{\"marker\": {\"colorbar\": {\"outlinewidth\": 0, \"ticks\": \"\"}}, \"type\": \"scattercarpet\"}], \"scattergeo\": [{\"marker\": {\"colorbar\": {\"outlinewidth\": 0, \"ticks\": \"\"}}, \"type\": \"scattergeo\"}], \"scattergl\": [{\"marker\": {\"colorbar\": {\"outlinewidth\": 0, \"ticks\": \"\"}}, \"type\": \"scattergl\"}], \"scattermapbox\": [{\"marker\": {\"colorbar\": {\"outlinewidth\": 0, \"ticks\": \"\"}}, \"type\": \"scattermapbox\"}], \"scatterpolar\": [{\"marker\": {\"colorbar\": {\"outlinewidth\": 0, \"ticks\": \"\"}}, \"type\": \"scatterpolar\"}], \"scatterpolargl\": [{\"marker\": {\"colorbar\": {\"outlinewidth\": 0, \"ticks\": \"\"}}, \"type\": \"scatterpolargl\"}], \"scatterternary\": [{\"marker\": {\"colorbar\": {\"outlinewidth\": 0, \"ticks\": \"\"}}, \"type\": \"scatterternary\"}], \"surface\": [{\"colorbar\": {\"outlinewidth\": 0, \"ticks\": \"\"}, \"colorscale\": [[0.0, \"#0d0887\"], [0.1111111111111111, \"#46039f\"], [0.2222222222222222, \"#7201a8\"], [0.3333333333333333, \"#9c179e\"], [0.4444444444444444, \"#bd3786\"], [0.5555555555555556, \"#d8576b\"], [0.6666666666666666, \"#ed7953\"], [0.7777777777777778, \"#fb9f3a\"], [0.8888888888888888, \"#fdca26\"], [1.0, \"#f0f921\"]], \"type\": \"surface\"}], \"table\": [{\"cells\": {\"fill\": {\"color\": \"#EBF0F8\"}, \"line\": {\"color\": \"white\"}}, \"header\": {\"fill\": {\"color\": \"#C8D4E3\"}, \"line\": {\"color\": \"white\"}}, \"type\": \"table\"}]}, \"layout\": {\"annotationdefaults\": {\"arrowcolor\": \"#2a3f5f\", \"arrowhead\": 0, \"arrowwidth\": 1}, \"coloraxis\": {\"colorbar\": {\"outlinewidth\": 0, \"ticks\": \"\"}}, \"colorscale\": {\"diverging\": [[0, \"#8e0152\"], [0.1, \"#c51b7d\"], [0.2, \"#de77ae\"], [0.3, \"#f1b6da\"], [0.4, \"#fde0ef\"], [0.5, \"#f7f7f7\"], [0.6, \"#e6f5d0\"], [0.7, \"#b8e186\"], [0.8, \"#7fbc41\"], [0.9, \"#4d9221\"], [1, \"#276419\"]], \"sequential\": [[0.0, \"#0d0887\"], [0.1111111111111111, \"#46039f\"], [0.2222222222222222, \"#7201a8\"], [0.3333333333333333, \"#9c179e\"], [0.4444444444444444, \"#bd3786\"], [0.5555555555555556, \"#d8576b\"], [0.6666666666666666, \"#ed7953\"], [0.7777777777777778, \"#fb9f3a\"], [0.8888888888888888, \"#fdca26\"], [1.0, \"#f0f921\"]], \"sequentialminus\": [[0.0, \"#0d0887\"], [0.1111111111111111, \"#46039f\"], [0.2222222222222222, \"#7201a8\"], [0.3333333333333333, \"#9c179e\"], [0.4444444444444444, \"#bd3786\"], [0.5555555555555556, \"#d8576b\"], [0.6666666666666666, \"#ed7953\"], [0.7777777777777778, \"#fb9f3a\"], [0.8888888888888888, \"#fdca26\"], [1.0, \"#f0f921\"]]}, \"colorway\": [\"#636efa\", \"#EF553B\", \"#00cc96\", \"#ab63fa\", \"#FFA15A\", \"#19d3f3\", \"#FF6692\", \"#B6E880\", \"#FF97FF\", \"#FECB52\"], \"font\": {\"color\": \"#2a3f5f\"}, \"geo\": {\"bgcolor\": \"white\", \"lakecolor\": \"white\", \"landcolor\": \"#E5ECF6\", \"showlakes\": true, \"showland\": true, \"subunitcolor\": \"white\"}, \"hoverlabel\": {\"align\": \"left\"}, \"hovermode\": \"closest\", \"mapbox\": {\"style\": \"light\"}, \"paper_bgcolor\": \"white\", \"plot_bgcolor\": \"#E5ECF6\", \"polar\": {\"angularaxis\": {\"gridcolor\": \"white\", \"linecolor\": \"white\", \"ticks\": \"\"}, \"bgcolor\": \"#E5ECF6\", \"radialaxis\": {\"gridcolor\": \"white\", \"linecolor\": \"white\", \"ticks\": \"\"}}, \"scene\": {\"xaxis\": {\"backgroundcolor\": \"#E5ECF6\", \"gridcolor\": \"white\", \"gridwidth\": 2, \"linecolor\": \"white\", \"showbackground\": true, \"ticks\": \"\", \"zerolinecolor\": \"white\"}, \"yaxis\": {\"backgroundcolor\": \"#E5ECF6\", \"gridcolor\": \"white\", \"gridwidth\": 2, \"linecolor\": \"white\", \"showbackground\": true, \"ticks\": \"\", \"zerolinecolor\": \"white\"}, \"zaxis\": {\"backgroundcolor\": \"#E5ECF6\", \"gridcolor\": \"white\", \"gridwidth\": 2, \"linecolor\": \"white\", \"showbackground\": true, \"ticks\": \"\", \"zerolinecolor\": \"white\"}}, \"shapedefaults\": {\"line\": {\"color\": \"#2a3f5f\"}}, \"ternary\": {\"aaxis\": {\"gridcolor\": \"white\", \"linecolor\": \"white\", \"ticks\": \"\"}, \"baxis\": {\"gridcolor\": \"white\", \"linecolor\": \"white\", \"ticks\": \"\"}, \"bgcolor\": \"#E5ECF6\", \"caxis\": {\"gridcolor\": \"white\", \"linecolor\": \"white\", \"ticks\": \"\"}}, \"title\": {\"x\": 0.05}, \"xaxis\": {\"automargin\": true, \"gridcolor\": \"white\", \"linecolor\": \"white\", \"ticks\": \"\", \"title\": {\"standoff\": 15}, \"zerolinecolor\": \"white\", \"zerolinewidth\": 2}, \"yaxis\": {\"automargin\": true, \"gridcolor\": \"white\", \"linecolor\": \"white\", \"ticks\": \"\", \"title\": {\"standoff\": 15}, \"zerolinecolor\": \"white\", \"zerolinewidth\": 2}}}},\n",
       "                        {\"responsive\": true}\n",
       "                    ).then(function(){\n",
       "                            \n",
       "var gd = document.getElementById('9d2c850a-ed3c-48ef-8581-33117c4b2f5a');\n",
       "var x = new MutationObserver(function (mutations, observer) {{\n",
       "        var display = window.getComputedStyle(gd).display;\n",
       "        if (!display || display === 'none') {{\n",
       "            console.log([gd, 'removed!']);\n",
       "            Plotly.purge(gd);\n",
       "            observer.disconnect();\n",
       "        }}\n",
       "}});\n",
       "\n",
       "// Listen for the removal of the full notebook cells\n",
       "var notebookContainer = gd.closest('#notebook-container');\n",
       "if (notebookContainer) {{\n",
       "    x.observe(notebookContainer, {childList: true});\n",
       "}}\n",
       "\n",
       "// Listen for the clearing of the current output cell\n",
       "var outputEl = gd.closest('.output');\n",
       "if (outputEl) {{\n",
       "    x.observe(outputEl, {childList: true});\n",
       "}}\n",
       "\n",
       "                        })\n",
       "                };\n",
       "                });\n",
       "            </script>\n",
       "        </div>"
      ]
     },
     "metadata": {},
     "output_type": "display_data"
    }
   ],
   "source": [
    "import plotly.graph_objects as go\n",
    "import pandas as pd\n",
    "\n",
    "\n",
    "def build_hierarchical_dataframe(df, levels, value_column, color_columns=None):\n",
    "    \"\"\"\n",
    "    Build a hierarchy of levels for Sunburst or Treemap charts.\n",
    "\n",
    "    Levels are given starting from the bottom to the top of the hierarchy,\n",
    "    ie the last level corresponds to the root.\n",
    "    \"\"\"\n",
    "    df_all_trees = pd.DataFrame(columns=['id', 'parent', 'value', 'color'])\n",
    "    for i, level in enumerate(levels):\n",
    "        df_tree = pd.DataFrame(columns=['id', 'parent', 'value', 'color'])\n",
    "        # Aggregating by all levels to the right of current\n",
    "        dfg = df.groupby(levels[i:]).sum()  # Aggregation Fanction\n",
    "        dfg = dfg.reset_index()\n",
    "        df_tree['id'] = dfg[level].copy()  #  Fill in ID column\n",
    "        if i < len(levels) - 1:  # Setting PARENT value, the next column untill the last one, after which it is TOTAL\n",
    "            df_tree['parent'] = dfg[levels[i+1]].copy()\n",
    "        else:\n",
    "            df_tree['parent'] = 'total'\n",
    "        df_tree['value'] = dfg[value_column]\n",
    "        df_tree['color'] = dfg[color_columns[0]] * 1.0 / dfg[color_columns[1]]\n",
    "        df_all_trees = df_all_trees.append(df_tree, ignore_index=True)\n",
    "    total = pd.Series(dict(id='total', parent='',\n",
    "                              value=df[value_column].sum(),\n",
    "                              color=df[color_columns[0]].sum() / df[color_columns[1]].sum()\n",
    "                          )\n",
    "                     )\n",
    "    df_all_trees = df_all_trees.append(total, ignore_index=True)\n",
    "    return df_all_trees\n",
    "\n",
    "\n",
    "\n",
    "def plot_sunburst_static(df, value_column, levels = ['land', 'region_wb'], color_columns=['confirmed', 'population_100k'], value_column_name=''):\n",
    "    \n",
    "    hovertemplate = '<b>%{label} </b> <br> ' + value_column_name + ': %{value}<br>per 100k: %{color:.2f}'\n",
    "    \n",
    "    df_sunburst = build_hierarchical_dataframe(df, levels, value_column, color_columns)\n",
    "\n",
    "    # average_score = df[column].mean()\n",
    "    # min_score = df[column].min()\n",
    "    # max_score = df[column].max()\n",
    "\n",
    "    average_score = df_sunburst['color'].median()\n",
    "    min_score = df_sunburst['color'].quantile(.1)\n",
    "    max_score = df_sunburst['color'].quantile(.9)\n",
    "\n",
    "\n",
    "\n",
    "    fig = go.Figure()\n",
    "\n",
    "    fig.add_trace(go.Sunburst(\n",
    "        labels=df_sunburst['id'],\n",
    "        parents=df_sunburst['parent'],\n",
    "        values=df_sunburst['value'],\n",
    "        branchvalues='total',\n",
    "        marker=dict(\n",
    "#             colors=df_sunburst['color'],\n",
    "            colorscale=colors.sequential.PuBu,\n",
    "#             cmid=average_score,\n",
    "#             cmax=max_score,\n",
    "#             cmin=min_score\n",
    "        ),\n",
    "        hovertemplate=hovertemplate,\n",
    "        name=''\n",
    "        ))\n",
    "\n",
    "\n",
    "    fig.update_layout(margin=dict(t=10, b=10, r=10, l=10))\n",
    "    fig.show()\n",
    "\n",
    "    \n",
    "plot_sunburst_static(df.fillna(0), 'dead_change', levels = ['land', 'region_wb'], color_columns=['dead_change', 'population_100k'], value_column_name='Confirmed')"
   ]
  },
  {
   "cell_type": "code",
   "execution_count": 436,
   "metadata": {},
   "outputs": [
    {
     "data": {
      "text/plain": [
       "dates\n",
       "2020-05-16     349.0\n",
       "2020-05-16      17.0\n",
       "2020-05-16     192.0\n",
       "2020-05-16       0.0\n",
       "2020-05-16       0.0\n",
       "               ...  \n",
       "2020-05-16     204.0\n",
       "2020-05-16       0.0\n",
       "2020-05-16       6.0\n",
       "2020-05-16    1247.0\n",
       "2020-05-16       9.0\n",
       "Name: confirmed_change, Length: 186, dtype: float64"
      ]
     },
     "execution_count": 436,
     "metadata": {},
     "output_type": "execute_result"
    }
   ],
   "source": [
    "df['confirmed_change']"
   ]
  },
  {
   "cell_type": "code",
   "execution_count": 497,
   "metadata": {},
   "outputs": [],
   "source": [
    "levels = ['land', 'region_wb'] # levels used for the hierarchical chart\n",
    "# color_columns = ['sales', 'calls']\n",
    "value_column = column\n",
    "\n",
    "\n",
    "def build_hierarchical_dataframe(df, value_column,levels, color_columns=None):\n",
    "    \"\"\"\n",
    "    Build a hierarchy of levels for Sunburst or Treemap charts.\n",
    "\n",
    "    Levels are given starting from the bottom to the top of the hierarchy,\n",
    "    ie the last level corresponds to the root.\n",
    "    \"\"\"\n",
    "    df_all_trees = pd.DataFrame(columns=['id', 'parent', 'value', 'color'])\n",
    "    for i, level in enumerate(levels):\n",
    "        df_tree = pd.DataFrame(columns=['id', 'parent', 'value', 'color'])\n",
    "        # Aggregating by all levels to the right of current\n",
    "        dfg = df.groupby(levels[i:]).sum()  # Aggregation Fanction\n",
    "        dfg = dfg.reset_index()\n",
    "        df_tree['id'] = dfg[level].copy()  #  Fill in ID column\n",
    "        if i < len(levels) - 1:  # Setting PARENT value, the next column untill the last one, after which it is TOTAL\n",
    "            df_tree['parent'] = dfg[levels[i+1]].copy()\n",
    "        else:\n",
    "            df_tree['parent'] = 'total'\n",
    "        df_tree['value'] = dfg[value_column]\n",
    "        df_tree['color'] = dfg[color_columns[0]] * 1.0 / dfg[color_columns[1]]\n",
    "        df_all_trees = df_all_trees.append(df_tree, ignore_index=True)\n",
    "    total = pd.Series(dict(id='total', parent='',\n",
    "                              value=df[value_column].sum(),\n",
    "                              color=df[color_columns[0]].sum() / df[color_columns[1]].sum()\n",
    "                          )\n",
    "                     )\n",
    "    df_all_trees = df_all_trees.append(total, ignore_index=True)\n",
    "    return df_all_trees\n",
    "\n",
    "\n",
    "\n",
    "df_sunburst = build_hierarchical_dataframe(df, 'dead', levels = ['land', 'region_wb'], color_columns=['dead', 'population_100k'])\n",
    "df_sunburst.loc[df_sunburst.value < 0, 'value'] = 0\n",
    "\n"
   ]
  },
  {
   "cell_type": "code",
   "execution_count": 498,
   "metadata": {},
   "outputs": [],
   "source": [
    "# df_sunburst2 = build_hierarchical_dataframe(df, 'dead', levels = ['land', 'region_wb'], color_columns=['dead', 'population_100k'])\n",
    "# df_sunburst2"
   ]
  },
  {
   "cell_type": "code",
   "execution_count": 499,
   "metadata": {},
   "outputs": [],
   "source": [
    "# df_sunburst.loc[df_sunburst.value < 0, 'value'] = 0\n",
    "# df_sunburst"
   ]
  },
  {
   "cell_type": "code",
   "execution_count": 500,
   "metadata": {},
   "outputs": [
    {
     "data": {
      "application/vnd.plotly.v1+json": {
       "config": {
        "plotlyServerURL": "https://plot.ly"
       },
       "data": [
        {
         "branchvalues": "total",
         "domain": {
          "x": [
           0,
           0.45
          ],
          "y": [
           0,
           1
          ]
         },
         "hovertemplate": "<b>%{label} </b> <br> Value: %{value}<br>Value per 100k: %{color:.0f}",
         "labels": [
          "Afghanistan",
          "Albania",
          "Algeria",
          "Andorra",
          "Angola",
          "Antigua and Barbuda",
          "Argentina",
          "Armenia",
          "Australia",
          "Austria",
          "Azerbaijan",
          "Bahamas",
          "Bahrain",
          "Bangladesh",
          "Barbados",
          "Belarus",
          "Belgium",
          "Belize",
          "Benin",
          "Bhutan",
          "Bolivia",
          "Bosnia and Herzegovina",
          "Botswana",
          "Brazil",
          "Brunei",
          "Bulgaria",
          "Burkina Faso",
          "Burma",
          "Burundi",
          "Cabo Verde",
          "Cambodia",
          "Cameroon",
          "Canada",
          "Central African Republic",
          "Chad",
          "Chile",
          "China",
          "Colombia",
          "Comoros",
          "Congo (Brazzaville)",
          "Congo (Kinshasa)",
          "Costa Rica",
          "Cote d'Ivoire",
          "Croatia",
          "Cuba",
          "Cyprus",
          "Czechia",
          "Denmark",
          "Djibouti",
          "Dominica",
          "Dominican Republic",
          "Ecuador",
          "Egypt",
          "El Salvador",
          "Equatorial Guinea",
          "Eritrea",
          "Estonia",
          "Eswatini",
          "Ethiopia",
          "Fiji",
          "Finland",
          "France",
          "Gabon",
          "Gambia",
          "Georgia",
          "Germany",
          "Ghana",
          "Greece",
          "Grenada",
          "Guatemala",
          "Guinea",
          "Guinea-Bissau",
          "Guyana",
          "Haiti",
          "Honduras",
          "Hong Kong",
          "Hungary",
          "Iceland",
          "India",
          "Indonesia",
          "Iran",
          "Iraq",
          "Ireland",
          "Israel",
          "Italy",
          "Jamaica",
          "Japan",
          "Jordan",
          "Kazakhstan",
          "Kenya",
          "Korea, South",
          "Kosovo",
          "Kuwait",
          "Kyrgyzstan",
          "Laos",
          "Latvia",
          "Lebanon",
          "Lesotho",
          "Liberia",
          "Libya",
          "Liechtenstein",
          "Lithuania",
          "Luxembourg",
          "Macau",
          "Madagascar",
          "Malawi",
          "Malaysia",
          "Maldives",
          "Mali",
          "Malta",
          "Mauritania",
          "Mauritius",
          "Mexico",
          "Moldova",
          "Monaco",
          "Mongolia",
          "Montenegro",
          "Morocco",
          "Mozambique",
          "Namibia",
          "Nepal",
          "Netherlands",
          "New Zealand",
          "Nicaragua",
          "Niger",
          "Nigeria",
          "North Macedonia",
          "Norway",
          "Oman",
          "Pakistan",
          "Panama",
          "Papua New Guinea",
          "Paraguay",
          "Peru",
          "Philippines",
          "Poland",
          "Portugal",
          "Qatar",
          "Romania",
          "Russia",
          "Rwanda",
          "Saint Kitts and Nevis",
          "Saint Lucia",
          "Saint Vincent and the Grenadines",
          "San Marino",
          "Sao Tome and Principe",
          "Saudi Arabia",
          "Senegal",
          "Serbia",
          "Seychelles",
          "Sierra Leone",
          "Singapore",
          "Slovakia",
          "Slovenia",
          "Somalia",
          "South Africa",
          "South Sudan",
          "Spain",
          "Sri Lanka",
          "Sudan",
          "Suriname",
          "Sweden",
          "Switzerland",
          "Syria",
          "Taiwan*",
          "Tajikistan",
          "Tanzania",
          "Thailand",
          "Timor-Leste",
          "Togo",
          "Trinidad and Tobago",
          "Tunisia",
          "Turkey",
          "US",
          "Uganda",
          "Ukraine",
          "United Arab Emirates",
          "United Kingdom",
          "Uruguay",
          "Uzbekistan",
          "Venezuela",
          "Vietnam",
          "West Bank and Gaza",
          "Yemen",
          "Zambia",
          "Zimbabwe",
          "East Asia & Pacific",
          "Europe & Central Asia",
          "European Union",
          "Latin America & Caribbean ",
          "Middle East & North Africa",
          "North America",
          "South Asia",
          "Sub-Saharan Africa ",
          "total"
         ],
         "marker": {
          "colorscale": [
           [
            0,
            "rgb(255,247,251)"
           ],
           [
            0.125,
            "rgb(236,231,242)"
           ],
           [
            0.25,
            "rgb(208,209,230)"
           ],
           [
            0.375,
            "rgb(166,189,219)"
           ],
           [
            0.5,
            "rgb(116,169,207)"
           ],
           [
            0.625,
            "rgb(54,144,192)"
           ],
           [
            0.75,
            "rgb(5,112,176)"
           ],
           [
            0.875,
            "rgb(4,90,141)"
           ],
           [
            1,
            "rgb(2,56,88)"
           ]
          ]
         },
         "name": "",
         "parents": [
          "South Asia",
          "Europe & Central Asia",
          "Middle East & North Africa",
          "Europe & Central Asia",
          "Sub-Saharan Africa ",
          "Latin America & Caribbean ",
          "Latin America & Caribbean ",
          "Europe & Central Asia",
          "East Asia & Pacific",
          "European Union",
          "Europe & Central Asia",
          "Latin America & Caribbean ",
          "Middle East & North Africa",
          "South Asia",
          "Latin America & Caribbean ",
          "Europe & Central Asia",
          "European Union",
          "Latin America & Caribbean ",
          "Sub-Saharan Africa ",
          "South Asia",
          "Latin America & Caribbean ",
          "Europe & Central Asia",
          "Sub-Saharan Africa ",
          "Latin America & Caribbean ",
          "East Asia & Pacific",
          "European Union",
          "Sub-Saharan Africa ",
          "East Asia & Pacific",
          "Sub-Saharan Africa ",
          "Sub-Saharan Africa ",
          "East Asia & Pacific",
          "Sub-Saharan Africa ",
          "North America",
          "Sub-Saharan Africa ",
          "Sub-Saharan Africa ",
          "Latin America & Caribbean ",
          "East Asia & Pacific",
          "Latin America & Caribbean ",
          "Sub-Saharan Africa ",
          "Sub-Saharan Africa ",
          "Sub-Saharan Africa ",
          "Latin America & Caribbean ",
          "Sub-Saharan Africa ",
          "European Union",
          "Latin America & Caribbean ",
          "European Union",
          "Europe & Central Asia",
          "European Union",
          "Middle East & North Africa",
          "Latin America & Caribbean ",
          "Latin America & Caribbean ",
          "Latin America & Caribbean ",
          "Middle East & North Africa",
          "Latin America & Caribbean ",
          "Sub-Saharan Africa ",
          "Sub-Saharan Africa ",
          "European Union",
          "Sub-Saharan Africa ",
          "Sub-Saharan Africa ",
          "East Asia & Pacific",
          "European Union",
          "European Union",
          "Sub-Saharan Africa ",
          "Sub-Saharan Africa ",
          "Europe & Central Asia",
          "European Union",
          "Sub-Saharan Africa ",
          "European Union",
          "Latin America & Caribbean ",
          "Latin America & Caribbean ",
          "Sub-Saharan Africa ",
          "Sub-Saharan Africa ",
          "Latin America & Caribbean ",
          "Latin America & Caribbean ",
          "Latin America & Caribbean ",
          "East Asia & Pacific",
          "European Union",
          "Europe & Central Asia",
          "South Asia",
          "East Asia & Pacific",
          "Middle East & North Africa",
          "Middle East & North Africa",
          "European Union",
          "Middle East & North Africa",
          "European Union",
          "Latin America & Caribbean ",
          "East Asia & Pacific",
          "Middle East & North Africa",
          "Europe & Central Asia",
          "Sub-Saharan Africa ",
          "East Asia & Pacific",
          "Europe & Central Asia",
          "Middle East & North Africa",
          "Europe & Central Asia",
          "East Asia & Pacific",
          "European Union",
          "Middle East & North Africa",
          "Sub-Saharan Africa ",
          "Sub-Saharan Africa ",
          "Middle East & North Africa",
          "Europe & Central Asia",
          "European Union",
          "European Union",
          "East Asia & Pacific",
          "Sub-Saharan Africa ",
          "Sub-Saharan Africa ",
          "East Asia & Pacific",
          "South Asia",
          "Sub-Saharan Africa ",
          "European Union",
          "Sub-Saharan Africa ",
          "Sub-Saharan Africa ",
          "Latin America & Caribbean ",
          "Europe & Central Asia",
          "Europe & Central Asia",
          "East Asia & Pacific",
          "Europe & Central Asia",
          "Middle East & North Africa",
          "Sub-Saharan Africa ",
          "Sub-Saharan Africa ",
          "South Asia",
          "European Union",
          "East Asia & Pacific",
          "Latin America & Caribbean ",
          "Sub-Saharan Africa ",
          "Sub-Saharan Africa ",
          "Europe & Central Asia",
          "Europe & Central Asia",
          "Middle East & North Africa",
          "South Asia",
          "Latin America & Caribbean ",
          "East Asia & Pacific",
          "Latin America & Caribbean ",
          "Latin America & Caribbean ",
          "East Asia & Pacific",
          "European Union",
          "European Union",
          "Middle East & North Africa",
          "European Union",
          "Europe & Central Asia",
          "Sub-Saharan Africa ",
          "Latin America & Caribbean ",
          "Latin America & Caribbean ",
          "Latin America & Caribbean ",
          "Europe & Central Asia",
          "Sub-Saharan Africa ",
          "Middle East & North Africa",
          "Sub-Saharan Africa ",
          "Europe & Central Asia",
          "Sub-Saharan Africa ",
          "Sub-Saharan Africa ",
          "East Asia & Pacific",
          "European Union",
          "European Union",
          "Sub-Saharan Africa ",
          "Sub-Saharan Africa ",
          "Sub-Saharan Africa ",
          "European Union",
          "South Asia",
          "Sub-Saharan Africa ",
          "Latin America & Caribbean ",
          "European Union",
          "Europe & Central Asia",
          "Middle East & North Africa",
          "East Asia & Pacific",
          "Europe & Central Asia",
          "Sub-Saharan Africa ",
          "East Asia & Pacific",
          "East Asia & Pacific",
          "Sub-Saharan Africa ",
          "Latin America & Caribbean ",
          "Middle East & North Africa",
          "Europe & Central Asia",
          "North America",
          "Sub-Saharan Africa ",
          "Europe & Central Asia",
          "Middle East & North Africa",
          "European Union",
          "Latin America & Caribbean ",
          "Europe & Central Asia",
          "Latin America & Caribbean ",
          "East Asia & Pacific",
          "Middle East & North Africa",
          "Middle East & North Africa",
          "Sub-Saharan Africa ",
          "Sub-Saharan Africa ",
          "total",
          "total",
          "total",
          "total",
          "total",
          "total",
          "total",
          "total",
          ""
         ],
         "type": "sunburst",
         "values": [
          168,
          31,
          542,
          51,
          2,
          3,
          363,
          55,
          98,
          629,
          36,
          11,
          12,
          314,
          7,
          160,
          9005,
          2,
          2,
          0,
          165,
          129,
          1,
          15662,
          1,
          105,
          51,
          6,
          1,
          3,
          0,
          140,
          5800,
          0,
          50,
          421,
          4634,
          562,
          1,
          15,
          61,
          10,
          25,
          95,
          79,
          17,
          296,
          543,
          4,
          0,
          428,
          2688,
          612,
          26,
          7,
          0,
          63,
          2,
          5,
          0,
          297,
          27483,
          11,
          1,
          12,
          7938,
          29,
          162,
          0,
          33,
          16,
          4,
          10,
          20,
          138,
          4,
          448,
          10,
          2871,
          1089,
          6937,
          121,
          1533,
          268,
          31763,
          9,
          725,
          9,
          34,
          50,
          262,
          29,
          107,
          14,
          0,
          19,
          26,
          0,
          20,
          3,
          1,
          55,
          104,
          0,
          0,
          3,
          113,
          4,
          48,
          6,
          4,
          10,
          5045,
          207,
          4,
          0,
          9,
          192,
          0,
          0,
          1,
          5670,
          21,
          8,
          51,
          176,
          98,
          232,
          21,
          834,
          269,
          0,
          11,
          2523,
          817,
          915,
          1203,
          15,
          1094,
          2537,
          0,
          0,
          0,
          0,
          41,
          7,
          302,
          25,
          228,
          0,
          29,
          22,
          28,
          103,
          55,
          261,
          4,
          27563,
          9,
          97,
          1,
          3674,
          1879,
          3,
          7,
          36,
          21,
          56,
          0,
          11,
          8,
          45,
          4096,
          88754,
          0,
          497,
          214,
          34466,
          19,
          11,
          10,
          0,
          2,
          18,
          7,
          4,
          7855,
          10733,
          154981,
          28531,
          9453,
          94554,
          4201,
          1310,
          311618
         ]
        },
        {
         "branchvalues": "total",
         "domain": {
          "x": [
           0.55,
           1
          ],
          "y": [
           0,
           1
          ]
         },
         "hovertemplate": "<b>%{label} </b> <br> Value: %{value}<br>Value per 100k: %{color:d}",
         "labels": [
          "Afghanistan",
          "Albania",
          "Algeria",
          "Andorra",
          "Angola",
          "Antigua and Barbuda",
          "Argentina",
          "Armenia",
          "Australia",
          "Austria",
          "Azerbaijan",
          "Bahamas",
          "Bahrain",
          "Bangladesh",
          "Barbados",
          "Belarus",
          "Belgium",
          "Belize",
          "Benin",
          "Bhutan",
          "Bolivia",
          "Bosnia and Herzegovina",
          "Botswana",
          "Brazil",
          "Brunei",
          "Bulgaria",
          "Burkina Faso",
          "Burma",
          "Burundi",
          "Cabo Verde",
          "Cambodia",
          "Cameroon",
          "Canada",
          "Central African Republic",
          "Chad",
          "Chile",
          "China",
          "Colombia",
          "Comoros",
          "Congo (Brazzaville)",
          "Congo (Kinshasa)",
          "Costa Rica",
          "Cote d'Ivoire",
          "Croatia",
          "Cuba",
          "Cyprus",
          "Czechia",
          "Denmark",
          "Djibouti",
          "Dominica",
          "Dominican Republic",
          "Ecuador",
          "Egypt",
          "El Salvador",
          "Equatorial Guinea",
          "Eritrea",
          "Estonia",
          "Eswatini",
          "Ethiopia",
          "Fiji",
          "Finland",
          "France",
          "Gabon",
          "Gambia",
          "Georgia",
          "Germany",
          "Ghana",
          "Greece",
          "Grenada",
          "Guatemala",
          "Guinea",
          "Guinea-Bissau",
          "Guyana",
          "Haiti",
          "Honduras",
          "Hong Kong",
          "Hungary",
          "Iceland",
          "India",
          "Indonesia",
          "Iran",
          "Iraq",
          "Ireland",
          "Israel",
          "Italy",
          "Jamaica",
          "Japan",
          "Jordan",
          "Kazakhstan",
          "Kenya",
          "Korea, South",
          "Kosovo",
          "Kuwait",
          "Kyrgyzstan",
          "Laos",
          "Latvia",
          "Lebanon",
          "Lesotho",
          "Liberia",
          "Libya",
          "Liechtenstein",
          "Lithuania",
          "Luxembourg",
          "Macau",
          "Madagascar",
          "Malawi",
          "Malaysia",
          "Maldives",
          "Mali",
          "Malta",
          "Mauritania",
          "Mauritius",
          "Mexico",
          "Moldova",
          "Monaco",
          "Mongolia",
          "Montenegro",
          "Morocco",
          "Mozambique",
          "Namibia",
          "Nepal",
          "Netherlands",
          "New Zealand",
          "Nicaragua",
          "Niger",
          "Nigeria",
          "North Macedonia",
          "Norway",
          "Oman",
          "Pakistan",
          "Panama",
          "Papua New Guinea",
          "Paraguay",
          "Peru",
          "Philippines",
          "Poland",
          "Portugal",
          "Qatar",
          "Romania",
          "Russia",
          "Rwanda",
          "Saint Kitts and Nevis",
          "Saint Lucia",
          "Saint Vincent and the Grenadines",
          "San Marino",
          "Sao Tome and Principe",
          "Saudi Arabia",
          "Senegal",
          "Serbia",
          "Seychelles",
          "Sierra Leone",
          "Singapore",
          "Slovakia",
          "Slovenia",
          "Somalia",
          "South Africa",
          "South Sudan",
          "Spain",
          "Sri Lanka",
          "Sudan",
          "Suriname",
          "Sweden",
          "Switzerland",
          "Syria",
          "Taiwan*",
          "Tajikistan",
          "Tanzania",
          "Thailand",
          "Timor-Leste",
          "Togo",
          "Trinidad and Tobago",
          "Tunisia",
          "Turkey",
          "US",
          "Uganda",
          "Ukraine",
          "United Arab Emirates",
          "United Kingdom",
          "Uruguay",
          "Uzbekistan",
          "Venezuela",
          "Vietnam",
          "West Bank and Gaza",
          "Yemen",
          "Zambia",
          "Zimbabwe",
          "East Asia & Pacific",
          "Europe & Central Asia",
          "European Union",
          "Latin America & Caribbean ",
          "Middle East & North Africa",
          "North America",
          "South Asia",
          "Sub-Saharan Africa ",
          "total"
         ],
         "marker": {
          "colorscale": [
           [
            0,
            "rgb(103,0,31)"
           ],
           [
            0.1,
            "rgb(178,24,43)"
           ],
           [
            0.2,
            "rgb(214,96,77)"
           ],
           [
            0.3,
            "rgb(244,165,130)"
           ],
           [
            0.4,
            "rgb(253,219,199)"
           ],
           [
            0.5,
            "rgb(247,247,247)"
           ],
           [
            0.6,
            "rgb(209,229,240)"
           ],
           [
            0.7,
            "rgb(146,197,222)"
           ],
           [
            0.8,
            "rgb(67,147,195)"
           ],
           [
            0.9,
            "rgb(33,102,172)"
           ],
           [
            1,
            "rgb(5,48,97)"
           ]
          ]
         },
         "maxdepth": 2,
         "parents": [
          "South Asia",
          "Europe & Central Asia",
          "Middle East & North Africa",
          "Europe & Central Asia",
          "Sub-Saharan Africa ",
          "Latin America & Caribbean ",
          "Latin America & Caribbean ",
          "Europe & Central Asia",
          "East Asia & Pacific",
          "European Union",
          "Europe & Central Asia",
          "Latin America & Caribbean ",
          "Middle East & North Africa",
          "South Asia",
          "Latin America & Caribbean ",
          "Europe & Central Asia",
          "European Union",
          "Latin America & Caribbean ",
          "Sub-Saharan Africa ",
          "South Asia",
          "Latin America & Caribbean ",
          "Europe & Central Asia",
          "Sub-Saharan Africa ",
          "Latin America & Caribbean ",
          "East Asia & Pacific",
          "European Union",
          "Sub-Saharan Africa ",
          "East Asia & Pacific",
          "Sub-Saharan Africa ",
          "Sub-Saharan Africa ",
          "East Asia & Pacific",
          "Sub-Saharan Africa ",
          "North America",
          "Sub-Saharan Africa ",
          "Sub-Saharan Africa ",
          "Latin America & Caribbean ",
          "East Asia & Pacific",
          "Latin America & Caribbean ",
          "Sub-Saharan Africa ",
          "Sub-Saharan Africa ",
          "Sub-Saharan Africa ",
          "Latin America & Caribbean ",
          "Sub-Saharan Africa ",
          "European Union",
          "Latin America & Caribbean ",
          "European Union",
          "Europe & Central Asia",
          "European Union",
          "Middle East & North Africa",
          "Latin America & Caribbean ",
          "Latin America & Caribbean ",
          "Latin America & Caribbean ",
          "Middle East & North Africa",
          "Latin America & Caribbean ",
          "Sub-Saharan Africa ",
          "Sub-Saharan Africa ",
          "European Union",
          "Sub-Saharan Africa ",
          "Sub-Saharan Africa ",
          "East Asia & Pacific",
          "European Union",
          "European Union",
          "Sub-Saharan Africa ",
          "Sub-Saharan Africa ",
          "Europe & Central Asia",
          "European Union",
          "Sub-Saharan Africa ",
          "European Union",
          "Latin America & Caribbean ",
          "Latin America & Caribbean ",
          "Sub-Saharan Africa ",
          "Sub-Saharan Africa ",
          "Latin America & Caribbean ",
          "Latin America & Caribbean ",
          "Latin America & Caribbean ",
          "East Asia & Pacific",
          "European Union",
          "Europe & Central Asia",
          "South Asia",
          "East Asia & Pacific",
          "Middle East & North Africa",
          "Middle East & North Africa",
          "European Union",
          "Middle East & North Africa",
          "European Union",
          "Latin America & Caribbean ",
          "East Asia & Pacific",
          "Middle East & North Africa",
          "Europe & Central Asia",
          "Sub-Saharan Africa ",
          "East Asia & Pacific",
          "Europe & Central Asia",
          "Middle East & North Africa",
          "Europe & Central Asia",
          "East Asia & Pacific",
          "European Union",
          "Middle East & North Africa",
          "Sub-Saharan Africa ",
          "Sub-Saharan Africa ",
          "Middle East & North Africa",
          "Europe & Central Asia",
          "European Union",
          "European Union",
          "East Asia & Pacific",
          "Sub-Saharan Africa ",
          "Sub-Saharan Africa ",
          "East Asia & Pacific",
          "South Asia",
          "Sub-Saharan Africa ",
          "European Union",
          "Sub-Saharan Africa ",
          "Sub-Saharan Africa ",
          "Latin America & Caribbean ",
          "Europe & Central Asia",
          "Europe & Central Asia",
          "East Asia & Pacific",
          "Europe & Central Asia",
          "Middle East & North Africa",
          "Sub-Saharan Africa ",
          "Sub-Saharan Africa ",
          "South Asia",
          "European Union",
          "East Asia & Pacific",
          "Latin America & Caribbean ",
          "Sub-Saharan Africa ",
          "Sub-Saharan Africa ",
          "Europe & Central Asia",
          "Europe & Central Asia",
          "Middle East & North Africa",
          "South Asia",
          "Latin America & Caribbean ",
          "East Asia & Pacific",
          "Latin America & Caribbean ",
          "Latin America & Caribbean ",
          "East Asia & Pacific",
          "European Union",
          "European Union",
          "Middle East & North Africa",
          "European Union",
          "Europe & Central Asia",
          "Sub-Saharan Africa ",
          "Latin America & Caribbean ",
          "Latin America & Caribbean ",
          "Latin America & Caribbean ",
          "Europe & Central Asia",
          "Sub-Saharan Africa ",
          "Middle East & North Africa",
          "Sub-Saharan Africa ",
          "Europe & Central Asia",
          "Sub-Saharan Africa ",
          "Sub-Saharan Africa ",
          "East Asia & Pacific",
          "European Union",
          "European Union",
          "Sub-Saharan Africa ",
          "Sub-Saharan Africa ",
          "Sub-Saharan Africa ",
          "European Union",
          "South Asia",
          "Sub-Saharan Africa ",
          "Latin America & Caribbean ",
          "European Union",
          "Europe & Central Asia",
          "Middle East & North Africa",
          "East Asia & Pacific",
          "Europe & Central Asia",
          "Sub-Saharan Africa ",
          "East Asia & Pacific",
          "East Asia & Pacific",
          "Sub-Saharan Africa ",
          "Latin America & Caribbean ",
          "Middle East & North Africa",
          "Europe & Central Asia",
          "North America",
          "Sub-Saharan Africa ",
          "Europe & Central Asia",
          "Middle East & North Africa",
          "European Union",
          "Latin America & Caribbean ",
          "Europe & Central Asia",
          "Latin America & Caribbean ",
          "East Asia & Pacific",
          "Middle East & North Africa",
          "Middle East & North Africa",
          "Sub-Saharan Africa ",
          "Sub-Saharan Africa ",
          "total",
          "total",
          "total",
          "total",
          "total",
          "total",
          "total",
          "total",
          ""
         ],
         "type": "sunburst",
         "values": [
          168,
          31,
          542,
          51,
          2,
          3,
          363,
          55,
          98,
          629,
          36,
          11,
          12,
          314,
          7,
          160,
          9005,
          2,
          2,
          0,
          165,
          129,
          1,
          15662,
          1,
          105,
          51,
          6,
          1,
          3,
          0,
          140,
          5800,
          0,
          50,
          421,
          4634,
          562,
          1,
          15,
          61,
          10,
          25,
          95,
          79,
          17,
          296,
          543,
          4,
          0,
          428,
          2688,
          612,
          26,
          7,
          0,
          63,
          2,
          5,
          0,
          297,
          27483,
          11,
          1,
          12,
          7938,
          29,
          162,
          0,
          33,
          16,
          4,
          10,
          20,
          138,
          4,
          448,
          10,
          2871,
          1089,
          6937,
          121,
          1533,
          268,
          31763,
          9,
          725,
          9,
          34,
          50,
          262,
          29,
          107,
          14,
          0,
          19,
          26,
          0,
          20,
          3,
          1,
          55,
          104,
          0,
          0,
          3,
          113,
          4,
          48,
          6,
          4,
          10,
          5045,
          207,
          4,
          0,
          9,
          192,
          0,
          0,
          1,
          5670,
          21,
          8,
          51,
          176,
          98,
          232,
          21,
          834,
          269,
          0,
          11,
          2523,
          817,
          915,
          1203,
          15,
          1094,
          2537,
          0,
          0,
          0,
          0,
          41,
          7,
          302,
          25,
          228,
          0,
          29,
          22,
          28,
          103,
          55,
          261,
          4,
          27563,
          9,
          97,
          1,
          3674,
          1879,
          3,
          7,
          36,
          21,
          56,
          0,
          11,
          8,
          45,
          4096,
          88754,
          0,
          497,
          214,
          34466,
          19,
          11,
          10,
          0,
          2,
          18,
          7,
          4,
          7855,
          10733,
          154981,
          28531,
          9453,
          94554,
          4201,
          1310,
          311618
         ]
        }
       ],
       "layout": {
        "autosize": true,
        "margin": {
         "b": 10,
         "l": 10,
         "r": 10,
         "t": 10
        },
        "template": {
         "data": {
          "bar": [
           {
            "error_x": {
             "color": "#2a3f5f"
            },
            "error_y": {
             "color": "#2a3f5f"
            },
            "marker": {
             "line": {
              "color": "#E5ECF6",
              "width": 0.5
             }
            },
            "type": "bar"
           }
          ],
          "barpolar": [
           {
            "marker": {
             "line": {
              "color": "#E5ECF6",
              "width": 0.5
             }
            },
            "type": "barpolar"
           }
          ],
          "carpet": [
           {
            "aaxis": {
             "endlinecolor": "#2a3f5f",
             "gridcolor": "white",
             "linecolor": "white",
             "minorgridcolor": "white",
             "startlinecolor": "#2a3f5f"
            },
            "baxis": {
             "endlinecolor": "#2a3f5f",
             "gridcolor": "white",
             "linecolor": "white",
             "minorgridcolor": "white",
             "startlinecolor": "#2a3f5f"
            },
            "type": "carpet"
           }
          ],
          "choropleth": [
           {
            "colorbar": {
             "outlinewidth": 0,
             "ticks": ""
            },
            "type": "choropleth"
           }
          ],
          "contour": [
           {
            "colorbar": {
             "outlinewidth": 0,
             "ticks": ""
            },
            "colorscale": [
             [
              0,
              "#0d0887"
             ],
             [
              0.1111111111111111,
              "#46039f"
             ],
             [
              0.2222222222222222,
              "#7201a8"
             ],
             [
              0.3333333333333333,
              "#9c179e"
             ],
             [
              0.4444444444444444,
              "#bd3786"
             ],
             [
              0.5555555555555556,
              "#d8576b"
             ],
             [
              0.6666666666666666,
              "#ed7953"
             ],
             [
              0.7777777777777778,
              "#fb9f3a"
             ],
             [
              0.8888888888888888,
              "#fdca26"
             ],
             [
              1,
              "#f0f921"
             ]
            ],
            "type": "contour"
           }
          ],
          "contourcarpet": [
           {
            "colorbar": {
             "outlinewidth": 0,
             "ticks": ""
            },
            "type": "contourcarpet"
           }
          ],
          "heatmap": [
           {
            "colorbar": {
             "outlinewidth": 0,
             "ticks": ""
            },
            "colorscale": [
             [
              0,
              "#0d0887"
             ],
             [
              0.1111111111111111,
              "#46039f"
             ],
             [
              0.2222222222222222,
              "#7201a8"
             ],
             [
              0.3333333333333333,
              "#9c179e"
             ],
             [
              0.4444444444444444,
              "#bd3786"
             ],
             [
              0.5555555555555556,
              "#d8576b"
             ],
             [
              0.6666666666666666,
              "#ed7953"
             ],
             [
              0.7777777777777778,
              "#fb9f3a"
             ],
             [
              0.8888888888888888,
              "#fdca26"
             ],
             [
              1,
              "#f0f921"
             ]
            ],
            "type": "heatmap"
           }
          ],
          "heatmapgl": [
           {
            "colorbar": {
             "outlinewidth": 0,
             "ticks": ""
            },
            "colorscale": [
             [
              0,
              "#0d0887"
             ],
             [
              0.1111111111111111,
              "#46039f"
             ],
             [
              0.2222222222222222,
              "#7201a8"
             ],
             [
              0.3333333333333333,
              "#9c179e"
             ],
             [
              0.4444444444444444,
              "#bd3786"
             ],
             [
              0.5555555555555556,
              "#d8576b"
             ],
             [
              0.6666666666666666,
              "#ed7953"
             ],
             [
              0.7777777777777778,
              "#fb9f3a"
             ],
             [
              0.8888888888888888,
              "#fdca26"
             ],
             [
              1,
              "#f0f921"
             ]
            ],
            "type": "heatmapgl"
           }
          ],
          "histogram": [
           {
            "marker": {
             "colorbar": {
              "outlinewidth": 0,
              "ticks": ""
             }
            },
            "type": "histogram"
           }
          ],
          "histogram2d": [
           {
            "colorbar": {
             "outlinewidth": 0,
             "ticks": ""
            },
            "colorscale": [
             [
              0,
              "#0d0887"
             ],
             [
              0.1111111111111111,
              "#46039f"
             ],
             [
              0.2222222222222222,
              "#7201a8"
             ],
             [
              0.3333333333333333,
              "#9c179e"
             ],
             [
              0.4444444444444444,
              "#bd3786"
             ],
             [
              0.5555555555555556,
              "#d8576b"
             ],
             [
              0.6666666666666666,
              "#ed7953"
             ],
             [
              0.7777777777777778,
              "#fb9f3a"
             ],
             [
              0.8888888888888888,
              "#fdca26"
             ],
             [
              1,
              "#f0f921"
             ]
            ],
            "type": "histogram2d"
           }
          ],
          "histogram2dcontour": [
           {
            "colorbar": {
             "outlinewidth": 0,
             "ticks": ""
            },
            "colorscale": [
             [
              0,
              "#0d0887"
             ],
             [
              0.1111111111111111,
              "#46039f"
             ],
             [
              0.2222222222222222,
              "#7201a8"
             ],
             [
              0.3333333333333333,
              "#9c179e"
             ],
             [
              0.4444444444444444,
              "#bd3786"
             ],
             [
              0.5555555555555556,
              "#d8576b"
             ],
             [
              0.6666666666666666,
              "#ed7953"
             ],
             [
              0.7777777777777778,
              "#fb9f3a"
             ],
             [
              0.8888888888888888,
              "#fdca26"
             ],
             [
              1,
              "#f0f921"
             ]
            ],
            "type": "histogram2dcontour"
           }
          ],
          "mesh3d": [
           {
            "colorbar": {
             "outlinewidth": 0,
             "ticks": ""
            },
            "type": "mesh3d"
           }
          ],
          "parcoords": [
           {
            "line": {
             "colorbar": {
              "outlinewidth": 0,
              "ticks": ""
             }
            },
            "type": "parcoords"
           }
          ],
          "pie": [
           {
            "automargin": true,
            "type": "pie"
           }
          ],
          "scatter": [
           {
            "marker": {
             "colorbar": {
              "outlinewidth": 0,
              "ticks": ""
             }
            },
            "type": "scatter"
           }
          ],
          "scatter3d": [
           {
            "line": {
             "colorbar": {
              "outlinewidth": 0,
              "ticks": ""
             }
            },
            "marker": {
             "colorbar": {
              "outlinewidth": 0,
              "ticks": ""
             }
            },
            "type": "scatter3d"
           }
          ],
          "scattercarpet": [
           {
            "marker": {
             "colorbar": {
              "outlinewidth": 0,
              "ticks": ""
             }
            },
            "type": "scattercarpet"
           }
          ],
          "scattergeo": [
           {
            "marker": {
             "colorbar": {
              "outlinewidth": 0,
              "ticks": ""
             }
            },
            "type": "scattergeo"
           }
          ],
          "scattergl": [
           {
            "marker": {
             "colorbar": {
              "outlinewidth": 0,
              "ticks": ""
             }
            },
            "type": "scattergl"
           }
          ],
          "scattermapbox": [
           {
            "marker": {
             "colorbar": {
              "outlinewidth": 0,
              "ticks": ""
             }
            },
            "type": "scattermapbox"
           }
          ],
          "scatterpolar": [
           {
            "marker": {
             "colorbar": {
              "outlinewidth": 0,
              "ticks": ""
             }
            },
            "type": "scatterpolar"
           }
          ],
          "scatterpolargl": [
           {
            "marker": {
             "colorbar": {
              "outlinewidth": 0,
              "ticks": ""
             }
            },
            "type": "scatterpolargl"
           }
          ],
          "scatterternary": [
           {
            "marker": {
             "colorbar": {
              "outlinewidth": 0,
              "ticks": ""
             }
            },
            "type": "scatterternary"
           }
          ],
          "surface": [
           {
            "colorbar": {
             "outlinewidth": 0,
             "ticks": ""
            },
            "colorscale": [
             [
              0,
              "#0d0887"
             ],
             [
              0.1111111111111111,
              "#46039f"
             ],
             [
              0.2222222222222222,
              "#7201a8"
             ],
             [
              0.3333333333333333,
              "#9c179e"
             ],
             [
              0.4444444444444444,
              "#bd3786"
             ],
             [
              0.5555555555555556,
              "#d8576b"
             ],
             [
              0.6666666666666666,
              "#ed7953"
             ],
             [
              0.7777777777777778,
              "#fb9f3a"
             ],
             [
              0.8888888888888888,
              "#fdca26"
             ],
             [
              1,
              "#f0f921"
             ]
            ],
            "type": "surface"
           }
          ],
          "table": [
           {
            "cells": {
             "fill": {
              "color": "#EBF0F8"
             },
             "line": {
              "color": "white"
             }
            },
            "header": {
             "fill": {
              "color": "#C8D4E3"
             },
             "line": {
              "color": "white"
             }
            },
            "type": "table"
           }
          ]
         },
         "layout": {
          "annotationdefaults": {
           "arrowcolor": "#2a3f5f",
           "arrowhead": 0,
           "arrowwidth": 1
          },
          "coloraxis": {
           "colorbar": {
            "outlinewidth": 0,
            "ticks": ""
           }
          },
          "colorscale": {
           "diverging": [
            [
             0,
             "#8e0152"
            ],
            [
             0.1,
             "#c51b7d"
            ],
            [
             0.2,
             "#de77ae"
            ],
            [
             0.3,
             "#f1b6da"
            ],
            [
             0.4,
             "#fde0ef"
            ],
            [
             0.5,
             "#f7f7f7"
            ],
            [
             0.6,
             "#e6f5d0"
            ],
            [
             0.7,
             "#b8e186"
            ],
            [
             0.8,
             "#7fbc41"
            ],
            [
             0.9,
             "#4d9221"
            ],
            [
             1,
             "#276419"
            ]
           ],
           "sequential": [
            [
             0,
             "#0d0887"
            ],
            [
             0.1111111111111111,
             "#46039f"
            ],
            [
             0.2222222222222222,
             "#7201a8"
            ],
            [
             0.3333333333333333,
             "#9c179e"
            ],
            [
             0.4444444444444444,
             "#bd3786"
            ],
            [
             0.5555555555555556,
             "#d8576b"
            ],
            [
             0.6666666666666666,
             "#ed7953"
            ],
            [
             0.7777777777777778,
             "#fb9f3a"
            ],
            [
             0.8888888888888888,
             "#fdca26"
            ],
            [
             1,
             "#f0f921"
            ]
           ],
           "sequentialminus": [
            [
             0,
             "#0d0887"
            ],
            [
             0.1111111111111111,
             "#46039f"
            ],
            [
             0.2222222222222222,
             "#7201a8"
            ],
            [
             0.3333333333333333,
             "#9c179e"
            ],
            [
             0.4444444444444444,
             "#bd3786"
            ],
            [
             0.5555555555555556,
             "#d8576b"
            ],
            [
             0.6666666666666666,
             "#ed7953"
            ],
            [
             0.7777777777777778,
             "#fb9f3a"
            ],
            [
             0.8888888888888888,
             "#fdca26"
            ],
            [
             1,
             "#f0f921"
            ]
           ]
          },
          "colorway": [
           "#636efa",
           "#EF553B",
           "#00cc96",
           "#ab63fa",
           "#FFA15A",
           "#19d3f3",
           "#FF6692",
           "#B6E880",
           "#FF97FF",
           "#FECB52"
          ],
          "font": {
           "color": "#2a3f5f"
          },
          "geo": {
           "bgcolor": "white",
           "lakecolor": "white",
           "landcolor": "#E5ECF6",
           "showlakes": true,
           "showland": true,
           "subunitcolor": "white"
          },
          "hoverlabel": {
           "align": "left"
          },
          "hovermode": "closest",
          "mapbox": {
           "style": "light"
          },
          "paper_bgcolor": "white",
          "plot_bgcolor": "#E5ECF6",
          "polar": {
           "angularaxis": {
            "gridcolor": "white",
            "linecolor": "white",
            "ticks": ""
           },
           "bgcolor": "#E5ECF6",
           "radialaxis": {
            "gridcolor": "white",
            "linecolor": "white",
            "ticks": ""
           }
          },
          "scene": {
           "xaxis": {
            "backgroundcolor": "#E5ECF6",
            "gridcolor": "white",
            "gridwidth": 2,
            "linecolor": "white",
            "showbackground": true,
            "ticks": "",
            "zerolinecolor": "white"
           },
           "yaxis": {
            "backgroundcolor": "#E5ECF6",
            "gridcolor": "white",
            "gridwidth": 2,
            "linecolor": "white",
            "showbackground": true,
            "ticks": "",
            "zerolinecolor": "white"
           },
           "zaxis": {
            "backgroundcolor": "#E5ECF6",
            "gridcolor": "white",
            "gridwidth": 2,
            "linecolor": "white",
            "showbackground": true,
            "ticks": "",
            "zerolinecolor": "white"
           }
          },
          "shapedefaults": {
           "line": {
            "color": "#2a3f5f"
           }
          },
          "ternary": {
           "aaxis": {
            "gridcolor": "white",
            "linecolor": "white",
            "ticks": ""
           },
           "baxis": {
            "gridcolor": "white",
            "linecolor": "white",
            "ticks": ""
           },
           "bgcolor": "#E5ECF6",
           "caxis": {
            "gridcolor": "white",
            "linecolor": "white",
            "ticks": ""
           }
          },
          "title": {
           "x": 0.05
          },
          "xaxis": {
           "automargin": true,
           "gridcolor": "white",
           "linecolor": "white",
           "ticks": "",
           "title": {
            "standoff": 15
           },
           "zerolinecolor": "white",
           "zerolinewidth": 2
          },
          "yaxis": {
           "automargin": true,
           "gridcolor": "white",
           "linecolor": "white",
           "ticks": "",
           "title": {
            "standoff": 15
           },
           "zerolinecolor": "white",
           "zerolinewidth": 2
          }
         }
        }
       }
      },
      "image/png": "[encoded data removed]",
      "text/html": [
       "<div>\n",
       "        \n",
       "        \n",
       "            <div id=\"eb4840a7-3a97-4096-b2dc-95cd33d4677b\" class=\"plotly-graph-div\" style=\"height:525px; width:100%;\"></div>\n",
       "            <script type=\"text/javascript\">\n",
       "                require([\"plotly\"], function(Plotly) {\n",
       "                    window.PLOTLYENV=window.PLOTLYENV || {};\n",
       "                    \n",
       "                if (document.getElementById(\"eb4840a7-3a97-4096-b2dc-95cd33d4677b\")) {\n",
       "                    Plotly.newPlot(\n",
       "                        'eb4840a7-3a97-4096-b2dc-95cd33d4677b',\n",
       "                        [{\"branchvalues\": \"total\", \"domain\": {\"x\": [0.0, 0.45], \"y\": [0.0, 1.0]}, \"hovertemplate\": \"<b>%{label} </b> <br> Value: %{value}<br>Value per 100k: %{color:.0f}\", \"labels\": [\"Afghanistan\", \"Albania\", \"Algeria\", \"Andorra\", \"Angola\", \"Antigua and Barbuda\", \"Argentina\", \"Armenia\", \"Australia\", \"Austria\", \"Azerbaijan\", \"Bahamas\", \"Bahrain\", \"Bangladesh\", \"Barbados\", \"Belarus\", \"Belgium\", \"Belize\", \"Benin\", \"Bhutan\", \"Bolivia\", \"Bosnia and Herzegovina\", \"Botswana\", \"Brazil\", \"Brunei\", \"Bulgaria\", \"Burkina Faso\", \"Burma\", \"Burundi\", \"Cabo Verde\", \"Cambodia\", \"Cameroon\", \"Canada\", \"Central African Republic\", \"Chad\", \"Chile\", \"China\", \"Colombia\", \"Comoros\", \"Congo (Brazzaville)\", \"Congo (Kinshasa)\", \"Costa Rica\", \"Cote d'Ivoire\", \"Croatia\", \"Cuba\", \"Cyprus\", \"Czechia\", \"Denmark\", \"Djibouti\", \"Dominica\", \"Dominican Republic\", \"Ecuador\", \"Egypt\", \"El Salvador\", \"Equatorial Guinea\", \"Eritrea\", \"Estonia\", \"Eswatini\", \"Ethiopia\", \"Fiji\", \"Finland\", \"France\", \"Gabon\", \"Gambia\", \"Georgia\", \"Germany\", \"Ghana\", \"Greece\", \"Grenada\", \"Guatemala\", \"Guinea\", \"Guinea-Bissau\", \"Guyana\", \"Haiti\", \"Honduras\", \"Hong Kong\", \"Hungary\", \"Iceland\", \"India\", \"Indonesia\", \"Iran\", \"Iraq\", \"Ireland\", \"Israel\", \"Italy\", \"Jamaica\", \"Japan\", \"Jordan\", \"Kazakhstan\", \"Kenya\", \"Korea, South\", \"Kosovo\", \"Kuwait\", \"Kyrgyzstan\", \"Laos\", \"Latvia\", \"Lebanon\", \"Lesotho\", \"Liberia\", \"Libya\", \"Liechtenstein\", \"Lithuania\", \"Luxembourg\", \"Macau\", \"Madagascar\", \"Malawi\", \"Malaysia\", \"Maldives\", \"Mali\", \"Malta\", \"Mauritania\", \"Mauritius\", \"Mexico\", \"Moldova\", \"Monaco\", \"Mongolia\", \"Montenegro\", \"Morocco\", \"Mozambique\", \"Namibia\", \"Nepal\", \"Netherlands\", \"New Zealand\", \"Nicaragua\", \"Niger\", \"Nigeria\", \"North Macedonia\", \"Norway\", \"Oman\", \"Pakistan\", \"Panama\", \"Papua New Guinea\", \"Paraguay\", \"Peru\", \"Philippines\", \"Poland\", \"Portugal\", \"Qatar\", \"Romania\", \"Russia\", \"Rwanda\", \"Saint Kitts and Nevis\", \"Saint Lucia\", \"Saint Vincent and the Grenadines\", \"San Marino\", \"Sao Tome and Principe\", \"Saudi Arabia\", \"Senegal\", \"Serbia\", \"Seychelles\", \"Sierra Leone\", \"Singapore\", \"Slovakia\", \"Slovenia\", \"Somalia\", \"South Africa\", \"South Sudan\", \"Spain\", \"Sri Lanka\", \"Sudan\", \"Suriname\", \"Sweden\", \"Switzerland\", \"Syria\", \"Taiwan*\", \"Tajikistan\", \"Tanzania\", \"Thailand\", \"Timor-Leste\", \"Togo\", \"Trinidad and Tobago\", \"Tunisia\", \"Turkey\", \"US\", \"Uganda\", \"Ukraine\", \"United Arab Emirates\", \"United Kingdom\", \"Uruguay\", \"Uzbekistan\", \"Venezuela\", \"Vietnam\", \"West Bank and Gaza\", \"Yemen\", \"Zambia\", \"Zimbabwe\", \"East Asia & Pacific\", \"Europe & Central Asia\", \"European Union\", \"Latin America & Caribbean \", \"Middle East & North Africa\", \"North America\", \"South Asia\", \"Sub-Saharan Africa \", \"total\"], \"marker\": {\"colorscale\": [[0.0, \"rgb(255,247,251)\"], [0.125, \"rgb(236,231,242)\"], [0.25, \"rgb(208,209,230)\"], [0.375, \"rgb(166,189,219)\"], [0.5, \"rgb(116,169,207)\"], [0.625, \"rgb(54,144,192)\"], [0.75, \"rgb(5,112,176)\"], [0.875, \"rgb(4,90,141)\"], [1.0, \"rgb(2,56,88)\"]]}, \"name\": \"\", \"parents\": [\"South Asia\", \"Europe & Central Asia\", \"Middle East & North Africa\", \"Europe & Central Asia\", \"Sub-Saharan Africa \", \"Latin America & Caribbean \", \"Latin America & Caribbean \", \"Europe & Central Asia\", \"East Asia & Pacific\", \"European Union\", \"Europe & Central Asia\", \"Latin America & Caribbean \", \"Middle East & North Africa\", \"South Asia\", \"Latin America & Caribbean \", \"Europe & Central Asia\", \"European Union\", \"Latin America & Caribbean \", \"Sub-Saharan Africa \", \"South Asia\", \"Latin America & Caribbean \", \"Europe & Central Asia\", \"Sub-Saharan Africa \", \"Latin America & Caribbean \", \"East Asia & Pacific\", \"European Union\", \"Sub-Saharan Africa \", \"East Asia & Pacific\", \"Sub-Saharan Africa \", \"Sub-Saharan Africa \", \"East Asia & Pacific\", \"Sub-Saharan Africa \", \"North America\", \"Sub-Saharan Africa \", \"Sub-Saharan Africa \", \"Latin America & Caribbean \", \"East Asia & Pacific\", \"Latin America & Caribbean \", \"Sub-Saharan Africa \", \"Sub-Saharan Africa \", \"Sub-Saharan Africa \", \"Latin America & Caribbean \", \"Sub-Saharan Africa \", \"European Union\", \"Latin America & Caribbean \", \"European Union\", \"Europe & Central Asia\", \"European Union\", \"Middle East & North Africa\", \"Latin America & Caribbean \", \"Latin America & Caribbean \", \"Latin America & Caribbean \", \"Middle East & North Africa\", \"Latin America & Caribbean \", \"Sub-Saharan Africa \", \"Sub-Saharan Africa \", \"European Union\", \"Sub-Saharan Africa \", \"Sub-Saharan Africa \", \"East Asia & Pacific\", \"European Union\", \"European Union\", \"Sub-Saharan Africa \", \"Sub-Saharan Africa \", \"Europe & Central Asia\", \"European Union\", \"Sub-Saharan Africa \", \"European Union\", \"Latin America & Caribbean \", \"Latin America & Caribbean \", \"Sub-Saharan Africa \", \"Sub-Saharan Africa \", \"Latin America & Caribbean \", \"Latin America & Caribbean \", \"Latin America & Caribbean \", \"East Asia & Pacific\", \"European Union\", \"Europe & Central Asia\", \"South Asia\", \"East Asia & Pacific\", \"Middle East & North Africa\", \"Middle East & North Africa\", \"European Union\", \"Middle East & North Africa\", \"European Union\", \"Latin America & Caribbean \", \"East Asia & Pacific\", \"Middle East & North Africa\", \"Europe & Central Asia\", \"Sub-Saharan Africa \", \"East Asia & Pacific\", \"Europe & Central Asia\", \"Middle East & North Africa\", \"Europe & Central Asia\", \"East Asia & Pacific\", \"European Union\", \"Middle East & North Africa\", \"Sub-Saharan Africa \", \"Sub-Saharan Africa \", \"Middle East & North Africa\", \"Europe & Central Asia\", \"European Union\", \"European Union\", \"East Asia & Pacific\", \"Sub-Saharan Africa \", \"Sub-Saharan Africa \", \"East Asia & Pacific\", \"South Asia\", \"Sub-Saharan Africa \", \"European Union\", \"Sub-Saharan Africa \", \"Sub-Saharan Africa \", \"Latin America & Caribbean \", \"Europe & Central Asia\", \"Europe & Central Asia\", \"East Asia & Pacific\", \"Europe & Central Asia\", \"Middle East & North Africa\", \"Sub-Saharan Africa \", \"Sub-Saharan Africa \", \"South Asia\", \"European Union\", \"East Asia & Pacific\", \"Latin America & Caribbean \", \"Sub-Saharan Africa \", \"Sub-Saharan Africa \", \"Europe & Central Asia\", \"Europe & Central Asia\", \"Middle East & North Africa\", \"South Asia\", \"Latin America & Caribbean \", \"East Asia & Pacific\", \"Latin America & Caribbean \", \"Latin America & Caribbean \", \"East Asia & Pacific\", \"European Union\", \"European Union\", \"Middle East & North Africa\", \"European Union\", \"Europe & Central Asia\", \"Sub-Saharan Africa \", \"Latin America & Caribbean \", \"Latin America & Caribbean \", \"Latin America & Caribbean \", \"Europe & Central Asia\", \"Sub-Saharan Africa \", \"Middle East & North Africa\", \"Sub-Saharan Africa \", \"Europe & Central Asia\", \"Sub-Saharan Africa \", \"Sub-Saharan Africa \", \"East Asia & Pacific\", \"European Union\", \"European Union\", \"Sub-Saharan Africa \", \"Sub-Saharan Africa \", \"Sub-Saharan Africa \", \"European Union\", \"South Asia\", \"Sub-Saharan Africa \", \"Latin America & Caribbean \", \"European Union\", \"Europe & Central Asia\", \"Middle East & North Africa\", \"East Asia & Pacific\", \"Europe & Central Asia\", \"Sub-Saharan Africa \", \"East Asia & Pacific\", \"East Asia & Pacific\", \"Sub-Saharan Africa \", \"Latin America & Caribbean \", \"Middle East & North Africa\", \"Europe & Central Asia\", \"North America\", \"Sub-Saharan Africa \", \"Europe & Central Asia\", \"Middle East & North Africa\", \"European Union\", \"Latin America & Caribbean \", \"Europe & Central Asia\", \"Latin America & Caribbean \", \"East Asia & Pacific\", \"Middle East & North Africa\", \"Middle East & North Africa\", \"Sub-Saharan Africa \", \"Sub-Saharan Africa \", \"total\", \"total\", \"total\", \"total\", \"total\", \"total\", \"total\", \"total\", \"\"], \"type\": \"sunburst\", \"values\": [168.0, 31.0, 542.0, 51.0, 2.0, 3.0, 363.0, 55.0, 98.0, 629.0, 36.0, 11.0, 12.0, 314.0, 7.0, 160.0, 9005.0, 2.0, 2.0, 0.0, 165.0, 129.0, 1.0, 15662.0, 1.0, 105.0, 51.0, 6.0, 1.0, 3.0, 0.0, 140.0, 5800.0, 0.0, 50.0, 421.0, 4634.0, 562.0, 1.0, 15.0, 61.0, 10.0, 25.0, 95.0, 79.0, 17.0, 296.0, 543.0, 4.0, 0.0, 428.0, 2688.0, 612.0, 26.0, 7.0, 0.0, 63.0, 2.0, 5.0, 0.0, 297.0, 27483.0, 11.0, 1.0, 12.0, 7938.0, 29.0, 162.0, 0.0, 33.0, 16.0, 4.0, 10.0, 20.0, 138.0, 4.0, 448.0, 10.0, 2871.0, 1089.0, 6937.0, 121.0, 1533.0, 268.0, 31763.0, 9.0, 725.0, 9.0, 34.0, 50.0, 262.0, 29.0, 107.0, 14.0, 0.0, 19.0, 26.0, 0.0, 20.0, 3.0, 1.0, 55.0, 104.0, 0.0, 0.0, 3.0, 113.0, 4.0, 48.0, 6.0, 4.0, 10.0, 5045.0, 207.0, 4.0, 0.0, 9.0, 192.0, 0.0, 0.0, 1.0, 5670.0, 21.0, 8.0, 51.0, 176.0, 98.0, 232.0, 21.0, 834.0, 269.0, 0.0, 11.0, 2523.0, 817.0, 915.0, 1203.0, 15.0, 1094.0, 2537.0, 0.0, 0.0, 0.0, 0.0, 41.0, 7.0, 302.0, 25.0, 228.0, 0.0, 29.0, 22.0, 28.0, 103.0, 55.0, 261.0, 4.0, 27563.0, 9.0, 97.0, 1.0, 3674.0, 1879.0, 3.0, 7.0, 36.0, 21.0, 56.0, 0.0, 11.0, 8.0, 45.0, 4096.0, 88754.0, 0.0, 497.0, 214.0, 34466.0, 19.0, 11.0, 10.0, 0.0, 2.0, 18.0, 7.0, 4.0, 7855.0, 10733.0, 154981.0, 28531.0, 9453.0, 94554.0, 4201.0, 1310.0, 311618.0]}, {\"branchvalues\": \"total\", \"domain\": {\"x\": [0.55, 1.0], \"y\": [0.0, 1.0]}, \"hovertemplate\": \"<b>%{label} </b> <br> Value: %{value}<br>Value per 100k: %{color:d}\", \"labels\": [\"Afghanistan\", \"Albania\", \"Algeria\", \"Andorra\", \"Angola\", \"Antigua and Barbuda\", \"Argentina\", \"Armenia\", \"Australia\", \"Austria\", \"Azerbaijan\", \"Bahamas\", \"Bahrain\", \"Bangladesh\", \"Barbados\", \"Belarus\", \"Belgium\", \"Belize\", \"Benin\", \"Bhutan\", \"Bolivia\", \"Bosnia and Herzegovina\", \"Botswana\", \"Brazil\", \"Brunei\", \"Bulgaria\", \"Burkina Faso\", \"Burma\", \"Burundi\", \"Cabo Verde\", \"Cambodia\", \"Cameroon\", \"Canada\", \"Central African Republic\", \"Chad\", \"Chile\", \"China\", \"Colombia\", \"Comoros\", \"Congo (Brazzaville)\", \"Congo (Kinshasa)\", \"Costa Rica\", \"Cote d'Ivoire\", \"Croatia\", \"Cuba\", \"Cyprus\", \"Czechia\", \"Denmark\", \"Djibouti\", \"Dominica\", \"Dominican Republic\", \"Ecuador\", \"Egypt\", \"El Salvador\", \"Equatorial Guinea\", \"Eritrea\", \"Estonia\", \"Eswatini\", \"Ethiopia\", \"Fiji\", \"Finland\", \"France\", \"Gabon\", \"Gambia\", \"Georgia\", \"Germany\", \"Ghana\", \"Greece\", \"Grenada\", \"Guatemala\", \"Guinea\", \"Guinea-Bissau\", \"Guyana\", \"Haiti\", \"Honduras\", \"Hong Kong\", \"Hungary\", \"Iceland\", \"India\", \"Indonesia\", \"Iran\", \"Iraq\", \"Ireland\", \"Israel\", \"Italy\", \"Jamaica\", \"Japan\", \"Jordan\", \"Kazakhstan\", \"Kenya\", \"Korea, South\", \"Kosovo\", \"Kuwait\", \"Kyrgyzstan\", \"Laos\", \"Latvia\", \"Lebanon\", \"Lesotho\", \"Liberia\", \"Libya\", \"Liechtenstein\", \"Lithuania\", \"Luxembourg\", \"Macau\", \"Madagascar\", \"Malawi\", \"Malaysia\", \"Maldives\", \"Mali\", \"Malta\", \"Mauritania\", \"Mauritius\", \"Mexico\", \"Moldova\", \"Monaco\", \"Mongolia\", \"Montenegro\", \"Morocco\", \"Mozambique\", \"Namibia\", \"Nepal\", \"Netherlands\", \"New Zealand\", \"Nicaragua\", \"Niger\", \"Nigeria\", \"North Macedonia\", \"Norway\", \"Oman\", \"Pakistan\", \"Panama\", \"Papua New Guinea\", \"Paraguay\", \"Peru\", \"Philippines\", \"Poland\", \"Portugal\", \"Qatar\", \"Romania\", \"Russia\", \"Rwanda\", \"Saint Kitts and Nevis\", \"Saint Lucia\", \"Saint Vincent and the Grenadines\", \"San Marino\", \"Sao Tome and Principe\", \"Saudi Arabia\", \"Senegal\", \"Serbia\", \"Seychelles\", \"Sierra Leone\", \"Singapore\", \"Slovakia\", \"Slovenia\", \"Somalia\", \"South Africa\", \"South Sudan\", \"Spain\", \"Sri Lanka\", \"Sudan\", \"Suriname\", \"Sweden\", \"Switzerland\", \"Syria\", \"Taiwan*\", \"Tajikistan\", \"Tanzania\", \"Thailand\", \"Timor-Leste\", \"Togo\", \"Trinidad and Tobago\", \"Tunisia\", \"Turkey\", \"US\", \"Uganda\", \"Ukraine\", \"United Arab Emirates\", \"United Kingdom\", \"Uruguay\", \"Uzbekistan\", \"Venezuela\", \"Vietnam\", \"West Bank and Gaza\", \"Yemen\", \"Zambia\", \"Zimbabwe\", \"East Asia & Pacific\", \"Europe & Central Asia\", \"European Union\", \"Latin America & Caribbean \", \"Middle East & North Africa\", \"North America\", \"South Asia\", \"Sub-Saharan Africa \", \"total\"], \"marker\": {\"colorscale\": [[0.0, \"rgb(103,0,31)\"], [0.1, \"rgb(178,24,43)\"], [0.2, \"rgb(214,96,77)\"], [0.3, \"rgb(244,165,130)\"], [0.4, \"rgb(253,219,199)\"], [0.5, \"rgb(247,247,247)\"], [0.6, \"rgb(209,229,240)\"], [0.7, \"rgb(146,197,222)\"], [0.8, \"rgb(67,147,195)\"], [0.9, \"rgb(33,102,172)\"], [1.0, \"rgb(5,48,97)\"]]}, \"maxdepth\": 2, \"parents\": [\"South Asia\", \"Europe & Central Asia\", \"Middle East & North Africa\", \"Europe & Central Asia\", \"Sub-Saharan Africa \", \"Latin America & Caribbean \", \"Latin America & Caribbean \", \"Europe & Central Asia\", \"East Asia & Pacific\", \"European Union\", \"Europe & Central Asia\", \"Latin America & Caribbean \", \"Middle East & North Africa\", \"South Asia\", \"Latin America & Caribbean \", \"Europe & Central Asia\", \"European Union\", \"Latin America & Caribbean \", \"Sub-Saharan Africa \", \"South Asia\", \"Latin America & Caribbean \", \"Europe & Central Asia\", \"Sub-Saharan Africa \", \"Latin America & Caribbean \", \"East Asia & Pacific\", \"European Union\", \"Sub-Saharan Africa \", \"East Asia & Pacific\", \"Sub-Saharan Africa \", \"Sub-Saharan Africa \", \"East Asia & Pacific\", \"Sub-Saharan Africa \", \"North America\", \"Sub-Saharan Africa \", \"Sub-Saharan Africa \", \"Latin America & Caribbean \", \"East Asia & Pacific\", \"Latin America & Caribbean \", \"Sub-Saharan Africa \", \"Sub-Saharan Africa \", \"Sub-Saharan Africa \", \"Latin America & Caribbean \", \"Sub-Saharan Africa \", \"European Union\", \"Latin America & Caribbean \", \"European Union\", \"Europe & Central Asia\", \"European Union\", \"Middle East & North Africa\", \"Latin America & Caribbean \", \"Latin America & Caribbean \", \"Latin America & Caribbean \", \"Middle East & North Africa\", \"Latin America & Caribbean \", \"Sub-Saharan Africa \", \"Sub-Saharan Africa \", \"European Union\", \"Sub-Saharan Africa \", \"Sub-Saharan Africa \", \"East Asia & Pacific\", \"European Union\", \"European Union\", \"Sub-Saharan Africa \", \"Sub-Saharan Africa \", \"Europe & Central Asia\", \"European Union\", \"Sub-Saharan Africa \", \"European Union\", \"Latin America & Caribbean \", \"Latin America & Caribbean \", \"Sub-Saharan Africa \", \"Sub-Saharan Africa \", \"Latin America & Caribbean \", \"Latin America & Caribbean \", \"Latin America & Caribbean \", \"East Asia & Pacific\", \"European Union\", \"Europe & Central Asia\", \"South Asia\", \"East Asia & Pacific\", \"Middle East & North Africa\", \"Middle East & North Africa\", \"European Union\", \"Middle East & North Africa\", \"European Union\", \"Latin America & Caribbean \", \"East Asia & Pacific\", \"Middle East & North Africa\", \"Europe & Central Asia\", \"Sub-Saharan Africa \", \"East Asia & Pacific\", \"Europe & Central Asia\", \"Middle East & North Africa\", \"Europe & Central Asia\", \"East Asia & Pacific\", \"European Union\", \"Middle East & North Africa\", \"Sub-Saharan Africa \", \"Sub-Saharan Africa \", \"Middle East & North Africa\", \"Europe & Central Asia\", \"European Union\", \"European Union\", \"East Asia & Pacific\", \"Sub-Saharan Africa \", \"Sub-Saharan Africa \", \"East Asia & Pacific\", \"South Asia\", \"Sub-Saharan Africa \", \"European Union\", \"Sub-Saharan Africa \", \"Sub-Saharan Africa \", \"Latin America & Caribbean \", \"Europe & Central Asia\", \"Europe & Central Asia\", \"East Asia & Pacific\", \"Europe & Central Asia\", \"Middle East & North Africa\", \"Sub-Saharan Africa \", \"Sub-Saharan Africa \", \"South Asia\", \"European Union\", \"East Asia & Pacific\", \"Latin America & Caribbean \", \"Sub-Saharan Africa \", \"Sub-Saharan Africa \", \"Europe & Central Asia\", \"Europe & Central Asia\", \"Middle East & North Africa\", \"South Asia\", \"Latin America & Caribbean \", \"East Asia & Pacific\", \"Latin America & Caribbean \", \"Latin America & Caribbean \", \"East Asia & Pacific\", \"European Union\", \"European Union\", \"Middle East & North Africa\", \"European Union\", \"Europe & Central Asia\", \"Sub-Saharan Africa \", \"Latin America & Caribbean \", \"Latin America & Caribbean \", \"Latin America & Caribbean \", \"Europe & Central Asia\", \"Sub-Saharan Africa \", \"Middle East & North Africa\", \"Sub-Saharan Africa \", \"Europe & Central Asia\", \"Sub-Saharan Africa \", \"Sub-Saharan Africa \", \"East Asia & Pacific\", \"European Union\", \"European Union\", \"Sub-Saharan Africa \", \"Sub-Saharan Africa \", \"Sub-Saharan Africa \", \"European Union\", \"South Asia\", \"Sub-Saharan Africa \", \"Latin America & Caribbean \", \"European Union\", \"Europe & Central Asia\", \"Middle East & North Africa\", \"East Asia & Pacific\", \"Europe & Central Asia\", \"Sub-Saharan Africa \", \"East Asia & Pacific\", \"East Asia & Pacific\", \"Sub-Saharan Africa \", \"Latin America & Caribbean \", \"Middle East & North Africa\", \"Europe & Central Asia\", \"North America\", \"Sub-Saharan Africa \", \"Europe & Central Asia\", \"Middle East & North Africa\", \"European Union\", \"Latin America & Caribbean \", \"Europe & Central Asia\", \"Latin America & Caribbean \", \"East Asia & Pacific\", \"Middle East & North Africa\", \"Middle East & North Africa\", \"Sub-Saharan Africa \", \"Sub-Saharan Africa \", \"total\", \"total\", \"total\", \"total\", \"total\", \"total\", \"total\", \"total\", \"\"], \"type\": \"sunburst\", \"values\": [168.0, 31.0, 542.0, 51.0, 2.0, 3.0, 363.0, 55.0, 98.0, 629.0, 36.0, 11.0, 12.0, 314.0, 7.0, 160.0, 9005.0, 2.0, 2.0, 0.0, 165.0, 129.0, 1.0, 15662.0, 1.0, 105.0, 51.0, 6.0, 1.0, 3.0, 0.0, 140.0, 5800.0, 0.0, 50.0, 421.0, 4634.0, 562.0, 1.0, 15.0, 61.0, 10.0, 25.0, 95.0, 79.0, 17.0, 296.0, 543.0, 4.0, 0.0, 428.0, 2688.0, 612.0, 26.0, 7.0, 0.0, 63.0, 2.0, 5.0, 0.0, 297.0, 27483.0, 11.0, 1.0, 12.0, 7938.0, 29.0, 162.0, 0.0, 33.0, 16.0, 4.0, 10.0, 20.0, 138.0, 4.0, 448.0, 10.0, 2871.0, 1089.0, 6937.0, 121.0, 1533.0, 268.0, 31763.0, 9.0, 725.0, 9.0, 34.0, 50.0, 262.0, 29.0, 107.0, 14.0, 0.0, 19.0, 26.0, 0.0, 20.0, 3.0, 1.0, 55.0, 104.0, 0.0, 0.0, 3.0, 113.0, 4.0, 48.0, 6.0, 4.0, 10.0, 5045.0, 207.0, 4.0, 0.0, 9.0, 192.0, 0.0, 0.0, 1.0, 5670.0, 21.0, 8.0, 51.0, 176.0, 98.0, 232.0, 21.0, 834.0, 269.0, 0.0, 11.0, 2523.0, 817.0, 915.0, 1203.0, 15.0, 1094.0, 2537.0, 0.0, 0.0, 0.0, 0.0, 41.0, 7.0, 302.0, 25.0, 228.0, 0.0, 29.0, 22.0, 28.0, 103.0, 55.0, 261.0, 4.0, 27563.0, 9.0, 97.0, 1.0, 3674.0, 1879.0, 3.0, 7.0, 36.0, 21.0, 56.0, 0.0, 11.0, 8.0, 45.0, 4096.0, 88754.0, 0.0, 497.0, 214.0, 34466.0, 19.0, 11.0, 10.0, 0.0, 2.0, 18.0, 7.0, 4.0, 7855.0, 10733.0, 154981.0, 28531.0, 9453.0, 94554.0, 4201.0, 1310.0, 311618.0]}],\n",
       "                        {\"margin\": {\"b\": 10, \"l\": 10, \"r\": 10, \"t\": 10}, \"template\": {\"data\": {\"bar\": [{\"error_x\": {\"color\": \"#2a3f5f\"}, \"error_y\": {\"color\": \"#2a3f5f\"}, \"marker\": {\"line\": {\"color\": \"#E5ECF6\", \"width\": 0.5}}, \"type\": \"bar\"}], \"barpolar\": [{\"marker\": {\"line\": {\"color\": \"#E5ECF6\", \"width\": 0.5}}, \"type\": \"barpolar\"}], \"carpet\": [{\"aaxis\": {\"endlinecolor\": \"#2a3f5f\", \"gridcolor\": \"white\", \"linecolor\": \"white\", \"minorgridcolor\": \"white\", \"startlinecolor\": \"#2a3f5f\"}, \"baxis\": {\"endlinecolor\": \"#2a3f5f\", \"gridcolor\": \"white\", \"linecolor\": \"white\", \"minorgridcolor\": \"white\", \"startlinecolor\": \"#2a3f5f\"}, \"type\": \"carpet\"}], \"choropleth\": [{\"colorbar\": {\"outlinewidth\": 0, \"ticks\": \"\"}, \"type\": \"choropleth\"}], \"contour\": [{\"colorbar\": {\"outlinewidth\": 0, \"ticks\": \"\"}, \"colorscale\": [[0.0, \"#0d0887\"], [0.1111111111111111, \"#46039f\"], [0.2222222222222222, \"#7201a8\"], [0.3333333333333333, \"#9c179e\"], [0.4444444444444444, \"#bd3786\"], [0.5555555555555556, \"#d8576b\"], [0.6666666666666666, \"#ed7953\"], [0.7777777777777778, \"#fb9f3a\"], [0.8888888888888888, \"#fdca26\"], [1.0, \"#f0f921\"]], \"type\": \"contour\"}], \"contourcarpet\": [{\"colorbar\": {\"outlinewidth\": 0, \"ticks\": \"\"}, \"type\": \"contourcarpet\"}], \"heatmap\": [{\"colorbar\": {\"outlinewidth\": 0, \"ticks\": \"\"}, \"colorscale\": [[0.0, \"#0d0887\"], [0.1111111111111111, \"#46039f\"], [0.2222222222222222, \"#7201a8\"], [0.3333333333333333, \"#9c179e\"], [0.4444444444444444, \"#bd3786\"], [0.5555555555555556, \"#d8576b\"], [0.6666666666666666, \"#ed7953\"], [0.7777777777777778, \"#fb9f3a\"], [0.8888888888888888, \"#fdca26\"], [1.0, \"#f0f921\"]], \"type\": \"heatmap\"}], \"heatmapgl\": [{\"colorbar\": {\"outlinewidth\": 0, \"ticks\": \"\"}, \"colorscale\": [[0.0, \"#0d0887\"], [0.1111111111111111, \"#46039f\"], [0.2222222222222222, \"#7201a8\"], [0.3333333333333333, \"#9c179e\"], [0.4444444444444444, \"#bd3786\"], [0.5555555555555556, \"#d8576b\"], [0.6666666666666666, \"#ed7953\"], [0.7777777777777778, \"#fb9f3a\"], [0.8888888888888888, \"#fdca26\"], [1.0, \"#f0f921\"]], \"type\": \"heatmapgl\"}], \"histogram\": [{\"marker\": {\"colorbar\": {\"outlinewidth\": 0, \"ticks\": \"\"}}, \"type\": \"histogram\"}], \"histogram2d\": [{\"colorbar\": {\"outlinewidth\": 0, \"ticks\": \"\"}, \"colorscale\": [[0.0, \"#0d0887\"], [0.1111111111111111, \"#46039f\"], [0.2222222222222222, \"#7201a8\"], [0.3333333333333333, \"#9c179e\"], [0.4444444444444444, \"#bd3786\"], [0.5555555555555556, \"#d8576b\"], [0.6666666666666666, \"#ed7953\"], [0.7777777777777778, \"#fb9f3a\"], [0.8888888888888888, \"#fdca26\"], [1.0, \"#f0f921\"]], \"type\": \"histogram2d\"}], \"histogram2dcontour\": [{\"colorbar\": {\"outlinewidth\": 0, \"ticks\": \"\"}, \"colorscale\": [[0.0, \"#0d0887\"], [0.1111111111111111, \"#46039f\"], [0.2222222222222222, \"#7201a8\"], [0.3333333333333333, \"#9c179e\"], [0.4444444444444444, \"#bd3786\"], [0.5555555555555556, \"#d8576b\"], [0.6666666666666666, \"#ed7953\"], [0.7777777777777778, \"#fb9f3a\"], [0.8888888888888888, \"#fdca26\"], [1.0, \"#f0f921\"]], \"type\": \"histogram2dcontour\"}], \"mesh3d\": [{\"colorbar\": {\"outlinewidth\": 0, \"ticks\": \"\"}, \"type\": \"mesh3d\"}], \"parcoords\": [{\"line\": {\"colorbar\": {\"outlinewidth\": 0, \"ticks\": \"\"}}, \"type\": \"parcoords\"}], \"pie\": [{\"automargin\": true, \"type\": \"pie\"}], \"scatter\": [{\"marker\": {\"colorbar\": {\"outlinewidth\": 0, \"ticks\": \"\"}}, \"type\": \"scatter\"}], \"scatter3d\": [{\"line\": {\"colorbar\": {\"outlinewidth\": 0, \"ticks\": \"\"}}, \"marker\": {\"colorbar\": {\"outlinewidth\": 0, \"ticks\": \"\"}}, \"type\": \"scatter3d\"}], \"scattercarpet\": [{\"marker\": {\"colorbar\": {\"outlinewidth\": 0, \"ticks\": \"\"}}, \"type\": \"scattercarpet\"}], \"scattergeo\": [{\"marker\": {\"colorbar\": {\"outlinewidth\": 0, \"ticks\": \"\"}}, \"type\": \"scattergeo\"}], \"scattergl\": [{\"marker\": {\"colorbar\": {\"outlinewidth\": 0, \"ticks\": \"\"}}, \"type\": \"scattergl\"}], \"scattermapbox\": [{\"marker\": {\"colorbar\": {\"outlinewidth\": 0, \"ticks\": \"\"}}, \"type\": \"scattermapbox\"}], \"scatterpolar\": [{\"marker\": {\"colorbar\": {\"outlinewidth\": 0, \"ticks\": \"\"}}, \"type\": \"scatterpolar\"}], \"scatterpolargl\": [{\"marker\": {\"colorbar\": {\"outlinewidth\": 0, \"ticks\": \"\"}}, \"type\": \"scatterpolargl\"}], \"scatterternary\": [{\"marker\": {\"colorbar\": {\"outlinewidth\": 0, \"ticks\": \"\"}}, \"type\": \"scatterternary\"}], \"surface\": [{\"colorbar\": {\"outlinewidth\": 0, \"ticks\": \"\"}, \"colorscale\": [[0.0, \"#0d0887\"], [0.1111111111111111, \"#46039f\"], [0.2222222222222222, \"#7201a8\"], [0.3333333333333333, \"#9c179e\"], [0.4444444444444444, \"#bd3786\"], [0.5555555555555556, \"#d8576b\"], [0.6666666666666666, \"#ed7953\"], [0.7777777777777778, \"#fb9f3a\"], [0.8888888888888888, \"#fdca26\"], [1.0, \"#f0f921\"]], \"type\": \"surface\"}], \"table\": [{\"cells\": {\"fill\": {\"color\": \"#EBF0F8\"}, \"line\": {\"color\": \"white\"}}, \"header\": {\"fill\": {\"color\": \"#C8D4E3\"}, \"line\": {\"color\": \"white\"}}, \"type\": \"table\"}]}, \"layout\": {\"annotationdefaults\": {\"arrowcolor\": \"#2a3f5f\", \"arrowhead\": 0, \"arrowwidth\": 1}, \"coloraxis\": {\"colorbar\": {\"outlinewidth\": 0, \"ticks\": \"\"}}, \"colorscale\": {\"diverging\": [[0, \"#8e0152\"], [0.1, \"#c51b7d\"], [0.2, \"#de77ae\"], [0.3, \"#f1b6da\"], [0.4, \"#fde0ef\"], [0.5, \"#f7f7f7\"], [0.6, \"#e6f5d0\"], [0.7, \"#b8e186\"], [0.8, \"#7fbc41\"], [0.9, \"#4d9221\"], [1, \"#276419\"]], \"sequential\": [[0.0, \"#0d0887\"], [0.1111111111111111, \"#46039f\"], [0.2222222222222222, \"#7201a8\"], [0.3333333333333333, \"#9c179e\"], [0.4444444444444444, \"#bd3786\"], [0.5555555555555556, \"#d8576b\"], [0.6666666666666666, \"#ed7953\"], [0.7777777777777778, \"#fb9f3a\"], [0.8888888888888888, \"#fdca26\"], [1.0, \"#f0f921\"]], \"sequentialminus\": [[0.0, \"#0d0887\"], [0.1111111111111111, \"#46039f\"], [0.2222222222222222, \"#7201a8\"], [0.3333333333333333, \"#9c179e\"], [0.4444444444444444, \"#bd3786\"], [0.5555555555555556, \"#d8576b\"], [0.6666666666666666, \"#ed7953\"], [0.7777777777777778, \"#fb9f3a\"], [0.8888888888888888, \"#fdca26\"], [1.0, \"#f0f921\"]]}, \"colorway\": [\"#636efa\", \"#EF553B\", \"#00cc96\", \"#ab63fa\", \"#FFA15A\", \"#19d3f3\", \"#FF6692\", \"#B6E880\", \"#FF97FF\", \"#FECB52\"], \"font\": {\"color\": \"#2a3f5f\"}, \"geo\": {\"bgcolor\": \"white\", \"lakecolor\": \"white\", \"landcolor\": \"#E5ECF6\", \"showlakes\": true, \"showland\": true, \"subunitcolor\": \"white\"}, \"hoverlabel\": {\"align\": \"left\"}, \"hovermode\": \"closest\", \"mapbox\": {\"style\": \"light\"}, \"paper_bgcolor\": \"white\", \"plot_bgcolor\": \"#E5ECF6\", \"polar\": {\"angularaxis\": {\"gridcolor\": \"white\", \"linecolor\": \"white\", \"ticks\": \"\"}, \"bgcolor\": \"#E5ECF6\", \"radialaxis\": {\"gridcolor\": \"white\", \"linecolor\": \"white\", \"ticks\": \"\"}}, \"scene\": {\"xaxis\": {\"backgroundcolor\": \"#E5ECF6\", \"gridcolor\": \"white\", \"gridwidth\": 2, \"linecolor\": \"white\", \"showbackground\": true, \"ticks\": \"\", \"zerolinecolor\": \"white\"}, \"yaxis\": {\"backgroundcolor\": \"#E5ECF6\", \"gridcolor\": \"white\", \"gridwidth\": 2, \"linecolor\": \"white\", \"showbackground\": true, \"ticks\": \"\", \"zerolinecolor\": \"white\"}, \"zaxis\": {\"backgroundcolor\": \"#E5ECF6\", \"gridcolor\": \"white\", \"gridwidth\": 2, \"linecolor\": \"white\", \"showbackground\": true, \"ticks\": \"\", \"zerolinecolor\": \"white\"}}, \"shapedefaults\": {\"line\": {\"color\": \"#2a3f5f\"}}, \"ternary\": {\"aaxis\": {\"gridcolor\": \"white\", \"linecolor\": \"white\", \"ticks\": \"\"}, \"baxis\": {\"gridcolor\": \"white\", \"linecolor\": \"white\", \"ticks\": \"\"}, \"bgcolor\": \"#E5ECF6\", \"caxis\": {\"gridcolor\": \"white\", \"linecolor\": \"white\", \"ticks\": \"\"}}, \"title\": {\"x\": 0.05}, \"xaxis\": {\"automargin\": true, \"gridcolor\": \"white\", \"linecolor\": \"white\", \"ticks\": \"\", \"title\": {\"standoff\": 15}, \"zerolinecolor\": \"white\", \"zerolinewidth\": 2}, \"yaxis\": {\"automargin\": true, \"gridcolor\": \"white\", \"linecolor\": \"white\", \"ticks\": \"\", \"title\": {\"standoff\": 15}, \"zerolinecolor\": \"white\", \"zerolinewidth\": 2}}}},\n",
       "                        {\"responsive\": true}\n",
       "                    ).then(function(){\n",
       "                            \n",
       "var gd = document.getElementById('eb4840a7-3a97-4096-b2dc-95cd33d4677b');\n",
       "var x = new MutationObserver(function (mutations, observer) {{\n",
       "        var display = window.getComputedStyle(gd).display;\n",
       "        if (!display || display === 'none') {{\n",
       "            console.log([gd, 'removed!']);\n",
       "            Plotly.purge(gd);\n",
       "            observer.disconnect();\n",
       "        }}\n",
       "}});\n",
       "\n",
       "// Listen for the removal of the full notebook cells\n",
       "var notebookContainer = gd.closest('#notebook-container');\n",
       "if (notebookContainer) {{\n",
       "    x.observe(notebookContainer, {childList: true});\n",
       "}}\n",
       "\n",
       "// Listen for the clearing of the current output cell\n",
       "var outputEl = gd.closest('.output');\n",
       "if (outputEl) {{\n",
       "    x.observe(outputEl, {childList: true});\n",
       "}}\n",
       "\n",
       "                        })\n",
       "                };\n",
       "                });\n",
       "            </script>\n",
       "        </div>"
      ]
     },
     "metadata": {},
     "output_type": "display_data"
    }
   ],
   "source": [
    "import plotly.graph_objects as go\n",
    "from plotly.subplots import make_subplots\n",
    "import pandas as pd\n",
    "\n",
    "df = df_sunburst\n",
    "\n",
    "# average_score = df[column].mean()\n",
    "# min_score = df[column].min()\n",
    "# max_score = df[column].max()\n",
    "\n",
    "average_score = df['color'].median()\n",
    "min_score = df['color'].quantile(.1)\n",
    "max_score = df['color'].quantile(.9)\n",
    "\n",
    "\n",
    "\n",
    "fig = make_subplots(1, 2, specs=[[{\"type\": \"domain\"}, {\"type\": \"domain\"}]],)\n",
    "\n",
    "fig.add_trace(go.Sunburst(\n",
    "    labels=df['id'],\n",
    "    parents=df['parent'],\n",
    "    values=df['value'],\n",
    "    branchvalues='total',\n",
    "    marker=dict(\n",
    "#         colors=df_sunburst['color'],\n",
    "        colorscale=colors.sequential.PuBu,\n",
    "#         cmid=average_score,\n",
    "#         cmax=max_score,\n",
    "#         cmin=min_score\n",
    "    ),\n",
    "    hovertemplate='<b>%{label} </b> <br> Value: %{value}<br>Value per 100k: %{color:.0f}',\n",
    "    name=''\n",
    "    ), 1, 1)\n",
    "\n",
    "fig.add_trace(go.Sunburst(\n",
    "    labels=df['id'],\n",
    "    parents=df['parent'],\n",
    "    values=df['value'],\n",
    "    branchvalues='total',\n",
    "    marker=dict(\n",
    "#         colors=df_sunburst['color'],\n",
    "        colorscale='RdBu',\n",
    "#         cmid=average_score,\n",
    "#         cmax=max_score,\n",
    "#         cmin=min_score\n",
    "    ),\n",
    "    hovertemplate='<b>%{label} </b> <br> Value: %{value}<br>Value per 100k: %{color:d}',\n",
    "    maxdepth=2\n",
    "    ), 1, 2)\n",
    "\n",
    "fig.update_layout(margin=dict(t=10, b=10, r=10, l=10))\n",
    "fig.show()"
   ]
  },
  {
   "cell_type": "code",
   "execution_count": 381,
   "metadata": {},
   "outputs": [
    {
     "ename": "AttributeError",
     "evalue": "module 'plotly.colors' has no attribute 'colors'",
     "output_type": "error",
     "traceback": [
      "\u001b[0;31m---------------------------------------------------------------------------\u001b[0m",
      "\u001b[0;31mAttributeError\u001b[0m                            Traceback (most recent call last)",
      "\u001b[0;32m<ipython-input-381-306ad66abdbe>\u001b[0m in \u001b[0;36m<module>\u001b[0;34m\u001b[0m\n\u001b[0;32m----> 1\u001b[0;31m \u001b[0mcolors\u001b[0m\u001b[0;34m.\u001b[0m\u001b[0mcolors\u001b[0m\u001b[0;34m\u001b[0m\u001b[0;34m\u001b[0m\u001b[0m\n\u001b[0m",
      "\u001b[0;31mAttributeError\u001b[0m: module 'plotly.colors' has no attribute 'colors'"
     ]
    }
   ],
   "source": [
    "colors.sequential.PuBu"
   ]
  },
  {
   "cell_type": "code",
   "execution_count": 310,
   "metadata": {},
   "outputs": [
    {
     "ename": "AttributeError",
     "evalue": "module 'plotly.graph_objects' has no attribute 'iplot'",
     "output_type": "error",
     "traceback": [
      "\u001b[0;31m---------------------------------------------------------------------------\u001b[0m",
      "\u001b[0;31mAttributeError\u001b[0m                            Traceback (most recent call last)",
      "\u001b[0;32m<ipython-input-310-ffa7be1d5d7f>\u001b[0m in \u001b[0;36m<module>\u001b[0;34m\u001b[0m\n\u001b[1;32m     26\u001b[0m \u001b[0;34m\u001b[0m\u001b[0m\n\u001b[1;32m     27\u001b[0m \u001b[0;31m# And now we can plot the World Population\u001b[0m\u001b[0;34m\u001b[0m\u001b[0;34m\u001b[0m\u001b[0;34m\u001b[0m\u001b[0m\n\u001b[0;32m---> 28\u001b[0;31m go.iplot(dict(\n\u001b[0m\u001b[1;32m     29\u001b[0m     \u001b[0mdata\u001b[0m\u001b[0;34m=\u001b[0m\u001b[0;34m[\u001b[0m\u001b[0mdict\u001b[0m\u001b[0;34m(\u001b[0m\u001b[0mtype\u001b[0m\u001b[0;34m=\u001b[0m\u001b[0;34m'sunburst'\u001b[0m\u001b[0;34m,\u001b[0m \u001b[0mhoverinfo\u001b[0m\u001b[0;34m=\u001b[0m\u001b[0;34m'text'\u001b[0m\u001b[0;34m,\u001b[0m \u001b[0;34m**\u001b[0m\u001b[0mall_levels\u001b[0m\u001b[0;34m)\u001b[0m\u001b[0;34m]\u001b[0m\u001b[0;34m,\u001b[0m\u001b[0;34m\u001b[0m\u001b[0;34m\u001b[0m\u001b[0m\n\u001b[1;32m     30\u001b[0m     layout=dict(title='World COVID-19 Total Cases<br>Click on a region to zoom',\n",
      "\u001b[0;31mAttributeError\u001b[0m: module 'plotly.graph_objects' has no attribute 'iplot'"
     ]
    }
   ],
   "source": [
    "# The sunburst plot requires weights (values), labels, and parent (region, or World)\n",
    "# We build the corresponding table here\n",
    "columns = ['parents', 'labels', 'values']\n",
    "column_to_display = column\n",
    "wld_count = df[column].sum()\n",
    "\n",
    "level1 = df.loc[:, ['region_wb', 'land', column_to_display]].copy()\n",
    "level1.columns = columns\n",
    "level1['text'] = level1['values'].apply(lambda pop: '{:,.0f}'.format(pop))\n",
    "# level1.head(1)\n",
    "\n",
    "level2 = df.groupby('region_wb')[column_to_display].sum().reset_index()[['region_wb', 'region_wb', column_to_display]]\n",
    "level2.columns = columns\n",
    "level2['parents'] = 'World'\n",
    "\n",
    "# move value to text for this level\n",
    "level2['text'] = level2['values'].apply(lambda pop: '{:,.0f}'.format(pop))\n",
    "level2['values'] = 0\n",
    "# level2.head(1)\n",
    "\n",
    "level3 = pd.DataFrame({'parents': [''], 'labels': ['World'],\n",
    "                       'values': [0.0], 'text': ['{:,.0f}'.format(wld_count)]})\n",
    "# level3.head(1)\n",
    "\n",
    "all_levels = pd.concat([level1, level2, level3], axis=0).reset_index(drop=True)\n",
    "\n",
    "# And now we can plot the World Population\n",
    "go.iplot(dict(\n",
    "    data=[dict(type='sunburst', hoverinfo='text', **all_levels)],\n",
    "    layout=dict(title='World COVID-19 Total Cases<br>Click on a region to zoom',\n",
    "                width=800, height=800)),\n",
    "    validate=False)"
   ]
  },
  {
   "cell_type": "code",
   "execution_count": null,
   "metadata": {},
   "outputs": [],
   "source": []
  }
 ],
 "metadata": {
  "kernelspec": {
   "display_name": "Python 3",
   "language": "python",
   "name": "python3"
  },
  "language_info": {
   "codemirror_mode": {
    "name": "ipython",
    "version": 3
   },
   "file_extension": ".py",
   "mimetype": "text/x-python",
   "name": "python",
   "nbconvert_exporter": "python",
   "pygments_lexer": "ipython3",
   "version": "3.7.3"
  }
 },
 "nbformat": 4,
 "nbformat_minor": 4
}
