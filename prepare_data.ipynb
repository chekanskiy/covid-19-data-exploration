{
 "cells": [
  {
   "cell_type": "code",
   "execution_count": 456,
   "metadata": {},
   "outputs": [
    {
     "name": "stdout",
     "output_type": "stream",
     "text": [
      "The autoreload extension is already loaded. To reload it, use:\n",
      "  %reload_ext autoreload\n"
     ]
    }
   ],
   "source": [
    "import pandas as pd\n",
    "import geopandas as gpd\n",
    "import json\n",
    "import numpy as np\n",
    "import datetime\n",
    "import plotly\n",
    "from plotly import graph_objects as go\n",
    "pd.set_option('display.max_rows', 300)\n",
    "\n",
    "%load_ext autoreload\n",
    "\n",
    "from charts import plot_line, plot_bar, plot_peak, print_charts_country\n",
    "from features import add_variables_covid, add_variables_apple, join_series_day_since, join_series_date\n",
    "\n",
    "%matplotlib inline"
   ]
  },
  {
   "cell_type": "code",
   "execution_count": 611,
   "metadata": {},
   "outputs": [],
   "source": [
    "date_apple = '2020-05-17'"
   ]
  },
  {
   "cell_type": "code",
   "execution_count": 3,
   "metadata": {},
   "outputs": [],
   "source": [
    "def apple_filter_region(df, region):\n",
    "    df_region = df[df.region == region].T\n",
    "    df_region.columns = df_region.loc['transportation_type', :]\n",
    "    df_region = df_region[~df_region.index.isin(['geo_type', 'region', 'transportation_type', 'alternative_name'])]\n",
    "    \n",
    "    df_region['dates'] = pd.to_datetime(df_region.index)\n",
    "    df_region.set_index('dates', inplace=True)\n",
    "    df_region = df_region.astype('float')\n",
    "    df_region['region'] = region\n",
    "    \n",
    "    return df_region"
   ]
  },
  {
   "cell_type": "code",
   "execution_count": 4,
   "metadata": {},
   "outputs": [],
   "source": [
    "def add_forecast_prophet(df_in, column, window=60, ):\n",
    "    from fbprophet import Prophet\n",
    "    df = df_in.loc[:, [column]].dropna()\n",
    "    df['ds'] = df.index\n",
    "    df.columns = ['y', 'ds']\n",
    "    m = Prophet()\n",
    "    m.fit(df)\n",
    "    future = m.make_future_dataframe(periods=window)\n",
    "    forecast = m.predict(future)\n",
    "    forecast.set_index(forecast.ds, inplace=True)\n",
    "    forecast = forecast.loc[:, ['yhat', 'yhat_lower', 'yhat_upper']]\n",
    "    df_extra_dates = pd.DataFrame({ 'day': pd.Series([max(df_in.index) + datetime.timedelta(1), max(df_in.index) + datetime.timedelta(window)])})\n",
    "    df_extra_dates.set_index('day',inplace=True)\n",
    "    df_extra_dates = df_extra_dates.asfreq('D')\n",
    "    df_in = df_in.append(df_extra_dates)\n",
    "    df_result = pd.concat([df_in, forecast ], axis=1)\n",
    "    df_result[f'{column}_pred'] = df_result.loc[df_result[column].isnull() == True, ['yhat']]\n",
    "    \n",
    "    return df_result\n"
   ]
  },
  {
   "cell_type": "code",
   "execution_count": 124,
   "metadata": {},
   "outputs": [],
   "source": []
  },
  {
   "cell_type": "code",
   "execution_count": 6,
   "metadata": {},
   "outputs": [],
   "source": [
    "def melt_apple_df(dfapple):\n",
    "    _list = list()\n",
    "    for region in dfapple.region.unique():\n",
    "        dfapple_region = apple_filter_region(dfapple, region)\n",
    "        df = add_variables_apple(dfapple_region)\n",
    "        _list.append(df)\n",
    "    ret = pd.concat([df for df in _list])\n",
    "    return ret"
   ]
  },
  {
   "cell_type": "code",
   "execution_count": 7,
   "metadata": {},
   "outputs": [],
   "source": [
    "def melt_rki_df(df_rki_germany):\n",
    "    _list = list()\n",
    "    for land in df_rki_germany.land.unique():\n",
    "        df = df_rki_germany.loc[df_rki_germany.land == land, :].copy()\n",
    "        pop = int(df.loc[df.land==land, 'population'][0])\n",
    "        df = add_variables_covid(df, 'confirmed', population=pop)\n",
    "        df = add_variables_covid(df, 'dead', population=pop)\n",
    "        _list.append(df)\n",
    "    return pd.concat([df for df in _list])"
   ]
  },
  {
   "cell_type": "code",
   "execution_count": 125,
   "metadata": {},
   "outputs": [],
   "source": []
  },
  {
   "cell_type": "markdown",
   "metadata": {},
   "source": [
    "# World Bank Data"
   ]
  },
  {
   "cell_type": "code",
   "execution_count": 165,
   "metadata": {
    "scrolled": true
   },
   "outputs": [
    {
     "data": {
      "text/html": [
       "<div>\n",
       "<style scoped>\n",
       "    .dataframe tbody tr th:only-of-type {\n",
       "        vertical-align: middle;\n",
       "    }\n",
       "\n",
       "    .dataframe tbody tr th {\n",
       "        vertical-align: top;\n",
       "    }\n",
       "\n",
       "    .dataframe thead th {\n",
       "        text-align: right;\n",
       "    }\n",
       "</style>\n",
       "<table border=\"1\" class=\"dataframe\">\n",
       "  <thead>\n",
       "    <tr style=\"text-align: right;\">\n",
       "      <th></th>\n",
       "      <th>region</th>\n",
       "      <th>country_wb</th>\n",
       "      <th>population</th>\n",
       "      <th>iso_code</th>\n",
       "    </tr>\n",
       "    <tr>\n",
       "      <th>id</th>\n",
       "      <th></th>\n",
       "      <th></th>\n",
       "      <th></th>\n",
       "      <th></th>\n",
       "    </tr>\n",
       "  </thead>\n",
       "  <tbody>\n",
       "    <tr>\n",
       "      <th>ABW</th>\n",
       "      <td>Latin America &amp; Caribbean</td>\n",
       "      <td>Aruba</td>\n",
       "      <td>105845.0</td>\n",
       "      <td>ABW</td>\n",
       "    </tr>\n",
       "  </tbody>\n",
       "</table>\n",
       "</div>"
      ],
      "text/plain": [
       "                         region country_wb  population iso_code\n",
       "id                                                             \n",
       "ABW  Latin America & Caribbean       Aruba    105845.0      ABW"
      ]
     },
     "execution_count": 165,
     "metadata": {},
     "output_type": "execute_result"
    }
   ],
   "source": [
    "import world_bank_data as wb\n",
    "\n",
    "countries = wb.get_countries()\n",
    "\n",
    "# population = wb.get_series('SP.POP.TOTL', mrv=1)  # Most recent value\n",
    "population = wb.get_series('SP.POP.TOTL', id_or_value='id', simplify_index=True, mrv=1)\n",
    "\n",
    "# Aggregate region, country and population\n",
    "df_population = countries[['region', 'name']].rename(columns={'name': 'country_wb'}).loc[countries.region != 'Aggregates']\n",
    "df_population['population'] = population\n",
    "df_population['country_wb'] = df_population['country_wb'].astype('string')\n",
    "df_population['iso_code'] = df_population.index\n",
    "df_population.head(1)"
   ]
  },
  {
   "cell_type": "code",
   "execution_count": 166,
   "metadata": {},
   "outputs": [],
   "source": [
    "df_population.loc[df_population.iso_code == 'XKX', 'iso_code'] = 'XKS'"
   ]
  },
  {
   "cell_type": "markdown",
   "metadata": {},
   "source": [
    "# RKI and Apple Data"
   ]
  },
  {
   "cell_type": "code",
   "execution_count": 648,
   "metadata": {},
   "outputs": [],
   "source": [
    "date_now = datetime.datetime.strftime(datetime.datetime.utcnow(), \"%Y-%m-%d\")\n",
    "dfapple = pd.read_csv(f\"data-input/apple-mobility/applemobilitytrends-{date_apple}.csv\")\n",
    "\n",
    "df_rki_germany = pd.read_csv(\"data-processed/RKI-reports.csv\")\n",
    "\n",
    "df_population_de = pd.read_csv('data-input/german_lander_population.csv')"
   ]
  },
  {
   "cell_type": "markdown",
   "metadata": {},
   "source": [
    "# JHU Data"
   ]
  },
  {
   "cell_type": "code",
   "execution_count": 614,
   "metadata": {},
   "outputs": [],
   "source": [
    "dfcovid_conf = pd.read_csv(\"../covid-19-JHU CSSE/csse_covid_19_data/csse_covid_19_time_series/time_series_covid19_confirmed_global.csv\")\n",
    "dfcovid_dead = pd.read_csv(\"../covid-19-JHU CSSE/csse_covid_19_data/csse_covid_19_time_series/time_series_covid19_deaths_global.csv\")\n",
    "df_uid = pd.read_csv(\"../covid-19-JHU CSSE/csse_covid_19_data/UID_ISO_FIPS_LookUp_Table.csv\")\n",
    "\n",
    "df_uid = df_uid.loc[df_uid['Province_State'].isnull() == True, ['iso3', 'Country_Region']]\n",
    "df_uid.columns = ['iso_code', 'country']\n",
    "\n",
    "dfcovid_conf.columns = ['state', 'country', 'lat', 'lng'] + list(dfcovid_conf.columns[4:])\n",
    "dfcovid_dead.columns = ['state', 'country', 'lat', 'lng'] + list(dfcovid_dead.columns[4:])\n",
    "dfcovid_conf = dfcovid_conf.merge(df_uid, how='outer', on='country', suffixes=('_x', '_y'))\n",
    "dfcovid_dead = dfcovid_dead.merge(df_uid, how='outer', on='country', suffixes=('_x', '_y'))"
   ]
  },
  {
   "cell_type": "code",
   "execution_count": 217,
   "metadata": {},
   "outputs": [
    {
     "data": {
      "text/html": [
       "<div>\n",
       "<style scoped>\n",
       "    .dataframe tbody tr th:only-of-type {\n",
       "        vertical-align: middle;\n",
       "    }\n",
       "\n",
       "    .dataframe tbody tr th {\n",
       "        vertical-align: top;\n",
       "    }\n",
       "\n",
       "    .dataframe thead th {\n",
       "        text-align: right;\n",
       "    }\n",
       "</style>\n",
       "<table border=\"1\" class=\"dataframe\">\n",
       "  <thead>\n",
       "    <tr style=\"text-align: right;\">\n",
       "      <th></th>\n",
       "      <th>state</th>\n",
       "      <th>country</th>\n",
       "      <th>lat</th>\n",
       "      <th>lng</th>\n",
       "      <th>1/22/20</th>\n",
       "      <th>1/23/20</th>\n",
       "      <th>1/24/20</th>\n",
       "      <th>1/25/20</th>\n",
       "      <th>1/26/20</th>\n",
       "      <th>1/27/20</th>\n",
       "      <th>...</th>\n",
       "      <th>5/8/20</th>\n",
       "      <th>5/9/20</th>\n",
       "      <th>5/10/20</th>\n",
       "      <th>5/11/20</th>\n",
       "      <th>5/12/20</th>\n",
       "      <th>5/13/20</th>\n",
       "      <th>5/14/20</th>\n",
       "      <th>5/15/20</th>\n",
       "      <th>5/16/20</th>\n",
       "      <th>iso_code</th>\n",
       "    </tr>\n",
       "  </thead>\n",
       "  <tbody>\n",
       "    <tr>\n",
       "      <th>0</th>\n",
       "      <td>NaN</td>\n",
       "      <td>Afghanistan</td>\n",
       "      <td>33.0</td>\n",
       "      <td>65.0</td>\n",
       "      <td>0</td>\n",
       "      <td>0</td>\n",
       "      <td>0</td>\n",
       "      <td>0</td>\n",
       "      <td>0</td>\n",
       "      <td>0</td>\n",
       "      <td>...</td>\n",
       "      <td>3778</td>\n",
       "      <td>4033</td>\n",
       "      <td>4402</td>\n",
       "      <td>4687</td>\n",
       "      <td>4963</td>\n",
       "      <td>5226</td>\n",
       "      <td>5639</td>\n",
       "      <td>6053</td>\n",
       "      <td>6402</td>\n",
       "      <td>AFG</td>\n",
       "    </tr>\n",
       "  </tbody>\n",
       "</table>\n",
       "<p>1 rows × 121 columns</p>\n",
       "</div>"
      ],
      "text/plain": [
       "  state      country   lat   lng  1/22/20  1/23/20  1/24/20  1/25/20  1/26/20  \\\n",
       "0   NaN  Afghanistan  33.0  65.0        0        0        0        0        0   \n",
       "\n",
       "   1/27/20  ...  5/8/20  5/9/20  5/10/20  5/11/20  5/12/20  5/13/20  5/14/20  \\\n",
       "0        0  ...    3778    4033     4402     4687     4963     5226     5639   \n",
       "\n",
       "   5/15/20  5/16/20  iso_code  \n",
       "0     6053     6402       AFG  \n",
       "\n",
       "[1 rows x 121 columns]"
      ]
     },
     "execution_count": 217,
     "metadata": {},
     "output_type": "execute_result"
    }
   ],
   "source": [
    "dfcovid_conf.head(1)"
   ]
  },
  {
   "cell_type": "code",
   "execution_count": 218,
   "metadata": {},
   "outputs": [],
   "source": [
    "# dfcovid_conf.loc[dfcovid_conf.country.str.contains('China') == True]#.head(1) ##.sort_values(by='region')"
   ]
  },
  {
   "cell_type": "code",
   "execution_count": 219,
   "metadata": {},
   "outputs": [],
   "source": [
    "# dfcovid_conf.loc[dfcovid_conf.country.str.contains('Australia') == True, [c for c in dfcovid_conf.columns if '/20' in c]].sum()"
   ]
  },
  {
   "cell_type": "code",
   "execution_count": 220,
   "metadata": {},
   "outputs": [],
   "source": [
    "def fix_countries(df):\n",
    "    df.loc[df.state.str.contains('Hong Kong') == True, 'iso_code'] = 'HKG'\n",
    "    df.loc[df.state.str.contains('Macau') == True, 'iso_code'] = 'MAC'\n",
    "    df.loc[df.state.str.contains('Hong Kong') == True, 'state'] = np.NaN\n",
    "    df.loc[df.state.str.contains('Macau') == True, 'state'] = np.NaN\n",
    "    df.loc[df.iso_code.str.contains('HKG') == True, 'country'] = 'Hong Kong'\n",
    "    df.loc[df.iso_code.str.contains('MAC') == True, 'country'] = 'Macau'\n",
    "\n",
    "    s = df.loc[df.iso_code == 'CHN', [c for c in df.columns if '/20' in c]].sum()\n",
    "    s['country'] = 'China'\n",
    "    s['iso_code'] = 'CHN'\n",
    "    df = pd.concat([df, s.to_frame().T,] ,axis=0)\n",
    "    \n",
    "    s = df.loc[df.country.str.contains('Canada') == True, [c for c in df.columns if '/20' in c]].sum()\n",
    "    s['country'] = 'Canada'\n",
    "    s['iso_code'] = 'CAN'\n",
    "    df = pd.concat([df, s.to_frame().T,] ,axis=0)\n",
    "\n",
    "    s = df.loc[df.country.str.contains('Australia') == True, [c for c in df.columns if '/20' in c]].sum()\n",
    "    s['country'] = 'Australia'\n",
    "    s['iso_code'] = 'AUS'\n",
    "    df = pd.concat([df, s.to_frame().T,] ,axis=0)\n",
    "    \n",
    "    return df\n",
    "dfcovid_conf = fix_countries(dfcovid_conf)\n",
    "dfcovid_dead = fix_countries(dfcovid_dead)"
   ]
  },
  {
   "cell_type": "code",
   "execution_count": 221,
   "metadata": {},
   "outputs": [],
   "source": [
    "dfcovid_conf = dfcovid_conf.loc[dfcovid_conf['state'].isnull() == True, :]\n",
    "dfcovid_dead = dfcovid_dead.loc[dfcovid_dead['state'].isnull() == True, :]"
   ]
  },
  {
   "cell_type": "code",
   "execution_count": 222,
   "metadata": {},
   "outputs": [
    {
     "data": {
      "text/html": [
       "<div>\n",
       "<style scoped>\n",
       "    .dataframe tbody tr th:only-of-type {\n",
       "        vertical-align: middle;\n",
       "    }\n",
       "\n",
       "    .dataframe tbody tr th {\n",
       "        vertical-align: top;\n",
       "    }\n",
       "\n",
       "    .dataframe thead th {\n",
       "        text-align: right;\n",
       "    }\n",
       "</style>\n",
       "<table border=\"1\" class=\"dataframe\">\n",
       "  <thead>\n",
       "    <tr style=\"text-align: right;\">\n",
       "      <th></th>\n",
       "      <th>region</th>\n",
       "      <th>country_wb</th>\n",
       "      <th>population</th>\n",
       "      <th>iso_code</th>\n",
       "      <th>country</th>\n",
       "    </tr>\n",
       "  </thead>\n",
       "  <tbody>\n",
       "    <tr>\n",
       "      <th>221</th>\n",
       "      <td>NaN</td>\n",
       "      <td>&lt;NA&gt;</td>\n",
       "      <td>NaN</td>\n",
       "      <td>ESH</td>\n",
       "      <td>Western Sahara</td>\n",
       "    </tr>\n",
       "  </tbody>\n",
       "</table>\n",
       "</div>"
      ],
      "text/plain": [
       "    region country_wb  population iso_code         country\n",
       "221    NaN       <NA>         NaN      ESH  Western Sahara"
      ]
     },
     "execution_count": 222,
     "metadata": {},
     "output_type": "execute_result"
    }
   ],
   "source": [
    "df_population_joined = df_population.merge(dfcovid_conf.loc[:, ['iso_code', 'country']].drop_duplicates(), how='outer',  on='iso_code',  suffixes=('_x', '_y'), left_index=False, right_index=False,)\n",
    "df_population_joined.tail(1)"
   ]
  },
  {
   "cell_type": "code",
   "execution_count": 223,
   "metadata": {},
   "outputs": [],
   "source": [
    "# df_population_joined.loc[df_population_joined.country.isnull() == True].sort_values(by='region')"
   ]
  },
  {
   "cell_type": "code",
   "execution_count": 224,
   "metadata": {},
   "outputs": [],
   "source": [
    "# df_population_joined.loc[df_population_joined.country_wb.isnull() == True].head(10)"
   ]
  },
  {
   "cell_type": "code",
   "execution_count": 225,
   "metadata": {},
   "outputs": [],
   "source": [
    "# dfcovid_conf.loc[dfcovid_conf.country == 'China'].head(10)"
   ]
  },
  {
   "cell_type": "markdown",
   "metadata": {},
   "source": [
    "## load and write Germany GeoJSON"
   ]
  },
  {
   "cell_type": "code",
   "execution_count": 206,
   "metadata": {},
   "outputs": [],
   "source": [
    "geojson_path =  \"../deutschlandGeoJSON/2_bundeslaender/3_mittel.geo.json\"\n",
    "df_geojson = gpd.read_file(geojson_path)\n",
    "df_geojson.columns = [\"iso_code\", 'name', 'type','geometry']\n",
    "df_geojson = df_geojson.loc[:, [\"iso_code\", 'geometry']]\n",
    "df_geojson['iso_code'] = df_geojson.iso_code.str.replace('DE-', '')\n",
    "geojson = json.loads(df_geojson.set_index('iso_code').to_json())\n",
    "json.dump(geojson, open('data_geo_de.json', 'w'))"
   ]
  },
  {
   "cell_type": "markdown",
   "metadata": {},
   "source": [
    "### Transpose Confirmed Cases"
   ]
  },
  {
   "cell_type": "code",
   "execution_count": 226,
   "metadata": {},
   "outputs": [],
   "source": [
    "dfcovid_conf_t = dfcovid_conf.loc[dfcovid_conf['state'].isnull() == True, :].T\n",
    "dfcovid_conf_t.columns = dfcovid_conf_t.loc['country', :].astype(str)\n",
    "dfcovid_conf_t.drop(['country'], axis=0, inplace=True)\n",
    "df_country_coords = dfcovid_conf_t.loc[['lat', 'lng'], :]\n",
    "dfcovid_conf_t.drop(['lat', 'lng', 'state', 'iso_code'], axis=0, inplace=True)\n",
    "dfcovid_conf_t['dates'] = dfcovid_conf_t.index\n",
    "dfcovid_conf_t['dates'] = dfcovid_conf_t['dates'].astype('datetime64[ns]')\n",
    "dfcovid_conf_t = dfcovid_conf_t.sort_values('dates', ascending=True)\n",
    "dfcovid_conf_t.set_index('dates', inplace=True)\n",
    "dfcovid_conf_t = dfcovid_conf_t.astype(float)"
   ]
  },
  {
   "cell_type": "markdown",
   "metadata": {},
   "source": [
    "### Transpose Dead Cases"
   ]
  },
  {
   "cell_type": "code",
   "execution_count": 227,
   "metadata": {},
   "outputs": [],
   "source": [
    "dfcovid_dead_t = dfcovid_dead.loc[dfcovid_dead['state'].isnull() == True, :].T\n",
    "dfcovid_dead_t.columns = dfcovid_dead_t.loc['country', :].astype(str)\n",
    "dfcovid_dead_t.drop(['country'], axis=0, inplace=True)\n",
    "\n",
    "\n",
    "dfcovid_dead_t.drop(['lat', 'lng', 'state', 'iso_code'], axis=0, inplace=True)\n",
    "dfcovid_dead_t['dates'] = dfcovid_dead_t.index\n",
    "dfcovid_dead_t['dates'] = dfcovid_dead_t['dates'].astype('datetime64[ns]')\n",
    "dfcovid_dead_t = dfcovid_dead_t.sort_values('dates', ascending=True)\n",
    "dfcovid_dead_t.set_index('dates', inplace=True)\n",
    "dfcovid_dead_t = dfcovid_dead_t.astype(float)\n"
   ]
  },
  {
   "cell_type": "markdown",
   "metadata": {},
   "source": [
    "# Prepare Datasets"
   ]
  },
  {
   "cell_type": "markdown",
   "metadata": {},
   "source": [
    "### RKI"
   ]
  },
  {
   "cell_type": "code",
   "execution_count": 635,
   "metadata": {},
   "outputs": [],
   "source": [
    "# df_rki_germany = df_rki_germany.loc[df_rki_germany['date'] != '2020-05-18']\n",
    "# df_rki_germany = df_rki_germany.drop('Unnamed: 0', axis=1)\n",
    "df_rki_germany['confirmed'] = df_rki_germany['confirmed'].astype(float)\n",
    "# df_rki_germany.loc[df_rki_germany.confirmed.str.contains(','), 'confirmed'] = df_rki_germany.confirmed.str.replace(',', '')\n",
    "df_rki_germany['confirmed'] = df_rki_germany['confirmed'].astype(int)\n",
    "\n",
    "\n"
   ]
  },
  {
   "cell_type": "code",
   "execution_count": 651,
   "metadata": {},
   "outputs": [],
   "source": [
    "# df_rki_germany.to_csv(\"data-processed/RKI-reports.csv\")\n",
    "\n",
    "df_rki_germany.drop(['date.1', 'name', 'iso_code','capital','area','population'], axis=1).to_csv(\"data-processed/RKI-reports.csv\")"
   ]
  },
  {
   "cell_type": "code",
   "execution_count": 647,
   "metadata": {},
   "outputs": [
    {
     "data": {
      "text/html": [
       "<div>\n",
       "<style scoped>\n",
       "    .dataframe tbody tr th:only-of-type {\n",
       "        vertical-align: middle;\n",
       "    }\n",
       "\n",
       "    .dataframe tbody tr th {\n",
       "        vertical-align: top;\n",
       "    }\n",
       "\n",
       "    .dataframe thead th {\n",
       "        text-align: right;\n",
       "    }\n",
       "</style>\n",
       "<table border=\"1\" class=\"dataframe\">\n",
       "  <thead>\n",
       "    <tr style=\"text-align: right;\">\n",
       "      <th></th>\n",
       "      <th>date</th>\n",
       "      <th>land</th>\n",
       "      <th>confirmed</th>\n",
       "      <th>dead</th>\n",
       "      <th>date.1</th>\n",
       "      <th>name_x</th>\n",
       "      <th>iso_code_x</th>\n",
       "      <th>capital_x</th>\n",
       "      <th>area_x</th>\n",
       "      <th>population_x</th>\n",
       "      <th>name_y</th>\n",
       "      <th>iso_code_y</th>\n",
       "      <th>capital_y</th>\n",
       "      <th>area_y</th>\n",
       "      <th>population_y</th>\n",
       "      <th>name</th>\n",
       "      <th>iso_code</th>\n",
       "      <th>capital</th>\n",
       "      <th>area</th>\n",
       "      <th>population</th>\n",
       "    </tr>\n",
       "    <tr>\n",
       "      <th>date</th>\n",
       "      <th></th>\n",
       "      <th></th>\n",
       "      <th></th>\n",
       "      <th></th>\n",
       "      <th></th>\n",
       "      <th></th>\n",
       "      <th></th>\n",
       "      <th></th>\n",
       "      <th></th>\n",
       "      <th></th>\n",
       "      <th></th>\n",
       "      <th></th>\n",
       "      <th></th>\n",
       "      <th></th>\n",
       "      <th></th>\n",
       "      <th></th>\n",
       "      <th></th>\n",
       "      <th></th>\n",
       "      <th></th>\n",
       "      <th></th>\n",
       "    </tr>\n",
       "  </thead>\n",
       "  <tbody>\n",
       "    <tr>\n",
       "      <th>2020-03-04</th>\n",
       "      <td>2020-03-04</td>\n",
       "      <td>Baden-Wuerttemberg</td>\n",
       "      <td>50</td>\n",
       "      <td>0</td>\n",
       "      <td>2020-03-04</td>\n",
       "      <td>Baden-Wuerttemberg</td>\n",
       "      <td>BW</td>\n",
       "      <td>Stuttgart</td>\n",
       "      <td>35677</td>\n",
       "      <td>11069533</td>\n",
       "      <td>Baden-Wuerttemberg</td>\n",
       "      <td>BW</td>\n",
       "      <td>Stuttgart</td>\n",
       "      <td>35677</td>\n",
       "      <td>11069533</td>\n",
       "      <td>Baden-Wuerttemberg</td>\n",
       "      <td>BW</td>\n",
       "      <td>Stuttgart</td>\n",
       "      <td>35677</td>\n",
       "      <td>11069533</td>\n",
       "    </tr>\n",
       "    <tr>\n",
       "      <th>2020-03-04</th>\n",
       "      <td>2020-03-04</td>\n",
       "      <td>Hamburg</td>\n",
       "      <td>3</td>\n",
       "      <td>0</td>\n",
       "      <td>2020-03-04</td>\n",
       "      <td>Hamburg</td>\n",
       "      <td>HH</td>\n",
       "      <td>Hamburg</td>\n",
       "      <td>755</td>\n",
       "      <td>1841179</td>\n",
       "      <td>Hamburg</td>\n",
       "      <td>HH</td>\n",
       "      <td>Hamburg</td>\n",
       "      <td>755</td>\n",
       "      <td>1841179</td>\n",
       "      <td>Hamburg</td>\n",
       "      <td>HH</td>\n",
       "      <td>Hamburg</td>\n",
       "      <td>755</td>\n",
       "      <td>1841179</td>\n",
       "    </tr>\n",
       "    <tr>\n",
       "      <th>2020-03-04</th>\n",
       "      <td>2020-03-04</td>\n",
       "      <td>Brandenburg</td>\n",
       "      <td>1</td>\n",
       "      <td>0</td>\n",
       "      <td>2020-03-04</td>\n",
       "      <td>Brandenburg</td>\n",
       "      <td>BB</td>\n",
       "      <td>Potsdam</td>\n",
       "      <td>29654</td>\n",
       "      <td>2511917</td>\n",
       "      <td>Brandenburg</td>\n",
       "      <td>BB</td>\n",
       "      <td>Potsdam</td>\n",
       "      <td>29654</td>\n",
       "      <td>2511917</td>\n",
       "      <td>Brandenburg</td>\n",
       "      <td>BB</td>\n",
       "      <td>Potsdam</td>\n",
       "      <td>29654</td>\n",
       "      <td>2511917</td>\n",
       "    </tr>\n",
       "    <tr>\n",
       "      <th>2020-03-04</th>\n",
       "      <td>2020-03-04</td>\n",
       "      <td>Bremen</td>\n",
       "      <td>3</td>\n",
       "      <td>0</td>\n",
       "      <td>2020-03-04</td>\n",
       "      <td>Bremen</td>\n",
       "      <td>HB</td>\n",
       "      <td>Bremen</td>\n",
       "      <td>420</td>\n",
       "      <td>682986</td>\n",
       "      <td>Bremen</td>\n",
       "      <td>HB</td>\n",
       "      <td>Bremen</td>\n",
       "      <td>420</td>\n",
       "      <td>682986</td>\n",
       "      <td>Bremen</td>\n",
       "      <td>HB</td>\n",
       "      <td>Bremen</td>\n",
       "      <td>420</td>\n",
       "      <td>682986</td>\n",
       "    </tr>\n",
       "    <tr>\n",
       "      <th>2020-03-04</th>\n",
       "      <td>2020-03-04</td>\n",
       "      <td>Rhineland-Palatinate</td>\n",
       "      <td>7</td>\n",
       "      <td>0</td>\n",
       "      <td>2020-03-04</td>\n",
       "      <td>Rhineland-Palatinate</td>\n",
       "      <td>RP</td>\n",
       "      <td>Mainz</td>\n",
       "      <td>19854</td>\n",
       "      <td>4084844</td>\n",
       "      <td>Rhineland-Palatinate</td>\n",
       "      <td>RP</td>\n",
       "      <td>Mainz</td>\n",
       "      <td>19854</td>\n",
       "      <td>4084844</td>\n",
       "      <td>Rhineland-Palatinate</td>\n",
       "      <td>RP</td>\n",
       "      <td>Mainz</td>\n",
       "      <td>19854</td>\n",
       "      <td>4084844</td>\n",
       "    </tr>\n",
       "    <tr>\n",
       "      <th>...</th>\n",
       "      <td>...</td>\n",
       "      <td>...</td>\n",
       "      <td>...</td>\n",
       "      <td>...</td>\n",
       "      <td>...</td>\n",
       "      <td>...</td>\n",
       "      <td>...</td>\n",
       "      <td>...</td>\n",
       "      <td>...</td>\n",
       "      <td>...</td>\n",
       "      <td>...</td>\n",
       "      <td>...</td>\n",
       "      <td>...</td>\n",
       "      <td>...</td>\n",
       "      <td>...</td>\n",
       "      <td>...</td>\n",
       "      <td>...</td>\n",
       "      <td>...</td>\n",
       "      <td>...</td>\n",
       "      <td>...</td>\n",
       "    </tr>\n",
       "    <tr>\n",
       "      <th>2020-05-18</th>\n",
       "      <td>2020-05-18</td>\n",
       "      <td>Hesse</td>\n",
       "      <td>9337</td>\n",
       "      <td>439</td>\n",
       "      <td>2020-05-18</td>\n",
       "      <td>Hesse</td>\n",
       "      <td>HE</td>\n",
       "      <td>Wiesbaden</td>\n",
       "      <td>21115</td>\n",
       "      <td>6265809</td>\n",
       "      <td>Hesse</td>\n",
       "      <td>HE</td>\n",
       "      <td>Wiesbaden</td>\n",
       "      <td>21115</td>\n",
       "      <td>6265809</td>\n",
       "      <td>Hesse</td>\n",
       "      <td>HE</td>\n",
       "      <td>Wiesbaden</td>\n",
       "      <td>21115</td>\n",
       "      <td>6265809</td>\n",
       "    </tr>\n",
       "    <tr>\n",
       "      <th>2020-05-18</th>\n",
       "      <td>2020-05-18</td>\n",
       "      <td>Hamburg</td>\n",
       "      <td>5037</td>\n",
       "      <td>232</td>\n",
       "      <td>2020-05-18</td>\n",
       "      <td>Hamburg</td>\n",
       "      <td>HH</td>\n",
       "      <td>Hamburg</td>\n",
       "      <td>755</td>\n",
       "      <td>1841179</td>\n",
       "      <td>Hamburg</td>\n",
       "      <td>HH</td>\n",
       "      <td>Hamburg</td>\n",
       "      <td>755</td>\n",
       "      <td>1841179</td>\n",
       "      <td>Hamburg</td>\n",
       "      <td>HH</td>\n",
       "      <td>Hamburg</td>\n",
       "      <td>755</td>\n",
       "      <td>1841179</td>\n",
       "    </tr>\n",
       "    <tr>\n",
       "      <th>2020-05-18</th>\n",
       "      <td>2020-05-18</td>\n",
       "      <td>Rhineland-Palatinate</td>\n",
       "      <td>6490</td>\n",
       "      <td>217</td>\n",
       "      <td>2020-05-18</td>\n",
       "      <td>Rhineland-Palatinate</td>\n",
       "      <td>RP</td>\n",
       "      <td>Mainz</td>\n",
       "      <td>19854</td>\n",
       "      <td>4084844</td>\n",
       "      <td>Rhineland-Palatinate</td>\n",
       "      <td>RP</td>\n",
       "      <td>Mainz</td>\n",
       "      <td>19854</td>\n",
       "      <td>4084844</td>\n",
       "      <td>Rhineland-Palatinate</td>\n",
       "      <td>RP</td>\n",
       "      <td>Mainz</td>\n",
       "      <td>19854</td>\n",
       "      <td>4084844</td>\n",
       "    </tr>\n",
       "    <tr>\n",
       "      <th>2020-05-18</th>\n",
       "      <td>2020-05-18</td>\n",
       "      <td>Mecklenburg-Western Pomerania</td>\n",
       "      <td>752</td>\n",
       "      <td>20</td>\n",
       "      <td>2020-05-18</td>\n",
       "      <td>Mecklenburg-Western Pomerania</td>\n",
       "      <td>MV</td>\n",
       "      <td>Schwerin</td>\n",
       "      <td>23213</td>\n",
       "      <td>1609675</td>\n",
       "      <td>Mecklenburg-Western Pomerania</td>\n",
       "      <td>MV</td>\n",
       "      <td>Schwerin</td>\n",
       "      <td>23213</td>\n",
       "      <td>1609675</td>\n",
       "      <td>Mecklenburg-Western Pomerania</td>\n",
       "      <td>MV</td>\n",
       "      <td>Schwerin</td>\n",
       "      <td>23213</td>\n",
       "      <td>1609675</td>\n",
       "    </tr>\n",
       "    <tr>\n",
       "      <th>2020-05-18</th>\n",
       "      <td>2020-05-18</td>\n",
       "      <td>Saxony-Anhalt</td>\n",
       "      <td>1678</td>\n",
       "      <td>54</td>\n",
       "      <td>2020-05-18</td>\n",
       "      <td>Saxony-Anhalt</td>\n",
       "      <td>ST</td>\n",
       "      <td>Magdeburg</td>\n",
       "      <td>20452</td>\n",
       "      <td>2208321</td>\n",
       "      <td>Saxony-Anhalt</td>\n",
       "      <td>ST</td>\n",
       "      <td>Magdeburg</td>\n",
       "      <td>20452</td>\n",
       "      <td>2208321</td>\n",
       "      <td>Saxony-Anhalt</td>\n",
       "      <td>ST</td>\n",
       "      <td>Magdeburg</td>\n",
       "      <td>20452</td>\n",
       "      <td>2208321</td>\n",
       "    </tr>\n",
       "  </tbody>\n",
       "</table>\n",
       "<p>1292 rows × 20 columns</p>\n",
       "</div>"
      ],
      "text/plain": [
       "                 date                           land  confirmed  dead  \\\n",
       "date                                                                    \n",
       "2020-03-04 2020-03-04             Baden-Wuerttemberg         50     0   \n",
       "2020-03-04 2020-03-04                        Hamburg          3     0   \n",
       "2020-03-04 2020-03-04                    Brandenburg          1     0   \n",
       "2020-03-04 2020-03-04                         Bremen          3     0   \n",
       "2020-03-04 2020-03-04           Rhineland-Palatinate          7     0   \n",
       "...               ...                            ...        ...   ...   \n",
       "2020-05-18 2020-05-18                          Hesse       9337   439   \n",
       "2020-05-18 2020-05-18                        Hamburg       5037   232   \n",
       "2020-05-18 2020-05-18           Rhineland-Palatinate       6490   217   \n",
       "2020-05-18 2020-05-18  Mecklenburg-Western Pomerania        752    20   \n",
       "2020-05-18 2020-05-18                  Saxony-Anhalt       1678    54   \n",
       "\n",
       "                date.1                         name_x iso_code_x  capital_x  \\\n",
       "date                                                                          \n",
       "2020-03-04  2020-03-04             Baden-Wuerttemberg         BW  Stuttgart   \n",
       "2020-03-04  2020-03-04                        Hamburg         HH    Hamburg   \n",
       "2020-03-04  2020-03-04                    Brandenburg         BB    Potsdam   \n",
       "2020-03-04  2020-03-04                         Bremen         HB     Bremen   \n",
       "2020-03-04  2020-03-04           Rhineland-Palatinate         RP      Mainz   \n",
       "...                ...                            ...        ...        ...   \n",
       "2020-05-18  2020-05-18                          Hesse         HE  Wiesbaden   \n",
       "2020-05-18  2020-05-18                        Hamburg         HH    Hamburg   \n",
       "2020-05-18  2020-05-18           Rhineland-Palatinate         RP      Mainz   \n",
       "2020-05-18  2020-05-18  Mecklenburg-Western Pomerania         MV   Schwerin   \n",
       "2020-05-18  2020-05-18                  Saxony-Anhalt         ST  Magdeburg   \n",
       "\n",
       "            area_x  population_x                         name_y iso_code_y  \\\n",
       "date                                                                         \n",
       "2020-03-04   35677      11069533             Baden-Wuerttemberg         BW   \n",
       "2020-03-04     755       1841179                        Hamburg         HH   \n",
       "2020-03-04   29654       2511917                    Brandenburg         BB   \n",
       "2020-03-04     420        682986                         Bremen         HB   \n",
       "2020-03-04   19854       4084844           Rhineland-Palatinate         RP   \n",
       "...            ...           ...                            ...        ...   \n",
       "2020-05-18   21115       6265809                          Hesse         HE   \n",
       "2020-05-18     755       1841179                        Hamburg         HH   \n",
       "2020-05-18   19854       4084844           Rhineland-Palatinate         RP   \n",
       "2020-05-18   23213       1609675  Mecklenburg-Western Pomerania         MV   \n",
       "2020-05-18   20452       2208321                  Saxony-Anhalt         ST   \n",
       "\n",
       "            capital_y  area_y  population_y                           name  \\\n",
       "date                                                                         \n",
       "2020-03-04  Stuttgart   35677      11069533             Baden-Wuerttemberg   \n",
       "2020-03-04    Hamburg     755       1841179                        Hamburg   \n",
       "2020-03-04    Potsdam   29654       2511917                    Brandenburg   \n",
       "2020-03-04     Bremen     420        682986                         Bremen   \n",
       "2020-03-04      Mainz   19854       4084844           Rhineland-Palatinate   \n",
       "...               ...     ...           ...                            ...   \n",
       "2020-05-18  Wiesbaden   21115       6265809                          Hesse   \n",
       "2020-05-18    Hamburg     755       1841179                        Hamburg   \n",
       "2020-05-18      Mainz   19854       4084844           Rhineland-Palatinate   \n",
       "2020-05-18   Schwerin   23213       1609675  Mecklenburg-Western Pomerania   \n",
       "2020-05-18  Magdeburg   20452       2208321                  Saxony-Anhalt   \n",
       "\n",
       "           iso_code    capital   area  population  \n",
       "date                                               \n",
       "2020-03-04       BW  Stuttgart  35677    11069533  \n",
       "2020-03-04       HH    Hamburg    755     1841179  \n",
       "2020-03-04       BB    Potsdam  29654     2511917  \n",
       "2020-03-04       HB     Bremen    420      682986  \n",
       "2020-03-04       RP      Mainz  19854     4084844  \n",
       "...             ...        ...    ...         ...  \n",
       "2020-05-18       HE  Wiesbaden  21115     6265809  \n",
       "2020-05-18       HH    Hamburg    755     1841179  \n",
       "2020-05-18       RP      Mainz  19854     4084844  \n",
       "2020-05-18       MV   Schwerin  23213     1609675  \n",
       "2020-05-18       ST  Magdeburg  20452     2208321  \n",
       "\n",
       "[1292 rows x 20 columns]"
      ]
     },
     "execution_count": 647,
     "metadata": {},
     "output_type": "execute_result"
    }
   ],
   "source": [
    "df_rki_germany = df_rki_germany.merge(df_population_de, \n",
    "                                            how='inner',\n",
    "                                            left_on='land',\n",
    "                                            right_on='name',\n",
    "                                            left_index=False,\n",
    "                                            right_index=False,\n",
    "                                            suffixes=('_x', '_y'),)\n",
    "\n",
    "df_rki_germany['date'] = df_rki_germany['date'].astype('datetime64[ns]')\n",
    "df_rki_germany = df_rki_germany.sort_values('date', ascending=True)\n",
    "df_rki_germany.set_index('date', inplace=True, drop=False)\n",
    "df_rki_germany\n",
    "# df_rki_germany_processed = melt_rki_df(df_rki_germany)"
   ]
  },
  {
   "cell_type": "markdown",
   "metadata": {},
   "source": [
    "### Apple"
   ]
  },
  {
   "cell_type": "code",
   "execution_count": 639,
   "metadata": {},
   "outputs": [],
   "source": [
    "df_apple_processed = melt_apple_df(dfapple)\n",
    "apple_lands = {'Baden-Württemberg': 'Baden-Wuerttemberg',\n",
    "               'The Free Hanseatic City of Bremen':'Bremen',\n",
    "               'Mecklenburg-Vorpommern': 'Mecklenburg-Western Pomerania'\n",
    "              }\n",
    "df_apple_processed['region'] = df_apple_processed['region'].apply(lambda x: apple_lands.get(x) if apple_lands.get(x) is not None else x)"
   ]
  },
  {
   "cell_type": "code",
   "execution_count": 640,
   "metadata": {},
   "outputs": [],
   "source": [
    "df_apple_processed_de = df_apple_processed.loc[df_apple_processed.region.isin(df_rki_germany_processed.land.unique()), ['region', 'driving', 'walking', 'transit']]\n",
    "df_apple_processed_de['date'] = df_apple_processed_de.index\n",
    "df_apple_processed_de = df_apple_processed_de.rename(columns={'region': 'land'})"
   ]
  },
  {
   "cell_type": "markdown",
   "metadata": {},
   "source": [
    "### JHU"
   ]
  },
  {
   "cell_type": "code",
   "execution_count": 348,
   "metadata": {},
   "outputs": [],
   "source": [
    "def prepare_df_country(df_confirmed, df_dead, country, date_cutoff='2020-03-15'):\n",
    "    try:\n",
    "        pop = df_population_joined.loc[df_population_joined.country == country, 'population'].values[0]\n",
    "        iso_code = df_population_joined.loc[df_population_joined.country == country, 'iso_code'].values[0]\n",
    "        region = df_population_joined.loc[df_population_joined.country == country, 'region'].values[0]\n",
    "    except:\n",
    "        print('No population data for :', iso_code)\n",
    "        return False\n",
    "    \n",
    "    df = df_confirmed.loc[df_confirmed.index >= date_cutoff, [country]]\n",
    "    df.columns = ['confirmed']\n",
    "    df = add_variables_covid(df, population=pop)\n",
    "\n",
    "    df_d = df_dead.loc[df_dead.index >= date_cutoff, [country]]\n",
    "    df_d.columns = ['dead']\n",
    "    df = df.merge(df_d, left_index=True, right_index=True)\n",
    "    df = add_variables_covid(df, column='dead', population=pop)\n",
    "    \n",
    "    df['land'] = country\n",
    "    df['iso_code'] = iso_code\n",
    "    df['region_wb'] = region\n",
    "    df['population_wb'] = pop\n",
    "    \n",
    "    return df\n",
    "\n",
    "def melt_jhu_df(df_confirmed, df_dead):\n",
    "    _list = list()\n",
    "    for country in df_confirmed.columns:\n",
    "        df = prepare_df_country(df_confirmed, df_dead, country, date_cutoff='2020-03-15')\n",
    "        if type(df) == pd.core.frame.DataFrame:\n",
    "            _list.append(df)\n",
    "    return pd.concat([df for df in _list])"
   ]
  },
  {
   "cell_type": "code",
   "execution_count": 349,
   "metadata": {},
   "outputs": [],
   "source": [
    "df_jhu_processed = melt_jhu_df(dfcovid_conf_t, dfcovid_dead_t)\n",
    "df_jhu_processed = df_jhu_processed.loc[df_jhu_processed.region_wb.isnull()==False]"
   ]
  },
  {
   "cell_type": "code",
   "execution_count": 350,
   "metadata": {},
   "outputs": [],
   "source": [
    "df_eu_countries = pd.read_csv('eu_countries.csv')\n",
    "df_jhu_processed.loc[df_jhu_processed.land.isin(df_eu_countries.Country) == True, 'region_wb'] = 'European Union'"
   ]
  },
  {
   "cell_type": "code",
   "execution_count": 417,
   "metadata": {},
   "outputs": [],
   "source": [
    "df_jhu_processed['date'] = df_jhu_processed.index"
   ]
  },
  {
   "cell_type": "code",
   "execution_count": 351,
   "metadata": {},
   "outputs": [
    {
     "name": "stdout",
     "output_type": "stream",
     "text": [
      "Covi world max date 2020-05-16 00:00:00\n",
      "Covi world max date 2020-05-16 00:00:00\n"
     ]
    }
   ],
   "source": [
    "# print(\"Mobility max date:\", max(df_apple_processed.index))\n",
    "# print(\"RKI max date\", max(df_rki_germany_processed.index))\n",
    "print(\"Covi world max date\", max(dfcovid_conf_t.index))\n",
    "print(\"Covi world max date\", max(dfcovid_dead_t.index))"
   ]
  },
  {
   "cell_type": "markdown",
   "metadata": {},
   "source": [
    "# Save processed data"
   ]
  },
  {
   "cell_type": "code",
   "execution_count": 609,
   "metadata": {},
   "outputs": [],
   "source": [
    "DASH_COLUMNS = ['land', 'date', 'iso_code', 'confirmed_change', 'confirmed', 'confirmed_per_100k', 'population_wb', 'region_wb',\n",
    "                'confirmed_active_cases', 'confirmed_change_per_100k',\n",
    "                'confirmed_change_pct_3w', 'confirmed_doubling_days_3w_avg3', \n",
    "                'dead_change', 'dead', 'dead_per_100k', 'dead_change_per_100k', 'dead_doubling_days']"
   ]
  },
  {
   "cell_type": "code",
   "execution_count": 610,
   "metadata": {},
   "outputs": [],
   "source": [
    "df_jhu_processed.to_csv('data-processed/data_jhu_world.csv', index=False)\n",
    "df_jhu_processed.loc[:, DASH_COLUMNS].to_csv('dash/data/data_jhu_world.csv', index=False)"
   ]
  },
  {
   "cell_type": "code",
   "execution_count": 641,
   "metadata": {},
   "outputs": [],
   "source": [
    "df_rki_germany_processed.to_csv('data-processed/data_rki_prepared.csv')\n",
    "df_apple_processed.to_csv('data-processed/data_apple_prepared.csv')\n",
    "\n",
    "DASH_COLUMNS = ['land', 'date','iso_code', 'confirmed_change', 'confirmed', 'confirmed_active_cases', 'confirmed_change_per_100k', \n",
    "                'confirmed_change_pct_3w', 'confirmed_doubling_days_3w_avg3', 'dead_change', 'dead', 'dead_change_per_100k', 'dead_doubling_days']\n",
    "df_rki_germany_processed.loc[:, DASH_COLUMNS].to_csv('dash/data/data_rki_prepared_dash.csv')\n",
    "df_apple_processed_de.to_csv('data-processed/data_apple_prepared_de.csv')"
   ]
  },
  {
   "cell_type": "markdown",
   "metadata": {},
   "source": [
    "----"
   ]
  },
  {
   "cell_type": "markdown",
   "metadata": {},
   "source": [
    "----"
   ]
  },
  {
   "cell_type": "markdown",
   "metadata": {},
   "source": [
    "----"
   ]
  },
  {
   "cell_type": "code",
   "execution_count": 304,
   "metadata": {},
   "outputs": [
    {
     "data": {
      "text/plain": [
       "Index(['confirmed', 'dow', 'weekend', 'confirmed_avg3', 'confirmed_change',\n",
       "       'confirmed_change_avg3', 'confirmed_change_3w', 'confirmed_change_pct',\n",
       "       'confirmed_change_pct_avg3', 'confirmed_change_pct_3w',\n",
       "       'confirmed_change_acceleration', 'confirmed_change_acceleration_avg3',\n",
       "       'confirmed_doubling_days', 'confirmed_doubling_days_3w',\n",
       "       'confirmed_doubling_days_avg3', 'confirmed_doubling_days_3w_avg3',\n",
       "       'confirmed_active_cases', 'confirmed_peak', 'confirmed_day_since_10',\n",
       "       'confirmed_per_100k', 'confirmed_change_per_100k', 'dead', 'dead_avg3',\n",
       "       'dead_change', 'dead_change_avg3', 'dead_change_3w', 'dead_change_pct',\n",
       "       'dead_change_pct_avg3', 'dead_change_pct_3w',\n",
       "       'dead_change_acceleration', 'dead_change_acceleration_avg3',\n",
       "       'dead_doubling_days', 'dead_doubling_days_3w',\n",
       "       'dead_doubling_days_avg3', 'dead_doubling_days_3w_avg3',\n",
       "       'dead_day_since_10', 'dead_per_100k', 'dead_change_per_100k', 'land',\n",
       "       'iso_code', 'region_wb'],\n",
       "      dtype='object')"
      ]
     },
     "execution_count": 304,
     "metadata": {},
     "output_type": "execute_result"
    }
   ],
   "source": [
    "df_jhu_processed.columns"
   ]
  },
  {
   "cell_type": "code",
   "execution_count": 503,
   "metadata": {},
   "outputs": [],
   "source": [
    "import plotly.graph_objects as go\n",
    "from plotly import colors\n",
    "column = 'confirmed_change'\n",
    "df = df_jhu_processed.loc[df_jhu_processed.index == df_jhu_processed.index.max()]\n",
    "_colors=colors.diverging.Temps * 3"
   ]
  },
  {
   "cell_type": "code",
   "execution_count": 504,
   "metadata": {},
   "outputs": [],
   "source": [
    "df.loc[:, 'population_100k'] = df.loc[:, 'population_wb'] / 100000\n"
   ]
  },
  {
   "cell_type": "code",
   "execution_count": 505,
   "metadata": {},
   "outputs": [],
   "source": [
    "# import plotly.express as px\n",
    "# import numpy as np\n",
    "# fig = px.sunburst(df, path=['region_wb', 'land'], values=column,\n",
    "#                   color=column, hover_data=['iso_code'],\n",
    "#                   color_continuous_scale='RdBu',\n",
    "#                   color_continuous_midpoint=np.average(df[column], weights=df[column]))\n",
    "# fig.show()"
   ]
  },
  {
   "cell_type": "code",
   "execution_count": 600,
   "metadata": {},
   "outputs": [
    {
     "data": {
      "application/vnd.plotly.v1+json": {
       "config": {
        "plotlyServerURL": "https://plot.ly"
       },
       "data": [
        {
         "marker": {
          "color": "lightskyblue",
          "line": {
           "color": "#2cfec1",
           "width": 1
          },
          "opacity": 0.7
         },
         "type": "bar",
         "x": [
          "US",
          "Russia",
          "United Kingdom",
          "Brazil",
          "Spain",
          "Italy",
          "France",
          "Germany",
          "Turkey",
          "Iran",
          "India",
          "Peru",
          "China",
          "Canada",
          "Belgium",
          "Saudi Arabia",
          "Mexico",
          "Netherlands",
          "Chile",
          "Pakistan",
          "Ecuador",
          "Qatar",
          "Switzerland",
          "Sweden",
          "Portugal"
         ],
         "y": [
          1467820,
          272043,
          240161,
          233511,
          230698,
          224760,
          177207,
          175752,
          148067,
          118392,
          90648,
          88541,
          82947,
          77206,
          54989,
          52016,
          47144,
          43870,
          41428,
          38799,
          32763,
          30972,
          30572,
          29677,
          28810
         ]
        }
       ],
       "layout": {
        "autosize": true,
        "barmode": "group",
        "paper_bgcolor": "#1f2630",
        "plot_bgcolor": "#1f2630",
        "template": {
         "data": {
          "bar": [
           {
            "error_x": {
             "color": "#2a3f5f"
            },
            "error_y": {
             "color": "#2a3f5f"
            },
            "marker": {
             "line": {
              "color": "#E5ECF6",
              "width": 0.5
             }
            },
            "type": "bar"
           }
          ],
          "barpolar": [
           {
            "marker": {
             "line": {
              "color": "#E5ECF6",
              "width": 0.5
             }
            },
            "type": "barpolar"
           }
          ],
          "carpet": [
           {
            "aaxis": {
             "endlinecolor": "#2a3f5f",
             "gridcolor": "white",
             "linecolor": "white",
             "minorgridcolor": "white",
             "startlinecolor": "#2a3f5f"
            },
            "baxis": {
             "endlinecolor": "#2a3f5f",
             "gridcolor": "white",
             "linecolor": "white",
             "minorgridcolor": "white",
             "startlinecolor": "#2a3f5f"
            },
            "type": "carpet"
           }
          ],
          "choropleth": [
           {
            "colorbar": {
             "outlinewidth": 0,
             "ticks": ""
            },
            "type": "choropleth"
           }
          ],
          "contour": [
           {
            "colorbar": {
             "outlinewidth": 0,
             "ticks": ""
            },
            "colorscale": [
             [
              0,
              "#0d0887"
             ],
             [
              0.1111111111111111,
              "#46039f"
             ],
             [
              0.2222222222222222,
              "#7201a8"
             ],
             [
              0.3333333333333333,
              "#9c179e"
             ],
             [
              0.4444444444444444,
              "#bd3786"
             ],
             [
              0.5555555555555556,
              "#d8576b"
             ],
             [
              0.6666666666666666,
              "#ed7953"
             ],
             [
              0.7777777777777778,
              "#fb9f3a"
             ],
             [
              0.8888888888888888,
              "#fdca26"
             ],
             [
              1,
              "#f0f921"
             ]
            ],
            "type": "contour"
           }
          ],
          "contourcarpet": [
           {
            "colorbar": {
             "outlinewidth": 0,
             "ticks": ""
            },
            "type": "contourcarpet"
           }
          ],
          "heatmap": [
           {
            "colorbar": {
             "outlinewidth": 0,
             "ticks": ""
            },
            "colorscale": [
             [
              0,
              "#0d0887"
             ],
             [
              0.1111111111111111,
              "#46039f"
             ],
             [
              0.2222222222222222,
              "#7201a8"
             ],
             [
              0.3333333333333333,
              "#9c179e"
             ],
             [
              0.4444444444444444,
              "#bd3786"
             ],
             [
              0.5555555555555556,
              "#d8576b"
             ],
             [
              0.6666666666666666,
              "#ed7953"
             ],
             [
              0.7777777777777778,
              "#fb9f3a"
             ],
             [
              0.8888888888888888,
              "#fdca26"
             ],
             [
              1,
              "#f0f921"
             ]
            ],
            "type": "heatmap"
           }
          ],
          "heatmapgl": [
           {
            "colorbar": {
             "outlinewidth": 0,
             "ticks": ""
            },
            "colorscale": [
             [
              0,
              "#0d0887"
             ],
             [
              0.1111111111111111,
              "#46039f"
             ],
             [
              0.2222222222222222,
              "#7201a8"
             ],
             [
              0.3333333333333333,
              "#9c179e"
             ],
             [
              0.4444444444444444,
              "#bd3786"
             ],
             [
              0.5555555555555556,
              "#d8576b"
             ],
             [
              0.6666666666666666,
              "#ed7953"
             ],
             [
              0.7777777777777778,
              "#fb9f3a"
             ],
             [
              0.8888888888888888,
              "#fdca26"
             ],
             [
              1,
              "#f0f921"
             ]
            ],
            "type": "heatmapgl"
           }
          ],
          "histogram": [
           {
            "marker": {
             "colorbar": {
              "outlinewidth": 0,
              "ticks": ""
             }
            },
            "type": "histogram"
           }
          ],
          "histogram2d": [
           {
            "colorbar": {
             "outlinewidth": 0,
             "ticks": ""
            },
            "colorscale": [
             [
              0,
              "#0d0887"
             ],
             [
              0.1111111111111111,
              "#46039f"
             ],
             [
              0.2222222222222222,
              "#7201a8"
             ],
             [
              0.3333333333333333,
              "#9c179e"
             ],
             [
              0.4444444444444444,
              "#bd3786"
             ],
             [
              0.5555555555555556,
              "#d8576b"
             ],
             [
              0.6666666666666666,
              "#ed7953"
             ],
             [
              0.7777777777777778,
              "#fb9f3a"
             ],
             [
              0.8888888888888888,
              "#fdca26"
             ],
             [
              1,
              "#f0f921"
             ]
            ],
            "type": "histogram2d"
           }
          ],
          "histogram2dcontour": [
           {
            "colorbar": {
             "outlinewidth": 0,
             "ticks": ""
            },
            "colorscale": [
             [
              0,
              "#0d0887"
             ],
             [
              0.1111111111111111,
              "#46039f"
             ],
             [
              0.2222222222222222,
              "#7201a8"
             ],
             [
              0.3333333333333333,
              "#9c179e"
             ],
             [
              0.4444444444444444,
              "#bd3786"
             ],
             [
              0.5555555555555556,
              "#d8576b"
             ],
             [
              0.6666666666666666,
              "#ed7953"
             ],
             [
              0.7777777777777778,
              "#fb9f3a"
             ],
             [
              0.8888888888888888,
              "#fdca26"
             ],
             [
              1,
              "#f0f921"
             ]
            ],
            "type": "histogram2dcontour"
           }
          ],
          "mesh3d": [
           {
            "colorbar": {
             "outlinewidth": 0,
             "ticks": ""
            },
            "type": "mesh3d"
           }
          ],
          "parcoords": [
           {
            "line": {
             "colorbar": {
              "outlinewidth": 0,
              "ticks": ""
             }
            },
            "type": "parcoords"
           }
          ],
          "pie": [
           {
            "automargin": true,
            "type": "pie"
           }
          ],
          "scatter": [
           {
            "marker": {
             "colorbar": {
              "outlinewidth": 0,
              "ticks": ""
             }
            },
            "type": "scatter"
           }
          ],
          "scatter3d": [
           {
            "line": {
             "colorbar": {
              "outlinewidth": 0,
              "ticks": ""
             }
            },
            "marker": {
             "colorbar": {
              "outlinewidth": 0,
              "ticks": ""
             }
            },
            "type": "scatter3d"
           }
          ],
          "scattercarpet": [
           {
            "marker": {
             "colorbar": {
              "outlinewidth": 0,
              "ticks": ""
             }
            },
            "type": "scattercarpet"
           }
          ],
          "scattergeo": [
           {
            "marker": {
             "colorbar": {
              "outlinewidth": 0,
              "ticks": ""
             }
            },
            "type": "scattergeo"
           }
          ],
          "scattergl": [
           {
            "marker": {
             "colorbar": {
              "outlinewidth": 0,
              "ticks": ""
             }
            },
            "type": "scattergl"
           }
          ],
          "scattermapbox": [
           {
            "marker": {
             "colorbar": {
              "outlinewidth": 0,
              "ticks": ""
             }
            },
            "type": "scattermapbox"
           }
          ],
          "scatterpolar": [
           {
            "marker": {
             "colorbar": {
              "outlinewidth": 0,
              "ticks": ""
             }
            },
            "type": "scatterpolar"
           }
          ],
          "scatterpolargl": [
           {
            "marker": {
             "colorbar": {
              "outlinewidth": 0,
              "ticks": ""
             }
            },
            "type": "scatterpolargl"
           }
          ],
          "scatterternary": [
           {
            "marker": {
             "colorbar": {
              "outlinewidth": 0,
              "ticks": ""
             }
            },
            "type": "scatterternary"
           }
          ],
          "surface": [
           {
            "colorbar": {
             "outlinewidth": 0,
             "ticks": ""
            },
            "colorscale": [
             [
              0,
              "#0d0887"
             ],
             [
              0.1111111111111111,
              "#46039f"
             ],
             [
              0.2222222222222222,
              "#7201a8"
             ],
             [
              0.3333333333333333,
              "#9c179e"
             ],
             [
              0.4444444444444444,
              "#bd3786"
             ],
             [
              0.5555555555555556,
              "#d8576b"
             ],
             [
              0.6666666666666666,
              "#ed7953"
             ],
             [
              0.7777777777777778,
              "#fb9f3a"
             ],
             [
              0.8888888888888888,
              "#fdca26"
             ],
             [
              1,
              "#f0f921"
             ]
            ],
            "type": "surface"
           }
          ],
          "table": [
           {
            "cells": {
             "fill": {
              "color": "#EBF0F8"
             },
             "line": {
              "color": "white"
             }
            },
            "header": {
             "fill": {
              "color": "#C8D4E3"
             },
             "line": {
              "color": "white"
             }
            },
            "type": "table"
           }
          ]
         },
         "layout": {
          "annotationdefaults": {
           "arrowcolor": "#2a3f5f",
           "arrowhead": 0,
           "arrowwidth": 1
          },
          "coloraxis": {
           "colorbar": {
            "outlinewidth": 0,
            "ticks": ""
           }
          },
          "colorscale": {
           "diverging": [
            [
             0,
             "#8e0152"
            ],
            [
             0.1,
             "#c51b7d"
            ],
            [
             0.2,
             "#de77ae"
            ],
            [
             0.3,
             "#f1b6da"
            ],
            [
             0.4,
             "#fde0ef"
            ],
            [
             0.5,
             "#f7f7f7"
            ],
            [
             0.6,
             "#e6f5d0"
            ],
            [
             0.7,
             "#b8e186"
            ],
            [
             0.8,
             "#7fbc41"
            ],
            [
             0.9,
             "#4d9221"
            ],
            [
             1,
             "#276419"
            ]
           ],
           "sequential": [
            [
             0,
             "#0d0887"
            ],
            [
             0.1111111111111111,
             "#46039f"
            ],
            [
             0.2222222222222222,
             "#7201a8"
            ],
            [
             0.3333333333333333,
             "#9c179e"
            ],
            [
             0.4444444444444444,
             "#bd3786"
            ],
            [
             0.5555555555555556,
             "#d8576b"
            ],
            [
             0.6666666666666666,
             "#ed7953"
            ],
            [
             0.7777777777777778,
             "#fb9f3a"
            ],
            [
             0.8888888888888888,
             "#fdca26"
            ],
            [
             1,
             "#f0f921"
            ]
           ],
           "sequentialminus": [
            [
             0,
             "#0d0887"
            ],
            [
             0.1111111111111111,
             "#46039f"
            ],
            [
             0.2222222222222222,
             "#7201a8"
            ],
            [
             0.3333333333333333,
             "#9c179e"
            ],
            [
             0.4444444444444444,
             "#bd3786"
            ],
            [
             0.5555555555555556,
             "#d8576b"
            ],
            [
             0.6666666666666666,
             "#ed7953"
            ],
            [
             0.7777777777777778,
             "#fb9f3a"
            ],
            [
             0.8888888888888888,
             "#fdca26"
            ],
            [
             1,
             "#f0f921"
            ]
           ]
          },
          "colorway": [
           "#636efa",
           "#EF553B",
           "#00cc96",
           "#ab63fa",
           "#FFA15A",
           "#19d3f3",
           "#FF6692",
           "#B6E880",
           "#FF97FF",
           "#FECB52"
          ],
          "font": {
           "color": "#2a3f5f"
          },
          "geo": {
           "bgcolor": "white",
           "lakecolor": "white",
           "landcolor": "#E5ECF6",
           "showlakes": true,
           "showland": true,
           "subunitcolor": "white"
          },
          "hoverlabel": {
           "align": "left"
          },
          "hovermode": "closest",
          "mapbox": {
           "style": "light"
          },
          "paper_bgcolor": "white",
          "plot_bgcolor": "#E5ECF6",
          "polar": {
           "angularaxis": {
            "gridcolor": "white",
            "linecolor": "white",
            "ticks": ""
           },
           "bgcolor": "#E5ECF6",
           "radialaxis": {
            "gridcolor": "white",
            "linecolor": "white",
            "ticks": ""
           }
          },
          "scene": {
           "xaxis": {
            "backgroundcolor": "#E5ECF6",
            "gridcolor": "white",
            "gridwidth": 2,
            "linecolor": "white",
            "showbackground": true,
            "ticks": "",
            "zerolinecolor": "white"
           },
           "yaxis": {
            "backgroundcolor": "#E5ECF6",
            "gridcolor": "white",
            "gridwidth": 2,
            "linecolor": "white",
            "showbackground": true,
            "ticks": "",
            "zerolinecolor": "white"
           },
           "zaxis": {
            "backgroundcolor": "#E5ECF6",
            "gridcolor": "white",
            "gridwidth": 2,
            "linecolor": "white",
            "showbackground": true,
            "ticks": "",
            "zerolinecolor": "white"
           }
          },
          "shapedefaults": {
           "line": {
            "color": "#2a3f5f"
           }
          },
          "ternary": {
           "aaxis": {
            "gridcolor": "white",
            "linecolor": "white",
            "ticks": ""
           },
           "baxis": {
            "gridcolor": "white",
            "linecolor": "white",
            "ticks": ""
           },
           "bgcolor": "#E5ECF6",
           "caxis": {
            "gridcolor": "white",
            "linecolor": "white",
            "ticks": ""
           }
          },
          "title": {
           "x": 0.05
          },
          "xaxis": {
           "automargin": true,
           "gridcolor": "white",
           "linecolor": "white",
           "ticks": "",
           "title": {
            "standoff": 15
           },
           "zerolinecolor": "white",
           "zerolinewidth": 2
          },
          "yaxis": {
           "automargin": true,
           "gridcolor": "white",
           "linecolor": "white",
           "ticks": "",
           "title": {
            "standoff": 15
           },
           "zerolinecolor": "white",
           "zerolinewidth": 2
          }
         }
        },
        "xaxis": {
         "autorange": true,
         "color": "#1f2630",
         "range": [
          -0.5,
          24.5
         ],
         "tickangle": -90,
         "tickfont": {
          "color": "#2cfec1"
         },
         "type": "category"
        },
        "yaxis": {
         "autorange": true,
         "color": "#1f2630",
         "range": [
          0,
          1545073.6842105263
         ],
         "showgrid": false,
         "showline": true,
         "tickfont": {
          "color": "#2cfec1"
         },
         "type": "linear"
        }
       }
      },
      "image/png": "[encoded data removed]",
      "text/html": [
       "<div>\n",
       "        \n",
       "        \n",
       "            <div id=\"c20696d8-1e08-47ce-b026-e44986cdb2e8\" class=\"plotly-graph-div\" style=\"height:525px; width:100%;\"></div>\n",
       "            <script type=\"text/javascript\">\n",
       "                require([\"plotly\"], function(Plotly) {\n",
       "                    window.PLOTLYENV=window.PLOTLYENV || {};\n",
       "                    \n",
       "                if (document.getElementById(\"c20696d8-1e08-47ce-b026-e44986cdb2e8\")) {\n",
       "                    Plotly.newPlot(\n",
       "                        'c20696d8-1e08-47ce-b026-e44986cdb2e8',\n",
       "                        [{\"marker\": {\"color\": \"lightskyblue\", \"line\": {\"color\": \"#2cfec1\", \"width\": 1}, \"opacity\": 0.7}, \"type\": \"bar\", \"x\": [\"US\", \"Russia\", \"United Kingdom\", \"Brazil\", \"Spain\", \"Italy\", \"France\", \"Germany\", \"Turkey\", \"Iran\", \"India\", \"Peru\", \"China\", \"Canada\", \"Belgium\", \"Saudi Arabia\", \"Mexico\", \"Netherlands\", \"Chile\", \"Pakistan\", \"Ecuador\", \"Qatar\", \"Switzerland\", \"Sweden\", \"Portugal\"], \"y\": [1467820.0, 272043.0, 240161.0, 233511.0, 230698.0, 224760.0, 177207.0, 175752.0, 148067.0, 118392.0, 90648.0, 88541.0, 82947.0, 77206.0, 54989.0, 52016.0, 47144.0, 43870.0, 41428.0, 38799.0, 32763.0, 30972.0, 30572.0, 29677.0, 28810.0]}],\n",
       "                        {\"barmode\": \"group\", \"paper_bgcolor\": \"#1f2630\", \"plot_bgcolor\": \"#1f2630\", \"template\": {\"data\": {\"bar\": [{\"error_x\": {\"color\": \"#2a3f5f\"}, \"error_y\": {\"color\": \"#2a3f5f\"}, \"marker\": {\"line\": {\"color\": \"#E5ECF6\", \"width\": 0.5}}, \"type\": \"bar\"}], \"barpolar\": [{\"marker\": {\"line\": {\"color\": \"#E5ECF6\", \"width\": 0.5}}, \"type\": \"barpolar\"}], \"carpet\": [{\"aaxis\": {\"endlinecolor\": \"#2a3f5f\", \"gridcolor\": \"white\", \"linecolor\": \"white\", \"minorgridcolor\": \"white\", \"startlinecolor\": \"#2a3f5f\"}, \"baxis\": {\"endlinecolor\": \"#2a3f5f\", \"gridcolor\": \"white\", \"linecolor\": \"white\", \"minorgridcolor\": \"white\", \"startlinecolor\": \"#2a3f5f\"}, \"type\": \"carpet\"}], \"choropleth\": [{\"colorbar\": {\"outlinewidth\": 0, \"ticks\": \"\"}, \"type\": \"choropleth\"}], \"contour\": [{\"colorbar\": {\"outlinewidth\": 0, \"ticks\": \"\"}, \"colorscale\": [[0.0, \"#0d0887\"], [0.1111111111111111, \"#46039f\"], [0.2222222222222222, \"#7201a8\"], [0.3333333333333333, \"#9c179e\"], [0.4444444444444444, \"#bd3786\"], [0.5555555555555556, \"#d8576b\"], [0.6666666666666666, \"#ed7953\"], [0.7777777777777778, \"#fb9f3a\"], [0.8888888888888888, \"#fdca26\"], [1.0, \"#f0f921\"]], \"type\": \"contour\"}], \"contourcarpet\": [{\"colorbar\": {\"outlinewidth\": 0, \"ticks\": \"\"}, \"type\": \"contourcarpet\"}], \"heatmap\": [{\"colorbar\": {\"outlinewidth\": 0, \"ticks\": \"\"}, \"colorscale\": [[0.0, \"#0d0887\"], [0.1111111111111111, \"#46039f\"], [0.2222222222222222, \"#7201a8\"], [0.3333333333333333, \"#9c179e\"], [0.4444444444444444, \"#bd3786\"], [0.5555555555555556, \"#d8576b\"], [0.6666666666666666, \"#ed7953\"], [0.7777777777777778, \"#fb9f3a\"], [0.8888888888888888, \"#fdca26\"], [1.0, \"#f0f921\"]], \"type\": \"heatmap\"}], \"heatmapgl\": [{\"colorbar\": {\"outlinewidth\": 0, \"ticks\": \"\"}, \"colorscale\": [[0.0, \"#0d0887\"], [0.1111111111111111, \"#46039f\"], [0.2222222222222222, \"#7201a8\"], [0.3333333333333333, \"#9c179e\"], [0.4444444444444444, \"#bd3786\"], [0.5555555555555556, \"#d8576b\"], [0.6666666666666666, \"#ed7953\"], [0.7777777777777778, \"#fb9f3a\"], [0.8888888888888888, \"#fdca26\"], [1.0, \"#f0f921\"]], \"type\": \"heatmapgl\"}], \"histogram\": [{\"marker\": {\"colorbar\": {\"outlinewidth\": 0, \"ticks\": \"\"}}, \"type\": \"histogram\"}], \"histogram2d\": [{\"colorbar\": {\"outlinewidth\": 0, \"ticks\": \"\"}, \"colorscale\": [[0.0, \"#0d0887\"], [0.1111111111111111, \"#46039f\"], [0.2222222222222222, \"#7201a8\"], [0.3333333333333333, \"#9c179e\"], [0.4444444444444444, \"#bd3786\"], [0.5555555555555556, \"#d8576b\"], [0.6666666666666666, \"#ed7953\"], [0.7777777777777778, \"#fb9f3a\"], [0.8888888888888888, \"#fdca26\"], [1.0, \"#f0f921\"]], \"type\": \"histogram2d\"}], \"histogram2dcontour\": [{\"colorbar\": {\"outlinewidth\": 0, \"ticks\": \"\"}, \"colorscale\": [[0.0, \"#0d0887\"], [0.1111111111111111, \"#46039f\"], [0.2222222222222222, \"#7201a8\"], [0.3333333333333333, \"#9c179e\"], [0.4444444444444444, \"#bd3786\"], [0.5555555555555556, \"#d8576b\"], [0.6666666666666666, \"#ed7953\"], [0.7777777777777778, \"#fb9f3a\"], [0.8888888888888888, \"#fdca26\"], [1.0, \"#f0f921\"]], \"type\": \"histogram2dcontour\"}], \"mesh3d\": [{\"colorbar\": {\"outlinewidth\": 0, \"ticks\": \"\"}, \"type\": \"mesh3d\"}], \"parcoords\": [{\"line\": {\"colorbar\": {\"outlinewidth\": 0, \"ticks\": \"\"}}, \"type\": \"parcoords\"}], \"pie\": [{\"automargin\": true, \"type\": \"pie\"}], \"scatter\": [{\"marker\": {\"colorbar\": {\"outlinewidth\": 0, \"ticks\": \"\"}}, \"type\": \"scatter\"}], \"scatter3d\": [{\"line\": {\"colorbar\": {\"outlinewidth\": 0, \"ticks\": \"\"}}, \"marker\": {\"colorbar\": {\"outlinewidth\": 0, \"ticks\": \"\"}}, \"type\": \"scatter3d\"}], \"scattercarpet\": [{\"marker\": {\"colorbar\": {\"outlinewidth\": 0, \"ticks\": \"\"}}, \"type\": \"scattercarpet\"}], \"scattergeo\": [{\"marker\": {\"colorbar\": {\"outlinewidth\": 0, \"ticks\": \"\"}}, \"type\": \"scattergeo\"}], \"scattergl\": [{\"marker\": {\"colorbar\": {\"outlinewidth\": 0, \"ticks\": \"\"}}, \"type\": \"scattergl\"}], \"scattermapbox\": [{\"marker\": {\"colorbar\": {\"outlinewidth\": 0, \"ticks\": \"\"}}, \"type\": \"scattermapbox\"}], \"scatterpolar\": [{\"marker\": {\"colorbar\": {\"outlinewidth\": 0, \"ticks\": \"\"}}, \"type\": \"scatterpolar\"}], \"scatterpolargl\": [{\"marker\": {\"colorbar\": {\"outlinewidth\": 0, \"ticks\": \"\"}}, \"type\": \"scatterpolargl\"}], \"scatterternary\": [{\"marker\": {\"colorbar\": {\"outlinewidth\": 0, \"ticks\": \"\"}}, \"type\": \"scatterternary\"}], \"surface\": [{\"colorbar\": {\"outlinewidth\": 0, \"ticks\": \"\"}, \"colorscale\": [[0.0, \"#0d0887\"], [0.1111111111111111, \"#46039f\"], [0.2222222222222222, \"#7201a8\"], [0.3333333333333333, \"#9c179e\"], [0.4444444444444444, \"#bd3786\"], [0.5555555555555556, \"#d8576b\"], [0.6666666666666666, \"#ed7953\"], [0.7777777777777778, \"#fb9f3a\"], [0.8888888888888888, \"#fdca26\"], [1.0, \"#f0f921\"]], \"type\": \"surface\"}], \"table\": [{\"cells\": {\"fill\": {\"color\": \"#EBF0F8\"}, \"line\": {\"color\": \"white\"}}, \"header\": {\"fill\": {\"color\": \"#C8D4E3\"}, \"line\": {\"color\": \"white\"}}, \"type\": \"table\"}]}, \"layout\": {\"annotationdefaults\": {\"arrowcolor\": \"#2a3f5f\", \"arrowhead\": 0, \"arrowwidth\": 1}, \"coloraxis\": {\"colorbar\": {\"outlinewidth\": 0, \"ticks\": \"\"}}, \"colorscale\": {\"diverging\": [[0, \"#8e0152\"], [0.1, \"#c51b7d\"], [0.2, \"#de77ae\"], [0.3, \"#f1b6da\"], [0.4, \"#fde0ef\"], [0.5, \"#f7f7f7\"], [0.6, \"#e6f5d0\"], [0.7, \"#b8e186\"], [0.8, \"#7fbc41\"], [0.9, \"#4d9221\"], [1, \"#276419\"]], \"sequential\": [[0.0, \"#0d0887\"], [0.1111111111111111, \"#46039f\"], [0.2222222222222222, \"#7201a8\"], [0.3333333333333333, \"#9c179e\"], [0.4444444444444444, \"#bd3786\"], [0.5555555555555556, \"#d8576b\"], [0.6666666666666666, \"#ed7953\"], [0.7777777777777778, \"#fb9f3a\"], [0.8888888888888888, \"#fdca26\"], [1.0, \"#f0f921\"]], \"sequentialminus\": [[0.0, \"#0d0887\"], [0.1111111111111111, \"#46039f\"], [0.2222222222222222, \"#7201a8\"], [0.3333333333333333, \"#9c179e\"], [0.4444444444444444, \"#bd3786\"], [0.5555555555555556, \"#d8576b\"], [0.6666666666666666, \"#ed7953\"], [0.7777777777777778, \"#fb9f3a\"], [0.8888888888888888, \"#fdca26\"], [1.0, \"#f0f921\"]]}, \"colorway\": [\"#636efa\", \"#EF553B\", \"#00cc96\", \"#ab63fa\", \"#FFA15A\", \"#19d3f3\", \"#FF6692\", \"#B6E880\", \"#FF97FF\", \"#FECB52\"], \"font\": {\"color\": \"#2a3f5f\"}, \"geo\": {\"bgcolor\": \"white\", \"lakecolor\": \"white\", \"landcolor\": \"#E5ECF6\", \"showlakes\": true, \"showland\": true, \"subunitcolor\": \"white\"}, \"hoverlabel\": {\"align\": \"left\"}, \"hovermode\": \"closest\", \"mapbox\": {\"style\": \"light\"}, \"paper_bgcolor\": \"white\", \"plot_bgcolor\": \"#E5ECF6\", \"polar\": {\"angularaxis\": {\"gridcolor\": \"white\", \"linecolor\": \"white\", \"ticks\": \"\"}, \"bgcolor\": \"#E5ECF6\", \"radialaxis\": {\"gridcolor\": \"white\", \"linecolor\": \"white\", \"ticks\": \"\"}}, \"scene\": {\"xaxis\": {\"backgroundcolor\": \"#E5ECF6\", \"gridcolor\": \"white\", \"gridwidth\": 2, \"linecolor\": \"white\", \"showbackground\": true, \"ticks\": \"\", \"zerolinecolor\": \"white\"}, \"yaxis\": {\"backgroundcolor\": \"#E5ECF6\", \"gridcolor\": \"white\", \"gridwidth\": 2, \"linecolor\": \"white\", \"showbackground\": true, \"ticks\": \"\", \"zerolinecolor\": \"white\"}, \"zaxis\": {\"backgroundcolor\": \"#E5ECF6\", \"gridcolor\": \"white\", \"gridwidth\": 2, \"linecolor\": \"white\", \"showbackground\": true, \"ticks\": \"\", \"zerolinecolor\": \"white\"}}, \"shapedefaults\": {\"line\": {\"color\": \"#2a3f5f\"}}, \"ternary\": {\"aaxis\": {\"gridcolor\": \"white\", \"linecolor\": \"white\", \"ticks\": \"\"}, \"baxis\": {\"gridcolor\": \"white\", \"linecolor\": \"white\", \"ticks\": \"\"}, \"bgcolor\": \"#E5ECF6\", \"caxis\": {\"gridcolor\": \"white\", \"linecolor\": \"white\", \"ticks\": \"\"}}, \"title\": {\"x\": 0.05}, \"xaxis\": {\"automargin\": true, \"gridcolor\": \"white\", \"linecolor\": \"white\", \"ticks\": \"\", \"title\": {\"standoff\": 15}, \"zerolinecolor\": \"white\", \"zerolinewidth\": 2}, \"yaxis\": {\"automargin\": true, \"gridcolor\": \"white\", \"linecolor\": \"white\", \"ticks\": \"\", \"title\": {\"standoff\": 15}, \"zerolinecolor\": \"white\", \"zerolinewidth\": 2}}}, \"xaxis\": {\"color\": \"#1f2630\", \"tickangle\": -90, \"tickfont\": {\"color\": \"#2cfec1\"}}, \"yaxis\": {\"color\": \"#1f2630\", \"showgrid\": false, \"showline\": true, \"tickfont\": {\"color\": \"#2cfec1\"}}},\n",
       "                        {\"responsive\": true}\n",
       "                    ).then(function(){\n",
       "                            \n",
       "var gd = document.getElementById('c20696d8-1e08-47ce-b026-e44986cdb2e8');\n",
       "var x = new MutationObserver(function (mutations, observer) {{\n",
       "        var display = window.getComputedStyle(gd).display;\n",
       "        if (!display || display === 'none') {{\n",
       "            console.log([gd, 'removed!']);\n",
       "            Plotly.purge(gd);\n",
       "            observer.disconnect();\n",
       "        }}\n",
       "}});\n",
       "\n",
       "// Listen for the removal of the full notebook cells\n",
       "var notebookContainer = gd.closest('#notebook-container');\n",
       "if (notebookContainer) {{\n",
       "    x.observe(notebookContainer, {childList: true});\n",
       "}}\n",
       "\n",
       "// Listen for the clearing of the current output cell\n",
       "var outputEl = gd.closest('.output');\n",
       "if (outputEl) {{\n",
       "    x.observe(outputEl, {childList: true});\n",
       "}}\n",
       "\n",
       "                        })\n",
       "                };\n",
       "                });\n",
       "            </script>\n",
       "        </div>"
      ]
     },
     "metadata": {},
     "output_type": "display_data"
    }
   ],
   "source": [
    "import plotly.graph_objects as go\n",
    "#  aliceblue, antiquewhite, aqua, aquamarine, azure,\n",
    "#             beige, bisque, black, blanchedalmond, blue,\n",
    "#             blueviolet, brown, burlywood, cadetblue,\n",
    "#             chartreuse, chocolate, coral, cornflowerblue,\n",
    "#             cornsilk, crimson, cyan, darkblue, darkcyan,\n",
    "#             darkgoldenrod, darkgray, darkgrey, darkgreen,\n",
    "#             darkkhaki, darkmagenta, darkolivegreen, darkorange,\n",
    "#             darkorchid, darkred, darksalmon, darkseagreen,\n",
    "#             darkslateblue, darkslategray, darkslategrey,\n",
    "#             darkturquoise, darkviolet, deeppink, deepskyblue,\n",
    "#             dimgray, dimgrey, dodgerblue, firebrick,\n",
    "#             floralwhite, forestgreen, fuchsia, gainsboro,\n",
    "#             ghostwhite, gold, goldenrod, gray, grey, green,\n",
    "#             greenyellow, honeydew, hotpink, indianred, indigo,\n",
    "#             ivory, khaki, lavender, lavenderblush, lawngreen,\n",
    "#             lemonchiffon, lightblue, lightcoral, lightcyan,\n",
    "#             lightgoldenrodyellow, lightgray, lightgrey,\n",
    "#             lightgreen, lightpink, lightsalmon, lightseagreen,\n",
    "#             lightskyblue, lightslategray, lightslategrey,\n",
    "#             lightsteelblue, lightyellow, lime, limegreen,\n",
    "#             linen, magenta, maroon, mediumaquamarine,\n",
    "#             mediumblue, mediumorchid, mediumpurple,\n",
    "#             mediumseagreen, mediumslateblue, mediumspringgreen,\n",
    "#             mediumturquoise, mediumvioletred, midnightblue,\n",
    "#             mintcream, mistyrose, moccasin, navajowhite, navy,\n",
    "#             oldlace, olive, olivedrab, orange, orangered,\n",
    "#             orchid, palegoldenrod, palegreen, paleturquoise,\n",
    "#             palevioletred, papayawhip, peachpuff, peru, pink,\n",
    "#             plum, powderblue, purple, red, rosybrown,\n",
    "#             royalblue, rebeccapurple, saddlebrown, salmon,\n",
    "#             sandybrown, seagreen, seashell, sienna, silver,\n",
    "#             skyblue, slateblue, slategray, slategrey, snow,\n",
    "#             springgreen, steelblue, tan, teal, thistle, tomato,\n",
    "#             turquoise, violet, wheat, white, whitesmoke,\n",
    "#             yellow, yellowgreen\n",
    "df = df.loc[df.index == df.index.max()].sort_values('confirmed', ascending=False).head(25)\n",
    "color = '#1f2630'\n",
    "gray_color = 'rgb(204, 204, 204)'\n",
    "fig = go.Figure()\n",
    "fig.add_trace(go.Bar(\n",
    "    x=df['land'],\n",
    "    y=df['confirmed'],\n",
    "#     name='Name',\n",
    "    marker=dict(color='lightskyblue',\n",
    "                opacity=0.7,\n",
    "                line=dict(\n",
    "                    color='#2cfec1',\n",
    "                    width=1\n",
    "                 )\n",
    ")))\n",
    "\n",
    "# Here we modify the tickangle of the xaxis, resulting in rotated labels.\n",
    "fig.update_layout(barmode='group', xaxis_tickangle=-90,\n",
    "                 plot_bgcolor=color,\n",
    "                      paper_bgcolor=color,\n",
    "                 yaxis=dict(\n",
    "                     showline=True,\n",
    "            showgrid=False,\n",
    "#         title='USD (millions)',\n",
    "#         titlefont_size=16,\n",
    "#         tickfont_size=14,\n",
    "        tickfont_color='#2cfec1',\n",
    "                     color=color\n",
    "    ),\n",
    "                  xaxis=dict(\n",
    "#         title='USD (millions)',\n",
    "#         titlefont_size=16,\n",
    "#         tickfont_size=14,\n",
    "        tickfont_color='#2cfec1',color=color\n",
    "    )\n",
    "                  \n",
    "                  ,)\n",
    "fig.show()"
   ]
  },
  {
   "cell_type": "code",
   "execution_count": null,
   "metadata": {},
   "outputs": [],
   "source": []
  }
 ],
 "metadata": {
  "kernelspec": {
   "display_name": "Python 3",
   "language": "python",
   "name": "python3"
  },
  "language_info": {
   "codemirror_mode": {
    "name": "ipython",
    "version": 3
   },
   "file_extension": ".py",
   "mimetype": "text/x-python",
   "name": "python",
   "nbconvert_exporter": "python",
   "pygments_lexer": "ipython3",
   "version": "3.7.3"
  }
 },
 "nbformat": 4,
 "nbformat_minor": 4
}
