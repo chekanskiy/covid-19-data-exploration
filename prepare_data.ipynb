{
 "cells": [
  {
   "cell_type": "code",
   "execution_count": 22,
   "metadata": {},
   "outputs": [
    {
     "name": "stdout",
     "output_type": "stream",
     "text": [
      "The autoreload extension is already loaded. To reload it, use:\n",
      "  %reload_ext autoreload\n"
     ]
    }
   ],
   "source": [
    "import pandas as pd\n",
    "import numpy as np\n",
    "import datetime\n",
    "import plotly\n",
    "from plotly import graph_objects as go\n",
    "pd.set_option('display.max_rows', 100)\n",
    "\n",
    "%load_ext autoreload\n",
    "\n",
    "from charts import plot_line, plot_bar, plot_peak, print_charts_country\n",
    "from features import add_variables_covid, add_variables_apple, join_series_day_since, join_series_date\n",
    "\n",
    "%matplotlib inline"
   ]
  },
  {
   "cell_type": "code",
   "execution_count": 667,
   "metadata": {},
   "outputs": [],
   "source": [
    "date_apple = '2020-05-14'"
   ]
  },
  {
   "cell_type": "code",
   "execution_count": 488,
   "metadata": {},
   "outputs": [],
   "source": [
    "def apple_filter_region(df, region):\n",
    "    df_region = df[df.region == region].T\n",
    "    df_region.columns = df_region.loc['transportation_type', :]\n",
    "    df_region = df_region[~df_region.index.isin(['geo_type', 'region', 'transportation_type', 'alternative_name'])]\n",
    "    \n",
    "    df_region['dates'] = pd.to_datetime(df_region.index)\n",
    "    df_region.set_index('dates', inplace=True)\n",
    "    df_region = df_region.astype('float')\n",
    "    df_region['region'] = region\n",
    "    \n",
    "    return df_region"
   ]
  },
  {
   "cell_type": "code",
   "execution_count": 489,
   "metadata": {},
   "outputs": [],
   "source": [
    "def add_forecast_prophet(df_in, column, window=60, ):\n",
    "    from fbprophet import Prophet\n",
    "    df = df_in.loc[:, [column]].dropna()\n",
    "    df['ds'] = df.index\n",
    "    df.columns = ['y', 'ds']\n",
    "    m = Prophet()\n",
    "    m.fit(df)\n",
    "    future = m.make_future_dataframe(periods=window)\n",
    "    forecast = m.predict(future)\n",
    "    forecast.set_index(forecast.ds, inplace=True)\n",
    "    forecast = forecast.loc[:, ['yhat', 'yhat_lower', 'yhat_upper']]\n",
    "    df_extra_dates = pd.DataFrame({ 'day': pd.Series([max(df_in.index) + datetime.timedelta(1), max(df_in.index) + datetime.timedelta(window)])})\n",
    "    df_extra_dates.set_index('day',inplace=True)\n",
    "    df_extra_dates = df_extra_dates.asfreq('D')\n",
    "    df_in = df_in.append(df_extra_dates)\n",
    "    df_result = pd.concat([df_in, forecast ], axis=1)\n",
    "    df_result[f'{column}_pred'] = df_result.loc[df_result[column].isnull() == True, ['yhat']]\n",
    "    \n",
    "    return df_result\n"
   ]
  },
  {
   "cell_type": "code",
   "execution_count": 490,
   "metadata": {},
   "outputs": [],
   "source": [
    "def prepare_df_country(df_confirmed, df_dead, country, date_cutoff='2020-03-15'):\n",
    "    try:\n",
    "        pop = df_population.loc[df_population.country == country, 'population'].values[0]\n",
    "    except:\n",
    "        print('No population data for :', country)\n",
    "        return False\n",
    "    \n",
    "    df = df_confirmed.loc[df_confirmed.index >= date_cutoff, [country]]\n",
    "    df.columns = ['confirmed']\n",
    "    df = add_variables_covid(df, population=pop)\n",
    "\n",
    "    df_d = df_dead.loc[df_dead.index >= date_cutoff, [country]]\n",
    "    df_d.columns = ['dead']\n",
    "    df = df.merge(df_d, left_index=True, right_index=True)\n",
    "    df = add_variables_covid(df, column='dead', population=pop)\n",
    "    \n",
    "    return df"
   ]
  },
  {
   "cell_type": "code",
   "execution_count": 684,
   "metadata": {},
   "outputs": [],
   "source": [
    "def melt_apple_df(dfapple):\n",
    "    _list = list()\n",
    "    for region in dfapple.region.unique():\n",
    "        dfapple_region = apple_filter_region(dfapple, region)\n",
    "        df = add_variables_apple(dfapple_region)\n",
    "        _list.append(df)\n",
    "    ret = pd.concat([df for df in _list])\n",
    "    return ret"
   ]
  },
  {
   "cell_type": "code",
   "execution_count": 492,
   "metadata": {},
   "outputs": [],
   "source": [
    "def melt_rki_df(df_rki_germany):\n",
    "    _list = list()\n",
    "    for land in df_rki_germany.land.unique():\n",
    "        df = df_rki_germany.loc[df_rki_germany.land == land, :].copy()\n",
    "        pop = int(df.loc[df.land==land, 'population'][0])\n",
    "        df = add_variables_covid(df, 'confirmed', population=pop)\n",
    "        df = add_variables_covid(df, 'dead', population=pop)\n",
    "        _list.append(df)\n",
    "    return pd.concat([df for df in _list])"
   ]
  },
  {
   "cell_type": "code",
   "execution_count": 494,
   "metadata": {},
   "outputs": [],
   "source": [
    "def melt_jhu_df(df_confirmed, df_dead):\n",
    "    _list = list()\n",
    "    for country in df_confirmed.columns:\n",
    "        df = prepare_df_country(df_confirmed, df_dead, country, date_cutoff='2020-03-15')\n",
    "        if type(df) == pd.core.frame.DataFrame:\n",
    "            _list.append(df)\n",
    "    pd.concat([df for df in _list])"
   ]
  },
  {
   "cell_type": "markdown",
   "metadata": {},
   "source": [
    "# World Bank Data"
   ]
  },
  {
   "cell_type": "code",
   "execution_count": 28,
   "metadata": {
    "scrolled": true
   },
   "outputs": [
    {
     "data": {
      "text/html": [
       "<div>\n",
       "<style scoped>\n",
       "    .dataframe tbody tr th:only-of-type {\n",
       "        vertical-align: middle;\n",
       "    }\n",
       "\n",
       "    .dataframe tbody tr th {\n",
       "        vertical-align: top;\n",
       "    }\n",
       "\n",
       "    .dataframe thead th {\n",
       "        text-align: right;\n",
       "    }\n",
       "</style>\n",
       "<table border=\"1\" class=\"dataframe\">\n",
       "  <thead>\n",
       "    <tr style=\"text-align: right;\">\n",
       "      <th></th>\n",
       "      <th>region</th>\n",
       "      <th>country_wb</th>\n",
       "      <th>population</th>\n",
       "      <th>iso_code</th>\n",
       "    </tr>\n",
       "    <tr>\n",
       "      <th>id</th>\n",
       "      <th></th>\n",
       "      <th></th>\n",
       "      <th></th>\n",
       "      <th></th>\n",
       "    </tr>\n",
       "  </thead>\n",
       "  <tbody>\n",
       "    <tr>\n",
       "      <th>ABW</th>\n",
       "      <td>Latin America &amp; Caribbean</td>\n",
       "      <td>Aruba</td>\n",
       "      <td>105845.0</td>\n",
       "      <td>ABW</td>\n",
       "    </tr>\n",
       "  </tbody>\n",
       "</table>\n",
       "</div>"
      ],
      "text/plain": [
       "                         region country_wb  population iso_code\n",
       "id                                                             \n",
       "ABW  Latin America & Caribbean       Aruba    105845.0      ABW"
      ]
     },
     "execution_count": 28,
     "metadata": {},
     "output_type": "execute_result"
    }
   ],
   "source": [
    "import world_bank_data as wb\n",
    "\n",
    "countries = wb.get_countries()\n",
    "\n",
    "# population = wb.get_series('SP.POP.TOTL', mrv=1)  # Most recent value\n",
    "population = wb.get_series('SP.POP.TOTL', id_or_value='id', simplify_index=True, mrv=1)\n",
    "\n",
    "# Aggregate region, country and population\n",
    "df_population = countries[['region', 'name']].rename(columns={'name': 'country_wb'}).loc[countries.region != 'Aggregates']\n",
    "df_population['population'] = population\n",
    "df_population['country_wb'] = df_population['country_wb'].astype('string')\n",
    "df_population['iso_code'] = df_population.index\n",
    "df_population.head(1)"
   ]
  },
  {
   "cell_type": "code",
   "execution_count": 724,
   "metadata": {},
   "outputs": [],
   "source": [
    "date_now = datetime.datetime.strftime(datetime.datetime.utcnow(), \"%Y-%m-%d\")\n",
    "\n",
    "dfapple = pd.read_csv(f\"../AppleMobilty/applemobilitytrends-{date_apple}.csv\")\n",
    "\n",
    "dfcovid_conf = pd.read_csv(\"../covid-19-JHU CSSE/csse_covid_19_data/csse_covid_19_time_series/time_series_covid19_confirmed_global.csv\")\n",
    "dfcovid_dead = pd.read_csv(\"../covid-19-JHU CSSE/csse_covid_19_data/csse_covid_19_time_series/time_series_covid19_deaths_global.csv\")\n",
    "df_uid = pd.read_csv(\"../covid-19-JHU CSSE/csse_covid_19_data/UID_ISO_FIPS_LookUp_Table.csv\")\n",
    "\n",
    "df_uid = df_uid.loc[df_uid['Province_State'].isnull() == True, ['iso3', 'Country_Region']]\n",
    "df_uid.columns = ['iso_code', 'country']\n",
    "\n",
    "dfcovid_conf.columns = ['state', 'country', 'lat', 'lng'] + list(dfcovid_conf.columns[4:])\n",
    "dfcovid_dead.columns = ['state', 'country', 'lat', 'lng'] + list(dfcovid_dead.columns[4:])\n",
    "dfcovid_conf = dfcovid_conf.merge(df_uid, how='outer', on='country', suffixes=('_x', '_y'))\n",
    "dfcovid_dead = dfcovid_dead.merge(df_uid, how='outer', on='country', suffixes=('_x', '_y'))\n",
    "\n",
    "df_rki_germany = pd.read_csv(\"data-RKI-parse/RKI-reports.csv\")\n",
    "df_rki_germany.drop('data', axis=1, inplace=True)\n",
    "\n",
    "df_population_de = pd.read_csv('german_lander_population.csv')"
   ]
  },
  {
   "cell_type": "markdown",
   "metadata": {},
   "source": [
    "## load and write Germany GeoJSON"
   ]
  },
  {
   "cell_type": "code",
   "execution_count": 622,
   "metadata": {},
   "outputs": [],
   "source": [
    "geojson_path =  \"../deutschlandGeoJSON/2_bundeslaender/3_mittel.geo.json\"\n",
    "df_geojson = gpd.read_file(geojson_path)\n",
    "df_geojson.columns = [\"iso_code\", 'name', 'type','geometry']\n",
    "df_geojson = df_geojson.loc[:, [\"iso_code\", 'geometry']]\n",
    "df_geojson['iso_code'] = df_geojson.iso_code.str.replace('DE-', '')\n",
    "geojson = json.loads(df_geojson.set_index('iso_code').to_json())\n",
    "json.dump(geojson, open('data_geo_de.json', 'w'))"
   ]
  },
  {
   "cell_type": "code",
   "execution_count": 548,
   "metadata": {},
   "outputs": [],
   "source": [
    "dfcovid_conf = dfcovid_conf.loc[dfcovid_conf['state'].isnull() == True, :]\n",
    "dfcovid_dead = dfcovid_dead.loc[dfcovid_dead['state'].isnull() == True, :]"
   ]
  },
  {
   "cell_type": "code",
   "execution_count": 725,
   "metadata": {},
   "outputs": [],
   "source": [
    "df_population = df_population.merge(dfcovid_conf.loc[:, ['iso_code', 'country']].drop_duplicates(), how='inner',  on='iso_code',  suffixes=('_x', '_y'), left_index=False, right_index=False,)"
   ]
  },
  {
   "cell_type": "code",
   "execution_count": 726,
   "metadata": {},
   "outputs": [
    {
     "data": {
      "text/html": [
       "<div>\n",
       "<style scoped>\n",
       "    .dataframe tbody tr th:only-of-type {\n",
       "        vertical-align: middle;\n",
       "    }\n",
       "\n",
       "    .dataframe tbody tr th {\n",
       "        vertical-align: top;\n",
       "    }\n",
       "\n",
       "    .dataframe thead th {\n",
       "        text-align: right;\n",
       "    }\n",
       "</style>\n",
       "<table border=\"1\" class=\"dataframe\">\n",
       "  <thead>\n",
       "    <tr style=\"text-align: right;\">\n",
       "      <th></th>\n",
       "      <th>region</th>\n",
       "      <th>country_wb</th>\n",
       "      <th>population</th>\n",
       "      <th>iso_code</th>\n",
       "      <th>country_x</th>\n",
       "      <th>country_y</th>\n",
       "      <th>country_x</th>\n",
       "      <th>country_y</th>\n",
       "      <th>country</th>\n",
       "    </tr>\n",
       "  </thead>\n",
       "  <tbody>\n",
       "    <tr>\n",
       "      <th>0</th>\n",
       "      <td>South Asia</td>\n",
       "      <td>Afghanistan</td>\n",
       "      <td>37172386.0</td>\n",
       "      <td>AFG</td>\n",
       "      <td>Afghanistan</td>\n",
       "      <td>Afghanistan</td>\n",
       "      <td>Afghanistan</td>\n",
       "      <td>Afghanistan</td>\n",
       "      <td>Afghanistan</td>\n",
       "    </tr>\n",
       "    <tr>\n",
       "      <th>1</th>\n",
       "      <td>Sub-Saharan Africa</td>\n",
       "      <td>Angola</td>\n",
       "      <td>30809762.0</td>\n",
       "      <td>AGO</td>\n",
       "      <td>Angola</td>\n",
       "      <td>Angola</td>\n",
       "      <td>Angola</td>\n",
       "      <td>Angola</td>\n",
       "      <td>Angola</td>\n",
       "    </tr>\n",
       "    <tr>\n",
       "      <th>2</th>\n",
       "      <td>Europe &amp; Central Asia</td>\n",
       "      <td>Albania</td>\n",
       "      <td>2866376.0</td>\n",
       "      <td>ALB</td>\n",
       "      <td>Albania</td>\n",
       "      <td>Albania</td>\n",
       "      <td>Albania</td>\n",
       "      <td>Albania</td>\n",
       "      <td>Albania</td>\n",
       "    </tr>\n",
       "    <tr>\n",
       "      <th>3</th>\n",
       "      <td>Europe &amp; Central Asia</td>\n",
       "      <td>Andorra</td>\n",
       "      <td>77006.0</td>\n",
       "      <td>AND</td>\n",
       "      <td>Andorra</td>\n",
       "      <td>Andorra</td>\n",
       "      <td>Andorra</td>\n",
       "      <td>Andorra</td>\n",
       "      <td>Andorra</td>\n",
       "    </tr>\n",
       "    <tr>\n",
       "      <th>4</th>\n",
       "      <td>Middle East &amp; North Africa</td>\n",
       "      <td>United Arab Emirates</td>\n",
       "      <td>9630959.0</td>\n",
       "      <td>ARE</td>\n",
       "      <td>United Arab Emirates</td>\n",
       "      <td>United Arab Emirates</td>\n",
       "      <td>United Arab Emirates</td>\n",
       "      <td>United Arab Emirates</td>\n",
       "      <td>United Arab Emirates</td>\n",
       "    </tr>\n",
       "  </tbody>\n",
       "</table>\n",
       "</div>"
      ],
      "text/plain": [
       "                       region            country_wb  population iso_code  \\\n",
       "0                  South Asia           Afghanistan  37172386.0      AFG   \n",
       "1         Sub-Saharan Africa                 Angola  30809762.0      AGO   \n",
       "2       Europe & Central Asia               Albania   2866376.0      ALB   \n",
       "3       Europe & Central Asia               Andorra     77006.0      AND   \n",
       "4  Middle East & North Africa  United Arab Emirates   9630959.0      ARE   \n",
       "\n",
       "              country_x             country_y             country_x  \\\n",
       "0           Afghanistan           Afghanistan           Afghanistan   \n",
       "1                Angola                Angola                Angola   \n",
       "2               Albania               Albania               Albania   \n",
       "3               Andorra               Andorra               Andorra   \n",
       "4  United Arab Emirates  United Arab Emirates  United Arab Emirates   \n",
       "\n",
       "              country_y               country  \n",
       "0           Afghanistan           Afghanistan  \n",
       "1                Angola                Angola  \n",
       "2               Albania               Albania  \n",
       "3               Andorra               Andorra  \n",
       "4  United Arab Emirates  United Arab Emirates  "
      ]
     },
     "execution_count": 726,
     "metadata": {},
     "output_type": "execute_result"
    }
   ],
   "source": [
    "df_population.head()"
   ]
  },
  {
   "cell_type": "markdown",
   "metadata": {},
   "source": [
    "### Transpose Confirmed Cases"
   ]
  },
  {
   "cell_type": "code",
   "execution_count": 553,
   "metadata": {},
   "outputs": [],
   "source": [
    "dfcovid_conf_t = dfcovid_conf.loc[dfcovid_conf['state'].isnull() == True, :].T\n",
    "dfcovid_conf_t.columns = dfcovid_conf_t.loc['country', :].astype(str)\n",
    "dfcovid_conf_t.drop(['country'], axis=0, inplace=True)\n",
    "df_country_coords = dfcovid_conf_t.loc[['lat', 'lng'], :]\n",
    "dfcovid_conf_t.drop(['lat', 'lng', 'state', 'iso_code'], axis=0, inplace=True)\n",
    "dfcovid_conf_t['dates'] = dfcovid_conf_t.index\n",
    "dfcovid_conf_t['dates'] = dfcovid_conf_t['dates'].astype('datetime64[ns]')\n",
    "dfcovid_conf_t = dfcovid_conf_t.sort_values('dates', ascending=True)\n",
    "dfcovid_conf_t.set_index('dates', inplace=True)\n",
    "dfcovid_conf_t = dfcovid_conf_t.astype(float)"
   ]
  },
  {
   "cell_type": "markdown",
   "metadata": {},
   "source": [
    "### Transpose Dead Cases"
   ]
  },
  {
   "cell_type": "code",
   "execution_count": 554,
   "metadata": {},
   "outputs": [],
   "source": [
    "dfcovid_dead_t = dfcovid_dead.loc[dfcovid_dead['state'].isnull() == True, :].T\n",
    "dfcovid_dead_t.columns = dfcovid_dead_t.loc['country', :].astype(str)\n",
    "dfcovid_dead_t.drop(['country'], axis=0, inplace=True)\n",
    "\n",
    "\n",
    "dfcovid_dead_t.drop(['lat', 'lng', 'state', 'iso_code'], axis=0, inplace=True)\n",
    "dfcovid_dead_t['dates'] = dfcovid_dead_t.index\n",
    "dfcovid_dead_t['dates'] = dfcovid_dead_t['dates'].astype('datetime64[ns]')\n",
    "dfcovid_dead_t = dfcovid_dead_t.sort_values('dates', ascending=True)\n",
    "dfcovid_dead_t.set_index('dates', inplace=True)\n",
    "dfcovid_dead_t = dfcovid_dead_t.astype(float)\n"
   ]
  },
  {
   "cell_type": "code",
   "execution_count": null,
   "metadata": {},
   "outputs": [],
   "source": []
  },
  {
   "cell_type": "markdown",
   "metadata": {},
   "source": [
    "# Prepare Datasets"
   ]
  },
  {
   "cell_type": "markdown",
   "metadata": {},
   "source": [
    "### RKI"
   ]
  },
  {
   "cell_type": "code",
   "execution_count": 727,
   "metadata": {},
   "outputs": [],
   "source": [
    "df_rki_germany = df_rki_germany.merge(df_population_de, \n",
    "                                            how='inner',\n",
    "                                            left_on='land',\n",
    "                                            right_on='name',\n",
    "                                            left_index=False,\n",
    "                                            right_index=False,\n",
    "                                            suffixes=('_x', '_y'),)\n",
    "\n",
    "df_rki_germany['date'] = df_rki_germany['date'].astype('datetime64[ns]')\n",
    "df_rki_germany = df_rki_germany.sort_values('date', ascending=True)\n",
    "df_rki_germany.set_index('date', inplace=True, drop=False)\n",
    "\n",
    "df_rki_germany_processed = melt_rki_df(df_rki_germany)"
   ]
  },
  {
   "cell_type": "code",
   "execution_count": 728,
   "metadata": {},
   "outputs": [
    {
     "data": {
      "text/plain": [
       "Index(['land', 'confirmed', 'dead', 'date', 'name', 'iso_code', 'capital',\n",
       "       'area', 'population', 'dow', 'weekend', 'confirmed_avg3',\n",
       "       'confirmed_change', 'confirmed_change_avg3', 'confirmed_change_3w',\n",
       "       'confirmed_change_pct', 'confirmed_change_pct_avg3',\n",
       "       'confirmed_change_pct_3w', 'confirmed_change_acceleration',\n",
       "       'confirmed_change_acceleration_avg3', 'confirmed_doubling_days',\n",
       "       'confirmed_doubling_days_3w', 'confirmed_doubling_days_avg3',\n",
       "       'confirmed_doubling_days_3w_avg3', 'confirmed_active_cases',\n",
       "       'confirmed_peak', 'confirmed_day_since_10', 'confirmed_per_100k',\n",
       "       'confirmed_change_per_100k', 'dead_avg3', 'dead_change',\n",
       "       'dead_change_avg3', 'dead_change_3w', 'dead_change_pct',\n",
       "       'dead_change_pct_avg3', 'dead_change_pct_3w',\n",
       "       'dead_change_acceleration', 'dead_change_acceleration_avg3',\n",
       "       'dead_doubling_days', 'dead_doubling_days_3w',\n",
       "       'dead_doubling_days_avg3', 'dead_doubling_days_3w_avg3',\n",
       "       'dead_day_since_10', 'dead_per_100k', 'dead_change_per_100k'],\n",
       "      dtype='object')"
      ]
     },
     "execution_count": 728,
     "metadata": {},
     "output_type": "execute_result"
    }
   ],
   "source": [
    "df_rki_germany_processed.columns"
   ]
  },
  {
   "cell_type": "markdown",
   "metadata": {},
   "source": [
    "### Apple"
   ]
  },
  {
   "cell_type": "code",
   "execution_count": 698,
   "metadata": {},
   "outputs": [],
   "source": [
    "df_apple_processed = melt_apple_df(dfapple)\n",
    "apple_lands = {'Baden-Württemberg': 'Baden-Wuerttemberg',\n",
    "               'The Free Hanseatic City of Bremen':'Bremen',\n",
    "               'Mecklenburg-Vorpommern': 'Mecklenburg-Western Pomerania'\n",
    "              }\n",
    "df_apple_processed['region'] = df_apple_processed['region'].apply(lambda x: apple_lands.get(x) if apple_lands.get(x) is not None else x)"
   ]
  },
  {
   "cell_type": "code",
   "execution_count": 708,
   "metadata": {},
   "outputs": [],
   "source": [
    "df_apple_processed_de = df_apple_processed.loc[df_apple_processed.region.isin(df_rki_germany_processed.land.unique()), ['region', 'driving', 'walking', 'transit']]\n",
    "df_apple_processed_de['date'] = df_apple_processed_de.index\n",
    "df_apple_processed_de = df_apple_processed_de.rename({'region': 'land'})"
   ]
  },
  {
   "cell_type": "code",
   "execution_count": 709,
   "metadata": {},
   "outputs": [
    {
     "data": {
      "text/html": [
       "<div>\n",
       "<style scoped>\n",
       "    .dataframe tbody tr th:only-of-type {\n",
       "        vertical-align: middle;\n",
       "    }\n",
       "\n",
       "    .dataframe tbody tr th {\n",
       "        vertical-align: top;\n",
       "    }\n",
       "\n",
       "    .dataframe thead th {\n",
       "        text-align: right;\n",
       "    }\n",
       "</style>\n",
       "<table border=\"1\" class=\"dataframe\">\n",
       "  <thead>\n",
       "    <tr style=\"text-align: right;\">\n",
       "      <th></th>\n",
       "      <th>driving</th>\n",
       "      <th>walking</th>\n",
       "      <th>region</th>\n",
       "      <th>walking_avg3</th>\n",
       "      <th>walking_l1</th>\n",
       "      <th>walking_l6</th>\n",
       "      <th>change_walking_l6</th>\n",
       "      <th>change_walking</th>\n",
       "      <th>driving_avg3</th>\n",
       "      <th>driving_l1</th>\n",
       "      <th>driving_l6</th>\n",
       "      <th>change_pct_driving_l6</th>\n",
       "      <th>change_driving</th>\n",
       "      <th>transit</th>\n",
       "      <th>transit_avg3</th>\n",
       "      <th>transit_l1</th>\n",
       "      <th>transit_l6</th>\n",
       "      <th>change_transit_l6</th>\n",
       "      <th>change_transit</th>\n",
       "    </tr>\n",
       "    <tr>\n",
       "      <th>dates</th>\n",
       "      <th></th>\n",
       "      <th></th>\n",
       "      <th></th>\n",
       "      <th></th>\n",
       "      <th></th>\n",
       "      <th></th>\n",
       "      <th></th>\n",
       "      <th></th>\n",
       "      <th></th>\n",
       "      <th></th>\n",
       "      <th></th>\n",
       "      <th></th>\n",
       "      <th></th>\n",
       "      <th></th>\n",
       "      <th></th>\n",
       "      <th></th>\n",
       "      <th></th>\n",
       "      <th></th>\n",
       "      <th></th>\n",
       "    </tr>\n",
       "  </thead>\n",
       "  <tbody>\n",
       "    <tr>\n",
       "      <th>2020-01-13</th>\n",
       "      <td>100.0</td>\n",
       "      <td>100.0</td>\n",
       "      <td>Albania</td>\n",
       "      <td>NaN</td>\n",
       "      <td>NaN</td>\n",
       "      <td>NaN</td>\n",
       "      <td>NaN</td>\n",
       "      <td>NaN</td>\n",
       "      <td>NaN</td>\n",
       "      <td>NaN</td>\n",
       "      <td>NaN</td>\n",
       "      <td>NaN</td>\n",
       "      <td>NaN</td>\n",
       "      <td>NaN</td>\n",
       "      <td>NaN</td>\n",
       "      <td>NaN</td>\n",
       "      <td>NaN</td>\n",
       "      <td>NaN</td>\n",
       "      <td>NaN</td>\n",
       "    </tr>\n",
       "  </tbody>\n",
       "</table>\n",
       "</div>"
      ],
      "text/plain": [
       "            driving  walking   region  walking_avg3  walking_l1  walking_l6  \\\n",
       "dates                                                                         \n",
       "2020-01-13    100.0    100.0  Albania           NaN         NaN         NaN   \n",
       "\n",
       "            change_walking_l6  change_walking  driving_avg3  driving_l1  \\\n",
       "dates                                                                     \n",
       "2020-01-13                NaN             NaN           NaN         NaN   \n",
       "\n",
       "            driving_l6  change_pct_driving_l6  change_driving  transit  \\\n",
       "dates                                                                    \n",
       "2020-01-13         NaN                    NaN             NaN      NaN   \n",
       "\n",
       "            transit_avg3  transit_l1  transit_l6  change_transit_l6  \\\n",
       "dates                                                                 \n",
       "2020-01-13           NaN         NaN         NaN                NaN   \n",
       "\n",
       "            change_transit  \n",
       "dates                       \n",
       "2020-01-13             NaN  "
      ]
     },
     "execution_count": 709,
     "metadata": {},
     "output_type": "execute_result"
    }
   ],
   "source": [
    "df_apple_processed.head(1)"
   ]
  },
  {
   "cell_type": "code",
   "execution_count": 710,
   "metadata": {},
   "outputs": [
    {
     "data": {
      "text/html": [
       "<div>\n",
       "<style scoped>\n",
       "    .dataframe tbody tr th:only-of-type {\n",
       "        vertical-align: middle;\n",
       "    }\n",
       "\n",
       "    .dataframe tbody tr th {\n",
       "        vertical-align: top;\n",
       "    }\n",
       "\n",
       "    .dataframe thead th {\n",
       "        text-align: right;\n",
       "    }\n",
       "</style>\n",
       "<table border=\"1\" class=\"dataframe\">\n",
       "  <thead>\n",
       "    <tr style=\"text-align: right;\">\n",
       "      <th></th>\n",
       "      <th>region</th>\n",
       "      <th>driving</th>\n",
       "      <th>walking</th>\n",
       "      <th>transit</th>\n",
       "      <th>date</th>\n",
       "    </tr>\n",
       "    <tr>\n",
       "      <th>dates</th>\n",
       "      <th></th>\n",
       "      <th></th>\n",
       "      <th></th>\n",
       "      <th></th>\n",
       "      <th></th>\n",
       "    </tr>\n",
       "  </thead>\n",
       "  <tbody>\n",
       "    <tr>\n",
       "      <th>2020-01-13</th>\n",
       "      <td>Berlin</td>\n",
       "      <td>100.0</td>\n",
       "      <td>100.0</td>\n",
       "      <td>100.0</td>\n",
       "      <td>2020-01-13</td>\n",
       "    </tr>\n",
       "  </tbody>\n",
       "</table>\n",
       "</div>"
      ],
      "text/plain": [
       "            region  driving  walking  transit       date\n",
       "dates                                                   \n",
       "2020-01-13  Berlin    100.0    100.0    100.0 2020-01-13"
      ]
     },
     "execution_count": 710,
     "metadata": {},
     "output_type": "execute_result"
    }
   ],
   "source": [
    "df_apple_processed_de.head(1)"
   ]
  },
  {
   "cell_type": "markdown",
   "metadata": {},
   "source": [
    "### JHU"
   ]
  },
  {
   "cell_type": "code",
   "execution_count": 671,
   "metadata": {},
   "outputs": [],
   "source": [
    "df_jhu_processed = melt_jhu_df(dfcovid_conf_t, dfcovid_dead_t)"
   ]
  },
  {
   "cell_type": "code",
   "execution_count": 672,
   "metadata": {},
   "outputs": [],
   "source": [
    "df_jhu_processed.head(1)"
   ]
  },
  {
   "cell_type": "code",
   "execution_count": 515,
   "metadata": {},
   "outputs": [
    {
     "name": "stdout",
     "output_type": "stream",
     "text": [
      "Mobility max date: 2020-05-10 00:00:00\n",
      "RKI max date 2020-05-14 00:00:00\n",
      "Covi world max date 2020-05-12 00:00:00\n",
      "Covi world max date 2020-05-12 00:00:00\n"
     ]
    }
   ],
   "source": [
    "print(\"Mobility max date:\", max(df_apple_processed.index))\n",
    "print(\"RKI max date\", max(df_rki_germany_processed.index))\n",
    "print(\"Covi world max date\", max(dfcovid_conf_t.index))\n",
    "print(\"Covi world max date\", max(dfcovid_dead_t.index))"
   ]
  },
  {
   "cell_type": "markdown",
   "metadata": {},
   "source": [
    "# Save processed data"
   ]
  },
  {
   "cell_type": "code",
   "execution_count": 731,
   "metadata": {},
   "outputs": [],
   "source": [
    "df_rki_germany_processed.to_csv('data_rki_prepared.csv')\n",
    "df_apple_processed.to_csv('data_apple_prepared.csv')\n",
    "\n",
    "DASH_COLUMNS = ['land', 'date','iso_code', 'confirmed_change', 'confirmed', 'confirmed_active_cases', 'confirmed_change_per_100k', \n",
    "                'confirmed_change_pct_3w', 'confirmed_doubling_days_3w_avg3', 'dead_change', 'dead', 'dead_change_per_100k', 'dead_doubling_days']\n",
    "df_rki_germany_processed.loc[:, DASH_COLUMNS].to_csv('data_rki_prepared_dash.csv')\n",
    "df_apple_processed_de.to_csv('data_apple_prepared_de.csv')"
   ]
  },
  {
   "cell_type": "markdown",
   "metadata": {},
   "source": [
    "----"
   ]
  },
  {
   "cell_type": "markdown",
   "metadata": {},
   "source": [
    "----"
   ]
  },
  {
   "cell_type": "markdown",
   "metadata": {},
   "source": [
    "----"
   ]
  },
  {
   "cell_type": "code",
   "execution_count": 730,
   "metadata": {},
   "outputs": [
    {
     "data": {
      "text/plain": [
       "Index(['land', 'confirmed', 'dead', 'date', 'name', 'iso_code', 'capital',\n",
       "       'area', 'population', 'dow', 'weekend', 'confirmed_avg3',\n",
       "       'confirmed_change', 'confirmed_change_avg3', 'confirmed_change_3w',\n",
       "       'confirmed_change_pct', 'confirmed_change_pct_avg3',\n",
       "       'confirmed_change_pct_3w', 'confirmed_change_acceleration',\n",
       "       'confirmed_change_acceleration_avg3', 'confirmed_doubling_days',\n",
       "       'confirmed_doubling_days_3w', 'confirmed_doubling_days_avg3',\n",
       "       'confirmed_doubling_days_3w_avg3', 'confirmed_active_cases',\n",
       "       'confirmed_peak', 'confirmed_day_since_10', 'confirmed_per_100k',\n",
       "       'confirmed_change_per_100k', 'dead_avg3', 'dead_change',\n",
       "       'dead_change_avg3', 'dead_change_3w', 'dead_change_pct',\n",
       "       'dead_change_pct_avg3', 'dead_change_pct_3w',\n",
       "       'dead_change_acceleration', 'dead_change_acceleration_avg3',\n",
       "       'dead_doubling_days', 'dead_doubling_days_3w',\n",
       "       'dead_doubling_days_avg3', 'dead_doubling_days_3w_avg3',\n",
       "       'dead_day_since_10', 'dead_per_100k', 'dead_change_per_100k'],\n",
       "      dtype='object')"
      ]
     },
     "execution_count": 730,
     "metadata": {},
     "output_type": "execute_result"
    }
   ],
   "source": [
    "df_rki_germany_processed.columns"
   ]
  },
  {
   "cell_type": "code",
   "execution_count": 712,
   "metadata": {},
   "outputs": [
    {
     "data": {
      "text/plain": [
       "Timestamp('2020-01-13 00:00:00')"
      ]
     },
     "execution_count": 712,
     "metadata": {},
     "output_type": "execute_result"
    }
   ],
   "source": [
    "df_apple_processed_de.index.min()"
   ]
  },
  {
   "cell_type": "code",
   "execution_count": null,
   "metadata": {},
   "outputs": [],
   "source": []
  },
  {
   "cell_type": "code",
   "execution_count": 713,
   "metadata": {},
   "outputs": [
    {
     "data": {
      "text/plain": [
       "dict_keys(['confirmed_change', 'confirmed', 'confirmed_active_cases', 'confirmed_change_per_100k', 'confirmed_change_pct_3w', 'confirmed_doubling_days_3w_avg3', 'dead_change', 'dead', 'dead_change_per_100k', 'dead_doubling_days'])"
      ]
     },
     "execution_count": 713,
     "metadata": {},
     "output_type": "execute_result"
    }
   ],
   "source": [
    "FEATURE_DROP_DOWN = {\n",
    "    \"confirmed_change\": \"Cases: Daily\",\n",
    "    \"confirmed\": \"Cases: Total\",\n",
    "    \"confirmed_active_cases\": \"Cases: Active\",\n",
    "    \"confirmed_change_per_100k\": \"Cases: Daily per 100k of Population\",\n",
    "    \"confirmed_change_pct_3w\": \"Cases: Daily as % of Rolling 3 Week Sum\",\n",
    "    \"confirmed_doubling_days_3w_avg3\": \"Cases: Days to Double Rolling 3 Week Sum\",\n",
    "    \"dead_change\": \"Deaths: Daily\",\n",
    "    \"dead\": \"Deaths: Total\",\n",
    "    \"dead_change_per_100k\": \"Deaths: Daily per 100k of Population\",\n",
    "    \"dead_doubling_days\": \"Deaths: Days to Double Total Number\",\n",
    "}\n",
    "FEATURE_DROP_DOWN.keys()"
   ]
  },
  {
   "cell_type": "code",
   "execution_count": null,
   "metadata": {},
   "outputs": [],
   "source": []
  }
 ],
 "metadata": {
  "kernelspec": {
   "display_name": "Python 3",
   "language": "python",
   "name": "python3"
  },
  "language_info": {
   "codemirror_mode": {
    "name": "ipython",
    "version": 3
   },
   "file_extension": ".py",
   "mimetype": "text/x-python",
   "name": "python",
   "nbconvert_exporter": "python",
   "pygments_lexer": "ipython3",
   "version": "3.7.3"
  }
 },
 "nbformat": 4,
 "nbformat_minor": 4
}
