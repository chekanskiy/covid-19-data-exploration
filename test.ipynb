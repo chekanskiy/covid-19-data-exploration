{
 "cells": [
  {
   "cell_type": "code",
   "execution_count": 20,
   "metadata": {},
   "outputs": [
    {
     "name": "stdout",
     "output_type": "stream",
     "text": [
      "The autoreload extension is already loaded. To reload it, use:\n",
      "  %reload_ext autoreload\n"
     ]
    }
   ],
   "source": [
    "import pandas as pd\n",
    "import geopandas as gpd\n",
    "import json\n",
    "import numpy as np\n",
    "import datetime\n",
    "import plotly\n",
    "import os\n",
    "from plotly import graph_objects as go\n",
    "pd.set_option('display.max_columns', 50)\n",
    "pd.set_option('display.max_rows', 50)\n",
    "import matplotlib.pyplot as plt\n",
    "plt.rcParams.update({'figure.max_open_warning': 0})\n",
    "\n",
    "%load_ext autoreload\n",
    "\n",
    "from scripts.charts import plot_line, plot_bar, plot_peak, print_charts_country\n",
    "from scripts.features import add_variables_covid, add_variables_apple, join_series_day_since, join_series_date\n",
    "\n",
    "%matplotlib inline"
   ]
  },
  {
   "cell_type": "code",
   "execution_count": 670,
   "metadata": {},
   "outputs": [],
   "source": [
    "df_orig = pd.read_csv(\"data-processed/rki-reports.csv\")\n",
    "df_apple = pd.read_csv(\"data-processed/data_apple_prepared.csv\")\n",
    "df_rki_orig = pd.read_csv('dash/data/data_rki_apple_prepared_dash.csv')\n",
    "df_jh_world = pd.read_csv('dash/data/data_jhu_world.csv')\n",
    "# df = pd.read_csv(\"dash/data/data_rki_apple_prepared_dash.csv\")\n",
    "df_rki_orig['date']=df_rki_orig['date'].astype('datetime64[ns]')\n",
    "df_rki_orig.index = df_rki_orig.date\n",
    "df_jh_world['date']=df_jh_world['date'].astype('datetime64[ns]')\n",
    "df_jh_world.index = df_jh_world.date"
   ]
  },
  {
   "cell_type": "code",
   "execution_count": 672,
   "metadata": {},
   "outputs": [
    {
     "data": {
      "text/html": [
       "<div>\n",
       "<style scoped>\n",
       "    .dataframe tbody tr th:only-of-type {\n",
       "        vertical-align: middle;\n",
       "    }\n",
       "\n",
       "    .dataframe tbody tr th {\n",
       "        vertical-align: top;\n",
       "    }\n",
       "\n",
       "    .dataframe thead th {\n",
       "        text-align: right;\n",
       "    }\n",
       "</style>\n",
       "<table border=\"1\" class=\"dataframe\">\n",
       "  <thead>\n",
       "    <tr style=\"text-align: right;\">\n",
       "      <th></th>\n",
       "      <th>land</th>\n",
       "      <th>date</th>\n",
       "      <th>driving</th>\n",
       "      <th>walking</th>\n",
       "      <th>transit</th>\n",
       "      <th>confirmed</th>\n",
       "      <th>dead</th>\n",
       "      <th>iso_code</th>\n",
       "      <th>confirmed_change</th>\n",
       "      <th>confirmed_active_cases</th>\n",
       "      <th>confirmed_active_cases_change</th>\n",
       "      <th>confirmed_peak_date</th>\n",
       "      <th>population_100k</th>\n",
       "      <th>confirmed_per_100k</th>\n",
       "      <th>confirmed_change_per_100k</th>\n",
       "      <th>confirmed_active_cases_per_100k</th>\n",
       "      <th>dead_change</th>\n",
       "      <th>dead_doubling_days</th>\n",
       "      <th>lethality</th>\n",
       "      <th>dead_per_100k</th>\n",
       "      <th>dead_change_per_100k</th>\n",
       "    </tr>\n",
       "  </thead>\n",
       "  <tbody>\n",
       "    <tr>\n",
       "      <th>0</th>\n",
       "      <td>Thuringia</td>\n",
       "      <td>2020-05-28</td>\n",
       "      <td>NaN</td>\n",
       "      <td>NaN</td>\n",
       "      <td>NaN</td>\n",
       "      <td>2932</td>\n",
       "      <td>158</td>\n",
       "      <td>NaN</td>\n",
       "      <td>NaN</td>\n",
       "      <td>NaN</td>\n",
       "      <td>NaN</td>\n",
       "      <td>NaN</td>\n",
       "      <td>NaN</td>\n",
       "      <td>NaN</td>\n",
       "      <td>NaN</td>\n",
       "      <td>NaN</td>\n",
       "      <td>NaN</td>\n",
       "      <td>NaN</td>\n",
       "      <td>NaN</td>\n",
       "      <td>NaN</td>\n",
       "      <td>NaN</td>\n",
       "    </tr>\n",
       "    <tr>\n",
       "      <th>1</th>\n",
       "      <td>Lower Saxony</td>\n",
       "      <td>2020-05-28</td>\n",
       "      <td>NaN</td>\n",
       "      <td>NaN</td>\n",
       "      <td>NaN</td>\n",
       "      <td>11750</td>\n",
       "      <td>583</td>\n",
       "      <td>NaN</td>\n",
       "      <td>NaN</td>\n",
       "      <td>NaN</td>\n",
       "      <td>NaN</td>\n",
       "      <td>NaN</td>\n",
       "      <td>NaN</td>\n",
       "      <td>NaN</td>\n",
       "      <td>NaN</td>\n",
       "      <td>NaN</td>\n",
       "      <td>NaN</td>\n",
       "      <td>NaN</td>\n",
       "      <td>NaN</td>\n",
       "      <td>NaN</td>\n",
       "      <td>NaN</td>\n",
       "    </tr>\n",
       "    <tr>\n",
       "      <th>2</th>\n",
       "      <td>Baden-Wuerttemberg</td>\n",
       "      <td>2020-05-28</td>\n",
       "      <td>NaN</td>\n",
       "      <td>NaN</td>\n",
       "      <td>NaN</td>\n",
       "      <td>34129</td>\n",
       "      <td>1724</td>\n",
       "      <td>NaN</td>\n",
       "      <td>NaN</td>\n",
       "      <td>NaN</td>\n",
       "      <td>NaN</td>\n",
       "      <td>NaN</td>\n",
       "      <td>NaN</td>\n",
       "      <td>NaN</td>\n",
       "      <td>NaN</td>\n",
       "      <td>NaN</td>\n",
       "      <td>NaN</td>\n",
       "      <td>NaN</td>\n",
       "      <td>NaN</td>\n",
       "      <td>NaN</td>\n",
       "      <td>NaN</td>\n",
       "    </tr>\n",
       "    <tr>\n",
       "      <th>3</th>\n",
       "      <td>Bavaria</td>\n",
       "      <td>2020-05-28</td>\n",
       "      <td>NaN</td>\n",
       "      <td>NaN</td>\n",
       "      <td>NaN</td>\n",
       "      <td>46729</td>\n",
       "      <td>2438</td>\n",
       "      <td>NaN</td>\n",
       "      <td>NaN</td>\n",
       "      <td>NaN</td>\n",
       "      <td>NaN</td>\n",
       "      <td>NaN</td>\n",
       "      <td>NaN</td>\n",
       "      <td>NaN</td>\n",
       "      <td>NaN</td>\n",
       "      <td>NaN</td>\n",
       "      <td>NaN</td>\n",
       "      <td>NaN</td>\n",
       "      <td>NaN</td>\n",
       "      <td>NaN</td>\n",
       "      <td>NaN</td>\n",
       "    </tr>\n",
       "    <tr>\n",
       "      <th>4</th>\n",
       "      <td>Berlin</td>\n",
       "      <td>2020-05-28</td>\n",
       "      <td>NaN</td>\n",
       "      <td>NaN</td>\n",
       "      <td>NaN</td>\n",
       "      <td>6703</td>\n",
       "      <td>195</td>\n",
       "      <td>NaN</td>\n",
       "      <td>NaN</td>\n",
       "      <td>NaN</td>\n",
       "      <td>NaN</td>\n",
       "      <td>NaN</td>\n",
       "      <td>NaN</td>\n",
       "      <td>NaN</td>\n",
       "      <td>NaN</td>\n",
       "      <td>NaN</td>\n",
       "      <td>NaN</td>\n",
       "      <td>NaN</td>\n",
       "      <td>NaN</td>\n",
       "      <td>NaN</td>\n",
       "      <td>NaN</td>\n",
       "    </tr>\n",
       "    <tr>\n",
       "      <th>5</th>\n",
       "      <td>Brandenburg</td>\n",
       "      <td>2020-05-28</td>\n",
       "      <td>NaN</td>\n",
       "      <td>NaN</td>\n",
       "      <td>NaN</td>\n",
       "      <td>3261</td>\n",
       "      <td>155</td>\n",
       "      <td>NaN</td>\n",
       "      <td>NaN</td>\n",
       "      <td>NaN</td>\n",
       "      <td>NaN</td>\n",
       "      <td>NaN</td>\n",
       "      <td>NaN</td>\n",
       "      <td>NaN</td>\n",
       "      <td>NaN</td>\n",
       "      <td>NaN</td>\n",
       "      <td>NaN</td>\n",
       "      <td>NaN</td>\n",
       "      <td>NaN</td>\n",
       "      <td>NaN</td>\n",
       "      <td>NaN</td>\n",
       "    </tr>\n",
       "    <tr>\n",
       "      <th>6</th>\n",
       "      <td>Bremen</td>\n",
       "      <td>2020-05-28</td>\n",
       "      <td>NaN</td>\n",
       "      <td>NaN</td>\n",
       "      <td>NaN</td>\n",
       "      <td>1348</td>\n",
       "      <td>41</td>\n",
       "      <td>NaN</td>\n",
       "      <td>NaN</td>\n",
       "      <td>NaN</td>\n",
       "      <td>NaN</td>\n",
       "      <td>NaN</td>\n",
       "      <td>NaN</td>\n",
       "      <td>NaN</td>\n",
       "      <td>NaN</td>\n",
       "      <td>NaN</td>\n",
       "      <td>NaN</td>\n",
       "      <td>NaN</td>\n",
       "      <td>NaN</td>\n",
       "      <td>NaN</td>\n",
       "      <td>NaN</td>\n",
       "    </tr>\n",
       "    <tr>\n",
       "      <th>7</th>\n",
       "      <td>Hamburg</td>\n",
       "      <td>2020-05-28</td>\n",
       "      <td>NaN</td>\n",
       "      <td>NaN</td>\n",
       "      <td>NaN</td>\n",
       "      <td>5076</td>\n",
       "      <td>245</td>\n",
       "      <td>NaN</td>\n",
       "      <td>NaN</td>\n",
       "      <td>NaN</td>\n",
       "      <td>NaN</td>\n",
       "      <td>NaN</td>\n",
       "      <td>NaN</td>\n",
       "      <td>NaN</td>\n",
       "      <td>NaN</td>\n",
       "      <td>NaN</td>\n",
       "      <td>NaN</td>\n",
       "      <td>NaN</td>\n",
       "      <td>NaN</td>\n",
       "      <td>NaN</td>\n",
       "      <td>NaN</td>\n",
       "    </tr>\n",
       "    <tr>\n",
       "      <th>8</th>\n",
       "      <td>Mecklenburg-Western Pomerania</td>\n",
       "      <td>2020-05-28</td>\n",
       "      <td>NaN</td>\n",
       "      <td>NaN</td>\n",
       "      <td>NaN</td>\n",
       "      <td>760</td>\n",
       "      <td>20</td>\n",
       "      <td>NaN</td>\n",
       "      <td>NaN</td>\n",
       "      <td>NaN</td>\n",
       "      <td>NaN</td>\n",
       "      <td>NaN</td>\n",
       "      <td>NaN</td>\n",
       "      <td>NaN</td>\n",
       "      <td>NaN</td>\n",
       "      <td>NaN</td>\n",
       "      <td>NaN</td>\n",
       "      <td>NaN</td>\n",
       "      <td>NaN</td>\n",
       "      <td>NaN</td>\n",
       "      <td>NaN</td>\n",
       "    </tr>\n",
       "    <tr>\n",
       "      <th>9</th>\n",
       "      <td>Hesse</td>\n",
       "      <td>2020-05-28</td>\n",
       "      <td>NaN</td>\n",
       "      <td>NaN</td>\n",
       "      <td>NaN</td>\n",
       "      <td>9915</td>\n",
       "      <td>471</td>\n",
       "      <td>NaN</td>\n",
       "      <td>NaN</td>\n",
       "      <td>NaN</td>\n",
       "      <td>NaN</td>\n",
       "      <td>NaN</td>\n",
       "      <td>NaN</td>\n",
       "      <td>NaN</td>\n",
       "      <td>NaN</td>\n",
       "      <td>NaN</td>\n",
       "      <td>NaN</td>\n",
       "      <td>NaN</td>\n",
       "      <td>NaN</td>\n",
       "      <td>NaN</td>\n",
       "      <td>NaN</td>\n",
       "    </tr>\n",
       "    <tr>\n",
       "      <th>10</th>\n",
       "      <td>North Rhine-Westphalia</td>\n",
       "      <td>2020-05-28</td>\n",
       "      <td>NaN</td>\n",
       "      <td>NaN</td>\n",
       "      <td>NaN</td>\n",
       "      <td>37698</td>\n",
       "      <td>1582</td>\n",
       "      <td>NaN</td>\n",
       "      <td>NaN</td>\n",
       "      <td>NaN</td>\n",
       "      <td>NaN</td>\n",
       "      <td>NaN</td>\n",
       "      <td>NaN</td>\n",
       "      <td>NaN</td>\n",
       "      <td>NaN</td>\n",
       "      <td>NaN</td>\n",
       "      <td>NaN</td>\n",
       "      <td>NaN</td>\n",
       "      <td>NaN</td>\n",
       "      <td>NaN</td>\n",
       "      <td>NaN</td>\n",
       "    </tr>\n",
       "    <tr>\n",
       "      <th>11</th>\n",
       "      <td>Rhineland-Palatinate</td>\n",
       "      <td>2020-05-28</td>\n",
       "      <td>NaN</td>\n",
       "      <td>NaN</td>\n",
       "      <td>NaN</td>\n",
       "      <td>6652</td>\n",
       "      <td>230</td>\n",
       "      <td>NaN</td>\n",
       "      <td>NaN</td>\n",
       "      <td>NaN</td>\n",
       "      <td>NaN</td>\n",
       "      <td>NaN</td>\n",
       "      <td>NaN</td>\n",
       "      <td>NaN</td>\n",
       "      <td>NaN</td>\n",
       "      <td>NaN</td>\n",
       "      <td>NaN</td>\n",
       "      <td>NaN</td>\n",
       "      <td>NaN</td>\n",
       "      <td>NaN</td>\n",
       "      <td>NaN</td>\n",
       "    </tr>\n",
       "    <tr>\n",
       "      <th>12</th>\n",
       "      <td>Saarland</td>\n",
       "      <td>2020-05-28</td>\n",
       "      <td>NaN</td>\n",
       "      <td>NaN</td>\n",
       "      <td>NaN</td>\n",
       "      <td>2731</td>\n",
       "      <td>161</td>\n",
       "      <td>NaN</td>\n",
       "      <td>NaN</td>\n",
       "      <td>NaN</td>\n",
       "      <td>NaN</td>\n",
       "      <td>NaN</td>\n",
       "      <td>NaN</td>\n",
       "      <td>NaN</td>\n",
       "      <td>NaN</td>\n",
       "      <td>NaN</td>\n",
       "      <td>NaN</td>\n",
       "      <td>NaN</td>\n",
       "      <td>NaN</td>\n",
       "      <td>NaN</td>\n",
       "      <td>NaN</td>\n",
       "    </tr>\n",
       "    <tr>\n",
       "      <th>13</th>\n",
       "      <td>Saxony</td>\n",
       "      <td>2020-05-28</td>\n",
       "      <td>NaN</td>\n",
       "      <td>NaN</td>\n",
       "      <td>NaN</td>\n",
       "      <td>5260</td>\n",
       "      <td>210</td>\n",
       "      <td>NaN</td>\n",
       "      <td>NaN</td>\n",
       "      <td>NaN</td>\n",
       "      <td>NaN</td>\n",
       "      <td>NaN</td>\n",
       "      <td>NaN</td>\n",
       "      <td>NaN</td>\n",
       "      <td>NaN</td>\n",
       "      <td>NaN</td>\n",
       "      <td>NaN</td>\n",
       "      <td>NaN</td>\n",
       "      <td>NaN</td>\n",
       "      <td>NaN</td>\n",
       "      <td>NaN</td>\n",
       "    </tr>\n",
       "    <tr>\n",
       "      <th>14</th>\n",
       "      <td>Saxony-Anhalt</td>\n",
       "      <td>2020-05-28</td>\n",
       "      <td>NaN</td>\n",
       "      <td>NaN</td>\n",
       "      <td>NaN</td>\n",
       "      <td>1701</td>\n",
       "      <td>55</td>\n",
       "      <td>NaN</td>\n",
       "      <td>NaN</td>\n",
       "      <td>NaN</td>\n",
       "      <td>NaN</td>\n",
       "      <td>NaN</td>\n",
       "      <td>NaN</td>\n",
       "      <td>NaN</td>\n",
       "      <td>NaN</td>\n",
       "      <td>NaN</td>\n",
       "      <td>NaN</td>\n",
       "      <td>NaN</td>\n",
       "      <td>NaN</td>\n",
       "      <td>NaN</td>\n",
       "      <td>NaN</td>\n",
       "    </tr>\n",
       "    <tr>\n",
       "      <th>15</th>\n",
       "      <td>Schleswig-Holstein</td>\n",
       "      <td>2020-05-28</td>\n",
       "      <td>NaN</td>\n",
       "      <td>NaN</td>\n",
       "      <td>NaN</td>\n",
       "      <td>3072</td>\n",
       "      <td>143</td>\n",
       "      <td>NaN</td>\n",
       "      <td>NaN</td>\n",
       "      <td>NaN</td>\n",
       "      <td>NaN</td>\n",
       "      <td>NaN</td>\n",
       "      <td>NaN</td>\n",
       "      <td>NaN</td>\n",
       "      <td>NaN</td>\n",
       "      <td>NaN</td>\n",
       "      <td>NaN</td>\n",
       "      <td>NaN</td>\n",
       "      <td>NaN</td>\n",
       "      <td>NaN</td>\n",
       "      <td>NaN</td>\n",
       "    </tr>\n",
       "  </tbody>\n",
       "</table>\n",
       "</div>"
      ],
      "text/plain": [
       "                             land        date  driving  walking  transit  \\\n",
       "0                       Thuringia  2020-05-28      NaN      NaN      NaN   \n",
       "1                    Lower Saxony  2020-05-28      NaN      NaN      NaN   \n",
       "2              Baden-Wuerttemberg  2020-05-28      NaN      NaN      NaN   \n",
       "3                         Bavaria  2020-05-28      NaN      NaN      NaN   \n",
       "4                          Berlin  2020-05-28      NaN      NaN      NaN   \n",
       "5                     Brandenburg  2020-05-28      NaN      NaN      NaN   \n",
       "6                          Bremen  2020-05-28      NaN      NaN      NaN   \n",
       "7                         Hamburg  2020-05-28      NaN      NaN      NaN   \n",
       "8   Mecklenburg-Western Pomerania  2020-05-28      NaN      NaN      NaN   \n",
       "9                           Hesse  2020-05-28      NaN      NaN      NaN   \n",
       "10         North Rhine-Westphalia  2020-05-28      NaN      NaN      NaN   \n",
       "11           Rhineland-Palatinate  2020-05-28      NaN      NaN      NaN   \n",
       "12                       Saarland  2020-05-28      NaN      NaN      NaN   \n",
       "13                         Saxony  2020-05-28      NaN      NaN      NaN   \n",
       "14                  Saxony-Anhalt  2020-05-28      NaN      NaN      NaN   \n",
       "15             Schleswig-Holstein  2020-05-28      NaN      NaN      NaN   \n",
       "\n",
       "    confirmed  dead iso_code  confirmed_change  confirmed_active_cases  \\\n",
       "0        2932   158      NaN               NaN                     NaN   \n",
       "1       11750   583      NaN               NaN                     NaN   \n",
       "2       34129  1724      NaN               NaN                     NaN   \n",
       "3       46729  2438      NaN               NaN                     NaN   \n",
       "4        6703   195      NaN               NaN                     NaN   \n",
       "5        3261   155      NaN               NaN                     NaN   \n",
       "6        1348    41      NaN               NaN                     NaN   \n",
       "7        5076   245      NaN               NaN                     NaN   \n",
       "8         760    20      NaN               NaN                     NaN   \n",
       "9        9915   471      NaN               NaN                     NaN   \n",
       "10      37698  1582      NaN               NaN                     NaN   \n",
       "11       6652   230      NaN               NaN                     NaN   \n",
       "12       2731   161      NaN               NaN                     NaN   \n",
       "13       5260   210      NaN               NaN                     NaN   \n",
       "14       1701    55      NaN               NaN                     NaN   \n",
       "15       3072   143      NaN               NaN                     NaN   \n",
       "\n",
       "    confirmed_active_cases_change  confirmed_peak_date  population_100k  \\\n",
       "0                             NaN                  NaN              NaN   \n",
       "1                             NaN                  NaN              NaN   \n",
       "2                             NaN                  NaN              NaN   \n",
       "3                             NaN                  NaN              NaN   \n",
       "4                             NaN                  NaN              NaN   \n",
       "5                             NaN                  NaN              NaN   \n",
       "6                             NaN                  NaN              NaN   \n",
       "7                             NaN                  NaN              NaN   \n",
       "8                             NaN                  NaN              NaN   \n",
       "9                             NaN                  NaN              NaN   \n",
       "10                            NaN                  NaN              NaN   \n",
       "11                            NaN                  NaN              NaN   \n",
       "12                            NaN                  NaN              NaN   \n",
       "13                            NaN                  NaN              NaN   \n",
       "14                            NaN                  NaN              NaN   \n",
       "15                            NaN                  NaN              NaN   \n",
       "\n",
       "    confirmed_per_100k  confirmed_change_per_100k  \\\n",
       "0                  NaN                        NaN   \n",
       "1                  NaN                        NaN   \n",
       "2                  NaN                        NaN   \n",
       "3                  NaN                        NaN   \n",
       "4                  NaN                        NaN   \n",
       "5                  NaN                        NaN   \n",
       "6                  NaN                        NaN   \n",
       "7                  NaN                        NaN   \n",
       "8                  NaN                        NaN   \n",
       "9                  NaN                        NaN   \n",
       "10                 NaN                        NaN   \n",
       "11                 NaN                        NaN   \n",
       "12                 NaN                        NaN   \n",
       "13                 NaN                        NaN   \n",
       "14                 NaN                        NaN   \n",
       "15                 NaN                        NaN   \n",
       "\n",
       "    confirmed_active_cases_per_100k  dead_change  dead_doubling_days  \\\n",
       "0                               NaN          NaN                 NaN   \n",
       "1                               NaN          NaN                 NaN   \n",
       "2                               NaN          NaN                 NaN   \n",
       "3                               NaN          NaN                 NaN   \n",
       "4                               NaN          NaN                 NaN   \n",
       "5                               NaN          NaN                 NaN   \n",
       "6                               NaN          NaN                 NaN   \n",
       "7                               NaN          NaN                 NaN   \n",
       "8                               NaN          NaN                 NaN   \n",
       "9                               NaN          NaN                 NaN   \n",
       "10                              NaN          NaN                 NaN   \n",
       "11                              NaN          NaN                 NaN   \n",
       "12                              NaN          NaN                 NaN   \n",
       "13                              NaN          NaN                 NaN   \n",
       "14                              NaN          NaN                 NaN   \n",
       "15                              NaN          NaN                 NaN   \n",
       "\n",
       "    lethality  dead_per_100k  dead_change_per_100k  \n",
       "0         NaN            NaN                   NaN  \n",
       "1         NaN            NaN                   NaN  \n",
       "2         NaN            NaN                   NaN  \n",
       "3         NaN            NaN                   NaN  \n",
       "4         NaN            NaN                   NaN  \n",
       "5         NaN            NaN                   NaN  \n",
       "6         NaN            NaN                   NaN  \n",
       "7         NaN            NaN                   NaN  \n",
       "8         NaN            NaN                   NaN  \n",
       "9         NaN            NaN                   NaN  \n",
       "10        NaN            NaN                   NaN  \n",
       "11        NaN            NaN                   NaN  \n",
       "12        NaN            NaN                   NaN  \n",
       "13        NaN            NaN                   NaN  \n",
       "14        NaN            NaN                   NaN  \n",
       "15        NaN            NaN                   NaN  "
      ]
     },
     "execution_count": 672,
     "metadata": {},
     "output_type": "execute_result"
    }
   ],
   "source": [
    "df_orig.loc[df_orig.date == '2020-05-28'] #.to_csv(\"data-processed/rki-reports.csv\", index=False)"
   ]
  },
  {
   "cell_type": "code",
   "execution_count": 194,
   "metadata": {},
   "outputs": [
    {
     "data": {
      "text/plain": [
       "Index(['date_index', 'date', 'land', 'confirmed', 'dead', 'name', 'iso_code',\n",
       "       'capital', 'area', 'population', 'confirmed_avg3', 'confirmed_change',\n",
       "       'confirmed_change_avg3', 'confirmed_change_3w', 'confirmed_change_pct',\n",
       "       'confirmed_change_pct_avg3', 'confirmed_change_pct_3w',\n",
       "       'confirmed_doubling_days', 'confirmed_doubling_days_3w',\n",
       "       'confirmed_doubling_days_avg3', 'confirmed_doubling_days_3w_avg3',\n",
       "       'confirmed_active_cases', 'confirmed_active_cases_change',\n",
       "       'confirmed_peak_log', 'confirmed_peak_date', 'confirmed_day_since_10',\n",
       "       'population_100k', 'confirmed_per_100k', 'confirmed_change_per_100k',\n",
       "       'confirmed_active_cases_per_100k',\n",
       "       'confirmed_active_cases_change_per_100k', 'dead_avg3', 'dead_change',\n",
       "       'dead_change_avg3', 'dead_change_3w', 'dead_change_pct',\n",
       "       'dead_change_pct_avg3', 'dead_change_pct_3w', 'dead_doubling_days',\n",
       "       'dead_doubling_days_3w', 'dead_doubling_days_avg3',\n",
       "       'dead_doubling_days_3w_avg3', 'dead_day_since_10', 'dead_per_100k',\n",
       "       'dead_change_per_100k'],\n",
       "      dtype='object')"
      ]
     },
     "execution_count": 194,
     "metadata": {},
     "output_type": "execute_result"
    }
   ],
   "source": [
    "df_orig.columns"
   ]
  },
  {
   "cell_type": "code",
   "execution_count": 3,
   "metadata": {},
   "outputs": [
    {
     "data": {
      "text/plain": [
       "date\n",
       "2020-03-04      3\n",
       "2020-04-19    585\n",
       "Name: confirmed, dtype: int64"
      ]
     },
     "execution_count": 3,
     "metadata": {},
     "output_type": "execute_result"
    }
   ],
   "source": [
    "l = 'Bremen'\n",
    "column = 'confirmed'\n",
    "peak_index = df.loc[(df.land == l) & (df['confirmed_peak_date'] == -1), column].index.tolist()\n",
    "df.loc[(df.index.isin(peak_index)) & (df.land == l), column]"
   ]
  },
  {
   "cell_type": "code",
   "execution_count": 38,
   "metadata": {},
   "outputs": [],
   "source": [
    "from sklearn.linear_model import LinearRegression\n",
    "from sklearn.preprocessing import MinMaxScaler\n",
    "\n",
    "def findpeak_trend(df):\n",
    "    df_peak_log = df.loc[:, ['confirmed_peak_log']].dropna()\n",
    "    \n",
    "    days_pred_start = 10  # for how long to draw  the trend\n",
    "    days_since_first_peak_start = 7  # how many days to wait since the first outbreak before estimating trend\n",
    "    days_other_peak_starts = 7  # how many days since the second+ outbreak should pass before calculating trend\n",
    "\n",
    "    # is we do not have enough data then exit\n",
    "    if len(df_peak_log) < days_since_first_peak_start:\n",
    "        df['peak_log_trend'] = np.NaN\n",
    "        return df\n",
    "    # find all indixes of outbreak beginnings\n",
    "    peak_indixes = df.loc[df.confirmed_peak_date == -1].index.tolist()\n",
    "    peak_indixes[0] = df_peak_log.index.min()\n",
    "    \n",
    "    # iterate over peak indixes\n",
    "    for i, index in enumerate(peak_indixes):\n",
    "        peak_index = peak_indixes[i]\n",
    "        days_pred = days_pred_start\n",
    "        if i == 0:\n",
    "            # select y values since the beginning of the outbreak till defined number of days\n",
    "            # and take a 3 days moving average for a smother trend\n",
    "            days_add = days_since_first_peak_start\n",
    "            \n",
    "            # If we have two peak starts then the range we take to estmate the first should not be longer than the distance between 1st and 2nd\n",
    "#             if len(peak_indixes) > 1:\n",
    "#                 if days_add < len(df.loc[peak_index:peak_indixes[i+1]]):\n",
    "#                     days_add = len(df.loc[peak_index:peak_indixes[i+1]])\n",
    "#             else:\n",
    "#                 # Else take all the days we have\n",
    "#                 if days_add < len(df):\n",
    "#                     days_add = len(df)\n",
    "                    \n",
    "            y = df_peak_log.loc[df_peak_log.index < peak_index +\n",
    "                       datetime.timedelta(days=days_add), 'confirmed_peak_log'] #.rolling(3).median().dropna()\n",
    "        else:\n",
    "            # for the second+ outbreak use different number of minimum required days\n",
    "            days_add = days_other_peak_starts\n",
    "            # exis if we do not have enough data for an estimation\n",
    "            if len(df.loc[peak_index:peak_index + datetime.timedelta(days=days_add)]) < days_other_peak_starts:\n",
    "                return df\n",
    "            else:\n",
    "                # if we have more data to estimate second peak then use all of it\n",
    "                days_other_peak_starts = len(df.loc[peak_index:df.index.max()])\n",
    "                # if enough data then select y for estimating the trend\n",
    "                y = df_peak_log.loc[(df_peak_log.index < df_peak_log.index.max()) &\n",
    "                           (df_peak_log.index > peak_index), 'confirmed_peak_log'] #.rolling(3).median().dropna()\n",
    "\n",
    "        # calculate X as number of days in Y and reshape to fit in LogReg model\n",
    "        X = (y.index - y.index[0]).days.values.reshape(-1, 1)\n",
    "    \n",
    "        \n",
    "        scaler = MinMaxScaler(feature_range=(0, 1))\n",
    "        X = scaler.fit_transform(X)\n",
    "        \n",
    "        # train LogReg model\n",
    "        reg = LinearRegression().fit(X, y)\n",
    "\n",
    "        # predict/estimate trend for 10, 20 and 30, 35 days forward, exit if the trend crosses 0\n",
    "        for days in [days_pred_start + i for i in [0, 10, 20, 35]]:\n",
    "            X2 = (range(1, days + len(y)) + max(X)[0]).reshape(-1, 1)\n",
    "            X2 = scaler.transform(X2)\n",
    "            trend = reg.predict(X2)\n",
    "            days_pred = days\n",
    "            if min(trend) < 0:\n",
    "                break\n",
    "        \n",
    "        \n",
    "\n",
    "        # prepare y2 dataframe using index as a date range between the last date of y+1\n",
    "        # and last date of y+days_estimated_for\n",
    "        y2_index = pd.date_range(y.index.min() + datetime.timedelta(days=1),\n",
    "                                 y.index.max() + datetime.timedelta(days=days_pred))\n",
    "        y2 = pd.DataFrame(index=y2_index, data=trend, columns=['peak_log_trend'])\n",
    "        \n",
    "        # remove extra negative values (if exist) except the first one (for clarity)\n",
    "        try:\n",
    "            first_negative_val = y2.loc[y2.peak_log_trend < 0].index[0]\n",
    "            y2 = y2.loc[y2.index <= first_negative_val, 'peak_log_trend']\n",
    "        except:\n",
    "            pass\n",
    "        # in case its the first peak simply merge DFs\n",
    "        if i == 0:\n",
    "            df = df.join(y2, how='outer')\n",
    "        # otherwise merge and make sure that we fit all trends in the same column for easy plotting\n",
    "        else:\n",
    "            df = pd.merge(df, y2, left_index=True, right_index=True, how='outer', suffixes=('_x', '_y'))\n",
    "            df['peak_log_trend'] = df.loc[:, ['peak_log_trend_x', 'peak_log_trend_y']].apply(\n",
    "                lambda row: row[0] if pd.isnull(row[0]) == False else row[1], axis=1)\n",
    "            df.drop(['peak_log_trend_x', 'peak_log_trend_y'], axis=1, inplace=True)\n",
    "\n",
    "    return df"
   ]
  },
  {
   "cell_type": "code",
   "execution_count": 54,
   "metadata": {},
   "outputs": [],
   "source": [
    "def add_trend_linear(df, column, date_range, days_add=15):\n",
    "    y = df.loc[(df.index >= date_range[0]) & (df.index <= date_range[1]), column].dropna() #.rolling(3).median().dropna()\n",
    "\n",
    "    # calculate X as number of days in Y and reshape to fit in LogReg model\n",
    "    X = (y.index - y.index[0]).days.values.reshape(-1, 1)\n",
    "\n",
    "    scaler = MinMaxScaler(feature_range=(0, 1))\n",
    "    X = scaler.fit_transform(X)\n",
    "\n",
    "    # train LogReg model\n",
    "    reg = LinearRegression().fit(X, y)\n",
    "\n",
    "    # predict/estimate trend for 10, 20 and 30, 35 days forward, exit if the trend crosses 0\n",
    "    X2 = (range(1, days_add + len(y)) + max(X)[0]).reshape(-1, 1)\n",
    "    X2 = scaler.transform(X2)\n",
    "    trend = reg.predict(X2)\n",
    "    # prepare y2 dataframe using index as a date range between the last date of y+1\n",
    "    # and last date of y+days_estimated_for\n",
    "    y2_index = pd.date_range(y.index.min() + datetime.timedelta(days=1),\n",
    "                             y.index.max() + datetime.timedelta(days=days_add))\n",
    "    y2 = pd.DataFrame(index=y2_index, data=trend, columns=[f'{column}_trend'])\n",
    "    df = df.join(y2, how='outer')\n",
    "    return df"
   ]
  },
  {
   "cell_type": "code",
   "execution_count": 50,
   "metadata": {},
   "outputs": [
    {
     "data": {
      "text/plain": [
       "<matplotlib.axes._subplots.AxesSubplot at 0x1241eff60>"
      ]
     },
     "execution_count": 50,
     "metadata": {},
     "output_type": "execute_result"
    },
    {
     "data": {
      "image/png": "[encoded data removed]",
      "text/plain": [
       "<Figure size 432x288 with 1 Axes>"
      ]
     },
     "metadata": {
      "needs_background": "light"
     },
     "output_type": "display_data"
    },
    {
     "data": {
      "image/png": "[encoded data removed]",
      "text/plain": [
       "<Figure size 432x288 with 1 Axes>"
      ]
     },
     "metadata": {
      "needs_background": "light"
     },
     "output_type": "display_data"
    }
   ],
   "source": [
    "df_ham = df.loc[(df.land == 'Baden-Wuerttemberg')].copy()\n",
    "df_ham.drop('peak_log_trend', axis=1, inplace=True)\n",
    "dd = add_trend_linear(df_ham, 'confirmed_peak_log', ['2020-03-20', '2020-04-05'])\n",
    "dd['active_cases_change'] = dd['confirmed_active_cases'] - dd['confirmed_active_cases'].shift(1)\n",
    "dd.loc[:, ['confirmed_peak_log_trend', 'confirmed_peak_log']].rolling(7).mean().plot(title=l)\n",
    "dd.loc[:, ['active_cases_change']].rolling(7).mean().plot(title=l)"
   ]
  },
  {
   "cell_type": "code",
   "execution_count": 48,
   "metadata": {},
   "outputs": [
    {
     "data": {
      "text/plain": [
       "array(['Baden-Wuerttemberg', 'Bavaria', 'Berlin', 'Brandenburg', 'Bremen',\n",
       "       'Hamburg', 'Hesse', 'Lower Saxony',\n",
       "       'Mecklenburg-Western Pomerania', 'North Rhine-Westphalia',\n",
       "       'Rhineland-Palatinate', 'Saarland', 'Saxony', 'Saxony-Anhalt',\n",
       "       'Schleswig-Holstein', 'Thuringia'], dtype=object)"
      ]
     },
     "execution_count": 48,
     "metadata": {},
     "output_type": "execute_result"
    }
   ],
   "source": [
    "df.land.unique()"
   ]
  },
  {
   "cell_type": "code",
   "execution_count": 195,
   "metadata": {},
   "outputs": [],
   "source": [
    "# for l in df.land.unique():\n",
    "#     df_ham = df.loc[df.land == l].copy()\n",
    "#     df_ham.drop('peak_log_trend', axis=1, inplace=True)\n",
    "#     dd = findpeak_trend(df_ham)\n",
    "#     dd['active_cases_change'] = dd['confirmed_active_cases'] - dd['confirmed_active_cases'].shift(1)\n",
    "#     dd.loc[:, ['peak_log_trend', 'confirmed_peak_log']].rolling(7).mean().plot(title=l)\n",
    "#     dd.loc[:, ['active_cases_change', 'confirmed_change']].rolling(7).mean().plot(title=l)\n",
    "#     dd.loc[:, ['confirmed_active_cases']].rolling(7).mean().plot(title=l)"
   ]
  },
  {
   "cell_type": "code",
   "execution_count": 196,
   "metadata": {},
   "outputs": [],
   "source": [
    "# import matplotlib.pyplot as plt\n",
    "# plt.close('all')"
   ]
  },
  {
   "cell_type": "code",
   "execution_count": 8,
   "metadata": {},
   "outputs": [],
   "source": [
    "from fbprophet import Prophet\n",
    "import datetime\n",
    "import pandas as pd\n",
    "\n",
    "\n",
    "def add_forecast_prophet(df_in, column, window=60, ):\n",
    "    df = df_in.loc[:, [column]].dropna()\n",
    "    df['ds'] = df.index\n",
    "    df.columns = ['y', 'ds']\n",
    "    m = Prophet(weekly_seasonality=False, daily_seasonality=False, yearly_seasonality=False)\n",
    "    m.fit(df)\n",
    "    future = m.make_future_dataframe(periods=window)\n",
    "    forecast = m.predict(future)\n",
    "    forecast.set_index(forecast.ds, inplace=True)\n",
    "    forecast = forecast.loc[:, ['yhat', 'yhat_lower', 'yhat_upper']]\n",
    "    df_extra_dates = pd.DataFrame(\n",
    "        {'day': pd.Series([max(df_in.index) + datetime.timedelta(1), max(df_in.index) + datetime.timedelta(window)])})\n",
    "    df_extra_dates.set_index('day', inplace=True)\n",
    "    df_extra_dates = df_extra_dates.asfreq('D')\n",
    "    df_in = df_in.append(df_extra_dates)\n",
    "    df_result = pd.concat([df_in, forecast], axis=1)\n",
    "    df_result[f'peak_log_trend'] = df_result.loc[df_result[column].isnull() == True, ['yhat']]\n",
    "\n",
    "    return df_result\n"
   ]
  },
  {
   "cell_type": "code",
   "execution_count": null,
   "metadata": {},
   "outputs": [],
   "source": [
    "# dd2 = add_forecast_prophet(df_ham, 'confirmed_peak_log')"
   ]
  },
  {
   "cell_type": "code",
   "execution_count": null,
   "metadata": {},
   "outputs": [],
   "source": [
    "# dd2"
   ]
  },
  {
   "cell_type": "code",
   "execution_count": null,
   "metadata": {},
   "outputs": [],
   "source": [
    "# dd2.loc[:, ['peak_log_trend', 'confirmed_peak_log']].plot()"
   ]
  },
  {
   "cell_type": "code",
   "execution_count": 116,
   "metadata": {},
   "outputs": [],
   "source": [
    "import warnings\n",
    "warnings.filterwarnings(\"ignore\")\n",
    "def add_trend_arima(df, column, date_range,  days_add=15, start=None):\n",
    "    if start == None:\n",
    "        start = df.index.max().date()\n",
    "    y = df.loc[(df.index >= date_range[0]) & (df.index <= date_range[1]), column].dropna() #.rolling(3).median().dropna()\n",
    "\n",
    "    # calculate X as number of days in Y and reshape to fit in LogReg model\n",
    "    X = (y.index - y.index[0]).days.values.reshape(-1, 1)\n",
    "\n",
    "    scaler = MinMaxScaler(feature_range=(0, 1))\n",
    "    X = scaler.fit_transform(X)\n",
    "\n",
    "    # train LogReg model\n",
    "    import statsmodels.api as sm\n",
    "    mod = sm.tsa.statespace.SARIMAX(y,\n",
    "#                                     order=(0, 0, 0),\n",
    "#                                     seasonal_order=(0,0,0,0),\n",
    "                                enforce_stationarity=False,\n",
    "                                enforce_invertibility=False)\n",
    "\n",
    "    results = mod.fit()\n",
    "    \n",
    "    pred_dynamic = results.get_prediction(start=pd.to_datetime(start), dynamic=True, full_results=True)\n",
    "    pred_dynamic_ci = pred_dynamic.conf_int()\n",
    "    y2 = pred_dynamic.predicted_mean\n",
    "    y2.rename(f'{column}_trend', inplace=True)\n",
    "    y2.columns = [f'{column}_trend']\n",
    "    \n",
    "    # Get forecast 500 steps ahead in future\n",
    "    pred_uc = results.get_forecast(steps=days_add)\n",
    "    pred_uc = pred_uc.predicted_mean\n",
    "    pred_uc.rename(f'{column}_trend', inplace=True)\n",
    "    pred_uc.columns = [f'{column}_trend']\n",
    "    \n",
    "#     print(y2,\"\\n\")\n",
    "#     print(pred_uc,\"\\n\")\n",
    "    \n",
    "    print(results.summary().tables[1])\n",
    "#     results.plot_diagnostics(figsize=(15, 12))\n",
    "#     plt.show()\n",
    "\n",
    "    df = df.join(y2, how='outer')\n",
    "    df = pd.merge(df, pred_uc, left_index=True, right_index=True, how='outer', suffixes=('_x', '_y'))\n",
    "    df[f'{column}_trend'] = df.loc[:, [f'{column}_trend_x', f'{column}_trend_y']].apply(\n",
    "            lambda row: row[0] if pd.isnull(row[0]) == False else row[1], axis=1)\n",
    "    df.drop([f'{column}_trend_x', f'{column}_trend_y'], axis=1, inplace=True)\n",
    "\n",
    "    return df\n"
   ]
  },
  {
   "cell_type": "code",
   "execution_count": 117,
   "metadata": {},
   "outputs": [
    {
     "name": "stdout",
     "output_type": "stream",
     "text": [
      "==============================================================================\n",
      "                 coef    std err          z      P>|z|      [0.025      0.975]\n",
      "------------------------------------------------------------------------------\n",
      "ar.L1          0.9633      0.017     55.800      0.000       0.929       0.997\n",
      "sigma2         0.0214      0.011      1.939      0.052      -0.000       0.043\n",
      "==============================================================================\n"
     ]
    },
    {
     "data": {
      "text/plain": [
       "<matplotlib.axes._subplots.AxesSubplot at 0x12519ee10>"
      ]
     },
     "execution_count": 117,
     "metadata": {},
     "output_type": "execute_result"
    },
    {
     "data": {
      "image/png": "[encoded data removed]",
      "text/plain": [
       "<Figure size 432x288 with 1 Axes>"
      ]
     },
     "metadata": {
      "needs_background": "light"
     },
     "output_type": "display_data"
    }
   ],
   "source": [
    "df_ham = df.loc[(df.land == 'Baden-Wuerttemberg')].copy()\n",
    "df_ham.drop('peak_log_trend', axis=1, inplace=True)\n",
    "dd = add_trend_arima(df_ham, 'confirmed_peak_log', ['2020-03-04', '2020-04-01'], start='2020-03-25')\n",
    "dd.loc[:, ['confirmed_peak_log_trend', 'confirmed_peak_log']].rolling(7).mean().plot(title=l)"
   ]
  },
  {
   "cell_type": "code",
   "execution_count": 122,
   "metadata": {},
   "outputs": [
    {
     "name": "stdout",
     "output_type": "stream",
     "text": [
      "==============================================================================\n",
      "                 coef    std err          z      P>|z|      [0.025      0.975]\n",
      "------------------------------------------------------------------------------\n",
      "ar.L1          0.5376      0.103      5.233      0.000       0.336       0.739\n",
      "sigma2      9343.6318    875.467     10.673      0.000    7627.747    1.11e+04\n",
      "==============================================================================\n"
     ]
    },
    {
     "data": {
      "text/plain": [
       "<matplotlib.axes._subplots.AxesSubplot at 0x125759cc0>"
      ]
     },
     "execution_count": 122,
     "metadata": {},
     "output_type": "execute_result"
    },
    {
     "data": {
      "image/png": "[encoded data removed]",
      "text/plain": [
       "<Figure size 432x288 with 1 Axes>"
      ]
     },
     "metadata": {
      "needs_background": "light"
     },
     "output_type": "display_data"
    }
   ],
   "source": [
    "land = 'Hamburg'\n",
    "column = 'confirmed_change'\n",
    "df_ham = df.loc[(df.land == land)].copy()\n",
    "# df_ham.drop('peak_log_trend', axis=1, inplace=True)\n",
    "dd = add_trend_arima(df_ham, column, ['2020-03-04', '2020-05-01'], start='2020-04-01')\n",
    "dd.loc[:, [f'{column}_trend', column]].rolling(7).mean().plot(title=l)"
   ]
  },
  {
   "cell_type": "code",
   "execution_count": 162,
   "metadata": {},
   "outputs": [
    {
     "data": {
      "text/plain": [
       "Index(['state', 'land', 'lat', 'lng', 'iso_code', 'date', 'confirmed',\n",
       "       'confirmed_avg3', 'confirmed_change', 'confirmed_change_avg3',\n",
       "       'confirmed_change_3w', 'confirmed_change_pct',\n",
       "       'confirmed_change_pct_avg3', 'confirmed_change_pct_3w',\n",
       "       'confirmed_doubling_days', 'confirmed_doubling_days_3w',\n",
       "       'confirmed_doubling_days_avg3', 'confirmed_doubling_days_3w_avg3',\n",
       "       'confirmed_active_cases', 'confirmed_active_cases_change',\n",
       "       'confirmed_peak_log', 'confirmed_peak_date', 'confirmed_day_since_10',\n",
       "       'population_100k', 'confirmed_per_100k', 'confirmed_change_per_100k',\n",
       "       'confirmed_active_cases_per_100k',\n",
       "       'confirmed_active_cases_change_per_100k', 'dead', 'dead_avg3',\n",
       "       'dead_change', 'dead_change_avg3', 'dead_change_3w', 'dead_change_pct',\n",
       "       'dead_change_pct_avg3', 'dead_change_pct_3w', 'dead_doubling_days',\n",
       "       'dead_doubling_days_3w', 'dead_doubling_days_avg3',\n",
       "       'dead_doubling_days_3w_avg3', 'dead_day_since_10', 'dead_per_100k',\n",
       "       'dead_change_per_100k', 'region_wb', 'population_wb'],\n",
       "      dtype='object')"
      ]
     },
     "execution_count": 162,
     "metadata": {},
     "output_type": "execute_result"
    }
   ],
   "source": [
    "df_jh_world.columns"
   ]
  },
  {
   "cell_type": "code",
   "execution_count": 161,
   "metadata": {},
   "outputs": [],
   "source": [
    "# sorted(df_jh_world.round(3)['confirmed_change_per_100k'], reverse=True)"
   ]
  },
  {
   "cell_type": "code",
   "execution_count": 143,
   "metadata": {},
   "outputs": [],
   "source": [
    "df_rki_orig['date'] = df_rki_orig['date'].astype('datetime64[ns]')"
   ]
  },
  {
   "cell_type": "code",
   "execution_count": 141,
   "metadata": {},
   "outputs": [],
   "source": [
    "selected_colum = 'confirmed'\n",
    "\n",
    "ro = df_rki_orig.groupby('land').rolling(7, on='date').mean().reset_index(drop=False).loc[:,\n",
    "         ['date', 'land', selected_colum]]\n",
    "df = df_rki_orig.merge(ro, on=['date', 'land'], suffixes=('', '_weekly')).round(3)"
   ]
  },
  {
   "cell_type": "code",
   "execution_count": 200,
   "metadata": {},
   "outputs": [
    {
     "data": {
      "text/html": [
       "<div>\n",
       "<style scoped>\n",
       "    .dataframe tbody tr th:only-of-type {\n",
       "        vertical-align: middle;\n",
       "    }\n",
       "\n",
       "    .dataframe tbody tr th {\n",
       "        vertical-align: top;\n",
       "    }\n",
       "\n",
       "    .dataframe thead th {\n",
       "        text-align: right;\n",
       "    }\n",
       "</style>\n",
       "<table border=\"1\" class=\"dataframe\">\n",
       "  <thead>\n",
       "    <tr style=\"text-align: right;\">\n",
       "      <th></th>\n",
       "      <th>date_index</th>\n",
       "      <th>geo_type</th>\n",
       "      <th>region</th>\n",
       "      <th>alternative_name</th>\n",
       "      <th>sub-region</th>\n",
       "      <th>country</th>\n",
       "      <th>date</th>\n",
       "      <th>driving</th>\n",
       "      <th>transit</th>\n",
       "      <th>walking</th>\n",
       "    </tr>\n",
       "  </thead>\n",
       "  <tbody>\n",
       "    <tr>\n",
       "      <th>0</th>\n",
       "      <td>2020-01-13</td>\n",
       "      <td>city</td>\n",
       "      <td>Aachen</td>\n",
       "      <td>NaN</td>\n",
       "      <td>North Rhine-Westphalia</td>\n",
       "      <td>Germany</td>\n",
       "      <td>2020-01-13</td>\n",
       "      <td>100.0</td>\n",
       "      <td>NaN</td>\n",
       "      <td>100.0</td>\n",
       "    </tr>\n",
       "  </tbody>\n",
       "</table>\n",
       "</div>"
      ],
      "text/plain": [
       "   date_index geo_type  region alternative_name              sub-region  \\\n",
       "0  2020-01-13     city  Aachen              NaN  North Rhine-Westphalia   \n",
       "\n",
       "   country        date  driving  transit  walking  \n",
       "0  Germany  2020-01-13    100.0      NaN    100.0  "
      ]
     },
     "execution_count": 200,
     "metadata": {},
     "output_type": "execute_result"
    }
   ],
   "source": [
    "df_apple.head(1)"
   ]
  },
  {
   "cell_type": "code",
   "execution_count": 201,
   "metadata": {},
   "outputs": [
    {
     "data": {
      "text/html": [
       "<div>\n",
       "<style scoped>\n",
       "    .dataframe tbody tr th:only-of-type {\n",
       "        vertical-align: middle;\n",
       "    }\n",
       "\n",
       "    .dataframe tbody tr th {\n",
       "        vertical-align: top;\n",
       "    }\n",
       "\n",
       "    .dataframe thead th {\n",
       "        text-align: right;\n",
       "    }\n",
       "</style>\n",
       "<table border=\"1\" class=\"dataframe\">\n",
       "  <thead>\n",
       "    <tr style=\"text-align: right;\">\n",
       "      <th></th>\n",
       "      <th>land</th>\n",
       "      <th>iso_code</th>\n",
       "      <th>date</th>\n",
       "      <th>confirmed</th>\n",
       "      <th>confirmed_change</th>\n",
       "      <th>confirmed_change_pct_3w</th>\n",
       "      <th>confirmed_doubling_days_3w_avg3</th>\n",
       "      <th>confirmed_active_cases</th>\n",
       "      <th>confirmed_active_cases_change</th>\n",
       "      <th>confirmed_peak_date</th>\n",
       "      <th>population_100k</th>\n",
       "      <th>confirmed_per_100k</th>\n",
       "      <th>confirmed_change_per_100k</th>\n",
       "      <th>confirmed_active_cases_per_100k</th>\n",
       "      <th>dead</th>\n",
       "      <th>dead_change</th>\n",
       "      <th>dead_doubling_days</th>\n",
       "      <th>lethality</th>\n",
       "      <th>dead_per_100k</th>\n",
       "      <th>dead_change_per_100k</th>\n",
       "      <th>region_wb</th>\n",
       "    </tr>\n",
       "    <tr>\n",
       "      <th>date</th>\n",
       "      <th></th>\n",
       "      <th></th>\n",
       "      <th></th>\n",
       "      <th></th>\n",
       "      <th></th>\n",
       "      <th></th>\n",
       "      <th></th>\n",
       "      <th></th>\n",
       "      <th></th>\n",
       "      <th></th>\n",
       "      <th></th>\n",
       "      <th></th>\n",
       "      <th></th>\n",
       "      <th></th>\n",
       "      <th></th>\n",
       "      <th></th>\n",
       "      <th></th>\n",
       "      <th></th>\n",
       "      <th></th>\n",
       "      <th></th>\n",
       "      <th></th>\n",
       "    </tr>\n",
       "  </thead>\n",
       "  <tbody>\n",
       "    <tr>\n",
       "      <th>2020-02-24</th>\n",
       "      <td>Afghanistan</td>\n",
       "      <td>AFG</td>\n",
       "      <td>2020-02-24</td>\n",
       "      <td>1.0</td>\n",
       "      <td>NaN</td>\n",
       "      <td>NaN</td>\n",
       "      <td>NaN</td>\n",
       "      <td>NaN</td>\n",
       "      <td>NaN</td>\n",
       "      <td>-1</td>\n",
       "      <td>371.72</td>\n",
       "      <td>0.00269</td>\n",
       "      <td>NaN</td>\n",
       "      <td>NaN</td>\n",
       "      <td>NaN</td>\n",
       "      <td>NaN</td>\n",
       "      <td>0.0</td>\n",
       "      <td>NaN</td>\n",
       "      <td>NaN</td>\n",
       "      <td>NaN</td>\n",
       "      <td>South Asia</td>\n",
       "    </tr>\n",
       "  </tbody>\n",
       "</table>\n",
       "</div>"
      ],
      "text/plain": [
       "                   land iso_code       date  confirmed  confirmed_change  \\\n",
       "date                                                                       \n",
       "2020-02-24  Afghanistan      AFG 2020-02-24        1.0               NaN   \n",
       "\n",
       "            confirmed_change_pct_3w  confirmed_doubling_days_3w_avg3  \\\n",
       "date                                                                   \n",
       "2020-02-24                      NaN                              NaN   \n",
       "\n",
       "            confirmed_active_cases  confirmed_active_cases_change  \\\n",
       "date                                                                \n",
       "2020-02-24                     NaN                            NaN   \n",
       "\n",
       "            confirmed_peak_date  population_100k  confirmed_per_100k  \\\n",
       "date                                                                   \n",
       "2020-02-24                   -1           371.72             0.00269   \n",
       "\n",
       "            confirmed_change_per_100k  confirmed_active_cases_per_100k  dead  \\\n",
       "date                                                                           \n",
       "2020-02-24                        NaN                              NaN   NaN   \n",
       "\n",
       "            dead_change  dead_doubling_days  lethality  dead_per_100k  \\\n",
       "date                                                                    \n",
       "2020-02-24          NaN                 0.0        NaN            NaN   \n",
       "\n",
       "            dead_change_per_100k   region_wb  \n",
       "date                                          \n",
       "2020-02-24                   NaN  South Asia  "
      ]
     },
     "execution_count": 201,
     "metadata": {},
     "output_type": "execute_result"
    }
   ],
   "source": [
    "df_jh_world.head(1)"
   ]
  },
  {
   "cell_type": "code",
   "execution_count": 203,
   "metadata": {},
   "outputs": [
    {
     "data": {
      "text/plain": [
       "186"
      ]
     },
     "execution_count": 203,
     "metadata": {},
     "output_type": "execute_result"
    }
   ],
   "source": [
    "len(df_jh_world.land.unique())"
   ]
  },
  {
   "cell_type": "code",
   "execution_count": 204,
   "metadata": {},
   "outputs": [
    {
     "data": {
      "text/plain": [
       "48"
      ]
     },
     "execution_count": 204,
     "metadata": {},
     "output_type": "execute_result"
    }
   ],
   "source": [
    "len(df_apple.country.unique())"
   ]
  },
  {
   "cell_type": "code",
   "execution_count": 220,
   "metadata": {},
   "outputs": [],
   "source": [
    "df_apple['country'] = df_apple['country'].replace()"
   ]
  },
  {
   "cell_type": "code",
   "execution_count": 221,
   "metadata": {},
   "outputs": [
    {
     "data": {
      "text/plain": [
       "['Germany',\n",
       " 'US',\n",
       " 'Italy',\n",
       " 'Australia',\n",
       " 'Norway',\n",
       " 'Mexico',\n",
       " 'Japan',\n",
       " 'Brazil',\n",
       " 'Canada',\n",
       " 'France',\n",
       " 'Netherlands',\n",
       " 'Spain',\n",
       " 'Thailand',\n",
       " 'Turkey',\n",
       " 'Chile',\n",
       " 'Belgium',\n",
       " 'Greece',\n",
       " 'New Zealand',\n",
       " 'United Kingdom',\n",
       " 'India',\n",
       " 'Slovakia',\n",
       " 'Hungary',\n",
       " 'Switzerland',\n",
       " 'Sweden',\n",
       " 'Romania',\n",
       " 'Argentina',\n",
       " 'Austria',\n",
       " 'Korea, South',\n",
       " 'Egypt',\n",
       " 'South Africa',\n",
       " 'Denmark',\n",
       " 'Morocco',\n",
       " 'Czechia',\n",
       " 'Israel',\n",
       " 'Finland',\n",
       " 'Taiwan*',\n",
       " 'Ireland',\n",
       " 'Indonesia',\n",
       " 'Luxembourg',\n",
       " 'United Arab Emirates',\n",
       " 'Poland',\n",
       " 'Vietnam',\n",
       " 'Malaysia',\n",
       " 'Russia',\n",
       " 'Portugal',\n",
       " 'Philippines',\n",
       " 'Saudi Arabia']"
      ]
     },
     "execution_count": 221,
     "metadata": {},
     "output_type": "execute_result"
    }
   ],
   "source": [
    "list(df_apple.loc[df_apple.country.isin(df_jh_world.land.unique()), 'country'].unique())"
   ]
  },
  {
   "cell_type": "code",
   "execution_count": 222,
   "metadata": {},
   "outputs": [
    {
     "data": {
      "text/plain": [
       "[nan]"
      ]
     },
     "execution_count": 222,
     "metadata": {},
     "output_type": "execute_result"
    }
   ],
   "source": [
    "list(df_apple.loc[~df_apple.country.isin(df_jh_world.land.unique()), 'country'].unique())"
   ]
  },
  {
   "cell_type": "code",
   "execution_count": null,
   "metadata": {},
   "outputs": [],
   "source": [
    "{'United States': 'US', 'Republic of Korea', 'Korea, South', 'Czech Republic': 'Czechia', 'Taiwan': 'Taiwan*'}"
   ]
  },
  {
   "cell_type": "code",
   "execution_count": 213,
   "metadata": {},
   "outputs": [
    {
     "data": {
      "text/html": [
       "<div>\n",
       "<style scoped>\n",
       "    .dataframe tbody tr th:only-of-type {\n",
       "        vertical-align: middle;\n",
       "    }\n",
       "\n",
       "    .dataframe tbody tr th {\n",
       "        vertical-align: top;\n",
       "    }\n",
       "\n",
       "    .dataframe thead th {\n",
       "        text-align: right;\n",
       "    }\n",
       "</style>\n",
       "<table border=\"1\" class=\"dataframe\">\n",
       "  <thead>\n",
       "    <tr style=\"text-align: right;\">\n",
       "      <th></th>\n",
       "      <th>land</th>\n",
       "      <th>iso_code</th>\n",
       "      <th>date</th>\n",
       "      <th>confirmed</th>\n",
       "      <th>confirmed_change</th>\n",
       "      <th>confirmed_change_pct_3w</th>\n",
       "      <th>confirmed_doubling_days_3w_avg3</th>\n",
       "      <th>confirmed_active_cases</th>\n",
       "      <th>confirmed_active_cases_change</th>\n",
       "      <th>confirmed_peak_date</th>\n",
       "      <th>population_100k</th>\n",
       "      <th>confirmed_per_100k</th>\n",
       "      <th>confirmed_change_per_100k</th>\n",
       "      <th>confirmed_active_cases_per_100k</th>\n",
       "      <th>dead</th>\n",
       "      <th>dead_change</th>\n",
       "      <th>dead_doubling_days</th>\n",
       "      <th>lethality</th>\n",
       "      <th>dead_per_100k</th>\n",
       "      <th>dead_change_per_100k</th>\n",
       "      <th>region_wb</th>\n",
       "    </tr>\n",
       "    <tr>\n",
       "      <th>date</th>\n",
       "      <th></th>\n",
       "      <th></th>\n",
       "      <th></th>\n",
       "      <th></th>\n",
       "      <th></th>\n",
       "      <th></th>\n",
       "      <th></th>\n",
       "      <th></th>\n",
       "      <th></th>\n",
       "      <th></th>\n",
       "      <th></th>\n",
       "      <th></th>\n",
       "      <th></th>\n",
       "      <th></th>\n",
       "      <th></th>\n",
       "      <th></th>\n",
       "      <th></th>\n",
       "      <th></th>\n",
       "      <th></th>\n",
       "      <th></th>\n",
       "      <th></th>\n",
       "    </tr>\n",
       "  </thead>\n",
       "  <tbody>\n",
       "    <tr>\n",
       "      <th>2020-01-22</th>\n",
       "      <td>Taiwan*</td>\n",
       "      <td>TWN</td>\n",
       "      <td>2020-01-22</td>\n",
       "      <td>1.0</td>\n",
       "      <td>NaN</td>\n",
       "      <td>NaN</td>\n",
       "      <td>NaN</td>\n",
       "      <td>NaN</td>\n",
       "      <td>NaN</td>\n",
       "      <td>-1</td>\n",
       "      <td>NaN</td>\n",
       "      <td>NaN</td>\n",
       "      <td>NaN</td>\n",
       "      <td>NaN</td>\n",
       "      <td>NaN</td>\n",
       "      <td>NaN</td>\n",
       "      <td>0.0</td>\n",
       "      <td>NaN</td>\n",
       "      <td>NaN</td>\n",
       "      <td>NaN</td>\n",
       "      <td>East Asia &amp; Pacific</td>\n",
       "    </tr>\n",
       "    <tr>\n",
       "      <th>2020-01-23</th>\n",
       "      <td>Taiwan*</td>\n",
       "      <td>TWN</td>\n",
       "      <td>2020-01-23</td>\n",
       "      <td>1.0</td>\n",
       "      <td>0.0</td>\n",
       "      <td>NaN</td>\n",
       "      <td>NaN</td>\n",
       "      <td>NaN</td>\n",
       "      <td>NaN</td>\n",
       "      <td>0</td>\n",
       "      <td>NaN</td>\n",
       "      <td>NaN</td>\n",
       "      <td>NaN</td>\n",
       "      <td>NaN</td>\n",
       "      <td>NaN</td>\n",
       "      <td>NaN</td>\n",
       "      <td>0.0</td>\n",
       "      <td>NaN</td>\n",
       "      <td>NaN</td>\n",
       "      <td>NaN</td>\n",
       "      <td>East Asia &amp; Pacific</td>\n",
       "    </tr>\n",
       "    <tr>\n",
       "      <th>2020-01-24</th>\n",
       "      <td>Taiwan*</td>\n",
       "      <td>TWN</td>\n",
       "      <td>2020-01-24</td>\n",
       "      <td>3.0</td>\n",
       "      <td>2.0</td>\n",
       "      <td>NaN</td>\n",
       "      <td>0.0</td>\n",
       "      <td>NaN</td>\n",
       "      <td>NaN</td>\n",
       "      <td>0</td>\n",
       "      <td>NaN</td>\n",
       "      <td>NaN</td>\n",
       "      <td>NaN</td>\n",
       "      <td>NaN</td>\n",
       "      <td>NaN</td>\n",
       "      <td>NaN</td>\n",
       "      <td>0.0</td>\n",
       "      <td>NaN</td>\n",
       "      <td>NaN</td>\n",
       "      <td>NaN</td>\n",
       "      <td>East Asia &amp; Pacific</td>\n",
       "    </tr>\n",
       "    <tr>\n",
       "      <th>2020-01-25</th>\n",
       "      <td>Taiwan*</td>\n",
       "      <td>TWN</td>\n",
       "      <td>2020-01-25</td>\n",
       "      <td>3.0</td>\n",
       "      <td>0.0</td>\n",
       "      <td>NaN</td>\n",
       "      <td>0.0</td>\n",
       "      <td>NaN</td>\n",
       "      <td>NaN</td>\n",
       "      <td>0</td>\n",
       "      <td>NaN</td>\n",
       "      <td>NaN</td>\n",
       "      <td>NaN</td>\n",
       "      <td>NaN</td>\n",
       "      <td>NaN</td>\n",
       "      <td>NaN</td>\n",
       "      <td>0.0</td>\n",
       "      <td>NaN</td>\n",
       "      <td>NaN</td>\n",
       "      <td>NaN</td>\n",
       "      <td>East Asia &amp; Pacific</td>\n",
       "    </tr>\n",
       "    <tr>\n",
       "      <th>2020-01-26</th>\n",
       "      <td>Taiwan*</td>\n",
       "      <td>TWN</td>\n",
       "      <td>2020-01-26</td>\n",
       "      <td>4.0</td>\n",
       "      <td>1.0</td>\n",
       "      <td>NaN</td>\n",
       "      <td>0.0</td>\n",
       "      <td>NaN</td>\n",
       "      <td>NaN</td>\n",
       "      <td>0</td>\n",
       "      <td>NaN</td>\n",
       "      <td>NaN</td>\n",
       "      <td>NaN</td>\n",
       "      <td>NaN</td>\n",
       "      <td>NaN</td>\n",
       "      <td>NaN</td>\n",
       "      <td>0.0</td>\n",
       "      <td>NaN</td>\n",
       "      <td>NaN</td>\n",
       "      <td>NaN</td>\n",
       "      <td>East Asia &amp; Pacific</td>\n",
       "    </tr>\n",
       "    <tr>\n",
       "      <th>...</th>\n",
       "      <td>...</td>\n",
       "      <td>...</td>\n",
       "      <td>...</td>\n",
       "      <td>...</td>\n",
       "      <td>...</td>\n",
       "      <td>...</td>\n",
       "      <td>...</td>\n",
       "      <td>...</td>\n",
       "      <td>...</td>\n",
       "      <td>...</td>\n",
       "      <td>...</td>\n",
       "      <td>...</td>\n",
       "      <td>...</td>\n",
       "      <td>...</td>\n",
       "      <td>...</td>\n",
       "      <td>...</td>\n",
       "      <td>...</td>\n",
       "      <td>...</td>\n",
       "      <td>...</td>\n",
       "      <td>...</td>\n",
       "      <td>...</td>\n",
       "    </tr>\n",
       "    <tr>\n",
       "      <th>2020-05-20</th>\n",
       "      <td>Taiwan*</td>\n",
       "      <td>TWN</td>\n",
       "      <td>2020-05-20</td>\n",
       "      <td>440.0</td>\n",
       "      <td>0.0</td>\n",
       "      <td>0.00</td>\n",
       "      <td>100.0</td>\n",
       "      <td>0.0</td>\n",
       "      <td>0.0</td>\n",
       "      <td>0</td>\n",
       "      <td>NaN</td>\n",
       "      <td>NaN</td>\n",
       "      <td>NaN</td>\n",
       "      <td>NaN</td>\n",
       "      <td>7.0</td>\n",
       "      <td>0.0</td>\n",
       "      <td>100.0</td>\n",
       "      <td>0.0</td>\n",
       "      <td>NaN</td>\n",
       "      <td>NaN</td>\n",
       "      <td>East Asia &amp; Pacific</td>\n",
       "    </tr>\n",
       "    <tr>\n",
       "      <th>2020-05-21</th>\n",
       "      <td>Taiwan*</td>\n",
       "      <td>TWN</td>\n",
       "      <td>2020-05-21</td>\n",
       "      <td>440.0</td>\n",
       "      <td>0.0</td>\n",
       "      <td>0.00</td>\n",
       "      <td>100.0</td>\n",
       "      <td>0.0</td>\n",
       "      <td>0.0</td>\n",
       "      <td>0</td>\n",
       "      <td>NaN</td>\n",
       "      <td>NaN</td>\n",
       "      <td>NaN</td>\n",
       "      <td>NaN</td>\n",
       "      <td>7.0</td>\n",
       "      <td>0.0</td>\n",
       "      <td>100.0</td>\n",
       "      <td>0.0</td>\n",
       "      <td>NaN</td>\n",
       "      <td>NaN</td>\n",
       "      <td>East Asia &amp; Pacific</td>\n",
       "    </tr>\n",
       "    <tr>\n",
       "      <th>2020-05-22</th>\n",
       "      <td>Taiwan*</td>\n",
       "      <td>TWN</td>\n",
       "      <td>2020-05-22</td>\n",
       "      <td>441.0</td>\n",
       "      <td>1.0</td>\n",
       "      <td>9.09</td>\n",
       "      <td>75.0</td>\n",
       "      <td>1.0</td>\n",
       "      <td>1.0</td>\n",
       "      <td>0</td>\n",
       "      <td>NaN</td>\n",
       "      <td>NaN</td>\n",
       "      <td>NaN</td>\n",
       "      <td>NaN</td>\n",
       "      <td>7.0</td>\n",
       "      <td>0.0</td>\n",
       "      <td>100.0</td>\n",
       "      <td>0.0</td>\n",
       "      <td>NaN</td>\n",
       "      <td>NaN</td>\n",
       "      <td>East Asia &amp; Pacific</td>\n",
       "    </tr>\n",
       "    <tr>\n",
       "      <th>2020-05-23</th>\n",
       "      <td>Taiwan*</td>\n",
       "      <td>TWN</td>\n",
       "      <td>2020-05-23</td>\n",
       "      <td>441.0</td>\n",
       "      <td>0.0</td>\n",
       "      <td>0.00</td>\n",
       "      <td>50.0</td>\n",
       "      <td>1.0</td>\n",
       "      <td>0.0</td>\n",
       "      <td>0</td>\n",
       "      <td>NaN</td>\n",
       "      <td>NaN</td>\n",
       "      <td>NaN</td>\n",
       "      <td>NaN</td>\n",
       "      <td>7.0</td>\n",
       "      <td>0.0</td>\n",
       "      <td>100.0</td>\n",
       "      <td>0.0</td>\n",
       "      <td>NaN</td>\n",
       "      <td>NaN</td>\n",
       "      <td>East Asia &amp; Pacific</td>\n",
       "    </tr>\n",
       "    <tr>\n",
       "      <th>2020-05-24</th>\n",
       "      <td>Taiwan*</td>\n",
       "      <td>TWN</td>\n",
       "      <td>2020-05-24</td>\n",
       "      <td>441.0</td>\n",
       "      <td>0.0</td>\n",
       "      <td>0.00</td>\n",
       "      <td>75.0</td>\n",
       "      <td>1.0</td>\n",
       "      <td>0.0</td>\n",
       "      <td>0</td>\n",
       "      <td>NaN</td>\n",
       "      <td>NaN</td>\n",
       "      <td>NaN</td>\n",
       "      <td>NaN</td>\n",
       "      <td>7.0</td>\n",
       "      <td>0.0</td>\n",
       "      <td>100.0</td>\n",
       "      <td>0.0</td>\n",
       "      <td>NaN</td>\n",
       "      <td>NaN</td>\n",
       "      <td>East Asia &amp; Pacific</td>\n",
       "    </tr>\n",
       "  </tbody>\n",
       "</table>\n",
       "<p>124 rows × 21 columns</p>\n",
       "</div>"
      ],
      "text/plain": [
       "               land iso_code       date  confirmed  confirmed_change  \\\n",
       "date                                                                   \n",
       "2020-01-22  Taiwan*      TWN 2020-01-22        1.0               NaN   \n",
       "2020-01-23  Taiwan*      TWN 2020-01-23        1.0               0.0   \n",
       "2020-01-24  Taiwan*      TWN 2020-01-24        3.0               2.0   \n",
       "2020-01-25  Taiwan*      TWN 2020-01-25        3.0               0.0   \n",
       "2020-01-26  Taiwan*      TWN 2020-01-26        4.0               1.0   \n",
       "...             ...      ...        ...        ...               ...   \n",
       "2020-05-20  Taiwan*      TWN 2020-05-20      440.0               0.0   \n",
       "2020-05-21  Taiwan*      TWN 2020-05-21      440.0               0.0   \n",
       "2020-05-22  Taiwan*      TWN 2020-05-22      441.0               1.0   \n",
       "2020-05-23  Taiwan*      TWN 2020-05-23      441.0               0.0   \n",
       "2020-05-24  Taiwan*      TWN 2020-05-24      441.0               0.0   \n",
       "\n",
       "            confirmed_change_pct_3w  confirmed_doubling_days_3w_avg3  \\\n",
       "date                                                                   \n",
       "2020-01-22                      NaN                              NaN   \n",
       "2020-01-23                      NaN                              NaN   \n",
       "2020-01-24                      NaN                              0.0   \n",
       "2020-01-25                      NaN                              0.0   \n",
       "2020-01-26                      NaN                              0.0   \n",
       "...                             ...                              ...   \n",
       "2020-05-20                     0.00                            100.0   \n",
       "2020-05-21                     0.00                            100.0   \n",
       "2020-05-22                     9.09                             75.0   \n",
       "2020-05-23                     0.00                             50.0   \n",
       "2020-05-24                     0.00                             75.0   \n",
       "\n",
       "            confirmed_active_cases  confirmed_active_cases_change  \\\n",
       "date                                                                \n",
       "2020-01-22                     NaN                            NaN   \n",
       "2020-01-23                     NaN                            NaN   \n",
       "2020-01-24                     NaN                            NaN   \n",
       "2020-01-25                     NaN                            NaN   \n",
       "2020-01-26                     NaN                            NaN   \n",
       "...                            ...                            ...   \n",
       "2020-05-20                     0.0                            0.0   \n",
       "2020-05-21                     0.0                            0.0   \n",
       "2020-05-22                     1.0                            1.0   \n",
       "2020-05-23                     1.0                            0.0   \n",
       "2020-05-24                     1.0                            0.0   \n",
       "\n",
       "            confirmed_peak_date  population_100k  confirmed_per_100k  \\\n",
       "date                                                                   \n",
       "2020-01-22                   -1              NaN                 NaN   \n",
       "2020-01-23                    0              NaN                 NaN   \n",
       "2020-01-24                    0              NaN                 NaN   \n",
       "2020-01-25                    0              NaN                 NaN   \n",
       "2020-01-26                    0              NaN                 NaN   \n",
       "...                         ...              ...                 ...   \n",
       "2020-05-20                    0              NaN                 NaN   \n",
       "2020-05-21                    0              NaN                 NaN   \n",
       "2020-05-22                    0              NaN                 NaN   \n",
       "2020-05-23                    0              NaN                 NaN   \n",
       "2020-05-24                    0              NaN                 NaN   \n",
       "\n",
       "            confirmed_change_per_100k  confirmed_active_cases_per_100k  dead  \\\n",
       "date                                                                           \n",
       "2020-01-22                        NaN                              NaN   NaN   \n",
       "2020-01-23                        NaN                              NaN   NaN   \n",
       "2020-01-24                        NaN                              NaN   NaN   \n",
       "2020-01-25                        NaN                              NaN   NaN   \n",
       "2020-01-26                        NaN                              NaN   NaN   \n",
       "...                               ...                              ...   ...   \n",
       "2020-05-20                        NaN                              NaN   7.0   \n",
       "2020-05-21                        NaN                              NaN   7.0   \n",
       "2020-05-22                        NaN                              NaN   7.0   \n",
       "2020-05-23                        NaN                              NaN   7.0   \n",
       "2020-05-24                        NaN                              NaN   7.0   \n",
       "\n",
       "            dead_change  dead_doubling_days  lethality  dead_per_100k  \\\n",
       "date                                                                    \n",
       "2020-01-22          NaN                 0.0        NaN            NaN   \n",
       "2020-01-23          NaN                 0.0        NaN            NaN   \n",
       "2020-01-24          NaN                 0.0        NaN            NaN   \n",
       "2020-01-25          NaN                 0.0        NaN            NaN   \n",
       "2020-01-26          NaN                 0.0        NaN            NaN   \n",
       "...                 ...                 ...        ...            ...   \n",
       "2020-05-20          0.0               100.0        0.0            NaN   \n",
       "2020-05-21          0.0               100.0        0.0            NaN   \n",
       "2020-05-22          0.0               100.0        0.0            NaN   \n",
       "2020-05-23          0.0               100.0        0.0            NaN   \n",
       "2020-05-24          0.0               100.0        0.0            NaN   \n",
       "\n",
       "            dead_change_per_100k            region_wb  \n",
       "date                                                   \n",
       "2020-01-22                   NaN  East Asia & Pacific  \n",
       "2020-01-23                   NaN  East Asia & Pacific  \n",
       "2020-01-24                   NaN  East Asia & Pacific  \n",
       "2020-01-25                   NaN  East Asia & Pacific  \n",
       "2020-01-26                   NaN  East Asia & Pacific  \n",
       "...                          ...                  ...  \n",
       "2020-05-20                   NaN  East Asia & Pacific  \n",
       "2020-05-21                   NaN  East Asia & Pacific  \n",
       "2020-05-22                   NaN  East Asia & Pacific  \n",
       "2020-05-23                   NaN  East Asia & Pacific  \n",
       "2020-05-24                   NaN  East Asia & Pacific  \n",
       "\n",
       "[124 rows x 21 columns]"
      ]
     },
     "execution_count": 213,
     "metadata": {},
     "output_type": "execute_result"
    }
   ],
   "source": [
    "df_jh_world.loc[df_jh_world.land.str.contains('Taiwan')]"
   ]
  },
  {
   "cell_type": "code",
   "execution_count": 239,
   "metadata": {},
   "outputs": [],
   "source": [
    "df_orig = pd.read_csv(\"data-processed/rki-reports.csv\")\n"
   ]
  },
  {
   "cell_type": "code",
   "execution_count": 240,
   "metadata": {},
   "outputs": [],
   "source": [
    "# df_orig.loc[(df_orig.date == '2020-05-24')]"
   ]
  },
  {
   "cell_type": "code",
   "execution_count": 241,
   "metadata": {},
   "outputs": [],
   "source": [
    "# df_orig.loc[(df_orig.date == '2020-05-24') & (df_orig.confirmed ==9762), 'land'] = 'Hesse'"
   ]
  },
  {
   "cell_type": "code",
   "execution_count": null,
   "metadata": {},
   "outputs": [],
   "source": [
    "del "
   ]
  },
  {
   "cell_type": "code",
   "execution_count": 262,
   "metadata": {},
   "outputs": [],
   "source": [
    "# df_apple.loc[df_apple.geo_type]"
   ]
  },
  {
   "cell_type": "code",
   "execution_count": 264,
   "metadata": {},
   "outputs": [
    {
     "data": {
      "text/plain": [
       "array(['city', 'county', 'sub-region', 'country/region'], dtype=object)"
      ]
     },
     "execution_count": 264,
     "metadata": {},
     "output_type": "execute_result"
    }
   ],
   "source": [
    "# df_apple.geo_type.unique()"
   ]
  },
  {
   "cell_type": "code",
   "execution_count": 265,
   "metadata": {},
   "outputs": [],
   "source": [
    "# df_apple.loc[(df_apple.country.isin(df_jh_world.land.unique()))\n",
    "# #                   & (df_apple.geo_type == 'country/region')\n",
    "#              , :].geo_type.unique()"
   ]
  },
  {
   "cell_type": "code",
   "execution_count": 361,
   "metadata": {},
   "outputs": [
    {
     "name": "stdout",
     "output_type": "stream",
     "text": [
      "This is the format of your plot grid:\n",
      "⎡ (1,1)  ⎤  [ (1,2)  ]\n",
      "⎣      : ⎦  [ (2,2)  ]\n",
      "\n"
     ]
    },
    {
     "data": {
      "application/vnd.plotly.v1+json": {
       "config": {
        "plotlyServerURL": "https://plot.ly"
       },
       "data": [
        {
         "delta": {
          "reference": 100
         },
         "domain": {
          "x": [
           0,
           0.27
          ],
          "y": [
           0,
           1
          ]
         },
         "gauge": {
          "axis": {
           "range": [
            null,
            500
           ],
           "tickcolor": "darkblue",
           "tickwidth": 1
          },
          "bar": {
           "color": "darkblue"
          },
          "bgcolor": "white",
          "bordercolor": "gray",
          "borderwidth": 2,
          "steps": [
           {
            "color": "lightgray",
            "range": [
             0,
             250
            ]
           },
           {
            "color": "gray",
            "range": [
             250,
             400
            ]
           }
          ],
          "threshold": {
           "line": {
            "color": "red",
            "width": 4
           },
           "thickness": 0.75,
           "value": 490
          }
         },
         "mode": "number+gauge+delta",
         "title": {
          "text": "Avg order size"
         },
         "type": "indicator",
         "value": 220
        },
        {
         "delta": {
          "reference": 300
         },
         "domain": {
          "x": [
           0.37,
           1
          ],
          "y": [
           0.575,
           1
          ]
         },
         "gauge": {
          "axis": {
           "range": [
            null,
            500
           ]
          },
          "bar": {
           "color": "darkblue"
          },
          "bgcolor": "white",
          "bordercolor": "gray",
          "borderwidth": 1,
          "steps": [
           {
            "color": "lightgray",
            "range": [
             0,
             250
            ]
           },
           {
            "color": "gray",
            "range": [
             250,
             400
            ]
           }
          ],
          "threshold": {
           "line": {
            "color": "red",
            "width": 4
           },
           "thickness": 0.75,
           "value": 490
          }
         },
         "mode": "number+gauge+delta",
         "title": {
          "text": "Avg order size"
         },
         "type": "indicator",
         "value": 220
        },
        {
         "delta": {
          "reference": 300
         },
         "domain": {
          "x": [
           0.37,
           1
          ],
          "y": [
           0,
           0.425
          ]
         },
         "mode": "number+gauge+delta",
         "title": {
          "text": "Avg order size"
         },
         "type": "indicator",
         "value": 220
        }
       ],
       "layout": {
        "autosize": true,
        "font": {
         "color": "darkblue",
         "family": "Arial"
        },
        "paper_bgcolor": "lavender",
        "template": {
         "data": {
          "bar": [
           {
            "error_x": {
             "color": "#2a3f5f"
            },
            "error_y": {
             "color": "#2a3f5f"
            },
            "marker": {
             "line": {
              "color": "#E5ECF6",
              "width": 0.5
             }
            },
            "type": "bar"
           }
          ],
          "barpolar": [
           {
            "marker": {
             "line": {
              "color": "#E5ECF6",
              "width": 0.5
             }
            },
            "type": "barpolar"
           }
          ],
          "carpet": [
           {
            "aaxis": {
             "endlinecolor": "#2a3f5f",
             "gridcolor": "white",
             "linecolor": "white",
             "minorgridcolor": "white",
             "startlinecolor": "#2a3f5f"
            },
            "baxis": {
             "endlinecolor": "#2a3f5f",
             "gridcolor": "white",
             "linecolor": "white",
             "minorgridcolor": "white",
             "startlinecolor": "#2a3f5f"
            },
            "type": "carpet"
           }
          ],
          "choropleth": [
           {
            "colorbar": {
             "outlinewidth": 0,
             "ticks": ""
            },
            "type": "choropleth"
           }
          ],
          "contour": [
           {
            "colorbar": {
             "outlinewidth": 0,
             "ticks": ""
            },
            "colorscale": [
             [
              0,
              "#0d0887"
             ],
             [
              0.1111111111111111,
              "#46039f"
             ],
             [
              0.2222222222222222,
              "#7201a8"
             ],
             [
              0.3333333333333333,
              "#9c179e"
             ],
             [
              0.4444444444444444,
              "#bd3786"
             ],
             [
              0.5555555555555556,
              "#d8576b"
             ],
             [
              0.6666666666666666,
              "#ed7953"
             ],
             [
              0.7777777777777778,
              "#fb9f3a"
             ],
             [
              0.8888888888888888,
              "#fdca26"
             ],
             [
              1,
              "#f0f921"
             ]
            ],
            "type": "contour"
           }
          ],
          "contourcarpet": [
           {
            "colorbar": {
             "outlinewidth": 0,
             "ticks": ""
            },
            "type": "contourcarpet"
           }
          ],
          "heatmap": [
           {
            "colorbar": {
             "outlinewidth": 0,
             "ticks": ""
            },
            "colorscale": [
             [
              0,
              "#0d0887"
             ],
             [
              0.1111111111111111,
              "#46039f"
             ],
             [
              0.2222222222222222,
              "#7201a8"
             ],
             [
              0.3333333333333333,
              "#9c179e"
             ],
             [
              0.4444444444444444,
              "#bd3786"
             ],
             [
              0.5555555555555556,
              "#d8576b"
             ],
             [
              0.6666666666666666,
              "#ed7953"
             ],
             [
              0.7777777777777778,
              "#fb9f3a"
             ],
             [
              0.8888888888888888,
              "#fdca26"
             ],
             [
              1,
              "#f0f921"
             ]
            ],
            "type": "heatmap"
           }
          ],
          "heatmapgl": [
           {
            "colorbar": {
             "outlinewidth": 0,
             "ticks": ""
            },
            "colorscale": [
             [
              0,
              "#0d0887"
             ],
             [
              0.1111111111111111,
              "#46039f"
             ],
             [
              0.2222222222222222,
              "#7201a8"
             ],
             [
              0.3333333333333333,
              "#9c179e"
             ],
             [
              0.4444444444444444,
              "#bd3786"
             ],
             [
              0.5555555555555556,
              "#d8576b"
             ],
             [
              0.6666666666666666,
              "#ed7953"
             ],
             [
              0.7777777777777778,
              "#fb9f3a"
             ],
             [
              0.8888888888888888,
              "#fdca26"
             ],
             [
              1,
              "#f0f921"
             ]
            ],
            "type": "heatmapgl"
           }
          ],
          "histogram": [
           {
            "marker": {
             "colorbar": {
              "outlinewidth": 0,
              "ticks": ""
             }
            },
            "type": "histogram"
           }
          ],
          "histogram2d": [
           {
            "colorbar": {
             "outlinewidth": 0,
             "ticks": ""
            },
            "colorscale": [
             [
              0,
              "#0d0887"
             ],
             [
              0.1111111111111111,
              "#46039f"
             ],
             [
              0.2222222222222222,
              "#7201a8"
             ],
             [
              0.3333333333333333,
              "#9c179e"
             ],
             [
              0.4444444444444444,
              "#bd3786"
             ],
             [
              0.5555555555555556,
              "#d8576b"
             ],
             [
              0.6666666666666666,
              "#ed7953"
             ],
             [
              0.7777777777777778,
              "#fb9f3a"
             ],
             [
              0.8888888888888888,
              "#fdca26"
             ],
             [
              1,
              "#f0f921"
             ]
            ],
            "type": "histogram2d"
           }
          ],
          "histogram2dcontour": [
           {
            "colorbar": {
             "outlinewidth": 0,
             "ticks": ""
            },
            "colorscale": [
             [
              0,
              "#0d0887"
             ],
             [
              0.1111111111111111,
              "#46039f"
             ],
             [
              0.2222222222222222,
              "#7201a8"
             ],
             [
              0.3333333333333333,
              "#9c179e"
             ],
             [
              0.4444444444444444,
              "#bd3786"
             ],
             [
              0.5555555555555556,
              "#d8576b"
             ],
             [
              0.6666666666666666,
              "#ed7953"
             ],
             [
              0.7777777777777778,
              "#fb9f3a"
             ],
             [
              0.8888888888888888,
              "#fdca26"
             ],
             [
              1,
              "#f0f921"
             ]
            ],
            "type": "histogram2dcontour"
           }
          ],
          "mesh3d": [
           {
            "colorbar": {
             "outlinewidth": 0,
             "ticks": ""
            },
            "type": "mesh3d"
           }
          ],
          "parcoords": [
           {
            "line": {
             "colorbar": {
              "outlinewidth": 0,
              "ticks": ""
             }
            },
            "type": "parcoords"
           }
          ],
          "pie": [
           {
            "automargin": true,
            "type": "pie"
           }
          ],
          "scatter": [
           {
            "marker": {
             "colorbar": {
              "outlinewidth": 0,
              "ticks": ""
             }
            },
            "type": "scatter"
           }
          ],
          "scatter3d": [
           {
            "line": {
             "colorbar": {
              "outlinewidth": 0,
              "ticks": ""
             }
            },
            "marker": {
             "colorbar": {
              "outlinewidth": 0,
              "ticks": ""
             }
            },
            "type": "scatter3d"
           }
          ],
          "scattercarpet": [
           {
            "marker": {
             "colorbar": {
              "outlinewidth": 0,
              "ticks": ""
             }
            },
            "type": "scattercarpet"
           }
          ],
          "scattergeo": [
           {
            "marker": {
             "colorbar": {
              "outlinewidth": 0,
              "ticks": ""
             }
            },
            "type": "scattergeo"
           }
          ],
          "scattergl": [
           {
            "marker": {
             "colorbar": {
              "outlinewidth": 0,
              "ticks": ""
             }
            },
            "type": "scattergl"
           }
          ],
          "scattermapbox": [
           {
            "marker": {
             "colorbar": {
              "outlinewidth": 0,
              "ticks": ""
             }
            },
            "type": "scattermapbox"
           }
          ],
          "scatterpolar": [
           {
            "marker": {
             "colorbar": {
              "outlinewidth": 0,
              "ticks": ""
             }
            },
            "type": "scatterpolar"
           }
          ],
          "scatterpolargl": [
           {
            "marker": {
             "colorbar": {
              "outlinewidth": 0,
              "ticks": ""
             }
            },
            "type": "scatterpolargl"
           }
          ],
          "scatterternary": [
           {
            "marker": {
             "colorbar": {
              "outlinewidth": 0,
              "ticks": ""
             }
            },
            "type": "scatterternary"
           }
          ],
          "surface": [
           {
            "colorbar": {
             "outlinewidth": 0,
             "ticks": ""
            },
            "colorscale": [
             [
              0,
              "#0d0887"
             ],
             [
              0.1111111111111111,
              "#46039f"
             ],
             [
              0.2222222222222222,
              "#7201a8"
             ],
             [
              0.3333333333333333,
              "#9c179e"
             ],
             [
              0.4444444444444444,
              "#bd3786"
             ],
             [
              0.5555555555555556,
              "#d8576b"
             ],
             [
              0.6666666666666666,
              "#ed7953"
             ],
             [
              0.7777777777777778,
              "#fb9f3a"
             ],
             [
              0.8888888888888888,
              "#fdca26"
             ],
             [
              1,
              "#f0f921"
             ]
            ],
            "type": "surface"
           }
          ],
          "table": [
           {
            "cells": {
             "fill": {
              "color": "#EBF0F8"
             },
             "line": {
              "color": "white"
             }
            },
            "header": {
             "fill": {
              "color": "#C8D4E3"
             },
             "line": {
              "color": "white"
             }
            },
            "type": "table"
           }
          ]
         },
         "layout": {
          "annotationdefaults": {
           "arrowcolor": "#2a3f5f",
           "arrowhead": 0,
           "arrowwidth": 1
          },
          "coloraxis": {
           "colorbar": {
            "outlinewidth": 0,
            "ticks": ""
           }
          },
          "colorscale": {
           "diverging": [
            [
             0,
             "#8e0152"
            ],
            [
             0.1,
             "#c51b7d"
            ],
            [
             0.2,
             "#de77ae"
            ],
            [
             0.3,
             "#f1b6da"
            ],
            [
             0.4,
             "#fde0ef"
            ],
            [
             0.5,
             "#f7f7f7"
            ],
            [
             0.6,
             "#e6f5d0"
            ],
            [
             0.7,
             "#b8e186"
            ],
            [
             0.8,
             "#7fbc41"
            ],
            [
             0.9,
             "#4d9221"
            ],
            [
             1,
             "#276419"
            ]
           ],
           "sequential": [
            [
             0,
             "#0d0887"
            ],
            [
             0.1111111111111111,
             "#46039f"
            ],
            [
             0.2222222222222222,
             "#7201a8"
            ],
            [
             0.3333333333333333,
             "#9c179e"
            ],
            [
             0.4444444444444444,
             "#bd3786"
            ],
            [
             0.5555555555555556,
             "#d8576b"
            ],
            [
             0.6666666666666666,
             "#ed7953"
            ],
            [
             0.7777777777777778,
             "#fb9f3a"
            ],
            [
             0.8888888888888888,
             "#fdca26"
            ],
            [
             1,
             "#f0f921"
            ]
           ],
           "sequentialminus": [
            [
             0,
             "#0d0887"
            ],
            [
             0.1111111111111111,
             "#46039f"
            ],
            [
             0.2222222222222222,
             "#7201a8"
            ],
            [
             0.3333333333333333,
             "#9c179e"
            ],
            [
             0.4444444444444444,
             "#bd3786"
            ],
            [
             0.5555555555555556,
             "#d8576b"
            ],
            [
             0.6666666666666666,
             "#ed7953"
            ],
            [
             0.7777777777777778,
             "#fb9f3a"
            ],
            [
             0.8888888888888888,
             "#fdca26"
            ],
            [
             1,
             "#f0f921"
            ]
           ]
          },
          "colorway": [
           "#636efa",
           "#EF553B",
           "#00cc96",
           "#ab63fa",
           "#FFA15A",
           "#19d3f3",
           "#FF6692",
           "#B6E880",
           "#FF97FF",
           "#FECB52"
          ],
          "font": {
           "color": "#2a3f5f"
          },
          "geo": {
           "bgcolor": "white",
           "lakecolor": "white",
           "landcolor": "#E5ECF6",
           "showlakes": true,
           "showland": true,
           "subunitcolor": "white"
          },
          "hoverlabel": {
           "align": "left"
          },
          "hovermode": "closest",
          "mapbox": {
           "style": "light"
          },
          "paper_bgcolor": "white",
          "plot_bgcolor": "#E5ECF6",
          "polar": {
           "angularaxis": {
            "gridcolor": "white",
            "linecolor": "white",
            "ticks": ""
           },
           "bgcolor": "#E5ECF6",
           "radialaxis": {
            "gridcolor": "white",
            "linecolor": "white",
            "ticks": ""
           }
          },
          "scene": {
           "xaxis": {
            "backgroundcolor": "#E5ECF6",
            "gridcolor": "white",
            "gridwidth": 2,
            "linecolor": "white",
            "showbackground": true,
            "ticks": "",
            "zerolinecolor": "white"
           },
           "yaxis": {
            "backgroundcolor": "#E5ECF6",
            "gridcolor": "white",
            "gridwidth": 2,
            "linecolor": "white",
            "showbackground": true,
            "ticks": "",
            "zerolinecolor": "white"
           },
           "zaxis": {
            "backgroundcolor": "#E5ECF6",
            "gridcolor": "white",
            "gridwidth": 2,
            "linecolor": "white",
            "showbackground": true,
            "ticks": "",
            "zerolinecolor": "white"
           }
          },
          "shapedefaults": {
           "line": {
            "color": "#2a3f5f"
           }
          },
          "ternary": {
           "aaxis": {
            "gridcolor": "white",
            "linecolor": "white",
            "ticks": ""
           },
           "baxis": {
            "gridcolor": "white",
            "linecolor": "white",
            "ticks": ""
           },
           "bgcolor": "#E5ECF6",
           "caxis": {
            "gridcolor": "white",
            "linecolor": "white",
            "ticks": ""
           }
          },
          "title": {
           "x": 0.05
          },
          "xaxis": {
           "automargin": true,
           "gridcolor": "white",
           "linecolor": "white",
           "ticks": "",
           "title": {
            "standoff": 15
           },
           "zerolinecolor": "white",
           "zerolinewidth": 2
          },
          "yaxis": {
           "automargin": true,
           "gridcolor": "white",
           "linecolor": "white",
           "ticks": "",
           "title": {
            "standoff": 15
           },
           "zerolinecolor": "white",
           "zerolinewidth": 2
          }
         }
        }
       }
      },
      "image/png": "[encoded data removed]",
      "text/html": [
       "<div>\n",
       "        \n",
       "        \n",
       "            <div id=\"d3005135-3ad9-47ef-bb6b-be36c373926f\" class=\"plotly-graph-div\" style=\"height:525px; width:100%;\"></div>\n",
       "            <script type=\"text/javascript\">\n",
       "                require([\"plotly\"], function(Plotly) {\n",
       "                    window.PLOTLYENV=window.PLOTLYENV || {};\n",
       "                    \n",
       "                if (document.getElementById(\"d3005135-3ad9-47ef-bb6b-be36c373926f\")) {\n",
       "                    Plotly.newPlot(\n",
       "                        'd3005135-3ad9-47ef-bb6b-be36c373926f',\n",
       "                        [{\"delta\": {\"reference\": 100}, \"domain\": {\"x\": [0.0, 0.27], \"y\": [0.0, 1.0]}, \"gauge\": {\"axis\": {\"range\": [null, 500], \"tickcolor\": \"darkblue\", \"tickwidth\": 1}, \"bar\": {\"color\": \"darkblue\"}, \"bgcolor\": \"white\", \"bordercolor\": \"gray\", \"borderwidth\": 2, \"steps\": [{\"color\": \"lightgray\", \"range\": [0, 250]}, {\"color\": \"gray\", \"range\": [250, 400]}], \"threshold\": {\"line\": {\"color\": \"red\", \"width\": 4}, \"thickness\": 0.75, \"value\": 490}}, \"mode\": \"number+gauge+delta\", \"title\": {\"text\": \"Avg order size\"}, \"type\": \"indicator\", \"value\": 220}, {\"delta\": {\"reference\": 300}, \"domain\": {\"x\": [0.37, 1.0], \"y\": [0.575, 1.0]}, \"gauge\": {\"axis\": {\"range\": [null, 500]}, \"bar\": {\"color\": \"darkblue\"}, \"bgcolor\": \"white\", \"bordercolor\": \"gray\", \"borderwidth\": 1, \"steps\": [{\"color\": \"lightgray\", \"range\": [0, 250]}, {\"color\": \"gray\", \"range\": [250, 400]}], \"threshold\": {\"line\": {\"color\": \"red\", \"width\": 4}, \"thickness\": 0.75, \"value\": 490}}, \"mode\": \"number+gauge+delta\", \"title\": {\"text\": \"Avg order size\"}, \"type\": \"indicator\", \"value\": 220}, {\"delta\": {\"reference\": 300}, \"domain\": {\"x\": [0.37, 1.0], \"y\": [0.0, 0.425]}, \"mode\": \"number+gauge+delta\", \"title\": {\"text\": \"Avg order size\"}, \"type\": \"indicator\", \"value\": 220}],\n",
       "                        {\"font\": {\"color\": \"darkblue\", \"family\": \"Arial\"}, \"paper_bgcolor\": \"lavender\", \"template\": {\"data\": {\"bar\": [{\"error_x\": {\"color\": \"#2a3f5f\"}, \"error_y\": {\"color\": \"#2a3f5f\"}, \"marker\": {\"line\": {\"color\": \"#E5ECF6\", \"width\": 0.5}}, \"type\": \"bar\"}], \"barpolar\": [{\"marker\": {\"line\": {\"color\": \"#E5ECF6\", \"width\": 0.5}}, \"type\": \"barpolar\"}], \"carpet\": [{\"aaxis\": {\"endlinecolor\": \"#2a3f5f\", \"gridcolor\": \"white\", \"linecolor\": \"white\", \"minorgridcolor\": \"white\", \"startlinecolor\": \"#2a3f5f\"}, \"baxis\": {\"endlinecolor\": \"#2a3f5f\", \"gridcolor\": \"white\", \"linecolor\": \"white\", \"minorgridcolor\": \"white\", \"startlinecolor\": \"#2a3f5f\"}, \"type\": \"carpet\"}], \"choropleth\": [{\"colorbar\": {\"outlinewidth\": 0, \"ticks\": \"\"}, \"type\": \"choropleth\"}], \"contour\": [{\"colorbar\": {\"outlinewidth\": 0, \"ticks\": \"\"}, \"colorscale\": [[0.0, \"#0d0887\"], [0.1111111111111111, \"#46039f\"], [0.2222222222222222, \"#7201a8\"], [0.3333333333333333, \"#9c179e\"], [0.4444444444444444, \"#bd3786\"], [0.5555555555555556, \"#d8576b\"], [0.6666666666666666, \"#ed7953\"], [0.7777777777777778, \"#fb9f3a\"], [0.8888888888888888, \"#fdca26\"], [1.0, \"#f0f921\"]], \"type\": \"contour\"}], \"contourcarpet\": [{\"colorbar\": {\"outlinewidth\": 0, \"ticks\": \"\"}, \"type\": \"contourcarpet\"}], \"heatmap\": [{\"colorbar\": {\"outlinewidth\": 0, \"ticks\": \"\"}, \"colorscale\": [[0.0, \"#0d0887\"], [0.1111111111111111, \"#46039f\"], [0.2222222222222222, \"#7201a8\"], [0.3333333333333333, \"#9c179e\"], [0.4444444444444444, \"#bd3786\"], [0.5555555555555556, \"#d8576b\"], [0.6666666666666666, \"#ed7953\"], [0.7777777777777778, \"#fb9f3a\"], [0.8888888888888888, \"#fdca26\"], [1.0, \"#f0f921\"]], \"type\": \"heatmap\"}], \"heatmapgl\": [{\"colorbar\": {\"outlinewidth\": 0, \"ticks\": \"\"}, \"colorscale\": [[0.0, \"#0d0887\"], [0.1111111111111111, \"#46039f\"], [0.2222222222222222, \"#7201a8\"], [0.3333333333333333, \"#9c179e\"], [0.4444444444444444, \"#bd3786\"], [0.5555555555555556, \"#d8576b\"], [0.6666666666666666, \"#ed7953\"], [0.7777777777777778, \"#fb9f3a\"], [0.8888888888888888, \"#fdca26\"], [1.0, \"#f0f921\"]], \"type\": \"heatmapgl\"}], \"histogram\": [{\"marker\": {\"colorbar\": {\"outlinewidth\": 0, \"ticks\": \"\"}}, \"type\": \"histogram\"}], \"histogram2d\": [{\"colorbar\": {\"outlinewidth\": 0, \"ticks\": \"\"}, \"colorscale\": [[0.0, \"#0d0887\"], [0.1111111111111111, \"#46039f\"], [0.2222222222222222, \"#7201a8\"], [0.3333333333333333, \"#9c179e\"], [0.4444444444444444, \"#bd3786\"], [0.5555555555555556, \"#d8576b\"], [0.6666666666666666, \"#ed7953\"], [0.7777777777777778, \"#fb9f3a\"], [0.8888888888888888, \"#fdca26\"], [1.0, \"#f0f921\"]], \"type\": \"histogram2d\"}], \"histogram2dcontour\": [{\"colorbar\": {\"outlinewidth\": 0, \"ticks\": \"\"}, \"colorscale\": [[0.0, \"#0d0887\"], [0.1111111111111111, \"#46039f\"], [0.2222222222222222, \"#7201a8\"], [0.3333333333333333, \"#9c179e\"], [0.4444444444444444, \"#bd3786\"], [0.5555555555555556, \"#d8576b\"], [0.6666666666666666, \"#ed7953\"], [0.7777777777777778, \"#fb9f3a\"], [0.8888888888888888, \"#fdca26\"], [1.0, \"#f0f921\"]], \"type\": \"histogram2dcontour\"}], \"mesh3d\": [{\"colorbar\": {\"outlinewidth\": 0, \"ticks\": \"\"}, \"type\": \"mesh3d\"}], \"parcoords\": [{\"line\": {\"colorbar\": {\"outlinewidth\": 0, \"ticks\": \"\"}}, \"type\": \"parcoords\"}], \"pie\": [{\"automargin\": true, \"type\": \"pie\"}], \"scatter\": [{\"marker\": {\"colorbar\": {\"outlinewidth\": 0, \"ticks\": \"\"}}, \"type\": \"scatter\"}], \"scatter3d\": [{\"line\": {\"colorbar\": {\"outlinewidth\": 0, \"ticks\": \"\"}}, \"marker\": {\"colorbar\": {\"outlinewidth\": 0, \"ticks\": \"\"}}, \"type\": \"scatter3d\"}], \"scattercarpet\": [{\"marker\": {\"colorbar\": {\"outlinewidth\": 0, \"ticks\": \"\"}}, \"type\": \"scattercarpet\"}], \"scattergeo\": [{\"marker\": {\"colorbar\": {\"outlinewidth\": 0, \"ticks\": \"\"}}, \"type\": \"scattergeo\"}], \"scattergl\": [{\"marker\": {\"colorbar\": {\"outlinewidth\": 0, \"ticks\": \"\"}}, \"type\": \"scattergl\"}], \"scattermapbox\": [{\"marker\": {\"colorbar\": {\"outlinewidth\": 0, \"ticks\": \"\"}}, \"type\": \"scattermapbox\"}], \"scatterpolar\": [{\"marker\": {\"colorbar\": {\"outlinewidth\": 0, \"ticks\": \"\"}}, \"type\": \"scatterpolar\"}], \"scatterpolargl\": [{\"marker\": {\"colorbar\": {\"outlinewidth\": 0, \"ticks\": \"\"}}, \"type\": \"scatterpolargl\"}], \"scatterternary\": [{\"marker\": {\"colorbar\": {\"outlinewidth\": 0, \"ticks\": \"\"}}, \"type\": \"scatterternary\"}], \"surface\": [{\"colorbar\": {\"outlinewidth\": 0, \"ticks\": \"\"}, \"colorscale\": [[0.0, \"#0d0887\"], [0.1111111111111111, \"#46039f\"], [0.2222222222222222, \"#7201a8\"], [0.3333333333333333, \"#9c179e\"], [0.4444444444444444, \"#bd3786\"], [0.5555555555555556, \"#d8576b\"], [0.6666666666666666, \"#ed7953\"], [0.7777777777777778, \"#fb9f3a\"], [0.8888888888888888, \"#fdca26\"], [1.0, \"#f0f921\"]], \"type\": \"surface\"}], \"table\": [{\"cells\": {\"fill\": {\"color\": \"#EBF0F8\"}, \"line\": {\"color\": \"white\"}}, \"header\": {\"fill\": {\"color\": \"#C8D4E3\"}, \"line\": {\"color\": \"white\"}}, \"type\": \"table\"}]}, \"layout\": {\"annotationdefaults\": {\"arrowcolor\": \"#2a3f5f\", \"arrowhead\": 0, \"arrowwidth\": 1}, \"coloraxis\": {\"colorbar\": {\"outlinewidth\": 0, \"ticks\": \"\"}}, \"colorscale\": {\"diverging\": [[0, \"#8e0152\"], [0.1, \"#c51b7d\"], [0.2, \"#de77ae\"], [0.3, \"#f1b6da\"], [0.4, \"#fde0ef\"], [0.5, \"#f7f7f7\"], [0.6, \"#e6f5d0\"], [0.7, \"#b8e186\"], [0.8, \"#7fbc41\"], [0.9, \"#4d9221\"], [1, \"#276419\"]], \"sequential\": [[0.0, \"#0d0887\"], [0.1111111111111111, \"#46039f\"], [0.2222222222222222, \"#7201a8\"], [0.3333333333333333, \"#9c179e\"], [0.4444444444444444, \"#bd3786\"], [0.5555555555555556, \"#d8576b\"], [0.6666666666666666, \"#ed7953\"], [0.7777777777777778, \"#fb9f3a\"], [0.8888888888888888, \"#fdca26\"], [1.0, \"#f0f921\"]], \"sequentialminus\": [[0.0, \"#0d0887\"], [0.1111111111111111, \"#46039f\"], [0.2222222222222222, \"#7201a8\"], [0.3333333333333333, \"#9c179e\"], [0.4444444444444444, \"#bd3786\"], [0.5555555555555556, \"#d8576b\"], [0.6666666666666666, \"#ed7953\"], [0.7777777777777778, \"#fb9f3a\"], [0.8888888888888888, \"#fdca26\"], [1.0, \"#f0f921\"]]}, \"colorway\": [\"#636efa\", \"#EF553B\", \"#00cc96\", \"#ab63fa\", \"#FFA15A\", \"#19d3f3\", \"#FF6692\", \"#B6E880\", \"#FF97FF\", \"#FECB52\"], \"font\": {\"color\": \"#2a3f5f\"}, \"geo\": {\"bgcolor\": \"white\", \"lakecolor\": \"white\", \"landcolor\": \"#E5ECF6\", \"showlakes\": true, \"showland\": true, \"subunitcolor\": \"white\"}, \"hoverlabel\": {\"align\": \"left\"}, \"hovermode\": \"closest\", \"mapbox\": {\"style\": \"light\"}, \"paper_bgcolor\": \"white\", \"plot_bgcolor\": \"#E5ECF6\", \"polar\": {\"angularaxis\": {\"gridcolor\": \"white\", \"linecolor\": \"white\", \"ticks\": \"\"}, \"bgcolor\": \"#E5ECF6\", \"radialaxis\": {\"gridcolor\": \"white\", \"linecolor\": \"white\", \"ticks\": \"\"}}, \"scene\": {\"xaxis\": {\"backgroundcolor\": \"#E5ECF6\", \"gridcolor\": \"white\", \"gridwidth\": 2, \"linecolor\": \"white\", \"showbackground\": true, \"ticks\": \"\", \"zerolinecolor\": \"white\"}, \"yaxis\": {\"backgroundcolor\": \"#E5ECF6\", \"gridcolor\": \"white\", \"gridwidth\": 2, \"linecolor\": \"white\", \"showbackground\": true, \"ticks\": \"\", \"zerolinecolor\": \"white\"}, \"zaxis\": {\"backgroundcolor\": \"#E5ECF6\", \"gridcolor\": \"white\", \"gridwidth\": 2, \"linecolor\": \"white\", \"showbackground\": true, \"ticks\": \"\", \"zerolinecolor\": \"white\"}}, \"shapedefaults\": {\"line\": {\"color\": \"#2a3f5f\"}}, \"ternary\": {\"aaxis\": {\"gridcolor\": \"white\", \"linecolor\": \"white\", \"ticks\": \"\"}, \"baxis\": {\"gridcolor\": \"white\", \"linecolor\": \"white\", \"ticks\": \"\"}, \"bgcolor\": \"#E5ECF6\", \"caxis\": {\"gridcolor\": \"white\", \"linecolor\": \"white\", \"ticks\": \"\"}}, \"title\": {\"x\": 0.05}, \"xaxis\": {\"automargin\": true, \"gridcolor\": \"white\", \"linecolor\": \"white\", \"ticks\": \"\", \"title\": {\"standoff\": 15}, \"zerolinecolor\": \"white\", \"zerolinewidth\": 2}, \"yaxis\": {\"automargin\": true, \"gridcolor\": \"white\", \"linecolor\": \"white\", \"ticks\": \"\", \"title\": {\"standoff\": 15}, \"zerolinecolor\": \"white\", \"zerolinewidth\": 2}}}},\n",
       "                        {\"responsive\": true}\n",
       "                    ).then(function(){\n",
       "                            \n",
       "var gd = document.getElementById('d3005135-3ad9-47ef-bb6b-be36c373926f');\n",
       "var x = new MutationObserver(function (mutations, observer) {{\n",
       "        var display = window.getComputedStyle(gd).display;\n",
       "        if (!display || display === 'none') {{\n",
       "            console.log([gd, 'removed!']);\n",
       "            Plotly.purge(gd);\n",
       "            observer.disconnect();\n",
       "        }}\n",
       "}});\n",
       "\n",
       "// Listen for the removal of the full notebook cells\n",
       "var notebookContainer = gd.closest('#notebook-container');\n",
       "if (notebookContainer) {{\n",
       "    x.observe(notebookContainer, {childList: true});\n",
       "}}\n",
       "\n",
       "// Listen for the clearing of the current output cell\n",
       "var outputEl = gd.closest('.output');\n",
       "if (outputEl) {{\n",
       "    x.observe(outputEl, {childList: true});\n",
       "}}\n",
       "\n",
       "                        })\n",
       "                };\n",
       "                });\n",
       "            </script>\n",
       "        </div>"
      ]
     },
     "metadata": {},
     "output_type": "display_data"
    }
   ],
   "source": [
    "import plotly.graph_objects as go\n",
    "from plotly.subplots import make_subplots\n",
    "fig = make_subplots(rows=2, cols=2, \n",
    "                    column_widths=[0.3, 0.7],\n",
    "                    row_heights=[0.5, 0.5],\n",
    "                    specs=[[{\"type\": 'indicator', \"rowspan\": 2}, {\"type\": 'indicator'}],\n",
    "                                          [None, {\"type\": 'indicator'}]])\n",
    "fig.print_grid()\n",
    "fig.add_trace(go.Indicator(\n",
    "    mode = \"number+gauge+delta\",\n",
    "    gauge = {'axis': {'range': [None, 500], 'tickwidth': 1, 'tickcolor': \"darkblue\"},\n",
    "             'bar': {'color': \"darkblue\"},\n",
    "        'bgcolor': \"white\",\n",
    "        'borderwidth': 2,\n",
    "        'bordercolor': \"gray\",\n",
    "             'steps' : [\n",
    "                 {'range': [0, 250], 'color': \"lightgray\"},\n",
    "                 {'range': [250, 400], 'color': \"gray\"}],\n",
    "                  'threshold' : {'line': {'color': \"red\", 'width': 4}, 'thickness': 0.75, 'value': 490}},\n",
    "    delta = {'reference': 100},\n",
    "    value = 220,\n",
    "    domain = {'x': [0, 1], 'y': [0.2, 0.9]},\n",
    "    title = {'text': \"Avg order size\"}),\n",
    "              row=1, col=1\n",
    "             )\n",
    "\n",
    "\n",
    "fig.add_trace(go.Indicator(\n",
    "    mode = \"number+gauge+delta\",\n",
    "    gauge = {'axis': {'range': [None, 500],},\n",
    "             'bar': {'color': \"darkblue\"},\n",
    "             'bgcolor': \"white\",\n",
    "             'borderwidth': 1,\n",
    "             'bordercolor': \"gray\",\n",
    "             'steps' : [\n",
    "                 {'range': [0, 250], 'color': \"lightgray\"},\n",
    "                 {'range': [250, 400], 'color': \"gray\"}],\n",
    "                  'threshold' : {'line': {'color': \"red\", 'width': 4}, 'thickness': 0.75, 'value': 490}},\n",
    "    delta = {'reference': 300},\n",
    "    value = 220,\n",
    "    domain = {'x': [0, 1], 'y': [0.2, 0.9]},\n",
    "    title = {'text': \"Avg order size\"}),\n",
    "              row=1, col=2\n",
    "             )\n",
    "\n",
    "fig.add_trace(go.Indicator(\n",
    "    mode = \"number+gauge+delta\",\n",
    "#     gauge = {'shape': \"bullet\"},\n",
    "    delta = {'reference': 300},\n",
    "    value = 220,\n",
    "    domain = {'x': [0, 1], 'y': [0.2, 0.9]},\n",
    "    title = {'text': \"Avg order size\"}),\n",
    "              row=2, col=2\n",
    "             )\n",
    "fig.update_layout(paper_bgcolor = \"lavender\", font = {'color': \"darkblue\", 'family': \"Arial\"})\n",
    "\n",
    "fig.show()\n"
   ]
  },
  {
   "cell_type": "code",
   "execution_count": 344,
   "metadata": {},
   "outputs": [
    {
     "data": {
      "text/html": [
       "<div>\n",
       "<style scoped>\n",
       "    .dataframe tbody tr th:only-of-type {\n",
       "        vertical-align: middle;\n",
       "    }\n",
       "\n",
       "    .dataframe tbody tr th {\n",
       "        vertical-align: top;\n",
       "    }\n",
       "\n",
       "    .dataframe thead th {\n",
       "        text-align: right;\n",
       "    }\n",
       "</style>\n",
       "<table border=\"1\" class=\"dataframe\">\n",
       "  <thead>\n",
       "    <tr style=\"text-align: right;\">\n",
       "      <th></th>\n",
       "      <th>max</th>\n",
       "    </tr>\n",
       "    <tr>\n",
       "      <th>region_wb</th>\n",
       "      <th></th>\n",
       "    </tr>\n",
       "  </thead>\n",
       "  <tbody>\n",
       "    <tr>\n",
       "      <th>East Asia &amp; Pacific</th>\n",
       "      <td>15133.0</td>\n",
       "    </tr>\n",
       "    <tr>\n",
       "      <th>Europe &amp; Central Asia</th>\n",
       "      <td>11656.0</td>\n",
       "    </tr>\n",
       "    <tr>\n",
       "      <th>European Union</th>\n",
       "      <td>26843.0</td>\n",
       "    </tr>\n",
       "    <tr>\n",
       "      <th>Latin America &amp; Caribbean</th>\n",
       "      <td>20803.0</td>\n",
       "    </tr>\n",
       "    <tr>\n",
       "      <th>Middle East &amp; North Africa</th>\n",
       "      <td>3186.0</td>\n",
       "    </tr>\n",
       "    <tr>\n",
       "      <th>North America</th>\n",
       "      <td>36188.0</td>\n",
       "    </tr>\n",
       "    <tr>\n",
       "      <th>South Asia</th>\n",
       "      <td>7113.0</td>\n",
       "    </tr>\n",
       "    <tr>\n",
       "      <th>Sub-Saharan Africa</th>\n",
       "      <td>1240.0</td>\n",
       "    </tr>\n",
       "  </tbody>\n",
       "</table>\n",
       "</div>"
      ],
      "text/plain": [
       "                                max\n",
       "region_wb                          \n",
       "East Asia & Pacific         15133.0\n",
       "Europe & Central Asia       11656.0\n",
       "European Union              26843.0\n",
       "Latin America & Caribbean   20803.0\n",
       "Middle East & North Africa   3186.0\n",
       "North America               36188.0\n",
       "South Asia                   7113.0\n",
       "Sub-Saharan Africa           1240.0"
      ]
     },
     "execution_count": 344,
     "metadata": {},
     "output_type": "execute_result"
    }
   ],
   "source": [
    "column = 'confirmed_change'\n",
    "reg_df_max = df_jh_world.reset_index(drop=True).groupby(['date', 'region_wb']).agg(['max'])[column].groupby('region_wb').max()\n",
    "reg_df_max"
   ]
  },
  {
   "cell_type": "code",
   "execution_count": 359,
   "metadata": {},
   "outputs": [
    {
     "data": {
      "text/plain": [
       "26843.0"
      ]
     },
     "execution_count": 359,
     "metadata": {},
     "output_type": "execute_result"
    }
   ],
   "source": [
    "reg_df_max.reset_index().loc[reg_df_max.index == 'European Union', 'max'].values[0]"
   ]
  },
  {
   "cell_type": "code",
   "execution_count": 542,
   "metadata": {},
   "outputs": [
    {
     "data": {
      "text/html": [
       "<div>\n",
       "<style scoped>\n",
       "    .dataframe tbody tr th:only-of-type {\n",
       "        vertical-align: middle;\n",
       "    }\n",
       "\n",
       "    .dataframe tbody tr th {\n",
       "        vertical-align: top;\n",
       "    }\n",
       "\n",
       "    .dataframe thead th {\n",
       "        text-align: right;\n",
       "    }\n",
       "</style>\n",
       "<table border=\"1\" class=\"dataframe\">\n",
       "  <thead>\n",
       "    <tr style=\"text-align: right;\">\n",
       "      <th></th>\n",
       "      <th>sum</th>\n",
       "    </tr>\n",
       "    <tr>\n",
       "      <th>region_wb</th>\n",
       "      <th></th>\n",
       "    </tr>\n",
       "  </thead>\n",
       "  <tbody>\n",
       "    <tr>\n",
       "      <th>Latin America &amp; Caribbean</th>\n",
       "      <td>30885.0</td>\n",
       "    </tr>\n",
       "    <tr>\n",
       "      <th>North America</th>\n",
       "      <td>21589.0</td>\n",
       "    </tr>\n",
       "    <tr>\n",
       "      <th>Europe &amp; Central Asia</th>\n",
       "      <td>12802.0</td>\n",
       "    </tr>\n",
       "    <tr>\n",
       "      <th>South Asia</th>\n",
       "      <td>11522.0</td>\n",
       "    </tr>\n",
       "    <tr>\n",
       "      <th>Middle East &amp; North Africa</th>\n",
       "      <td>9772.0</td>\n",
       "    </tr>\n",
       "    <tr>\n",
       "      <th>European Union</th>\n",
       "      <td>6030.0</td>\n",
       "    </tr>\n",
       "    <tr>\n",
       "      <th>Sub-Saharan Africa</th>\n",
       "      <td>3087.0</td>\n",
       "    </tr>\n",
       "    <tr>\n",
       "      <th>East Asia &amp; Pacific</th>\n",
       "      <td>1433.0</td>\n",
       "    </tr>\n",
       "  </tbody>\n",
       "</table>\n",
       "</div>"
      ],
      "text/plain": [
       "                                sum\n",
       "region_wb                          \n",
       "Latin America & Caribbean   30885.0\n",
       "North America               21589.0\n",
       "Europe & Central Asia       12802.0\n",
       "South Asia                  11522.0\n",
       "Middle East & North Africa   9772.0\n",
       "European Union               6030.0\n",
       "Sub-Saharan Africa           3087.0\n",
       "East Asia & Pacific          1433.0"
      ]
     },
     "execution_count": 542,
     "metadata": {},
     "output_type": "execute_result"
    }
   ],
   "source": [
    "dd = df_jh_world.loc[df_jh_world.index == df_jh_world.index.max(), :].groupby('region_wb').agg(['sum'])['confirmed_change'].sort_values(by='sum',ascending=False).round(0)\n",
    "dd"
   ]
  },
  {
   "cell_type": "code",
   "execution_count": 543,
   "metadata": {},
   "outputs": [
    {
     "data": {
      "text/plain": [
       "1.199718275111516"
      ]
     },
     "execution_count": 543,
     "metadata": {},
     "output_type": "execute_result"
    }
   ],
   "source": [
    "6030.0 / 5026.18"
   ]
  },
  {
   "cell_type": "code",
   "execution_count": 640,
   "metadata": {},
   "outputs": [
    {
     "data": {
      "text/html": [
       "<div>\n",
       "<style scoped>\n",
       "    .dataframe tbody tr th:only-of-type {\n",
       "        vertical-align: middle;\n",
       "    }\n",
       "\n",
       "    .dataframe tbody tr th {\n",
       "        vertical-align: top;\n",
       "    }\n",
       "\n",
       "    .dataframe thead th {\n",
       "        text-align: right;\n",
       "    }\n",
       "</style>\n",
       "<table border=\"1\" class=\"dataframe\">\n",
       "  <thead>\n",
       "    <tr style=\"text-align: right;\">\n",
       "      <th></th>\n",
       "      <th>max</th>\n",
       "    </tr>\n",
       "    <tr>\n",
       "      <th>region_wb</th>\n",
       "      <th></th>\n",
       "    </tr>\n",
       "  </thead>\n",
       "  <tbody>\n",
       "    <tr>\n",
       "      <th>East Asia &amp; Pacific</th>\n",
       "      <td>22766.00</td>\n",
       "    </tr>\n",
       "    <tr>\n",
       "      <th>Europe &amp; Central Asia</th>\n",
       "      <td>4095.98</td>\n",
       "    </tr>\n",
       "    <tr>\n",
       "      <th>European Union</th>\n",
       "      <td>5026.18</td>\n",
       "    </tr>\n",
       "    <tr>\n",
       "      <th>Latin America &amp; Caribbean</th>\n",
       "      <td>6375.80</td>\n",
       "    </tr>\n",
       "    <tr>\n",
       "      <th>Middle East &amp; North Africa</th>\n",
       "      <td>4484.29</td>\n",
       "    </tr>\n",
       "    <tr>\n",
       "      <th>North America</th>\n",
       "      <td>3637.46</td>\n",
       "    </tr>\n",
       "    <tr>\n",
       "      <th>South Asia</th>\n",
       "      <td>18143.88</td>\n",
       "    </tr>\n",
       "    <tr>\n",
       "      <th>Sub-Saharan Africa</th>\n",
       "      <td>10748.51</td>\n",
       "    </tr>\n",
       "  </tbody>\n",
       "</table>\n",
       "</div>"
      ],
      "text/plain": [
       "                                 max\n",
       "region_wb                           \n",
       "East Asia & Pacific         22766.00\n",
       "Europe & Central Asia        4095.98\n",
       "European Union               5026.18\n",
       "Latin America & Caribbean    6375.80\n",
       "Middle East & North Africa   4484.29\n",
       "North America                3637.46\n",
       "South Asia                  18143.88\n",
       "Sub-Saharan Africa          10748.51"
      ]
     },
     "execution_count": 640,
     "metadata": {},
     "output_type": "execute_result"
    }
   ],
   "source": [
    "df_jh_world.loc[df_jh_world.index == df_jh_world.index.max(), :].groupby(by=['land', 'region_wb']).agg(['max'])['population_100k'].groupby('region_wb').agg('sum') #.sort_values(by='sum',ascending=False).round(0)\n"
   ]
  },
  {
   "cell_type": "code",
   "execution_count": 644,
   "metadata": {},
   "outputs": [],
   "source": [
    "df = df_jh_world\n",
    "df.index = df.date\n",
    "column = 'confirmed_change_per_100k'\n",
    "column_original = column.replace('_per_100k', '')\n",
    "reg_df_sum_population = df.groupby('region_wb').agg(['sum'])['population_100k']\n",
    "reg_df_sum_population.columns = ['population']\n",
    "\n",
    "\n",
    "reg_df_sum_total = df.groupby('region_wb').agg(['sum'])[column_original].sort_values(by='sum', ascending=False)\n",
    "\n",
    "reg_df_max = df.reset_index(drop=True).groupby(['date', 'region_wb']).agg(['sum'])[column_original].groupby('region_wb').max()\n",
    "# reg_df_max.columns = [column_original + '_max']\n",
    "current_reg_df_sum = df.loc[df.index == df.index.max(), :].groupby('region_wb').agg(['sum'])[column_original]\n",
    "# current_reg_df_sum.columns = [column_original + '_current_sum']\n",
    "yd_reg_df_sum = df.loc[df.index == df.index.max() - timedelta(days=1), :].groupby('region_wb').agg(['sum'])[column_original]\n",
    "# yd_reg_df_sum.columns = [column_original + '_yd_sum']\n",
    "\n"
   ]
  },
  {
   "cell_type": "code",
   "execution_count": 662,
   "metadata": {},
   "outputs": [
    {
     "data": {
      "text/html": [
       "<div>\n",
       "<style scoped>\n",
       "    .dataframe tbody tr th:only-of-type {\n",
       "        vertical-align: middle;\n",
       "    }\n",
       "\n",
       "    .dataframe tbody tr th {\n",
       "        vertical-align: top;\n",
       "    }\n",
       "\n",
       "    .dataframe thead th {\n",
       "        text-align: right;\n",
       "    }\n",
       "</style>\n",
       "<table border=\"1\" class=\"dataframe\">\n",
       "  <thead>\n",
       "    <tr style=\"text-align: right;\">\n",
       "      <th></th>\n",
       "      <th>sum</th>\n",
       "    </tr>\n",
       "    <tr>\n",
       "      <th>region_wb</th>\n",
       "      <th></th>\n",
       "    </tr>\n",
       "  </thead>\n",
       "  <tbody>\n",
       "    <tr>\n",
       "      <th>East Asia &amp; Pacific</th>\n",
       "      <td>15146.0</td>\n",
       "    </tr>\n",
       "    <tr>\n",
       "      <th>Europe &amp; Central Asia</th>\n",
       "      <td>15591.0</td>\n",
       "    </tr>\n",
       "    <tr>\n",
       "      <th>European Union</th>\n",
       "      <td>48780.0</td>\n",
       "    </tr>\n",
       "    <tr>\n",
       "      <th>Latin America &amp; Caribbean</th>\n",
       "      <td>34645.0</td>\n",
       "    </tr>\n",
       "    <tr>\n",
       "      <th>Middle East &amp; North Africa</th>\n",
       "      <td>10901.0</td>\n",
       "    </tr>\n",
       "    <tr>\n",
       "      <th>North America</th>\n",
       "      <td>37808.0</td>\n",
       "    </tr>\n",
       "    <tr>\n",
       "      <th>South Asia</th>\n",
       "      <td>11535.0</td>\n",
       "    </tr>\n",
       "    <tr>\n",
       "      <th>Sub-Saharan Africa</th>\n",
       "      <td>3432.0</td>\n",
       "    </tr>\n",
       "  </tbody>\n",
       "</table>\n",
       "</div>"
      ],
      "text/plain": [
       "                                sum\n",
       "region_wb                          \n",
       "East Asia & Pacific         15146.0\n",
       "Europe & Central Asia       15591.0\n",
       "European Union              48780.0\n",
       "Latin America & Caribbean   34645.0\n",
       "Middle East & North Africa  10901.0\n",
       "North America               37808.0\n",
       "South Asia                  11535.0\n",
       "Sub-Saharan Africa           3432.0"
      ]
     },
     "execution_count": 662,
     "metadata": {},
     "output_type": "execute_result"
    }
   ],
   "source": [
    "# t = df.reset_index(drop=True).groupby(['date', 'region_wb']).agg(['max']).reset_index(drop=False)\n",
    "# t.loc[t.date == '2020-05-24']\n",
    "df.reset_index(drop=True).groupby(['date', 'region_wb']).agg(['sum'])[column_original].groupby('region_wb').max()"
   ]
  },
  {
   "cell_type": "code",
   "execution_count": 654,
   "metadata": {},
   "outputs": [
    {
     "data": {
      "text/html": [
       "<div>\n",
       "<style scoped>\n",
       "    .dataframe tbody tr th:only-of-type {\n",
       "        vertical-align: middle;\n",
       "    }\n",
       "\n",
       "    .dataframe tbody tr th {\n",
       "        vertical-align: top;\n",
       "    }\n",
       "\n",
       "    .dataframe thead th {\n",
       "        text-align: right;\n",
       "    }\n",
       "</style>\n",
       "<table border=\"1\" class=\"dataframe\">\n",
       "  <thead>\n",
       "    <tr style=\"text-align: right;\">\n",
       "      <th></th>\n",
       "      <th></th>\n",
       "      <th>sum</th>\n",
       "    </tr>\n",
       "    <tr>\n",
       "      <th>region_wb</th>\n",
       "      <th>land</th>\n",
       "      <th></th>\n",
       "    </tr>\n",
       "  </thead>\n",
       "  <tbody>\n",
       "    <tr>\n",
       "      <th>North America</th>\n",
       "      <th>US</th>\n",
       "      <td>20634.0</td>\n",
       "    </tr>\n",
       "    <tr>\n",
       "      <th>Latin America &amp; Caribbean</th>\n",
       "      <th>Brazil</th>\n",
       "      <td>15813.0</td>\n",
       "    </tr>\n",
       "    <tr>\n",
       "      <th>Europe &amp; Central Asia</th>\n",
       "      <th>Russia</th>\n",
       "      <td>8599.0</td>\n",
       "    </tr>\n",
       "    <tr>\n",
       "      <th>South Asia</th>\n",
       "      <th>India</th>\n",
       "      <td>7113.0</td>\n",
       "    </tr>\n",
       "    <tr>\n",
       "      <th rowspan=\"6\" valign=\"top\">Latin America &amp; Caribbean</th>\n",
       "      <th>Peru</th>\n",
       "      <td>4205.0</td>\n",
       "    </tr>\n",
       "    <tr>\n",
       "      <th>...</th>\n",
       "      <td>...</td>\n",
       "    </tr>\n",
       "    <tr>\n",
       "      <th>Dominica</th>\n",
       "      <td>0.0</td>\n",
       "    </tr>\n",
       "    <tr>\n",
       "      <th>Belize</th>\n",
       "      <td>0.0</td>\n",
       "    </tr>\n",
       "    <tr>\n",
       "      <th>Barbados</th>\n",
       "      <td>0.0</td>\n",
       "    </tr>\n",
       "    <tr>\n",
       "      <th>Bahamas</th>\n",
       "      <td>0.0</td>\n",
       "    </tr>\n",
       "    <tr>\n",
       "      <th>Sub-Saharan Africa</th>\n",
       "      <th>Zimbabwe</th>\n",
       "      <td>0.0</td>\n",
       "    </tr>\n",
       "  </tbody>\n",
       "</table>\n",
       "<p>186 rows × 1 columns</p>\n",
       "</div>"
      ],
      "text/plain": [
       "                                         sum\n",
       "region_wb                  land             \n",
       "North America              US        20634.0\n",
       "Latin America & Caribbean  Brazil    15813.0\n",
       "Europe & Central Asia      Russia     8599.0\n",
       "South Asia                 India      7113.0\n",
       "Latin America & Caribbean  Peru       4205.0\n",
       "...                                      ...\n",
       "                           Dominica      0.0\n",
       "                           Belize        0.0\n",
       "                           Barbados      0.0\n",
       "                           Bahamas       0.0\n",
       "Sub-Saharan Africa         Zimbabwe      0.0\n",
       "\n",
       "[186 rows x 1 columns]"
      ]
     },
     "execution_count": 654,
     "metadata": {},
     "output_type": "execute_result"
    }
   ],
   "source": [
    "df.loc[df.index == df.index.max(), :].groupby(['region_wb','land']).agg(['sum'])[column_original].sort_values(by='sum', ascending=False)"
   ]
  },
  {
   "cell_type": "code",
   "execution_count": 642,
   "metadata": {},
   "outputs": [
    {
     "name": "stdout",
     "output_type": "stream",
     "text": [
      "                                max\n",
      "region_wb                          \n",
      "East Asia & Pacific         15133.0\n",
      "Europe & Central Asia       11656.0\n",
      "European Union              26843.0\n",
      "Latin America & Caribbean   20803.0\n",
      "Middle East & North Africa   3186.0\n",
      "North America               36188.0\n",
      "South Asia                   7113.0\n",
      "Sub-Saharan Africa           1240.0\n",
      "                                sum\n",
      "region_wb                          \n",
      "East Asia & Pacific          1433.0\n",
      "Europe & Central Asia       12802.0\n",
      "European Union               6030.0\n",
      "Latin America & Caribbean   30885.0\n",
      "Middle East & North Africa   9772.0\n",
      "North America               21589.0\n",
      "South Asia                  11522.0\n",
      "Sub-Saharan Africa           3087.0\n",
      "                                sum\n",
      "region_wb                          \n",
      "East Asia & Pacific          1892.0\n",
      "Europe & Central Asia       13186.0\n",
      "European Union               6302.0\n",
      "Latin America & Caribbean   31268.0\n",
      "Middle East & North Africa   9964.0\n",
      "North America               22879.0\n",
      "South Asia                  11158.0\n",
      "Sub-Saharan Africa           2873.0\n",
      "\n"
     ]
    }
   ],
   "source": [
    "print(reg_df_max.sort_index())\n",
    "print(current_reg_df_sum.sort_index())\n",
    "print(yd_reg_df_sum.sort_index())\n",
    "print()\n"
   ]
  },
  {
   "cell_type": "code",
   "execution_count": 643,
   "metadata": {},
   "outputs": [
    {
     "name": "stdout",
     "output_type": "stream",
     "text": [
      "                                max  population      max2\n",
      "region_wb                                                \n",
      "East Asia & Pacific         15133.0  2654484.07  0.005701\n",
      "Europe & Central Asia       11656.0   368640.56  0.031619\n",
      "European Union              26843.0   539790.10  0.049729\n",
      "Latin America & Caribbean   20803.0   531279.44  0.039156\n",
      "Middle East & North Africa   3186.0   397410.53  0.008017\n",
      "North America               36188.0   449562.72  0.080496\n",
      "South Asia                   7113.0  1978370.73  0.003595\n",
      "Sub-Saharan Africa           1240.0   791333.77  0.001567\n",
      "                                sum  population      sum2\n",
      "region_wb                                                \n",
      "East Asia & Pacific          1433.0  2654484.07  0.000540\n",
      "Europe & Central Asia       12802.0   368640.56  0.034728\n",
      "European Union               6030.0   539790.10  0.011171\n",
      "Latin America & Caribbean   30885.0   531279.44  0.058133\n",
      "Middle East & North Africa   9772.0   397410.53  0.024589\n",
      "North America               21589.0   449562.72  0.048022\n",
      "South Asia                  11522.0  1978370.73  0.005824\n",
      "Sub-Saharan Africa           3087.0   791333.77  0.003901\n",
      "                                sum  population      sum2\n",
      "region_wb                                                \n",
      "East Asia & Pacific          1892.0  2654484.07  0.000713\n",
      "Europe & Central Asia       13186.0   368640.56  0.035769\n",
      "European Union               6302.0   539790.10  0.011675\n",
      "Latin America & Caribbean   31268.0   531279.44  0.058854\n",
      "Middle East & North Africa   9964.0   397410.53  0.025072\n",
      "North America               22879.0   449562.72  0.050892\n",
      "South Asia                  11158.0  1978370.73  0.005640\n",
      "Sub-Saharan Africa           2873.0   791333.77  0.003631\n",
      "\n"
     ]
    }
   ],
   "source": [
    "reg_df_max = reg_df_max.join(reg_df_sum_population)\n",
    "current_reg_df_sum = current_reg_df_sum.join(reg_df_sum_population)\n",
    "yd_reg_df_sum = yd_reg_df_sum.join(reg_df_sum_population)\n",
    "\n",
    "reg_df_max['max2'] = reg_df_max['max'] / reg_df_max['population']\n",
    "current_reg_df_sum['sum2'] = current_reg_df_sum['sum'] / current_reg_df_sum['population']\n",
    "yd_reg_df_sum['sum2'] = yd_reg_df_sum['sum'] / yd_reg_df_sum['population']\n",
    "print(reg_df_max.sort_index())\n",
    "print(current_reg_df_sum.sort_index())\n",
    "print(yd_reg_df_sum.sort_index())\n",
    "print()\n"
   ]
  },
  {
   "cell_type": "code",
   "execution_count": 622,
   "metadata": {},
   "outputs": [],
   "source": [
    "reg_df_max = reg_df_max.join(reg_df_sum_population)\n",
    "current_reg_df_sum = current_reg_df_sum.join(reg_df_sum_population)\n",
    "yd_reg_df_sum = yd_reg_df_sum.join(reg_df_sum_population)\n",
    "\n",
    "reg_df_max['max'] = reg_df_max['max'] / reg_df_max['population']\n",
    "current_reg_df_sum['sum'] = current_reg_df_sum['sum'] / current_reg_df_sum['population']\n",
    "yd_reg_df_sum['sum'] = yd_reg_df_sum['sum'] / yd_reg_df_sum['population']"
   ]
  },
  {
   "cell_type": "code",
   "execution_count": 632,
   "metadata": {},
   "outputs": [
    {
     "name": "stdout",
     "output_type": "stream",
     "text": [
      "max_value 0.039, current_value 0.058, yd_value 0.059\n"
     ]
    }
   ],
   "source": [
    "region = 'Latin America & Caribbean '\n",
    "max_value = reg_df_max.loc[reg_df_max.index.str.contains(region), 'max'].round(3).values[0]\n",
    "current_value = current_reg_df_sum.reset_index().loc[current_reg_df_sum.index == region, 'sum'].round(3).values[0]\n",
    "yd_value = yd_reg_df_sum.reset_index().loc[yd_reg_df_sum.index == region, 'sum'].round(3).values[0]\n",
    "print(f'max_value {max_value}, current_value {current_value}, yd_value {yd_value}')"
   ]
  },
  {
   "cell_type": "code",
   "execution_count": null,
   "metadata": {},
   "outputs": [],
   "source": []
  },
  {
   "cell_type": "code",
   "execution_count": null,
   "metadata": {},
   "outputs": [],
   "source": []
  },
  {
   "cell_type": "code",
   "execution_count": null,
   "metadata": {},
   "outputs": [],
   "source": []
  },
  {
   "cell_type": "code",
   "execution_count": null,
   "metadata": {},
   "outputs": [],
   "source": []
  },
  {
   "cell_type": "code",
   "execution_count": 524,
   "metadata": {},
   "outputs": [
    {
     "data": {
      "application/vnd.plotly.v1+json": {
       "config": {
        "plotlyServerURL": "https://plot.ly"
       },
       "data": [
        {
         "delta": {
          "reference": 22879
         },
         "domain": {
          "x": [
           0,
           0.2425
          ],
          "y": [
           0.6499999999999999,
           0.9999999999999999
          ]
         },
         "gauge": {
          "axis": {
           "range": [
            0,
            39806.8
           ],
           "tickcolor": "darkblue",
           "tickwidth": 1
          },
          "bar": {
           "color": "#1f2630"
          },
          "bgcolor": "white",
          "bordercolor": "gray",
          "borderwidth": 2,
          "steps": [
           {
            "color": "#2AF598",
            "range": [
             0,
             9047
            ]
           },
           {
            "color": "#FFF57B",
            "range": [
             9047,
             21287.058823529413
            ]
           },
           {
            "color": "#EF7F80",
            "range": [
             21287.058823529413,
             39806.8
            ]
           }
          ],
          "threshold": {
           "line": {
            "color": "black",
            "width": 4
           },
           "thickness": 0.75,
           "value": 36188
          }
         },
         "mode": "number+gauge+delta",
         "title": {
          "font": {
           "size": 14
          },
          "text": "North America"
         },
         "type": "indicator",
         "value": 21589
        },
        {
         "delta": {
          "reference": 6302
         },
         "domain": {
          "x": [
           0.2525,
           0.495
          ],
          "y": [
           0.6499999999999999,
           0.9999999999999999
          ]
         },
         "gauge": {
          "axis": {
           "range": [
            0,
            29527.300000000003
           ],
           "tickcolor": "darkblue",
           "tickwidth": 1
          },
          "bar": {
           "color": "#1f2630"
          },
          "bgcolor": "white",
          "bordercolor": "gray",
          "borderwidth": 2,
          "steps": [
           {
            "color": "#2AF598",
            "range": [
             0,
             6710.75
            ]
           },
           {
            "color": "#FFF57B",
            "range": [
             6710.75,
             15790
            ]
           },
           {
            "color": "#EF7F80",
            "range": [
             15790,
             29527.300000000003
            ]
           }
          ],
          "threshold": {
           "line": {
            "color": "black",
            "width": 4
           },
           "thickness": 0.75,
           "value": 26843
          }
         },
         "mode": "number+gauge+delta",
         "title": {
          "font": {
           "size": 14
          },
          "text": "European Union"
         },
         "type": "indicator",
         "value": 6030
        },
        {
         "delta": {
          "reference": 31268
         },
         "domain": {
          "x": [
           0.505,
           0.7475
          ],
          "y": [
           0.6499999999999999,
           0.9999999999999999
          ]
         },
         "gauge": {
          "axis": {
           "range": [
            0,
            22883.300000000003
           ],
           "tickcolor": "darkblue",
           "tickwidth": 1
          },
          "bar": {
           "color": "#1f2630"
          },
          "bgcolor": "white",
          "bordercolor": "gray",
          "borderwidth": 2,
          "steps": [
           {
            "color": "#2AF598",
            "range": [
             0,
             5200.75
            ]
           },
           {
            "color": "#FFF57B",
            "range": [
             5200.75,
             12237.058823529413
            ]
           },
           {
            "color": "#EF7F80",
            "range": [
             12237.058823529413,
             22883.300000000003
            ]
           }
          ],
          "threshold": {
           "line": {
            "color": "black",
            "width": 4
           },
           "thickness": 0.75,
           "value": 20803
          }
         },
         "mode": "number+gauge+delta",
         "title": {
          "font": {
           "size": 14
          },
          "text": "Latin America & Caribbean "
         },
         "type": "indicator",
         "value": 30885
        },
        {
         "delta": {
          "reference": 13186
         },
         "domain": {
          "x": [
           0.7575000000000001,
           1
          ],
          "y": [
           0.6499999999999999,
           0.9999999999999999
          ]
         },
         "gauge": {
          "axis": {
           "range": [
            0,
            12821.6
           ],
           "tickcolor": "darkblue",
           "tickwidth": 1
          },
          "bar": {
           "color": "#1f2630"
          },
          "bgcolor": "white",
          "bordercolor": "gray",
          "borderwidth": 2,
          "steps": [
           {
            "color": "#2AF598",
            "range": [
             0,
             2914
            ]
           },
           {
            "color": "#FFF57B",
            "range": [
             2914,
             6856.470588235295
            ]
           },
           {
            "color": "#EF7F80",
            "range": [
             6856.470588235295,
             12821.6
            ]
           }
          ],
          "threshold": {
           "line": {
            "color": "black",
            "width": 4
           },
           "thickness": 0.75,
           "value": 11656
          }
         },
         "mode": "number+gauge+delta",
         "title": {
          "font": {
           "size": 14
          },
          "text": "Europe & Central Asia"
         },
         "type": "indicator",
         "value": 12802
        },
        {
         "delta": {
          "reference": 9964
         },
         "domain": {
          "x": [
           0,
           0.2425
          ],
          "y": [
           0,
           0.35
          ]
         },
         "gauge": {
          "axis": {
           "range": [
            0,
            3504.6000000000004
           ],
           "tickcolor": "darkblue",
           "tickwidth": 1
          },
          "bar": {
           "color": "#1f2630"
          },
          "bgcolor": "white",
          "bordercolor": "gray",
          "borderwidth": 2,
          "steps": [
           {
            "color": "#2AF598",
            "range": [
             0,
             796.5
            ]
           },
           {
            "color": "#FFF57B",
            "range": [
             796.5,
             1874.1176470588236
            ]
           },
           {
            "color": "#EF7F80",
            "range": [
             1874.1176470588236,
             3504.6000000000004
            ]
           }
          ],
          "threshold": {
           "line": {
            "color": "black",
            "width": 4
           },
           "thickness": 0.75,
           "value": 3186
          }
         },
         "mode": "number+gauge+delta",
         "title": {
          "font": {
           "size": 14
          },
          "text": "Middle East & North Africa"
         },
         "type": "indicator",
         "value": 9772
        },
        {
         "delta": {
          "reference": 11158
         },
         "domain": {
          "x": [
           0.2525,
           0.495
          ],
          "y": [
           0,
           0.35
          ]
         },
         "gauge": {
          "axis": {
           "range": [
            0,
            7824.3
           ],
           "tickcolor": "darkblue",
           "tickwidth": 1
          },
          "bar": {
           "color": "#1f2630"
          },
          "bgcolor": "white",
          "bordercolor": "gray",
          "borderwidth": 2,
          "steps": [
           {
            "color": "#2AF598",
            "range": [
             0,
             1778.25
            ]
           },
           {
            "color": "#FFF57B",
            "range": [
             1778.25,
             4184.117647058823
            ]
           },
           {
            "color": "#EF7F80",
            "range": [
             4184.117647058823,
             7824.3
            ]
           }
          ],
          "threshold": {
           "line": {
            "color": "black",
            "width": 4
           },
           "thickness": 0.75,
           "value": 7113
          }
         },
         "mode": "number+gauge+delta",
         "title": {
          "font": {
           "size": 14
          },
          "text": "South Asia"
         },
         "type": "indicator",
         "value": 11522
        },
        {
         "delta": {
          "reference": 1892
         },
         "domain": {
          "x": [
           0.505,
           0.7475
          ],
          "y": [
           0,
           0.35
          ]
         },
         "gauge": {
          "axis": {
           "range": [
            0,
            16646.300000000003
           ],
           "tickcolor": "darkblue",
           "tickwidth": 1
          },
          "bar": {
           "color": "#1f2630"
          },
          "bgcolor": "white",
          "bordercolor": "gray",
          "borderwidth": 2,
          "steps": [
           {
            "color": "#2AF598",
            "range": [
             0,
             3783.25
            ]
           },
           {
            "color": "#FFF57B",
            "range": [
             3783.25,
             8901.764705882353
            ]
           },
           {
            "color": "#EF7F80",
            "range": [
             8901.764705882353,
             16646.300000000003
            ]
           }
          ],
          "threshold": {
           "line": {
            "color": "black",
            "width": 4
           },
           "thickness": 0.75,
           "value": 15133
          }
         },
         "mode": "number+gauge+delta",
         "title": {
          "font": {
           "size": 14
          },
          "text": "East Asia & Pacific"
         },
         "type": "indicator",
         "value": 1433
        },
        {
         "delta": {
          "reference": 2873
         },
         "domain": {
          "x": [
           0.7575000000000001,
           1
          ],
          "y": [
           0,
           0.35
          ]
         },
         "gauge": {
          "axis": {
           "range": [
            0,
            1364
           ],
           "tickcolor": "darkblue",
           "tickwidth": 1
          },
          "bar": {
           "color": "#1f2630"
          },
          "bgcolor": "white",
          "bordercolor": "gray",
          "borderwidth": 2,
          "steps": [
           {
            "color": "#2AF598",
            "range": [
             0,
             310
            ]
           },
           {
            "color": "#FFF57B",
            "range": [
             310,
             729.4117647058823
            ]
           },
           {
            "color": "#EF7F80",
            "range": [
             729.4117647058823,
             1364
            ]
           }
          ],
          "threshold": {
           "line": {
            "color": "black",
            "width": 4
           },
           "thickness": 0.75,
           "value": 1240
          }
         },
         "mode": "number+gauge+delta",
         "title": {
          "font": {
           "size": 14
          },
          "text": "Sub-Saharan Africa "
         },
         "type": "indicator",
         "value": 3087
        }
       ],
       "layout": {
        "autosize": true,
        "font": {
         "color": "rgb(204, 204, 204)",
         "family": "Garamond"
        },
        "paper_bgcolor": "#1f2630",
        "template": {
         "data": {
          "bar": [
           {
            "error_x": {
             "color": "#2a3f5f"
            },
            "error_y": {
             "color": "#2a3f5f"
            },
            "marker": {
             "line": {
              "color": "#E5ECF6",
              "width": 0.5
             }
            },
            "type": "bar"
           }
          ],
          "barpolar": [
           {
            "marker": {
             "line": {
              "color": "#E5ECF6",
              "width": 0.5
             }
            },
            "type": "barpolar"
           }
          ],
          "carpet": [
           {
            "aaxis": {
             "endlinecolor": "#2a3f5f",
             "gridcolor": "white",
             "linecolor": "white",
             "minorgridcolor": "white",
             "startlinecolor": "#2a3f5f"
            },
            "baxis": {
             "endlinecolor": "#2a3f5f",
             "gridcolor": "white",
             "linecolor": "white",
             "minorgridcolor": "white",
             "startlinecolor": "#2a3f5f"
            },
            "type": "carpet"
           }
          ],
          "choropleth": [
           {
            "colorbar": {
             "outlinewidth": 0,
             "ticks": ""
            },
            "type": "choropleth"
           }
          ],
          "contour": [
           {
            "colorbar": {
             "outlinewidth": 0,
             "ticks": ""
            },
            "colorscale": [
             [
              0,
              "#0d0887"
             ],
             [
              0.1111111111111111,
              "#46039f"
             ],
             [
              0.2222222222222222,
              "#7201a8"
             ],
             [
              0.3333333333333333,
              "#9c179e"
             ],
             [
              0.4444444444444444,
              "#bd3786"
             ],
             [
              0.5555555555555556,
              "#d8576b"
             ],
             [
              0.6666666666666666,
              "#ed7953"
             ],
             [
              0.7777777777777778,
              "#fb9f3a"
             ],
             [
              0.8888888888888888,
              "#fdca26"
             ],
             [
              1,
              "#f0f921"
             ]
            ],
            "type": "contour"
           }
          ],
          "contourcarpet": [
           {
            "colorbar": {
             "outlinewidth": 0,
             "ticks": ""
            },
            "type": "contourcarpet"
           }
          ],
          "heatmap": [
           {
            "colorbar": {
             "outlinewidth": 0,
             "ticks": ""
            },
            "colorscale": [
             [
              0,
              "#0d0887"
             ],
             [
              0.1111111111111111,
              "#46039f"
             ],
             [
              0.2222222222222222,
              "#7201a8"
             ],
             [
              0.3333333333333333,
              "#9c179e"
             ],
             [
              0.4444444444444444,
              "#bd3786"
             ],
             [
              0.5555555555555556,
              "#d8576b"
             ],
             [
              0.6666666666666666,
              "#ed7953"
             ],
             [
              0.7777777777777778,
              "#fb9f3a"
             ],
             [
              0.8888888888888888,
              "#fdca26"
             ],
             [
              1,
              "#f0f921"
             ]
            ],
            "type": "heatmap"
           }
          ],
          "heatmapgl": [
           {
            "colorbar": {
             "outlinewidth": 0,
             "ticks": ""
            },
            "colorscale": [
             [
              0,
              "#0d0887"
             ],
             [
              0.1111111111111111,
              "#46039f"
             ],
             [
              0.2222222222222222,
              "#7201a8"
             ],
             [
              0.3333333333333333,
              "#9c179e"
             ],
             [
              0.4444444444444444,
              "#bd3786"
             ],
             [
              0.5555555555555556,
              "#d8576b"
             ],
             [
              0.6666666666666666,
              "#ed7953"
             ],
             [
              0.7777777777777778,
              "#fb9f3a"
             ],
             [
              0.8888888888888888,
              "#fdca26"
             ],
             [
              1,
              "#f0f921"
             ]
            ],
            "type": "heatmapgl"
           }
          ],
          "histogram": [
           {
            "marker": {
             "colorbar": {
              "outlinewidth": 0,
              "ticks": ""
             }
            },
            "type": "histogram"
           }
          ],
          "histogram2d": [
           {
            "colorbar": {
             "outlinewidth": 0,
             "ticks": ""
            },
            "colorscale": [
             [
              0,
              "#0d0887"
             ],
             [
              0.1111111111111111,
              "#46039f"
             ],
             [
              0.2222222222222222,
              "#7201a8"
             ],
             [
              0.3333333333333333,
              "#9c179e"
             ],
             [
              0.4444444444444444,
              "#bd3786"
             ],
             [
              0.5555555555555556,
              "#d8576b"
             ],
             [
              0.6666666666666666,
              "#ed7953"
             ],
             [
              0.7777777777777778,
              "#fb9f3a"
             ],
             [
              0.8888888888888888,
              "#fdca26"
             ],
             [
              1,
              "#f0f921"
             ]
            ],
            "type": "histogram2d"
           }
          ],
          "histogram2dcontour": [
           {
            "colorbar": {
             "outlinewidth": 0,
             "ticks": ""
            },
            "colorscale": [
             [
              0,
              "#0d0887"
             ],
             [
              0.1111111111111111,
              "#46039f"
             ],
             [
              0.2222222222222222,
              "#7201a8"
             ],
             [
              0.3333333333333333,
              "#9c179e"
             ],
             [
              0.4444444444444444,
              "#bd3786"
             ],
             [
              0.5555555555555556,
              "#d8576b"
             ],
             [
              0.6666666666666666,
              "#ed7953"
             ],
             [
              0.7777777777777778,
              "#fb9f3a"
             ],
             [
              0.8888888888888888,
              "#fdca26"
             ],
             [
              1,
              "#f0f921"
             ]
            ],
            "type": "histogram2dcontour"
           }
          ],
          "mesh3d": [
           {
            "colorbar": {
             "outlinewidth": 0,
             "ticks": ""
            },
            "type": "mesh3d"
           }
          ],
          "parcoords": [
           {
            "line": {
             "colorbar": {
              "outlinewidth": 0,
              "ticks": ""
             }
            },
            "type": "parcoords"
           }
          ],
          "pie": [
           {
            "automargin": true,
            "type": "pie"
           }
          ],
          "scatter": [
           {
            "marker": {
             "colorbar": {
              "outlinewidth": 0,
              "ticks": ""
             }
            },
            "type": "scatter"
           }
          ],
          "scatter3d": [
           {
            "line": {
             "colorbar": {
              "outlinewidth": 0,
              "ticks": ""
             }
            },
            "marker": {
             "colorbar": {
              "outlinewidth": 0,
              "ticks": ""
             }
            },
            "type": "scatter3d"
           }
          ],
          "scattercarpet": [
           {
            "marker": {
             "colorbar": {
              "outlinewidth": 0,
              "ticks": ""
             }
            },
            "type": "scattercarpet"
           }
          ],
          "scattergeo": [
           {
            "marker": {
             "colorbar": {
              "outlinewidth": 0,
              "ticks": ""
             }
            },
            "type": "scattergeo"
           }
          ],
          "scattergl": [
           {
            "marker": {
             "colorbar": {
              "outlinewidth": 0,
              "ticks": ""
             }
            },
            "type": "scattergl"
           }
          ],
          "scattermapbox": [
           {
            "marker": {
             "colorbar": {
              "outlinewidth": 0,
              "ticks": ""
             }
            },
            "type": "scattermapbox"
           }
          ],
          "scatterpolar": [
           {
            "marker": {
             "colorbar": {
              "outlinewidth": 0,
              "ticks": ""
             }
            },
            "type": "scatterpolar"
           }
          ],
          "scatterpolargl": [
           {
            "marker": {
             "colorbar": {
              "outlinewidth": 0,
              "ticks": ""
             }
            },
            "type": "scatterpolargl"
           }
          ],
          "scatterternary": [
           {
            "marker": {
             "colorbar": {
              "outlinewidth": 0,
              "ticks": ""
             }
            },
            "type": "scatterternary"
           }
          ],
          "surface": [
           {
            "colorbar": {
             "outlinewidth": 0,
             "ticks": ""
            },
            "colorscale": [
             [
              0,
              "#0d0887"
             ],
             [
              0.1111111111111111,
              "#46039f"
             ],
             [
              0.2222222222222222,
              "#7201a8"
             ],
             [
              0.3333333333333333,
              "#9c179e"
             ],
             [
              0.4444444444444444,
              "#bd3786"
             ],
             [
              0.5555555555555556,
              "#d8576b"
             ],
             [
              0.6666666666666666,
              "#ed7953"
             ],
             [
              0.7777777777777778,
              "#fb9f3a"
             ],
             [
              0.8888888888888888,
              "#fdca26"
             ],
             [
              1,
              "#f0f921"
             ]
            ],
            "type": "surface"
           }
          ],
          "table": [
           {
            "cells": {
             "fill": {
              "color": "#EBF0F8"
             },
             "line": {
              "color": "white"
             }
            },
            "header": {
             "fill": {
              "color": "#C8D4E3"
             },
             "line": {
              "color": "white"
             }
            },
            "type": "table"
           }
          ]
         },
         "layout": {
          "annotationdefaults": {
           "arrowcolor": "#2a3f5f",
           "arrowhead": 0,
           "arrowwidth": 1
          },
          "coloraxis": {
           "colorbar": {
            "outlinewidth": 0,
            "ticks": ""
           }
          },
          "colorscale": {
           "diverging": [
            [
             0,
             "#8e0152"
            ],
            [
             0.1,
             "#c51b7d"
            ],
            [
             0.2,
             "#de77ae"
            ],
            [
             0.3,
             "#f1b6da"
            ],
            [
             0.4,
             "#fde0ef"
            ],
            [
             0.5,
             "#f7f7f7"
            ],
            [
             0.6,
             "#e6f5d0"
            ],
            [
             0.7,
             "#b8e186"
            ],
            [
             0.8,
             "#7fbc41"
            ],
            [
             0.9,
             "#4d9221"
            ],
            [
             1,
             "#276419"
            ]
           ],
           "sequential": [
            [
             0,
             "#0d0887"
            ],
            [
             0.1111111111111111,
             "#46039f"
            ],
            [
             0.2222222222222222,
             "#7201a8"
            ],
            [
             0.3333333333333333,
             "#9c179e"
            ],
            [
             0.4444444444444444,
             "#bd3786"
            ],
            [
             0.5555555555555556,
             "#d8576b"
            ],
            [
             0.6666666666666666,
             "#ed7953"
            ],
            [
             0.7777777777777778,
             "#fb9f3a"
            ],
            [
             0.8888888888888888,
             "#fdca26"
            ],
            [
             1,
             "#f0f921"
            ]
           ],
           "sequentialminus": [
            [
             0,
             "#0d0887"
            ],
            [
             0.1111111111111111,
             "#46039f"
            ],
            [
             0.2222222222222222,
             "#7201a8"
            ],
            [
             0.3333333333333333,
             "#9c179e"
            ],
            [
             0.4444444444444444,
             "#bd3786"
            ],
            [
             0.5555555555555556,
             "#d8576b"
            ],
            [
             0.6666666666666666,
             "#ed7953"
            ],
            [
             0.7777777777777778,
             "#fb9f3a"
            ],
            [
             0.8888888888888888,
             "#fdca26"
            ],
            [
             1,
             "#f0f921"
            ]
           ]
          },
          "colorway": [
           "#636efa",
           "#EF553B",
           "#00cc96",
           "#ab63fa",
           "#FFA15A",
           "#19d3f3",
           "#FF6692",
           "#B6E880",
           "#FF97FF",
           "#FECB52"
          ],
          "font": {
           "color": "#2a3f5f"
          },
          "geo": {
           "bgcolor": "white",
           "lakecolor": "white",
           "landcolor": "#E5ECF6",
           "showlakes": true,
           "showland": true,
           "subunitcolor": "white"
          },
          "hoverlabel": {
           "align": "left"
          },
          "hovermode": "closest",
          "mapbox": {
           "style": "light"
          },
          "paper_bgcolor": "white",
          "plot_bgcolor": "#E5ECF6",
          "polar": {
           "angularaxis": {
            "gridcolor": "white",
            "linecolor": "white",
            "ticks": ""
           },
           "bgcolor": "#E5ECF6",
           "radialaxis": {
            "gridcolor": "white",
            "linecolor": "white",
            "ticks": ""
           }
          },
          "scene": {
           "xaxis": {
            "backgroundcolor": "#E5ECF6",
            "gridcolor": "white",
            "gridwidth": 2,
            "linecolor": "white",
            "showbackground": true,
            "ticks": "",
            "zerolinecolor": "white"
           },
           "yaxis": {
            "backgroundcolor": "#E5ECF6",
            "gridcolor": "white",
            "gridwidth": 2,
            "linecolor": "white",
            "showbackground": true,
            "ticks": "",
            "zerolinecolor": "white"
           },
           "zaxis": {
            "backgroundcolor": "#E5ECF6",
            "gridcolor": "white",
            "gridwidth": 2,
            "linecolor": "white",
            "showbackground": true,
            "ticks": "",
            "zerolinecolor": "white"
           }
          },
          "shapedefaults": {
           "line": {
            "color": "#2a3f5f"
           }
          },
          "ternary": {
           "aaxis": {
            "gridcolor": "white",
            "linecolor": "white",
            "ticks": ""
           },
           "baxis": {
            "gridcolor": "white",
            "linecolor": "white",
            "ticks": ""
           },
           "bgcolor": "#E5ECF6",
           "caxis": {
            "gridcolor": "white",
            "linecolor": "white",
            "ticks": ""
           }
          },
          "title": {
           "x": 0.05
          },
          "xaxis": {
           "automargin": true,
           "gridcolor": "white",
           "linecolor": "white",
           "ticks": "",
           "title": {
            "standoff": 15
           },
           "zerolinecolor": "white",
           "zerolinewidth": 2
          },
          "yaxis": {
           "automargin": true,
           "gridcolor": "white",
           "linecolor": "white",
           "ticks": "",
           "title": {
            "standoff": 15
           },
           "zerolinecolor": "white",
           "zerolinewidth": 2
          }
         }
        }
       }
      },
      "image/png": "[encoded data removed]",
      "text/html": [
       "<div>\n",
       "        \n",
       "        \n",
       "            <div id=\"f6b99f89-6e0c-4797-989a-48c464eadf3b\" class=\"plotly-graph-div\" style=\"height:525px; width:100%;\"></div>\n",
       "            <script type=\"text/javascript\">\n",
       "                require([\"plotly\"], function(Plotly) {\n",
       "                    window.PLOTLYENV=window.PLOTLYENV || {};\n",
       "                    \n",
       "                if (document.getElementById(\"f6b99f89-6e0c-4797-989a-48c464eadf3b\")) {\n",
       "                    Plotly.newPlot(\n",
       "                        'f6b99f89-6e0c-4797-989a-48c464eadf3b',\n",
       "                        [{\"delta\": {\"reference\": 22879.0}, \"domain\": {\"x\": [0.0, 0.2425], \"y\": [0.6499999999999999, 0.9999999999999999]}, \"gauge\": {\"axis\": {\"range\": [0, 39806.8], \"tickcolor\": \"darkblue\", \"tickwidth\": 1}, \"bar\": {\"color\": \"#1f2630\"}, \"bgcolor\": \"white\", \"bordercolor\": \"gray\", \"borderwidth\": 2, \"steps\": [{\"color\": \"#2AF598\", \"range\": [0, 9047.0]}, {\"color\": \"#FFF57B\", \"range\": [9047.0, 21287.058823529413]}, {\"color\": \"#EF7F80\", \"range\": [21287.058823529413, 39806.8]}], \"threshold\": {\"line\": {\"color\": \"black\", \"width\": 4}, \"thickness\": 0.75, \"value\": 36188.0}}, \"mode\": \"number+gauge+delta\", \"title\": {\"font\": {\"size\": 14}, \"text\": \"North America\"}, \"type\": \"indicator\", \"value\": 21589.0}, {\"delta\": {\"reference\": 6302.0}, \"domain\": {\"x\": [0.2525, 0.495], \"y\": [0.6499999999999999, 0.9999999999999999]}, \"gauge\": {\"axis\": {\"range\": [0, 29527.300000000003], \"tickcolor\": \"darkblue\", \"tickwidth\": 1}, \"bar\": {\"color\": \"#1f2630\"}, \"bgcolor\": \"white\", \"bordercolor\": \"gray\", \"borderwidth\": 2, \"steps\": [{\"color\": \"#2AF598\", \"range\": [0, 6710.75]}, {\"color\": \"#FFF57B\", \"range\": [6710.75, 15790.0]}, {\"color\": \"#EF7F80\", \"range\": [15790.0, 29527.300000000003]}], \"threshold\": {\"line\": {\"color\": \"black\", \"width\": 4}, \"thickness\": 0.75, \"value\": 26843.0}}, \"mode\": \"number+gauge+delta\", \"title\": {\"font\": {\"size\": 14}, \"text\": \"European Union\"}, \"type\": \"indicator\", \"value\": 6030.0}, {\"delta\": {\"reference\": 31268.0}, \"domain\": {\"x\": [0.505, 0.7475], \"y\": [0.6499999999999999, 0.9999999999999999]}, \"gauge\": {\"axis\": {\"range\": [0, 22883.300000000003], \"tickcolor\": \"darkblue\", \"tickwidth\": 1}, \"bar\": {\"color\": \"#1f2630\"}, \"bgcolor\": \"white\", \"bordercolor\": \"gray\", \"borderwidth\": 2, \"steps\": [{\"color\": \"#2AF598\", \"range\": [0, 5200.75]}, {\"color\": \"#FFF57B\", \"range\": [5200.75, 12237.058823529413]}, {\"color\": \"#EF7F80\", \"range\": [12237.058823529413, 22883.300000000003]}], \"threshold\": {\"line\": {\"color\": \"black\", \"width\": 4}, \"thickness\": 0.75, \"value\": 20803.0}}, \"mode\": \"number+gauge+delta\", \"title\": {\"font\": {\"size\": 14}, \"text\": \"Latin America & Caribbean \"}, \"type\": \"indicator\", \"value\": 30885.0}, {\"delta\": {\"reference\": 13186.0}, \"domain\": {\"x\": [0.7575000000000001, 1.0], \"y\": [0.6499999999999999, 0.9999999999999999]}, \"gauge\": {\"axis\": {\"range\": [0, 12821.6], \"tickcolor\": \"darkblue\", \"tickwidth\": 1}, \"bar\": {\"color\": \"#1f2630\"}, \"bgcolor\": \"white\", \"bordercolor\": \"gray\", \"borderwidth\": 2, \"steps\": [{\"color\": \"#2AF598\", \"range\": [0, 2914.0]}, {\"color\": \"#FFF57B\", \"range\": [2914.0, 6856.470588235295]}, {\"color\": \"#EF7F80\", \"range\": [6856.470588235295, 12821.6]}], \"threshold\": {\"line\": {\"color\": \"black\", \"width\": 4}, \"thickness\": 0.75, \"value\": 11656.0}}, \"mode\": \"number+gauge+delta\", \"title\": {\"font\": {\"size\": 14}, \"text\": \"Europe & Central Asia\"}, \"type\": \"indicator\", \"value\": 12802.0}, {\"delta\": {\"reference\": 9964.0}, \"domain\": {\"x\": [0.0, 0.2425], \"y\": [0.0, 0.35]}, \"gauge\": {\"axis\": {\"range\": [0, 3504.6000000000004], \"tickcolor\": \"darkblue\", \"tickwidth\": 1}, \"bar\": {\"color\": \"#1f2630\"}, \"bgcolor\": \"white\", \"bordercolor\": \"gray\", \"borderwidth\": 2, \"steps\": [{\"color\": \"#2AF598\", \"range\": [0, 796.5]}, {\"color\": \"#FFF57B\", \"range\": [796.5, 1874.1176470588236]}, {\"color\": \"#EF7F80\", \"range\": [1874.1176470588236, 3504.6000000000004]}], \"threshold\": {\"line\": {\"color\": \"black\", \"width\": 4}, \"thickness\": 0.75, \"value\": 3186.0}}, \"mode\": \"number+gauge+delta\", \"title\": {\"font\": {\"size\": 14}, \"text\": \"Middle East & North Africa\"}, \"type\": \"indicator\", \"value\": 9772.0}, {\"delta\": {\"reference\": 11158.0}, \"domain\": {\"x\": [0.2525, 0.495], \"y\": [0.0, 0.35]}, \"gauge\": {\"axis\": {\"range\": [0, 7824.3], \"tickcolor\": \"darkblue\", \"tickwidth\": 1}, \"bar\": {\"color\": \"#1f2630\"}, \"bgcolor\": \"white\", \"bordercolor\": \"gray\", \"borderwidth\": 2, \"steps\": [{\"color\": \"#2AF598\", \"range\": [0, 1778.25]}, {\"color\": \"#FFF57B\", \"range\": [1778.25, 4184.117647058823]}, {\"color\": \"#EF7F80\", \"range\": [4184.117647058823, 7824.3]}], \"threshold\": {\"line\": {\"color\": \"black\", \"width\": 4}, \"thickness\": 0.75, \"value\": 7113.0}}, \"mode\": \"number+gauge+delta\", \"title\": {\"font\": {\"size\": 14}, \"text\": \"South Asia\"}, \"type\": \"indicator\", \"value\": 11522.0}, {\"delta\": {\"reference\": 1892.0}, \"domain\": {\"x\": [0.505, 0.7475], \"y\": [0.0, 0.35]}, \"gauge\": {\"axis\": {\"range\": [0, 16646.300000000003], \"tickcolor\": \"darkblue\", \"tickwidth\": 1}, \"bar\": {\"color\": \"#1f2630\"}, \"bgcolor\": \"white\", \"bordercolor\": \"gray\", \"borderwidth\": 2, \"steps\": [{\"color\": \"#2AF598\", \"range\": [0, 3783.25]}, {\"color\": \"#FFF57B\", \"range\": [3783.25, 8901.764705882353]}, {\"color\": \"#EF7F80\", \"range\": [8901.764705882353, 16646.300000000003]}], \"threshold\": {\"line\": {\"color\": \"black\", \"width\": 4}, \"thickness\": 0.75, \"value\": 15133.0}}, \"mode\": \"number+gauge+delta\", \"title\": {\"font\": {\"size\": 14}, \"text\": \"East Asia & Pacific\"}, \"type\": \"indicator\", \"value\": 1433.0}, {\"delta\": {\"reference\": 2873.0}, \"domain\": {\"x\": [0.7575000000000001, 1.0], \"y\": [0.0, 0.35]}, \"gauge\": {\"axis\": {\"range\": [0, 1364.0], \"tickcolor\": \"darkblue\", \"tickwidth\": 1}, \"bar\": {\"color\": \"#1f2630\"}, \"bgcolor\": \"white\", \"bordercolor\": \"gray\", \"borderwidth\": 2, \"steps\": [{\"color\": \"#2AF598\", \"range\": [0, 310.0]}, {\"color\": \"#FFF57B\", \"range\": [310.0, 729.4117647058823]}, {\"color\": \"#EF7F80\", \"range\": [729.4117647058823, 1364.0]}], \"threshold\": {\"line\": {\"color\": \"black\", \"width\": 4}, \"thickness\": 0.75, \"value\": 1240.0}}, \"mode\": \"number+gauge+delta\", \"title\": {\"font\": {\"size\": 14}, \"text\": \"Sub-Saharan Africa \"}, \"type\": \"indicator\", \"value\": 3087.0}],\n",
       "                        {\"font\": {\"color\": \"rgb(204, 204, 204)\", \"family\": \"Garamond\"}, \"paper_bgcolor\": \"#1f2630\", \"template\": {\"data\": {\"bar\": [{\"error_x\": {\"color\": \"#2a3f5f\"}, \"error_y\": {\"color\": \"#2a3f5f\"}, \"marker\": {\"line\": {\"color\": \"#E5ECF6\", \"width\": 0.5}}, \"type\": \"bar\"}], \"barpolar\": [{\"marker\": {\"line\": {\"color\": \"#E5ECF6\", \"width\": 0.5}}, \"type\": \"barpolar\"}], \"carpet\": [{\"aaxis\": {\"endlinecolor\": \"#2a3f5f\", \"gridcolor\": \"white\", \"linecolor\": \"white\", \"minorgridcolor\": \"white\", \"startlinecolor\": \"#2a3f5f\"}, \"baxis\": {\"endlinecolor\": \"#2a3f5f\", \"gridcolor\": \"white\", \"linecolor\": \"white\", \"minorgridcolor\": \"white\", \"startlinecolor\": \"#2a3f5f\"}, \"type\": \"carpet\"}], \"choropleth\": [{\"colorbar\": {\"outlinewidth\": 0, \"ticks\": \"\"}, \"type\": \"choropleth\"}], \"contour\": [{\"colorbar\": {\"outlinewidth\": 0, \"ticks\": \"\"}, \"colorscale\": [[0.0, \"#0d0887\"], [0.1111111111111111, \"#46039f\"], [0.2222222222222222, \"#7201a8\"], [0.3333333333333333, \"#9c179e\"], [0.4444444444444444, \"#bd3786\"], [0.5555555555555556, \"#d8576b\"], [0.6666666666666666, \"#ed7953\"], [0.7777777777777778, \"#fb9f3a\"], [0.8888888888888888, \"#fdca26\"], [1.0, \"#f0f921\"]], \"type\": \"contour\"}], \"contourcarpet\": [{\"colorbar\": {\"outlinewidth\": 0, \"ticks\": \"\"}, \"type\": \"contourcarpet\"}], \"heatmap\": [{\"colorbar\": {\"outlinewidth\": 0, \"ticks\": \"\"}, \"colorscale\": [[0.0, \"#0d0887\"], [0.1111111111111111, \"#46039f\"], [0.2222222222222222, \"#7201a8\"], [0.3333333333333333, \"#9c179e\"], [0.4444444444444444, \"#bd3786\"], [0.5555555555555556, \"#d8576b\"], [0.6666666666666666, \"#ed7953\"], [0.7777777777777778, \"#fb9f3a\"], [0.8888888888888888, \"#fdca26\"], [1.0, \"#f0f921\"]], \"type\": \"heatmap\"}], \"heatmapgl\": [{\"colorbar\": {\"outlinewidth\": 0, \"ticks\": \"\"}, \"colorscale\": [[0.0, \"#0d0887\"], [0.1111111111111111, \"#46039f\"], [0.2222222222222222, \"#7201a8\"], [0.3333333333333333, \"#9c179e\"], [0.4444444444444444, \"#bd3786\"], [0.5555555555555556, \"#d8576b\"], [0.6666666666666666, \"#ed7953\"], [0.7777777777777778, \"#fb9f3a\"], [0.8888888888888888, \"#fdca26\"], [1.0, \"#f0f921\"]], \"type\": \"heatmapgl\"}], \"histogram\": [{\"marker\": {\"colorbar\": {\"outlinewidth\": 0, \"ticks\": \"\"}}, \"type\": \"histogram\"}], \"histogram2d\": [{\"colorbar\": {\"outlinewidth\": 0, \"ticks\": \"\"}, \"colorscale\": [[0.0, \"#0d0887\"], [0.1111111111111111, \"#46039f\"], [0.2222222222222222, \"#7201a8\"], [0.3333333333333333, \"#9c179e\"], [0.4444444444444444, \"#bd3786\"], [0.5555555555555556, \"#d8576b\"], [0.6666666666666666, \"#ed7953\"], [0.7777777777777778, \"#fb9f3a\"], [0.8888888888888888, \"#fdca26\"], [1.0, \"#f0f921\"]], \"type\": \"histogram2d\"}], \"histogram2dcontour\": [{\"colorbar\": {\"outlinewidth\": 0, \"ticks\": \"\"}, \"colorscale\": [[0.0, \"#0d0887\"], [0.1111111111111111, \"#46039f\"], [0.2222222222222222, \"#7201a8\"], [0.3333333333333333, \"#9c179e\"], [0.4444444444444444, \"#bd3786\"], [0.5555555555555556, \"#d8576b\"], [0.6666666666666666, \"#ed7953\"], [0.7777777777777778, \"#fb9f3a\"], [0.8888888888888888, \"#fdca26\"], [1.0, \"#f0f921\"]], \"type\": \"histogram2dcontour\"}], \"mesh3d\": [{\"colorbar\": {\"outlinewidth\": 0, \"ticks\": \"\"}, \"type\": \"mesh3d\"}], \"parcoords\": [{\"line\": {\"colorbar\": {\"outlinewidth\": 0, \"ticks\": \"\"}}, \"type\": \"parcoords\"}], \"pie\": [{\"automargin\": true, \"type\": \"pie\"}], \"scatter\": [{\"marker\": {\"colorbar\": {\"outlinewidth\": 0, \"ticks\": \"\"}}, \"type\": \"scatter\"}], \"scatter3d\": [{\"line\": {\"colorbar\": {\"outlinewidth\": 0, \"ticks\": \"\"}}, \"marker\": {\"colorbar\": {\"outlinewidth\": 0, \"ticks\": \"\"}}, \"type\": \"scatter3d\"}], \"scattercarpet\": [{\"marker\": {\"colorbar\": {\"outlinewidth\": 0, \"ticks\": \"\"}}, \"type\": \"scattercarpet\"}], \"scattergeo\": [{\"marker\": {\"colorbar\": {\"outlinewidth\": 0, \"ticks\": \"\"}}, \"type\": \"scattergeo\"}], \"scattergl\": [{\"marker\": {\"colorbar\": {\"outlinewidth\": 0, \"ticks\": \"\"}}, \"type\": \"scattergl\"}], \"scattermapbox\": [{\"marker\": {\"colorbar\": {\"outlinewidth\": 0, \"ticks\": \"\"}}, \"type\": \"scattermapbox\"}], \"scatterpolar\": [{\"marker\": {\"colorbar\": {\"outlinewidth\": 0, \"ticks\": \"\"}}, \"type\": \"scatterpolar\"}], \"scatterpolargl\": [{\"marker\": {\"colorbar\": {\"outlinewidth\": 0, \"ticks\": \"\"}}, \"type\": \"scatterpolargl\"}], \"scatterternary\": [{\"marker\": {\"colorbar\": {\"outlinewidth\": 0, \"ticks\": \"\"}}, \"type\": \"scatterternary\"}], \"surface\": [{\"colorbar\": {\"outlinewidth\": 0, \"ticks\": \"\"}, \"colorscale\": [[0.0, \"#0d0887\"], [0.1111111111111111, \"#46039f\"], [0.2222222222222222, \"#7201a8\"], [0.3333333333333333, \"#9c179e\"], [0.4444444444444444, \"#bd3786\"], [0.5555555555555556, \"#d8576b\"], [0.6666666666666666, \"#ed7953\"], [0.7777777777777778, \"#fb9f3a\"], [0.8888888888888888, \"#fdca26\"], [1.0, \"#f0f921\"]], \"type\": \"surface\"}], \"table\": [{\"cells\": {\"fill\": {\"color\": \"#EBF0F8\"}, \"line\": {\"color\": \"white\"}}, \"header\": {\"fill\": {\"color\": \"#C8D4E3\"}, \"line\": {\"color\": \"white\"}}, \"type\": \"table\"}]}, \"layout\": {\"annotationdefaults\": {\"arrowcolor\": \"#2a3f5f\", \"arrowhead\": 0, \"arrowwidth\": 1}, \"coloraxis\": {\"colorbar\": {\"outlinewidth\": 0, \"ticks\": \"\"}}, \"colorscale\": {\"diverging\": [[0, \"#8e0152\"], [0.1, \"#c51b7d\"], [0.2, \"#de77ae\"], [0.3, \"#f1b6da\"], [0.4, \"#fde0ef\"], [0.5, \"#f7f7f7\"], [0.6, \"#e6f5d0\"], [0.7, \"#b8e186\"], [0.8, \"#7fbc41\"], [0.9, \"#4d9221\"], [1, \"#276419\"]], \"sequential\": [[0.0, \"#0d0887\"], [0.1111111111111111, \"#46039f\"], [0.2222222222222222, \"#7201a8\"], [0.3333333333333333, \"#9c179e\"], [0.4444444444444444, \"#bd3786\"], [0.5555555555555556, \"#d8576b\"], [0.6666666666666666, \"#ed7953\"], [0.7777777777777778, \"#fb9f3a\"], [0.8888888888888888, \"#fdca26\"], [1.0, \"#f0f921\"]], \"sequentialminus\": [[0.0, \"#0d0887\"], [0.1111111111111111, \"#46039f\"], [0.2222222222222222, \"#7201a8\"], [0.3333333333333333, \"#9c179e\"], [0.4444444444444444, \"#bd3786\"], [0.5555555555555556, \"#d8576b\"], [0.6666666666666666, \"#ed7953\"], [0.7777777777777778, \"#fb9f3a\"], [0.8888888888888888, \"#fdca26\"], [1.0, \"#f0f921\"]]}, \"colorway\": [\"#636efa\", \"#EF553B\", \"#00cc96\", \"#ab63fa\", \"#FFA15A\", \"#19d3f3\", \"#FF6692\", \"#B6E880\", \"#FF97FF\", \"#FECB52\"], \"font\": {\"color\": \"#2a3f5f\"}, \"geo\": {\"bgcolor\": \"white\", \"lakecolor\": \"white\", \"landcolor\": \"#E5ECF6\", \"showlakes\": true, \"showland\": true, \"subunitcolor\": \"white\"}, \"hoverlabel\": {\"align\": \"left\"}, \"hovermode\": \"closest\", \"mapbox\": {\"style\": \"light\"}, \"paper_bgcolor\": \"white\", \"plot_bgcolor\": \"#E5ECF6\", \"polar\": {\"angularaxis\": {\"gridcolor\": \"white\", \"linecolor\": \"white\", \"ticks\": \"\"}, \"bgcolor\": \"#E5ECF6\", \"radialaxis\": {\"gridcolor\": \"white\", \"linecolor\": \"white\", \"ticks\": \"\"}}, \"scene\": {\"xaxis\": {\"backgroundcolor\": \"#E5ECF6\", \"gridcolor\": \"white\", \"gridwidth\": 2, \"linecolor\": \"white\", \"showbackground\": true, \"ticks\": \"\", \"zerolinecolor\": \"white\"}, \"yaxis\": {\"backgroundcolor\": \"#E5ECF6\", \"gridcolor\": \"white\", \"gridwidth\": 2, \"linecolor\": \"white\", \"showbackground\": true, \"ticks\": \"\", \"zerolinecolor\": \"white\"}, \"zaxis\": {\"backgroundcolor\": \"#E5ECF6\", \"gridcolor\": \"white\", \"gridwidth\": 2, \"linecolor\": \"white\", \"showbackground\": true, \"ticks\": \"\", \"zerolinecolor\": \"white\"}}, \"shapedefaults\": {\"line\": {\"color\": \"#2a3f5f\"}}, \"ternary\": {\"aaxis\": {\"gridcolor\": \"white\", \"linecolor\": \"white\", \"ticks\": \"\"}, \"baxis\": {\"gridcolor\": \"white\", \"linecolor\": \"white\", \"ticks\": \"\"}, \"bgcolor\": \"#E5ECF6\", \"caxis\": {\"gridcolor\": \"white\", \"linecolor\": \"white\", \"ticks\": \"\"}}, \"title\": {\"x\": 0.05}, \"xaxis\": {\"automargin\": true, \"gridcolor\": \"white\", \"linecolor\": \"white\", \"ticks\": \"\", \"title\": {\"standoff\": 15}, \"zerolinecolor\": \"white\", \"zerolinewidth\": 2}, \"yaxis\": {\"automargin\": true, \"gridcolor\": \"white\", \"linecolor\": \"white\", \"ticks\": \"\", \"title\": {\"standoff\": 15}, \"zerolinecolor\": \"white\", \"zerolinewidth\": 2}}}},\n",
       "                        {\"responsive\": true}\n",
       "                    ).then(function(){\n",
       "                            \n",
       "var gd = document.getElementById('f6b99f89-6e0c-4797-989a-48c464eadf3b');\n",
       "var x = new MutationObserver(function (mutations, observer) {{\n",
       "        var display = window.getComputedStyle(gd).display;\n",
       "        if (!display || display === 'none') {{\n",
       "            console.log([gd, 'removed!']);\n",
       "            Plotly.purge(gd);\n",
       "            observer.disconnect();\n",
       "        }}\n",
       "}});\n",
       "\n",
       "// Listen for the removal of the full notebook cells\n",
       "var notebookContainer = gd.closest('#notebook-container');\n",
       "if (notebookContainer) {{\n",
       "    x.observe(notebookContainer, {childList: true});\n",
       "}}\n",
       "\n",
       "// Listen for the clearing of the current output cell\n",
       "var outputEl = gd.closest('.output');\n",
       "if (outputEl) {{\n",
       "    x.observe(outputEl, {childList: true});\n",
       "}}\n",
       "\n",
       "                        })\n",
       "                };\n",
       "                });\n",
       "            </script>\n",
       "        </div>"
      ]
     },
     "metadata": {},
     "output_type": "display_data"
    }
   ],
   "source": [
    "import plotly.graph_objects as go\n",
    "from datetime import timedelta\n",
    "from plotly.subplots import make_subplots\n",
    "\n",
    "\n",
    "def add_gauge(fig, region, max_value, current_value, yd_value, position):\n",
    "    \n",
    "    range_1 = max_value/4\n",
    "    range_2 = max_value/1.7\n",
    "    \n",
    "    fig.add_trace(go.Indicator(\n",
    "                        mode = \"number+gauge+delta\",\n",
    "                        gauge = {'axis': {'range': [0, max_value * 1.1], 'tickwidth': 1, 'tickcolor': \"darkblue\"},\n",
    "                                 'bar': {'color': \"#1f2630\"},\n",
    "                                 'bgcolor': \"white\",\n",
    "                                 'borderwidth': 2,\n",
    "                                 'bordercolor': \"gray\",\n",
    "                                 'steps' : [\n",
    "                                     {'range': [0, range_1], 'color': \"#2AF598\"},\n",
    "                                     {'range': [range_1, range_2], 'color': \"#FFF57B\"},\n",
    "                                     {'range': [range_2, max_value * 1.1], 'color': \"#EF7F80\"}],\n",
    "                                      'threshold' : {'line': {'color': \"black\", 'width': 4}, 'thickness': 0.75, 'value': max_value}},\n",
    "                        delta = {'reference': yd_value},\n",
    "                        value = current_value,\n",
    "                #         domain = {'x': [0, 1], 'y': [0.2, 0.9]},\n",
    "                        title = {'text': f\"{region}\",'font': dict(size=14)}),\n",
    "                row=position[0], col=position[1]\n",
    "                 )\n",
    "    return fig\n",
    "\n",
    "def plot_regions(df, column):\n",
    "    regions = len(df.region_wb.unique())\n",
    "    \n",
    "    plots = [{\"type\": 'indicator'} for i in range(8)]\n",
    "    fig = make_subplots(rows=2, cols=4, \n",
    "                        specs=[plots[0:4], plots[4:]],\n",
    "                        vertical_spacing=0.3,\n",
    "                        horizontal_spacing=0.01,\n",
    "#                         column_widths=[0.3, 0.7],\n",
    "#                         row_heights=[0.5, 0.5],\n",
    "                       )\n",
    "    \n",
    "    reg_df_sum_total = df_jh_world.groupby('region_wb').agg(['sum'])[column].sort_values(by='sum',ascending=False).round(0)\n",
    "    \n",
    "    reg_df_max = df.reset_index(drop=True).groupby(['date', 'region_wb']).agg(['max'])[column].groupby('region_wb').max()\n",
    "    current_reg_df_sum = df.loc[df.index == df.index.max(), :].groupby('region_wb').agg(['sum'])[column].round(0)\n",
    "    yd_reg_df_sum = df.loc[df.index == df.index.max() - timedelta(days=1), :].groupby('region_wb').agg(['sum'])[column].round(0)\n",
    "\n",
    "    for i, region in enumerate(reg_df_sum_total.index.unique()):\n",
    "        \n",
    "        max_value = reg_df_max.reset_index().loc[reg_df_max.index == region, 'max'].values[0]\n",
    "        current_value = current_reg_df_sum.reset_index().loc[current_reg_df_sum.index == region, 'sum'].values[0]\n",
    "        yd_value = yd_reg_df_sum.reset_index().loc[yd_reg_df_sum.index == region, 'sum'].values[0]\n",
    "        \n",
    "        if i <= 3:\n",
    "            position=[1, i+1]\n",
    "        else:\n",
    "            position=[2, i-4+1]\n",
    "        fig = add_gauge(fig, region, max_value, current_value, yd_value, position)\n",
    "    \n",
    "    fig.update_layout(paper_bgcolor='#1f2630', font = {'color': \"rgb(204, 204, 204)\", 'family': \"Garamond\"})\n",
    "    \n",
    "    return fig\n",
    "\n",
    "plot_regions(df_jh_world, 'confirmed_change').show()"
   ]
  },
  {
   "cell_type": "code",
   "execution_count": 437,
   "metadata": {},
   "outputs": [
    {
     "name": "stdout",
     "output_type": "stream",
     "text": [
      "This is the format of your plot grid:\n",
      "[ (1,1)  ]  [ (1,2)  ]  [ (1,3)  ]  [ (1,4)  ]\n",
      "[ (2,1)  ]  [ (2,2)  ]  [ (2,3)  ]  [ (2,4)  ]\n",
      "\n"
     ]
    }
   ],
   "source": [
    "plots = [{\"type\": 'indicator'} for i in range(8)]\n",
    "    \n",
    "fig = make_subplots(rows=2, cols=4, \n",
    "                specs=[plots[0:4], plots[4:]])\n",
    "fig.print_grid()"
   ]
  },
  {
   "cell_type": "code",
   "execution_count": null,
   "metadata": {},
   "outputs": [],
   "source": []
  },
  {
   "cell_type": "code",
   "execution_count": null,
   "metadata": {},
   "outputs": [],
   "source": [
    "import plotly.graph_objects as go\n",
    "from datetime import timedelta\n",
    "from plotly.subplots import make_subplots\n",
    "\n",
    "\n",
    "def add_gauge(fig, region, max_value, current_value, yd_value):\n",
    "    \n",
    "    range_1 = max_value/4\n",
    "    range_2 = max_value/1.7\n",
    "    \n",
    "    trace = go.Indicator(\n",
    "        mode = \"number+gauge+delta\",\n",
    "        gauge = {'axis': {'range': [0, max_value * 1.1], 'tickwidth': 1, 'tickcolor': \"darkblue\"},\n",
    "                 'bar': {'color': \"darkblue\"},\n",
    "            'bgcolor': \"white\",\n",
    "            'borderwidth': 2,\n",
    "            'bordercolor': \"gray\",\n",
    "                 'steps' : [\n",
    "                     {'range': [0, range_1], 'color': \"lightgray\"},\n",
    "                     {'range': [range_1, range_2], 'color': \"gray\"}],\n",
    "                      'threshold' : {'line': {'color': \"red\", 'width': 4}, 'thickness': 0.75, 'value': max_value}},\n",
    "        delta = {'reference': yd_value},\n",
    "        value = current_value,\n",
    "        domain = {'x': [0, 1], 'y': [0.2, 0.9]},\n",
    "        title = {'text': f\"{region}\"})\n",
    "                \n",
    "                 \n",
    "    return trace\n",
    "\n",
    "def plot_regions(df):\n",
    "    regions = len(df.region_wb.unique())\n",
    "    \n",
    "    plots = [{\"type\": 'indicator'} for i in range(regions)]\n",
    "    \n",
    "    fig = make_subplots(rows=2, cols=4, \n",
    "#                     column_widths=[0.3, 0.7],\n",
    "#                     row_heights=[0.5, 0.5],\n",
    "                    specs=[plots[0:4], plots[4:]])\n",
    "    \n",
    "    for i, region in enumerate(df.region_wb.unique()):\n",
    "        reg_df_max = df.reset_index(drop=True).groupby(['date', 'region_wb']).agg(['max'])[column].groupby('region_wb').max()\n",
    "        max_value = reg_df_max.reset_index().loc[reg_df_max.index == region, 'max'].values[0]\n",
    "\n",
    "        current_reg_df_sum = df.loc[df.index == df.index.max(), :].groupby('region_wb').agg(['sum'])[column].round(0)\n",
    "        yd_reg_df_sum = df.loc[df.index == df.index.max() - timedelta(days=1), :].groupby('region_wb').agg(['sum'])[column].round(0)\n",
    "\n",
    "        current_value = current_reg_df_sum.reset_index().loc[current_reg_df_sum.index == region, 'sum'].values[0]\n",
    "        yd_value = yd_reg_df_sum.reset_index().loc[yd_reg_df_sum.index == region, 'sum'].values[0]\n",
    "        \n",
    "        fig.add_trace(add_gauge(fig, region, max_value, current_value, yd_value), row=np.floor(i/4)+1, col=i+1)\n",
    "    \n",
    "    return fig\n",
    "\n",
    "# add_gauge(fig, reg_df, 'European Union').show()\n",
    "plot_regions(df_jh_world).show()"
   ]
  }
 ],
 "metadata": {
  "kernelspec": {
   "display_name": "Python 3",
   "language": "python",
   "name": "python3"
  },
  "language_info": {
   "codemirror_mode": {
    "name": "ipython",
    "version": 3
   },
   "file_extension": ".py",
   "mimetype": "text/x-python",
   "name": "python",
   "nbconvert_exporter": "python",
   "pygments_lexer": "ipython3",
   "version": "3.7.3"
  }
 },
 "nbformat": 4,
 "nbformat_minor": 4
}
