{
 "cells": [
  {
   "cell_type": "code",
   "execution_count": 20,
   "metadata": {},
   "outputs": [
    {
     "name": "stdout",
     "output_type": "stream",
     "text": [
      "The autoreload extension is already loaded. To reload it, use:\n",
      "  %reload_ext autoreload\n"
     ]
    }
   ],
   "source": [
    "import pandas as pd\n",
    "import geopandas as gpd\n",
    "import json\n",
    "import numpy as np\n",
    "import datetime\n",
    "import plotly\n",
    "import os\n",
    "from plotly import graph_objects as go\n",
    "pd.set_option('display.max_columns', 50)\n",
    "pd.set_option('display.max_rows', 50)\n",
    "import matplotlib.pyplot as plt\n",
    "plt.rcParams.update({'figure.max_open_warning': 0})\n",
    "\n",
    "%load_ext autoreload\n",
    "\n",
    "from scripts.charts import plot_line, plot_bar, plot_peak, print_charts_country\n",
    "from scripts.features import add_variables_covid, add_variables_apple, join_series_day_since, join_series_date\n",
    "\n",
    "%matplotlib inline"
   ]
  },
  {
   "cell_type": "code",
   "execution_count": 247,
   "metadata": {},
   "outputs": [],
   "source": [
    "# df_orig = pd.read_csv(\"data-processed/rki-reports.csv\")\n",
    "df_apple = pd.read_csv(\"data-processed/data_apple_prepared.csv\")\n",
    "df_rki_orig = pd.read_csv('dash/data/data_rki_apple_prepared_dash.csv')\n",
    "df_jh_world = pd.read_csv('dash/data/data_jhu_world.csv')\n",
    "# df = pd.read_csv(\"dash/data/data_rki_apple_prepared_dash.csv\")\n",
    "df_rki_orig['date']=df_rki_orig['date'].astype('datetime64[ns]')\n",
    "df_rki_orig.index = df_rki_orig.date\n",
    "df_jh_world['date']=df_jh_world['date'].astype('datetime64[ns]')\n",
    "df_jh_world.index = df_jh_world.date"
   ]
  },
  {
   "cell_type": "code",
   "execution_count": 249,
   "metadata": {},
   "outputs": [],
   "source": [
    "# df_rki_orig"
   ]
  },
  {
   "cell_type": "code",
   "execution_count": 194,
   "metadata": {},
   "outputs": [
    {
     "data": {
      "text/plain": [
       "Index(['date_index', 'date', 'land', 'confirmed', 'dead', 'name', 'iso_code',\n",
       "       'capital', 'area', 'population', 'confirmed_avg3', 'confirmed_change',\n",
       "       'confirmed_change_avg3', 'confirmed_change_3w', 'confirmed_change_pct',\n",
       "       'confirmed_change_pct_avg3', 'confirmed_change_pct_3w',\n",
       "       'confirmed_doubling_days', 'confirmed_doubling_days_3w',\n",
       "       'confirmed_doubling_days_avg3', 'confirmed_doubling_days_3w_avg3',\n",
       "       'confirmed_active_cases', 'confirmed_active_cases_change',\n",
       "       'confirmed_peak_log', 'confirmed_peak_date', 'confirmed_day_since_10',\n",
       "       'population_100k', 'confirmed_per_100k', 'confirmed_change_per_100k',\n",
       "       'confirmed_active_cases_per_100k',\n",
       "       'confirmed_active_cases_change_per_100k', 'dead_avg3', 'dead_change',\n",
       "       'dead_change_avg3', 'dead_change_3w', 'dead_change_pct',\n",
       "       'dead_change_pct_avg3', 'dead_change_pct_3w', 'dead_doubling_days',\n",
       "       'dead_doubling_days_3w', 'dead_doubling_days_avg3',\n",
       "       'dead_doubling_days_3w_avg3', 'dead_day_since_10', 'dead_per_100k',\n",
       "       'dead_change_per_100k'],\n",
       "      dtype='object')"
      ]
     },
     "execution_count": 194,
     "metadata": {},
     "output_type": "execute_result"
    }
   ],
   "source": [
    "df_orig.columns"
   ]
  },
  {
   "cell_type": "code",
   "execution_count": 3,
   "metadata": {},
   "outputs": [
    {
     "data": {
      "text/plain": [
       "date\n",
       "2020-03-04      3\n",
       "2020-04-19    585\n",
       "Name: confirmed, dtype: int64"
      ]
     },
     "execution_count": 3,
     "metadata": {},
     "output_type": "execute_result"
    }
   ],
   "source": [
    "l = 'Bremen'\n",
    "column = 'confirmed'\n",
    "peak_index = df.loc[(df.land == l) & (df['confirmed_peak_date'] == -1), column].index.tolist()\n",
    "df.loc[(df.index.isin(peak_index)) & (df.land == l), column]"
   ]
  },
  {
   "cell_type": "code",
   "execution_count": 38,
   "metadata": {},
   "outputs": [],
   "source": [
    "from sklearn.linear_model import LinearRegression\n",
    "from sklearn.preprocessing import MinMaxScaler\n",
    "\n",
    "def findpeak_trend(df):\n",
    "    df_peak_log = df.loc[:, ['confirmed_peak_log']].dropna()\n",
    "    \n",
    "    days_pred_start = 10  # for how long to draw  the trend\n",
    "    days_since_first_peak_start = 7  # how many days to wait since the first outbreak before estimating trend\n",
    "    days_other_peak_starts = 7  # how many days since the second+ outbreak should pass before calculating trend\n",
    "\n",
    "    # is we do not have enough data then exit\n",
    "    if len(df_peak_log) < days_since_first_peak_start:\n",
    "        df['peak_log_trend'] = np.NaN\n",
    "        return df\n",
    "    # find all indixes of outbreak beginnings\n",
    "    peak_indixes = df.loc[df.confirmed_peak_date == -1].index.tolist()\n",
    "    peak_indixes[0] = df_peak_log.index.min()\n",
    "    \n",
    "    # iterate over peak indixes\n",
    "    for i, index in enumerate(peak_indixes):\n",
    "        peak_index = peak_indixes[i]\n",
    "        days_pred = days_pred_start\n",
    "        if i == 0:\n",
    "            # select y values since the beginning of the outbreak till defined number of days\n",
    "            # and take a 3 days moving average for a smother trend\n",
    "            days_add = days_since_first_peak_start\n",
    "            \n",
    "            # If we have two peak starts then the range we take to estmate the first should not be longer than the distance between 1st and 2nd\n",
    "#             if len(peak_indixes) > 1:\n",
    "#                 if days_add < len(df.loc[peak_index:peak_indixes[i+1]]):\n",
    "#                     days_add = len(df.loc[peak_index:peak_indixes[i+1]])\n",
    "#             else:\n",
    "#                 # Else take all the days we have\n",
    "#                 if days_add < len(df):\n",
    "#                     days_add = len(df)\n",
    "                    \n",
    "            y = df_peak_log.loc[df_peak_log.index < peak_index +\n",
    "                       datetime.timedelta(days=days_add), 'confirmed_peak_log'] #.rolling(3).median().dropna()\n",
    "        else:\n",
    "            # for the second+ outbreak use different number of minimum required days\n",
    "            days_add = days_other_peak_starts\n",
    "            # exis if we do not have enough data for an estimation\n",
    "            if len(df.loc[peak_index:peak_index + datetime.timedelta(days=days_add)]) < days_other_peak_starts:\n",
    "                return df\n",
    "            else:\n",
    "                # if we have more data to estimate second peak then use all of it\n",
    "                days_other_peak_starts = len(df.loc[peak_index:df.index.max()])\n",
    "                # if enough data then select y for estimating the trend\n",
    "                y = df_peak_log.loc[(df_peak_log.index < df_peak_log.index.max()) &\n",
    "                           (df_peak_log.index > peak_index), 'confirmed_peak_log'] #.rolling(3).median().dropna()\n",
    "\n",
    "        # calculate X as number of days in Y and reshape to fit in LogReg model\n",
    "        X = (y.index - y.index[0]).days.values.reshape(-1, 1)\n",
    "    \n",
    "        \n",
    "        scaler = MinMaxScaler(feature_range=(0, 1))\n",
    "        X = scaler.fit_transform(X)\n",
    "        \n",
    "        # train LogReg model\n",
    "        reg = LinearRegression().fit(X, y)\n",
    "\n",
    "        # predict/estimate trend for 10, 20 and 30, 35 days forward, exit if the trend crosses 0\n",
    "        for days in [days_pred_start + i for i in [0, 10, 20, 35]]:\n",
    "            X2 = (range(1, days + len(y)) + max(X)[0]).reshape(-1, 1)\n",
    "            X2 = scaler.transform(X2)\n",
    "            trend = reg.predict(X2)\n",
    "            days_pred = days\n",
    "            if min(trend) < 0:\n",
    "                break\n",
    "        \n",
    "        \n",
    "\n",
    "        # prepare y2 dataframe using index as a date range between the last date of y+1\n",
    "        # and last date of y+days_estimated_for\n",
    "        y2_index = pd.date_range(y.index.min() + datetime.timedelta(days=1),\n",
    "                                 y.index.max() + datetime.timedelta(days=days_pred))\n",
    "        y2 = pd.DataFrame(index=y2_index, data=trend, columns=['peak_log_trend'])\n",
    "        \n",
    "        # remove extra negative values (if exist) except the first one (for clarity)\n",
    "        try:\n",
    "            first_negative_val = y2.loc[y2.peak_log_trend < 0].index[0]\n",
    "            y2 = y2.loc[y2.index <= first_negative_val, 'peak_log_trend']\n",
    "        except:\n",
    "            pass\n",
    "        # in case its the first peak simply merge DFs\n",
    "        if i == 0:\n",
    "            df = df.join(y2, how='outer')\n",
    "        # otherwise merge and make sure that we fit all trends in the same column for easy plotting\n",
    "        else:\n",
    "            df = pd.merge(df, y2, left_index=True, right_index=True, how='outer', suffixes=('_x', '_y'))\n",
    "            df['peak_log_trend'] = df.loc[:, ['peak_log_trend_x', 'peak_log_trend_y']].apply(\n",
    "                lambda row: row[0] if pd.isnull(row[0]) == False else row[1], axis=1)\n",
    "            df.drop(['peak_log_trend_x', 'peak_log_trend_y'], axis=1, inplace=True)\n",
    "\n",
    "    return df"
   ]
  },
  {
   "cell_type": "code",
   "execution_count": 54,
   "metadata": {},
   "outputs": [],
   "source": [
    "def add_trend_linear(df, column, date_range, days_add=15):\n",
    "    y = df.loc[(df.index >= date_range[0]) & (df.index <= date_range[1]), column].dropna() #.rolling(3).median().dropna()\n",
    "\n",
    "    # calculate X as number of days in Y and reshape to fit in LogReg model\n",
    "    X = (y.index - y.index[0]).days.values.reshape(-1, 1)\n",
    "\n",
    "    scaler = MinMaxScaler(feature_range=(0, 1))\n",
    "    X = scaler.fit_transform(X)\n",
    "\n",
    "    # train LogReg model\n",
    "    reg = LinearRegression().fit(X, y)\n",
    "\n",
    "    # predict/estimate trend for 10, 20 and 30, 35 days forward, exit if the trend crosses 0\n",
    "    X2 = (range(1, days_add + len(y)) + max(X)[0]).reshape(-1, 1)\n",
    "    X2 = scaler.transform(X2)\n",
    "    trend = reg.predict(X2)\n",
    "    # prepare y2 dataframe using index as a date range between the last date of y+1\n",
    "    # and last date of y+days_estimated_for\n",
    "    y2_index = pd.date_range(y.index.min() + datetime.timedelta(days=1),\n",
    "                             y.index.max() + datetime.timedelta(days=days_add))\n",
    "    y2 = pd.DataFrame(index=y2_index, data=trend, columns=[f'{column}_trend'])\n",
    "    df = df.join(y2, how='outer')\n",
    "    return df"
   ]
  },
  {
   "cell_type": "code",
   "execution_count": 50,
   "metadata": {},
   "outputs": [
    {
     "data": {
      "text/plain": [
       "<matplotlib.axes._subplots.AxesSubplot at 0x1241eff60>"
      ]
     },
     "execution_count": 50,
     "metadata": {},
     "output_type": "execute_result"
    },
    {
     "data": {
      "image/png": "[encoded data removed]",
      "text/plain": [
       "<Figure size 432x288 with 1 Axes>"
      ]
     },
     "metadata": {
      "needs_background": "light"
     },
     "output_type": "display_data"
    },
    {
     "data": {
      "image/png": "[encoded data removed]",
      "text/plain": [
       "<Figure size 432x288 with 1 Axes>"
      ]
     },
     "metadata": {
      "needs_background": "light"
     },
     "output_type": "display_data"
    }
   ],
   "source": [
    "df_ham = df.loc[(df.land == 'Baden-Wuerttemberg')].copy()\n",
    "df_ham.drop('peak_log_trend', axis=1, inplace=True)\n",
    "dd = add_trend_linear(df_ham, 'confirmed_peak_log', ['2020-03-20', '2020-04-05'])\n",
    "dd['active_cases_change'] = dd['confirmed_active_cases'] - dd['confirmed_active_cases'].shift(1)\n",
    "dd.loc[:, ['confirmed_peak_log_trend', 'confirmed_peak_log']].rolling(7).mean().plot(title=l)\n",
    "dd.loc[:, ['active_cases_change']].rolling(7).mean().plot(title=l)"
   ]
  },
  {
   "cell_type": "code",
   "execution_count": 48,
   "metadata": {},
   "outputs": [
    {
     "data": {
      "text/plain": [
       "array(['Baden-Wuerttemberg', 'Bavaria', 'Berlin', 'Brandenburg', 'Bremen',\n",
       "       'Hamburg', 'Hesse', 'Lower Saxony',\n",
       "       'Mecklenburg-Western Pomerania', 'North Rhine-Westphalia',\n",
       "       'Rhineland-Palatinate', 'Saarland', 'Saxony', 'Saxony-Anhalt',\n",
       "       'Schleswig-Holstein', 'Thuringia'], dtype=object)"
      ]
     },
     "execution_count": 48,
     "metadata": {},
     "output_type": "execute_result"
    }
   ],
   "source": [
    "df.land.unique()"
   ]
  },
  {
   "cell_type": "code",
   "execution_count": 195,
   "metadata": {},
   "outputs": [],
   "source": [
    "# for l in df.land.unique():\n",
    "#     df_ham = df.loc[df.land == l].copy()\n",
    "#     df_ham.drop('peak_log_trend', axis=1, inplace=True)\n",
    "#     dd = findpeak_trend(df_ham)\n",
    "#     dd['active_cases_change'] = dd['confirmed_active_cases'] - dd['confirmed_active_cases'].shift(1)\n",
    "#     dd.loc[:, ['peak_log_trend', 'confirmed_peak_log']].rolling(7).mean().plot(title=l)\n",
    "#     dd.loc[:, ['active_cases_change', 'confirmed_change']].rolling(7).mean().plot(title=l)\n",
    "#     dd.loc[:, ['confirmed_active_cases']].rolling(7).mean().plot(title=l)"
   ]
  },
  {
   "cell_type": "code",
   "execution_count": 196,
   "metadata": {},
   "outputs": [],
   "source": [
    "# import matplotlib.pyplot as plt\n",
    "# plt.close('all')"
   ]
  },
  {
   "cell_type": "code",
   "execution_count": 8,
   "metadata": {},
   "outputs": [],
   "source": [
    "from fbprophet import Prophet\n",
    "import datetime\n",
    "import pandas as pd\n",
    "\n",
    "\n",
    "def add_forecast_prophet(df_in, column, window=60, ):\n",
    "    df = df_in.loc[:, [column]].dropna()\n",
    "    df['ds'] = df.index\n",
    "    df.columns = ['y', 'ds']\n",
    "    m = Prophet(weekly_seasonality=False, daily_seasonality=False, yearly_seasonality=False)\n",
    "    m.fit(df)\n",
    "    future = m.make_future_dataframe(periods=window)\n",
    "    forecast = m.predict(future)\n",
    "    forecast.set_index(forecast.ds, inplace=True)\n",
    "    forecast = forecast.loc[:, ['yhat', 'yhat_lower', 'yhat_upper']]\n",
    "    df_extra_dates = pd.DataFrame(\n",
    "        {'day': pd.Series([max(df_in.index) + datetime.timedelta(1), max(df_in.index) + datetime.timedelta(window)])})\n",
    "    df_extra_dates.set_index('day', inplace=True)\n",
    "    df_extra_dates = df_extra_dates.asfreq('D')\n",
    "    df_in = df_in.append(df_extra_dates)\n",
    "    df_result = pd.concat([df_in, forecast], axis=1)\n",
    "    df_result[f'peak_log_trend'] = df_result.loc[df_result[column].isnull() == True, ['yhat']]\n",
    "\n",
    "    return df_result\n"
   ]
  },
  {
   "cell_type": "code",
   "execution_count": null,
   "metadata": {},
   "outputs": [],
   "source": [
    "# dd2 = add_forecast_prophet(df_ham, 'confirmed_peak_log')"
   ]
  },
  {
   "cell_type": "code",
   "execution_count": null,
   "metadata": {},
   "outputs": [],
   "source": [
    "# dd2"
   ]
  },
  {
   "cell_type": "code",
   "execution_count": null,
   "metadata": {},
   "outputs": [],
   "source": [
    "# dd2.loc[:, ['peak_log_trend', 'confirmed_peak_log']].plot()"
   ]
  },
  {
   "cell_type": "code",
   "execution_count": 116,
   "metadata": {},
   "outputs": [],
   "source": [
    "import warnings\n",
    "warnings.filterwarnings(\"ignore\")\n",
    "def add_trend_arima(df, column, date_range,  days_add=15, start=None):\n",
    "    if start == None:\n",
    "        start = df.index.max().date()\n",
    "    y = df.loc[(df.index >= date_range[0]) & (df.index <= date_range[1]), column].dropna() #.rolling(3).median().dropna()\n",
    "\n",
    "    # calculate X as number of days in Y and reshape to fit in LogReg model\n",
    "    X = (y.index - y.index[0]).days.values.reshape(-1, 1)\n",
    "\n",
    "    scaler = MinMaxScaler(feature_range=(0, 1))\n",
    "    X = scaler.fit_transform(X)\n",
    "\n",
    "    # train LogReg model\n",
    "    import statsmodels.api as sm\n",
    "    mod = sm.tsa.statespace.SARIMAX(y,\n",
    "#                                     order=(0, 0, 0),\n",
    "#                                     seasonal_order=(0,0,0,0),\n",
    "                                enforce_stationarity=False,\n",
    "                                enforce_invertibility=False)\n",
    "\n",
    "    results = mod.fit()\n",
    "    \n",
    "    pred_dynamic = results.get_prediction(start=pd.to_datetime(start), dynamic=True, full_results=True)\n",
    "    pred_dynamic_ci = pred_dynamic.conf_int()\n",
    "    y2 = pred_dynamic.predicted_mean\n",
    "    y2.rename(f'{column}_trend', inplace=True)\n",
    "    y2.columns = [f'{column}_trend']\n",
    "    \n",
    "    # Get forecast 500 steps ahead in future\n",
    "    pred_uc = results.get_forecast(steps=days_add)\n",
    "    pred_uc = pred_uc.predicted_mean\n",
    "    pred_uc.rename(f'{column}_trend', inplace=True)\n",
    "    pred_uc.columns = [f'{column}_trend']\n",
    "    \n",
    "#     print(y2,\"\\n\")\n",
    "#     print(pred_uc,\"\\n\")\n",
    "    \n",
    "    print(results.summary().tables[1])\n",
    "#     results.plot_diagnostics(figsize=(15, 12))\n",
    "#     plt.show()\n",
    "\n",
    "    df = df.join(y2, how='outer')\n",
    "    df = pd.merge(df, pred_uc, left_index=True, right_index=True, how='outer', suffixes=('_x', '_y'))\n",
    "    df[f'{column}_trend'] = df.loc[:, [f'{column}_trend_x', f'{column}_trend_y']].apply(\n",
    "            lambda row: row[0] if pd.isnull(row[0]) == False else row[1], axis=1)\n",
    "    df.drop([f'{column}_trend_x', f'{column}_trend_y'], axis=1, inplace=True)\n",
    "\n",
    "    return df\n"
   ]
  },
  {
   "cell_type": "code",
   "execution_count": 117,
   "metadata": {},
   "outputs": [
    {
     "name": "stdout",
     "output_type": "stream",
     "text": [
      "==============================================================================\n",
      "                 coef    std err          z      P>|z|      [0.025      0.975]\n",
      "------------------------------------------------------------------------------\n",
      "ar.L1          0.9633      0.017     55.800      0.000       0.929       0.997\n",
      "sigma2         0.0214      0.011      1.939      0.052      -0.000       0.043\n",
      "==============================================================================\n"
     ]
    },
    {
     "data": {
      "text/plain": [
       "<matplotlib.axes._subplots.AxesSubplot at 0x12519ee10>"
      ]
     },
     "execution_count": 117,
     "metadata": {},
     "output_type": "execute_result"
    },
    {
     "data": {
      "image/png": "[encoded data removed]",
      "text/plain": [
       "<Figure size 432x288 with 1 Axes>"
      ]
     },
     "metadata": {
      "needs_background": "light"
     },
     "output_type": "display_data"
    }
   ],
   "source": [
    "df_ham = df.loc[(df.land == 'Baden-Wuerttemberg')].copy()\n",
    "df_ham.drop('peak_log_trend', axis=1, inplace=True)\n",
    "dd = add_trend_arima(df_ham, 'confirmed_peak_log', ['2020-03-04', '2020-04-01'], start='2020-03-25')\n",
    "dd.loc[:, ['confirmed_peak_log_trend', 'confirmed_peak_log']].rolling(7).mean().plot(title=l)"
   ]
  },
  {
   "cell_type": "code",
   "execution_count": 122,
   "metadata": {},
   "outputs": [
    {
     "name": "stdout",
     "output_type": "stream",
     "text": [
      "==============================================================================\n",
      "                 coef    std err          z      P>|z|      [0.025      0.975]\n",
      "------------------------------------------------------------------------------\n",
      "ar.L1          0.5376      0.103      5.233      0.000       0.336       0.739\n",
      "sigma2      9343.6318    875.467     10.673      0.000    7627.747    1.11e+04\n",
      "==============================================================================\n"
     ]
    },
    {
     "data": {
      "text/plain": [
       "<matplotlib.axes._subplots.AxesSubplot at 0x125759cc0>"
      ]
     },
     "execution_count": 122,
     "metadata": {},
     "output_type": "execute_result"
    },
    {
     "data": {
      "image/png": "[encoded data removed]",
      "text/plain": [
       "<Figure size 432x288 with 1 Axes>"
      ]
     },
     "metadata": {
      "needs_background": "light"
     },
     "output_type": "display_data"
    }
   ],
   "source": [
    "land = 'Hamburg'\n",
    "column = 'confirmed_change'\n",
    "df_ham = df.loc[(df.land == land)].copy()\n",
    "# df_ham.drop('peak_log_trend', axis=1, inplace=True)\n",
    "dd = add_trend_arima(df_ham, column, ['2020-03-04', '2020-05-01'], start='2020-04-01')\n",
    "dd.loc[:, [f'{column}_trend', column]].rolling(7).mean().plot(title=l)"
   ]
  },
  {
   "cell_type": "code",
   "execution_count": 162,
   "metadata": {},
   "outputs": [
    {
     "data": {
      "text/plain": [
       "Index(['state', 'land', 'lat', 'lng', 'iso_code', 'date', 'confirmed',\n",
       "       'confirmed_avg3', 'confirmed_change', 'confirmed_change_avg3',\n",
       "       'confirmed_change_3w', 'confirmed_change_pct',\n",
       "       'confirmed_change_pct_avg3', 'confirmed_change_pct_3w',\n",
       "       'confirmed_doubling_days', 'confirmed_doubling_days_3w',\n",
       "       'confirmed_doubling_days_avg3', 'confirmed_doubling_days_3w_avg3',\n",
       "       'confirmed_active_cases', 'confirmed_active_cases_change',\n",
       "       'confirmed_peak_log', 'confirmed_peak_date', 'confirmed_day_since_10',\n",
       "       'population_100k', 'confirmed_per_100k', 'confirmed_change_per_100k',\n",
       "       'confirmed_active_cases_per_100k',\n",
       "       'confirmed_active_cases_change_per_100k', 'dead', 'dead_avg3',\n",
       "       'dead_change', 'dead_change_avg3', 'dead_change_3w', 'dead_change_pct',\n",
       "       'dead_change_pct_avg3', 'dead_change_pct_3w', 'dead_doubling_days',\n",
       "       'dead_doubling_days_3w', 'dead_doubling_days_avg3',\n",
       "       'dead_doubling_days_3w_avg3', 'dead_day_since_10', 'dead_per_100k',\n",
       "       'dead_change_per_100k', 'region_wb', 'population_wb'],\n",
       "      dtype='object')"
      ]
     },
     "execution_count": 162,
     "metadata": {},
     "output_type": "execute_result"
    }
   ],
   "source": [
    "df_jh_world.columns"
   ]
  },
  {
   "cell_type": "code",
   "execution_count": 161,
   "metadata": {},
   "outputs": [],
   "source": [
    "# sorted(df_jh_world.round(3)['confirmed_change_per_100k'], reverse=True)"
   ]
  },
  {
   "cell_type": "code",
   "execution_count": 143,
   "metadata": {},
   "outputs": [],
   "source": [
    "df_rki_orig['date'] = df_rki_orig['date'].astype('datetime64[ns]')"
   ]
  },
  {
   "cell_type": "code",
   "execution_count": 141,
   "metadata": {},
   "outputs": [],
   "source": [
    "selected_colum = 'confirmed'\n",
    "\n",
    "ro = df_rki_orig.groupby('land').rolling(7, on='date').mean().reset_index(drop=False).loc[:,\n",
    "         ['date', 'land', selected_colum]]\n",
    "df = df_rki_orig.merge(ro, on=['date', 'land'], suffixes=('', '_weekly')).round(3)"
   ]
  },
  {
   "cell_type": "code",
   "execution_count": 200,
   "metadata": {},
   "outputs": [
    {
     "data": {
      "text/html": [
       "<div>\n",
       "<style scoped>\n",
       "    .dataframe tbody tr th:only-of-type {\n",
       "        vertical-align: middle;\n",
       "    }\n",
       "\n",
       "    .dataframe tbody tr th {\n",
       "        vertical-align: top;\n",
       "    }\n",
       "\n",
       "    .dataframe thead th {\n",
       "        text-align: right;\n",
       "    }\n",
       "</style>\n",
       "<table border=\"1\" class=\"dataframe\">\n",
       "  <thead>\n",
       "    <tr style=\"text-align: right;\">\n",
       "      <th></th>\n",
       "      <th>date_index</th>\n",
       "      <th>geo_type</th>\n",
       "      <th>region</th>\n",
       "      <th>alternative_name</th>\n",
       "      <th>sub-region</th>\n",
       "      <th>country</th>\n",
       "      <th>date</th>\n",
       "      <th>driving</th>\n",
       "      <th>transit</th>\n",
       "      <th>walking</th>\n",
       "    </tr>\n",
       "  </thead>\n",
       "  <tbody>\n",
       "    <tr>\n",
       "      <th>0</th>\n",
       "      <td>2020-01-13</td>\n",
       "      <td>city</td>\n",
       "      <td>Aachen</td>\n",
       "      <td>NaN</td>\n",
       "      <td>North Rhine-Westphalia</td>\n",
       "      <td>Germany</td>\n",
       "      <td>2020-01-13</td>\n",
       "      <td>100.0</td>\n",
       "      <td>NaN</td>\n",
       "      <td>100.0</td>\n",
       "    </tr>\n",
       "  </tbody>\n",
       "</table>\n",
       "</div>"
      ],
      "text/plain": [
       "   date_index geo_type  region alternative_name              sub-region  \\\n",
       "0  2020-01-13     city  Aachen              NaN  North Rhine-Westphalia   \n",
       "\n",
       "   country        date  driving  transit  walking  \n",
       "0  Germany  2020-01-13    100.0      NaN    100.0  "
      ]
     },
     "execution_count": 200,
     "metadata": {},
     "output_type": "execute_result"
    }
   ],
   "source": [
    "df_apple.head(1)"
   ]
  },
  {
   "cell_type": "code",
   "execution_count": 201,
   "metadata": {},
   "outputs": [
    {
     "data": {
      "text/html": [
       "<div>\n",
       "<style scoped>\n",
       "    .dataframe tbody tr th:only-of-type {\n",
       "        vertical-align: middle;\n",
       "    }\n",
       "\n",
       "    .dataframe tbody tr th {\n",
       "        vertical-align: top;\n",
       "    }\n",
       "\n",
       "    .dataframe thead th {\n",
       "        text-align: right;\n",
       "    }\n",
       "</style>\n",
       "<table border=\"1\" class=\"dataframe\">\n",
       "  <thead>\n",
       "    <tr style=\"text-align: right;\">\n",
       "      <th></th>\n",
       "      <th>land</th>\n",
       "      <th>iso_code</th>\n",
       "      <th>date</th>\n",
       "      <th>confirmed</th>\n",
       "      <th>confirmed_change</th>\n",
       "      <th>confirmed_change_pct_3w</th>\n",
       "      <th>confirmed_doubling_days_3w_avg3</th>\n",
       "      <th>confirmed_active_cases</th>\n",
       "      <th>confirmed_active_cases_change</th>\n",
       "      <th>confirmed_peak_date</th>\n",
       "      <th>population_100k</th>\n",
       "      <th>confirmed_per_100k</th>\n",
       "      <th>confirmed_change_per_100k</th>\n",
       "      <th>confirmed_active_cases_per_100k</th>\n",
       "      <th>dead</th>\n",
       "      <th>dead_change</th>\n",
       "      <th>dead_doubling_days</th>\n",
       "      <th>lethality</th>\n",
       "      <th>dead_per_100k</th>\n",
       "      <th>dead_change_per_100k</th>\n",
       "      <th>region_wb</th>\n",
       "    </tr>\n",
       "    <tr>\n",
       "      <th>date</th>\n",
       "      <th></th>\n",
       "      <th></th>\n",
       "      <th></th>\n",
       "      <th></th>\n",
       "      <th></th>\n",
       "      <th></th>\n",
       "      <th></th>\n",
       "      <th></th>\n",
       "      <th></th>\n",
       "      <th></th>\n",
       "      <th></th>\n",
       "      <th></th>\n",
       "      <th></th>\n",
       "      <th></th>\n",
       "      <th></th>\n",
       "      <th></th>\n",
       "      <th></th>\n",
       "      <th></th>\n",
       "      <th></th>\n",
       "      <th></th>\n",
       "      <th></th>\n",
       "    </tr>\n",
       "  </thead>\n",
       "  <tbody>\n",
       "    <tr>\n",
       "      <th>2020-02-24</th>\n",
       "      <td>Afghanistan</td>\n",
       "      <td>AFG</td>\n",
       "      <td>2020-02-24</td>\n",
       "      <td>1.0</td>\n",
       "      <td>NaN</td>\n",
       "      <td>NaN</td>\n",
       "      <td>NaN</td>\n",
       "      <td>NaN</td>\n",
       "      <td>NaN</td>\n",
       "      <td>-1</td>\n",
       "      <td>371.72</td>\n",
       "      <td>0.00269</td>\n",
       "      <td>NaN</td>\n",
       "      <td>NaN</td>\n",
       "      <td>NaN</td>\n",
       "      <td>NaN</td>\n",
       "      <td>0.0</td>\n",
       "      <td>NaN</td>\n",
       "      <td>NaN</td>\n",
       "      <td>NaN</td>\n",
       "      <td>South Asia</td>\n",
       "    </tr>\n",
       "  </tbody>\n",
       "</table>\n",
       "</div>"
      ],
      "text/plain": [
       "                   land iso_code       date  confirmed  confirmed_change  \\\n",
       "date                                                                       \n",
       "2020-02-24  Afghanistan      AFG 2020-02-24        1.0               NaN   \n",
       "\n",
       "            confirmed_change_pct_3w  confirmed_doubling_days_3w_avg3  \\\n",
       "date                                                                   \n",
       "2020-02-24                      NaN                              NaN   \n",
       "\n",
       "            confirmed_active_cases  confirmed_active_cases_change  \\\n",
       "date                                                                \n",
       "2020-02-24                     NaN                            NaN   \n",
       "\n",
       "            confirmed_peak_date  population_100k  confirmed_per_100k  \\\n",
       "date                                                                   \n",
       "2020-02-24                   -1           371.72             0.00269   \n",
       "\n",
       "            confirmed_change_per_100k  confirmed_active_cases_per_100k  dead  \\\n",
       "date                                                                           \n",
       "2020-02-24                        NaN                              NaN   NaN   \n",
       "\n",
       "            dead_change  dead_doubling_days  lethality  dead_per_100k  \\\n",
       "date                                                                    \n",
       "2020-02-24          NaN                 0.0        NaN            NaN   \n",
       "\n",
       "            dead_change_per_100k   region_wb  \n",
       "date                                          \n",
       "2020-02-24                   NaN  South Asia  "
      ]
     },
     "execution_count": 201,
     "metadata": {},
     "output_type": "execute_result"
    }
   ],
   "source": [
    "df_jh_world.head(1)"
   ]
  },
  {
   "cell_type": "code",
   "execution_count": 203,
   "metadata": {},
   "outputs": [
    {
     "data": {
      "text/plain": [
       "186"
      ]
     },
     "execution_count": 203,
     "metadata": {},
     "output_type": "execute_result"
    }
   ],
   "source": [
    "len(df_jh_world.land.unique())"
   ]
  },
  {
   "cell_type": "code",
   "execution_count": 204,
   "metadata": {},
   "outputs": [
    {
     "data": {
      "text/plain": [
       "48"
      ]
     },
     "execution_count": 204,
     "metadata": {},
     "output_type": "execute_result"
    }
   ],
   "source": [
    "len(df_apple.country.unique())"
   ]
  },
  {
   "cell_type": "code",
   "execution_count": 220,
   "metadata": {},
   "outputs": [],
   "source": [
    "df_apple['country'] = df_apple['country'].replace()"
   ]
  },
  {
   "cell_type": "code",
   "execution_count": 221,
   "metadata": {},
   "outputs": [
    {
     "data": {
      "text/plain": [
       "['Germany',\n",
       " 'US',\n",
       " 'Italy',\n",
       " 'Australia',\n",
       " 'Norway',\n",
       " 'Mexico',\n",
       " 'Japan',\n",
       " 'Brazil',\n",
       " 'Canada',\n",
       " 'France',\n",
       " 'Netherlands',\n",
       " 'Spain',\n",
       " 'Thailand',\n",
       " 'Turkey',\n",
       " 'Chile',\n",
       " 'Belgium',\n",
       " 'Greece',\n",
       " 'New Zealand',\n",
       " 'United Kingdom',\n",
       " 'India',\n",
       " 'Slovakia',\n",
       " 'Hungary',\n",
       " 'Switzerland',\n",
       " 'Sweden',\n",
       " 'Romania',\n",
       " 'Argentina',\n",
       " 'Austria',\n",
       " 'Korea, South',\n",
       " 'Egypt',\n",
       " 'South Africa',\n",
       " 'Denmark',\n",
       " 'Morocco',\n",
       " 'Czechia',\n",
       " 'Israel',\n",
       " 'Finland',\n",
       " 'Taiwan*',\n",
       " 'Ireland',\n",
       " 'Indonesia',\n",
       " 'Luxembourg',\n",
       " 'United Arab Emirates',\n",
       " 'Poland',\n",
       " 'Vietnam',\n",
       " 'Malaysia',\n",
       " 'Russia',\n",
       " 'Portugal',\n",
       " 'Philippines',\n",
       " 'Saudi Arabia']"
      ]
     },
     "execution_count": 221,
     "metadata": {},
     "output_type": "execute_result"
    }
   ],
   "source": [
    "list(df_apple.loc[df_apple.country.isin(df_jh_world.land.unique()), 'country'].unique())"
   ]
  },
  {
   "cell_type": "code",
   "execution_count": 222,
   "metadata": {},
   "outputs": [
    {
     "data": {
      "text/plain": [
       "[nan]"
      ]
     },
     "execution_count": 222,
     "metadata": {},
     "output_type": "execute_result"
    }
   ],
   "source": [
    "list(df_apple.loc[~df_apple.country.isin(df_jh_world.land.unique()), 'country'].unique())"
   ]
  },
  {
   "cell_type": "code",
   "execution_count": null,
   "metadata": {},
   "outputs": [],
   "source": [
    "{'United States': 'US', 'Republic of Korea', 'Korea, South', 'Czech Republic': 'Czechia', 'Taiwan': 'Taiwan*'}"
   ]
  },
  {
   "cell_type": "code",
   "execution_count": 213,
   "metadata": {},
   "outputs": [
    {
     "data": {
      "text/html": [
       "<div>\n",
       "<style scoped>\n",
       "    .dataframe tbody tr th:only-of-type {\n",
       "        vertical-align: middle;\n",
       "    }\n",
       "\n",
       "    .dataframe tbody tr th {\n",
       "        vertical-align: top;\n",
       "    }\n",
       "\n",
       "    .dataframe thead th {\n",
       "        text-align: right;\n",
       "    }\n",
       "</style>\n",
       "<table border=\"1\" class=\"dataframe\">\n",
       "  <thead>\n",
       "    <tr style=\"text-align: right;\">\n",
       "      <th></th>\n",
       "      <th>land</th>\n",
       "      <th>iso_code</th>\n",
       "      <th>date</th>\n",
       "      <th>confirmed</th>\n",
       "      <th>confirmed_change</th>\n",
       "      <th>confirmed_change_pct_3w</th>\n",
       "      <th>confirmed_doubling_days_3w_avg3</th>\n",
       "      <th>confirmed_active_cases</th>\n",
       "      <th>confirmed_active_cases_change</th>\n",
       "      <th>confirmed_peak_date</th>\n",
       "      <th>population_100k</th>\n",
       "      <th>confirmed_per_100k</th>\n",
       "      <th>confirmed_change_per_100k</th>\n",
       "      <th>confirmed_active_cases_per_100k</th>\n",
       "      <th>dead</th>\n",
       "      <th>dead_change</th>\n",
       "      <th>dead_doubling_days</th>\n",
       "      <th>lethality</th>\n",
       "      <th>dead_per_100k</th>\n",
       "      <th>dead_change_per_100k</th>\n",
       "      <th>region_wb</th>\n",
       "    </tr>\n",
       "    <tr>\n",
       "      <th>date</th>\n",
       "      <th></th>\n",
       "      <th></th>\n",
       "      <th></th>\n",
       "      <th></th>\n",
       "      <th></th>\n",
       "      <th></th>\n",
       "      <th></th>\n",
       "      <th></th>\n",
       "      <th></th>\n",
       "      <th></th>\n",
       "      <th></th>\n",
       "      <th></th>\n",
       "      <th></th>\n",
       "      <th></th>\n",
       "      <th></th>\n",
       "      <th></th>\n",
       "      <th></th>\n",
       "      <th></th>\n",
       "      <th></th>\n",
       "      <th></th>\n",
       "      <th></th>\n",
       "    </tr>\n",
       "  </thead>\n",
       "  <tbody>\n",
       "    <tr>\n",
       "      <th>2020-01-22</th>\n",
       "      <td>Taiwan*</td>\n",
       "      <td>TWN</td>\n",
       "      <td>2020-01-22</td>\n",
       "      <td>1.0</td>\n",
       "      <td>NaN</td>\n",
       "      <td>NaN</td>\n",
       "      <td>NaN</td>\n",
       "      <td>NaN</td>\n",
       "      <td>NaN</td>\n",
       "      <td>-1</td>\n",
       "      <td>NaN</td>\n",
       "      <td>NaN</td>\n",
       "      <td>NaN</td>\n",
       "      <td>NaN</td>\n",
       "      <td>NaN</td>\n",
       "      <td>NaN</td>\n",
       "      <td>0.0</td>\n",
       "      <td>NaN</td>\n",
       "      <td>NaN</td>\n",
       "      <td>NaN</td>\n",
       "      <td>East Asia &amp; Pacific</td>\n",
       "    </tr>\n",
       "    <tr>\n",
       "      <th>2020-01-23</th>\n",
       "      <td>Taiwan*</td>\n",
       "      <td>TWN</td>\n",
       "      <td>2020-01-23</td>\n",
       "      <td>1.0</td>\n",
       "      <td>0.0</td>\n",
       "      <td>NaN</td>\n",
       "      <td>NaN</td>\n",
       "      <td>NaN</td>\n",
       "      <td>NaN</td>\n",
       "      <td>0</td>\n",
       "      <td>NaN</td>\n",
       "      <td>NaN</td>\n",
       "      <td>NaN</td>\n",
       "      <td>NaN</td>\n",
       "      <td>NaN</td>\n",
       "      <td>NaN</td>\n",
       "      <td>0.0</td>\n",
       "      <td>NaN</td>\n",
       "      <td>NaN</td>\n",
       "      <td>NaN</td>\n",
       "      <td>East Asia &amp; Pacific</td>\n",
       "    </tr>\n",
       "    <tr>\n",
       "      <th>2020-01-24</th>\n",
       "      <td>Taiwan*</td>\n",
       "      <td>TWN</td>\n",
       "      <td>2020-01-24</td>\n",
       "      <td>3.0</td>\n",
       "      <td>2.0</td>\n",
       "      <td>NaN</td>\n",
       "      <td>0.0</td>\n",
       "      <td>NaN</td>\n",
       "      <td>NaN</td>\n",
       "      <td>0</td>\n",
       "      <td>NaN</td>\n",
       "      <td>NaN</td>\n",
       "      <td>NaN</td>\n",
       "      <td>NaN</td>\n",
       "      <td>NaN</td>\n",
       "      <td>NaN</td>\n",
       "      <td>0.0</td>\n",
       "      <td>NaN</td>\n",
       "      <td>NaN</td>\n",
       "      <td>NaN</td>\n",
       "      <td>East Asia &amp; Pacific</td>\n",
       "    </tr>\n",
       "    <tr>\n",
       "      <th>2020-01-25</th>\n",
       "      <td>Taiwan*</td>\n",
       "      <td>TWN</td>\n",
       "      <td>2020-01-25</td>\n",
       "      <td>3.0</td>\n",
       "      <td>0.0</td>\n",
       "      <td>NaN</td>\n",
       "      <td>0.0</td>\n",
       "      <td>NaN</td>\n",
       "      <td>NaN</td>\n",
       "      <td>0</td>\n",
       "      <td>NaN</td>\n",
       "      <td>NaN</td>\n",
       "      <td>NaN</td>\n",
       "      <td>NaN</td>\n",
       "      <td>NaN</td>\n",
       "      <td>NaN</td>\n",
       "      <td>0.0</td>\n",
       "      <td>NaN</td>\n",
       "      <td>NaN</td>\n",
       "      <td>NaN</td>\n",
       "      <td>East Asia &amp; Pacific</td>\n",
       "    </tr>\n",
       "    <tr>\n",
       "      <th>2020-01-26</th>\n",
       "      <td>Taiwan*</td>\n",
       "      <td>TWN</td>\n",
       "      <td>2020-01-26</td>\n",
       "      <td>4.0</td>\n",
       "      <td>1.0</td>\n",
       "      <td>NaN</td>\n",
       "      <td>0.0</td>\n",
       "      <td>NaN</td>\n",
       "      <td>NaN</td>\n",
       "      <td>0</td>\n",
       "      <td>NaN</td>\n",
       "      <td>NaN</td>\n",
       "      <td>NaN</td>\n",
       "      <td>NaN</td>\n",
       "      <td>NaN</td>\n",
       "      <td>NaN</td>\n",
       "      <td>0.0</td>\n",
       "      <td>NaN</td>\n",
       "      <td>NaN</td>\n",
       "      <td>NaN</td>\n",
       "      <td>East Asia &amp; Pacific</td>\n",
       "    </tr>\n",
       "    <tr>\n",
       "      <th>...</th>\n",
       "      <td>...</td>\n",
       "      <td>...</td>\n",
       "      <td>...</td>\n",
       "      <td>...</td>\n",
       "      <td>...</td>\n",
       "      <td>...</td>\n",
       "      <td>...</td>\n",
       "      <td>...</td>\n",
       "      <td>...</td>\n",
       "      <td>...</td>\n",
       "      <td>...</td>\n",
       "      <td>...</td>\n",
       "      <td>...</td>\n",
       "      <td>...</td>\n",
       "      <td>...</td>\n",
       "      <td>...</td>\n",
       "      <td>...</td>\n",
       "      <td>...</td>\n",
       "      <td>...</td>\n",
       "      <td>...</td>\n",
       "      <td>...</td>\n",
       "    </tr>\n",
       "    <tr>\n",
       "      <th>2020-05-20</th>\n",
       "      <td>Taiwan*</td>\n",
       "      <td>TWN</td>\n",
       "      <td>2020-05-20</td>\n",
       "      <td>440.0</td>\n",
       "      <td>0.0</td>\n",
       "      <td>0.00</td>\n",
       "      <td>100.0</td>\n",
       "      <td>0.0</td>\n",
       "      <td>0.0</td>\n",
       "      <td>0</td>\n",
       "      <td>NaN</td>\n",
       "      <td>NaN</td>\n",
       "      <td>NaN</td>\n",
       "      <td>NaN</td>\n",
       "      <td>7.0</td>\n",
       "      <td>0.0</td>\n",
       "      <td>100.0</td>\n",
       "      <td>0.0</td>\n",
       "      <td>NaN</td>\n",
       "      <td>NaN</td>\n",
       "      <td>East Asia &amp; Pacific</td>\n",
       "    </tr>\n",
       "    <tr>\n",
       "      <th>2020-05-21</th>\n",
       "      <td>Taiwan*</td>\n",
       "      <td>TWN</td>\n",
       "      <td>2020-05-21</td>\n",
       "      <td>440.0</td>\n",
       "      <td>0.0</td>\n",
       "      <td>0.00</td>\n",
       "      <td>100.0</td>\n",
       "      <td>0.0</td>\n",
       "      <td>0.0</td>\n",
       "      <td>0</td>\n",
       "      <td>NaN</td>\n",
       "      <td>NaN</td>\n",
       "      <td>NaN</td>\n",
       "      <td>NaN</td>\n",
       "      <td>7.0</td>\n",
       "      <td>0.0</td>\n",
       "      <td>100.0</td>\n",
       "      <td>0.0</td>\n",
       "      <td>NaN</td>\n",
       "      <td>NaN</td>\n",
       "      <td>East Asia &amp; Pacific</td>\n",
       "    </tr>\n",
       "    <tr>\n",
       "      <th>2020-05-22</th>\n",
       "      <td>Taiwan*</td>\n",
       "      <td>TWN</td>\n",
       "      <td>2020-05-22</td>\n",
       "      <td>441.0</td>\n",
       "      <td>1.0</td>\n",
       "      <td>9.09</td>\n",
       "      <td>75.0</td>\n",
       "      <td>1.0</td>\n",
       "      <td>1.0</td>\n",
       "      <td>0</td>\n",
       "      <td>NaN</td>\n",
       "      <td>NaN</td>\n",
       "      <td>NaN</td>\n",
       "      <td>NaN</td>\n",
       "      <td>7.0</td>\n",
       "      <td>0.0</td>\n",
       "      <td>100.0</td>\n",
       "      <td>0.0</td>\n",
       "      <td>NaN</td>\n",
       "      <td>NaN</td>\n",
       "      <td>East Asia &amp; Pacific</td>\n",
       "    </tr>\n",
       "    <tr>\n",
       "      <th>2020-05-23</th>\n",
       "      <td>Taiwan*</td>\n",
       "      <td>TWN</td>\n",
       "      <td>2020-05-23</td>\n",
       "      <td>441.0</td>\n",
       "      <td>0.0</td>\n",
       "      <td>0.00</td>\n",
       "      <td>50.0</td>\n",
       "      <td>1.0</td>\n",
       "      <td>0.0</td>\n",
       "      <td>0</td>\n",
       "      <td>NaN</td>\n",
       "      <td>NaN</td>\n",
       "      <td>NaN</td>\n",
       "      <td>NaN</td>\n",
       "      <td>7.0</td>\n",
       "      <td>0.0</td>\n",
       "      <td>100.0</td>\n",
       "      <td>0.0</td>\n",
       "      <td>NaN</td>\n",
       "      <td>NaN</td>\n",
       "      <td>East Asia &amp; Pacific</td>\n",
       "    </tr>\n",
       "    <tr>\n",
       "      <th>2020-05-24</th>\n",
       "      <td>Taiwan*</td>\n",
       "      <td>TWN</td>\n",
       "      <td>2020-05-24</td>\n",
       "      <td>441.0</td>\n",
       "      <td>0.0</td>\n",
       "      <td>0.00</td>\n",
       "      <td>75.0</td>\n",
       "      <td>1.0</td>\n",
       "      <td>0.0</td>\n",
       "      <td>0</td>\n",
       "      <td>NaN</td>\n",
       "      <td>NaN</td>\n",
       "      <td>NaN</td>\n",
       "      <td>NaN</td>\n",
       "      <td>7.0</td>\n",
       "      <td>0.0</td>\n",
       "      <td>100.0</td>\n",
       "      <td>0.0</td>\n",
       "      <td>NaN</td>\n",
       "      <td>NaN</td>\n",
       "      <td>East Asia &amp; Pacific</td>\n",
       "    </tr>\n",
       "  </tbody>\n",
       "</table>\n",
       "<p>124 rows × 21 columns</p>\n",
       "</div>"
      ],
      "text/plain": [
       "               land iso_code       date  confirmed  confirmed_change  \\\n",
       "date                                                                   \n",
       "2020-01-22  Taiwan*      TWN 2020-01-22        1.0               NaN   \n",
       "2020-01-23  Taiwan*      TWN 2020-01-23        1.0               0.0   \n",
       "2020-01-24  Taiwan*      TWN 2020-01-24        3.0               2.0   \n",
       "2020-01-25  Taiwan*      TWN 2020-01-25        3.0               0.0   \n",
       "2020-01-26  Taiwan*      TWN 2020-01-26        4.0               1.0   \n",
       "...             ...      ...        ...        ...               ...   \n",
       "2020-05-20  Taiwan*      TWN 2020-05-20      440.0               0.0   \n",
       "2020-05-21  Taiwan*      TWN 2020-05-21      440.0               0.0   \n",
       "2020-05-22  Taiwan*      TWN 2020-05-22      441.0               1.0   \n",
       "2020-05-23  Taiwan*      TWN 2020-05-23      441.0               0.0   \n",
       "2020-05-24  Taiwan*      TWN 2020-05-24      441.0               0.0   \n",
       "\n",
       "            confirmed_change_pct_3w  confirmed_doubling_days_3w_avg3  \\\n",
       "date                                                                   \n",
       "2020-01-22                      NaN                              NaN   \n",
       "2020-01-23                      NaN                              NaN   \n",
       "2020-01-24                      NaN                              0.0   \n",
       "2020-01-25                      NaN                              0.0   \n",
       "2020-01-26                      NaN                              0.0   \n",
       "...                             ...                              ...   \n",
       "2020-05-20                     0.00                            100.0   \n",
       "2020-05-21                     0.00                            100.0   \n",
       "2020-05-22                     9.09                             75.0   \n",
       "2020-05-23                     0.00                             50.0   \n",
       "2020-05-24                     0.00                             75.0   \n",
       "\n",
       "            confirmed_active_cases  confirmed_active_cases_change  \\\n",
       "date                                                                \n",
       "2020-01-22                     NaN                            NaN   \n",
       "2020-01-23                     NaN                            NaN   \n",
       "2020-01-24                     NaN                            NaN   \n",
       "2020-01-25                     NaN                            NaN   \n",
       "2020-01-26                     NaN                            NaN   \n",
       "...                            ...                            ...   \n",
       "2020-05-20                     0.0                            0.0   \n",
       "2020-05-21                     0.0                            0.0   \n",
       "2020-05-22                     1.0                            1.0   \n",
       "2020-05-23                     1.0                            0.0   \n",
       "2020-05-24                     1.0                            0.0   \n",
       "\n",
       "            confirmed_peak_date  population_100k  confirmed_per_100k  \\\n",
       "date                                                                   \n",
       "2020-01-22                   -1              NaN                 NaN   \n",
       "2020-01-23                    0              NaN                 NaN   \n",
       "2020-01-24                    0              NaN                 NaN   \n",
       "2020-01-25                    0              NaN                 NaN   \n",
       "2020-01-26                    0              NaN                 NaN   \n",
       "...                         ...              ...                 ...   \n",
       "2020-05-20                    0              NaN                 NaN   \n",
       "2020-05-21                    0              NaN                 NaN   \n",
       "2020-05-22                    0              NaN                 NaN   \n",
       "2020-05-23                    0              NaN                 NaN   \n",
       "2020-05-24                    0              NaN                 NaN   \n",
       "\n",
       "            confirmed_change_per_100k  confirmed_active_cases_per_100k  dead  \\\n",
       "date                                                                           \n",
       "2020-01-22                        NaN                              NaN   NaN   \n",
       "2020-01-23                        NaN                              NaN   NaN   \n",
       "2020-01-24                        NaN                              NaN   NaN   \n",
       "2020-01-25                        NaN                              NaN   NaN   \n",
       "2020-01-26                        NaN                              NaN   NaN   \n",
       "...                               ...                              ...   ...   \n",
       "2020-05-20                        NaN                              NaN   7.0   \n",
       "2020-05-21                        NaN                              NaN   7.0   \n",
       "2020-05-22                        NaN                              NaN   7.0   \n",
       "2020-05-23                        NaN                              NaN   7.0   \n",
       "2020-05-24                        NaN                              NaN   7.0   \n",
       "\n",
       "            dead_change  dead_doubling_days  lethality  dead_per_100k  \\\n",
       "date                                                                    \n",
       "2020-01-22          NaN                 0.0        NaN            NaN   \n",
       "2020-01-23          NaN                 0.0        NaN            NaN   \n",
       "2020-01-24          NaN                 0.0        NaN            NaN   \n",
       "2020-01-25          NaN                 0.0        NaN            NaN   \n",
       "2020-01-26          NaN                 0.0        NaN            NaN   \n",
       "...                 ...                 ...        ...            ...   \n",
       "2020-05-20          0.0               100.0        0.0            NaN   \n",
       "2020-05-21          0.0               100.0        0.0            NaN   \n",
       "2020-05-22          0.0               100.0        0.0            NaN   \n",
       "2020-05-23          0.0               100.0        0.0            NaN   \n",
       "2020-05-24          0.0               100.0        0.0            NaN   \n",
       "\n",
       "            dead_change_per_100k            region_wb  \n",
       "date                                                   \n",
       "2020-01-22                   NaN  East Asia & Pacific  \n",
       "2020-01-23                   NaN  East Asia & Pacific  \n",
       "2020-01-24                   NaN  East Asia & Pacific  \n",
       "2020-01-25                   NaN  East Asia & Pacific  \n",
       "2020-01-26                   NaN  East Asia & Pacific  \n",
       "...                          ...                  ...  \n",
       "2020-05-20                   NaN  East Asia & Pacific  \n",
       "2020-05-21                   NaN  East Asia & Pacific  \n",
       "2020-05-22                   NaN  East Asia & Pacific  \n",
       "2020-05-23                   NaN  East Asia & Pacific  \n",
       "2020-05-24                   NaN  East Asia & Pacific  \n",
       "\n",
       "[124 rows x 21 columns]"
      ]
     },
     "execution_count": 213,
     "metadata": {},
     "output_type": "execute_result"
    }
   ],
   "source": [
    "df_jh_world.loc[df_jh_world.land.str.contains('Taiwan')]"
   ]
  },
  {
   "cell_type": "code",
   "execution_count": 239,
   "metadata": {},
   "outputs": [],
   "source": [
    "df_orig = pd.read_csv(\"data-processed/rki-reports.csv\")\n"
   ]
  },
  {
   "cell_type": "code",
   "execution_count": 240,
   "metadata": {},
   "outputs": [],
   "source": [
    "# df_orig.loc[(df_orig.date == '2020-05-24')]"
   ]
  },
  {
   "cell_type": "code",
   "execution_count": 241,
   "metadata": {},
   "outputs": [],
   "source": [
    "# df_orig.loc[(df_orig.date == '2020-05-24') & (df_orig.confirmed ==9762), 'land'] = 'Hesse'"
   ]
  },
  {
   "cell_type": "code",
   "execution_count": null,
   "metadata": {},
   "outputs": [],
   "source": []
  }
 ],
 "metadata": {
  "kernelspec": {
   "display_name": "Python 3",
   "language": "python",
   "name": "python3"
  },
  "language_info": {
   "codemirror_mode": {
    "name": "ipython",
    "version": 3
   },
   "file_extension": ".py",
   "mimetype": "text/x-python",
   "name": "python",
   "nbconvert_exporter": "python",
   "pygments_lexer": "ipython3",
   "version": "3.7.3"
  }
 },
 "nbformat": 4,
 "nbformat_minor": 4
}
