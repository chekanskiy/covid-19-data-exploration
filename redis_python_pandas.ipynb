{
 "cells": [
  {
   "cell_type": "code",
   "execution_count": 5,
   "metadata": {},
   "outputs": [],
   "source": [
    "import pandas as pd\n",
    "import numpy as np\n",
    "import json\n",
    "import datetime\n",
    "import os\n",
    "pd.set_option('display.max_columns', 50)\n",
    "pd.set_option('display.max_rows', 50)"
   ]
  },
  {
   "cell_type": "code",
   "execution_count": 48,
   "metadata": {},
   "outputs": [],
   "source": [
    "df_original_reports = pd.read_csv(\"data-processed/rki-reports.csv\")\n",
    "df_apple = pd.read_csv(\"data-processed/data_apple_prepared.csv\")\n",
    "df_rki_orig = pd.read_csv('../covid-19-dashboard/data/data_rki_apple_prepared_dash.csv')\n",
    "df_jh_world = pd.read_csv('../covid-19-dashboard/data/data_jhu_world.csv')\n",
    "# df = pd.read_csv(\"dash/data/data_rki_apple_prepared_dash.csv\")\n",
    "json_geo_de = json.load(open('../covid-19-dashboard/data/data_geo_de.json', 'r'))\n",
    "df_rki_orig['date']=df_rki_orig['date'].astype('datetime64[ns]')\n",
    "df_rki_orig.index = df_rki_orig.date\n",
    "df_jh_world['date']=df_jh_world['date'].astype('datetime64[ns]')\n",
    "df_jh_world.index = df_jh_world.date"
   ]
  },
  {
   "cell_type": "code",
   "execution_count": 49,
   "metadata": {},
   "outputs": [],
   "source": [
    "# df_original_reports #.loc[df_original_reports.date != '2020-05-28'].drop(\"Unnamed: 0\", axis=1).to_csv(\"data-processed/rki-reports.csv\", index=False)"
   ]
  },
  {
   "cell_type": "code",
   "execution_count": 50,
   "metadata": {},
   "outputs": [],
   "source": [
    "import pyarrow as pa\n",
    "import redis\n",
    "\n",
    "redis_conf = {'host': 'localhost', \"port\": 6379, 'db': 0}\n",
    "\n",
    "redis_pool = None\n",
    "\n",
    "def init():\n",
    "    global redis_pool\n",
    "    print(\"PID %d: initializing redis pool...\" % os.getpid())\n",
    "    redis_pool = redis.ConnectionPool(host=redis_conf['host'], port=redis_conf['port'], db=redis_conf['db'])\n",
    "\n",
    "def cache_df(alias,df):\n",
    "\n",
    "    cur = redis.Redis(connection_pool=redis_pool)\n",
    "    context = pa.default_serialization_context()\n",
    "    df_compressed =  context.serialize(df).to_buffer().to_pybytes()\n",
    "\n",
    "    res = cur.set(alias,df_compressed)\n",
    "    if res == True:\n",
    "        print('df cached')"
   ]
  },
  {
   "cell_type": "code",
   "execution_count": 51,
   "metadata": {},
   "outputs": [
    {
     "name": "stdout",
     "output_type": "stream",
     "text": [
      "PID 32563: initializing redis pool...\n"
     ]
    }
   ],
   "source": [
    "init()"
   ]
  },
  {
   "cell_type": "code",
   "execution_count": 54,
   "metadata": {},
   "outputs": [
    {
     "name": "stdout",
     "output_type": "stream",
     "text": [
      "df cached\n",
      "df cached\n",
      "df cached\n"
     ]
    }
   ],
   "source": [
    "cache_df('df_jh_world', df_jh_world)\n",
    "cache_df('df_rki_orig', df_rki_orig)\n",
    "cache_df('json_geo_de', json_geo_de)"
   ]
  },
  {
   "cell_type": "code",
   "execution_count": 53,
   "metadata": {},
   "outputs": [],
   "source": [
    "redis_pool.disconnect()"
   ]
  },
  {
   "cell_type": "code",
   "execution_count": 21,
   "metadata": {},
   "outputs": [],
   "source": [
    "def get_cached_df(alias):\n",
    "\n",
    "    cur = redis.Redis(connection_pool=redis_pool)\n",
    "    context = pa.default_serialization_context()\n",
    "    all_keys = [key.decode(\"utf-8\") for key in cur.keys()]\n",
    "\n",
    "    if alias in all_keys:   \n",
    "        result = cur.get(alias)\n",
    "\n",
    "        dataframe = pd.DataFrame.from_dict(context.deserialize(result))\n",
    "\n",
    "        return dataframe.copy()\n",
    "\n",
    "    return None"
   ]
  },
  {
   "cell_type": "code",
   "execution_count": 27,
   "metadata": {},
   "outputs": [],
   "source": [
    "def get_cached_json(alias):\n",
    "\n",
    "    cur = redis.Redis(connection_pool=redis_pool)\n",
    "    context = pa.default_serialization_context()\n",
    "    all_keys = [key.decode(\"utf-8\") for key in cur.keys()]\n",
    "\n",
    "    if alias in all_keys:\n",
    "        result = cur.get(alias)\n",
    "\n",
    "        json_result = context.deserialize(result)\n",
    "\n",
    "        return json_result\n",
    "\n",
    "    return None"
   ]
  },
  {
   "cell_type": "code",
   "execution_count": 22,
   "metadata": {},
   "outputs": [],
   "source": [
    "df = get_cached_df('df_jh_world')"
   ]
  },
  {
   "cell_type": "code",
   "execution_count": 23,
   "metadata": {},
   "outputs": [],
   "source": [
    "df['date'] = df['date'].astype('datetime64[ns]')"
   ]
  },
  {
   "cell_type": "code",
   "execution_count": 29,
   "metadata": {},
   "outputs": [
    {
     "data": {
      "text/plain": [
       "dict"
      ]
     },
     "execution_count": 29,
     "metadata": {},
     "output_type": "execute_result"
    }
   ],
   "source": [
    "type( get_cached_json('json_geo_de'))"
   ]
  },
  {
   "cell_type": "code",
   "execution_count": null,
   "metadata": {},
   "outputs": [],
   "source": []
  }
 ],
 "metadata": {
  "kernelspec": {
   "display_name": "Python 3",
   "language": "python",
   "name": "python3"
  },
  "language_info": {
   "codemirror_mode": {
    "name": "ipython",
    "version": 3
   },
   "file_extension": ".py",
   "mimetype": "text/x-python",
   "name": "python",
   "nbconvert_exporter": "python",
   "pygments_lexer": "ipython3",
   "version": "3.7.3"
  }
 },
 "nbformat": 4,
 "nbformat_minor": 4
}
