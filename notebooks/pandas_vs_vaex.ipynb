{
 "cells": [
  {
   "cell_type": "code",
   "execution_count": 4,
   "metadata": {},
   "outputs": [],
   "source": [
    "import pandas as pd\n",
    "import vaex as ve\n",
    "import numpy as np\n",
    "import datetime\n",
    "pd.set_option('display.max_columns', 50)\n",
    "pd.set_option('display.max_rows', 50)"
   ]
  },
  {
   "cell_type": "code",
   "execution_count": 3,
   "metadata": {},
   "outputs": [],
   "source": [
    "df_original_reports = pd.read_csv(\"data-processed/rki-reports.csv\")\n",
    "df_apple = pd.read_csv(\"data-processed/data_apple_prepared.csv\")\n",
    "df_rki_orig = pd.read_csv('dash/data/data_rki_apple_prepared_dash.csv')\n",
    "df_jh_world = pd.read_csv('dash/data/data_jhu_world.csv')\n",
    "# df = pd.read_csv(\"dash/data/data_rki_apple_prepared_dash.csv\")\n",
    "df_rki_orig['date']=df_rki_orig['date'].astype('datetime64[ns]')\n",
    "df_rki_orig.index = df_rki_orig.date\n",
    "df_jh_world['date']=df_jh_world['date'].astype('datetime64[ns]')\n",
    "df_jh_world.index = df_jh_world.date"
   ]
  },
  {
   "cell_type": "code",
   "execution_count": 13,
   "metadata": {},
   "outputs": [
    {
     "name": "stdout",
     "output_type": "stream",
     "text": [
      "CPU times: user 50.6 ms, sys: 11.4 ms, total: 62 ms\n",
      "Wall time: 66 ms\n"
     ]
    }
   ],
   "source": [
    "%%time\n",
    "df_jh_world = pd.read_csv('dash/data/data_jhu_world.csv')\n",
    "df_jh_world['date'] = df_jh_world['date'].astype('datetime64')"
   ]
  },
  {
   "cell_type": "code",
   "execution_count": 12,
   "metadata": {},
   "outputs": [
    {
     "name": "stdout",
     "output_type": "stream",
     "text": [
      "CPU times: user 75.7 ms, sys: 14.2 ms, total: 89.8 ms\n",
      "Wall time: 108 ms\n"
     ]
    }
   ],
   "source": [
    "%%time\n",
    "ve_jh_world = ve.open('dash/data/data_jhu_world.csv')\n",
    "ve_jh_world['date'] = ve_jh_world['date'].astype('datetime64')"
   ]
  },
  {
   "cell_type": "code",
   "execution_count": 7,
   "metadata": {},
   "outputs": [
    {
     "name": "stdout",
     "output_type": "stream",
     "text": [
      "CPU times: user 234 ms, sys: 10.4 ms, total: 244 ms\n",
      "Wall time: 361 ms\n"
     ]
    },
    {
     "data": {
      "text/html": [
       "<div>\n",
       "<style scoped>\n",
       "    .dataframe tbody tr th:only-of-type {\n",
       "        vertical-align: middle;\n",
       "    }\n",
       "\n",
       "    .dataframe tbody tr th {\n",
       "        vertical-align: top;\n",
       "    }\n",
       "\n",
       "    .dataframe thead th {\n",
       "        text-align: right;\n",
       "    }\n",
       "</style>\n",
       "<table border=\"1\" class=\"dataframe\">\n",
       "  <thead>\n",
       "    <tr style=\"text-align: right;\">\n",
       "      <th></th>\n",
       "      <th>sum</th>\n",
       "    </tr>\n",
       "    <tr>\n",
       "      <th>land</th>\n",
       "      <th></th>\n",
       "    </tr>\n",
       "  </thead>\n",
       "  <tbody>\n",
       "    <tr>\n",
       "      <th>Afghanistan</th>\n",
       "      <td>13658.0</td>\n",
       "    </tr>\n",
       "    <tr>\n",
       "      <th>Albania</th>\n",
       "      <td>1097.0</td>\n",
       "    </tr>\n",
       "    <tr>\n",
       "      <th>Algeria</th>\n",
       "      <td>9133.0</td>\n",
       "    </tr>\n",
       "    <tr>\n",
       "      <th>Andorra</th>\n",
       "      <td>763.0</td>\n",
       "    </tr>\n",
       "    <tr>\n",
       "      <th>Angola</th>\n",
       "      <td>80.0</td>\n",
       "    </tr>\n",
       "    <tr>\n",
       "      <th>...</th>\n",
       "      <td>...</td>\n",
       "    </tr>\n",
       "    <tr>\n",
       "      <th>Vietnam</th>\n",
       "      <td>326.0</td>\n",
       "    </tr>\n",
       "    <tr>\n",
       "      <th>West Bank and Gaza</th>\n",
       "      <td>442.0</td>\n",
       "    </tr>\n",
       "    <tr>\n",
       "      <th>Yemen</th>\n",
       "      <td>282.0</td>\n",
       "    </tr>\n",
       "    <tr>\n",
       "      <th>Zambia</th>\n",
       "      <td>1055.0</td>\n",
       "    </tr>\n",
       "    <tr>\n",
       "      <th>Zimbabwe</th>\n",
       "      <td>148.0</td>\n",
       "    </tr>\n",
       "  </tbody>\n",
       "</table>\n",
       "<p>186 rows × 1 columns</p>\n",
       "</div>"
      ],
      "text/plain": [
       "                        sum\n",
       "land                       \n",
       "Afghanistan         13658.0\n",
       "Albania              1097.0\n",
       "Algeria              9133.0\n",
       "Andorra               763.0\n",
       "Angola                 80.0\n",
       "...                     ...\n",
       "Vietnam               326.0\n",
       "West Bank and Gaza    442.0\n",
       "Yemen                 282.0\n",
       "Zambia               1055.0\n",
       "Zimbabwe              148.0\n",
       "\n",
       "[186 rows x 1 columns]"
      ]
     },
     "execution_count": 7,
     "metadata": {},
     "output_type": "execute_result"
    }
   ],
   "source": [
    "%%time\n",
    "df_jh_world.groupby(by=['land']).agg(['sum'])['confirmed_change']"
   ]
  },
  {
   "cell_type": "code",
   "execution_count": 8,
   "metadata": {},
   "outputs": [
    {
     "name": "stdout",
     "output_type": "stream",
     "text": [
      "CPU times: user 49.3 ms, sys: 13.5 ms, total: 62.8 ms\n",
      "Wall time: 86.4 ms\n"
     ]
    },
    {
     "data": {
      "text/html": [
       "<table>\n",
       "<thead>\n",
       "<tr><th>#                              </th><th>land              </th><th>confirmed_change  </th></tr>\n",
       "</thead>\n",
       "<tbody>\n",
       "<tr><td><i style='opacity: 0.6'>0</i>  </td><td>Afghanistan       </td><td>13658.0           </td></tr>\n",
       "<tr><td><i style='opacity: 0.6'>1</i>  </td><td>Albania           </td><td>1097.0            </td></tr>\n",
       "<tr><td><i style='opacity: 0.6'>2</i>  </td><td>Algeria           </td><td>9133.0            </td></tr>\n",
       "<tr><td><i style='opacity: 0.6'>3</i>  </td><td>Andorra           </td><td>763.0             </td></tr>\n",
       "<tr><td><i style='opacity: 0.6'>4</i>  </td><td>Angola            </td><td>80.0              </td></tr>\n",
       "<tr><td>...                            </td><td>...               </td><td>...               </td></tr>\n",
       "<tr><td><i style='opacity: 0.6'>181</i></td><td>Vietnam           </td><td>326.0             </td></tr>\n",
       "<tr><td><i style='opacity: 0.6'>182</i></td><td>West Bank and Gaza</td><td>442.0             </td></tr>\n",
       "<tr><td><i style='opacity: 0.6'>183</i></td><td>Yemen             </td><td>282.0             </td></tr>\n",
       "<tr><td><i style='opacity: 0.6'>184</i></td><td>Zambia            </td><td>1055.0            </td></tr>\n",
       "<tr><td><i style='opacity: 0.6'>185</i></td><td>Zimbabwe          </td><td>148.0             </td></tr>\n",
       "</tbody>\n",
       "</table>"
      ],
      "text/plain": [
       "#    land                confirmed_change\n",
       "0    Afghanistan         13658.0\n",
       "1    Albania             1097.0\n",
       "2    Algeria             9133.0\n",
       "3    Andorra             763.0\n",
       "4    Angola              80.0\n",
       "...  ...                 ...\n",
       "181  Vietnam             326.0\n",
       "182  West Bank and Gaza  442.0\n",
       "183  Yemen               282.0\n",
       "184  Zambia              1055.0\n",
       "185  Zimbabwe            148.0"
      ]
     },
     "execution_count": 8,
     "metadata": {},
     "output_type": "execute_result"
    }
   ],
   "source": [
    "%%time\n",
    "ve_jh_world['land', 'confirmed_change'].groupby(by='land', agg={'confirmed_change': 'sum'})"
   ]
  },
  {
   "cell_type": "code",
   "execution_count": 9,
   "metadata": {},
   "outputs": [],
   "source": [
    "df = df_jh_world\n",
    "aggregate_by_column = 'region_wb'\n",
    "value_column = 'confirmed_change'"
   ]
  },
  {
   "cell_type": "code",
   "execution_count": 10,
   "metadata": {},
   "outputs": [
    {
     "name": "stdout",
     "output_type": "stream",
     "text": [
      "CPU times: user 104 ms, sys: 4.28 ms, total: 108 ms\n",
      "Wall time: 149 ms\n"
     ]
    },
    {
     "data": {
      "text/html": [
       "<div>\n",
       "<style scoped>\n",
       "    .dataframe tbody tr th:only-of-type {\n",
       "        vertical-align: middle;\n",
       "    }\n",
       "\n",
       "    .dataframe tbody tr th {\n",
       "        vertical-align: top;\n",
       "    }\n",
       "\n",
       "    .dataframe thead th {\n",
       "        text-align: right;\n",
       "    }\n",
       "</style>\n",
       "<table border=\"1\" class=\"dataframe\">\n",
       "  <thead>\n",
       "    <tr style=\"text-align: right;\">\n",
       "      <th></th>\n",
       "      <th>sum</th>\n",
       "    </tr>\n",
       "    <tr>\n",
       "      <th>region_wb</th>\n",
       "      <th></th>\n",
       "    </tr>\n",
       "  </thead>\n",
       "  <tbody>\n",
       "    <tr>\n",
       "      <th>East Asia &amp; Pacific</th>\n",
       "      <td>2620.0</td>\n",
       "    </tr>\n",
       "    <tr>\n",
       "      <th>Europe &amp; Central Asia</th>\n",
       "      <td>12740.0</td>\n",
       "    </tr>\n",
       "    <tr>\n",
       "      <th>European Union</th>\n",
       "      <td>6745.0</td>\n",
       "    </tr>\n",
       "    <tr>\n",
       "      <th>Latin America &amp; Caribbean</th>\n",
       "      <td>37865.0</td>\n",
       "    </tr>\n",
       "    <tr>\n",
       "      <th>Middle East &amp; North Africa</th>\n",
       "      <td>11366.0</td>\n",
       "    </tr>\n",
       "    <tr>\n",
       "      <th>North America</th>\n",
       "      <td>25199.0</td>\n",
       "    </tr>\n",
       "    <tr>\n",
       "      <th>South Asia</th>\n",
       "      <td>14328.0</td>\n",
       "    </tr>\n",
       "    <tr>\n",
       "      <th>Sub-Saharan Africa</th>\n",
       "      <td>4410.0</td>\n",
       "    </tr>\n",
       "  </tbody>\n",
       "</table>\n",
       "</div>"
      ],
      "text/plain": [
       "                                sum\n",
       "region_wb                          \n",
       "East Asia & Pacific          2620.0\n",
       "Europe & Central Asia       12740.0\n",
       "European Union               6745.0\n",
       "Latin America & Caribbean   37865.0\n",
       "Middle East & North Africa  11366.0\n",
       "North America               25199.0\n",
       "South Asia                  14328.0\n",
       "Sub-Saharan Africa           4410.0"
      ]
     },
     "execution_count": 10,
     "metadata": {},
     "output_type": "execute_result"
    }
   ],
   "source": [
    "%%time\n",
    "df = df_jh_world\n",
    "# Aggregate most recent day's value for regions\n",
    "current_reg_df_sum = df.loc[df.date == df.date.max(), :].groupby(aggregate_by_column).agg(['sum'])[value_column]\n",
    "current_reg_df_sum"
   ]
  },
  {
   "cell_type": "code",
   "execution_count": 14,
   "metadata": {},
   "outputs": [
    {
     "name": "stdout",
     "output_type": "stream",
     "text": [
      "CPU times: user 34.8 ms, sys: 4.07 ms, total: 38.9 ms\n",
      "Wall time: 42.6 ms\n"
     ]
    },
    {
     "data": {
      "text/html": [
       "<table>\n",
       "<thead>\n",
       "<tr><th>#                            </th><th>region_wb                 </th><th style=\"text-align: right;\">  confirmed_change</th></tr>\n",
       "</thead>\n",
       "<tbody>\n",
       "<tr><td><i style='opacity: 0.6'>0</i></td><td>South Asia                </td><td style=\"text-align: right;\">             14328</td></tr>\n",
       "<tr><td><i style='opacity: 0.6'>1</i></td><td>Europe &amp; Central Asia     </td><td style=\"text-align: right;\">             12740</td></tr>\n",
       "<tr><td><i style='opacity: 0.6'>2</i></td><td>Middle East &amp; North Africa</td><td style=\"text-align: right;\">             11366</td></tr>\n",
       "<tr><td><i style='opacity: 0.6'>3</i></td><td>Sub-Saharan Africa        </td><td style=\"text-align: right;\">              4410</td></tr>\n",
       "<tr><td><i style='opacity: 0.6'>4</i></td><td>Latin America &amp; Caribbean </td><td style=\"text-align: right;\">             37865</td></tr>\n",
       "<tr><td><i style='opacity: 0.6'>5</i></td><td>East Asia &amp; Pacific       </td><td style=\"text-align: right;\">              2620</td></tr>\n",
       "<tr><td><i style='opacity: 0.6'>6</i></td><td>European Union            </td><td style=\"text-align: right;\">              6745</td></tr>\n",
       "<tr><td><i style='opacity: 0.6'>7</i></td><td>North America             </td><td style=\"text-align: right;\">             25199</td></tr>\n",
       "</tbody>\n",
       "</table>"
      ],
      "text/plain": [
       "  #  region_wb                     confirmed_change\n",
       "  0  South Asia                               14328\n",
       "  1  Europe & Central Asia                    12740\n",
       "  2  Middle East & North Africa               11366\n",
       "  3  Sub-Saharan Africa                        4410\n",
       "  4  Latin America & Caribbean                37865\n",
       "  5  East Asia & Pacific                       2620\n",
       "  6  European Union                            6745\n",
       "  7  North America                            25199"
      ]
     },
     "execution_count": 14,
     "metadata": {},
     "output_type": "execute_result"
    }
   ],
   "source": [
    "%%time\n",
    "df = ve_jh_world\n",
    "# df['date'] = df['date'].astype('datetime64')\n",
    "# Aggregate most recent day's value for regions\n",
    "current_reg_df_sum = df[df.date == np.datetime64(df.date.max())].groupby(aggregate_by_column, agg={'confirmed_change': 'sum'}) #.sort(by='confirmed_change', ascending=False)\n",
    "current_reg_df_sum\n"
   ]
  },
  {
   "cell_type": "code",
   "execution_count": 15,
   "metadata": {},
   "outputs": [
    {
     "name": "stdout",
     "output_type": "stream",
     "text": [
      "CPU times: user 35.7 ms, sys: 3.58 ms, total: 39.2 ms\n",
      "Wall time: 50.8 ms\n"
     ]
    },
    {
     "data": {
      "text/html": [
       "<table>\n",
       "<thead>\n",
       "<tr><th>#                            </th><th>region_wb                 </th><th style=\"text-align: right;\">  confirmed_change</th></tr>\n",
       "</thead>\n",
       "<tbody>\n",
       "<tr><td><i style='opacity: 0.6'>0</i></td><td>South Asia                </td><td style=\"text-align: right;\">             12261</td></tr>\n",
       "<tr><td><i style='opacity: 0.6'>1</i></td><td>Europe &amp; Central Asia     </td><td style=\"text-align: right;\">             12517</td></tr>\n",
       "<tr><td><i style='opacity: 0.6'>2</i></td><td>Middle East &amp; North Africa</td><td style=\"text-align: right;\">             10273</td></tr>\n",
       "<tr><td><i style='opacity: 0.6'>3</i></td><td>Sub-Saharan Africa        </td><td style=\"text-align: right;\">              3170</td></tr>\n",
       "<tr><td><i style='opacity: 0.6'>4</i></td><td>Latin America &amp; Caribbean </td><td style=\"text-align: right;\">             43411</td></tr>\n",
       "<tr><td><i style='opacity: 0.6'>5</i></td><td>East Asia &amp; Pacific       </td><td style=\"text-align: right;\">              1653</td></tr>\n",
       "<tr><td><i style='opacity: 0.6'>6</i></td><td>European Union            </td><td style=\"text-align: right;\">             10244</td></tr>\n",
       "<tr><td><i style='opacity: 0.6'>7</i></td><td>North America             </td><td style=\"text-align: right;\">             23564</td></tr>\n",
       "</tbody>\n",
       "</table>"
      ],
      "text/plain": [
       "  #  region_wb                     confirmed_change\n",
       "  0  South Asia                               12261\n",
       "  1  Europe & Central Asia                    12517\n",
       "  2  Middle East & North Africa               10273\n",
       "  3  Sub-Saharan Africa                        3170\n",
       "  4  Latin America & Caribbean                43411\n",
       "  5  East Asia & Pacific                       1653\n",
       "  6  European Union                           10244\n",
       "  7  North America                            23564"
      ]
     },
     "execution_count": 15,
     "metadata": {},
     "output_type": "execute_result"
    }
   ],
   "source": [
    "%%time\n",
    "# Aggregate yesterday's value for regions\n",
    "# df = df_jh_world\n",
    "# yd_reg_df_sum = df.loc[df.date == df.date.max() - timedelta(days=1), :].groupby(aggregate_by_column).agg(['sum'])[value_column]\n",
    "\n",
    "df = ve_jh_world\n",
    "yd_reg_df_sum = df[df.date == np.datetime64(df.date.max()) - np.timedelta64(1,'D') ].groupby(aggregate_by_column, agg={'confirmed_change': 'sum'}) #.sort(by='confirmed_change', ascending=False)\n",
    "yd_reg_df_sum"
   ]
  },
  {
   "cell_type": "code",
   "execution_count": 17,
   "metadata": {},
   "outputs": [
    {
     "data": {
      "text/plain": [
       "1408717.0"
      ]
     },
     "execution_count": 17,
     "metadata": {},
     "output_type": "execute_result"
    }
   ],
   "source": [
    "df = ve_jh_world\n",
    "value_column = 'confirmed'\n",
    "aggregate_by_column= 'region_wb'\n",
    "region = 'European Union'\n",
    "current_reg_df_sum = df[df.date == np.datetime64(df.date.max())].groupby(aggregate_by_column, agg={value_column: 'sum'}).sort(by=value_column, ascending=False)\n",
    "# current_reg_df_sum[current_reg_df_sum.region_wb == 'European Union']['confirmed_change']\n",
    "d = current_reg_df_sum[current_reg_df_sum.region_wb == region][value_column]\n",
    "d.tolist()[0]"
   ]
  },
  {
   "cell_type": "code",
   "execution_count": null,
   "metadata": {},
   "outputs": [],
   "source": []
  }
 ],
 "metadata": {
  "kernelspec": {
   "display_name": "Python 3",
   "language": "python",
   "name": "python3"
  },
  "language_info": {
   "codemirror_mode": {
    "name": "ipython",
    "version": 3
   },
   "file_extension": ".py",
   "mimetype": "text/x-python",
   "name": "python",
   "nbconvert_exporter": "python",
   "pygments_lexer": "ipython3",
   "version": "3.7.3"
  }
 },
 "nbformat": 4,
 "nbformat_minor": 4
}
