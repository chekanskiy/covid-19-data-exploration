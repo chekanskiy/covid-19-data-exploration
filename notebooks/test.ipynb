{
 "cells": [
  {
   "cell_type": "code",
   "execution_count": 5,
   "metadata": {},
   "outputs": [
    {
     "name": "stdout",
     "output_type": "stream",
     "text": [
      "The autoreload extension is already loaded. To reload it, use:\n",
      "  %reload_ext autoreload\n"
     ]
    }
   ],
   "source": [
    "import pandas as pd\n",
    "import geopandas as gpd\n",
    "import json\n",
    "import numpy as np\n",
    "import datetime\n",
    "import plotly\n",
    "import os\n",
    "from plotly import graph_objects as go\n",
    "pd.set_option('display.max_columns', 50)\n",
    "pd.set_option('display.max_rows', 50)\n",
    "import matplotlib.pyplot as plt\n",
    "plt.rcParams.update({'figure.max_open_warning': 0})\n",
    "\n",
    "%load_ext autoreload\n",
    "%matplotlib inline"
   ]
  },
  {
   "cell_type": "code",
   "execution_count": 8,
   "metadata": {},
   "outputs": [
    {
     "name": "stdout",
     "output_type": "stream",
     "text": [
      "\u001b[34mcovid-19-JHU CSSE\u001b[m\u001b[m           \u001b[34mdocker-airflow\u001b[m\u001b[m\n",
      "\u001b[34mcovid-19-dashboard\u001b[m\u001b[m          \u001b[34mfirst-order-model\u001b[m\u001b[m\n",
      "\u001b[34mcovid-19-data\u001b[m\u001b[m               \u001b[34mkafka-docker\u001b[m\u001b[m\n",
      "\u001b[34mcovid-19-exploration\u001b[m\u001b[m        \u001b[34mspark-on-docker\u001b[m\u001b[m\n",
      "\u001b[34mcovid-19-great-expectations\u001b[m\u001b[m \u001b[34mstreaming-qa\u001b[m\u001b[m\n"
     ]
    }
   ],
   "source": [
    "!ls ../.."
   ]
  },
  {
   "cell_type": "code",
   "execution_count": 9,
   "metadata": {},
   "outputs": [],
   "source": [
    "df_original_reports = pd.read_csv(\"../data-processed/rki-reports.csv\")\n",
    "df_apple = pd.read_csv(\"../data-processed/data_apple_prepared.csv\")\n",
    "df_rki_orig = pd.read_csv('../../covid-19-dashboard/data/data_rki_apple_prepared_dash.csv')\n",
    "df_jh_world = pd.read_csv('../../covid-19-dashboard/data/data_jhu_world.csv')\n",
    "# df = pd.read_csv(\"dash/data/data_rki_apple_prepared_dash.csv\")\n",
    "df_rki_orig['date']=df_rki_orig['date'].astype('datetime64[ns]')\n",
    "df_rki_orig.index = df_rki_orig.date\n",
    "df_jh_world['date']=df_jh_world['date'].astype('datetime64[ns]')\n",
    "df_jh_world.index = df_jh_world.date"
   ]
  },
  {
   "cell_type": "code",
   "execution_count": 737,
   "metadata": {},
   "outputs": [],
   "source": [
    "# df_original_reports #.loc[df_original_reports.date != '2020-05-28'].drop(\"Unnamed: 0\", axis=1).to_csv(\"data-processed/rki-reports.csv\", index=False)"
   ]
  },
  {
   "cell_type": "code",
   "execution_count": 194,
   "metadata": {},
   "outputs": [
    {
     "data": {
      "text/plain": [
       "Index(['date_index', 'date', 'land', 'confirmed', 'dead', 'name', 'iso_code',\n",
       "       'capital', 'area', 'population', 'confirmed_avg3', 'confirmed_change',\n",
       "       'confirmed_change_avg3', 'confirmed_change_3w', 'confirmed_change_pct',\n",
       "       'confirmed_change_pct_avg3', 'confirmed_change_pct_3w',\n",
       "       'confirmed_doubling_days', 'confirmed_doubling_days_3w',\n",
       "       'confirmed_doubling_days_avg3', 'confirmed_doubling_days_3w_avg3',\n",
       "       'confirmed_active_cases', 'confirmed_active_cases_change',\n",
       "       'confirmed_peak_log', 'confirmed_peak_date', 'confirmed_day_since_10',\n",
       "       'population_100k', 'confirmed_per_100k', 'confirmed_change_per_100k',\n",
       "       'confirmed_active_cases_per_100k',\n",
       "       'confirmed_active_cases_change_per_100k', 'dead_avg3', 'dead_change',\n",
       "       'dead_change_avg3', 'dead_change_3w', 'dead_change_pct',\n",
       "       'dead_change_pct_avg3', 'dead_change_pct_3w', 'dead_doubling_days',\n",
       "       'dead_doubling_days_3w', 'dead_doubling_days_avg3',\n",
       "       'dead_doubling_days_3w_avg3', 'dead_day_since_10', 'dead_per_100k',\n",
       "       'dead_change_per_100k'],\n",
       "      dtype='object')"
      ]
     },
     "execution_count": 194,
     "metadata": {},
     "output_type": "execute_result"
    }
   ],
   "source": [
    "df_orig.columns"
   ]
  },
  {
   "cell_type": "code",
   "execution_count": 3,
   "metadata": {},
   "outputs": [
    {
     "data": {
      "text/plain": [
       "date\n",
       "2020-03-04      3\n",
       "2020-04-19    585\n",
       "Name: confirmed, dtype: int64"
      ]
     },
     "execution_count": 3,
     "metadata": {},
     "output_type": "execute_result"
    }
   ],
   "source": [
    "l = 'Bremen'\n",
    "column = 'confirmed'\n",
    "peak_index = df.loc[(df.land == l) & (df['confirmed_peak_date'] == -1), column].index.tolist()\n",
    "df.loc[(df.index.isin(peak_index)) & (df.land == l), column]"
   ]
  },
  {
   "cell_type": "code",
   "execution_count": null,
   "metadata": {},
   "outputs": [],
   "source": []
  }
 ],
 "metadata": {
  "kernelspec": {
   "display_name": "Python 3",
   "language": "python",
   "name": "python3"
  },
  "language_info": {
   "codemirror_mode": {
    "name": "ipython",
    "version": 3
   },
   "file_extension": ".py",
   "mimetype": "text/x-python",
   "name": "python",
   "nbconvert_exporter": "python",
   "pygments_lexer": "ipython3",
   "version": "3.7.3"
  }
 },
 "nbformat": 4,
 "nbformat_minor": 4
}
